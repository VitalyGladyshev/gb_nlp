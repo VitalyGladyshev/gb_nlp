{
  "nbformat": 4,
  "nbformat_minor": 0,
  "metadata": {
    "colab": {
      "name": "HW_07_NLP.ipynb",
      "provenance": [],
      "collapsed_sections": [],
      "authorship_tag": "ABX9TyM+H6zhlMNLL3vZNEpy6QKz",
      "include_colab_link": true
    },
    "kernelspec": {
      "name": "python3",
      "display_name": "Python 3"
    },
    "accelerator": "GPU"
  },
  "cells": [
    {
      "cell_type": "markdown",
      "metadata": {
        "id": "view-in-github",
        "colab_type": "text"
      },
      "source": [
        "<a href=\"https://colab.research.google.com/github/VitalyGladyshev/gb_nlp/blob/main/HW_07_NLP.ipynb\" target=\"_parent\"><img src=\"https://colab.research.google.com/assets/colab-badge.svg\" alt=\"Open In Colab\"/></a>"
      ]
    },
    {
      "cell_type": "markdown",
      "metadata": {
        "id": "IQkkL6OvH2my"
      },
      "source": [
        "# ДЗ 07 NLP"
      ]
    },
    {
      "cell_type": "markdown",
      "metadata": {
        "id": "eHZzyB4EH6si"
      },
      "source": [
        "## Задание 1"
      ]
    },
    {
      "cell_type": "markdown",
      "metadata": {
        "id": "vIRpYVZlIHgk"
      },
      "source": [
        "Переделать генерацию текста по символам в генерацию по словам"
      ]
    },
    {
      "cell_type": "code",
      "metadata": {
        "id": "beWQE20YHakl"
      },
      "source": [
        "import numpy as np\n",
        "import tensorflow as tf\n",
        "import string\n",
        "from tqdm import tqdm\n",
        "import os"
      ],
      "execution_count": 1,
      "outputs": []
    },
    {
      "cell_type": "code",
      "metadata": {
        "id": "cvqjdxWAJrVV",
        "outputId": "86b2d8a7-a189-4803-b8b7-a7f95ed3635a",
        "colab": {
          "base_uri": "https://localhost:8080/"
        }
      },
      "source": [
        "from google.colab import drive\n",
        "drive.mount('/content/gdrive')"
      ],
      "execution_count": 2,
      "outputs": [
        {
          "output_type": "stream",
          "text": [
            "Mounted at /content/gdrive\n"
          ],
          "name": "stdout"
        }
      ]
    },
    {
      "cell_type": "code",
      "metadata": {
        "id": "66m7XmBZJrig",
        "outputId": "d9ced8d6-fe21-4073-c132-9e889f2e7510",
        "colab": {
          "base_uri": "https://localhost:8080/"
        }
      },
      "source": [
        "%cd \"./gdrive/My Drive/Colab Notebooks/NLP/\""
      ],
      "execution_count": 3,
      "outputs": [
        {
          "output_type": "stream",
          "text": [
            "/content/gdrive/My Drive/Colab Notebooks/NLP\n"
          ],
          "name": "stdout"
        }
      ]
    },
    {
      "cell_type": "code",
      "metadata": {
        "id": "mJ1A0fw5Jro0",
        "outputId": "ea9d1d86-22cd-4ee9-f6f5-c3cd3998dec0",
        "colab": {
          "base_uri": "https://localhost:8080/"
        }
      },
      "source": [
        "path_to_file = 'evgenyi_onegin.txt'\n",
        "\n",
        "# text = open(path_to_file, 'rb').read().decode(encoding='utf-8')\n",
        "# # length of text is the number of characters in it\n",
        "# print('Length of text: {} characters'.format(len(text)))\n",
        "\n",
        "vocab = set()\n",
        "vocab.add(\"\\n\")\n",
        "vocab.add(\".\")\n",
        "vocab.add(\",\")\n",
        "with open(path_to_file, \"r\", encoding='utf-8', errors='ignore') as f:\n",
        "    for line in tqdm(f):\n",
        "        line = ''.join([ch for ch in list(line) if ch not in string.punctuation])\n",
        "        words = line.lower().strip().split(\" \")\n",
        "        for word in words:\n",
        "            vocab.add(word)"
      ],
      "execution_count": 4,
      "outputs": [
        {
          "output_type": "stream",
          "text": [
            "6505it [00:00, 23597.72it/s]\n"
          ],
          "name": "stderr"
        }
      ]
    },
    {
      "cell_type": "code",
      "metadata": {
        "id": "mB4WtsczJ851",
        "outputId": "e509a5a4-23b3-48ec-bc7f-d2dd3bc2650f",
        "colab": {
          "base_uri": "https://localhost:8080/"
        }
      },
      "source": [
        "\"\\n\" in vocab"
      ],
      "execution_count": 5,
      "outputs": [
        {
          "output_type": "execute_result",
          "data": {
            "text/plain": [
              "True"
            ]
          },
          "metadata": {
            "tags": []
          },
          "execution_count": 5
        }
      ]
    },
    {
      "cell_type": "code",
      "metadata": {
        "id": "kuWW_MZ5KXwN"
      },
      "source": [
        "word2vec = {}\n",
        "idx2word = np.array(list(vocab))\n",
        "\n",
        "for i, word in enumerate(vocab):\n",
        "    word2vec[word] = i"
      ],
      "execution_count": 6,
      "outputs": []
    },
    {
      "cell_type": "code",
      "metadata": {
        "id": "Q2GX4wzsL48R",
        "outputId": "370ebab8-4e91-48d1-b912-dea189754bc9",
        "colab": {
          "base_uri": "https://localhost:8080/"
        }
      },
      "source": [
        "word2vec[\"\\n\"], word2vec[\".\"], idx2word[word2vec[\".\"]]"
      ],
      "execution_count": 7,
      "outputs": [
        {
          "output_type": "execute_result",
          "data": {
            "text/plain": [
              "(6975, 1710, '.')"
            ]
          },
          "metadata": {
            "tags": []
          },
          "execution_count": 7
        }
      ]
    },
    {
      "cell_type": "code",
      "metadata": {
        "id": "_JmUzN3iInY4",
        "outputId": "17b8aea6-990a-4b14-f524-77cd3e476164",
        "colab": {
          "base_uri": "https://localhost:8080/"
        }
      },
      "source": [
        "text_as_int = []\n",
        "with open(path_to_file, \"r\", encoding='utf-8', errors='ignore') as f:\n",
        "    for line in tqdm(f):\n",
        "        words = line.lower().strip().split(\" \")\n",
        "        for word in words:\n",
        "            point, comma = False, False\n",
        "            if \",\" in word:\n",
        "                comma = True\n",
        "            if \".\" in word:\n",
        "                point = True\n",
        "            word = ''.join([ch for ch in list(word) if ch not in string.punctuation])\n",
        "            text_as_int.append(word2vec[word])\n",
        "            if comma:\n",
        "                text_as_int.append(word2vec[\",\"])\n",
        "            if point:\n",
        "                text_as_int.append(word2vec[\".\"])\n",
        "        text_as_int.append(word2vec[\"\\n\"])"
      ],
      "execution_count": 8,
      "outputs": [
        {
          "output_type": "stream",
          "text": [
            "6505it [00:00, 109866.62it/s]\n"
          ],
          "name": "stderr"
        }
      ]
    },
    {
      "cell_type": "code",
      "metadata": {
        "id": "5ETUqOooOrLe",
        "outputId": "ae57ae20-e368-4d54-b75f-d299d58b9988",
        "colab": {
          "base_uri": "https://localhost:8080/"
        }
      },
      "source": [
        "text_as_int[:15]"
      ],
      "execution_count": 9,
      "outputs": [
        {
          "output_type": "execute_result",
          "data": {
            "text/plain": [
              "[2537,\n",
              " 3652,\n",
              " 6890,\n",
              " 6975,\n",
              " 0,\n",
              " 6975,\n",
              " 3934,\n",
              " 2717,\n",
              " 6975,\n",
              " 6210,\n",
              " 2768,\n",
              " 4618,\n",
              " 6975,\n",
              " 0,\n",
              " 6975]"
            ]
          },
          "metadata": {
            "tags": []
          },
          "execution_count": 9
        }
      ]
    },
    {
      "cell_type": "code",
      "metadata": {
        "id": "d5i7DFk-PYAh",
        "outputId": "a3b1b6f8-a5da-423f-c58c-48f472b5d382",
        "colab": {
          "base_uri": "https://localhost:8080/"
        }
      },
      "source": [
        "len(text_as_int)"
      ],
      "execution_count": 10,
      "outputs": [
        {
          "output_type": "execute_result",
          "data": {
            "text/plain": [
              "35895"
            ]
          },
          "metadata": {
            "tags": []
          },
          "execution_count": 10
        }
      ]
    },
    {
      "cell_type": "markdown",
      "metadata": {
        "id": "ZL2xuU7cVLSA"
      },
      "source": [
        "### train and target"
      ]
    },
    {
      "cell_type": "code",
      "metadata": {
        "id": "1HR7e97LTN9L",
        "outputId": "a0967ee8-a8f0-4027-8289-146fa5aaebcd",
        "colab": {
          "base_uri": "https://localhost:8080/"
        }
      },
      "source": [
        "# The maximum length sentence you want for a single input in characters\n",
        "seq_length = 100\n",
        "examples_per_epoch = len(text_as_int)//(seq_length+1)\n",
        "\n",
        "# Create training examples / targets\n",
        "word_dataset = tf.data.Dataset.from_tensor_slices(text_as_int)\n",
        "\n",
        "for i in word_dataset.take(25):\n",
        "    print(idx2word[i.numpy()])"
      ],
      "execution_count": 11,
      "outputs": [
        {
          "output_type": "stream",
          "text": [
            "александр\n",
            "сергеевич\n",
            "пушкин\n",
            "\n",
            "\n",
            "\n",
            "\n",
            "\n",
            "евгений\n",
            "онегин\n",
            "\n",
            "\n",
            "роман\n",
            "в\n",
            "стихах\n",
            "\n",
            "\n",
            "\n",
            "\n",
            "\n",
            "не\n",
            "мысля\n",
            "гордый\n",
            "свет\n",
            "забавить\n",
            ",\n",
            "\n",
            "\n",
            "вниманье\n",
            "дружбы\n",
            "возлюбя\n"
          ],
          "name": "stdout"
        }
      ]
    },
    {
      "cell_type": "code",
      "metadata": {
        "id": "nbys5UXnTOLH",
        "outputId": "f3938c8a-31e0-46b6-8acf-ae1945be1f04",
        "colab": {
          "base_uri": "https://localhost:8080/"
        }
      },
      "source": [
        "sequences = word_dataset.batch(seq_length+1, drop_remainder=True)\n",
        "sequences"
      ],
      "execution_count": 12,
      "outputs": [
        {
          "output_type": "execute_result",
          "data": {
            "text/plain": [
              "<BatchDataset shapes: (101,), types: tf.int32>"
            ]
          },
          "metadata": {
            "tags": []
          },
          "execution_count": 12
        }
      ]
    },
    {
      "cell_type": "code",
      "metadata": {
        "id": "HQaWLdakTOWc",
        "outputId": "29cf5d02-89a7-4264-82fd-be173d4f4f5a",
        "colab": {
          "base_uri": "https://localhost:8080/"
        }
      },
      "source": [
        "for item in sequences.take(3):\n",
        "    # print(idx2word[item.numpy().astype(int)])\n",
        "    print(' '.join(idx2word[item.numpy()]))"
      ],
      "execution_count": 13,
      "outputs": [
        {
          "output_type": "stream",
          "text": [
            "александр сергеевич пушкин \n",
            "  \n",
            " евгений онегин \n",
            " роман в стихах \n",
            "  \n",
            " не мысля гордый свет забавить , \n",
            " вниманье дружбы возлюбя , \n",
            " хотел бы я тебе представить \n",
            " залог достойнее тебя , \n",
            " достойнее души прекрасной , \n",
            " святой исполненной мечты , \n",
            " поэзии живой и ясной , \n",
            " высоких дум и простоты \n",
            " но так и быть  рукой пристрастной \n",
            " прими собранье пестрых глав , \n",
            " полусмешных , полупечальных , \n",
            " простонародных , идеальных , \n",
            " небрежный плод моих забав , \n",
            " бессонниц , легких вдохновений , \n",
            " незрелых и увядших лет , \n",
            "\n",
            "ума холодных наблюдений \n",
            " и сердца горестных замет . \n",
            "  \n",
            " глава первая \n",
            "  \n",
            " и жить торопится и чувствовать спешит . \n",
            " кн . вяземский . \n",
            "  \n",
            " i \n",
            "  \n",
            " мой дядя самых честных правил , \n",
            " когда не в шутку занемог , \n",
            " он уважать себя заставил \n",
            " и лучше выдумать не мог . \n",
            " его пример другим наука \n",
            " но , боже мой , какая скука \n",
            " с больным сидеть и день и ночь , \n",
            " не отходя ни шагу прочь \n",
            " какое низкое коварство \n",
            " полуживого забавлять , \n",
            " ему подушки поправлять\n",
            ", \n",
            " печально подносить лекарство , \n",
            " вздыхать и думать про себя \n",
            " когда же черт возьмет тебя \n",
            "  \n",
            " ii \n",
            "  \n",
            " так думал молодой повеса , \n",
            " летя в пыли на почтовых , \n",
            " всевышней волею зевеса \n",
            " наследник всех своих родных . \n",
            " друзья людмилы и руслана \n",
            " с героем моего романа \n",
            " без предисловий , сей же час \n",
            " позвольте познакомить вас \n",
            " онегин , добрый мой приятель , \n",
            " родился на брегах невы , \n",
            " где , может быть , родились вы \n",
            " или блистали , мой читатель \n",
            " там некогда гулял и я\n"
          ],
          "name": "stdout"
        }
      ]
    },
    {
      "cell_type": "code",
      "metadata": {
        "id": "ItokyHhQTOTH"
      },
      "source": [
        "def split_input_target(chunk):\n",
        "    input_text = chunk[:-1]\n",
        "    target_text = chunk[1:]\n",
        "    return input_text, target_text\n",
        "\n",
        "dataset = sequences.map(split_input_target)"
      ],
      "execution_count": 14,
      "outputs": []
    },
    {
      "cell_type": "code",
      "metadata": {
        "id": "z1rh9uXZTOPu",
        "outputId": "fc1acdb4-d364-451e-82b5-ad74abd77948",
        "colab": {
          "base_uri": "https://localhost:8080/"
        }
      },
      "source": [
        "for input_example, target_example in  dataset.take(1):\n",
        "    print('Input data: ', repr(' '.join(idx2word[input_example.numpy()])))\n",
        "    print('Target data:', repr(' '.join(idx2word[target_example.numpy()])))"
      ],
      "execution_count": 15,
      "outputs": [
        {
          "output_type": "stream",
          "text": [
            "Input data:  'александр сергеевич пушкин \\n  \\n евгений онегин \\n роман в стихах \\n  \\n не мысля гордый свет забавить , \\n вниманье дружбы возлюбя , \\n хотел бы я тебе представить \\n залог достойнее тебя , \\n достойнее души прекрасной , \\n святой исполненной мечты , \\n поэзии живой и ясной , \\n высоких дум и простоты \\n но так и быть  рукой пристрастной \\n прими собранье пестрых глав , \\n полусмешных , полупечальных , \\n простонародных , идеальных , \\n небрежный плод моих забав , \\n бессонниц , легких вдохновений , \\n незрелых и увядших лет ,'\n",
            "Target data: 'сергеевич пушкин \\n  \\n евгений онегин \\n роман в стихах \\n  \\n не мысля гордый свет забавить , \\n вниманье дружбы возлюбя , \\n хотел бы я тебе представить \\n залог достойнее тебя , \\n достойнее души прекрасной , \\n святой исполненной мечты , \\n поэзии живой и ясной , \\n высоких дум и простоты \\n но так и быть  рукой пристрастной \\n прими собранье пестрых глав , \\n полусмешных , полупечальных , \\n простонародных , идеальных , \\n небрежный плод моих забав , \\n бессонниц , легких вдохновений , \\n незрелых и увядших лет , \\n'\n"
          ],
          "name": "stdout"
        }
      ]
    },
    {
      "cell_type": "code",
      "metadata": {
        "id": "aDD5glVTeMCm",
        "outputId": "2d233ccd-6536-4be0-ace1-13cfa5e8cf38",
        "colab": {
          "base_uri": "https://localhost:8080/"
        }
      },
      "source": [
        "# Batch size\n",
        "BATCH_SIZE = 64\n",
        "\n",
        "# Buffer size to shuffle the dataset\n",
        "# (TF data is designed to work with possibly infinite sequences,\n",
        "# so it doesn't attempt to shuffle the entire sequence in memory. Instead,\n",
        "# it maintains a buffer in which it shuffles elements).\n",
        "BUFFER_SIZE = 10000\n",
        "\n",
        "dataset = dataset.shuffle(BUFFER_SIZE).batch(BATCH_SIZE, drop_remainder=True)\n",
        "\n",
        "dataset"
      ],
      "execution_count": 16,
      "outputs": [
        {
          "output_type": "execute_result",
          "data": {
            "text/plain": [
              "<BatchDataset shapes: ((64, 100), (64, 100)), types: (tf.int32, tf.int32)>"
            ]
          },
          "metadata": {
            "tags": []
          },
          "execution_count": 16
        }
      ]
    },
    {
      "cell_type": "code",
      "metadata": {
        "id": "gx6MbhsleL_F"
      },
      "source": [
        "# Length of the vocabulary in chars\n",
        "vocab_size = len(vocab)\n",
        "\n",
        "# The embedding dimension\n",
        "embedding_dim = 256\n",
        "\n",
        "# Number of RNN units\n",
        "rnn_units = 1024"
      ],
      "execution_count": 17,
      "outputs": []
    },
    {
      "cell_type": "code",
      "metadata": {
        "id": "v-SJmi4SeL61"
      },
      "source": [
        "def build_model(vocab_size, embedding_dim, rnn_units, batch_size):\n",
        "    model = tf.keras.Sequential([\n",
        "        tf.keras.layers.Embedding(vocab_size, embedding_dim,\n",
        "                                  batch_input_shape=[batch_size, None]),\n",
        "        tf.keras.layers.GRU(rnn_units,\n",
        "                            return_sequences=True,\n",
        "                            stateful=True,\n",
        "                            recurrent_initializer='glorot_uniform'),\n",
        "        tf.keras.layers.Dense(vocab_size)\n",
        "    ])\n",
        "    return model"
      ],
      "execution_count": 18,
      "outputs": []
    },
    {
      "cell_type": "code",
      "metadata": {
        "id": "QQ2-g8S-eL2Q"
      },
      "source": [
        "model = build_model(\n",
        "            vocab_size=len(vocab),\n",
        "            embedding_dim=embedding_dim,\n",
        "            rnn_units=rnn_units,\n",
        "            batch_size=BATCH_SIZE)"
      ],
      "execution_count": 19,
      "outputs": []
    },
    {
      "cell_type": "code",
      "metadata": {
        "id": "-OiH4FKUeqb5",
        "outputId": "289dfe78-36dd-441d-baf9-c65fb5694570",
        "colab": {
          "base_uri": "https://localhost:8080/"
        }
      },
      "source": [
        "for input_example_batch, target_example_batch in dataset.take(1):\n",
        "    example_batch_predictions = model(input_example_batch)\n",
        "    print(example_batch_predictions.shape, \"# (batch_size, sequence_length, vocab_size)\")"
      ],
      "execution_count": 20,
      "outputs": [
        {
          "output_type": "stream",
          "text": [
            "(64, 100, 8566) # (batch_size, sequence_length, vocab_size)\n"
          ],
          "name": "stdout"
        }
      ]
    },
    {
      "cell_type": "code",
      "metadata": {
        "id": "glJ_U9fDeq1-",
        "outputId": "cca1042b-e1a8-4fa3-da4f-2540631323ab",
        "colab": {
          "base_uri": "https://localhost:8080/"
        }
      },
      "source": [
        "model.summary()"
      ],
      "execution_count": 21,
      "outputs": [
        {
          "output_type": "stream",
          "text": [
            "Model: \"sequential\"\n",
            "_________________________________________________________________\n",
            "Layer (type)                 Output Shape              Param #   \n",
            "=================================================================\n",
            "embedding (Embedding)        (64, None, 256)           2192896   \n",
            "_________________________________________________________________\n",
            "gru (GRU)                    (64, None, 1024)          3938304   \n",
            "_________________________________________________________________\n",
            "dense (Dense)                (64, None, 8566)          8780150   \n",
            "=================================================================\n",
            "Total params: 14,911,350\n",
            "Trainable params: 14,911,350\n",
            "Non-trainable params: 0\n",
            "_________________________________________________________________\n"
          ],
          "name": "stdout"
        }
      ]
    },
    {
      "cell_type": "code",
      "metadata": {
        "id": "l8ZhSWaFeqyE"
      },
      "source": [
        "sampled_indices = tf.random.categorical(example_batch_predictions[0], num_samples=1)\n",
        "sampled_indices = tf.squeeze(sampled_indices,axis=-1).numpy()"
      ],
      "execution_count": 22,
      "outputs": []
    },
    {
      "cell_type": "code",
      "metadata": {
        "id": "VdCKm1EreqYd",
        "outputId": "0b339b63-9c29-40f7-fa9b-9c87806398d5",
        "colab": {
          "base_uri": "https://localhost:8080/"
        }
      },
      "source": [
        "print(\"Input: \\n\", repr(\" \".join(idx2word[input_example_batch[0]])))\n",
        "print()\n",
        "print(\"Next Char Predictions: \\n\", repr(\" \".join(idx2word[sampled_indices ])))"
      ],
      "execution_count": 23,
      "outputs": [
        {
          "output_type": "stream",
          "text": [
            "Input: \n",
            " 'то воля неба я твоя \\n вся жизнь моя была залогом \\n свиданья верного с тобой \\n я знаю , ты мне послан богом , \\n до гроба ты хранитель мой . \\n ты в сновиденьях мне являлся \\n незримый , ты мне был уж мил , \\n твой чудный взгляд меня томил , \\n в душе твой голос раздавался \\n давно . нет , это был не сон \\n ты чуть вошел , я вмиг узнала , \\n вся обомлела , запылала \\n и в мыслях молвила вот он \\n не правда ль я тебя слыхала \\n ты говорил'\n",
            "\n",
            "Next Char Predictions: \n",
            " 'непонятна печальным забор трубок тетки взбесить маню приехал наши возьми ces послан целовать целя обморок закону медалью прихотливый чуждо общественное рисуя сегодня певец тряслися воротник моим свесть охоты днем олигархических восторгов семьей найдено погрузился сие исполнены беспокоилась утренний способен демоном харитонья волшебному тишине звон уходит невольник усердие езда пустяков писать клоками предузнав модный утреннем видит non румянец невинность чуть эклога слабый хвалить дурака значенье изменять восторженную нетерпеливому стариков xxiv головы показался туз рассудка пошлый урною службы привычный бесчувствием вкус лжет настала благородный бородатый заметить мальчиком слезы заманите слезой сиживал грибы страшных богдановича поздно светит жду вбегает никого играет шикать силится'\n"
          ],
          "name": "stdout"
        }
      ]
    },
    {
      "cell_type": "markdown",
      "metadata": {
        "id": "q9k2o4JXfgRX"
      },
      "source": [
        "## Train the model"
      ]
    },
    {
      "cell_type": "code",
      "metadata": {
        "id": "WIckccnoeqUo",
        "outputId": "8576f49c-39c6-4d7b-d274-d65309cb154d",
        "colab": {
          "base_uri": "https://localhost:8080/"
        }
      },
      "source": [
        "def loss(labels, logits):\n",
        "    return tf.keras.losses.sparse_categorical_crossentropy(labels, logits, from_logits=True)\n",
        "\n",
        "example_batch_loss = loss(target_example_batch, example_batch_predictions)\n",
        "print(\"Prediction shape: \", example_batch_predictions.shape, \" # (batch_size, sequence_length, vocab_size)\")\n",
        "print(\"scalar_loss:      \", example_batch_loss.numpy().mean())"
      ],
      "execution_count": 24,
      "outputs": [
        {
          "output_type": "stream",
          "text": [
            "Prediction shape:  (64, 100, 8566)  # (batch_size, sequence_length, vocab_size)\n",
            "scalar_loss:       9.055292\n"
          ],
          "name": "stdout"
        }
      ]
    },
    {
      "cell_type": "code",
      "metadata": {
        "id": "SF6rTAlSeqQS"
      },
      "source": [
        "model.compile(optimizer='adam', loss=loss)"
      ],
      "execution_count": 25,
      "outputs": []
    },
    {
      "cell_type": "markdown",
      "metadata": {
        "id": "X-7GChnqfv-Q"
      },
      "source": [
        "### Configure checkpoints"
      ]
    },
    {
      "cell_type": "code",
      "metadata": {
        "id": "fdVEju50eqMI"
      },
      "source": [
        "# Directory where the checkpoints will be saved\n",
        "checkpoint_dir = './training_checkpoints'\n",
        "# Name of the checkpoint files\n",
        "checkpoint_prefix = os.path.join(checkpoint_dir, \"ckpt_{epoch}\")\n",
        "\n",
        "checkpoint_callback = tf.keras.callbacks.ModelCheckpoint(\n",
        "    filepath=checkpoint_prefix,\n",
        "    save_weights_only=True)"
      ],
      "execution_count": 26,
      "outputs": []
    },
    {
      "cell_type": "markdown",
      "metadata": {
        "id": "x_ndqGyHgIqn"
      },
      "source": [
        "### Execute the training"
      ]
    },
    {
      "cell_type": "code",
      "metadata": {
        "id": "y4giUglmeqIx"
      },
      "source": [
        "EPOCHS = 200"
      ],
      "execution_count": 27,
      "outputs": []
    },
    {
      "cell_type": "code",
      "metadata": {
        "id": "z_ehxp-ngFS5",
        "outputId": "88e2b534-bc9b-4595-f895-bb6749d5b9d3",
        "colab": {
          "base_uri": "https://localhost:8080/"
        }
      },
      "source": [
        "history = model.fit(dataset, epochs=EPOCHS, callbacks=[checkpoint_callback])"
      ],
      "execution_count": 28,
      "outputs": [
        {
          "output_type": "stream",
          "text": [
            "Epoch 1/200\n",
            "5/5 [==============================] - 1s 277ms/step - loss: 8.9231\n",
            "Epoch 2/200\n",
            "5/5 [==============================] - 2s 352ms/step - loss: 6.4932\n",
            "Epoch 3/200\n",
            "5/5 [==============================] - 1s 248ms/step - loss: 6.2706\n",
            "Epoch 4/200\n",
            "5/5 [==============================] - 1s 263ms/step - loss: 6.1984\n",
            "Epoch 5/200\n",
            "5/5 [==============================] - 1s 276ms/step - loss: 6.1515\n",
            "Epoch 6/200\n",
            "5/5 [==============================] - 1s 291ms/step - loss: 6.1051\n",
            "Epoch 7/200\n",
            "5/5 [==============================] - 1s 245ms/step - loss: 6.0675\n",
            "Epoch 8/200\n",
            "5/5 [==============================] - 1s 260ms/step - loss: 5.9805\n",
            "Epoch 9/200\n",
            "5/5 [==============================] - 3s 519ms/step - loss: 5.9293\n",
            "Epoch 10/200\n",
            "5/5 [==============================] - 1s 255ms/step - loss: 5.8399\n",
            "Epoch 11/200\n",
            "5/5 [==============================] - 1s 255ms/step - loss: 5.7459\n",
            "Epoch 12/200\n",
            "5/5 [==============================] - 10s 2s/step - loss: 5.6339\n",
            "Epoch 13/200\n",
            "5/5 [==============================] - 1s 264ms/step - loss: 5.5705\n",
            "Epoch 14/200\n",
            "5/5 [==============================] - 1s 275ms/step - loss: 5.4413\n",
            "Epoch 15/200\n",
            "5/5 [==============================] - 8s 2s/step - loss: 5.3443\n",
            "Epoch 16/200\n",
            "5/5 [==============================] - 1s 289ms/step - loss: 5.2408\n",
            "Epoch 17/200\n",
            "5/5 [==============================] - 9s 2s/step - loss: 5.1673\n",
            "Epoch 18/200\n",
            "5/5 [==============================] - 4s 854ms/step - loss: 5.0880\n",
            "Epoch 19/200\n",
            "5/5 [==============================] - 1s 280ms/step - loss: 4.9993\n",
            "Epoch 20/200\n",
            "5/5 [==============================] - 2s 372ms/step - loss: 4.9216\n",
            "Epoch 21/200\n",
            "5/5 [==============================] - 10s 2s/step - loss: 4.8576\n",
            "Epoch 22/200\n",
            "5/5 [==============================] - 1s 272ms/step - loss: 4.7702\n",
            "Epoch 23/200\n",
            "5/5 [==============================] - 1s 269ms/step - loss: 4.7354\n",
            "Epoch 24/200\n",
            "5/5 [==============================] - 10s 2s/step - loss: 4.6352\n",
            "Epoch 25/200\n",
            "5/5 [==============================] - 1s 271ms/step - loss: 4.5515\n",
            "Epoch 26/200\n",
            "5/5 [==============================] - 1s 272ms/step - loss: 4.4778\n",
            "Epoch 27/200\n",
            "5/5 [==============================] - 10s 2s/step - loss: 4.3976\n",
            "Epoch 28/200\n",
            "5/5 [==============================] - 1s 283ms/step - loss: 4.3353\n",
            "Epoch 29/200\n",
            "5/5 [==============================] - 2s 421ms/step - loss: 4.2649\n",
            "Epoch 30/200\n",
            "5/5 [==============================] - 9s 2s/step - loss: 4.1945\n",
            "Epoch 31/200\n",
            "5/5 [==============================] - 1s 275ms/step - loss: 4.1199\n",
            "Epoch 32/200\n",
            "5/5 [==============================] - 2s 446ms/step - loss: 4.0428\n",
            "Epoch 33/200\n",
            "5/5 [==============================] - 9s 2s/step - loss: 3.9652\n",
            "Epoch 34/200\n",
            "5/5 [==============================] - 1s 275ms/step - loss: 3.8596\n",
            "Epoch 35/200\n",
            "5/5 [==============================] - 3s 598ms/step - loss: 3.8050\n",
            "Epoch 36/200\n",
            "5/5 [==============================] - 9s 2s/step - loss: 3.7216\n",
            "Epoch 37/200\n",
            "5/5 [==============================] - 21s 4s/step - loss: 3.6492\n",
            "Epoch 38/200\n",
            "5/5 [==============================] - 21s 4s/step - loss: 3.5563\n",
            "Epoch 39/200\n",
            "5/5 [==============================] - 9s 2s/step - loss: 3.4722\n",
            "Epoch 40/200\n",
            "5/5 [==============================] - 1s 285ms/step - loss: 3.3954\n",
            "Epoch 41/200\n",
            "5/5 [==============================] - 1s 286ms/step - loss: 3.3299\n",
            "Epoch 42/200\n",
            "5/5 [==============================] - 1s 292ms/step - loss: 3.2250\n",
            "Epoch 43/200\n",
            "5/5 [==============================] - 1s 292ms/step - loss: 3.1476\n",
            "Epoch 44/200\n",
            "5/5 [==============================] - 1s 286ms/step - loss: 3.0559\n",
            "Epoch 45/200\n",
            "5/5 [==============================] - 2s 384ms/step - loss: 2.9902\n",
            "Epoch 46/200\n",
            "5/5 [==============================] - 1s 284ms/step - loss: 2.8952\n",
            "Epoch 47/200\n",
            "5/5 [==============================] - 2s 378ms/step - loss: 2.8203\n",
            "Epoch 48/200\n",
            "5/5 [==============================] - 3s 533ms/step - loss: 2.7384\n",
            "Epoch 49/200\n",
            "5/5 [==============================] - 1s 275ms/step - loss: 2.6673\n",
            "Epoch 50/200\n",
            "5/5 [==============================] - 2s 424ms/step - loss: 2.5795\n",
            "Epoch 51/200\n",
            "5/5 [==============================] - 9s 2s/step - loss: 2.5066\n",
            "Epoch 52/200\n",
            "5/5 [==============================] - 1s 290ms/step - loss: 2.4197\n",
            "Epoch 53/200\n",
            "5/5 [==============================] - 1s 277ms/step - loss: 2.3584\n",
            "Epoch 54/200\n",
            "5/5 [==============================] - 10s 2s/step - loss: 2.2823\n",
            "Epoch 55/200\n",
            "5/5 [==============================] - 1s 288ms/step - loss: 2.1976\n",
            "Epoch 56/200\n",
            "5/5 [==============================] - 1s 279ms/step - loss: 2.1303\n",
            "Epoch 57/200\n",
            "5/5 [==============================] - 6s 1s/step - loss: 2.0613\n",
            "Epoch 58/200\n",
            "5/5 [==============================] - 4s 751ms/step - loss: 1.9997\n",
            "Epoch 59/200\n",
            "5/5 [==============================] - 3s 606ms/step - loss: 1.9208\n",
            "Epoch 60/200\n",
            "5/5 [==============================] - 6s 1s/step - loss: 1.8705\n",
            "Epoch 61/200\n",
            "5/5 [==============================] - 7s 1s/step - loss: 1.8145\n",
            "Epoch 62/200\n",
            "5/5 [==============================] - 2s 316ms/step - loss: 1.7598\n",
            "Epoch 63/200\n",
            "5/5 [==============================] - 4s 880ms/step - loss: 1.6961\n",
            "Epoch 64/200\n",
            "5/5 [==============================] - 3s 631ms/step - loss: 1.6369\n",
            "Epoch 65/200\n",
            "5/5 [==============================] - 9s 2s/step - loss: 1.5920\n",
            "Epoch 66/200\n",
            "5/5 [==============================] - 1s 282ms/step - loss: 1.5419\n",
            "Epoch 67/200\n",
            "5/5 [==============================] - 2s 418ms/step - loss: 1.4822\n",
            "Epoch 68/200\n",
            "5/5 [==============================] - 9s 2s/step - loss: 1.4335\n",
            "Epoch 69/200\n",
            "5/5 [==============================] - 1s 296ms/step - loss: 1.3917\n",
            "Epoch 70/200\n",
            "5/5 [==============================] - 1s 286ms/step - loss: 1.3340\n",
            "Epoch 71/200\n",
            "5/5 [==============================] - 10s 2s/step - loss: 1.3067\n",
            "Epoch 72/200\n",
            "5/5 [==============================] - 5s 967ms/step - loss: 1.2504\n",
            "Epoch 73/200\n",
            "5/5 [==============================] - 5s 965ms/step - loss: 1.2145\n",
            "Epoch 74/200\n",
            "5/5 [==============================] - 3s 622ms/step - loss: 1.1728\n",
            "Epoch 75/200\n",
            "5/5 [==============================] - 1s 284ms/step - loss: 1.1427\n",
            "Epoch 76/200\n",
            "5/5 [==============================] - 2s 303ms/step - loss: 1.1046\n",
            "Epoch 77/200\n",
            "5/5 [==============================] - 10s 2s/step - loss: 1.0617\n",
            "Epoch 78/200\n",
            "5/5 [==============================] - 1s 283ms/step - loss: 1.0170\n",
            "Epoch 79/200\n",
            "5/5 [==============================] - 1s 288ms/step - loss: 0.9828\n",
            "Epoch 80/200\n",
            "5/5 [==============================] - 10s 2s/step - loss: 0.9572\n",
            "Epoch 81/200\n",
            "5/5 [==============================] - 1s 283ms/step - loss: 0.9290\n",
            "Epoch 82/200\n",
            "5/5 [==============================] - 2s 443ms/step - loss: 0.8897\n",
            "Epoch 83/200\n",
            "5/5 [==============================] - 9s 2s/step - loss: 0.8635\n",
            "Epoch 84/200\n",
            "5/5 [==============================] - 1s 288ms/step - loss: 0.8293\n",
            "Epoch 85/200\n",
            "5/5 [==============================] - 7s 1s/step - loss: 0.8031\n",
            "Epoch 86/200\n",
            "5/5 [==============================] - 1s 298ms/step - loss: 0.7735\n",
            "Epoch 87/200\n",
            "5/5 [==============================] - 1s 287ms/step - loss: 0.7472\n",
            "Epoch 88/200\n",
            "5/5 [==============================] - 9s 2s/step - loss: 0.7204\n",
            "Epoch 89/200\n",
            "5/5 [==============================] - 1s 288ms/step - loss: 0.6913\n",
            "Epoch 90/200\n",
            "5/5 [==============================] - 3s 560ms/step - loss: 0.6706\n",
            "Epoch 91/200\n",
            "5/5 [==============================] - 8s 2s/step - loss: 0.6435\n",
            "Epoch 92/200\n",
            "5/5 [==============================] - 1s 294ms/step - loss: 0.6246\n",
            "Epoch 93/200\n",
            "5/5 [==============================] - 2s 350ms/step - loss: 0.5997\n",
            "Epoch 94/200\n",
            "5/5 [==============================] - 10s 2s/step - loss: 0.5832\n",
            "Epoch 95/200\n",
            "5/5 [==============================] - 1s 293ms/step - loss: 0.5524\n",
            "Epoch 96/200\n",
            "5/5 [==============================] - 1s 282ms/step - loss: 0.5392\n",
            "Epoch 97/200\n",
            "5/5 [==============================] - 10s 2s/step - loss: 0.5184\n",
            "Epoch 98/200\n",
            "5/5 [==============================] - 1s 288ms/step - loss: 0.5015\n",
            "Epoch 99/200\n",
            "5/5 [==============================] - 7s 1s/step - loss: 0.4823\n",
            "Epoch 100/200\n",
            "5/5 [==============================] - 1s 293ms/step - loss: 0.4623\n",
            "Epoch 101/200\n",
            "5/5 [==============================] - 2s 452ms/step - loss: 0.4472\n",
            "Epoch 102/200\n",
            "5/5 [==============================] - 9s 2s/step - loss: 0.4383\n",
            "Epoch 103/200\n",
            "5/5 [==============================] - 1s 287ms/step - loss: 0.4218\n",
            "Epoch 104/200\n",
            "5/5 [==============================] - 2s 301ms/step - loss: 0.4061\n",
            "Epoch 105/200\n",
            "5/5 [==============================] - 10s 2s/step - loss: 0.3878\n",
            "Epoch 106/200\n",
            "5/5 [==============================] - 6s 1s/step - loss: 0.3771\n",
            "Epoch 107/200\n",
            "5/5 [==============================] - 4s 768ms/step - loss: 0.3597\n",
            "Epoch 108/200\n",
            "5/5 [==============================] - 3s 633ms/step - loss: 0.3450\n",
            "Epoch 109/200\n",
            "5/5 [==============================] - 1s 293ms/step - loss: 0.3375\n",
            "Epoch 110/200\n",
            "5/5 [==============================] - 8s 2s/step - loss: 0.3260\n",
            "Epoch 111/200\n",
            "5/5 [==============================] - 7s 1s/step - loss: 0.3137\n",
            "Epoch 112/200\n",
            "5/5 [==============================] - 3s 531ms/step - loss: 0.3031\n",
            "Epoch 113/200\n",
            "5/5 [==============================] - 2s 451ms/step - loss: 0.2942\n",
            "Epoch 114/200\n",
            "5/5 [==============================] - 1s 285ms/step - loss: 0.2847\n",
            "Epoch 115/200\n",
            "5/5 [==============================] - 7s 1s/step - loss: 0.2756\n",
            "Epoch 116/200\n",
            "5/5 [==============================] - 1s 289ms/step - loss: 0.2669\n",
            "Epoch 117/200\n",
            "5/5 [==============================] - 7s 1s/step - loss: 0.2616\n",
            "Epoch 118/200\n",
            "5/5 [==============================] - 4s 855ms/step - loss: 0.2549\n",
            "Epoch 119/200\n",
            "5/5 [==============================] - 1s 296ms/step - loss: 0.2434\n",
            "Epoch 120/200\n",
            "5/5 [==============================] - 2s 376ms/step - loss: 0.2329\n",
            "Epoch 121/200\n",
            "5/5 [==============================] - 9s 2s/step - loss: 0.2336\n",
            "Epoch 122/200\n",
            "5/5 [==============================] - 1s 295ms/step - loss: 0.2243\n",
            "Epoch 123/200\n",
            "5/5 [==============================] - 8s 2s/step - loss: 0.2139\n",
            "Epoch 124/200\n",
            "5/5 [==============================] - 4s 861ms/step - loss: 0.2104\n",
            "Epoch 125/200\n",
            "5/5 [==============================] - 1s 285ms/step - loss: 0.2041\n",
            "Epoch 126/200\n",
            "5/5 [==============================] - 2s 383ms/step - loss: 0.2010\n",
            "Epoch 127/200\n",
            "5/5 [==============================] - 6s 1s/step - loss: 0.1925\n",
            "Epoch 128/200\n",
            "5/5 [==============================] - 2s 469ms/step - loss: 0.1856\n",
            "Epoch 129/200\n",
            "5/5 [==============================] - 9s 2s/step - loss: 0.1820\n",
            "Epoch 130/200\n",
            "5/5 [==============================] - 2s 301ms/step - loss: 0.1814\n",
            "Epoch 131/200\n",
            "5/5 [==============================] - 3s 555ms/step - loss: 0.1713\n",
            "Epoch 132/200\n",
            "5/5 [==============================] - 9s 2s/step - loss: 0.1692\n",
            "Epoch 133/200\n",
            "5/5 [==============================] - 1s 288ms/step - loss: 0.1615\n",
            "Epoch 134/200\n",
            "5/5 [==============================] - 1s 287ms/step - loss: 0.1585\n",
            "Epoch 135/200\n",
            "5/5 [==============================] - 10s 2s/step - loss: 0.1566\n",
            "Epoch 136/200\n",
            "5/5 [==============================] - 1s 296ms/step - loss: 0.1538\n",
            "Epoch 137/200\n",
            "5/5 [==============================] - 7s 1s/step - loss: 0.1541\n",
            "Epoch 138/200\n",
            "5/5 [==============================] - 4s 856ms/step - loss: 0.1484\n",
            "Epoch 139/200\n",
            "5/5 [==============================] - 1s 286ms/step - loss: 0.1442\n",
            "Epoch 140/200\n",
            "5/5 [==============================] - 1s 286ms/step - loss: 0.1412\n",
            "Epoch 141/200\n",
            "5/5 [==============================] - 10s 2s/step - loss: 0.1371\n",
            "Epoch 142/200\n",
            "5/5 [==============================] - 1s 284ms/step - loss: 0.1330\n",
            "Epoch 143/200\n",
            "5/5 [==============================] - 7s 1s/step - loss: 0.1344\n",
            "Epoch 144/200\n",
            "5/5 [==============================] - 1s 288ms/step - loss: 0.1301\n",
            "Epoch 145/200\n",
            "5/5 [==============================] - 1s 289ms/step - loss: 0.1271\n",
            "Epoch 146/200\n",
            "5/5 [==============================] - 10s 2s/step - loss: 0.1235\n",
            "Epoch 147/200\n",
            "5/5 [==============================] - 1s 290ms/step - loss: 0.1233\n",
            "Epoch 148/200\n",
            "5/5 [==============================] - 3s 504ms/step - loss: 0.1177\n",
            "Epoch 149/200\n",
            "5/5 [==============================] - 9s 2s/step - loss: 0.1200\n",
            "Epoch 150/200\n",
            "5/5 [==============================] - 1s 293ms/step - loss: 0.1179\n",
            "Epoch 151/200\n",
            "5/5 [==============================] - 2s 418ms/step - loss: 0.1142\n",
            "Epoch 152/200\n",
            "5/5 [==============================] - 9s 2s/step - loss: 0.1145\n",
            "Epoch 153/200\n",
            "5/5 [==============================] - 1s 287ms/step - loss: 0.1130\n",
            "Epoch 154/200\n",
            "5/5 [==============================] - 2s 380ms/step - loss: 0.1085\n",
            "Epoch 155/200\n",
            "5/5 [==============================] - 10s 2s/step - loss: 0.1062\n",
            "Epoch 156/200\n",
            "5/5 [==============================] - 1s 290ms/step - loss: 0.1043\n",
            "Epoch 157/200\n",
            "5/5 [==============================] - 7s 1s/step - loss: 0.1064\n",
            "Epoch 158/200\n",
            "5/5 [==============================] - 4s 858ms/step - loss: 0.1016\n",
            "Epoch 159/200\n",
            "5/5 [==============================] - 1s 285ms/step - loss: 0.0983\n",
            "Epoch 160/200\n",
            "5/5 [==============================] - 7s 1s/step - loss: 0.1004\n",
            "Epoch 161/200\n",
            "5/5 [==============================] - 1s 291ms/step - loss: 0.0995\n",
            "Epoch 162/200\n",
            "5/5 [==============================] - 2s 340ms/step - loss: 0.0999\n",
            "Epoch 163/200\n",
            "5/5 [==============================] - 8s 2s/step - loss: 0.0951\n",
            "Epoch 164/200\n",
            "5/5 [==============================] - 1s 290ms/step - loss: 0.0966\n",
            "Epoch 165/200\n",
            "5/5 [==============================] - 7s 1s/step - loss: 0.0918\n",
            "Epoch 166/200\n",
            "5/5 [==============================] - 6s 1s/step - loss: 0.0917\n",
            "Epoch 167/200\n",
            "5/5 [==============================] - 1s 289ms/step - loss: 0.0932\n",
            "Epoch 168/200\n",
            "5/5 [==============================] - 2s 467ms/step - loss: 0.0926\n",
            "Epoch 169/200\n",
            "5/5 [==============================] - 9s 2s/step - loss: 0.0899\n",
            "Epoch 170/200\n",
            "5/5 [==============================] - 1s 297ms/step - loss: 0.0882\n",
            "Epoch 171/200\n",
            "5/5 [==============================] - 2s 448ms/step - loss: 0.0872\n",
            "Epoch 172/200\n",
            "5/5 [==============================] - 14s 3s/step - loss: 0.0827\n",
            "Epoch 173/200\n",
            "5/5 [==============================] - 10s 2s/step - loss: 0.0843\n",
            "Epoch 174/200\n",
            "5/5 [==============================] - 2s 418ms/step - loss: 0.0815\n",
            "Epoch 175/200\n",
            "5/5 [==============================] - 1s 299ms/step - loss: 0.0829\n",
            "Epoch 176/200\n",
            "5/5 [==============================] - 1s 293ms/step - loss: 0.0791\n",
            "Epoch 177/200\n",
            "5/5 [==============================] - 2s 360ms/step - loss: 0.0833\n",
            "Epoch 178/200\n",
            "5/5 [==============================] - 2s 307ms/step - loss: 0.0801\n",
            "Epoch 179/200\n",
            "5/5 [==============================] - 2s 346ms/step - loss: 0.0794\n",
            "Epoch 180/200\n",
            "5/5 [==============================] - 10s 2s/step - loss: 0.0795\n",
            "Epoch 181/200\n",
            "5/5 [==============================] - 1s 295ms/step - loss: 0.0774\n",
            "Epoch 182/200\n",
            "5/5 [==============================] - 2s 422ms/step - loss: 0.0776\n",
            "Epoch 183/200\n",
            "5/5 [==============================] - 5s 1s/step - loss: 0.0762\n",
            "Epoch 184/200\n",
            "5/5 [==============================] - 2s 458ms/step - loss: 0.0750\n",
            "Epoch 185/200\n",
            "5/5 [==============================] - 4s 815ms/step - loss: 0.0741\n",
            "Epoch 186/200\n",
            "5/5 [==============================] - 6s 1s/step - loss: 0.0743\n",
            "Epoch 187/200\n",
            "5/5 [==============================] - 3s 532ms/step - loss: 0.0742\n",
            "Epoch 188/200\n",
            "5/5 [==============================] - 10s 2s/step - loss: 0.0721\n",
            "Epoch 189/200\n",
            "5/5 [==============================] - 1s 294ms/step - loss: 0.0714\n",
            "Epoch 190/200\n",
            "5/5 [==============================] - 1s 286ms/step - loss: 0.0726\n",
            "Epoch 191/200\n",
            "5/5 [==============================] - 9s 2s/step - loss: 0.0693\n",
            "Epoch 192/200\n",
            "5/5 [==============================] - 1s 296ms/step - loss: 0.0714\n",
            "Epoch 193/200\n",
            "5/5 [==============================] - 2s 348ms/step - loss: 0.0674\n",
            "Epoch 194/200\n",
            "5/5 [==============================] - 8s 2s/step - loss: 0.0678\n",
            "Epoch 195/200\n",
            "5/5 [==============================] - 1s 298ms/step - loss: 0.0716\n",
            "Epoch 196/200\n",
            "5/5 [==============================] - 8s 2s/step - loss: 0.0697\n",
            "Epoch 197/200\n",
            "5/5 [==============================] - 5s 1s/step - loss: 0.0678\n",
            "Epoch 198/200\n",
            "5/5 [==============================] - 1s 284ms/step - loss: 0.0696\n",
            "Epoch 199/200\n",
            "5/5 [==============================] - 2s 302ms/step - loss: 0.0667\n",
            "Epoch 200/200\n",
            "5/5 [==============================] - 9s 2s/step - loss: 0.0650\n"
          ],
          "name": "stdout"
        }
      ]
    },
    {
      "cell_type": "markdown",
      "metadata": {
        "id": "lROQgIgagSQf"
      },
      "source": [
        "## Generate text"
      ]
    },
    {
      "cell_type": "code",
      "metadata": {
        "id": "AHzu33uTgFk-",
        "outputId": "19a567cc-2c6c-4db7-ed16-3f3c1d168468",
        "colab": {
          "base_uri": "https://localhost:8080/",
          "height": 35
        }
      },
      "source": [
        "tf.train.latest_checkpoint(checkpoint_dir)"
      ],
      "execution_count": 29,
      "outputs": [
        {
          "output_type": "execute_result",
          "data": {
            "application/vnd.google.colaboratory.intrinsic+json": {
              "type": "string"
            },
            "text/plain": [
              "'./training_checkpoints/ckpt_200'"
            ]
          },
          "metadata": {
            "tags": []
          },
          "execution_count": 29
        }
      ]
    },
    {
      "cell_type": "code",
      "metadata": {
        "id": "g_gW3JG2gFsP"
      },
      "source": [
        "model = build_model(vocab_size, embedding_dim, rnn_units, batch_size=1)\n",
        "\n",
        "model.load_weights(tf.train.latest_checkpoint(checkpoint_dir))\n",
        "\n",
        "model.build(tf.TensorShape([1, None]))"
      ],
      "execution_count": 30,
      "outputs": []
    },
    {
      "cell_type": "code",
      "metadata": {
        "id": "CR52OpxjhLmB",
        "outputId": "eb86a7ae-42a7-407d-a1c8-4569bb8543c1",
        "colab": {
          "base_uri": "https://localhost:8080/"
        }
      },
      "source": [
        "model.summary()"
      ],
      "execution_count": 31,
      "outputs": [
        {
          "output_type": "stream",
          "text": [
            "Model: \"sequential_1\"\n",
            "_________________________________________________________________\n",
            "Layer (type)                 Output Shape              Param #   \n",
            "=================================================================\n",
            "embedding_1 (Embedding)      (1, None, 256)            2192896   \n",
            "_________________________________________________________________\n",
            "gru_1 (GRU)                  (1, None, 1024)           3938304   \n",
            "_________________________________________________________________\n",
            "dense_1 (Dense)              (1, None, 8566)           8780150   \n",
            "=================================================================\n",
            "Total params: 14,911,350\n",
            "Trainable params: 14,911,350\n",
            "Non-trainable params: 0\n",
            "_________________________________________________________________\n"
          ],
          "name": "stdout"
        }
      ]
    },
    {
      "cell_type": "code",
      "metadata": {
        "id": "WSQsEf4dhLf-"
      },
      "source": [
        "def generate_text(model, start_string):\n",
        "    # Evaluation step (generating text using the learned model)\n",
        "\n",
        "    # Number of characters to generate\n",
        "    num_generate = 500\n",
        "\n",
        "    # Converting our start string to numbers (vectorizing)\n",
        "    input_eval = []\n",
        "\n",
        "    words = start_string.lower().strip().split(\" \")\n",
        "    for word in words:\n",
        "        point, comma = False, False\n",
        "        if \",\" in word:\n",
        "            comma = True\n",
        "        if \".\" in word:\n",
        "            point = True\n",
        "        word = ''.join([ch for ch in list(word) if ch not in string.punctuation])\n",
        "        input_eval.append(word2vec[word])\n",
        "        if comma:\n",
        "            input_eval.append(word2vec[\",\"])\n",
        "        if point:\n",
        "            input_eval.append(word2vec[\".\"])\n",
        "    # input_eval = [word2vec[s] for s in start_string]\n",
        "    input_eval = tf.expand_dims(input_eval, 0)\n",
        "\n",
        "    # Empty string to store our results\n",
        "    text_generated = []\n",
        "\n",
        "    # Low temperature results in more predictable text.\n",
        "    # Higher temperature results in more surprising text.\n",
        "    # Experiment to find the best setting.\n",
        "    temperature = 0.5\n",
        "\n",
        "    # Here batch size == 1\n",
        "    model.reset_states()\n",
        "    for i in range(num_generate):\n",
        "        predictions = model(input_eval)\n",
        "        predictions = tf.squeeze(predictions, 0)\n",
        "        # using a categorical distribution to predict the character returned by the model\n",
        "        predictions = predictions / temperature\n",
        "        predicted_id = tf.random.categorical(predictions, num_samples=1)[-1, 0].numpy()\n",
        "\n",
        "        # Pass the predicted character as the next input to the model\n",
        "        # along with the previous hidden state\n",
        "        input_eval = tf.expand_dims([predicted_id], 0)\n",
        "\n",
        "        text_generated.append(idx2word[predicted_id])\n",
        "\n",
        "    return (start_string + ' '.join(text_generated))"
      ],
      "execution_count": 37,
      "outputs": []
    },
    {
      "cell_type": "code",
      "metadata": {
        "id": "pbhps08qhLZB",
        "outputId": "3d689898-fa93-40a5-f365-9b90499a3065",
        "colab": {
          "base_uri": "https://localhost:8080/"
        }
      },
      "source": [
        "start_string = u\"Уж небо осенью дышало, \\\n",
        "Уж реже солнышко блистало, \\\n",
        "Короче становился день,\"\n",
        "\n",
        "\n",
        "print(generate_text(model, start_string=start_string))"
      ],
      "execution_count": 40,
      "outputs": [
        {
          "output_type": "stream",
          "text": [
            "Уж небо осенью дышало, Уж реже солнышко блистало, Короче становился день,благом плечу брегам плечу плечу удовольствием руке лаковым настоящем барами большом колено ручью впившийся последней удовольствием барами письмах моде почте мере работам солнцем плечу свету видом моде настоящем видом вольному волнами барами плечу последней колено брусничною удовольствием удовольствием колено вами холма мненью барами плечу плечу ляжку ручью брегам плечу плечу плечу ученым конце плечу воспоминаний конце удовольствием тверской моде ним колено родственным моде чинам плечу моде пошлых родственным шумящею плечу плечу темноте удовольствием почте ручью удовольствием окном плечу удовольствием восточной плечу удовольствием удовольствием юностью видом чинам плечу брусничною мере плечу плечу последней плечу родственным плечу наказу барами ручью алтарем дурачки последней конце петербургской шумящею книгах моде окном плечу последней мере почте плечу последней плечу суд последней балтическим волнами моде изумленьем восточной плечу мере колено трепетаньем мере брусничною плечу залу последней мере моде почте удовольствием волнами плечу плечу залу плечу последней лону расчисленью плечу возках барами барами глупого гордой плечу холма моде куклою плечу плечу моде соседстве мере моде последней шумящею плечу имени плечу настоящем мере напрасной удовольствием родственным мере чинам плечу плечу барами плечу работам последней шумящею шумящею плечу чинам последней мере удовольствием плечу барами плечу родственным мере плечу родственным плечу плечу последней плечу шумящею мере трепетом видом мере плечу плачем плечу родственным плечу моде плечу плечу петербургской плечу работам шумящею мере моде дурачки почте шумящею мере удовольствием плечу плечу почте мере моде плечу плечу работам удовольствием родственным почте шумящею наказу плечу плечу последней шумящею шумящею плечу шумящею вольному колено вами брусничною шумящею видом зеркалами ручью барами плечу плечу моде брусничною барами почте невою мере темноте плечу каким мере изумленьем почте померкшею плечу холма лимбургским наказу куклою глупого работам плечу работам удовольствием холма плечу плечу работам ручью крайней шумящею лаковым шумящею скату точностью мере волнами шумящею волнами барами плечу шумящею небу чинам почте алтаре удовольствием мере огонь плечу последней плечу родственным лону плечу моде почте плечу плечу мере плечу ручью цветникам плечу плечу плечу увядшем удовольствием плечу темноте плечу моде плечу плечу родственным родственным скату почте вольному кувшином мере родственным удовольствием суд моде плечу работам последней плечу почте плечу родственным плечу шумящею шумящею наказу удовольствием колено плечу моде плечу моде увядшем плечу острыми почте чинам первыми мере почте плечу родственным плечу шумящею плечу моде брусничною мере родственным лугам брусничною шумящею шумящею барами плечу плечу шумящею бутылке моде темноте шумящею плечу удовольствием видом глупого плечу моде почте последней удовольствием плечу родственным наказу плечу алтарем огонь шумящею наказу плечу удовольствием почте морем гордостью плечу оглавленье мере петербургской плечу моде плечу моде почте мере чинам плечу яблочной родственным шумящею плечу брегам залу шумящею плечу последней плечу вольному плечу плечу плечу мере плечу плечу скату мере плечу ними шумящею плечу увядшем удовольствием почте мере почте шумящею бездействии плечу дремлющей скату мере мере волнами почте увядшем гордостью померкшею барами почте моде родственным плечу плечу плечу тайною бильярде волнами плечу шумящею мраморным последней шумящею плечу увядшем плечу шумящею мере плечу петербургской плечу почте плечу моде моде колено окном моде недвижною шумящею шумящею удовольствием аллею последней тверской шумящею шумящею мере родственным тайною бильярде плечу залу моде плечу\n"
          ],
          "name": "stdout"
        }
      ]
    },
    {
      "cell_type": "markdown",
      "metadata": {
        "id": "HSxwK0o2H_fs"
      },
      "source": [
        "## Задание 2"
      ]
    },
    {
      "cell_type": "markdown",
      "metadata": {
        "id": "BNNHuvw3H_s0"
      },
      "source": [
        "Запустить seq2seq, seq2seq с внимаием для перевода русских слов + описать наблюдения по качеству"
      ]
    },
    {
      "cell_type": "code",
      "metadata": {
        "id": "sGedX9hbIIIn"
      },
      "source": [
        ""
      ],
      "execution_count": null,
      "outputs": []
    }
  ]
}