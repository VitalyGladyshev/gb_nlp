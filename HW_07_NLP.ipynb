{
  "nbformat": 4,
  "nbformat_minor": 0,
  "metadata": {
    "colab": {
      "name": "HW_07_NLP.ipynb",
      "provenance": [],
      "collapsed_sections": [],
      "authorship_tag": "ABX9TyP7OFuS2wbnnOSNNPeCOsxW",
      "include_colab_link": true
    },
    "kernelspec": {
      "name": "python3",
      "display_name": "Python 3"
    }
  },
  "cells": [
    {
      "cell_type": "markdown",
      "metadata": {
        "id": "view-in-github",
        "colab_type": "text"
      },
      "source": [
        "<a href=\"https://colab.research.google.com/github/VitalyGladyshev/gb_nlp/blob/main/HW_07_NLP.ipynb\" target=\"_parent\"><img src=\"https://colab.research.google.com/assets/colab-badge.svg\" alt=\"Open In Colab\"/></a>"
      ]
    },
    {
      "cell_type": "markdown",
      "metadata": {
        "id": "IQkkL6OvH2my"
      },
      "source": [
        "# ДЗ 07 NLP"
      ]
    },
    {
      "cell_type": "markdown",
      "metadata": {
        "id": "eHZzyB4EH6si"
      },
      "source": [
        "## Задание 1"
      ]
    },
    {
      "cell_type": "markdown",
      "metadata": {
        "id": "vIRpYVZlIHgk"
      },
      "source": [
        "Переделать генерацию текста по символам в генерацию по словам"
      ]
    },
    {
      "cell_type": "code",
      "metadata": {
        "id": "beWQE20YHakl"
      },
      "source": [
        "import numpy as np\n",
        "import tensorflow as tf"
      ],
      "execution_count": 1,
      "outputs": []
    },
    {
      "cell_type": "code",
      "metadata": {
        "id": "cvqjdxWAJrVV",
        "outputId": "ffc4168d-dc1e-4c7d-e83d-67a461422ada",
        "colab": {
          "base_uri": "https://localhost:8080/"
        }
      },
      "source": [
        "from google.colab import drive\n",
        "drive.mount('/content/gdrive')"
      ],
      "execution_count": 2,
      "outputs": [
        {
          "output_type": "stream",
          "text": [
            "Mounted at /content/gdrive\n"
          ],
          "name": "stdout"
        }
      ]
    },
    {
      "cell_type": "code",
      "metadata": {
        "id": "66m7XmBZJrig",
        "outputId": "9be2b428-7abc-4e8d-91d2-131ce8913d9d",
        "colab": {
          "base_uri": "https://localhost:8080/"
        }
      },
      "source": [
        "%cd \"./gdrive/My Drive/Colab Notebooks/NLP/\""
      ],
      "execution_count": 3,
      "outputs": [
        {
          "output_type": "stream",
          "text": [
            "/content/gdrive/My Drive/Colab Notebooks/NLP\n"
          ],
          "name": "stdout"
        }
      ]
    },
    {
      "cell_type": "code",
      "metadata": {
        "id": "mJ1A0fw5Jro0",
        "outputId": "0c48cae0-4358-43c3-dc13-9a61b2ecbc4a",
        "colab": {
          "base_uri": "https://localhost:8080/"
        }
      },
      "source": [
        "path_to_file = 'evgenyi_onegin.txt'\n",
        "\n",
        "# text = open(path_to_file, 'rb').read().decode(encoding='utf-8')\n",
        "# # length of text is the number of characters in it\n",
        "# print('Length of text: {} characters'.format(len(text)))"
      ],
      "execution_count": 4,
      "outputs": [
        {
          "output_type": "stream",
          "text": [
            "Length of text: 286984 characters\n"
          ],
          "name": "stdout"
        }
      ]
    },
    {
      "cell_type": "code",
      "metadata": {
        "id": "mB4WtsczJ851"
      },
      "source": [
        ""
      ],
      "execution_count": null,
      "outputs": []
    },
    {
      "cell_type": "markdown",
      "metadata": {
        "id": "HSxwK0o2H_fs"
      },
      "source": [
        "## Задание 2"
      ]
    },
    {
      "cell_type": "markdown",
      "metadata": {
        "id": "BNNHuvw3H_s0"
      },
      "source": [
        "Запустить seq2seq, seq2seq с внимаием для перевода русских слов + описать наблюдения по качеству"
      ]
    },
    {
      "cell_type": "code",
      "metadata": {
        "id": "sGedX9hbIIIn"
      },
      "source": [
        ""
      ],
      "execution_count": null,
      "outputs": []
    }
  ]
}