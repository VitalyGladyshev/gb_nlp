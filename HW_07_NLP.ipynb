{
  "nbformat": 4,
  "nbformat_minor": 0,
  "metadata": {
    "colab": {
      "name": "HW_07_NLP.ipynb",
      "provenance": [],
      "collapsed_sections": [],
      "authorship_tag": "ABX9TyMSxJ/pg+ytgg0Bmqg6vPnJ",
      "include_colab_link": true
    },
    "kernelspec": {
      "name": "python3",
      "display_name": "Python 3"
    },
    "accelerator": "GPU"
  },
  "cells": [
    {
      "cell_type": "markdown",
      "metadata": {
        "id": "view-in-github",
        "colab_type": "text"
      },
      "source": [
        "<a href=\"https://colab.research.google.com/github/VitalyGladyshev/gb_nlp/blob/main/HW_07_NLP.ipynb\" target=\"_parent\"><img src=\"https://colab.research.google.com/assets/colab-badge.svg\" alt=\"Open In Colab\"/></a>"
      ]
    },
    {
      "cell_type": "markdown",
      "metadata": {
        "id": "IQkkL6OvH2my"
      },
      "source": [
        "# ДЗ 07 NLP"
      ]
    },
    {
      "cell_type": "markdown",
      "metadata": {
        "id": "eHZzyB4EH6si"
      },
      "source": [
        "## Задание 1"
      ]
    },
    {
      "cell_type": "markdown",
      "metadata": {
        "id": "vIRpYVZlIHgk"
      },
      "source": [
        "Переделать генерацию текста по символам в генерацию по словам"
      ]
    },
    {
      "cell_type": "code",
      "metadata": {
        "id": "beWQE20YHakl"
      },
      "source": [
        "import numpy as np\n",
        "import tensorflow as tf\n",
        "import string\n",
        "from tqdm import tqdm\n",
        "import os"
      ],
      "execution_count": null,
      "outputs": []
    },
    {
      "cell_type": "code",
      "metadata": {
        "id": "cvqjdxWAJrVV",
        "outputId": "03fc436f-deea-49b6-c0b3-482920638332",
        "colab": {
          "base_uri": "https://localhost:8080/"
        }
      },
      "source": [
        "from google.colab import drive\n",
        "drive.mount('/content/gdrive')"
      ],
      "execution_count": null,
      "outputs": [
        {
          "output_type": "stream",
          "text": [
            "Mounted at /content/gdrive\n"
          ],
          "name": "stdout"
        }
      ]
    },
    {
      "cell_type": "code",
      "metadata": {
        "id": "66m7XmBZJrig",
        "outputId": "8d6a3d15-8f3a-40a2-a7a9-4ce6752b7563",
        "colab": {
          "base_uri": "https://localhost:8080/"
        }
      },
      "source": [
        "%cd \"./gdrive/My Drive/Colab Notebooks/NLP/\""
      ],
      "execution_count": 27,
      "outputs": [
        {
          "output_type": "stream",
          "text": [
            "/content/gdrive/My Drive/Colab Notebooks/NLP\n"
          ],
          "name": "stdout"
        }
      ]
    },
    {
      "cell_type": "code",
      "metadata": {
        "id": "mJ1A0fw5Jro0",
        "outputId": "591a8118-1046-4fbb-c5bf-925b2ffff4d3",
        "colab": {
          "base_uri": "https://localhost:8080/"
        }
      },
      "source": [
        "path_to_file = 'evgenyi_onegin.txt'\n",
        "\n",
        "# text = open(path_to_file, 'rb').read().decode(encoding='utf-8')\n",
        "# # length of text is the number of characters in it\n",
        "# print('Length of text: {} characters'.format(len(text)))\n",
        "\n",
        "vocab = set()\n",
        "vocab.add(\"\\n\")\n",
        "vocab.add(\".\")\n",
        "vocab.add(\",\")\n",
        "with open(path_to_file, \"r\", encoding='utf-8', errors='ignore') as f:\n",
        "    for line in tqdm(f):\n",
        "        line = ''.join([ch for ch in list(line) if ch not in string.punctuation])\n",
        "        words = line.lower().strip().split(\" \")\n",
        "        for word in words:\n",
        "            vocab.add(word)"
      ],
      "execution_count": 28,
      "outputs": [
        {
          "output_type": "stream",
          "text": [
            "6505it [00:00, 16069.17it/s]\n"
          ],
          "name": "stderr"
        }
      ]
    },
    {
      "cell_type": "code",
      "metadata": {
        "id": "mB4WtsczJ851",
        "outputId": "b412e38a-45ad-4d5f-c043-6481bedd8ddf",
        "colab": {
          "base_uri": "https://localhost:8080/"
        }
      },
      "source": [
        "\"\\n\" in vocab"
      ],
      "execution_count": 29,
      "outputs": [
        {
          "output_type": "execute_result",
          "data": {
            "text/plain": [
              "True"
            ]
          },
          "metadata": {
            "tags": []
          },
          "execution_count": 29
        }
      ]
    },
    {
      "cell_type": "code",
      "metadata": {
        "id": "kuWW_MZ5KXwN"
      },
      "source": [
        "word2vec = {}\n",
        "idx2word = np.array(list(vocab))\n",
        "\n",
        "for i, word in enumerate(vocab):\n",
        "    word2vec[word] = i"
      ],
      "execution_count": 30,
      "outputs": []
    },
    {
      "cell_type": "code",
      "metadata": {
        "id": "Q2GX4wzsL48R",
        "outputId": "1ceb9b51-d2a5-4adf-c701-0008761c6aca",
        "colab": {
          "base_uri": "https://localhost:8080/"
        }
      },
      "source": [
        "word2vec[\"\\n\"], word2vec[\".\"], idx2word[word2vec[\".\"]]"
      ],
      "execution_count": 31,
      "outputs": [
        {
          "output_type": "execute_result",
          "data": {
            "text/plain": [
              "(4201, 3898, '.')"
            ]
          },
          "metadata": {
            "tags": []
          },
          "execution_count": 31
        }
      ]
    },
    {
      "cell_type": "code",
      "metadata": {
        "id": "_JmUzN3iInY4",
        "outputId": "eb13b9be-858a-4fec-c839-085597fc58c0",
        "colab": {
          "base_uri": "https://localhost:8080/"
        }
      },
      "source": [
        "text_as_int = []\n",
        "with open(path_to_file, \"r\", encoding='utf-8', errors='ignore') as f:\n",
        "    for line in tqdm(f):\n",
        "        words = line.lower().strip().split(\" \")\n",
        "        for word in words:\n",
        "            point, comma = False, False\n",
        "            if \",\" in word:\n",
        "                comma = True\n",
        "            if \".\" in word:\n",
        "                point = True\n",
        "            word = ''.join([ch for ch in list(word) if ch not in string.punctuation])\n",
        "            text_as_int.append(word2vec[word])\n",
        "            if comma:\n",
        "                text_as_int.append(word2vec[\",\"])\n",
        "            if point:\n",
        "                text_as_int.append(word2vec[\".\"])\n",
        "        text_as_int.append(word2vec[\"\\n\"])"
      ],
      "execution_count": 32,
      "outputs": [
        {
          "output_type": "stream",
          "text": [
            "6505it [00:00, 121306.74it/s]\n"
          ],
          "name": "stderr"
        }
      ]
    },
    {
      "cell_type": "code",
      "metadata": {
        "id": "5ETUqOooOrLe",
        "outputId": "0940d6d3-8985-4d19-f23d-b852aad022e0",
        "colab": {
          "base_uri": "https://localhost:8080/"
        }
      },
      "source": [
        "text_as_int[:15]"
      ],
      "execution_count": 33,
      "outputs": [
        {
          "output_type": "execute_result",
          "data": {
            "text/plain": [
              "[4231,\n",
              " 4177,\n",
              " 7696,\n",
              " 4201,\n",
              " 0,\n",
              " 4201,\n",
              " 368,\n",
              " 3632,\n",
              " 4201,\n",
              " 1695,\n",
              " 7692,\n",
              " 3685,\n",
              " 4201,\n",
              " 0,\n",
              " 4201]"
            ]
          },
          "metadata": {
            "tags": []
          },
          "execution_count": 33
        }
      ]
    },
    {
      "cell_type": "code",
      "metadata": {
        "id": "d5i7DFk-PYAh",
        "outputId": "87a1bb1a-cd37-48c8-fca4-2bbe0b590809",
        "colab": {
          "base_uri": "https://localhost:8080/"
        }
      },
      "source": [
        "len(text_as_int)"
      ],
      "execution_count": 34,
      "outputs": [
        {
          "output_type": "execute_result",
          "data": {
            "text/plain": [
              "35895"
            ]
          },
          "metadata": {
            "tags": []
          },
          "execution_count": 34
        }
      ]
    },
    {
      "cell_type": "markdown",
      "metadata": {
        "id": "ZL2xuU7cVLSA"
      },
      "source": [
        "### train and target"
      ]
    },
    {
      "cell_type": "code",
      "metadata": {
        "id": "1HR7e97LTN9L",
        "outputId": "53a751bd-cec0-4348-b9b8-5ef073a21eb2",
        "colab": {
          "base_uri": "https://localhost:8080/"
        }
      },
      "source": [
        "# The maximum length sentence you want for a single input in characters\n",
        "seq_length = 100\n",
        "examples_per_epoch = len(text_as_int)//(seq_length+1)\n",
        "\n",
        "# Create training examples / targets\n",
        "word_dataset = tf.data.Dataset.from_tensor_slices(text_as_int)\n",
        "\n",
        "for i in word_dataset.take(25):\n",
        "    print(idx2word[i.numpy()])"
      ],
      "execution_count": 35,
      "outputs": [
        {
          "output_type": "stream",
          "text": [
            "александр\n",
            "сергеевич\n",
            "пушкин\n",
            "\n",
            "\n",
            "\n",
            "\n",
            "\n",
            "евгений\n",
            "онегин\n",
            "\n",
            "\n",
            "роман\n",
            "в\n",
            "стихах\n",
            "\n",
            "\n",
            "\n",
            "\n",
            "\n",
            "не\n",
            "мысля\n",
            "гордый\n",
            "свет\n",
            "забавить\n",
            ",\n",
            "\n",
            "\n",
            "вниманье\n",
            "дружбы\n",
            "возлюбя\n"
          ],
          "name": "stdout"
        }
      ]
    },
    {
      "cell_type": "code",
      "metadata": {
        "id": "nbys5UXnTOLH",
        "outputId": "4bb7368c-9a5a-42b1-8ca2-6f2536bba668",
        "colab": {
          "base_uri": "https://localhost:8080/"
        }
      },
      "source": [
        "sequences = word_dataset.batch(seq_length+1, drop_remainder=True)\n",
        "sequences"
      ],
      "execution_count": 36,
      "outputs": [
        {
          "output_type": "execute_result",
          "data": {
            "text/plain": [
              "<BatchDataset shapes: (101,), types: tf.int32>"
            ]
          },
          "metadata": {
            "tags": []
          },
          "execution_count": 36
        }
      ]
    },
    {
      "cell_type": "code",
      "metadata": {
        "id": "HQaWLdakTOWc",
        "outputId": "10ddd1c5-2025-46af-8242-0affc084efef",
        "colab": {
          "base_uri": "https://localhost:8080/"
        }
      },
      "source": [
        "for item in sequences.take(3):\n",
        "    # print(idx2word[item.numpy().astype(int)])\n",
        "    print(' '.join(idx2word[item.numpy()]))"
      ],
      "execution_count": 37,
      "outputs": [
        {
          "output_type": "stream",
          "text": [
            "александр сергеевич пушкин \n",
            "  \n",
            " евгений онегин \n",
            " роман в стихах \n",
            "  \n",
            " не мысля гордый свет забавить , \n",
            " вниманье дружбы возлюбя , \n",
            " хотел бы я тебе представить \n",
            " залог достойнее тебя , \n",
            " достойнее души прекрасной , \n",
            " святой исполненной мечты , \n",
            " поэзии живой и ясной , \n",
            " высоких дум и простоты \n",
            " но так и быть  рукой пристрастной \n",
            " прими собранье пестрых глав , \n",
            " полусмешных , полупечальных , \n",
            " простонародных , идеальных , \n",
            " небрежный плод моих забав , \n",
            " бессонниц , легких вдохновений , \n",
            " незрелых и увядших лет , \n",
            "\n",
            "ума холодных наблюдений \n",
            " и сердца горестных замет . \n",
            "  \n",
            " глава первая \n",
            "  \n",
            " и жить торопится и чувствовать спешит . \n",
            " кн . вяземский . \n",
            "  \n",
            " i \n",
            "  \n",
            " мой дядя самых честных правил , \n",
            " когда не в шутку занемог , \n",
            " он уважать себя заставил \n",
            " и лучше выдумать не мог . \n",
            " его пример другим наука \n",
            " но , боже мой , какая скука \n",
            " с больным сидеть и день и ночь , \n",
            " не отходя ни шагу прочь \n",
            " какое низкое коварство \n",
            " полуживого забавлять , \n",
            " ему подушки поправлять\n",
            ", \n",
            " печально подносить лекарство , \n",
            " вздыхать и думать про себя \n",
            " когда же черт возьмет тебя \n",
            "  \n",
            " ii \n",
            "  \n",
            " так думал молодой повеса , \n",
            " летя в пыли на почтовых , \n",
            " всевышней волею зевеса \n",
            " наследник всех своих родных . \n",
            " друзья людмилы и руслана \n",
            " с героем моего романа \n",
            " без предисловий , сей же час \n",
            " позвольте познакомить вас \n",
            " онегин , добрый мой приятель , \n",
            " родился на брегах невы , \n",
            " где , может быть , родились вы \n",
            " или блистали , мой читатель \n",
            " там некогда гулял и я\n"
          ],
          "name": "stdout"
        }
      ]
    },
    {
      "cell_type": "code",
      "metadata": {
        "id": "ItokyHhQTOTH"
      },
      "source": [
        "def split_input_target(chunk):\n",
        "    input_text = chunk[:-1]\n",
        "    target_text = chunk[1:]\n",
        "    return input_text, target_text\n",
        "\n",
        "dataset = sequences.map(split_input_target)"
      ],
      "execution_count": 38,
      "outputs": []
    },
    {
      "cell_type": "code",
      "metadata": {
        "id": "z1rh9uXZTOPu",
        "outputId": "632926e4-c9ab-4d43-c8c4-082e17b62875",
        "colab": {
          "base_uri": "https://localhost:8080/"
        }
      },
      "source": [
        "for input_example, target_example in  dataset.take(1):\n",
        "    print('Input data: ', repr(' '.join(idx2word[input_example.numpy()])))\n",
        "    print('Target data:', repr(' '.join(idx2word[target_example.numpy()])))"
      ],
      "execution_count": 39,
      "outputs": [
        {
          "output_type": "stream",
          "text": [
            "Input data:  'александр сергеевич пушкин \\n  \\n евгений онегин \\n роман в стихах \\n  \\n не мысля гордый свет забавить , \\n вниманье дружбы возлюбя , \\n хотел бы я тебе представить \\n залог достойнее тебя , \\n достойнее души прекрасной , \\n святой исполненной мечты , \\n поэзии живой и ясной , \\n высоких дум и простоты \\n но так и быть  рукой пристрастной \\n прими собранье пестрых глав , \\n полусмешных , полупечальных , \\n простонародных , идеальных , \\n небрежный плод моих забав , \\n бессонниц , легких вдохновений , \\n незрелых и увядших лет ,'\n",
            "Target data: 'сергеевич пушкин \\n  \\n евгений онегин \\n роман в стихах \\n  \\n не мысля гордый свет забавить , \\n вниманье дружбы возлюбя , \\n хотел бы я тебе представить \\n залог достойнее тебя , \\n достойнее души прекрасной , \\n святой исполненной мечты , \\n поэзии живой и ясной , \\n высоких дум и простоты \\n но так и быть  рукой пристрастной \\n прими собранье пестрых глав , \\n полусмешных , полупечальных , \\n простонародных , идеальных , \\n небрежный плод моих забав , \\n бессонниц , легких вдохновений , \\n незрелых и увядших лет , \\n'\n"
          ],
          "name": "stdout"
        }
      ]
    },
    {
      "cell_type": "code",
      "metadata": {
        "id": "aDD5glVTeMCm",
        "outputId": "cc6e9123-ca8d-46d6-888b-cae748417d4a",
        "colab": {
          "base_uri": "https://localhost:8080/"
        }
      },
      "source": [
        "# Batch size\n",
        "BATCH_SIZE = 64\n",
        "\n",
        "# Buffer size to shuffle the dataset\n",
        "# (TF data is designed to work with possibly infinite sequences,\n",
        "# so it doesn't attempt to shuffle the entire sequence in memory. Instead,\n",
        "# it maintains a buffer in which it shuffles elements).\n",
        "BUFFER_SIZE = 10000\n",
        "\n",
        "dataset = dataset.shuffle(BUFFER_SIZE).batch(BATCH_SIZE, drop_remainder=True)\n",
        "\n",
        "dataset"
      ],
      "execution_count": 40,
      "outputs": [
        {
          "output_type": "execute_result",
          "data": {
            "text/plain": [
              "<BatchDataset shapes: ((64, 100), (64, 100)), types: (tf.int32, tf.int32)>"
            ]
          },
          "metadata": {
            "tags": []
          },
          "execution_count": 40
        }
      ]
    },
    {
      "cell_type": "code",
      "metadata": {
        "id": "gx6MbhsleL_F"
      },
      "source": [
        "# Length of the vocabulary in chars\n",
        "vocab_size = len(vocab)\n",
        "\n",
        "# The embedding dimension\n",
        "embedding_dim = 256\n",
        "\n",
        "# Number of RNN units\n",
        "rnn_units = 1024"
      ],
      "execution_count": null,
      "outputs": []
    },
    {
      "cell_type": "code",
      "metadata": {
        "id": "v-SJmi4SeL61"
      },
      "source": [
        "def build_model(vocab_size, embedding_dim, rnn_units, batch_size):\n",
        "    model = tf.keras.Sequential([\n",
        "        tf.keras.layers.Embedding(vocab_size, embedding_dim,\n",
        "                                  batch_input_shape=[batch_size, None]),\n",
        "        tf.keras.layers.LSTM(rnn_units,   # tf.keras.layers.GRU(rnn_units,\n",
        "                            return_sequences=True,\n",
        "                            stateful=True,\n",
        "                            recurrent_initializer='glorot_uniform'),\n",
        "        tf.keras.layers.Dense(vocab_size)\n",
        "    ])\n",
        "    return model"
      ],
      "execution_count": null,
      "outputs": []
    },
    {
      "cell_type": "code",
      "metadata": {
        "id": "QQ2-g8S-eL2Q"
      },
      "source": [
        "model = build_model(\n",
        "            vocab_size=len(vocab),\n",
        "            embedding_dim=embedding_dim,\n",
        "            rnn_units=rnn_units,\n",
        "            batch_size=BATCH_SIZE)"
      ],
      "execution_count": null,
      "outputs": []
    },
    {
      "cell_type": "code",
      "metadata": {
        "id": "-OiH4FKUeqb5",
        "outputId": "289dfe78-36dd-441d-baf9-c65fb5694570",
        "colab": {
          "base_uri": "https://localhost:8080/"
        }
      },
      "source": [
        "for input_example_batch, target_example_batch in dataset.take(1):\n",
        "    example_batch_predictions = model(input_example_batch)\n",
        "    print(example_batch_predictions.shape, \"# (batch_size, sequence_length, vocab_size)\")"
      ],
      "execution_count": null,
      "outputs": [
        {
          "output_type": "stream",
          "text": [
            "(64, 100, 8566) # (batch_size, sequence_length, vocab_size)\n"
          ],
          "name": "stdout"
        }
      ]
    },
    {
      "cell_type": "code",
      "metadata": {
        "id": "glJ_U9fDeq1-",
        "outputId": "cca1042b-e1a8-4fa3-da4f-2540631323ab",
        "colab": {
          "base_uri": "https://localhost:8080/"
        }
      },
      "source": [
        "model.summary()"
      ],
      "execution_count": null,
      "outputs": [
        {
          "output_type": "stream",
          "text": [
            "Model: \"sequential\"\n",
            "_________________________________________________________________\n",
            "Layer (type)                 Output Shape              Param #   \n",
            "=================================================================\n",
            "embedding (Embedding)        (64, None, 256)           2192896   \n",
            "_________________________________________________________________\n",
            "gru (GRU)                    (64, None, 1024)          3938304   \n",
            "_________________________________________________________________\n",
            "dense (Dense)                (64, None, 8566)          8780150   \n",
            "=================================================================\n",
            "Total params: 14,911,350\n",
            "Trainable params: 14,911,350\n",
            "Non-trainable params: 0\n",
            "_________________________________________________________________\n"
          ],
          "name": "stdout"
        }
      ]
    },
    {
      "cell_type": "code",
      "metadata": {
        "id": "l8ZhSWaFeqyE"
      },
      "source": [
        "sampled_indices = tf.random.categorical(example_batch_predictions[0], num_samples=1)\n",
        "sampled_indices = tf.squeeze(sampled_indices,axis=-1).numpy()"
      ],
      "execution_count": null,
      "outputs": []
    },
    {
      "cell_type": "code",
      "metadata": {
        "id": "VdCKm1EreqYd",
        "outputId": "0b339b63-9c29-40f7-fa9b-9c87806398d5",
        "colab": {
          "base_uri": "https://localhost:8080/"
        }
      },
      "source": [
        "print(\"Input: \\n\", repr(\" \".join(idx2word[input_example_batch[0]])))\n",
        "print()\n",
        "print(\"Next Char Predictions: \\n\", repr(\" \".join(idx2word[sampled_indices ])))"
      ],
      "execution_count": null,
      "outputs": [
        {
          "output_type": "stream",
          "text": [
            "Input: \n",
            " 'то воля неба я твоя \\n вся жизнь моя была залогом \\n свиданья верного с тобой \\n я знаю , ты мне послан богом , \\n до гроба ты хранитель мой . \\n ты в сновиденьях мне являлся \\n незримый , ты мне был уж мил , \\n твой чудный взгляд меня томил , \\n в душе твой голос раздавался \\n давно . нет , это был не сон \\n ты чуть вошел , я вмиг узнала , \\n вся обомлела , запылала \\n и в мыслях молвила вот он \\n не правда ль я тебя слыхала \\n ты говорил'\n",
            "\n",
            "Next Char Predictions: \n",
            " 'непонятна печальным забор трубок тетки взбесить маню приехал наши возьми ces послан целовать целя обморок закону медалью прихотливый чуждо общественное рисуя сегодня певец тряслися воротник моим свесть охоты днем олигархических восторгов семьей найдено погрузился сие исполнены беспокоилась утренний способен демоном харитонья волшебному тишине звон уходит невольник усердие езда пустяков писать клоками предузнав модный утреннем видит non румянец невинность чуть эклога слабый хвалить дурака значенье изменять восторженную нетерпеливому стариков xxiv головы показался туз рассудка пошлый урною службы привычный бесчувствием вкус лжет настала благородный бородатый заметить мальчиком слезы заманите слезой сиживал грибы страшных богдановича поздно светит жду вбегает никого играет шикать силится'\n"
          ],
          "name": "stdout"
        }
      ]
    },
    {
      "cell_type": "markdown",
      "metadata": {
        "id": "q9k2o4JXfgRX"
      },
      "source": [
        "## Train the model"
      ]
    },
    {
      "cell_type": "code",
      "metadata": {
        "id": "WIckccnoeqUo",
        "outputId": "8576f49c-39c6-4d7b-d274-d65309cb154d",
        "colab": {
          "base_uri": "https://localhost:8080/"
        }
      },
      "source": [
        "def loss(labels, logits):\n",
        "    return tf.keras.losses.sparse_categorical_crossentropy(labels, logits, from_logits=True)\n",
        "\n",
        "example_batch_loss = loss(target_example_batch, example_batch_predictions)\n",
        "print(\"Prediction shape: \", example_batch_predictions.shape, \" # (batch_size, sequence_length, vocab_size)\")\n",
        "print(\"scalar_loss:      \", example_batch_loss.numpy().mean())"
      ],
      "execution_count": null,
      "outputs": [
        {
          "output_type": "stream",
          "text": [
            "Prediction shape:  (64, 100, 8566)  # (batch_size, sequence_length, vocab_size)\n",
            "scalar_loss:       9.055292\n"
          ],
          "name": "stdout"
        }
      ]
    },
    {
      "cell_type": "code",
      "metadata": {
        "id": "SF6rTAlSeqQS"
      },
      "source": [
        "model.compile(optimizer='adam', loss=loss)"
      ],
      "execution_count": null,
      "outputs": []
    },
    {
      "cell_type": "markdown",
      "metadata": {
        "id": "X-7GChnqfv-Q"
      },
      "source": [
        "### Configure checkpoints"
      ]
    },
    {
      "cell_type": "code",
      "metadata": {
        "id": "fdVEju50eqMI"
      },
      "source": [
        "# Directory where the checkpoints will be saved\n",
        "checkpoint_dir = './training_checkpoints'\n",
        "# Name of the checkpoint files\n",
        "checkpoint_prefix = os.path.join(checkpoint_dir, \"ckpt_{epoch}\")\n",
        "\n",
        "checkpoint_callback = tf.keras.callbacks.ModelCheckpoint(\n",
        "    filepath=checkpoint_prefix,\n",
        "    save_weights_only=True)"
      ],
      "execution_count": null,
      "outputs": []
    },
    {
      "cell_type": "markdown",
      "metadata": {
        "id": "x_ndqGyHgIqn"
      },
      "source": [
        "### Execute the training"
      ]
    },
    {
      "cell_type": "code",
      "metadata": {
        "id": "y4giUglmeqIx"
      },
      "source": [
        "EPOCHS = 100"
      ],
      "execution_count": null,
      "outputs": []
    },
    {
      "cell_type": "code",
      "metadata": {
        "id": "z_ehxp-ngFS5",
        "outputId": "88e2b534-bc9b-4595-f895-bb6749d5b9d3",
        "colab": {
          "base_uri": "https://localhost:8080/"
        }
      },
      "source": [
        "history = model.fit(dataset, epochs=EPOCHS, callbacks=[checkpoint_callback])"
      ],
      "execution_count": null,
      "outputs": [
        {
          "output_type": "stream",
          "text": [
            "Epoch 1/200\n",
            "5/5 [==============================] - 1s 277ms/step - loss: 8.9231\n",
            "Epoch 2/200\n",
            "5/5 [==============================] - 2s 352ms/step - loss: 6.4932\n",
            "Epoch 3/200\n",
            "5/5 [==============================] - 1s 248ms/step - loss: 6.2706\n",
            "Epoch 4/200\n",
            "5/5 [==============================] - 1s 263ms/step - loss: 6.1984\n",
            "Epoch 5/200\n",
            "5/5 [==============================] - 1s 276ms/step - loss: 6.1515\n",
            "Epoch 6/200\n",
            "5/5 [==============================] - 1s 291ms/step - loss: 6.1051\n",
            "Epoch 7/200\n",
            "5/5 [==============================] - 1s 245ms/step - loss: 6.0675\n",
            "Epoch 8/200\n",
            "5/5 [==============================] - 1s 260ms/step - loss: 5.9805\n",
            "Epoch 9/200\n",
            "5/5 [==============================] - 3s 519ms/step - loss: 5.9293\n",
            "Epoch 10/200\n",
            "5/5 [==============================] - 1s 255ms/step - loss: 5.8399\n",
            "Epoch 11/200\n",
            "5/5 [==============================] - 1s 255ms/step - loss: 5.7459\n",
            "Epoch 12/200\n",
            "5/5 [==============================] - 10s 2s/step - loss: 5.6339\n",
            "Epoch 13/200\n",
            "5/5 [==============================] - 1s 264ms/step - loss: 5.5705\n",
            "Epoch 14/200\n",
            "5/5 [==============================] - 1s 275ms/step - loss: 5.4413\n",
            "Epoch 15/200\n",
            "5/5 [==============================] - 8s 2s/step - loss: 5.3443\n",
            "Epoch 16/200\n",
            "5/5 [==============================] - 1s 289ms/step - loss: 5.2408\n",
            "Epoch 17/200\n",
            "5/5 [==============================] - 9s 2s/step - loss: 5.1673\n",
            "Epoch 18/200\n",
            "5/5 [==============================] - 4s 854ms/step - loss: 5.0880\n",
            "Epoch 19/200\n",
            "5/5 [==============================] - 1s 280ms/step - loss: 4.9993\n",
            "Epoch 20/200\n",
            "5/5 [==============================] - 2s 372ms/step - loss: 4.9216\n",
            "Epoch 21/200\n",
            "5/5 [==============================] - 10s 2s/step - loss: 4.8576\n",
            "Epoch 22/200\n",
            "5/5 [==============================] - 1s 272ms/step - loss: 4.7702\n",
            "Epoch 23/200\n",
            "5/5 [==============================] - 1s 269ms/step - loss: 4.7354\n",
            "Epoch 24/200\n",
            "5/5 [==============================] - 10s 2s/step - loss: 4.6352\n",
            "Epoch 25/200\n",
            "5/5 [==============================] - 1s 271ms/step - loss: 4.5515\n",
            "Epoch 26/200\n",
            "5/5 [==============================] - 1s 272ms/step - loss: 4.4778\n",
            "Epoch 27/200\n",
            "5/5 [==============================] - 10s 2s/step - loss: 4.3976\n",
            "Epoch 28/200\n",
            "5/5 [==============================] - 1s 283ms/step - loss: 4.3353\n",
            "Epoch 29/200\n",
            "5/5 [==============================] - 2s 421ms/step - loss: 4.2649\n",
            "Epoch 30/200\n",
            "5/5 [==============================] - 9s 2s/step - loss: 4.1945\n",
            "Epoch 31/200\n",
            "5/5 [==============================] - 1s 275ms/step - loss: 4.1199\n",
            "Epoch 32/200\n",
            "5/5 [==============================] - 2s 446ms/step - loss: 4.0428\n",
            "Epoch 33/200\n",
            "5/5 [==============================] - 9s 2s/step - loss: 3.9652\n",
            "Epoch 34/200\n",
            "5/5 [==============================] - 1s 275ms/step - loss: 3.8596\n",
            "Epoch 35/200\n",
            "5/5 [==============================] - 3s 598ms/step - loss: 3.8050\n",
            "Epoch 36/200\n",
            "5/5 [==============================] - 9s 2s/step - loss: 3.7216\n",
            "Epoch 37/200\n",
            "5/5 [==============================] - 21s 4s/step - loss: 3.6492\n",
            "Epoch 38/200\n",
            "5/5 [==============================] - 21s 4s/step - loss: 3.5563\n",
            "Epoch 39/200\n",
            "5/5 [==============================] - 9s 2s/step - loss: 3.4722\n",
            "Epoch 40/200\n",
            "5/5 [==============================] - 1s 285ms/step - loss: 3.3954\n",
            "Epoch 41/200\n",
            "5/5 [==============================] - 1s 286ms/step - loss: 3.3299\n",
            "Epoch 42/200\n",
            "5/5 [==============================] - 1s 292ms/step - loss: 3.2250\n",
            "Epoch 43/200\n",
            "5/5 [==============================] - 1s 292ms/step - loss: 3.1476\n",
            "Epoch 44/200\n",
            "5/5 [==============================] - 1s 286ms/step - loss: 3.0559\n",
            "Epoch 45/200\n",
            "5/5 [==============================] - 2s 384ms/step - loss: 2.9902\n",
            "Epoch 46/200\n",
            "5/5 [==============================] - 1s 284ms/step - loss: 2.8952\n",
            "Epoch 47/200\n",
            "5/5 [==============================] - 2s 378ms/step - loss: 2.8203\n",
            "Epoch 48/200\n",
            "5/5 [==============================] - 3s 533ms/step - loss: 2.7384\n",
            "Epoch 49/200\n",
            "5/5 [==============================] - 1s 275ms/step - loss: 2.6673\n",
            "Epoch 50/200\n",
            "5/5 [==============================] - 2s 424ms/step - loss: 2.5795\n",
            "Epoch 51/200\n",
            "5/5 [==============================] - 9s 2s/step - loss: 2.5066\n",
            "Epoch 52/200\n",
            "5/5 [==============================] - 1s 290ms/step - loss: 2.4197\n",
            "Epoch 53/200\n",
            "5/5 [==============================] - 1s 277ms/step - loss: 2.3584\n",
            "Epoch 54/200\n",
            "5/5 [==============================] - 10s 2s/step - loss: 2.2823\n",
            "Epoch 55/200\n",
            "5/5 [==============================] - 1s 288ms/step - loss: 2.1976\n",
            "Epoch 56/200\n",
            "5/5 [==============================] - 1s 279ms/step - loss: 2.1303\n",
            "Epoch 57/200\n",
            "5/5 [==============================] - 6s 1s/step - loss: 2.0613\n",
            "Epoch 58/200\n",
            "5/5 [==============================] - 4s 751ms/step - loss: 1.9997\n",
            "Epoch 59/200\n",
            "5/5 [==============================] - 3s 606ms/step - loss: 1.9208\n",
            "Epoch 60/200\n",
            "5/5 [==============================] - 6s 1s/step - loss: 1.8705\n",
            "Epoch 61/200\n",
            "5/5 [==============================] - 7s 1s/step - loss: 1.8145\n",
            "Epoch 62/200\n",
            "5/5 [==============================] - 2s 316ms/step - loss: 1.7598\n",
            "Epoch 63/200\n",
            "5/5 [==============================] - 4s 880ms/step - loss: 1.6961\n",
            "Epoch 64/200\n",
            "5/5 [==============================] - 3s 631ms/step - loss: 1.6369\n",
            "Epoch 65/200\n",
            "5/5 [==============================] - 9s 2s/step - loss: 1.5920\n",
            "Epoch 66/200\n",
            "5/5 [==============================] - 1s 282ms/step - loss: 1.5419\n",
            "Epoch 67/200\n",
            "5/5 [==============================] - 2s 418ms/step - loss: 1.4822\n",
            "Epoch 68/200\n",
            "5/5 [==============================] - 9s 2s/step - loss: 1.4335\n",
            "Epoch 69/200\n",
            "5/5 [==============================] - 1s 296ms/step - loss: 1.3917\n",
            "Epoch 70/200\n",
            "5/5 [==============================] - 1s 286ms/step - loss: 1.3340\n",
            "Epoch 71/200\n",
            "5/5 [==============================] - 10s 2s/step - loss: 1.3067\n",
            "Epoch 72/200\n",
            "5/5 [==============================] - 5s 967ms/step - loss: 1.2504\n",
            "Epoch 73/200\n",
            "5/5 [==============================] - 5s 965ms/step - loss: 1.2145\n",
            "Epoch 74/200\n",
            "5/5 [==============================] - 3s 622ms/step - loss: 1.1728\n",
            "Epoch 75/200\n",
            "5/5 [==============================] - 1s 284ms/step - loss: 1.1427\n",
            "Epoch 76/200\n",
            "5/5 [==============================] - 2s 303ms/step - loss: 1.1046\n",
            "Epoch 77/200\n",
            "5/5 [==============================] - 10s 2s/step - loss: 1.0617\n",
            "Epoch 78/200\n",
            "5/5 [==============================] - 1s 283ms/step - loss: 1.0170\n",
            "Epoch 79/200\n",
            "5/5 [==============================] - 1s 288ms/step - loss: 0.9828\n",
            "Epoch 80/200\n",
            "5/5 [==============================] - 10s 2s/step - loss: 0.9572\n",
            "Epoch 81/200\n",
            "5/5 [==============================] - 1s 283ms/step - loss: 0.9290\n",
            "Epoch 82/200\n",
            "5/5 [==============================] - 2s 443ms/step - loss: 0.8897\n",
            "Epoch 83/200\n",
            "5/5 [==============================] - 9s 2s/step - loss: 0.8635\n",
            "Epoch 84/200\n",
            "5/5 [==============================] - 1s 288ms/step - loss: 0.8293\n",
            "Epoch 85/200\n",
            "5/5 [==============================] - 7s 1s/step - loss: 0.8031\n",
            "Epoch 86/200\n",
            "5/5 [==============================] - 1s 298ms/step - loss: 0.7735\n",
            "Epoch 87/200\n",
            "5/5 [==============================] - 1s 287ms/step - loss: 0.7472\n",
            "Epoch 88/200\n",
            "5/5 [==============================] - 9s 2s/step - loss: 0.7204\n",
            "Epoch 89/200\n",
            "5/5 [==============================] - 1s 288ms/step - loss: 0.6913\n",
            "Epoch 90/200\n",
            "5/5 [==============================] - 3s 560ms/step - loss: 0.6706\n",
            "Epoch 91/200\n",
            "5/5 [==============================] - 8s 2s/step - loss: 0.6435\n",
            "Epoch 92/200\n",
            "5/5 [==============================] - 1s 294ms/step - loss: 0.6246\n",
            "Epoch 93/200\n",
            "5/5 [==============================] - 2s 350ms/step - loss: 0.5997\n",
            "Epoch 94/200\n",
            "5/5 [==============================] - 10s 2s/step - loss: 0.5832\n",
            "Epoch 95/200\n",
            "5/5 [==============================] - 1s 293ms/step - loss: 0.5524\n",
            "Epoch 96/200\n",
            "5/5 [==============================] - 1s 282ms/step - loss: 0.5392\n",
            "Epoch 97/200\n",
            "5/5 [==============================] - 10s 2s/step - loss: 0.5184\n",
            "Epoch 98/200\n",
            "5/5 [==============================] - 1s 288ms/step - loss: 0.5015\n",
            "Epoch 99/200\n",
            "5/5 [==============================] - 7s 1s/step - loss: 0.4823\n",
            "Epoch 100/200\n",
            "5/5 [==============================] - 1s 293ms/step - loss: 0.4623\n",
            "Epoch 101/200\n",
            "5/5 [==============================] - 2s 452ms/step - loss: 0.4472\n",
            "Epoch 102/200\n",
            "5/5 [==============================] - 9s 2s/step - loss: 0.4383\n",
            "Epoch 103/200\n",
            "5/5 [==============================] - 1s 287ms/step - loss: 0.4218\n",
            "Epoch 104/200\n",
            "5/5 [==============================] - 2s 301ms/step - loss: 0.4061\n",
            "Epoch 105/200\n",
            "5/5 [==============================] - 10s 2s/step - loss: 0.3878\n",
            "Epoch 106/200\n",
            "5/5 [==============================] - 6s 1s/step - loss: 0.3771\n",
            "Epoch 107/200\n",
            "5/5 [==============================] - 4s 768ms/step - loss: 0.3597\n",
            "Epoch 108/200\n",
            "5/5 [==============================] - 3s 633ms/step - loss: 0.3450\n",
            "Epoch 109/200\n",
            "5/5 [==============================] - 1s 293ms/step - loss: 0.3375\n",
            "Epoch 110/200\n",
            "5/5 [==============================] - 8s 2s/step - loss: 0.3260\n",
            "Epoch 111/200\n",
            "5/5 [==============================] - 7s 1s/step - loss: 0.3137\n",
            "Epoch 112/200\n",
            "5/5 [==============================] - 3s 531ms/step - loss: 0.3031\n",
            "Epoch 113/200\n",
            "5/5 [==============================] - 2s 451ms/step - loss: 0.2942\n",
            "Epoch 114/200\n",
            "5/5 [==============================] - 1s 285ms/step - loss: 0.2847\n",
            "Epoch 115/200\n",
            "5/5 [==============================] - 7s 1s/step - loss: 0.2756\n",
            "Epoch 116/200\n",
            "5/5 [==============================] - 1s 289ms/step - loss: 0.2669\n",
            "Epoch 117/200\n",
            "5/5 [==============================] - 7s 1s/step - loss: 0.2616\n",
            "Epoch 118/200\n",
            "5/5 [==============================] - 4s 855ms/step - loss: 0.2549\n",
            "Epoch 119/200\n",
            "5/5 [==============================] - 1s 296ms/step - loss: 0.2434\n",
            "Epoch 120/200\n",
            "5/5 [==============================] - 2s 376ms/step - loss: 0.2329\n",
            "Epoch 121/200\n",
            "5/5 [==============================] - 9s 2s/step - loss: 0.2336\n",
            "Epoch 122/200\n",
            "5/5 [==============================] - 1s 295ms/step - loss: 0.2243\n",
            "Epoch 123/200\n",
            "5/5 [==============================] - 8s 2s/step - loss: 0.2139\n",
            "Epoch 124/200\n",
            "5/5 [==============================] - 4s 861ms/step - loss: 0.2104\n",
            "Epoch 125/200\n",
            "5/5 [==============================] - 1s 285ms/step - loss: 0.2041\n",
            "Epoch 126/200\n",
            "5/5 [==============================] - 2s 383ms/step - loss: 0.2010\n",
            "Epoch 127/200\n",
            "5/5 [==============================] - 6s 1s/step - loss: 0.1925\n",
            "Epoch 128/200\n",
            "5/5 [==============================] - 2s 469ms/step - loss: 0.1856\n",
            "Epoch 129/200\n",
            "5/5 [==============================] - 9s 2s/step - loss: 0.1820\n",
            "Epoch 130/200\n",
            "5/5 [==============================] - 2s 301ms/step - loss: 0.1814\n",
            "Epoch 131/200\n",
            "5/5 [==============================] - 3s 555ms/step - loss: 0.1713\n",
            "Epoch 132/200\n",
            "5/5 [==============================] - 9s 2s/step - loss: 0.1692\n",
            "Epoch 133/200\n",
            "5/5 [==============================] - 1s 288ms/step - loss: 0.1615\n",
            "Epoch 134/200\n",
            "5/5 [==============================] - 1s 287ms/step - loss: 0.1585\n",
            "Epoch 135/200\n",
            "5/5 [==============================] - 10s 2s/step - loss: 0.1566\n",
            "Epoch 136/200\n",
            "5/5 [==============================] - 1s 296ms/step - loss: 0.1538\n",
            "Epoch 137/200\n",
            "5/5 [==============================] - 7s 1s/step - loss: 0.1541\n",
            "Epoch 138/200\n",
            "5/5 [==============================] - 4s 856ms/step - loss: 0.1484\n",
            "Epoch 139/200\n",
            "5/5 [==============================] - 1s 286ms/step - loss: 0.1442\n",
            "Epoch 140/200\n",
            "5/5 [==============================] - 1s 286ms/step - loss: 0.1412\n",
            "Epoch 141/200\n",
            "5/5 [==============================] - 10s 2s/step - loss: 0.1371\n",
            "Epoch 142/200\n",
            "5/5 [==============================] - 1s 284ms/step - loss: 0.1330\n",
            "Epoch 143/200\n",
            "5/5 [==============================] - 7s 1s/step - loss: 0.1344\n",
            "Epoch 144/200\n",
            "5/5 [==============================] - 1s 288ms/step - loss: 0.1301\n",
            "Epoch 145/200\n",
            "5/5 [==============================] - 1s 289ms/step - loss: 0.1271\n",
            "Epoch 146/200\n",
            "5/5 [==============================] - 10s 2s/step - loss: 0.1235\n",
            "Epoch 147/200\n",
            "5/5 [==============================] - 1s 290ms/step - loss: 0.1233\n",
            "Epoch 148/200\n",
            "5/5 [==============================] - 3s 504ms/step - loss: 0.1177\n",
            "Epoch 149/200\n",
            "5/5 [==============================] - 9s 2s/step - loss: 0.1200\n",
            "Epoch 150/200\n",
            "5/5 [==============================] - 1s 293ms/step - loss: 0.1179\n",
            "Epoch 151/200\n",
            "5/5 [==============================] - 2s 418ms/step - loss: 0.1142\n",
            "Epoch 152/200\n",
            "5/5 [==============================] - 9s 2s/step - loss: 0.1145\n",
            "Epoch 153/200\n",
            "5/5 [==============================] - 1s 287ms/step - loss: 0.1130\n",
            "Epoch 154/200\n",
            "5/5 [==============================] - 2s 380ms/step - loss: 0.1085\n",
            "Epoch 155/200\n",
            "5/5 [==============================] - 10s 2s/step - loss: 0.1062\n",
            "Epoch 156/200\n",
            "5/5 [==============================] - 1s 290ms/step - loss: 0.1043\n",
            "Epoch 157/200\n",
            "5/5 [==============================] - 7s 1s/step - loss: 0.1064\n",
            "Epoch 158/200\n",
            "5/5 [==============================] - 4s 858ms/step - loss: 0.1016\n",
            "Epoch 159/200\n",
            "5/5 [==============================] - 1s 285ms/step - loss: 0.0983\n",
            "Epoch 160/200\n",
            "5/5 [==============================] - 7s 1s/step - loss: 0.1004\n",
            "Epoch 161/200\n",
            "5/5 [==============================] - 1s 291ms/step - loss: 0.0995\n",
            "Epoch 162/200\n",
            "5/5 [==============================] - 2s 340ms/step - loss: 0.0999\n",
            "Epoch 163/200\n",
            "5/5 [==============================] - 8s 2s/step - loss: 0.0951\n",
            "Epoch 164/200\n",
            "5/5 [==============================] - 1s 290ms/step - loss: 0.0966\n",
            "Epoch 165/200\n",
            "5/5 [==============================] - 7s 1s/step - loss: 0.0918\n",
            "Epoch 166/200\n",
            "5/5 [==============================] - 6s 1s/step - loss: 0.0917\n",
            "Epoch 167/200\n",
            "5/5 [==============================] - 1s 289ms/step - loss: 0.0932\n",
            "Epoch 168/200\n",
            "5/5 [==============================] - 2s 467ms/step - loss: 0.0926\n",
            "Epoch 169/200\n",
            "5/5 [==============================] - 9s 2s/step - loss: 0.0899\n",
            "Epoch 170/200\n",
            "5/5 [==============================] - 1s 297ms/step - loss: 0.0882\n",
            "Epoch 171/200\n",
            "5/5 [==============================] - 2s 448ms/step - loss: 0.0872\n",
            "Epoch 172/200\n",
            "5/5 [==============================] - 14s 3s/step - loss: 0.0827\n",
            "Epoch 173/200\n",
            "5/5 [==============================] - 10s 2s/step - loss: 0.0843\n",
            "Epoch 174/200\n",
            "5/5 [==============================] - 2s 418ms/step - loss: 0.0815\n",
            "Epoch 175/200\n",
            "5/5 [==============================] - 1s 299ms/step - loss: 0.0829\n",
            "Epoch 176/200\n",
            "5/5 [==============================] - 1s 293ms/step - loss: 0.0791\n",
            "Epoch 177/200\n",
            "5/5 [==============================] - 2s 360ms/step - loss: 0.0833\n",
            "Epoch 178/200\n",
            "5/5 [==============================] - 2s 307ms/step - loss: 0.0801\n",
            "Epoch 179/200\n",
            "5/5 [==============================] - 2s 346ms/step - loss: 0.0794\n",
            "Epoch 180/200\n",
            "5/5 [==============================] - 10s 2s/step - loss: 0.0795\n",
            "Epoch 181/200\n",
            "5/5 [==============================] - 1s 295ms/step - loss: 0.0774\n",
            "Epoch 182/200\n",
            "5/5 [==============================] - 2s 422ms/step - loss: 0.0776\n",
            "Epoch 183/200\n",
            "5/5 [==============================] - 5s 1s/step - loss: 0.0762\n",
            "Epoch 184/200\n",
            "5/5 [==============================] - 2s 458ms/step - loss: 0.0750\n",
            "Epoch 185/200\n",
            "5/5 [==============================] - 4s 815ms/step - loss: 0.0741\n",
            "Epoch 186/200\n",
            "5/5 [==============================] - 6s 1s/step - loss: 0.0743\n",
            "Epoch 187/200\n",
            "5/5 [==============================] - 3s 532ms/step - loss: 0.0742\n",
            "Epoch 188/200\n",
            "5/5 [==============================] - 10s 2s/step - loss: 0.0721\n",
            "Epoch 189/200\n",
            "5/5 [==============================] - 1s 294ms/step - loss: 0.0714\n",
            "Epoch 190/200\n",
            "5/5 [==============================] - 1s 286ms/step - loss: 0.0726\n",
            "Epoch 191/200\n",
            "5/5 [==============================] - 9s 2s/step - loss: 0.0693\n",
            "Epoch 192/200\n",
            "5/5 [==============================] - 1s 296ms/step - loss: 0.0714\n",
            "Epoch 193/200\n",
            "5/5 [==============================] - 2s 348ms/step - loss: 0.0674\n",
            "Epoch 194/200\n",
            "5/5 [==============================] - 8s 2s/step - loss: 0.0678\n",
            "Epoch 195/200\n",
            "5/5 [==============================] - 1s 298ms/step - loss: 0.0716\n",
            "Epoch 196/200\n",
            "5/5 [==============================] - 8s 2s/step - loss: 0.0697\n",
            "Epoch 197/200\n",
            "5/5 [==============================] - 5s 1s/step - loss: 0.0678\n",
            "Epoch 198/200\n",
            "5/5 [==============================] - 1s 284ms/step - loss: 0.0696\n",
            "Epoch 199/200\n",
            "5/5 [==============================] - 2s 302ms/step - loss: 0.0667\n",
            "Epoch 200/200\n",
            "5/5 [==============================] - 9s 2s/step - loss: 0.0650\n"
          ],
          "name": "stdout"
        }
      ]
    },
    {
      "cell_type": "markdown",
      "metadata": {
        "id": "lROQgIgagSQf"
      },
      "source": [
        "## Generate text"
      ]
    },
    {
      "cell_type": "code",
      "metadata": {
        "id": "AHzu33uTgFk-",
        "outputId": "19a567cc-2c6c-4db7-ed16-3f3c1d168468",
        "colab": {
          "base_uri": "https://localhost:8080/",
          "height": 35
        }
      },
      "source": [
        "tf.train.latest_checkpoint(checkpoint_dir)"
      ],
      "execution_count": null,
      "outputs": [
        {
          "output_type": "execute_result",
          "data": {
            "application/vnd.google.colaboratory.intrinsic+json": {
              "type": "string"
            },
            "text/plain": [
              "'./training_checkpoints/ckpt_200'"
            ]
          },
          "metadata": {
            "tags": []
          },
          "execution_count": 29
        }
      ]
    },
    {
      "cell_type": "code",
      "metadata": {
        "id": "g_gW3JG2gFsP"
      },
      "source": [
        "model = build_model(vocab_size, embedding_dim, rnn_units, batch_size=1)\n",
        "\n",
        "model.load_weights(tf.train.latest_checkpoint(checkpoint_dir))\n",
        "\n",
        "model.build(tf.TensorShape([1, None]))"
      ],
      "execution_count": null,
      "outputs": []
    },
    {
      "cell_type": "code",
      "metadata": {
        "id": "CR52OpxjhLmB",
        "outputId": "eb86a7ae-42a7-407d-a1c8-4569bb8543c1",
        "colab": {
          "base_uri": "https://localhost:8080/"
        }
      },
      "source": [
        "model.summary()"
      ],
      "execution_count": null,
      "outputs": [
        {
          "output_type": "stream",
          "text": [
            "Model: \"sequential_1\"\n",
            "_________________________________________________________________\n",
            "Layer (type)                 Output Shape              Param #   \n",
            "=================================================================\n",
            "embedding_1 (Embedding)      (1, None, 256)            2192896   \n",
            "_________________________________________________________________\n",
            "gru_1 (GRU)                  (1, None, 1024)           3938304   \n",
            "_________________________________________________________________\n",
            "dense_1 (Dense)              (1, None, 8566)           8780150   \n",
            "=================================================================\n",
            "Total params: 14,911,350\n",
            "Trainable params: 14,911,350\n",
            "Non-trainable params: 0\n",
            "_________________________________________________________________\n"
          ],
          "name": "stdout"
        }
      ]
    },
    {
      "cell_type": "code",
      "metadata": {
        "id": "WSQsEf4dhLf-"
      },
      "source": [
        "def generate_text(model, start_string):\n",
        "    # Evaluation step (generating text using the learned model)\n",
        "\n",
        "    # Number of characters to generate\n",
        "    num_generate = 500\n",
        "\n",
        "    # Converting our start string to numbers (vectorizing)\n",
        "    input_eval = []\n",
        "\n",
        "    words = start_string.lower().strip().split(\" \")\n",
        "    for word in words:\n",
        "        point, comma = False, False\n",
        "        if \",\" in word:\n",
        "            comma = True\n",
        "        if \".\" in word:\n",
        "            point = True\n",
        "        word = ''.join([ch for ch in list(word) if ch not in string.punctuation])\n",
        "        input_eval.append(word2vec[word])\n",
        "        if comma:\n",
        "            input_eval.append(word2vec[\",\"])\n",
        "        if point:\n",
        "            input_eval.append(word2vec[\".\"])\n",
        "    # input_eval = [word2vec[s] for s in start_string]\n",
        "    input_eval = tf.expand_dims(input_eval, 0)\n",
        "\n",
        "    # Empty string to store our results\n",
        "    text_generated = []\n",
        "\n",
        "    # Low temperature results in more predictable text.\n",
        "    # Higher temperature results in more surprising text.\n",
        "    # Experiment to find the best setting.\n",
        "    temperature = 0.5\n",
        "\n",
        "    # Here batch size == 1\n",
        "    model.reset_states()\n",
        "    for i in range(num_generate):\n",
        "        predictions = model(input_eval)\n",
        "        predictions = tf.squeeze(predictions, 0)\n",
        "        # using a categorical distribution to predict the character returned by the model\n",
        "        predictions = predictions / temperature\n",
        "        predicted_id = tf.random.categorical(predictions, num_samples=1)[-1, 0].numpy()\n",
        "\n",
        "        # Pass the predicted character as the next input to the model\n",
        "        # along with the previous hidden state\n",
        "        input_eval = tf.expand_dims([predicted_id], 0)\n",
        "\n",
        "        # print(predicted_id)\n",
        "        \n",
        "        text_generated.append(idx2word[predicted_id])\n",
        "\n",
        "    return (start_string + ' '.join(text_generated))"
      ],
      "execution_count": null,
      "outputs": []
    },
    {
      "cell_type": "code",
      "metadata": {
        "id": "pbhps08qhLZB",
        "outputId": "dcbf086b-e179-407d-95db-bdd65f2cfa0e",
        "colab": {
          "base_uri": "https://localhost:8080/"
        }
      },
      "source": [
        "start_string = u\"Уж небо осенью дышало, \\n Уж реже солнышко блистало, \\n Короче становился день,\"\n",
        "\n",
        "print(generate_text(model, start_string=start_string))"
      ],
      "execution_count": null,
      "outputs": [
        {
          "output_type": "stream",
          "text": [
            "Уж небо осенью дышало, \n",
            " Уж реже солнышко блистало, \n",
            " Короче становился день,последней конце конце плечу глухой удовольствием почте удовольствием мере плечу моде цели барами дремлющей последней плечу плечу мере хвостиком огонь огонь моде удовольствием шумящею конце конце плечу удовольствием моде моде плечу плечу последней брегам куклою суд плечу плечу последней плечу мере вечности плечу ручью родственным плечу плечу залу брусничною точностью косу колено работам брусничною плечу последней мере плечу плечу плечу барами плечу плечу брусничною удовольствием последней моде моде трепетом восточной домом плечу почте удовольствием видом удовольствием начала солнцем моде плечу плечу шумящею шумящею конце скату плечу холма последней колено плечу последней плечу левой конце последней конце удовольствием крайний ученым последней почте шумящею конце зимнем скату шумящею плечу окном удовольствием моде почте плечу прелестного плечу зале глазах плечу плечу почте конце моде плечу шумном плечу плечу петербургской конце родственным моде залу мере вольному конце плечу балтическим вандиковой ольгой плечу куклою удовольствием плечу плечу плечу листком лечь цели куклою церковь мере почте удовольствием почте почте лону плечу удовольствием обычаю плечу темноте ванну последней умной мере плечу моде родственным скату плечу моде плечу имени плечу петербургской плечу почте книгою моде родственным шумящею плечу удовольствием мере окном мере окном почте плечу трепетом родственным мере юностью мраморным залу мере шумящею плечу почте моде балтическим мере моде глупого плечу почте родственным шумящею почте расчисленью кувшином моде трепетом плечу плечу зале моде последней моде последней лону родственным удовольствием расчисленью родственным окрестных тайною последней плечу мере шумящею хладною цельным плечу последней удовольствием родственным конце плечу плечу моде обманы гордостью тайною бильярде удовольствием чашкам шумящею плечу удовольствием плечу мере барами плечу моде темноте плечу моде плечу моде моде барами сению мере почте памяти моде плечу моде моде своими последней лону тверской моде моде плечу моде ручью плечу моде заснуть почте мраморным шумящею имени плечу мраморным шумящею мере моде барами темноте мере колено волнами барами барами плечу ручью родственным скату плечу плечу плечу моде плечу кувшином последней мере моде плечу плечу почте няней моде яблочной плечу плечу последней мраморным волнами куклою моде сочельник барами брусничною шумящею видом гостиной плечу юностью плечу родственным барами мере почте шумящею мере плечу барами барами мере брусничною шумящею темноте залу имени плечу содроганьем каждою моде мере удовольствием последней плечу залу мере увядшем преданью неизъяснимою вольному петербургской плечу плечу ними ключницей мере плечу плечу моде холма гарольдовом плечу мере моде колено моде плечу плечу брусничною плечу плечу почте плечу моде красном мере родственным плечу родственным колено землю мере плечу последней шумящею плечу увядшем моде плечу мере ученым плечу плечу ручью волнами мере плечу плечу последней тверской последней куклою избушке мере работам глупого плечу моде юностью плечу моде плечу моде почте тайною плечу петербургской плечу удовольствием солнцем моде почте гору последней шумящею шумящею мере вами левой моде плечу моде плечу плечу плечу почте плечу плечу моде плечу моде плечу шумящею последней шумящею шумящею почте последней мере моде удовольствием мере мере моде почте плечу моде плечу плечу плечу почте плечу почте мере моде удовольствием последней колено моде брусничною залу последней шумящею мере плечу увядшем моде родственным плечу чинам темноте родственным тверской плечу холма лире плечу вольному шумящею плечу\n"
          ],
          "name": "stdout"
        }
      ]
    },
    {
      "cell_type": "markdown",
      "metadata": {
        "id": "HSxwK0o2H_fs"
      },
      "source": [
        "## Задание 2"
      ]
    },
    {
      "cell_type": "markdown",
      "metadata": {
        "id": "BNNHuvw3H_s0"
      },
      "source": [
        "Запустить seq2seq, seq2seq с внимаием для перевода русских слов + описать наблюдения по качеству"
      ]
    },
    {
      "cell_type": "markdown",
      "metadata": {
        "id": "HRRiJQvl_deB"
      },
      "source": [
        "## Посимвольно"
      ]
    },
    {
      "cell_type": "code",
      "metadata": {
        "id": "sGedX9hbIIIn"
      },
      "source": [
        "from keras.models import Model\n",
        "from keras.layers import Input, LSTM, Dense"
      ],
      "execution_count": null,
      "outputs": []
    },
    {
      "cell_type": "code",
      "metadata": {
        "id": "0m9lMzpW4lbR"
      },
      "source": [
        "batch_size = 128\n",
        "epochs = 100\n",
        "latent_dim = 256\n",
        "num_samples = 20000\n",
        "data_path = '/content/gdrive/My Drive/Colab Notebooks/NLP/data/rus-eng/rus.txt'"
      ],
      "execution_count": null,
      "outputs": []
    },
    {
      "cell_type": "code",
      "metadata": {
        "id": "r61xgg1g5zPt"
      },
      "source": [
        "# Собираем из текстов токены и делаем one-hot вектора на каждый токен\n",
        "\n",
        "input_texts = []\n",
        "target_texts = []\n",
        "input_characters = set()\n",
        "target_characters = set()\n",
        "\n",
        "with open(data_path, 'r', encoding='utf-8') as f:\n",
        "    lines = f.read().split('\\n')\n",
        "    \n",
        "for line in lines[: min(num_samples, len(lines) - 1)]:\n",
        "    input_text, target_text, _ = line.split('\\t')\n",
        "    target_text = '\\t' + target_text + '\\n'\n",
        "    input_texts.append(input_text)\n",
        "    target_texts.append(target_text)\n",
        "    for char in input_text:\n",
        "        if char not in input_characters:\n",
        "            input_characters.add(char)\n",
        "    for char in target_text:\n",
        "        if char not in target_characters:\n",
        "            target_characters.add(char)\n",
        "\n",
        "input_characters = sorted(list(input_characters))\n",
        "target_characters = sorted(list(target_characters))\n",
        "num_encoder_tokens = len(input_characters)\n",
        "num_decoder_tokens = len(target_characters)\n",
        "max_encoder_seq_length = max([len(txt) for txt in input_texts])\n",
        "max_decoder_seq_length = max([len(txt) for txt in target_texts])"
      ],
      "execution_count": null,
      "outputs": []
    },
    {
      "cell_type": "code",
      "metadata": {
        "id": "nvwaSyr37MEl"
      },
      "source": [
        "input_token_index = dict(\n",
        "    [(char, i) for i, char in enumerate(input_characters)])\n",
        "target_token_index = dict(\n",
        "    [(char, i) for i, char in enumerate(target_characters)])"
      ],
      "execution_count": null,
      "outputs": []
    },
    {
      "cell_type": "code",
      "metadata": {
        "id": "jstbUCYf72m6"
      },
      "source": [
        "encoder_input_data = np.zeros(\n",
        "    (len(input_texts), max_encoder_seq_length, num_encoder_tokens),\n",
        "    dtype='float32')\n",
        "decoder_input_data = np.zeros(\n",
        "    (len(input_texts), max_decoder_seq_length, num_decoder_tokens),\n",
        "    dtype='float32')\n",
        "decoder_target_data = np.zeros(\n",
        "    (len(input_texts), max_decoder_seq_length, num_decoder_tokens),\n",
        "    dtype='float32')"
      ],
      "execution_count": null,
      "outputs": []
    },
    {
      "cell_type": "code",
      "metadata": {
        "id": "R_99USqX8bUp"
      },
      "source": [
        "for i, (input_text, target_text) in enumerate(zip(input_texts, target_texts)):\n",
        "    for t, char in enumerate(input_text):\n",
        "        encoder_input_data[i, t, input_token_index[char]] = 1.\n",
        "    encoder_input_data[i, t + 1:, input_token_index[' ']] = 1.\n",
        "    for t, char in enumerate(target_text):\n",
        "        decoder_input_data[i, t, target_token_index[char]] = 1.\n",
        "        if t > 0:\n",
        "            decoder_target_data[i, t - 1, target_token_index[char]] = 1.\n",
        "    decoder_input_data[i, t + 1:, target_token_index[' ']] = 1.\n",
        "    decoder_target_data[i, t:, target_token_index[' ']] = 1."
      ],
      "execution_count": null,
      "outputs": []
    },
    {
      "cell_type": "code",
      "metadata": {
        "id": "jc7AzS6D8gzm",
        "outputId": "091da57f-2736-4a2a-93e7-2f3e0ae3b910",
        "colab": {
          "base_uri": "https://localhost:8080/"
        }
      },
      "source": [
        "encoder_inputs = Input(shape=(None, num_encoder_tokens))\n",
        "encoder = LSTM(latent_dim, return_state=True)\n",
        "encoder_outputs, state_h, state_c = encoder(encoder_inputs)\n",
        "encoder_states = [state_h, state_c]\n",
        "\n",
        "decoder_inputs = Input(shape=(None, num_decoder_tokens))\n",
        "decoder_lstm = LSTM(latent_dim, return_sequences=True, return_state=True)\n",
        "decoder_outputs, _, _ = decoder_lstm(decoder_inputs,\n",
        "                                     initial_state=encoder_states)\n",
        "decoder_dense = Dense(num_decoder_tokens, activation='softmax')\n",
        "decoder_outputs = decoder_dense(decoder_outputs)\n",
        "\n",
        "model = Model([encoder_inputs, decoder_inputs], decoder_outputs)\n",
        "\n",
        "model.compile(optimizer='adam', loss='categorical_crossentropy',\n",
        "              metrics=['accuracy'])\n",
        "model.fit([encoder_input_data, decoder_input_data], decoder_target_data,\n",
        "          batch_size=batch_size,\n",
        "          epochs=epochs,\n",
        "          validation_split=0.2)\n",
        "\n",
        "encoder_model = Model(encoder_inputs, encoder_states)\n",
        "\n",
        "decoder_state_input_h = Input(shape=(latent_dim,))\n",
        "decoder_state_input_c = Input(shape=(latent_dim,))\n",
        "decoder_states_inputs = [decoder_state_input_h, decoder_state_input_c]\n",
        "decoder_outputs, state_h, state_c = decoder_lstm(\n",
        "    decoder_inputs, initial_state=decoder_states_inputs)\n",
        "decoder_states = [state_h, state_c]\n",
        "decoder_outputs = decoder_dense(decoder_outputs)\n",
        "decoder_model = Model(\n",
        "    [decoder_inputs] + decoder_states_inputs,\n",
        "    [decoder_outputs] + decoder_states)\n",
        "\n",
        "reverse_input_char_index = dict(\n",
        "    (i, char) for char, i in input_token_index.items())\n",
        "reverse_target_char_index = dict(\n",
        "    (i, char) for char, i in target_token_index.items())"
      ],
      "execution_count": 21,
      "outputs": [
        {
          "output_type": "stream",
          "text": [
            "Epoch 1/100\n",
            "125/125 [==============================] - 3s 23ms/step - loss: 1.2070 - accuracy: 0.7582 - val_loss: 0.9716 - val_accuracy: 0.7333\n",
            "Epoch 2/100\n",
            "125/125 [==============================] - 2s 17ms/step - loss: 0.7873 - accuracy: 0.7878 - val_loss: 0.8220 - val_accuracy: 0.7868\n",
            "Epoch 3/100\n",
            "125/125 [==============================] - 2s 18ms/step - loss: 0.6677 - accuracy: 0.8209 - val_loss: 0.7089 - val_accuracy: 0.8041\n",
            "Epoch 4/100\n",
            "125/125 [==============================] - 2s 18ms/step - loss: 0.5941 - accuracy: 0.8332 - val_loss: 0.6535 - val_accuracy: 0.8149\n",
            "Epoch 5/100\n",
            "125/125 [==============================] - 2s 18ms/step - loss: 0.5895 - accuracy: 0.8349 - val_loss: 0.6300 - val_accuracy: 0.8214\n",
            "Epoch 6/100\n",
            "125/125 [==============================] - 2s 17ms/step - loss: 0.5411 - accuracy: 0.8449 - val_loss: 0.6043 - val_accuracy: 0.8256\n",
            "Epoch 7/100\n",
            "125/125 [==============================] - 2s 17ms/step - loss: 0.5197 - accuracy: 0.8496 - val_loss: 0.5876 - val_accuracy: 0.8292\n",
            "Epoch 8/100\n",
            "125/125 [==============================] - 2s 19ms/step - loss: 0.5028 - accuracy: 0.8538 - val_loss: 0.5724 - val_accuracy: 0.8339\n",
            "Epoch 9/100\n",
            "125/125 [==============================] - 2s 17ms/step - loss: 0.4878 - accuracy: 0.8581 - val_loss: 0.5527 - val_accuracy: 0.8395\n",
            "Epoch 10/100\n",
            "125/125 [==============================] - 2s 18ms/step - loss: 0.4741 - accuracy: 0.8619 - val_loss: 0.5414 - val_accuracy: 0.8425\n",
            "Epoch 11/100\n",
            "125/125 [==============================] - 2s 18ms/step - loss: 0.4620 - accuracy: 0.8653 - val_loss: 0.5291 - val_accuracy: 0.8457\n",
            "Epoch 12/100\n",
            "125/125 [==============================] - 2s 18ms/step - loss: 0.4515 - accuracy: 0.8682 - val_loss: 0.5189 - val_accuracy: 0.8488\n",
            "Epoch 13/100\n",
            "125/125 [==============================] - 2s 18ms/step - loss: 0.4404 - accuracy: 0.8714 - val_loss: 0.5117 - val_accuracy: 0.8511\n",
            "Epoch 14/100\n",
            "125/125 [==============================] - 2s 18ms/step - loss: 0.4308 - accuracy: 0.8743 - val_loss: 0.5041 - val_accuracy: 0.8532\n",
            "Epoch 15/100\n",
            "125/125 [==============================] - 2s 18ms/step - loss: 0.4205 - accuracy: 0.8775 - val_loss: 0.4953 - val_accuracy: 0.8551\n",
            "Epoch 16/100\n",
            "125/125 [==============================] - 2s 17ms/step - loss: 0.4114 - accuracy: 0.8799 - val_loss: 0.4872 - val_accuracy: 0.8581\n",
            "Epoch 17/100\n",
            "125/125 [==============================] - 2s 18ms/step - loss: 0.4022 - accuracy: 0.8826 - val_loss: 0.4822 - val_accuracy: 0.8597\n",
            "Epoch 18/100\n",
            "125/125 [==============================] - 2s 18ms/step - loss: 0.3935 - accuracy: 0.8850 - val_loss: 0.4710 - val_accuracy: 0.8633\n",
            "Epoch 19/100\n",
            "125/125 [==============================] - 2s 18ms/step - loss: 0.3842 - accuracy: 0.8876 - val_loss: 0.4688 - val_accuracy: 0.8642\n",
            "Epoch 20/100\n",
            "125/125 [==============================] - 2s 18ms/step - loss: 0.3758 - accuracy: 0.8902 - val_loss: 0.4596 - val_accuracy: 0.8658\n",
            "Epoch 21/100\n",
            "125/125 [==============================] - 2s 18ms/step - loss: 0.3679 - accuracy: 0.8925 - val_loss: 0.4547 - val_accuracy: 0.8683\n",
            "Epoch 22/100\n",
            "125/125 [==============================] - 2s 18ms/step - loss: 0.3590 - accuracy: 0.8953 - val_loss: 0.4471 - val_accuracy: 0.8708\n",
            "Epoch 23/100\n",
            "125/125 [==============================] - 2s 18ms/step - loss: 0.3519 - accuracy: 0.8971 - val_loss: 0.4436 - val_accuracy: 0.8717\n",
            "Epoch 24/100\n",
            "125/125 [==============================] - 2s 18ms/step - loss: 0.3443 - accuracy: 0.8994 - val_loss: 0.4373 - val_accuracy: 0.8739\n",
            "Epoch 25/100\n",
            "125/125 [==============================] - 2s 18ms/step - loss: 0.3361 - accuracy: 0.9017 - val_loss: 0.4347 - val_accuracy: 0.8750\n",
            "Epoch 26/100\n",
            "125/125 [==============================] - 2s 17ms/step - loss: 0.3293 - accuracy: 0.9037 - val_loss: 0.4330 - val_accuracy: 0.8753\n",
            "Epoch 27/100\n",
            "125/125 [==============================] - 2s 18ms/step - loss: 0.3219 - accuracy: 0.9055 - val_loss: 0.4261 - val_accuracy: 0.8771\n",
            "Epoch 28/100\n",
            "125/125 [==============================] - 2s 18ms/step - loss: 0.3149 - accuracy: 0.9078 - val_loss: 0.4291 - val_accuracy: 0.8768\n",
            "Epoch 29/100\n",
            "125/125 [==============================] - 2s 18ms/step - loss: 0.3083 - accuracy: 0.9096 - val_loss: 0.4204 - val_accuracy: 0.8794\n",
            "Epoch 30/100\n",
            "125/125 [==============================] - 2s 18ms/step - loss: 0.3014 - accuracy: 0.9115 - val_loss: 0.4183 - val_accuracy: 0.8809\n",
            "Epoch 31/100\n",
            "125/125 [==============================] - 2s 18ms/step - loss: 0.2942 - accuracy: 0.9137 - val_loss: 0.4148 - val_accuracy: 0.8812\n",
            "Epoch 32/100\n",
            "125/125 [==============================] - 2s 18ms/step - loss: 0.2870 - accuracy: 0.9154 - val_loss: 0.4139 - val_accuracy: 0.8820\n",
            "Epoch 33/100\n",
            "125/125 [==============================] - 2s 18ms/step - loss: 0.2802 - accuracy: 0.9175 - val_loss: 0.4125 - val_accuracy: 0.8829\n",
            "Epoch 34/100\n",
            "125/125 [==============================] - 2s 18ms/step - loss: 0.2736 - accuracy: 0.9196 - val_loss: 0.4110 - val_accuracy: 0.8833\n",
            "Epoch 35/100\n",
            "125/125 [==============================] - 2s 18ms/step - loss: 0.2668 - accuracy: 0.9213 - val_loss: 0.4112 - val_accuracy: 0.8840\n",
            "Epoch 36/100\n",
            "125/125 [==============================] - 2s 18ms/step - loss: 0.2607 - accuracy: 0.9232 - val_loss: 0.4091 - val_accuracy: 0.8845\n",
            "Epoch 37/100\n",
            "125/125 [==============================] - 2s 18ms/step - loss: 0.2546 - accuracy: 0.9247 - val_loss: 0.4083 - val_accuracy: 0.8857\n",
            "Epoch 38/100\n",
            "125/125 [==============================] - 2s 18ms/step - loss: 0.2485 - accuracy: 0.9266 - val_loss: 0.4086 - val_accuracy: 0.8857\n",
            "Epoch 39/100\n",
            "125/125 [==============================] - 2s 18ms/step - loss: 0.2423 - accuracy: 0.9285 - val_loss: 0.4108 - val_accuracy: 0.8860\n",
            "Epoch 40/100\n",
            "125/125 [==============================] - 2s 18ms/step - loss: 0.2365 - accuracy: 0.9299 - val_loss: 0.4086 - val_accuracy: 0.8864\n",
            "Epoch 41/100\n",
            "125/125 [==============================] - 2s 18ms/step - loss: 0.2301 - accuracy: 0.9320 - val_loss: 0.4099 - val_accuracy: 0.8866\n",
            "Epoch 42/100\n",
            "125/125 [==============================] - 2s 18ms/step - loss: 0.2248 - accuracy: 0.9334 - val_loss: 0.4104 - val_accuracy: 0.8865\n",
            "Epoch 43/100\n",
            "125/125 [==============================] - 2s 18ms/step - loss: 0.2187 - accuracy: 0.9352 - val_loss: 0.4122 - val_accuracy: 0.8874\n",
            "Epoch 44/100\n",
            "125/125 [==============================] - 2s 18ms/step - loss: 0.2137 - accuracy: 0.9366 - val_loss: 0.4137 - val_accuracy: 0.8871\n",
            "Epoch 45/100\n",
            "125/125 [==============================] - 2s 18ms/step - loss: 0.2077 - accuracy: 0.9384 - val_loss: 0.4127 - val_accuracy: 0.8881\n",
            "Epoch 46/100\n",
            "125/125 [==============================] - 2s 18ms/step - loss: 0.2024 - accuracy: 0.9397 - val_loss: 0.4147 - val_accuracy: 0.8878\n",
            "Epoch 47/100\n",
            "125/125 [==============================] - 2s 18ms/step - loss: 0.1979 - accuracy: 0.9410 - val_loss: 0.4170 - val_accuracy: 0.8881\n",
            "Epoch 48/100\n",
            "125/125 [==============================] - 2s 18ms/step - loss: 0.1929 - accuracy: 0.9425 - val_loss: 0.4194 - val_accuracy: 0.8884\n",
            "Epoch 49/100\n",
            "125/125 [==============================] - 2s 18ms/step - loss: 0.1877 - accuracy: 0.9440 - val_loss: 0.4221 - val_accuracy: 0.8885\n",
            "Epoch 50/100\n",
            "125/125 [==============================] - 2s 18ms/step - loss: 0.1828 - accuracy: 0.9455 - val_loss: 0.4237 - val_accuracy: 0.8878\n",
            "Epoch 51/100\n",
            "125/125 [==============================] - 2s 18ms/step - loss: 0.1784 - accuracy: 0.9465 - val_loss: 0.4287 - val_accuracy: 0.8883\n",
            "Epoch 52/100\n",
            "125/125 [==============================] - 2s 18ms/step - loss: 0.1735 - accuracy: 0.9481 - val_loss: 0.4290 - val_accuracy: 0.8879\n",
            "Epoch 53/100\n",
            "125/125 [==============================] - 2s 18ms/step - loss: 0.1686 - accuracy: 0.9496 - val_loss: 0.4346 - val_accuracy: 0.8880\n",
            "Epoch 54/100\n",
            "125/125 [==============================] - 2s 18ms/step - loss: 0.1653 - accuracy: 0.9505 - val_loss: 0.4390 - val_accuracy: 0.8875\n",
            "Epoch 55/100\n",
            "125/125 [==============================] - 2s 18ms/step - loss: 0.1607 - accuracy: 0.9516 - val_loss: 0.4398 - val_accuracy: 0.8876\n",
            "Epoch 56/100\n",
            "125/125 [==============================] - 2s 18ms/step - loss: 0.1561 - accuracy: 0.9529 - val_loss: 0.4438 - val_accuracy: 0.8871\n",
            "Epoch 57/100\n",
            "125/125 [==============================] - 2s 18ms/step - loss: 0.1530 - accuracy: 0.9539 - val_loss: 0.4454 - val_accuracy: 0.8877\n",
            "Epoch 58/100\n",
            "125/125 [==============================] - 2s 18ms/step - loss: 0.1485 - accuracy: 0.9552 - val_loss: 0.4482 - val_accuracy: 0.8877\n",
            "Epoch 59/100\n",
            "125/125 [==============================] - 2s 18ms/step - loss: 0.1447 - accuracy: 0.9562 - val_loss: 0.4520 - val_accuracy: 0.8872\n",
            "Epoch 60/100\n",
            "125/125 [==============================] - 2s 18ms/step - loss: 0.1412 - accuracy: 0.9572 - val_loss: 0.4587 - val_accuracy: 0.8874\n",
            "Epoch 61/100\n",
            "125/125 [==============================] - 2s 18ms/step - loss: 0.1375 - accuracy: 0.9582 - val_loss: 0.4610 - val_accuracy: 0.8869\n",
            "Epoch 62/100\n",
            "125/125 [==============================] - 2s 18ms/step - loss: 0.1343 - accuracy: 0.9593 - val_loss: 0.4643 - val_accuracy: 0.8877\n",
            "Epoch 63/100\n",
            "125/125 [==============================] - 2s 18ms/step - loss: 0.1312 - accuracy: 0.9600 - val_loss: 0.4675 - val_accuracy: 0.8877\n",
            "Epoch 64/100\n",
            "125/125 [==============================] - 2s 18ms/step - loss: 0.1278 - accuracy: 0.9610 - val_loss: 0.4727 - val_accuracy: 0.8873\n",
            "Epoch 65/100\n",
            "125/125 [==============================] - 2s 18ms/step - loss: 0.1245 - accuracy: 0.9619 - val_loss: 0.4770 - val_accuracy: 0.8868\n",
            "Epoch 66/100\n",
            "125/125 [==============================] - 2s 18ms/step - loss: 0.1212 - accuracy: 0.9629 - val_loss: 0.4803 - val_accuracy: 0.8871\n",
            "Epoch 67/100\n",
            "125/125 [==============================] - 2s 18ms/step - loss: 0.1181 - accuracy: 0.9638 - val_loss: 0.4871 - val_accuracy: 0.8865\n",
            "Epoch 68/100\n",
            "125/125 [==============================] - 2s 18ms/step - loss: 0.1152 - accuracy: 0.9648 - val_loss: 0.4826 - val_accuracy: 0.8878\n",
            "Epoch 69/100\n",
            "125/125 [==============================] - 2s 18ms/step - loss: 0.1126 - accuracy: 0.9653 - val_loss: 0.4961 - val_accuracy: 0.8856\n",
            "Epoch 70/100\n",
            "125/125 [==============================] - 2s 18ms/step - loss: 0.1100 - accuracy: 0.9660 - val_loss: 0.5007 - val_accuracy: 0.8862\n",
            "Epoch 71/100\n",
            "125/125 [==============================] - 2s 18ms/step - loss: 0.1075 - accuracy: 0.9668 - val_loss: 0.5015 - val_accuracy: 0.8864\n",
            "Epoch 72/100\n",
            "125/125 [==============================] - 2s 18ms/step - loss: 0.1056 - accuracy: 0.9673 - val_loss: 0.5106 - val_accuracy: 0.8856\n",
            "Epoch 73/100\n",
            "125/125 [==============================] - 2s 18ms/step - loss: 0.1031 - accuracy: 0.9679 - val_loss: 0.5074 - val_accuracy: 0.8864\n",
            "Epoch 74/100\n",
            "125/125 [==============================] - 2s 18ms/step - loss: 0.1001 - accuracy: 0.9690 - val_loss: 0.5140 - val_accuracy: 0.8860\n",
            "Epoch 75/100\n",
            "125/125 [==============================] - 2s 18ms/step - loss: 0.0986 - accuracy: 0.9692 - val_loss: 0.5189 - val_accuracy: 0.8858\n",
            "Epoch 76/100\n",
            "125/125 [==============================] - 2s 18ms/step - loss: 0.0953 - accuracy: 0.9702 - val_loss: 0.5240 - val_accuracy: 0.8856\n",
            "Epoch 77/100\n",
            "125/125 [==============================] - 2s 18ms/step - loss: 0.0932 - accuracy: 0.9709 - val_loss: 0.5268 - val_accuracy: 0.8867\n",
            "Epoch 78/100\n",
            "125/125 [==============================] - 2s 18ms/step - loss: 0.0911 - accuracy: 0.9715 - val_loss: 0.5310 - val_accuracy: 0.8851\n",
            "Epoch 79/100\n",
            "125/125 [==============================] - 2s 18ms/step - loss: 0.0887 - accuracy: 0.9722 - val_loss: 0.5361 - val_accuracy: 0.8854\n",
            "Epoch 80/100\n",
            "125/125 [==============================] - 2s 18ms/step - loss: 0.0870 - accuracy: 0.9726 - val_loss: 0.5436 - val_accuracy: 0.8844\n",
            "Epoch 81/100\n",
            "125/125 [==============================] - 2s 18ms/step - loss: 0.0856 - accuracy: 0.9730 - val_loss: 0.5461 - val_accuracy: 0.8851\n",
            "Epoch 82/100\n",
            "125/125 [==============================] - 2s 18ms/step - loss: 0.0836 - accuracy: 0.9735 - val_loss: 0.5446 - val_accuracy: 0.8851\n",
            "Epoch 83/100\n",
            "125/125 [==============================] - 2s 18ms/step - loss: 0.0809 - accuracy: 0.9745 - val_loss: 0.5533 - val_accuracy: 0.8844\n",
            "Epoch 84/100\n",
            "125/125 [==============================] - 2s 17ms/step - loss: 0.0793 - accuracy: 0.9748 - val_loss: 0.5550 - val_accuracy: 0.8851\n",
            "Epoch 85/100\n",
            "125/125 [==============================] - 2s 18ms/step - loss: 0.0783 - accuracy: 0.9749 - val_loss: 0.5607 - val_accuracy: 0.8852\n",
            "Epoch 86/100\n",
            "125/125 [==============================] - 2s 18ms/step - loss: 0.0766 - accuracy: 0.9756 - val_loss: 0.5640 - val_accuracy: 0.8846\n",
            "Epoch 87/100\n",
            "125/125 [==============================] - 2s 18ms/step - loss: 0.0744 - accuracy: 0.9762 - val_loss: 0.5681 - val_accuracy: 0.8846\n",
            "Epoch 88/100\n",
            "125/125 [==============================] - 2s 17ms/step - loss: 0.0736 - accuracy: 0.9763 - val_loss: 0.5756 - val_accuracy: 0.8840\n",
            "Epoch 89/100\n",
            "125/125 [==============================] - 2s 18ms/step - loss: 0.0721 - accuracy: 0.9768 - val_loss: 0.5794 - val_accuracy: 0.8844\n",
            "Epoch 90/100\n",
            "125/125 [==============================] - 2s 18ms/step - loss: 0.0708 - accuracy: 0.9772 - val_loss: 0.5840 - val_accuracy: 0.8841\n",
            "Epoch 91/100\n",
            "125/125 [==============================] - 2s 18ms/step - loss: 0.0703 - accuracy: 0.9772 - val_loss: 0.5858 - val_accuracy: 0.8844\n",
            "Epoch 92/100\n",
            "125/125 [==============================] - 2s 18ms/step - loss: 0.0686 - accuracy: 0.9776 - val_loss: 0.5922 - val_accuracy: 0.8841\n",
            "Epoch 93/100\n",
            "125/125 [==============================] - 2s 18ms/step - loss: 0.0669 - accuracy: 0.9783 - val_loss: 0.5929 - val_accuracy: 0.8842\n",
            "Epoch 94/100\n",
            "125/125 [==============================] - 2s 18ms/step - loss: 0.0642 - accuracy: 0.9790 - val_loss: 0.5978 - val_accuracy: 0.8843\n",
            "Epoch 95/100\n",
            "125/125 [==============================] - 2s 18ms/step - loss: 0.0638 - accuracy: 0.9791 - val_loss: 0.6039 - val_accuracy: 0.8842\n",
            "Epoch 96/100\n",
            "125/125 [==============================] - 2s 18ms/step - loss: 0.0626 - accuracy: 0.9794 - val_loss: 0.6094 - val_accuracy: 0.8836\n",
            "Epoch 97/100\n",
            "125/125 [==============================] - 2s 18ms/step - loss: 0.0620 - accuracy: 0.9795 - val_loss: 0.6116 - val_accuracy: 0.8831\n",
            "Epoch 98/100\n",
            "125/125 [==============================] - 2s 18ms/step - loss: 0.0608 - accuracy: 0.9799 - val_loss: 0.6135 - val_accuracy: 0.8837\n",
            "Epoch 99/100\n",
            "125/125 [==============================] - 2s 18ms/step - loss: 0.0591 - accuracy: 0.9805 - val_loss: 0.6172 - val_accuracy: 0.8841\n",
            "Epoch 100/100\n",
            "125/125 [==============================] - 2s 18ms/step - loss: 0.0586 - accuracy: 0.9805 - val_loss: 0.6211 - val_accuracy: 0.8834\n"
          ],
          "name": "stdout"
        }
      ]
    },
    {
      "cell_type": "code",
      "metadata": {
        "id": "rwb_ftoE_8Ca"
      },
      "source": [
        "def decode_sequence(input_seq):\n",
        "    states_value = encoder_model.predict(input_seq)\n",
        "\n",
        "    target_seq = np.zeros((1, 1, num_decoder_tokens))\n",
        "    target_seq[0, 0, target_token_index['\\t']] = 1.\n",
        "\n",
        "    stop_condition = False\n",
        "    decoded_sentence = ''\n",
        "    while not stop_condition:\n",
        "        output_tokens, h, c = decoder_model.predict(\n",
        "            [target_seq] + states_value)\n",
        "\n",
        "        sampled_token_index = np.argmax(output_tokens[0, -1, :])\n",
        "        sampled_char = reverse_target_char_index[sampled_token_index]\n",
        "        decoded_sentence += sampled_char\n",
        "\n",
        "        if (sampled_char == '\\n' or\n",
        "           len(decoded_sentence) > max_decoder_seq_length):\n",
        "            stop_condition = True\n",
        "        target_seq = np.zeros((1, 1, num_decoder_tokens))\n",
        "        target_seq[0, 0, sampled_token_index] = 1.\n",
        "\n",
        "        states_value = [h, c]\n",
        "\n",
        "    return decoded_sentence"
      ],
      "execution_count": 22,
      "outputs": []
    },
    {
      "cell_type": "code",
      "metadata": {
        "id": "rl8LUX41ABIv",
        "outputId": "d3f79f82-2d69-4dbb-ec6c-4343aa0bf02a",
        "colab": {
          "base_uri": "https://localhost:8080/"
        }
      },
      "source": [
        "for seq_index in range(0, 20000, 500):\n",
        "    input_seq = encoder_input_data[seq_index: seq_index + 1]\n",
        "    decoded_sentence = decode_sequence(input_seq)\n",
        "    print('-')\n",
        "    print('Input sentence:', input_texts[seq_index])\n",
        "    print('Decoded sentence:', decoded_sentence)"
      ],
      "execution_count": 26,
      "outputs": [
        {
          "output_type": "stream",
          "text": [
            "-\n",
            "Input sentence: Go.\n",
            "Decoded sentence: Идите.\n",
            "\n",
            "-\n",
            "Input sentence: Have fun.\n",
            "Decoded sentence: Наслаждайтесь.\n",
            "\n",
            "-\n",
            "Input sentence: He smiled.\n",
            "Decoded sentence: Он улыбнулся.\n",
            "\n",
            "-\n",
            "Input sentence: Let us in.\n",
            "Decoded sentence: Впустите нас.\n",
            "\n",
            "-\n",
            "Input sentence: Eat slowly.\n",
            "Decoded sentence: Ешьте не спеша.\n",
            "\n",
            "-\n",
            "Input sentence: I'm stable.\n",
            "Decoded sentence: Я твердый.\n",
            "\n",
            "-\n",
            "Input sentence: Tom's well.\n",
            "Decoded sentence: Том в порядке.\n",
            "\n",
            "-\n",
            "Input sentence: He chuckled.\n",
            "Decoded sentence: Он хихикнул.\n",
            "\n",
            "-\n",
            "Input sentence: I was naive.\n",
            "Decoded sentence: Я был наивен.\n",
            "\n",
            "-\n",
            "Input sentence: Just say no.\n",
            "Decoded sentence: Просто скажи \"нет\".\n",
            "\n",
            "-\n",
            "Input sentence: Tom left me.\n",
            "Decoded sentence: Том отминился.\n",
            "\n",
            "-\n",
            "Input sentence: You're safe.\n",
            "Decoded sentence: Ты в безопасности.\n",
            "\n",
            "-\n",
            "Input sentence: He is chubby.\n",
            "Decoded sentence: Он путлесть.\n",
            "\n",
            "-\n",
            "Input sentence: I was joking.\n",
            "Decoded sentence: Я шутил.\n",
            "\n",
            "-\n",
            "Input sentence: Identify Tom.\n",
            "Decoded sentence: Идентифицируйте Тома.\n",
            "\n",
            "-\n",
            "Input sentence: Please leave.\n",
            "Decoded sentence: Уйди, пожалуйста.\n",
            "\n",
            "-\n",
            "Input sentence: Tom is tense.\n",
            "Decoded sentence: Том настийст.\n",
            "\n",
            "-\n",
            "Input sentence: Will he live?\n",
            "Decoded sentence: Он будет жить?\n",
            "\n",
            "-\n",
            "Input sentence: Did you smile?\n",
            "Decoded sentence: Ты улыбался?\n",
            "\n",
            "-\n",
            "Input sentence: I added water.\n",
            "Decoded sentence: Я долил воды.\n",
            "\n",
            "-\n",
            "Input sentence: I need a loan.\n",
            "Decoded sentence: Мне нужна одна работу.\n",
            "\n",
            "-\n",
            "Input sentence: I'm a colonel.\n",
            "Decoded sentence: Я полковник.\n",
            "\n",
            "-\n",
            "Input sentence: It was broken.\n",
            "Decoded sentence: Он был расстои.\n",
            "\n",
            "-\n",
            "Input sentence: Put that away.\n",
            "Decoded sentence: Положи это.\n",
            "\n",
            "-\n",
            "Input sentence: They're going.\n",
            "Decoded sentence: Они идут.\n",
            "\n",
            "-\n",
            "Input sentence: Tom whispered.\n",
            "Decoded sentence: Том вздострогился.\n",
            "\n",
            "-\n",
            "Input sentence: Who is absent?\n",
            "Decoded sentence: Кто отсутствует?\n",
            "\n",
            "-\n",
            "Input sentence: Bring her here.\n",
            "Decoded sentence: Приводи её сюда.\n",
            "\n",
            "-\n",
            "Input sentence: Don't sing, OK?\n",
            "Decoded sentence: Не пойте ладой?\n",
            "\n",
            "-\n",
            "Input sentence: How wide is it?\n",
            "Decoded sentence: Насколько он грустно?\n",
            "\n",
            "-\n",
            "Input sentence: I like to talk.\n",
            "Decoded sentence: Я люблю роговать.\n",
            "\n",
            "-\n",
            "Input sentence: I'll bring Tom.\n",
            "Decoded sentence: Я приведу Тома.\n",
            "\n",
            "-\n",
            "Input sentence: Isn't that Tom?\n",
            "Decoded sentence: Разве это не турать ониг днега?\n",
            "\n",
            "-\n",
            "Input sentence: May I kiss you?\n",
            "Decoded sentence: Могу сомнойти петивену?\n",
            "\n",
            "-\n",
            "Input sentence: That's my seat.\n",
            "Decoded sentence: Это мой мальчик.\n",
            "\n",
            "-\n",
            "Input sentence: Tom is elderly.\n",
            "Decoded sentence: Том живый.\n",
            "\n",
            "-\n",
            "Input sentence: Tom's studying.\n",
            "Decoded sentence: Том тулит.\n",
            "\n",
            "-\n",
            "Input sentence: Where's my cup?\n",
            "Decoded sentence: Где я?\n",
            "\n",
            "-\n",
            "Input sentence: You're so rude.\n",
            "Decoded sentence: Ты уврален.\n",
            "\n",
            "-\n",
            "Input sentence: Check your list.\n",
            "Decoded sentence: Просоожитесь всё.\n",
            "\n"
          ],
          "name": "stdout"
        }
      ]
    },
    {
      "cell_type": "markdown",
      "metadata": {
        "id": "TZRqFdQS_YsX"
      },
      "source": [
        "## Уровень слов"
      ]
    },
    {
      "cell_type": "code",
      "metadata": {
        "id": "lmudPG4KDdZi"
      },
      "source": [
        "import re\n",
        "import tensorflow.compat.v1 as tf\n",
        "# import tensorflow as tf"
      ],
      "execution_count": 78,
      "outputs": []
    },
    {
      "cell_type": "code",
      "metadata": {
        "id": "aBWA4KXL_9jE"
      },
      "source": [
        "tf.enable_eager_execution()\n",
        "\n",
        "input_texts = []\n",
        "target_texts = []\n",
        "\n",
        "def preprocess_sentence(w):\n",
        "    w = re.sub(r\"([?.!,¿])\", r\" \\1 \", w)\n",
        "    w = re.sub(r'[\" \"]+', \" \", w)\n",
        "    w = re.sub(r\"[^a-zA-Z?.!,¿]+\", \" \", w)\n",
        "    w = w.strip()\n",
        "    w = '<start> ' + w + ' <end>'\n",
        "    return w\n",
        "\n",
        "def preprocess_sentence_rus(w):\n",
        "    w = re.sub(r\"([?.!,¿])\", r\" \\1 \", w)\n",
        "    w = re.sub(r'[\" \"]+', \" \", w)\n",
        "    w = re.sub(r\"[^а-яА-Я?.!,¿]+\", \" \", w)\n",
        "    w = w.strip()\n",
        "    w = '<start> ' + w + ' <end>'\n",
        "    return w\n",
        "\n",
        "with open(data_path, 'r', encoding='utf-8') as f:\n",
        "    lines = f.read().split('\\n')\n",
        "\n",
        "for line in lines[: min(num_samples, len(lines) - 1)]:\n",
        "    input_text, target_text, _ = line.split('\\t')\n",
        "    target_text = '\\t' + target_text + '\\n'\n",
        "    input_texts.append(preprocess_sentence(input_text))\n",
        "    target_texts.append(preprocess_sentence_rus(target_text))"
      ],
      "execution_count": 79,
      "outputs": []
    },
    {
      "cell_type": "code",
      "metadata": {
        "id": "izbPKil_9mNo"
      },
      "source": [
        "def tokenize(lang):\n",
        "    lang_tokenizer = tf.keras.preprocessing.text.Tokenizer(\n",
        "      filters='')\n",
        "    lang_tokenizer.fit_on_texts(lang)\n",
        "    tensor = lang_tokenizer.texts_to_sequences(lang)\n",
        "    tensor = tf.keras.preprocessing.sequence.pad_sequences(tensor,\n",
        "                                                         padding='post')\n",
        "    return tensor, lang_tokenizer"
      ],
      "execution_count": 80,
      "outputs": []
    },
    {
      "cell_type": "code",
      "metadata": {
        "id": "zRwmxhemD1Tg"
      },
      "source": [
        "input_tensor, inp_lang_tokenizer = tokenize(input_texts)\n",
        "target_tensor, targ_lang_tokenizer = tokenize(target_texts)"
      ],
      "execution_count": 81,
      "outputs": []
    },
    {
      "cell_type": "code",
      "metadata": {
        "id": "p9IIoFYLD9rZ"
      },
      "source": [
        "from sklearn.model_selection import train_test_split\n",
        "\n",
        "input_tensor_train, input_tensor_val, target_tensor_train, target_tensor_val = train_test_split(input_tensor, target_tensor, test_size=0.2)"
      ],
      "execution_count": 82,
      "outputs": []
    },
    {
      "cell_type": "code",
      "metadata": {
        "id": "c9kEMr2mECVA"
      },
      "source": [
        "BUFFER_SIZE = len(input_tensor_train)\n",
        "BATCH_SIZE = 64\n",
        "steps_per_epoch = len(input_tensor_train)//BATCH_SIZE\n",
        "embedding_dim = 256\n",
        "units = 1024\n",
        "\n",
        "vocab_inp_size = len(inp_lang_tokenizer.word_index)+1\n",
        "vocab_tar_size = len(targ_lang_tokenizer.word_index)+1\n",
        "\n",
        "dataset = tf.data.Dataset.from_tensor_slices((input_tensor_train, target_tensor_train)).shuffle(BUFFER_SIZE)\n",
        "dataset = dataset.batch(BATCH_SIZE, drop_remainder=True)"
      ],
      "execution_count": 83,
      "outputs": []
    },
    {
      "cell_type": "code",
      "metadata": {
        "id": "pAqyjTCDEY_l"
      },
      "source": [
        "class Encoder(tf.keras.Model):\n",
        "    def __init__(self, vocab_size, embedding_dim, enc_units, batch_sz):\n",
        "        super(Encoder, self).__init__()\n",
        "        self.batch_sz = batch_sz\n",
        "        self.enc_units = enc_units\n",
        "        self.embedding = tf.keras.layers.Embedding(vocab_size, embedding_dim)\n",
        "        self.lstm = tf.keras.layers.GRU(self.enc_units,\n",
        "                                       return_sequences=True,\n",
        "                                       return_state=True)\n",
        "\n",
        "    def call(self, x, hidden):\n",
        "        x = self.embedding(x)\n",
        "        output, state = self.lstm(x, initial_state = hidden)\n",
        "        return output, state\n",
        "\n",
        "    def initialize_hidden_state(self):\n",
        "        return tf.zeros((self.batch_sz, self.enc_units))\n",
        "\n",
        "    \n",
        "class BahdanauAttention(tf.keras.layers.Layer):\n",
        "    def __init__(self, units):\n",
        "        super(BahdanauAttention, self).__init__()\n",
        "        self.W1 = tf.keras.layers.Dense(units)\n",
        "        self.W2 = tf.keras.layers.Dense(units)\n",
        "        self.V = tf.keras.layers.Dense(1)\n",
        "\n",
        "    def call(self, query, values):\n",
        "        query_with_time_axis = tf.expand_dims(query, 1)\n",
        "        score = self.V(tf.nn.tanh(\n",
        "            self.W1(query_with_time_axis) + self.W2(values)))\n",
        "\n",
        "        attention_weights = tf.nn.softmax(score, axis=1)\n",
        "        context_vector = attention_weights * values\n",
        "        context_vector = tf.reduce_sum(context_vector, axis=1)\n",
        "\n",
        "        return context_vector, attention_weights\n",
        "    \n",
        "    \n",
        "class Decoder(tf.keras.Model):\n",
        "    def __init__(self, vocab_size, embedding_dim, dec_units, batch_sz):\n",
        "        super(Decoder, self).__init__()\n",
        "        self.batch_sz = batch_sz\n",
        "        self.dec_units = dec_units\n",
        "        self.embedding = tf.keras.layers.Embedding(vocab_size, embedding_dim)\n",
        "        self.lstm = tf.keras.layers.GRU(self.dec_units,\n",
        "                                       return_sequences=True,\n",
        "                                       return_state=True)\n",
        "        self.fc = tf.keras.layers.Dense(vocab_size)\n",
        "\n",
        "        self.attention = BahdanauAttention(self.dec_units)\n",
        "\n",
        "    def call(self, x, hidden, enc_output):\n",
        "        context_vector, attention_weights = self.attention(hidden, enc_output)\n",
        "        x = self.embedding(x)\n",
        "        x = tf.concat([tf.expand_dims(context_vector, 1), x], axis=-1)\n",
        "        output, state = self.lstm(x)\n",
        "        output = tf.reshape(output, (-1, output.shape[2]))\n",
        "        x = self.fc(output)\n",
        "        return x, state, attention_weights"
      ],
      "execution_count": 84,
      "outputs": []
    },
    {
      "cell_type": "code",
      "metadata": {
        "id": "ue6tmjOpHVTy"
      },
      "source": [
        "encoder = Encoder(vocab_inp_size, embedding_dim, units, BATCH_SIZE)\n",
        "decoder = Decoder(vocab_tar_size, embedding_dim, units, BATCH_SIZE)\n",
        "\n",
        "optimizer = tf.keras.optimizers.Adam()\n",
        "loss_object = tf.keras.losses.SparseCategoricalCrossentropy(\n",
        "    from_logits=True, reduction='none')\n",
        "\n",
        "def loss_function(real, pred):\n",
        "    mask = tf.math.logical_not(tf.math.equal(real, 0))\n",
        "    loss_ = loss_object(real, pred)\n",
        "\n",
        "    mask = tf.cast(mask, dtype=loss_.dtype)\n",
        "    loss_ *= mask\n",
        "\n",
        "    return tf.reduce_mean(loss_)"
      ],
      "execution_count": 85,
      "outputs": []
    },
    {
      "cell_type": "code",
      "metadata": {
        "id": "nQFSakRwFjph"
      },
      "source": [
        "@tf.function\n",
        "def train_step(inp, targ, enc_hidden):\n",
        "    loss = 0\n",
        "\n",
        "    with tf.GradientTape() as tape:\n",
        "        enc_output, enc_hidden = encoder(inp, enc_hidden)\n",
        "        dec_hidden = enc_hidden\n",
        "        dec_input = tf.expand_dims([targ_lang_tokenizer.word_index['<start>']] * BATCH_SIZE, 1)\n",
        "\n",
        "        for t in range(1, targ.shape[1]):\n",
        "            predictions, dec_hidden, _ = decoder(dec_input, dec_hidden, enc_output)\n",
        "            loss += loss_function(targ[:, t], predictions)\n",
        "            dec_input = tf.expand_dims(targ[:, t], 1)\n",
        "    \n",
        "    batch_loss = (loss / int(targ.shape[1]))\n",
        "    variables = encoder.trainable_variables + decoder.trainable_variables\n",
        "    gradients = tape.gradient(loss, variables)\n",
        "    optimizer.apply_gradients(zip(gradients, variables))\n",
        "    return batch_loss"
      ],
      "execution_count": 86,
      "outputs": []
    },
    {
      "cell_type": "code",
      "metadata": {
        "id": "c6U32GBYGn6q",
        "outputId": "c0a39b24-e33d-46da-9b39-602ba29b9607",
        "colab": {
          "base_uri": "https://localhost:8080/"
        }
      },
      "source": [
        "EPOCHS = 25\n",
        "for epoch in range(EPOCHS):\n",
        "    enc_hidden = encoder.initialize_hidden_state()\n",
        "    total_loss = 0\n",
        "\n",
        "    for (batch, (inp, targ)) in enumerate(dataset.take(steps_per_epoch)):\n",
        "        batch_loss = train_step(inp, targ, enc_hidden)\n",
        "        total_loss += batch_loss\n",
        "    \n",
        "    print('Epoch {} Loss {:.4f}'.format(epoch + 1,\n",
        "                                      total_loss / steps_per_epoch))"
      ],
      "execution_count": 87,
      "outputs": [
        {
          "output_type": "stream",
          "text": [
            "Epoch 1 Loss 1.6743\n",
            "Epoch 2 Loss 1.2470\n",
            "Epoch 3 Loss 1.0454\n",
            "Epoch 4 Loss 0.8517\n",
            "Epoch 5 Loss 0.6735\n",
            "Epoch 6 Loss 0.5240\n",
            "Epoch 7 Loss 0.4087\n",
            "Epoch 8 Loss 0.3277\n",
            "Epoch 9 Loss 0.2744\n",
            "Epoch 10 Loss 0.2355\n",
            "Epoch 11 Loss 0.2101\n",
            "Epoch 12 Loss 0.1905\n",
            "Epoch 13 Loss 0.1784\n",
            "Epoch 14 Loss 0.1684\n",
            "Epoch 15 Loss 0.1620\n",
            "Epoch 16 Loss 0.1552\n",
            "Epoch 17 Loss 0.1500\n",
            "Epoch 18 Loss 0.1457\n",
            "Epoch 19 Loss 0.1425\n",
            "Epoch 20 Loss 0.1399\n",
            "Epoch 21 Loss 0.1362\n",
            "Epoch 22 Loss 0.1342\n",
            "Epoch 23 Loss 0.1319\n",
            "Epoch 24 Loss 0.1292\n",
            "Epoch 25 Loss 0.1276\n"
          ],
          "name": "stdout"
        }
      ]
    },
    {
      "cell_type": "code",
      "metadata": {
        "id": "6Q75W9BaG89n"
      },
      "source": [
        "max_length_targ, max_length_inp = target_tensor.shape[1], input_tensor.shape[1]\n",
        "\n",
        "def evaluate(sentence):\n",
        "    attention_plot = np.zeros((max_length_targ, max_length_inp))\n",
        "    sentence = preprocess_sentence(sentence)\n",
        "    inputs = [inp_lang_tokenizer.word_index[i] for i in sentence.split(' ')]\n",
        "    inputs = tf.keras.preprocessing.sequence.pad_sequences([inputs],\n",
        "                                                         maxlen=max_length_inp,\n",
        "                                                         padding='post')\n",
        "    inputs = tf.convert_to_tensor(inputs)\n",
        "    result = ''\n",
        "    hidden = [tf.zeros((1, units))]\n",
        "    enc_out, enc_hidden = encoder(inputs, hidden)\n",
        "    dec_hidden = enc_hidden\n",
        "    dec_input = tf.expand_dims([targ_lang_tokenizer.word_index['<start>']], 0)\n",
        "\n",
        "    for t in range(max_length_targ):\n",
        "        predictions, dec_hidden, attention_weights = decoder(dec_input,\n",
        "                                                             dec_hidden,\n",
        "                                                             enc_out)\n",
        "        attention_weights = tf.reshape(attention_weights, (-1, ))\n",
        "        attention_plot[t] = attention_weights.numpy()\n",
        "\n",
        "        predicted_id = tf.argmax(predictions[0]).numpy()\n",
        "\n",
        "        result += targ_lang_tokenizer.index_word[predicted_id] + ' '\n",
        "\n",
        "        if targ_lang_tokenizer.index_word[predicted_id] == '<end>':\n",
        "            return result, sentence, attention_plot\n",
        "        dec_input = tf.expand_dims([predicted_id], 0)\n",
        "    return result, sentence, attention_plot\n",
        "\n",
        "def plot_attention(attention, sentence, predicted_sentence):\n",
        "    fig = plt.figure(figsize=(10,10))\n",
        "    ax = fig.add_subplot(1, 1, 1)\n",
        "    ax.matshow(attention, cmap='viridis')\n",
        "    fontdict = {'fontsize': 14}\n",
        "    ax.set_xticklabels([''] + sentence, fontdict=fontdict, rotation=90)\n",
        "    ax.set_yticklabels([''] + predicted_sentence, fontdict=fontdict)\n",
        "    #ax.xaxis.set_major_locator(ticker.MultipleLocator(1))\n",
        "    #ax.yaxis.set_major_locator(ticker.MultipleLocator(1))\n",
        "    plt.show()\n",
        "    \n",
        "def translate(sentence, show=True):\n",
        "    result, sentence, attention_plot = evaluate(sentence)\n",
        "    print('Input: %s' % (sentence))\n",
        "    print('Predicted translation: {}\\n'.format(result))\n",
        "    attention_plot = attention_plot[:len(result.split(' ')), :len(sentence.split(' '))]\n",
        "    if show:\n",
        "        plot_attention(attention_plot, sentence.split(' '), result.split(' '))"
      ],
      "execution_count": 102,
      "outputs": []
    },
    {
      "cell_type": "code",
      "metadata": {
        "id": "iwK7EUOQHzFT",
        "outputId": "6f36c794-f41d-4a99-f299-43d210726a91",
        "colab": {
          "base_uri": "https://localhost:8080/"
        }
      },
      "source": [
        "%pylab inline"
      ],
      "execution_count": 103,
      "outputs": [
        {
          "output_type": "stream",
          "text": [
            "Populating the interactive namespace from numpy and matplotlib\n"
          ],
          "name": "stdout"
        }
      ]
    },
    {
      "cell_type": "code",
      "metadata": {
        "id": "WtX1PzaHH7ZO",
        "outputId": "cb3e0339-ae3d-4892-c4db-93fc1f7338e3",
        "colab": {
          "base_uri": "https://localhost:8080/",
          "height": 694
        }
      },
      "source": [
        "translate(u'good morning')"
      ],
      "execution_count": 104,
      "outputs": [
        {
          "output_type": "stream",
          "text": [
            "Input: <start> good morning <end>\n",
            "Predicted translation: с добрым утром ! <end> \n",
            "\n"
          ],
          "name": "stdout"
        },
        {
          "output_type": "display_data",
          "data": {
            "image/png": "[encoded data removed]",
            "text/plain": [
              "<Figure size 720x720 with 1 Axes>"
            ]
          },
          "metadata": {
            "tags": [],
            "needs_background": "light"
          }
        }
      ]
    },
    {
      "cell_type": "code",
      "metadata": {
        "id": "1jouPDZQH_CM",
        "outputId": "7e231961-eb4b-4f55-ba5b-10fc8fe1a929",
        "colab": {
          "base_uri": "https://localhost:8080/"
        }
      },
      "source": [
        "for seq_index in range(0, 20000, 500):\n",
        "    string_i = input_texts[seq_index]\n",
        "    translate(string_i[7:-5].lower(), False)"
      ],
      "execution_count": 105,
      "outputs": [
        {
          "output_type": "stream",
          "text": [
            "Input: <start> go . <end>\n",
            "Predicted translation: идите . <end> \n",
            "\n",
            "Input: <start> have fun . <end>\n",
            "Predicted translation: наслаждайтесь . <end> \n",
            "\n",
            "Input: <start> he smiled . <end>\n",
            "Predicted translation: он улыбнулся . <end> \n",
            "\n",
            "Input: <start> let us in . <end>\n",
            "Predicted translation: впустите нас . <end> \n",
            "\n",
            "Input: <start> eat slowly . <end>\n",
            "Predicted translation: ешьте не спеша . <end> \n",
            "\n",
            "Input: <start> i m stable . <end>\n",
            "Predicted translation: я твердая . <end> \n",
            "\n",
            "Input: <start> tom s well . <end>\n",
            "Predicted translation: том в порядке . <end> \n",
            "\n",
            "Input: <start> he chuckled . <end>\n",
            "Predicted translation: он хихикал . <end> \n",
            "\n",
            "Input: <start> i was naive . <end>\n",
            "Predicted translation: я был наивен . <end> \n",
            "\n",
            "Input: <start> just say no . <end>\n",
            "Predicted translation: просто откажитесь . <end> \n",
            "\n",
            "Input: <start> tom left me . <end>\n",
            "Predicted translation: том меня бросил . <end> \n",
            "\n",
            "Input: <start> you re safe . <end>\n",
            "Predicted translation: ты в безопасности . <end> \n",
            "\n",
            "Input: <start> he is chubby . <end>\n",
            "Predicted translation: он пухлый . <end> \n",
            "\n",
            "Input: <start> i was joking . <end>\n",
            "Predicted translation: я шутил . <end> \n",
            "\n",
            "Input: <start> identify tom . <end>\n",
            "Predicted translation: идентифицируй тома . <end> \n",
            "\n",
            "Input: <start> please leave . <end>\n",
            "Predicted translation: уйди , пожалуйста . <end> \n",
            "\n",
            "Input: <start> tom is tense . <end>\n",
            "Predicted translation: том напряж н . <end> \n",
            "\n",
            "Input: <start> will he live ? <end>\n",
            "Predicted translation: он будет жить ? <end> \n",
            "\n",
            "Input: <start> did you smile ? <end>\n",
            "Predicted translation: ты улыбался ? <end> \n",
            "\n",
            "Input: <start> i added water . <end>\n",
            "Predicted translation: я добавил воды . <end> \n",
            "\n",
            "Input: <start> i need a loan . <end>\n",
            "Predicted translation: мне нужен кредит . <end> \n",
            "\n",
            "Input: <start> i m a colonel . <end>\n",
            "Predicted translation: я полковник . <end> \n",
            "\n",
            "Input: <start> it was broken . <end>\n",
            "Predicted translation: оно было прийти . <end> \n",
            "\n",
            "Input: <start> put that away . <end>\n",
            "Predicted translation: отложите это . <end> \n",
            "\n",
            "Input: <start> they re going . <end>\n",
            "Predicted translation: они идут . <end> \n",
            "\n",
            "Input: <start> tom whispered . <end>\n",
            "Predicted translation: том вздохнул . <end> \n",
            "\n",
            "Input: <start> who is absent ? <end>\n",
            "Predicted translation: кто отсутствует ? <end> \n",
            "\n",
            "Input: <start> bring her here . <end>\n",
            "Predicted translation: приводите е сюда . <end> \n",
            "\n",
            "Input: <start> don t sing , ok ? <end>\n",
            "Predicted translation: не пойте , ладно ? <end> \n",
            "\n",
            "Input: <start> how wide is it ? <end>\n",
            "Predicted translation: насколько он широкий ? <end> \n",
            "\n",
            "Input: <start> i like to talk . <end>\n",
            "Predicted translation: я люблю поговорить . <end> \n",
            "\n",
            "Input: <start> i ll bring tom . <end>\n",
            "Predicted translation: я приведу тома . <end> \n",
            "\n",
            "Input: <start> isn t that tom ? <end>\n",
            "Predicted translation: это разве не том ? <end> \n",
            "\n",
            "Input: <start> may i kiss you ? <end>\n",
            "Predicted translation: можно мне тебя поцеловать ? <end> \n",
            "\n",
            "Input: <start> that s my seat . <end>\n",
            "Predicted translation: это мо место . <end> \n",
            "\n",
            "Input: <start> tom is elderly . <end>\n",
            "Predicted translation: том пожилой . <end> \n",
            "\n",
            "Input: <start> tom s studying . <end>\n",
            "Predicted translation: том занимается . <end> \n",
            "\n",
            "Input: <start> where s my cup ? <end>\n",
            "Predicted translation: где моя чашка ? <end> \n",
            "\n",
            "Input: <start> you re so rude . <end>\n",
            "Predicted translation: какой ты грубый ! <end> \n",
            "\n",
            "Input: <start> check your list . <end>\n",
            "Predicted translation: проверьте свой список . <end> \n",
            "\n"
          ],
          "name": "stdout"
        }
      ]
    },
    {
      "cell_type": "code",
      "metadata": {
        "id": "ZbyIgSn7I1U1"
      },
      "source": [
        ""
      ],
      "execution_count": null,
      "outputs": []
    }
  ]
}