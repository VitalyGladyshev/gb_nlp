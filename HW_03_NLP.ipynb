{
  "nbformat": 4,
  "nbformat_minor": 0,
  "metadata": {
    "colab": {
      "name": "HW_03_NLP.ipynb",
      "provenance": [],
      "collapsed_sections": [],
      "authorship_tag": "ABX9TyP9lgWFKv+CzNwakQAQdJaG",
      "include_colab_link": true
    },
    "kernelspec": {
      "name": "python3",
      "display_name": "Python 3"
    }
  },
  "cells": [
    {
      "cell_type": "markdown",
      "metadata": {
        "id": "view-in-github",
        "colab_type": "text"
      },
      "source": [
        "<a href=\"https://colab.research.google.com/github/VitalyGladyshev/gb_nlp/blob/main/HW_03_NLP.ipynb\" target=\"_parent\"><img src=\"https://colab.research.google.com/assets/colab-badge.svg\" alt=\"Open In Colab\"/></a>"
      ]
    },
    {
      "cell_type": "markdown",
      "metadata": {
        "id": "KranHABPv_4y"
      },
      "source": [
        "# ДЗ 03 NLP"
      ]
    },
    {
      "cell_type": "code",
      "metadata": {
        "id": "ZViwqRJGtHHP"
      },
      "source": [
        "import numpy as np\n",
        "import pandas as pd"
      ],
      "execution_count": 2,
      "outputs": []
    },
    {
      "cell_type": "code",
      "metadata": {
        "id": "g3P8_aYswEi4",
        "outputId": "b2171913-02ee-45c6-9fa0-429712bfe829",
        "colab": {
          "base_uri": "https://localhost:8080/",
          "height": 34
        }
      },
      "source": [
        "from google.colab import drive\n",
        "drive.mount('/content/gdrive')"
      ],
      "execution_count": 3,
      "outputs": [
        {
          "output_type": "stream",
          "text": [
            "Mounted at /content/gdrive\n"
          ],
          "name": "stdout"
        }
      ]
    },
    {
      "cell_type": "code",
      "metadata": {
        "id": "rbeumHksxCg-",
        "outputId": "d2fe41ee-4f9a-43e4-bf19-71a882cc71af",
        "colab": {
          "base_uri": "https://localhost:8080/",
          "height": 179
        }
      },
      "source": [
        "path_nlp = \"/content/gdrive/My Drive/Colab Notebooks/NLP/\"\n",
        "\n",
        "train_cor = pd.read_pickle(path_nlp + \"train_cor.pkl\")\n",
        "test_cor = pd.read_pickle(path_nlp + \"test_cor.pkl\")\n",
        "\n",
        "test_cor['label'] = -1\n",
        "\n",
        "data = train_cor.copy()\n",
        "data = data.append(test_cor, ignore_index=True)\n",
        "data.tail(2)"
      ],
      "execution_count": 4,
      "outputs": [
        {
          "output_type": "execute_result",
          "data": {
            "text/html": [
              "<div>\n",
              "<style scoped>\n",
              "    .dataframe tbody tr th:only-of-type {\n",
              "        vertical-align: middle;\n",
              "    }\n",
              "\n",
              "    .dataframe tbody tr th {\n",
              "        vertical-align: top;\n",
              "    }\n",
              "\n",
              "    .dataframe thead th {\n",
              "        text-align: right;\n",
              "    }\n",
              "</style>\n",
              "<table border=\"1\" class=\"dataframe\">\n",
              "  <thead>\n",
              "    <tr style=\"text-align: right;\">\n",
              "      <th></th>\n",
              "      <th>id</th>\n",
              "      <th>label</th>\n",
              "      <th>tweet</th>\n",
              "      <th>clean_tweet</th>\n",
              "      <th>tweet_token</th>\n",
              "      <th>tweet_token_filtered</th>\n",
              "      <th>tweet_stemmed</th>\n",
              "      <th>tweet_lemmatized</th>\n",
              "    </tr>\n",
              "  </thead>\n",
              "  <tbody>\n",
              "    <tr>\n",
              "      <th>49157</th>\n",
              "      <td>49158</td>\n",
              "      <td>-1</td>\n",
              "      <td>happy, at work conference: right mindset leads...</td>\n",
              "      <td>happy at work conference right mindset leads t...</td>\n",
              "      <td>[happy, at, work, conference, right, mindset, ...</td>\n",
              "      <td>[happy, work, conference, right, mindset, lead...</td>\n",
              "      <td>{lead, work, cultureofdevelop, happi, organ, c...</td>\n",
              "      <td>{organizations, lead, work, conference, happy,...</td>\n",
              "    </tr>\n",
              "    <tr>\n",
              "      <th>49158</th>\n",
              "      <td>49159</td>\n",
              "      <td>-1</td>\n",
              "      <td>my   song \"so glad\" free download!  #shoegaze ...</td>\n",
              "      <td>my song so glad free download shoegaze newmusi...</td>\n",
              "      <td>[my, song, so, glad, free, download, shoegaze,...</td>\n",
              "      <td>[song, glad, free, download, shoegaze, newmusi...</td>\n",
              "      <td>{glad, shoegaz, download, song, free, newmus, ...</td>\n",
              "      <td>{glad, download, song, shoegaze, newmusic, fre...</td>\n",
              "    </tr>\n",
              "  </tbody>\n",
              "</table>\n",
              "</div>"
            ],
            "text/plain": [
              "          id  ...                                   tweet_lemmatized\n",
              "49157  49158  ...  {organizations, lead, work, conference, happy,...\n",
              "49158  49159  ...  {glad, download, song, shoegaze, newmusic, fre...\n",
              "\n",
              "[2 rows x 8 columns]"
            ]
          },
          "metadata": {
            "tags": []
          },
          "execution_count": 4
        }
      ]
    },
    {
      "cell_type": "markdown",
      "metadata": {
        "id": "3R_gny6bwFq4"
      },
      "source": [
        "## Задание 1"
      ]
    },
    {
      "cell_type": "markdown",
      "metadata": {
        "id": "elLKyJ0XxbZc"
      },
      "source": [
        "Используя библиотеку Spacy, вывести ТОП-20 популярных NER в combine_df датасете. Какой тип NER (ORG, GPE, PERSON и тд) оказался самым популярным?  (Учтите, что max_word_limit_spacy для Spacy = 1000000)\n",
        "<br><br>С помощью Spacy выяснить: какие персоны и организации самые обсуждаемые в train и test датасетах? вывести ТОП-20 самых популярных. Действительно ли в топ вошли только персоны и организации или есть мусор? \n",
        "<br><br>Повторим шаги из заданий 1 и 2, используя библиотеку nltk."
      ]
    },
    {
      "cell_type": "code",
      "metadata": {
        "id": "vMuuj5Cf9Oe9"
      },
      "source": [
        "# !python -m spacy download en_core_web_sm"
      ],
      "execution_count": 23,
      "outputs": []
    },
    {
      "cell_type": "code",
      "metadata": {
        "id": "KzmaAUauAdEM",
        "outputId": "da488e72-96ed-42e2-abe8-7771ca40890c",
        "colab": {
          "base_uri": "https://localhost:8080/",
          "height": 581
        }
      },
      "source": [
        "!python -m spacy download en_core_web_md"
      ],
      "execution_count": 24,
      "outputs": [
        {
          "output_type": "stream",
          "text": [
            "Collecting en_core_web_md==2.2.5\n",
            "\u001b[?25l  Downloading https://github.com/explosion/spacy-models/releases/download/en_core_web_md-2.2.5/en_core_web_md-2.2.5.tar.gz (96.4MB)\n",
            "\u001b[K     |████████████████████████████████| 96.4MB 1.2MB/s \n",
            "\u001b[?25hRequirement already satisfied: spacy>=2.2.2 in /usr/local/lib/python3.6/dist-packages (from en_core_web_md==2.2.5) (2.2.4)\n",
            "Requirement already satisfied: tqdm<5.0.0,>=4.38.0 in /usr/local/lib/python3.6/dist-packages (from spacy>=2.2.2->en_core_web_md==2.2.5) (4.41.1)\n",
            "Requirement already satisfied: setuptools in /usr/local/lib/python3.6/dist-packages (from spacy>=2.2.2->en_core_web_md==2.2.5) (50.3.0)\n",
            "Requirement already satisfied: wasabi<1.1.0,>=0.4.0 in /usr/local/lib/python3.6/dist-packages (from spacy>=2.2.2->en_core_web_md==2.2.5) (0.8.0)\n",
            "Requirement already satisfied: catalogue<1.1.0,>=0.0.7 in /usr/local/lib/python3.6/dist-packages (from spacy>=2.2.2->en_core_web_md==2.2.5) (1.0.0)\n",
            "Requirement already satisfied: murmurhash<1.1.0,>=0.28.0 in /usr/local/lib/python3.6/dist-packages (from spacy>=2.2.2->en_core_web_md==2.2.5) (1.0.2)\n",
            "Requirement already satisfied: cymem<2.1.0,>=2.0.2 in /usr/local/lib/python3.6/dist-packages (from spacy>=2.2.2->en_core_web_md==2.2.5) (2.0.3)\n",
            "Requirement already satisfied: blis<0.5.0,>=0.4.0 in /usr/local/lib/python3.6/dist-packages (from spacy>=2.2.2->en_core_web_md==2.2.5) (0.4.1)\n",
            "Requirement already satisfied: requests<3.0.0,>=2.13.0 in /usr/local/lib/python3.6/dist-packages (from spacy>=2.2.2->en_core_web_md==2.2.5) (2.23.0)\n",
            "Requirement already satisfied: numpy>=1.15.0 in /usr/local/lib/python3.6/dist-packages (from spacy>=2.2.2->en_core_web_md==2.2.5) (1.18.5)\n",
            "Requirement already satisfied: srsly<1.1.0,>=1.0.2 in /usr/local/lib/python3.6/dist-packages (from spacy>=2.2.2->en_core_web_md==2.2.5) (1.0.2)\n",
            "Requirement already satisfied: thinc==7.4.0 in /usr/local/lib/python3.6/dist-packages (from spacy>=2.2.2->en_core_web_md==2.2.5) (7.4.0)\n",
            "Requirement already satisfied: preshed<3.1.0,>=3.0.2 in /usr/local/lib/python3.6/dist-packages (from spacy>=2.2.2->en_core_web_md==2.2.5) (3.0.2)\n",
            "Requirement already satisfied: plac<1.2.0,>=0.9.6 in /usr/local/lib/python3.6/dist-packages (from spacy>=2.2.2->en_core_web_md==2.2.5) (1.1.3)\n",
            "Requirement already satisfied: importlib-metadata>=0.20; python_version < \"3.8\" in /usr/local/lib/python3.6/dist-packages (from catalogue<1.1.0,>=0.0.7->spacy>=2.2.2->en_core_web_md==2.2.5) (2.0.0)\n",
            "Requirement already satisfied: urllib3!=1.25.0,!=1.25.1,<1.26,>=1.21.1 in /usr/local/lib/python3.6/dist-packages (from requests<3.0.0,>=2.13.0->spacy>=2.2.2->en_core_web_md==2.2.5) (1.24.3)\n",
            "Requirement already satisfied: chardet<4,>=3.0.2 in /usr/local/lib/python3.6/dist-packages (from requests<3.0.0,>=2.13.0->spacy>=2.2.2->en_core_web_md==2.2.5) (3.0.4)\n",
            "Requirement already satisfied: certifi>=2017.4.17 in /usr/local/lib/python3.6/dist-packages (from requests<3.0.0,>=2.13.0->spacy>=2.2.2->en_core_web_md==2.2.5) (2020.6.20)\n",
            "Requirement already satisfied: idna<3,>=2.5 in /usr/local/lib/python3.6/dist-packages (from requests<3.0.0,>=2.13.0->spacy>=2.2.2->en_core_web_md==2.2.5) (2.10)\n",
            "Requirement already satisfied: zipp>=0.5 in /usr/local/lib/python3.6/dist-packages (from importlib-metadata>=0.20; python_version < \"3.8\"->catalogue<1.1.0,>=0.0.7->spacy>=2.2.2->en_core_web_md==2.2.5) (3.2.0)\n",
            "Building wheels for collected packages: en-core-web-md\n",
            "  Building wheel for en-core-web-md (setup.py) ... \u001b[?25l\u001b[?25hdone\n",
            "  Created wheel for en-core-web-md: filename=en_core_web_md-2.2.5-cp36-none-any.whl size=98051305 sha256=3fed60ebeb7aa11779cb17555170ce4bbc63c144ab1d7dc71116be69a7fe4225\n",
            "  Stored in directory: /tmp/pip-ephem-wheel-cache-shauioii/wheels/df/94/ad/f5cf59224cea6b5686ac4fd1ad19c8a07bc026e13c36502d81\n",
            "Successfully built en-core-web-md\n",
            "Installing collected packages: en-core-web-md\n",
            "Successfully installed en-core-web-md-2.2.5\n",
            "\u001b[38;5;2m✔ Download and installation successful\u001b[0m\n",
            "You can now load the model via spacy.load('en_core_web_md')\n"
          ],
          "name": "stdout"
        }
      ]
    },
    {
      "cell_type": "code",
      "metadata": {
        "id": "Z42ZriNvxGyo"
      },
      "source": [
        "import spacy\n",
        "from spacy import displacy\n",
        "import en_core_web_md"
      ],
      "execution_count": 25,
      "outputs": []
    },
    {
      "cell_type": "code",
      "metadata": {
        "id": "NUvrjxWnR3cW"
      },
      "source": [
        "nlp = en_core_web_md.load()"
      ],
      "execution_count": 7,
      "outputs": []
    },
    {
      "cell_type": "code",
      "metadata": {
        "id": "GGsDIWYrR5wo"
      },
      "source": [
        "doc_t = nlp(\"Nasa administrator Jim Bridenstine says at the moment of launch, he was praying.\")"
      ],
      "execution_count": 10,
      "outputs": []
    },
    {
      "cell_type": "code",
      "metadata": {
        "id": "B_9nJrPnSRyn",
        "outputId": "7472912a-a70f-4bda-caee-4ec662694780",
        "colab": {
          "base_uri": "https://localhost:8080/",
          "height": 52
        }
      },
      "source": [
        "displacy.render(doc_t, jupyter=True, style='ent')"
      ],
      "execution_count": 11,
      "outputs": [
        {
          "output_type": "display_data",
          "data": {
            "text/html": [
              "<span class=\"tex2jax_ignore\"><div class=\"entities\" style=\"line-height: 2.5; direction: ltr\">\n",
              "<mark class=\"entity\" style=\"background: #7aecec; padding: 0.45em 0.6em; margin: 0 0.25em; line-height: 1; border-radius: 0.35em;\">\n",
              "    Nasa\n",
              "    <span style=\"font-size: 0.8em; font-weight: bold; line-height: 1; border-radius: 0.35em; text-transform: uppercase; vertical-align: middle; margin-left: 0.5rem\">ORG</span>\n",
              "</mark>\n",
              " administrator \n",
              "<mark class=\"entity\" style=\"background: #aa9cfc; padding: 0.45em 0.6em; margin: 0 0.25em; line-height: 1; border-radius: 0.35em;\">\n",
              "    Jim Bridenstine\n",
              "    <span style=\"font-size: 0.8em; font-weight: bold; line-height: 1; border-radius: 0.35em; text-transform: uppercase; vertical-align: middle; margin-left: 0.5rem\">PERSON</span>\n",
              "</mark>\n",
              " says at the moment of launch, he was praying.</div></span>"
            ],
            "text/plain": [
              "<IPython.core.display.HTML object>"
            ]
          },
          "metadata": {
            "tags": []
          }
        }
      ]
    },
    {
      "cell_type": "code",
      "metadata": {
        "id": "04uA8BL_SlVQ",
        "outputId": "0ec009a4-a3b2-47c2-843f-3537fab8839c",
        "colab": {
          "base_uri": "https://localhost:8080/",
          "height": 136
        }
      },
      "source": [
        "data['clean_tweet'].values"
      ],
      "execution_count": 67,
      "outputs": [
        {
          "output_type": "execute_result",
          "data": {
            "text/plain": [
              "array(['when father is dysfunctional and is so selfish he drags his kids into his dysfunction run',\n",
              "       'thanks for lyft credit cannot use cause they do not offer wheelchair vans in pdx disapointed getthanked',\n",
              "       'bihday your majesty', ...,\n",
              "       'hillary campaigned today in ohioomg amp used words like assetsampliability never once did clinton say theeword radicalization',\n",
              "       'happy at work conference right mindset leads to cultureofdevelopment organizations work mindset',\n",
              "       'my song so glad free download shoegaze newmusic newsong'],\n",
              "      dtype=object)"
            ]
          },
          "metadata": {
            "tags": []
          },
          "execution_count": 67
        }
      ]
    },
    {
      "cell_type": "code",
      "metadata": {
        "id": "Tps4B6j-WUJU"
      },
      "source": [
        "str_tweet = \" \".join(sent for sent in data['clean_tweet'].values)"
      ],
      "execution_count": 68,
      "outputs": []
    },
    {
      "cell_type": "code",
      "metadata": {
        "id": "I-Beak8_Y0EA",
        "outputId": "c764e7b1-0b08-4a55-8abc-a75929f0b78a",
        "colab": {
          "base_uri": "https://localhost:8080/",
          "height": 54
        }
      },
      "source": [
        "print(str_tweet[:1000])"
      ],
      "execution_count": 69,
      "outputs": [
        {
          "output_type": "stream",
          "text": [
            "when father is dysfunctional and is so selfish he drags his kids into his dysfunction run thanks for lyft credit cannot use cause they do not offer wheelchair vans in pdx disapointed getthanked bihday your majesty model love you take with you all the time in ur factsguide society now motivation huge fan fare and big talking before they leave chaos and pay disputes when they get there allshowandnogo camping tomorrow danny the next school year is the year for exams cannot think about that school exams hate imagine actorslife revolutionschool girl we won love the land allin cavs champions cleveland clevelandcavaliers welcome here am it has it is so gr ireland consumer price index mom climbed from previous to in may blog silver gold forex we are so selfish orlando standwithorlando pulseshooting orlandoshooting biggerproblems selfish heabreaking values love get to see my daddy today days gettingfed cnn calls michigan middle school build the wall chant tcot no comment in australia opkillingb\n"
          ],
          "name": "stdout"
        }
      ]
    },
    {
      "cell_type": "code",
      "metadata": {
        "id": "SoKv_9b1TeZH"
      },
      "source": [
        "nlp = en_core_web_md.load()\n",
        "doc_tweet = nlp(str_tweet[:1000000])"
      ],
      "execution_count": 70,
      "outputs": []
    },
    {
      "cell_type": "code",
      "metadata": {
        "id": "f5ITUJkjV73S",
        "outputId": "48dfd992-80f5-4ff2-a55a-c9aa0eb31282",
        "colab": {
          "base_uri": "https://localhost:8080/",
          "height": 297
        }
      },
      "source": [
        "displacy.render(doc_tweet[:200], jupyter=True, style='ent')"
      ],
      "execution_count": 74,
      "outputs": [
        {
          "output_type": "display_data",
          "data": {
            "text/html": [
              "<span class=\"tex2jax_ignore\"><div class=\"entities\" style=\"line-height: 2.5; direction: ltr\">when father is dysfunctional and is so selfish he drags his kids into his dysfunction run thanks for \n",
              "<mark class=\"entity\" style=\"background: #7aecec; padding: 0.45em 0.6em; margin: 0 0.25em; line-height: 1; border-radius: 0.35em;\">\n",
              "    lyft credit\n",
              "    <span style=\"font-size: 0.8em; font-weight: bold; line-height: 1; border-radius: 0.35em; text-transform: uppercase; vertical-align: middle; margin-left: 0.5rem\">ORG</span>\n",
              "</mark>\n",
              " cannot use cause they do not offer wheelchair vans in \n",
              "<mark class=\"entity\" style=\"background: #feca74; padding: 0.45em 0.6em; margin: 0 0.25em; line-height: 1; border-radius: 0.35em;\">\n",
              "    pdx\n",
              "    <span style=\"font-size: 0.8em; font-weight: bold; line-height: 1; border-radius: 0.35em; text-transform: uppercase; vertical-align: middle; margin-left: 0.5rem\">GPE</span>\n",
              "</mark>\n",
              " disapointed \n",
              "<mark class=\"entity\" style=\"background: #aa9cfc; padding: 0.45em 0.6em; margin: 0 0.25em; line-height: 1; border-radius: 0.35em;\">\n",
              "    getthanked bihday\n",
              "    <span style=\"font-size: 0.8em; font-weight: bold; line-height: 1; border-radius: 0.35em; text-transform: uppercase; vertical-align: middle; margin-left: 0.5rem\">PERSON</span>\n",
              "</mark>\n",
              " your majesty model love you take with you all the time in \n",
              "<mark class=\"entity\" style=\"background: #ddd; padding: 0.45em 0.6em; margin: 0 0.25em; line-height: 1; border-radius: 0.35em;\">\n",
              "    ur factsguide society\n",
              "    <span style=\"font-size: 0.8em; font-weight: bold; line-height: 1; border-radius: 0.35em; text-transform: uppercase; vertical-align: middle; margin-left: 0.5rem\">FAC</span>\n",
              "</mark>\n",
              " now motivation huge fan fare and big talking before they leave chaos and pay disputes when they get there allshowandnogo camping \n",
              "<mark class=\"entity\" style=\"background: #bfe1d9; padding: 0.45em 0.6em; margin: 0 0.25em; line-height: 1; border-radius: 0.35em;\">\n",
              "    tomorrow\n",
              "    <span style=\"font-size: 0.8em; font-weight: bold; line-height: 1; border-radius: 0.35em; text-transform: uppercase; vertical-align: middle; margin-left: 0.5rem\">DATE</span>\n",
              "</mark>\n",
              " \n",
              "<mark class=\"entity\" style=\"background: #aa9cfc; padding: 0.45em 0.6em; margin: 0 0.25em; line-height: 1; border-radius: 0.35em;\">\n",
              "    danny\n",
              "    <span style=\"font-size: 0.8em; font-weight: bold; line-height: 1; border-radius: 0.35em; text-transform: uppercase; vertical-align: middle; margin-left: 0.5rem\">PERSON</span>\n",
              "</mark>\n",
              " \n",
              "<mark class=\"entity\" style=\"background: #bfe1d9; padding: 0.45em 0.6em; margin: 0 0.25em; line-height: 1; border-radius: 0.35em;\">\n",
              "    the next school year\n",
              "    <span style=\"font-size: 0.8em; font-weight: bold; line-height: 1; border-radius: 0.35em; text-transform: uppercase; vertical-align: middle; margin-left: 0.5rem\">DATE</span>\n",
              "</mark>\n",
              " is \n",
              "<mark class=\"entity\" style=\"background: #bfe1d9; padding: 0.45em 0.6em; margin: 0 0.25em; line-height: 1; border-radius: 0.35em;\">\n",
              "    the year\n",
              "    <span style=\"font-size: 0.8em; font-weight: bold; line-height: 1; border-radius: 0.35em; text-transform: uppercase; vertical-align: middle; margin-left: 0.5rem\">DATE</span>\n",
              "</mark>\n",
              " for exams cannot think about that school exams hate imagine \n",
              "<mark class=\"entity\" style=\"background: #aa9cfc; padding: 0.45em 0.6em; margin: 0 0.25em; line-height: 1; border-radius: 0.35em;\">\n",
              "    actorslife revolutionschool\n",
              "    <span style=\"font-size: 0.8em; font-weight: bold; line-height: 1; border-radius: 0.35em; text-transform: uppercase; vertical-align: middle; margin-left: 0.5rem\">PERSON</span>\n",
              "</mark>\n",
              " girl we won love the land allin \n",
              "<mark class=\"entity\" style=\"background: #7aecec; padding: 0.45em 0.6em; margin: 0 0.25em; line-height: 1; border-radius: 0.35em;\">\n",
              "    cavs champions\n",
              "    <span style=\"font-size: 0.8em; font-weight: bold; line-height: 1; border-radius: 0.35em; text-transform: uppercase; vertical-align: middle; margin-left: 0.5rem\">ORG</span>\n",
              "</mark>\n",
              " cleveland clevelandcavaliers welcome here am it has it is so \n",
              "<mark class=\"entity\" style=\"background: #feca74; padding: 0.45em 0.6em; margin: 0 0.25em; line-height: 1; border-radius: 0.35em;\">\n",
              "    gr ireland\n",
              "    <span style=\"font-size: 0.8em; font-weight: bold; line-height: 1; border-radius: 0.35em; text-transform: uppercase; vertical-align: middle; margin-left: 0.5rem\">GPE</span>\n",
              "</mark>\n",
              " consumer price index mom climbed from previous to in may blog silver gold forex we are so selfish \n",
              "<mark class=\"entity\" style=\"background: #aa9cfc; padding: 0.45em 0.6em; margin: 0 0.25em; line-height: 1; border-radius: 0.35em;\">\n",
              "    orlando standwithorlando pulseshooting orlandoshooting biggerproblems\n",
              "    <span style=\"font-size: 0.8em; font-weight: bold; line-height: 1; border-radius: 0.35em; text-transform: uppercase; vertical-align: middle; margin-left: 0.5rem\">PERSON</span>\n",
              "</mark>\n",
              " selfish \n",
              "<mark class=\"entity\" style=\"background: #7aecec; padding: 0.45em 0.6em; margin: 0 0.25em; line-height: 1; border-radius: 0.35em;\">\n",
              "    heabreaking\n",
              "    <span style=\"font-size: 0.8em; font-weight: bold; line-height: 1; border-radius: 0.35em; text-transform: uppercase; vertical-align: middle; margin-left: 0.5rem\">ORG</span>\n",
              "</mark>\n",
              " values love get to see my daddy \n",
              "<mark class=\"entity\" style=\"background: #bfe1d9; padding: 0.45em 0.6em; margin: 0 0.25em; line-height: 1; border-radius: 0.35em;\">\n",
              "    today days\n",
              "    <span style=\"font-size: 0.8em; font-weight: bold; line-height: 1; border-radius: 0.35em; text-transform: uppercase; vertical-align: middle; margin-left: 0.5rem\">DATE</span>\n",
              "</mark>\n",
              " gettingfed \n",
              "<mark class=\"entity\" style=\"background: #7aecec; padding: 0.45em 0.6em; margin: 0 0.25em; line-height: 1; border-radius: 0.35em;\">\n",
              "    cnn\n",
              "    <span style=\"font-size: 0.8em; font-weight: bold; line-height: 1; border-radius: 0.35em; text-transform: uppercase; vertical-align: middle; margin-left: 0.5rem\">ORG</span>\n",
              "</mark>\n",
              " calls \n",
              "<mark class=\"entity\" style=\"background: #feca74; padding: 0.45em 0.6em; margin: 0 0.25em; line-height: 1; border-radius: 0.35em;\">\n",
              "    michigan\n",
              "    <span style=\"font-size: 0.8em; font-weight: bold; line-height: 1; border-radius: 0.35em; text-transform: uppercase; vertical-align: middle; margin-left: 0.5rem\">GPE</span>\n",
              "</mark>\n",
              " middle school build the wall chant \n",
              "<mark class=\"entity\" style=\"background: #aa9cfc; padding: 0.45em 0.6em; margin: 0 0.25em; line-height: 1; border-radius: 0.35em;\">\n",
              "    tcot\n",
              "    <span style=\"font-size: 0.8em; font-weight: bold; line-height: 1; border-radius: 0.35em; text-transform: uppercase; vertical-align: middle; margin-left: 0.5rem\">PERSON</span>\n",
              "</mark>\n",
              " no comment in \n",
              "<mark class=\"entity\" style=\"background: #feca74; padding: 0.45em 0.6em; margin: 0 0.25em; line-height: 1; border-radius: 0.35em;\">\n",
              "    australia\n",
              "    <span style=\"font-size: 0.8em; font-weight: bold; line-height: 1; border-radius: 0.35em; text-transform: uppercase; vertical-align: middle; margin-left: 0.5rem\">GPE</span>\n",
              "</mark>\n",
              " opkillingbay \n",
              "<mark class=\"entity\" style=\"background: #aa9cfc; padding: 0.45em 0.6em; margin: 0 0.25em; line-height: 1; border-radius: 0.35em;\">\n",
              "    seashepherd helpcovedolphins\n",
              "    <span style=\"font-size: 0.8em; font-weight: bold; line-height: 1; border-radius: 0.35em; text-transform: uppercase; vertical-align: middle; margin-left: 0.5rem\">PERSON</span>\n",
              "</mark>\n",
              " \n",
              "<mark class=\"entity\" style=\"background: #aa9cfc; padding: 0.45em 0.6em; margin: 0 0.25em; line-height: 1; border-radius: 0.35em;\">\n",
              "    thecove helpcovedolphins ouchjunior\n",
              "    <span style=\"font-size: 0.8em; font-weight: bold; line-height: 1; border-radius: 0.35em; text-transform: uppercase; vertical-align: middle; margin-left: 0.5rem\">PERSON</span>\n",
              "</mark>\n",
              " is angry got junior yugyoem omg am thankful for having \n",
              "<mark class=\"entity\" style=\"background: #aa9cfc; padding: 0.45em 0.6em; margin: 0 0.25em; line-height: 1; border-radius: 0.35em;\">\n",
              "    paner\n",
              "    <span style=\"font-size: 0.8em; font-weight: bold; line-height: 1; border-radius: 0.35em; text-transform: uppercase; vertical-align: middle; margin-left: 0.5rem\">PERSON</span>\n",
              "</mark>\n",
              " thankful positive retweet if you agree its \n",
              "<mark class=\"entity\" style=\"background: #bfe1d9; padding: 0.45em 0.6em; margin: 0 0.25em; line-height: 1; border-radius: 0.35em;\">\n",
              "    friday\n",
              "    <span style=\"font-size: 0.8em; font-weight: bold; line-height: 1; border-radius: 0.35em; text-transform: uppercase; vertical-align: middle; margin-left: 0.5rem\">DATE</span>\n",
              "</mark>\n",
              " smiles all around via ig user cookies make people as we all </div></span>"
            ],
            "text/plain": [
              "<IPython.core.display.HTML object>"
            ]
          },
          "metadata": {
            "tags": []
          }
        }
      ]
    },
    {
      "cell_type": "code",
      "metadata": {
        "id": "oXFTVRLVWUCg",
        "outputId": "de1223fd-97d5-499f-92a2-f819b9b17106",
        "colab": {
          "base_uri": "https://localhost:8080/",
          "height": 357
        }
      },
      "source": [
        "for token in doc_tweet[:20]:\n",
        "    print(token.text, token.lemma_, token.pos_, token.is_stop)"
      ],
      "execution_count": 34,
      "outputs": [
        {
          "output_type": "stream",
          "text": [
            "when when ADV True\n",
            "father father NOUN False\n",
            "is be AUX True\n",
            "dysfunctional dysfunctional ADJ False\n",
            "and and CCONJ True\n",
            "is be AUX True\n",
            "so so ADV True\n",
            "selfish selfish ADJ False\n",
            "he -PRON- PRON True\n",
            "drags drag VERB False\n",
            "his -PRON- DET True\n",
            "kids kid NOUN False\n",
            "into into ADP True\n",
            "his -PRON- DET True\n",
            "dysfunction dysfunction NOUN False\n",
            "run run NOUN False\n",
            ". . PUNCT False\n",
            "thanks thank NOUN False\n",
            "for for ADP True\n",
            "lyft lyft PROPN False\n"
          ],
          "name": "stdout"
        }
      ]
    },
    {
      "cell_type": "code",
      "metadata": {
        "id": "jaRWK0VhczW7",
        "outputId": "0ab14984-c6d3-4e8e-b86d-8dbd6b87af64",
        "colab": {
          "base_uri": "https://localhost:8080/",
          "height": 187
        }
      },
      "source": [
        "for ent in doc_tweet.ents[:10]:\n",
        "    print(ent.text, ent.label_, ent.end)"
      ],
      "execution_count": 43,
      "outputs": [
        {
          "output_type": "stream",
          "text": [
            "lyft credit ORG 21\n",
            "pdx GPE 33\n",
            "getthanked PERSON 35\n",
            "bihday PERSON 37\n",
            "tomorrow DATE 78\n",
            "danny PERSON 79\n",
            "the next school year DATE 84\n",
            "the year DATE 87\n",
            "actorslife revolutionschool PERSON 100\n",
            "cavs champions ORG 110\n"
          ],
          "name": "stdout"
        }
      ]
    },
    {
      "cell_type": "code",
      "metadata": {
        "id": "rAh2O7wSe2F4",
        "outputId": "d4625fc8-7e36-4e52-928b-27e738504567",
        "colab": {
          "base_uri": "https://localhost:8080/",
          "height": 34
        }
      },
      "source": [
        "type(doc_tweet.ents), len(doc_tweet.ents)"
      ],
      "execution_count": 38,
      "outputs": [
        {
          "output_type": "execute_result",
          "data": {
            "text/plain": [
              "(tuple, 15694)"
            ]
          },
          "metadata": {
            "tags": []
          },
          "execution_count": 38
        }
      ]
    },
    {
      "cell_type": "code",
      "metadata": {
        "id": "J5FIMmETe8Ma",
        "outputId": "b0bb127e-691a-49c4-c9d1-ae7c23598bdf",
        "colab": {
          "base_uri": "https://localhost:8080/",
          "height": 357
        }
      },
      "source": [
        "doc_tweet.ents[:20]"
      ],
      "execution_count": 39,
      "outputs": [
        {
          "output_type": "execute_result",
          "data": {
            "text/plain": [
              "(lyft credit,\n",
              " pdx,\n",
              " getthanked,\n",
              " bihday,\n",
              " tomorrow,\n",
              " danny,\n",
              " the next school year,\n",
              " the year,\n",
              " actorslife revolutionschool,\n",
              " cavs champions,\n",
              " ireland,\n",
              " orlando standwithorlando pulseshooting orlandoshooting biggerproblems,\n",
              " heabreaking,\n",
              " today days,\n",
              " gettingfed,\n",
              " cnn,\n",
              " michigan,\n",
              " tcot,\n",
              " australia,\n",
              " seashepherd helpcovedolphins)"
            ]
          },
          "metadata": {
            "tags": []
          },
          "execution_count": 39
        }
      ]
    },
    {
      "cell_type": "code",
      "metadata": {
        "id": "-6_864O2lBHG",
        "outputId": "3f850c5a-0fb1-4217-c8ac-bac3906c1976",
        "colab": {
          "base_uri": "https://localhost:8080/",
          "height": 34
        }
      },
      "source": [
        "type(doc_tweet.ents[0])"
      ],
      "execution_count": 55,
      "outputs": [
        {
          "output_type": "execute_result",
          "data": {
            "text/plain": [
              "spacy.tokens.span.Span"
            ]
          },
          "metadata": {
            "tags": []
          },
          "execution_count": 55
        }
      ]
    },
    {
      "cell_type": "code",
      "metadata": {
        "id": "vw6e3SmNmfEB",
        "outputId": "876a4371-00f3-4600-b698-b2737677e78b",
        "colab": {
          "base_uri": "https://localhost:8080/",
          "height": 35
        }
      },
      "source": [
        "str(doc_tweet.ents[0])"
      ],
      "execution_count": 61,
      "outputs": [
        {
          "output_type": "execute_result",
          "data": {
            "application/vnd.google.colaboratory.intrinsic+json": {
              "type": "string"
            },
            "text/plain": [
              "'lyft credit'"
            ]
          },
          "metadata": {
            "tags": []
          },
          "execution_count": 61
        }
      ]
    },
    {
      "cell_type": "code",
      "metadata": {
        "id": "tLcSjEGal1N2"
      },
      "source": [
        "ner_list = [str(ent) for ent in doc_tweet.ents]"
      ],
      "execution_count": 62,
      "outputs": []
    },
    {
      "cell_type": "code",
      "metadata": {
        "id": "BJAVJM9dnCdT",
        "outputId": "d0b317cb-731b-464f-a31e-b5cef46447f0",
        "colab": {
          "base_uri": "https://localhost:8080/",
          "height": 187
        }
      },
      "source": [
        "ner_list[:10]"
      ],
      "execution_count": 63,
      "outputs": [
        {
          "output_type": "execute_result",
          "data": {
            "text/plain": [
              "['lyft credit',\n",
              " 'pdx',\n",
              " 'getthanked',\n",
              " 'bihday',\n",
              " 'tomorrow',\n",
              " 'danny',\n",
              " 'the next school year',\n",
              " 'the year',\n",
              " 'actorslife revolutionschool',\n",
              " 'cavs champions']"
            ]
          },
          "metadata": {
            "tags": []
          },
          "execution_count": 63
        }
      ]
    },
    {
      "cell_type": "code",
      "metadata": {
        "id": "2MjmvzoKisRv",
        "outputId": "12f36a34-5c89-4b6f-919b-fb8a5c1f245d",
        "colab": {
          "base_uri": "https://localhost:8080/",
          "height": 54
        }
      },
      "source": [
        "vocab = {}\n",
        "for token in doc_tweet:\n",
        "    # print(f\"token {token.text} type {type(token.text)}\")\n",
        "    # break\n",
        "    if token.text in ner_list:\n",
        "        if token.text not in vocab.keys():   # and ():\n",
        "            vocab[token.text] = 1\n",
        "        else:\n",
        "            vocab[token.text] += 1\n",
        "print(vocab)"
      ],
      "execution_count": 64,
      "outputs": [
        {
          "output_type": "stream",
          "text": [
            "{'lyft': 4, 'pdx': 1, 'getthanked': 2, 'bihday': 365, 'factsguide': 4, 'tomorrow': 194, 'danny': 3, 'year': 139, 'actorslife': 5, 'cavs': 15, 'cleveland': 16, 'am': 1193, 'ireland': 20, 'orlando': 160, 'pulseshooting': 8, 'orlandoshooting': 33, 'heabreaking': 13, 'today': 474, 'days': 225, 'gettingfed': 1, 'cnn': 7, 'michigan': 1, 'wall': 8, 'tcot': 8, 'australia': 14, 'seashepherd': 10, 'ouchjunior': 1, 'paner': 10, 'friday': 202, 'euro': 75, 'rooney': 2, 'free': 133, 'day': 956, 'weekend': 281, 'lumpy': 2, 'tgif': 36, 'gamedev': 13, 'indiedev': 11, 'shopalyssas': 7, 'pressconference': 1, 'antalya': 2, 'turkey': 10, 'sunday': 152, 'great': 233, 'night': 168, 'mans': 4, 'alohafriday': 3, 'positivevibes': 17, 'hawaiian': 4, 'nohern': 4, 'sadley': 1, 'tonight': 120, 'gawa': 2, 'monday': 74, 'neverump': 10, 'taylorswift': 3, 'bull': 217, 'morning': 189, 'one': 358, 'cedarpoint': 2, 'hours': 52, 'ontothenextnovel': 1, 'knicks': 2, 'nba': 20, 'pa': 45, 'abc': 4, 'prayfororlando': 34, 'albanpilgrimage': 2, 'first': 217, 'zpamdelacruz': 1, 'dolores': 1, 'ascot': 3, 'weekendis': 1, 'selfie': 121, 'yolo': 7, 'christina': 17, 'christinarip': 1, 'christinagrimmie': 17, 'hu': 35, 'poland': 11, 'chatiado': 1, 'hour': 48, 'blk': 2, 'thejourneybegins': 1, 'aworks': 2, 'florida': 34, 'disneygatorattack': 4, 'two': 83, 'ferrari': 2, 'aced': 2, 'udtapunjab': 21, 'amarinder': 8, 'aap': 12, 'altright': 18, 'whitesupremacy': 4, 'woohoo': 14, 'weeks': 81, 'midweek': 6, 'newmusic': 4, 'guitar': 12, 'nights': 20, 'pm': 44, 'october': 3, 'us': 250, 'summeime': 13, 'japanese': 3, 'edwardsville': 1, 'pennsylvania': 1, 'trump': 159, 'obama': 51, 'years': 108, 'eurusd': 10, 'week': 180, 'la': 23, 'sta': 115, 'vigilfororlando': 1, 'clonakilty': 1, 'sundaymorning': 9, 'apple': 27, 'song': 51, 'ripchristina': 26, 'vine': 35, 'brexit': 36, 'referendum': 6, 'pinoy': 2, 'followme': 65, 'igers': 17, 'instagood': 88, 'muslim': 22, 'fringesqcbagssummer': 1, 'usa': 47, 'vegas': 16, 'ma': 11, 'smilesblackandwhite': 1, 'micropoetry': 2, 'rd': 18, 'afterpas': 1, 'japan': 17, 'cawaii': 1, 'republican': 13, 'wonthey': 4, 'guy': 47, 'photooftheday': 65, 'doj': 2, 'fbi': 4, 'hillary': 24, 'sachintendulkar': 1, 'impoant': 27, 'sho': 20, 'chris': 6, 'album': 20, 'lion': 5, 'seo': 2, 'nzdusd': 4, 'sma': 13, 'bihdayweeksucks': 1, 'sas': 1, 'disney': 32, 'disneyland': 5, 'kinda': 12, 'blains': 1, 'nite': 6, 'freedom': 33, 'effo': 11, 'michelleobama': 6, 'gorilla': 48, 'newarkfestival': 1, 'netflix': 18, 'hbd': 9, 'dick': 8, 'barry': 3, 'goodmorning': 34, 'aaps': 3, 'punjabis': 5, 'drugaddicts': 3, 'tracerequest': 1, 'zimbabwe': 2, 'saturday': 108, 'afternoon': 30, 'chi': 3, 'soed': 7, 'months': 39, 'summer': 252, 'watson': 2, 'cricker': 1, 'millions': 4, 'god': 113, 'republicans': 9, 'nra': 2, 'gloucesterrugby': 1, 'mikeashley': 1, 'europe': 16, 'euref': 5, 'stella': 4, 'shi': 10, 'happiness': 184, 'makingbeats': 1, 'thursday': 50, 'weddingpay': 3, 'bae': 10, 'lawofattraction': 24, 'success': 47, 'sjw': 34, 'argentina': 5, 'ball': 16, 'whe': 8, 'ksleg': 1, 'sun': 95, 'mydubai': 3, 'montreal': 2, 'enteainment': 9, 'brisbane': 3, 'wimbledon': 4, 'america': 79, 'vot': 1, 'magnettherapy': 6, 'sebbo': 1, 'kettering': 1, 'toraya': 1, 'sydney': 6, 'pakistan': 9, 'milan': 1, 'stone': 8, 'wakow': 2, 'app': 40, 'baby': 98, 'carowinds': 1, 'minute': 18, 'seconds': 6, 'september': 12, 'anna': 3, 'suppo': 34, 'brentwood': 3, 'homesta': 1, 'happyhappy': 3, 'pharrell': 6, 'yesterday': 27, 'rosie': 2, 'morrow': 1, 'dog': 91, 'englishteacher': 1, 'ecuador': 2, 'dad': 124, 'dallas': 4, 'chubbygirl': 1, 'pic': 30, 'nationalbestfriendsday': 6, 'ny': 10, 'africanamerican': 2, 'pussy': 20, 'voez': 2, 'girlgamer': 2, 'manypols': 1, 'bluelivesmatter': 3, 'sequoia': 1, 'bham': 2, 'fathersday': 188, 'bogummylove': 1, 'truestory': 4, 'nabilah': 1, 'redditchbizhour': 1, 'half': 31, 'corbinrayp': 1, 'zero': 3, 'mondaymorning': 3, 'littlebear': 1, 'toddlerfun': 1, 'nd': 35, 'flight': 26, 'munich': 2, 'netherlands': 2, 'twinklatinboys': 1, 'thankfulthursday': 3, 'luckygirl': 4, 'liverpool': 5, 'athens': 2, 'santorini': 1, 'saturdays': 9, 'blackpool': 2, 'newblood': 2, 'robsonkanu': 1, 'christians': 9, 'nbafinals': 21, 'san': 13, 'gtgtgtgtgtgtgt': 1, 'greentown': 2, 'superspoilt': 1, 'glastofest': 3, 'steph': 7, 'kyrie': 2, 'green': 30, 'lebron': 15, 'guillermo': 1, 'mep': 1, 'nazis': 7, 'instapic': 9, 'dublin': 7, 'rafalwojcicki': 1, 'oitnbseason': 2, 'ht': 22, 'sneakpeek': 1, 'tony': 5, 'tonyawards': 4, 'theverdict': 1, 'june': 79, 'chill': 32, 'july': 36, 'merica': 3, 'paratyphoid': 1, 'thevoice': 5, 'stopthehate': 4, 'twitter': 65, 'fuckers': 1, 'idwp': 12, 'mxm': 1, 'pembroke': 1, 'million': 14, 'craig': 2, 'buffalo': 58, 'thebachelorette': 1, 'nowine': 1, 'suppoing': 10, 'young': 57, 'topoli': 2, 'vaitacacommafiasdv': 1, 'torrington': 1, 'instadaily': 20, 'shit': 57, 'dese': 7, 'tagsforlikes': 6, 'polaroid': 3, 'winjob': 1, 'pointscore': 1, 'staed': 28, 'wednesdaywisdom': 13, 'wen': 3, 'loa': 8, 'eia': 3, 'fuher': 8, 'growingup': 3, 'bihdaygirl': 13, 'americans': 34, 'guncontrol': 3, 'lovethem': 2, 'baba': 3, 'mumbai': 3, 'warcraft': 4, 'familyfun': 2, 'usgtgtgt': 10, 'blacklivesmatter': 8, 'james': 7, 'masterkeyexperience': 5, 'sisteradventures': 1, 'ilovemysister': 1, 'ar': 3, 'navy': 6, 'bbc': 11, 'france': 17, 'tiggy': 1, 'jax': 2, 'throwbackthursday': 5, 'eurogamer': 2, 'russellbeckwith': 1, 'american': 16, 'house': 63, 'ebay': 2, 'creamamp': 1, 'biherism': 1, 'african': 7, 'potus': 10, 'theresistance': 6, 'germany': 16, 'bbh': 5, 'eacbpm': 1, 'emea': 4, 'swimwhatever': 1, 'hawaii': 7, 'tacloban': 4, 'catbalogan': 1, 'olympics': 3, 'shegotmarried': 1, 'lewis': 2, 'season': 63, 'wales': 12, 'kpop': 7, 'essentialoils': 18, 'ryderrideu': 1, 'china': 14, 'msgapparelstoday': 1, 'bestie': 13, 'instacool': 7, 'carlos': 4, 'thealter': 1, 'mm': 7, 'danske': 5, 'coolestlifehack': 4, 'uk': 36, 'mps': 3, 'ukrainians': 1, 'grosseto': 1, 'oitnb': 23, 'stas': 27, 'broadway': 6, 'jordans': 2, 'lowtops': 1, 'nyc': 31, 'stamford': 2, 'rapebut': 1, 'boredomit': 1, 'minutes': 21, 'teddy': 2, 'midtantrum': 1, 'siri': 1, 'macos': 2, 'wwdc': 12, 'london': 56, 'tampa': 17, 'miami': 35, 'bazaarmag': 1, 'greece': 11, 'crete': 1, 'pcn': 1, 'gameready': 1, 'forza': 1, 'tahiti': 2, 'lmao': 3, 'cheetahs': 1, 'bbuk': 6, 'allahsoil': 41, 'fridayfeeling': 20, 'bristol': 5, 'kanyewest': 3, 'christmas': 12, 'newyear': 6, 'bamas': 1, 'asia': 6, 'asians': 3, 'africa': 12, 'africans': 1, 'bringiton': 4, 'rnc': 2, 'novysposnovytowelsurfgear': 1, 'camden': 3, 'jeep': 3, 'htt': 30, 'czech': 3, 'croatia': 4, 'second': 17, 'ks': 2, 'awayhe': 1, 'sweethea': 4, 'owens': 1, 'month': 47, 'buxton': 1, 'troopingthecolour': 2, 'chase': 24, 'icrs': 1, 'lichfield': 2, 'daywho': 1, 'ben': 4, 'malevote': 10, 'fox': 9, 'internationaldayofyoga': 1, 'conce': 26, 'flagday': 12, 'texas': 10, 'thissuppoing': 1, 'moooooorning': 1, 'fridayfun': 3, 'romania': 2, 'berlin': 7, 'incubus': 1, 'cooper': 4, 'don': 8, 'bei': 1, 'whatajoke': 2, 'bernie': 11, 'dc': 8, 'dcvotes': 1, 'monthly': 3, 'draghi': 2, 'youtube': 25, 'yrs': 18, 'pwcproud': 1, 'thoughtsandprayers': 3, 'felix': 1, 'rutland': 1, 'series': 20, 'thekilling': 1, 'jeremy': 2, 'lovemylife': 6, 'wwwsmallgirlsexcom': 1, 'tuesday': 39, 'jackie': 2, 'taketime': 1, 'enjoylife': 4, 'sweet': 49, 'edinburgh': 9, 'scotland': 15, 'homesweethome': 4, 'england': 31, 'russia': 17, 'marseille': 2, 'daily': 43, 'latesnews': 1, 'mindblown': 1, 'google': 15, 'cfisdrrr': 1, 'nah': 3, 'weekly': 4, 'gbpusd': 3, 'zayne': 1, 'loveyou': 7, 'mondayneeded': 1, 'thousands': 2, 'india': 29, 'smaphone': 6, 'lifeisbeautiful': 3, 'fitlife': 2, 'oscar': 9, 'spos': 23, 'eur': 2, 'personaltrainer': 3, 'ten': 9, 'childrens': 9, 'melancholymusic': 15, 'mason': 1, 'whitepeople': 5, 'congrats': 23, 'jts': 3, 'instagay': 9, 'ccmf': 2, 'malawi': 1, 'le': 6, 'instatraveling': 3, 'girliguessimwithher': 1, 'rochester': 1, 'piece': 18, 'melbourne': 10, 'deborah': 1, 'john': 16, 'blackboys': 1, 'istanbul': 6, 'winter': 11, 'nature': 34, 'growthwithhubspot': 3, 'franklin': 1, 'dogsoftwitter': 4, 'workit': 1, 'canamp': 1, 'monroeampnick': 1, 'nadalind': 1, 'billys': 1, 'burnet': 1, 'gtgtgt': 3, 'karen': 10, 'armaanamaalontkss': 2, 'tmrrw': 1, 'takalot': 1, 'bush': 3, 'dj': 30, 'edm': 15, 'jpy': 1, 'wednesday': 38, 'steakandshake': 1, 'usd': 2, 'anz': 5, 'mexican': 5, 'congress': 6, 'playstation': 2, 'mo': 3, 'humpday': 9, 'tshis': 2, 'comfo': 7, 'blackandwhite': 15, 'putin': 3, 'khan': 3, 'gop': 20, 'shis': 3, 'holiday': 80, 'daystogo': 3, 'seven': 4, 'newyork': 16, 'becauseofhim': 1, 'sukhbir': 5, 'badal': 3, 'canada': 14, 'zedd': 2, 'edc': 4, 'oveurning': 1, 'mornings': 6, 'lake': 13, 'picoftheday': 35, 'icymi': 3, 'debeloping': 1, 'aicle': 11, 'starspangledbanner': 1, 'apaheid': 2, 'babiescat': 1, 'pretendingtobe': 1, 'evening': 37, 'cutys': 1, 'mentalhealth': 7, 'ltagt': 1, 'lthtmlgt': 1, 'cssday': 1, 'aande': 1, 'cto': 2, 'letsgo': 7, 'tooeasy': 1, 'gamingforeveryone': 1, 'aryans': 1, 'raalhugandu': 2, 'comments': 31, 'daylets': 1, 'abrahamhicks': 5, 'joytrain': 9, 'lgbt': 30, 'justice': 12, 'mateen': 3, 'oakland': 3, 'instagram': 30, 'jake': 2, 'hipocrit': 1, 'todo': 4, 'tom': 6, 'rushlimbaugh': 1, 'newflat': 2, 'jesus': 9, 'lovequotes': 3, 'positivementalattitude': 1, 'blagoevgrad': 1, 'umbrelas': 1, 'tcashowroom': 1, 'california': 14, 'westpac': 3, 'midnight': 2, 'hrcs': 1, 'friyay': 6, 'goodweek': 1, 'loveher': 4, 'yiruma': 1, 'backwho': 1, 'musicvideo': 5, 'deadaccording': 1, 'jews': 10, 'musicnow': 1, 'michael': 12, 'wa': 6, 'trumpusa': 1, 'sigh': 5, 'manchester': 14, 'kiki': 2, 'thomas': 2, 'lennar': 1, 'xbox': 9, 'brickingit': 1, 'gsw': 3, 'singapore': 5, 'veganbeerfest': 1, 'deadass': 1, 'bjmckenzie': 1, 'bjmuzic': 1, 'boasty': 1, 'harry': 3, 'jaibalayya': 1, 'ourhome': 1, 'marbs': 5, 'vip': 6, 'friendszxc': 1, 'python': 3, 'womenareamazing': 1, 'dowhatyoulove': 2, 'weekendplans': 1, 'thousand': 4, 'hongkong': 1, 'istg': 1, 'imy': 2, 'theshallows': 1, 'anniversary': 34, 'cspan': 1, 'pittsburgh': 1, 'blessedthankful': 1, 'latenights': 4, 'xx': 19, 'selflove': 5, 'iloveme': 2, 'quoteoftheday': 13, 'thinkbigsundaywithmarsha': 6, 'poweools': 1, 'bampq': 1, 'xoxosamantha': 1, 'aiime': 1, 'stopracism': 4, 'hellosunday': 1, 'gifdidt': 1, 'gdt': 1, 'fomc': 2, 'fl': 10, 'mupparimanam': 1, 'appletstag': 5, 'toa': 1, 'bday': 37, 'ramdan': 2, 'fastingi': 1, 'ramadan': 25, 'quran': 2, 'eurgbp': 9, 'ngitingtagumpay': 1, 'welcomeludovica': 1, 'christ': 6, 'vlicobs': 5, 'punjab': 18, 'jobsearch': 6, 'chandigarh': 2, 'ozen': 1, 'suppoers': 31, 'wyears': 1, 'bitch': 22, 'isis': 10, 'islam': 23, 'gwot': 1, 'tan': 8, 'teenageson': 1, 'tuckercarlson': 1, 'asian': 15, 'getalife': 2, 'eddie': 2, 'nothappy': 5, 'closeencounters': 1, 'fatkind': 1, 'maybemono': 1, 'deletetweets': 43, 'oregon': 4, 'unitedstates': 4, 'fianc': 3, 'paris': 16, 'inhumans': 1, 'amazon': 5, 'pakistani': 2, 'anya': 2, 'neotour': 1, 'movinghou': 1, 'regrann': 6, 'fffwithjanelle': 1, 'nz': 3, 'phuket': 1, 'hurryup': 2, 'lumia': 1, 'lighttherapy': 26, 'vmin': 1, 'lovvvvvvvveeeeeeee': 1, 'atlantas': 1, 'columbus': 1, 'tshi': 10, 'devika': 1, 'cantwait': 37, 'latvia': 3, 'teresa': 2, 'educationfest': 9, 'nigeria': 5, 'pielcanela': 1, 'johnlennon': 2, 'livelypics': 6, 'songgreat': 1, 'thailand': 9, 'ohmybooks': 1, 'bhblxxx': 1, 'hangingon': 1, 'gif': 19, 'vets': 2, 'smilelaugh': 1, 'breathelove': 1, 'wrexham': 1, 'november': 3, 'lpool': 1, 'stereophonics': 1, 'kickoff': 5, 'caoon': 5, 'starsofthefuture': 1, 'george': 4, 'mommyduties': 2, 'papa': 10, 'airbroker': 1, 'tonights': 9, 'happengreat': 1, 'dope': 4, 'latino': 2, 'hispanic': 11, 'bestseller': 8, 'trumpgeorge': 1, 'grimmie': 12, 'yfmghana': 1, 'donald': 15, 'biebersacunt': 1, 'cape': 1, 'prayfoheworld': 4, 'noba': 1, 'ukraine': 12, 'ripchristinagrimmie': 18, 'yearold': 1, 'pete': 2, 'muscari': 1, 'repoing': 4, 'bankett': 2, 'mlb': 2, 'david': 8, 'tenerife': 2, 'returnmyvinyl': 1, 'arizona': 2, 'akira': 1, 'alexmagic': 1, 'nu': 1, 'johnny': 4, 'gunman': 2, 'kejriwal': 7, 'peppa': 6, 'mykonos': 2, 'leadershipfreak': 1, 'costarica': 2, 'amber': 3, 'max': 2, 'pretheatre': 1, 'maryland': 4, 'audusd': 8, 'dma': 3, 'talend': 1, 'syria': 1, 'paul': 6, 'un': 5, 'afghan': 4, 'taliban': 1, 'poorafghans': 1, 'oprah': 3, 'diysos': 1, 'biggestever': 1, 'pridela': 1, 'ali': 11, 'israel': 8, 'somedaysomeone': 1, 'hugot': 1, 'worldsbreastdad': 1, 'usedtobeafathersday': 1, 'behappy': 21, 'minneapolis': 4, 'englandrussia': 1, 'sundaynightgirlsasiangirlfun': 1, 'noida': 2, 'delhi': 6, 'allsmiles': 2, 'gmo': 1, 'dinnerdate': 1, 'gofigure': 1, 'smark': 2, 'aebylujo': 1, 'colombia': 15, 'avon': 3, 'kelly': 3, 'brooklyn': 6, 'sammaki': 1, 'huddersfield': 1, 'annual': 5, 'crookedhillary': 2, 'islamic': 7, 'bihdays': 5, 'ed': 5, 'therealdeal': 1, 'mohammedali': 2, 'ripchamp': 1, 'blu': 2, 'repoer': 4, 'qotd': 3, 'alejandragil': 1, 'whiteisis': 1, 'aist': 15, 'alfie': 1, 'costest': 1, 'glinda': 1, 'cosplay': 3, 'nxtdublin': 1, 'themusketeers': 1, 'ellen': 1, 'kimburrell': 1, 'homoresistant': 1, 'glamtastic': 1, 'rajo': 1, 'miranda': 1, 'turlock': 1, 'tennessee': 5, 'ana': 4, 'prez': 4, 'daam': 1, 'ty': 5, 'orange': 11, 'euphorix': 2, 'vincent': 4, 'brighton': 9, 'daisy': 6, 'freespirit': 3, 'seth': 1, 'alissa': 1, 'ui': 1, 'iphone': 14, 'wemissstevejobs': 1, 'shuckinandjivin': 1, 'democraticpay': 2, 'demob': 1, 'healthyeating': 2, 'ness': 17, 'bst': 1, 'hitler': 3, 'spaciba': 1, 'dhsi': 1, 'neco': 1, 'amma': 1, 'selfloathing': 3, 'nomorecrackedscreen': 1, 'pitaji': 1, 'digme': 1, 'feelgoodfriday': 1, 'birdsofafeather': 1, 'versace': 1, 'pissedoffitalian': 1, 'rashford': 1, 'mysecretlove': 1, 'festival': 23, 'british': 5, 'joe': 5, 'cox': 8, 'newproject': 4, 'norma': 1, 'rumi': 1, 'latin': 1, 'imthestar': 1, 'ke': 2, 'funday': 10, 'comingsoon': 6, 'lovinglife': 7, 'tittytuesday': 2, 'toptags': 48, 'pounds': 4, 'wembley': 6, 'hindusena': 1, 'indians': 7, 'grandfinal': 1, 'nailswagg': 1, 'japantokyobeautiful': 1, 'taunton': 1, 'hitchens': 1, 'qpac': 1, 'livemusic': 5, 'britishroyals': 1, 'stpaulslondon': 1, 'queenat': 4, 'kenyamy': 1, 'yassssss': 1, 'henderson': 3, 'daylove': 1, 'tiina': 1, 'ruthuteando': 1, 'urdu': 8, 'psa': 2, 'fed': 16, 'wtf': 16, 'animaladvocate': 2, 'excitem': 2, 'facebook': 19, 'tracy': 2, 'sohappy': 8, 'seriouslyslow': 1, 'staystrong': 3, 'pol': 2, 'pei': 1, 'sikh': 11, 'calgary': 11, 'wso': 10, 'terika': 1, 'afflumazing': 1, 'funwreekend': 1, 'flip': 8, 'friendfriendsfunnyfriendshipchill': 1, 'muslims': 10, 'emiratis': 9, 'hollywood': 10, 'trendypappie': 1, 'abba': 3, 'malta': 2, 'thirdworldcanada': 1, 'glasgow': 5, 'philadelphia': 1, 'tomhiddleston': 3, 'blm': 15, 'chicago': 14, 'detroit': 5, 'science': 16, 'tipsforlife': 1, 'dems': 4, 'airpo': 12, 'newbooks': 1, 'january': 6, 'caribbean': 2, 'getbackup': 2, 'wakeupamerica': 3, 'maga': 17, 'productng': 1, 'ukhx': 11, 'rihanna': 3, 'belgian': 2, 'tara': 2, 'buddhist': 1, 'filmfestival': 1, 'alamode': 1, 'verona': 1, 'bouncingbaby': 13, 'fath': 1, 'glyfada': 1, 'johnlewis': 2, 'arency': 1, 'ojmadeinamerica': 5, 'marcus': 4, 'christian': 6, 'daygod': 1, 'facetime': 2, 'asean': 1, 'ageisjustanumber': 1, 'chickflick': 1, 'livelife': 4, 'shower': 5, 'smileselenastyle': 1, 'manipin': 1, 'eu': 9, 'bill': 12, 'jj': 2, 'safehaven': 1, 'dennis': 2, 'lgbti': 3, 'li': 2, 'potter': 4, 'harrypotter': 3, 'kochi': 1, 'dm': 7, 'brazil': 3, 'customerservice': 2, 'btch': 1, 'trumptler': 1, 'brokenhea': 3, 'monterrey': 1, 'gt': 37, 'sigamnos': 1, 'third': 6, 'winwritersfest': 1, 'staylocal': 1, 'fuckoffnevercomingbacktosky': 1, 'feliz': 10, 'laserena': 1, 'smss': 1, 'trulyhappybaby': 1, 'wdcouncil': 1, 'tagg': 1, 'mickeymouse': 2, 'zelda': 5, 'fargo': 4, 'bestoftheday': 7, 'grandma': 6, 'brown': 9, 'hillaryclinton': 2, 'followi': 1, 'loyalcustomer': 2, 'warriorscomeoutandplay': 1, 'custompaydecor': 1, 'xgamer': 1, 'captainsisko': 1, 'tra': 2, 'bentley': 4, 'chelsea': 1, 'fri': 2, 'domesticviolence': 1, 'york': 13, 'ppoppo': 1, 'ppoppobtsarmyhappydaysmilecutegooddaygoodnitesleepwell': 1, 'announcementits': 1, 'wti': 2, 'ineedtosavethereceipt': 1, 'bieeee': 1, 'yaaaaaass': 1, 'amsterdam': 7, 'quaer': 2, 'waino': 1, 'omfg': 1, 'bluesky': 6, 'sarah': 2, 'smaer': 2, 'barack': 3, 'whisky': 4, 'korea': 9, 'toronto': 8, 'mysonshine': 1, 'mk': 4, 'stylemile': 1, 'glasto': 3, 'glastonbury': 6, 'cruz': 2, 'clinton': 6, 'gdegblog': 1, 'gayguy': 3, 'hackaton': 1, 'cameron': 2, 'whatswrong': 1, 'notgood': 2, 'thegoodlife': 3, 'sanders': 3, 'mixedemotions': 2, 'coybig': 6, 'boe': 1, 'tommorrow': 1, 'jana': 1, 'inshot': 17, 'heabroken': 19, 'avicii': 2, 'franziskafacella': 1, 'wedontwinanymore': 1, 'weeeellll': 1, 'travelso': 1, 'closemaybe': 1, 'rotakids': 1, 'lancaster': 2, 'yehtut': 2, 'tulsa': 2, 'oxford': 4, 'spanish': 4, 'ootd': 13, 'ps': 12, 'loveislove': 13, 'matt': 9, 'malia': 1, 'simon': 3, 'broall': 1, 'blessingsamplonglyf': 1, 'parisianbreakfast': 1, 'prisonu': 1, 'pokemonsunandmoon': 1, 'goto': 1, 'wohy': 3, 'nancy': 1, 'phd': 3, 'killme': 1, 'innerchild': 2, 'ek': 2, 'uploadddddd': 1, 'latepost': 9, 'killary': 2, 'malcolm': 1, 'weare': 1, 'hrc': 6, 'popularvote': 1, 'carson': 2, 'chick': 8, 'rationchallenge': 1, 'lakeway': 1, 'az': 2, 'streetautopia': 1, 'benidorm': 4, 'revhealth': 1, 'lovelife': 15, 'myhappycapture': 5, 'mustread': 4, 'smilepowerday': 6, 'para': 1, 'livingthedream': 1, 'tg': 1, 'pearlman': 1, 'parkridgechamber': 1, 'mac': 10, 'safarilive': 1, 'oskar': 3, 'riyadh': 1, 'laguna': 1, 'postit': 1, 'sanfrancisco': 4, 'unfounate': 5, 'electoralcollege': 1, 'notmypresident': 9, 'weezied': 1, 'lgbtqhatestrumppay': 3, 'tmrw': 2, 'justmarried': 1, 'lgbtq': 5, 'communitythey': 1, 'greattime': 1, 'expressjs': 1, 'heroku': 1, 'barrelno': 1, 'starmoviessecretscreening': 1, 'derrick': 1, 'nottingham': 7, 'bml': 1, 'spain': 16, 'newday': 3, 'antinational': 1, 'arkansas': 4, 'saydyslexia': 1, 'namibia': 1, 'venice': 3, 'vodpass': 1, 'livelovelife': 1, 'restinlovechristina': 1, 'restinpiecechristina': 1, 'arabs': 1, 'foxnews': 2, 'spotify': 4, 'foreverliving': 2, 'keepsmilin': 1, 'ibiza': 19, 'thi': 4, 'twatface': 1, 'argentine': 1, 'freethenipple': 1, 'respondersorlando': 1, 'sexysaturday': 2, 'scotiabank': 4, 'aunty': 1, 'becrazy': 1, 'whoisjayr': 2, 'antonyelchin': 8, 'hfmd': 1, 'lakers': 2, 'candy': 4, 'raghuramrajan': 4, 'bow': 2, 'moosey': 1, 'crazie': 1, 'sec': 2, 'armcandy': 1, 'harbaugh': 1, 'siste': 1, 'kaepop': 1, 'zulu': 1, 'techjunkiejh': 1, 'blackwomen': 1, 'asianmen': 1, 'datingapps': 1, 'oslo': 2, 'norway': 4, 'ashley': 3, 'teamsschools': 1, 'jacksonville': 3, 'mins': 17, 'augusta': 4, 'arjun': 1, 'gators': 3, 'showtime': 4, 'youtuber': 5, 'popa': 1, 'soroptimist': 1, 'sitgesgaypride': 1, 'indonesia': 4, 'usher': 2, 'august': 19, 'riga': 2, 'wenger': 1, 'linstagram': 2, 'wordpress': 2, 'arianagrandedrawing': 3, 'eac': 4, 'gemini': 5, 'assalamoalaikum': 1, 'batman': 5, 'carmelvalley': 1, 'shopsmall': 1, 'libey': 5, 'canadian': 5, 'yalit': 1, 'patentmcr': 1, 'gorka': 1, 'alina': 2, 'insparation': 1, 'ampamp': 3, 'thinskinned': 1, 'conces': 6, 'pfft': 1, 'justsaying': 3, 'bangkok': 3, 'selfharm': 2, 'orangeisthenewblack': 5, 'oinb': 1, 'democrat': 3, 'goldenstatewarriors': 2, 'trumpsamerica': 2, 'apa': 5, 'shalala': 1, 'sctop': 1, 'stanleycup': 2, 'unfounately': 10, 'usdjpy': 3, 'chester': 3, 'momlife': 3, 'fa': 8, 'onelove': 4, 'french': 7, 'indiegame': 3, 'tomorrowland': 1, 'exoflex': 1, 'roger': 3, 'nudu': 1, 'gogreen': 1, 'meps': 1, 'wever': 1, 'valley': 5, 'brandon': 2, 'altmarket': 1, 'effos': 1, 'familia': 2, 'weddingplanning': 4, 'likeforlike': 10, 'stitch': 2, 'herbalife': 3, 'lstv': 2, 'thehennarealm': 1, 'lockandkey': 1, 'proudmother': 1, 'unconditionallove': 1, 'qatil': 1, 'barnsley': 1, 'wedn': 1, 'yoube': 1, 'smoke': 9, 'injustoutbook': 1, 'thatguy': 1, 'uks': 2, 'oecd': 2, 'worldas': 1, 'bebeko': 1, 'bihdayweek': 1, 'familytime': 7, 'epl': 1, 'cornwall': 4, 'justin': 4, 'va': 3, 'estonia': 1, 'ltscoys': 1, 'healthymindset': 1, 'letiziah': 1, 'sd': 1, 'gunsense': 2, 'thelaw': 1, 'indianapolis': 4, 'fg': 2, 'huffington': 2, 'feelingbetter': 1, 'retos': 1, 'orlandostrong': 3, 'prayforflorida': 1, 'laurenduca': 1, 'yearsthis': 1, 'stlislou': 1, 'brock': 2, 'ksdk': 1, 'americanfootball': 1, 'kinsella': 1, 'theotherview': 1, 'flower': 16, 'funi': 1, 'ozzy': 2, 'dogsofinstagram': 5, 'friendsperfect': 1, 'alexandria': 1, 'tokyo': 5, 'missingout': 2, 'lovemyjob': 5, 'sweat': 7, 'abt': 8, 'bengaluru': 2, 'bahrain': 1, 'lovelgq': 1, 'nashville': 3, 'broughtbacknashville': 1, 'east': 8, 'youmakemesmile': 1, 'boricua': 8, 'comehome': 1, 'blessedandgrateful': 1, 'fanepicness': 1, 'dogfriends': 1, 'mike': 3, 'woodrowwilson': 2, 'atherapy': 4, 'bihdaypresent': 1, 'parisjetaime': 1, 'labase': 1, 'noreadrecipetson': 1, 'yyt': 2, 'pewaukee': 2, 'likefatherlikedaughter': 1, 'daddysgirl': 2, 'benguet': 1, 'batharsenal': 1, 'tiiime': 1, 'alphabounce': 1, 'goblue': 1, 'slocombe': 1, 'damaris': 1, 'homophonbes': 1, 'withboby': 1, 'boveytracey': 1, 'hindu': 2, 'msw': 1, 'eternallove': 1, 'fairfax': 1, 'bmw': 2, 'daycome': 2, 'barracklane': 1, 'businesscards': 1, 'vistaprint': 1, 'islamist': 2, 'radiohead': 1, 'beerin': 1, 'stockmusic': 2, 'af': 6, 'santa': 4, 'soros': 3, 'jungkook': 2, 'namjoon': 1, 'orland': 1, 'erhereicome': 1, 'warcraftmovie': 2, 'tuaa': 1, 'blake': 2, 'bts': 6, 'mccormick': 2, 'marx': 1, 'teambts': 10, 'antiblack': 1, 'lifestyleblogger': 2, 'hamzayusuf': 2, 'bali': 3, 'cali': 3, 'five': 7, 'couain': 1, 'antwerp': 1, 'yr': 14, 'sam': 4, 'maia': 1, 'oceanviews': 1, 'phew': 2, 'uo': 1, 'limecrime': 1, 'expes': 2, 'productbali': 1, 'beyonc': 1, 'atpeace': 2, 'coluche': 1, 'orlandohorror': 4, 'nazi': 4, 'salutbut': 1, 'amaniknew': 2, 'imissyouguys': 1, 'koreans': 1, 'amwriting': 10, 'gesh': 1, 'fifty': 3, 'panama': 3, 'kickstaer': 2, 'mercedes': 2, 'corporategolf': 1, 'nikkas': 1, 'nonhockey': 1, 'gordie': 5, 'lonewolf': 1, 'isitok': 1, 'marylous': 1, 'moreeee': 1, 'officialmbmusic': 1, 'mvp': 2, 'talenttalk': 1, 'terrorattack': 2, 'shaan': 1, 'cultureofdeath': 1, 'topten': 1, 'healthca': 1, 'makemoney': 2, 'decades': 6, 'nerium': 1, 'haley': 1, 'irish': 6, 'saudi': 2, 'limpdickwilly': 1, 'learnmore': 1, 'peaceandlove': 2, 'ramadhan': 9, 'birmingham': 7, 'kingdom': 6, 'viamiano': 1, 'ibooks': 5, 'kharkiv': 3, 'wayne': 2, 'metro': 1, 'baes': 2, 'muchpower': 1, 'hatredangerlower': 1, 'bdon': 1, 'usofa': 1, 'suffolkhour': 1, 'caturday': 11, 'papafamily': 1, 'crestview': 1, 'ursexiestmorena': 1, 'ruby': 2, 'koran': 1, 'snapchater': 2, 'cyprus': 2, 'onegame': 1, 'steinbeckandshaw': 1, 'micommunity': 1, 'kia': 2, 'tristan': 1, 'feelinggood': 8, 'colorado': 3, 'sonny': 1, 'gtgt': 6, 'myfamily': 1, 'cleo': 1, 'manny': 1, 'bugzy': 1, 'gratulation': 2, 'motogp': 1, 'victoria': 2, 'yg': 2, 'tanjucalimli': 1, 'jihwan': 1, 'begood': 1, 'heavymetal': 1, 'nomnom': 3, 'rku': 1, 'newclue': 1, 'walrustalks': 1, 'western': 5, 'min': 4, 'kelowna': 1, 'ennuimysterious': 1, 'monthiversary': 1, 'owlashop': 2, 'giftideas': 3, 'trumpuniversity': 3, 'bestofthebest': 1, 'weslayin': 1, 'blacklistof': 1, 'eileen': 1, 'bt': 5, 'accusin': 1, 'sicki': 1, 'craying': 1, 'zara': 3, 'peopleyoulove': 1, 'flowerofjoy': 1, 'rio': 4, 'usdcad': 6, 'aloha': 3, 'dogsarejoy': 4, 'nfl': 1, 'remainers': 1, 'brugge': 1, 'belgium': 4, 'iowa': 3, 'peoria': 1, 'newzealand': 1, 'earlyyyyyyyyyyyy': 1, 'justicereform': 1, 'tommorow': 3, 'etcnot': 1, 'pwd': 1, 'fathersdaymessage': 3, 'baylor': 2, 'coimbatore': 1, 'hygge': 1, 'jaylenosgarage': 1, 'mustanggtboxstersmazdaspeed': 1, 'gs': 4, 'cap': 2, 'depaures': 4, 'whaat': 1, 'gonebutneverforgotten': 1, 'appletv': 1, 'tinky': 1, 'sunshinesunshine': 1, 'upliftingnews': 2, 'ss': 3, 'sunrises': 1, 'cle': 3, 'gafesummit': 1, 'sundays': 3, 'dunstaplesummerselfie': 1, 'justine': 1, 'nigel': 3, 'nevous': 1, 'sept': 3, 'tomahawk': 2, 'nos': 1, 'maini': 1, 'wap': 1, 'wiz': 1, 'macbeth': 1, 'thane': 2, 'cawdor': 2, 'impoance': 3, 'pissedoff': 2, 'myfit': 1, 'huing': 2, 'nda': 4, 'bjp': 16, 'tdp': 1, 'russian': 2, 'bacheloretteweekend': 1, 'isaac': 3, 'pentecostals': 1, 'april': 7, 'sudbury': 2, 'whereh': 1, 'pretoria': 1, 'gbs': 1, 'nitro': 1, 'biglove': 1, 'ltjk': 1, 'summerlove': 1, 'chitown': 1, 'aleksejplatonov': 1, 'instafollow': 3, 'cloe': 1, 'megabus': 1, 'mini': 8, 'grieco': 1, 'somuchfunlasttime': 1, 'kremlin': 1, 'moscow': 3, 'foodacademy': 1, 'satanists': 1, 'sowhos': 1, 'dadsgotyourback': 1, 'fairytail': 5, 'milkyway': 1, 'stageshes': 1, 'aba': 1, 'icantgoon': 1, 'ka': 3, 'warriorsfans': 1, 'grahamepark': 1, 'onesleep': 1, 'lookingaround': 1, 'nj': 2, 'ne': 3, 'starbucks': 8, 'realtalk': 6, 'shideism': 4, 'teamshide': 4, 'traveltuesday': 2, 'velicaria': 1, 'greg': 2, 'kingreynolds': 1, 'hayes': 2, 'loveblinds': 1, 'shanaticforever': 1, 'pac': 6, 'snapeffect': 1, 'littleprince': 1, 'dixie': 3, 'brillenarmy': 1, 'prob': 2, 'limpopo': 1, 'ttespos': 1, 'stinkypup': 1, 'tn': 3, 'croft': 1, 'four': 7, 'melo': 1, 'smfh': 1, 'volkswagen': 1, 'catsare': 1, 'jesse': 1, 'wehate': 1, 'truganina': 1, 'corruptgop': 1, 'queens': 7, 'sunseasand': 1, 'carlpalladino': 1, 'nightout': 8, 'charmeine': 1, 'march': 2, 'greenspan': 3, 'sweetiethats': 2, 'reto': 2, 'grazia': 1, 'theduchessofcambridge': 1, 'tellingwhat': 1, 'bollywood': 5, 'politicalmillennial': 1, 'climatechange': 3, 'uncov': 1, 'ventura': 3, 'italy': 9, 'giampiero': 1, 'anfield': 1, 'manutd': 1, 'midfield': 2, 'reddevils': 1, 'ironandwine': 1, 'heyboo': 1, 'israeli': 3, 'jewish': 4, 'judea': 1, 'omarmateen': 1, 'alllivesmatter': 2, 'nsovo': 1, 'makhubela': 1, 'foreverhome': 1, 'lance': 2, 'whatwomenwant': 1, 'scoc': 1, 'wohwhile': 1, 'lovehim': 3, 'strat': 1, 'alrigth': 1, 'arianagrande': 1, 'bobo': 2, 'introduc': 1, 'islamicterrorist': 1, 'leedsmillenium': 1, 'alexpascal': 1, 'wi': 3, 'frankfu': 1, 'wisconsin': 3, 'exci': 5, 'staer': 6, 'immoalise': 1, 'tacos': 2, 'ummhmm': 1, 'bossbabe': 2, 'lush': 4, 'syfy': 4, 'giphy': 3, 'eight': 5, 'economicalcooking': 1, 'balanceldn': 2, 'toyota': 2, 'lemans': 8, 'grandayaripchristina': 1, 'contd': 1, 'themthat': 1, 'foodexperience': 1, 'webster': 3, 'panda': 4, 'rainyday': 4, 'por': 1, 'meses': 1, 'eurjpy': 2, 'xcams': 1, 'oleschy': 1, 'studebaker': 1, 'mothernature': 2, 'splitvipagency': 1, 'chile': 5, 'colombian': 2, 'wattpad': 5, 'anthum': 1, 'wellit': 1, 'eastern': 2, 'planetthey': 1, 'mozilla': 1, 'engineeringspeaker': 1, 'talkmozillawomozillamozgujmozin': 1, 'killevil': 1, 'ciao': 2, 'eatingout': 1, 'downtownbistrom': 1, 'davis': 3, 'dogforlife': 1, 'dacks': 1, 'kolkata': 3, 'daddayludaliteamboostakeoverhypersidewalk': 1, 'brideandgroom': 1, 'takeoverbrooklyn': 1, 'hc': 3, 'meanstreak': 1, 'zante': 3, 'democratic': 3, 'moonblue': 1, 'lifehad': 1, 'catlady': 1, 'garfield': 1, 'bogota': 7, 'eggdonoragency': 1, 'buildingfamilies': 1, 'mauritius': 1, 'zeldabreath': 1, 'amazingits': 1, 'sweden': 7, 'renee': 4, 'crazykids': 1, 'youthey': 1, 'herbe': 1, 'dadampdaughtr': 1, 'cutee': 1, 'tody': 1, 'daylov': 1, 'niki': 1, 'fuccckkkkkkkkk': 1, 'skinnygal': 1, 'poable': 1, 'senate': 1, 'obamacare': 2, 'pmqs': 1, 'illinois': 4, 'mebritneyhope': 1, 'hechoamano': 2, 'alps': 1, 'adam': 6, 'meever': 1, 'gtfoh': 1, 'crackalogic': 1, 'conyers': 1, 'keeponlearning': 1, 'ludacris': 1, 'findingdory': 12, 'pixar': 3, 'dentalcrisis': 1, 'gastricsleep': 1, 'nova': 1, 'verbalassault': 2, 'atlanta': 7, 'checkcashing': 1, 'hambones': 1, 'fifa': 3, 'megan': 3, 'favcolourblue': 1, 'thoughfuulll': 1, 'albuquerque': 1, 'happinesswins': 1, 'worldoceansday': 4, 'chelski': 1, 'rbc': 3, 'jeff': 2, 'ag': 3, 'gatorsquad': 1, 'awwww': 2, 'cardiff': 7, 'shopthemint': 3, 'animalkingdom': 2, 'badand': 1, 'gaysmuslims': 1, 'junaricrm': 1, 'hamilton': 4, 'socloseyetsofar': 1, 'osho': 1, 'thelastsong': 1, 'nightgram': 1, 'peaceofmind': 1, 'paladino': 10, 'obamas': 9, 'ikea': 3, 'watever': 1, 'nigelfarage': 1, 'paraguay': 2, 'ameen': 1, 'hellolulu': 1, 'roy': 3, 'rob': 3, 'notacloudinthesky': 1, 'alhamdullilah': 1, 'inshaallah': 2, 'asktheheel': 1, 'wherford': 1, 'yaaaass': 1, 'deadbydaylight': 2, 'nbc': 3, 'sewingbee': 2, 'dreambig': 3, 'losangeles': 4, 'charlotte': 3, 'weknow': 1, 'betterbefixedsoon': 1, 'oppounities': 4, 'uptosomething': 1, 'pmln': 1, 'indore': 1, 'mansoon': 2, 'mara': 1, 'luckysloungelv': 1, 'halo': 2, 'leeds': 12, 'asksaad': 1, 'vietnam': 3, 'weekendwell': 1, 'metexasbbq': 1, 'laila': 1, 'mexicans': 2, 'bookstagram': 2, 'illuminae': 1, 'thursdaythoughts': 5, 'underarmourwomen': 1, 'everymanager': 1, 'cavett': 2, 'insp': 1, 'ebhour': 1, 'ivanas': 1, 'ross': 2, 'bobross': 1, 'sweetiedarling': 1, 'babymetal': 1, 'justthebeginning': 1, 'tweetsi': 1, 'rstn': 1, 'waggintailwednesday': 1, 'woah': 3, 'gurl': 4, 'instaboy': 3, 'atardecer': 1, 'diisgusted': 1, 'flt': 1, 'natureishealing': 1, 'dayy': 1, 'jaja': 1, 'fblogger': 2, 'guncontrolplease': 2, 'wsib': 1, 'bk': 2, 'infinityrecs': 1, 'nogrowth': 1, 'theflash': 1, 'appstore': 1, 'raven': 1, 'english': 13, 'newcastle': 7, 'perveeds': 1, 'hatingbut': 1, 'oholy': 1, 'wohoooo': 1, 'yearit': 1, 'alwayslookonthebrightsideoflife': 1, 'nikkoreyes': 1, 'abbu': 1, 'mto': 1, 'mikey': 2, 'three': 19, 'mornin': 3, 'horriblenews': 1, 'jaitley': 3, 'vineyards': 2, 'mehn': 3, 'delta': 3, 'keshi': 5, 'kosoko': 1, 'nicola': 4, 'hallwayst': 1, 'jessica': 3, 'philippines': 3, 'lovewins': 3, 'selfemployment': 1, 'thursdays': 2, 'sceneimage': 1, 'myminecraftrobot': 1, 'saterday': 2, 'thefashionpoet': 1, 'energ': 1, 'filipino': 2, 'memorialdayweekend': 2, 'teamca': 1, 'yyc': 5, 'cornerhouse': 1, 'uni': 5, 'irani': 1, 'persian': 4, 'hillbot': 1, 'dofe': 1, 'maine': 2, 'mikado': 1, 'memphis': 2, 'ocharleys': 1, 'egyptian': 1, 'dumfries': 1, 'upcm': 2, 'niagara': 1, 'thankspop': 1, 'nudist': 3, 'thefeels': 1, 'chaplin': 2, 'loveisland': 7, 'unputdownable': 1, 'nick': 5, 'gameday': 2, 'losgt': 1, 'benghazi': 2, 'rubio': 2, 'natkingcole': 1, 'beyou': 6, 'natgeo': 2, 'ptrish': 1, 'morningim': 1, 'travelwoman': 2, 'cmtawards': 4, 'dustyfairytale': 1, 'passpos': 1, 'englishfans': 1, 'lopez': 4, 'bangalore': 3, 'pokemonsunmoon': 2, 'dauphine': 1, 'itv': 1, 'pigwomen': 1, 'springfield': 2, 'makeuplover': 2, 'lalita': 1, 'ceain': 8, 'maccas': 1, 'melissa': 1, 'hapus': 1, 'akon': 1, 'unasolagozadera': 2, 'egypt': 1, 'juan': 6, 'teammagenta': 1, 'awee': 1, 'democrats': 6, 'conservatives': 4, 'tory': 3, 'frank': 3, 'sysadmin': 1, 'wiggins': 1, 'knossos': 1, 'skyformiles': 1, 'emer': 1, 'chaani': 1, 'justroses': 1, 'redrose': 1, 'baender': 2, 'actorlife': 1, 'cantwaitfor': 1, 'finland': 2, 'jks': 1, 'mog': 1, 'kathleen': 1, 'makeamericagreatagain': 3, 'rickyh': 1, 'busine': 1, 'thisrigged': 1, 'chacos': 1, 'hyundai': 2, 'weappreciateourcustomers': 1, 'european': 6, 'neveragain': 2, 'mlpseason': 2, 'brittflowerchild': 1, 'donnie': 1, 'debra': 1, 'asos': 1, 'zootopia': 1, 'ceainly': 2, 'wcw': 5, 'drbanner': 1, 'marvelstheavengers': 1, 'hermes': 1, 'rory': 2, 'ufcottawa': 2, 'jon': 5, 'regressiveleft': 1, 'gotreadyfornothing': 1, 'kellyann': 1, 'lithuania': 1, 'crapservice': 1, 'flevesisland': 1, 'hai': 3, 'jasonbourne': 1, 'tatacliq': 1, 'briarwood': 1, 'vic': 2, 'countingdown': 2, 'hva': 1, 'religiouspsychosis': 1, 'keshis': 1, 'repostinstamood': 1, 'fs': 2, 'wonderwomanshop': 1, 'sabbathday': 1, 'virginia': 2, 'amtrak': 2, 'jameson': 1, 'downnever': 1, 'mei': 1, 'jack': 6, 'wishlist': 4, 'aureliano': 1, 'palmira': 1, 'fidelio': 1, 'womenmalayalam': 1, 'ginola': 1, 'firstkiss': 1, 'royal': 6, 'itveuref': 2, 'rudd': 1, 'hopenothate': 1, 'dayd': 1, 'flashbackfriday': 1, 'watermeloen': 1, 'usama': 1, 'jew': 6, 'myboyfriendmylifemysweetdiamondboycrazygirl': 1, 'southampton': 4, 'tokifuji': 2, 'christinagrimme': 1, 'toptweeters': 1, 'floridastate': 1, 'nonlistener': 1, 'jetlife': 1, 'rela': 1, 'dutch': 4, 'smille': 1, 'uber': 2, 'randa': 1, 'whitenationalist': 1, 'kadesh': 2, 'banghyperspaceng': 1, 'gabba': 9, 'amelia': 2, 'vancouver': 1, 'jamie': 2, 'colin': 2, 'arewethereyet': 1, 'srilanka': 2, 'yaaaaasssss': 1, 'orded': 1, 'coldplaywembley': 3, 'malapit': 1, 'megadeth': 1, 'littledesseshop': 1, 'thcentury': 1, 'tfw': 1, 'miband': 1, 'thechallenge': 1, 'bebs': 1, 'journeyforas': 1, 'boheme': 3, 'oksrslywhen': 1, 'mccain': 3, 'np': 8, 'princessestelle': 2, 'nationalday': 2, 'rexes': 1, 'pickle': 2, 'wot': 1, 'sheryls': 1, 'confed': 1, 'deplorables': 1, 'basti': 2, 'vinylgrooverrain': 1, 'companymusicvideo': 2, 'girltime': 3, 'mandarin': 1, 'numad': 1, 'totlly': 1, 'luicalibre': 1, 'prestonpans': 1, 'abbotabad': 1, 'mako': 1, 'niceplace': 1, 'aga': 2, 'sirvuve': 1, 'lovetravel': 1, 'fruitpie': 1, 'thebook': 1, 'poshlife': 1, 'naturallybased': 1, 'bang': 6, 'myworld': 3, 'rihannanavy': 1, 'noenergy': 1, 'arabian': 1, 'whoshotjoecollins': 1, 'zomg': 1, 'shairi': 7, 'gazal': 3, 'snd': 2, 'thnku': 1, 'matethankful': 1, 'danisa': 1, 'quadradot': 1, 'christmaseve': 1, 'unwaveringi': 1, 'aaron': 1, 'cassie': 2, 'paicular': 1, 'comfoable': 2, 'trc': 3, 'cutekid': 1, 'depressioncure': 1, 'desesafari': 1, 'dominicanrepublic': 1, 'investme': 1, 'fitfam': 9, 'ramsey': 4, 'bodyattack': 1, 'thoughtleaders': 1, 'joker': 1, 'jocoxmp': 3, 'phipps': 1, 'lifeisgreat': 2, 'manhattan': 3, 'fishinajelly': 1, 'repofree': 1, 'oscarpistorius': 2, 'kevin': 9, 'fitcamp': 1, 'dnc': 6, 'hisher': 1, 'nola': 1, 'highlander': 1, 'meselfietoday': 1, 'foh': 1, 'eeeeekkkkkk': 1, 'xmastoday': 1, 'noschoolsummer': 1, 'theron': 3, 'igersbnw': 3, 'wowfinally': 1, 'anka': 1, 'bydgoszcz': 1, 'swansea': 1, 'nofear': 2, 'togofogolooks': 1, 'daysi': 1, 'kubang': 1, 'daysimagine': 1, 'fellazchurch': 1, 'theunitedstates': 1, 'baltimore': 2, 'kajal': 4, 'amy': 3, 'cutei': 2, 'newcar': 3, 'visa': 2, 'squiin': 1, 'atmrunchat': 1, 'afro': 3, 'danieldash': 1, 'isolatedtargets': 1, 'quietpeoplearealwaysthoughtweak': 1, 'cycleto': 1, 'politiciansarguing': 1, 'neverwanttoletgo': 1, 'muhammadali': 4, 'xmas': 4, 'thegreenpalmcottage': 2, 'ndcoslo': 1, 'whaaaaaat': 1, 'bankai': 4, 'kyo': 1, 'berniesanders': 3, 'calif': 1, 'alaska': 4, 'madrid': 7, 'solidarity': 5, 'regram': 5, 'motherood': 1, 'andrew': 6, 'refundnow': 1, 'cs': 1, 'hopelessdone': 1, 'yougotgot': 1, 'aamaadmipay': 1, 'makeeverysecondcount': 1, 'diddo': 1, 'littlegirlhairstyles': 1, 'winnipeg': 3, 'casanova': 1, 'toddlernicolas': 1, 'instadiary': 1, 'guarani': 1, 'lovelynight': 1, 'myforever': 1, 'eurnok': 1, 'jivemap': 6, 'peruvian': 2, 'futurama': 1, 'clev': 1, 'dot': 2, 'horselovers': 2, 'bellator': 1, 'kimbo': 3, 'dafney': 1, 'queenanelisse': 2, 'atitudei': 2, 'jokesmen': 2, 'elijah': 1, 'yu': 3, 'everytme': 1, 'rome': 1, 'greek': 3, 'messychurch': 1, 'allwelcome': 1, 'mycelebtravelagent': 1, 'luth': 1, 'payday': 5, 'gac': 1, 'springsummer': 1, 'mcguiresoutdoor': 1, 'religiot': 1, 'betteryoga': 1, 'ampthey': 1, 'orlandonightclubshooting': 5, 'colinshaws': 1, 'holidaaaaaay': 1, 'ffs': 2, 'fifth': 1, 'millionairesholidayclub': 1, 'curriculumday': 1, 'btb': 1, 'johnmccain': 1, 'brixton': 2, 'laaast': 1, 'knubisoft': 1, 'scottishborder': 1, 'returningcitizens': 1, 'commutations': 1, 'istillbelievethough': 1, 'freakyfriday': 1, 'careerguide': 2, 'prayersfororlando': 6, 'bihdayholly': 1, 'bondi': 2, 'epici': 1, 'dbetweenus': 1, 'caucasian': 2, 'ontheroad': 1, 'todd': 2, 'sheisoftenconfused': 1, 'payet': 2, 'tavi': 1, 'filigrana': 1, 'valledupar': 1, 'hae': 1, 'knw': 1, 'knowyourboundaries': 1, 'aol': 2, 'thankgoditsfridaytheres': 1, 'happyand': 1, 'toosince': 1, 'schoolholidays': 1, 'notsleep': 1, 'gandhi': 3, 'ubc': 1, 'ini': 1, 'wr': 2, 'fucku': 1, 'unc': 1, 'badger': 2, 'skater': 1, 'polini': 1, 'malaysian': 1, 'weeksary': 2, 'aeon': 1, 'isisnt': 1, 'halowars': 2, 'kimble': 1, 'palmsprings': 1, 'buttermere': 1, 'livandmaddie': 1, 'disneychannel': 1, 'basketballhasbeen': 1, 'nzvwal': 1, 'christianity': 4, 'frwd': 1, 'ramazan': 2, 'goodbook': 4, 'stylewe': 1, 'towlerlindsay': 1, 'mygarden': 2, 'facewtf': 1, 'timeyou': 2, 'prewedding': 1, 'exracehorses': 1, 'sia': 2, 'adamitv': 1, 'burningbankruptcy': 1, 'les': 3, 'reagan': 3, 'emotionallyobtuse': 1, 'stupidto': 1, 'travelmore': 1, 'thai': 1, 'quebec': 3, 'womeninbusiness': 1, 'slimmingworld': 4, 'atsocialmedia': 2, 'twitte': 1, 'saregamapa': 1, 'bellyup': 1, 'italian': 3, 'hoy': 1, 'jocox': 5, 'yahooo': 1, 'cozzy': 1, 'childrape': 1, 'tuesdaymotivation': 3, 'tanhai': 2, 'jour': 1, 'nords': 1, 'cornersuiteupgrade': 1, 'cheerup': 2, 'sheila': 2, 'parsons': 1, 'sisher': 1, 'slimer': 1, 'truueee': 1, 'sinema': 1, 'islamism': 2, 'sodomandgommorrah': 1, 'fitnessaddict': 2, 'bey': 1, 'oneofakind': 1, 'kayla': 2, 'foodonground': 1, 'elmo': 2, 'yuge': 2, 'gian': 1, 'imwithher': 1, 'thegreatest': 2, 'fella': 3, 'desserving': 1, 'gmdbabydave': 1, 'alex': 3, 'manam': 1, 'newlight': 1, 'henrico': 1, 'walkins': 1, 'vivalajomp': 1, 'breakfastparenthesebordeaux': 1, 'haiti': 2, 'mylove': 6, 'pieceofme': 2, 'dmb': 1, 'daniel': 2, 'trumpkin': 1, 'olly': 1, 'kelvin': 1, 'sosassy': 1, 'twiggers': 1, 'bossradio': 1, 'cincinnati': 3, 'ohio': 3, 'ronnie': 1, 'philandocastile': 2, 'nye': 2, 'smileyface': 4, 'rocketleague': 2, 'vegansofig': 1, 'gravitypoisoning': 1, 'goodnews': 2, 'thankyouall': 1, 'hishunts': 1, 'binq': 1, 'antiamerican': 1, 'longdistance': 1, 'movingin': 1, 'singingintherain': 1, 'swingingintherain': 1, 'eagle': 1, 'barcelona': 8, 'clintons': 1, 'achebeersofa': 1, 'yousuck': 2, 'betterdecisionsbetterlifecom': 1, 'walkies': 1, 'shillary': 1, 'stopgunviolence': 1, 'mattlaw': 1, 'piervld': 1, 'marrakech': 2, 'cbd': 2, 'djhumility': 1, 'ojb': 2, 'mumfordandsons': 1, 'exsec': 1, 'midday': 1, 'gilbe': 1, 'leicestersquare': 1, 'needforspeed': 1, 'columbia': 2, 'aicp': 1, 'motioncapture': 1, 'juneseventhsixteen': 1, 'orillia': 1, 'caer': 2, 'aciclovir': 1, 'whiteslavers': 1, 'venezuela': 4, 'maidofhonor': 1, 'boj': 3, 'fotografoprofessionale': 1, 'weddingphotography': 1, 'hurra': 1, 'sandra': 1, 'bandra': 1, 'appreciatesomeone': 1, 'bigbizgtus': 1, 'countrys': 1, 'nationalflipflopday': 1, 'tyra': 1, 'massachusetts': 3, 'houston': 3, 'argentinathere': 1, 'longdistanceprobz': 1, 'thebigclash': 1, 'myyyyyyy': 1, 'readingcoffeecupshapes': 1, 'withumbrella': 1, 'theoriginalmilkshake': 1, 'peopleyou': 1, 'crucible': 1, 'msm': 3, 'buffon': 2, 'yeti': 1, 'kefalonia': 1, 'donotrublovethewrongway': 1, 'kanecrookes': 1, 'theend': 2, 'classof': 2, 'maltonfestival': 1, 'paxxy': 1, 'lulybtips': 1, 'pag': 1, 'johndeere': 1, 'rdoequipment': 1, 'twtr': 1, 'hrnerd': 1, 'rambo': 1, 'ukca': 1, 'postivethinking': 1, 'specialneeds': 1, 'maidstone': 1, 'beyourself': 1, 'foodstagram': 3, 'morningits': 1, 'knowledgeispower': 1, 'soffierose': 1, 'holland': 1, 'lolsince': 1, 'anythingoh': 1, 'tolyatti': 1, 'youthday': 1, 'ripantonyelchin': 2, 'bladdercancer': 1, 'btwnus': 1, 'angela': 1, 'gother': 1, 'sgetsh': 1, 'bwbpp': 1, 'cmafest': 2, 'alldue': 1, 'boardthey': 1, 'blogtacular': 3, 'expectationshu': 1, 'vax': 1, 'washer': 1, 'cleancarpets': 1, 'trippin': 1, 'melania': 1, 'hnbtransatlantic': 1, 'oveure': 1, 'dontmissthis': 1, 'teapublicans': 1, 'msc': 2, 'coolmix': 1, 'candjdays': 1, 'phoenix': 2, 'mt': 4, 'joseee': 1, 'lessthanaweek': 1, 'escapinqlifee': 1, 'butto': 3, 'angasutrasale': 1, 'gentlepassion': 2, 'chargehr': 1, 'foodtaxi': 1, 'xboxe': 3, 'kyra': 1, 'assssss': 1, 'polska': 1, 'beautifulcityhostel': 1, 'sunda': 1, 'penn': 2, 'indian': 3, 'bestpaofsummer': 1, 'leapoffaith': 1, 'famousrich': 1, 'manspreading': 1, 'ifyourenotwhiteyourenotracist': 1, 'shabbat': 2, 'torah': 1, 'okc': 1, 'qoq': 1, 'wohasu': 2, 'ukrunchat': 4, 'kentucky': 1, 'jcpenny': 2, 'stopcensoring': 1, 'okarito': 1, 'klan': 1, 'druzy': 1, 'joel': 2, 'bulgaria': 3, 'gratefuleveryday': 2, 'pakistanis': 1, 'youhavetobekiddingme': 1, 'nine': 2, 'celebrains': 3, 'herbalremedies': 6, 'ahritis': 1, 'trumpproofamerica': 1, 'emoji': 4, 'jst': 1, 'kidnapedbeatten': 1, 'muddy': 1, 'steve': 1, 'hyderabad': 1, 'lokiday': 4, 'alldayeveryday': 1, 'hairsblessed': 1, 'farmdogs': 1, 'bellajoy': 1, 'dayton': 1, 'damnkids': 1, 'sha': 1, 'fasgt': 1, 'weekspregnant': 1, 'catsofinstagram': 2, 'hsus': 1, 'timesimply': 1, 'handlettering': 1, 'thevoiceuk': 1, 'cray': 1, 'tgifridays': 1, 'labsrule': 1, 'bailey': 3, 'uspoli': 1, 'cam': 2, 'bettehenxmas': 1, 'totalbodyblitz': 1, 'jungle': 1, 'yellen': 1, 'poormarketing': 1, 'tubbytoons': 3, 'eahly': 1, 'kittenkeith': 1, 'punjabi': 3, 'isitthursdayyet': 1, 'allhumans': 1, 'naturalborn': 1, 'leftright': 6, 'freakinv': 1, 'sharingwe': 1, 'mamashelter': 1, 'doglover': 3, 'motivati': 1, 'sneha': 1, 'photoi': 1, 'minecraft': 2, 'feelinggoodall': 1, 'findingmyself': 1, 'isilisis': 1, 'cad': 1, 'mtg': 2, 'lagi': 1, 'vania': 1, 'movingprobs': 1, 'jasminerose': 1, 'girlmelikeforlikecutegirlinstaloveinstaphotoexpressyourselfhappinessalwayssmile': 1, 'inspirationmonday': 1, 'obamamore': 1, 'senjitale': 1, 'ohopedic': 1, 'juni': 3, 'roti': 2, 'smallthings': 5, 'polishgirl': 3, 'lelo': 1, 'highst': 2, 'liestoldindm': 1, 'workfromhonemom': 1, 'bluehand': 2, 'bhbluewaffle': 1, 'wankpuffins': 1, 'madashell': 1, 'canadians': 1, 'theirown': 1, 'californiabeforeandafter': 1, 'instagirls': 1, 'ceceflyy': 1, 'countryso': 1, 'goneno': 1, 'bunny': 2, 'diedmy': 1, 'nigth': 3, 'lovemesomeskinnygirl': 1, 'sandniggers': 1, 'congratulatefor': 1, 'estuaryfringefestival': 1, 'southend': 1, 'teamdope': 1, 'loveinstagood': 1, 'ibbleobble': 1, 'mohammed': 2, 'amnestyforgiveness': 1, 'ebht': 1, 'plato': 1, 'egl': 1, 'bavarian': 1, 'argggg': 1, 'longassday': 1, 'german': 1, 'bioshoot': 1, 'greenglamde': 1, 'tls': 1, 'arpx': 1, 'revol': 1, 'dilmer': 1, 'buzzfeeds': 1, 'swift': 2, 'huntsville': 1, 'swiftwick': 1, 'beswift': 1, 'selfdoubt': 1, 'hatecrime': 2, 'swe': 1, 'saigon': 1, 'classicman': 1, 'cantdothat': 1, 'maddari': 1, 'drumpf': 2, 'internationalwomansday': 1, 'julyamp': 1, 'bgwg': 1, 'testifygt': 1, 'enjoyyourday': 2, 'audi': 1, 'mrssa': 2, 'austin': 3, 'selenagomez': 2, 'killthemwithkindness': 1, 'yesallwomen': 1, 'dat': 3, 'boise': 3, 'lastword': 1, 'calmdown': 1, 'reich': 1, 'pianotile': 1, 'iwantto': 1, 'whiteprivilege': 5, 'pboc': 1, 'everest': 2, 'humfree': 1, 'foodallergy': 1, 'ontheblog': 1, 'worriesofhappylifethatcanbuybigtv': 1, 'firenze': 1, 'suicidesquad': 2, 'calvinharris': 1, 'anc': 3, 'johnsonyulianawedding': 1, 'natasha': 1, 'goner': 1, 'mumbailocal': 1, 'hotdamnit': 1, 'chrashesive': 1, 'allstar': 1, 'selfietime': 2, 'hbo': 4, 'rexit': 2, 'chas': 2, 'jacobmarley': 1, 'ninjatraining': 1, 'tall': 4, 'learninglots': 1, 'americas': 2, 'mba': 3, 'mogage': 3, 'achievemen': 1, 'almostweekend': 3, 'lois': 2, 'priyankachopra': 1, 'nc': 1, 'livestajen': 1, 'geoffreysroyalorchid': 1, 'decorlover': 1, 'justarrived': 1, 'camren': 1, 'poole': 2, 'macbook': 4, 'peotus': 1, 'impaially': 1, 'lowenergy': 2, 'amreading': 1, 'antigravity': 1, 'pinkwhitemissbff': 1, 'chinese': 4, 'communist': 2, 'armins': 1, 'somethingtolookforwardto': 1, 'nowumameshigoodtastybeefporklocalshopgoodkuonfeek': 1, 'philly': 2, 'culturalenrichment': 1, 'lincoln': 3, 'soundtrainingnews': 1, 'lodd': 1, 'ems': 2, 'hesakeeper': 1, 'emily': 1, 'inchlatcock': 1, 'naugh': 1, 'mexico': 4, 'iwillgettheresomeday': 1, 'elsa': 1, 'hotelma': 1, 'caroline': 1, 'tucker': 1, 'paisanhack': 1, 'december': 2, 'pos': 7, 'crapsac': 1, 'mampms': 2, 'matthew': 1, 'stupidlogic': 1, 'welp': 2, 'valentineday': 1, 'dell': 1, 'seein': 1, 'aruba': 2, 'shineythings': 1, 'pinkstatus': 1, 'dannellross': 1, 'flemington': 1, 'bumbag': 1, 'datenight': 8, 'sameteambro': 1, 'trumpworld': 1, 'duluth': 1, 'donthugmeimscared': 1, 'pougalday': 1, 'akka': 1, 'thiy': 2, 'biher': 1, 'kkk': 8, 'seemore': 1, 'weekendyay': 1, 'adiwrites': 1, 'exciteme': 1, 'welcomeaslihan': 1, 'ios': 9, 'ryosuke': 1, 'awwhhhhh': 1, 'cologne': 3, 'turner': 2, 'babynash': 1, 'cambersands': 1, 'exo': 3, 'doplants': 5, 'marxist': 2, 'britt': 1, 'forclinton': 1, 'alec': 1, 'thas': 1, 'clearskin': 1, 'adidasshoes': 1, 'bustymilf': 1, 'samsunggalaxys': 1, 'gilwern': 1, 'manzini': 1, 'pachhyyy': 1, 'ificoulddoitagain': 1, 'soreloser': 2, 'thanksforsharing': 1, 'nh': 1, 'lien': 1, 'goodevening': 2, 'halifax': 1, 'countdpwn': 1, 'nintendoe': 1, 'proo': 1, 'fitnessfirst': 1, 'corporatewellness': 1, 'sanantonio': 3, 'yee': 1, 'beretta': 1, 'dex': 3, 'mcdonalds': 6, 'tragicallyhips': 1, 'juiceplus': 1, 'jesusfreak': 1, 'palestine': 2, 'standwithisrael': 1, 'faustus': 1, 'pulsenightclub': 3, 'craftbeernerd': 1, 'payformybaby': 1, 'newera': 1, 'mizzou': 1, 'ambriel': 1, 'thea': 1, 'nolove': 1, 'cdnpoli': 2, 'slowday': 2, 'dadsavailable': 2, 'gahinwinnipeg': 1, 'notcrazy': 1, 'blackampwhite': 2, 'etihad': 2, 'yassss': 1, 'tutrainiac': 1, 'youfindingdory': 1, 'phareels': 1, 'soultrain': 1, 'littlefinger': 1, 'germans': 1, 'fascists': 1, 'chewyzoofun': 1, 'myhea': 1, 'teamsoyeah': 1, 'coquitlam': 1, 'myanmars': 1, 'indo': 1, 'myer': 1, 'maimane': 1, 'thatzille': 1, 'himhe': 1, 'shou': 1, 'excitemen': 1, 'timetorest': 1, 'zach': 1, 'askingoh': 1, 'douchelord': 1, 'coldplayzurich': 1, 'petrescue': 1, 'dozens': 1, 'timbuon': 1, 'mmiwg': 1, 'payhard': 1, 'niga': 1, 'subhuman': 1, 'todayon': 1, 'paicipate': 2, 'weworking': 1, 'gaga': 1, 'airasiago': 1, 'mitt': 1, 'writingthewri': 1, 'passionatebe': 1, 'curiel': 1, 'stretford': 1, 'whatwouldlizzysay': 1, 'thejoshmoon': 1, 'gorebihday': 1, 'trailblazer': 1, 'minipin': 1, 'timesbut': 1, 'nationalbestfriendday': 3, 'exploresask': 1, 'minewhats': 1, 'hs': 3, 'theyreperfect': 1, 'canbury': 1, 'highkeygold': 1, 'blackpeople': 1, 'whiteperson': 1, 'kingstreet': 2, 'noaddedsugar': 2, 'mrlyteskin': 1, 'churchplanting': 1, 'crookedtrump': 1, 'bayshore': 2, 'infinitewarfare': 1, 'fightlikeagirl': 1, 'whoyougonnacall': 1, 'mambaout': 1, 'burntpizza': 1, 'slikes': 1, 'teaaddict': 1, 'inlovewithpizza': 1, 'dogmeattrade': 1, 'macedonia': 1, 'yiannopoulos': 1, 'jewelrylover': 1, 'officialthings': 1, 'spo': 9, 'donethree': 1, 'gobeyou': 1, 'gm': 2, 'didntseeitcoming': 1, 'clare': 1, 'prague': 2, 'mva': 1, 'otslboheme': 1, 'stlopera': 1, 'stuakenyon': 1, 'fang': 2, 'natalie': 3, 'zaitoon': 1, 'chennai': 1, 'minleerice': 1, 'alaba': 2, 'yoyas': 1, 'wherescoop': 1, 'tacotuesday': 1, 'amandanunes': 2, 'wcdm': 1, 'ripdad': 2, 'autumn': 1, 'mj': 2, 'challengesthankful': 1, 'waime': 1, 'lyingdonnie': 1, 'berke': 1, 'lalove': 1, 'mondays': 3, 'maryjanejohnson': 1, 'happ': 2, 'teleformula': 1, 'fred': 5, 'electrocheking': 1, 'boston': 3, 'insectstalking': 1, 'warren': 1, 'pocahontas': 1, 'jamaica': 3, 'lv': 1, 'maraton': 1, 'scandinavia': 1, 'brockwellpark': 1, 'westvillage': 1, 'whitesboro': 1, 'whiteland': 1, 'toilla': 1, 'loveng': 1, 'girlgrunge': 1, 'likeback': 1, 'yarnell': 1, 'ford': 4, 'alldoctor': 1, 'bravewarriors': 1, 'lambridge': 1, 'presidentobama': 1, 'blowoutsbringhappiness': 1, 'buhatnainsafi': 1, 'bansode': 1, 'nowyouseeme': 1, 'ranveers': 1, 'lovelyi': 1, 'newark': 1, 'tysvm': 1, 'freeebooks': 1, 'kanye': 4, 'themfor': 1, 'imfl': 1, 'se': 4, 'lilhomer': 1, 'pleasestoptheviolence': 1, 'bridetobe': 2, 'samanthabee': 1, 'bedford': 1, 'doctorwhoseries': 1, 'doctorwhodvd': 1, 'leticia': 2, 'concepcion': 2, 'whatsapp': 1, 'timesisteime': 1, 'legenda': 1, 'greatweek': 2, 'mcflurries': 1, 'alicrytrinkets': 2, 'susan': 1, 'wthesis': 1, 'avonrep': 1, 'conjob': 1, 'jono': 1, 'readto': 1, 'wout': 2, 'jockey': 1, 'russianscum': 1, 'notfilter': 1, 'romney': 1, 'maroc': 2, 'operning': 1, 'lyoness': 1, 'maa': 3, 'blr': 1, 'mgaenp': 1, 'dishu': 1, 'sbs': 2, 'loveudisha': 1, 'kday': 1, 'connie': 1, 'hayden': 1, 'hicp': 1, 'justbe': 1, 'suckstobeyou': 1, 'russiafans': 1, 'cowereds': 1, 'evan': 1, 'toure': 2, 'bloodymarys': 1, 'bestnews': 1, 'mayfield': 1, 'igca': 1, 'aldubnation': 1, 'lovingonme': 1, 'goodweather': 1, 'jupiter': 1, 'noahs': 1, 'goeslove': 1, 'homebeing': 1, 'dumbingdown': 1, 'alwaystrump': 2, 'mtv': 2, 'broglio': 1, 'showtimestudiotour': 1, 'freddie': 2, 'berry': 2, 'snapchats': 1, 'pakis': 1, 'jetsgc': 1, 'diyscoveries': 1, 'surflife': 1, 'rainraincomeagain': 1, 'beashamed': 1, 'zuma': 1, 'malema': 1, 'whysomanyquestionmarks': 1, 'lane': 3, 'realityshoallake': 1, 'motm': 1, 'uae': 3, 'crissseven': 1, 'alternativeeducationalfutures': 1, 'mammamia': 1, 'therebetter': 1, 'stmu': 1, 'sheisinallsecretagamer': 1, 'demoday': 1, 'healthtech': 1, 'kazoku': 1, 'bachoichois': 1, 'priegodecordoba': 1, 'hattrick': 2, 'messi': 2, 'parisienne': 1, 'sharefood': 1, 'elizabeth': 1, 'ladylouisewindsor': 1, 'lindsey': 1, 'clashroyale': 1, 'hogrider': 1, 'gtnot': 1, 'whenlt': 1, 'malaysia': 3, 'makeamericahate': 1, 'precuba': 1, 'whataworldwelivein': 1, 'kehlani': 1, 'sandyhook': 1, 'fuckerswin': 1, 'disneymagic': 1, 'meaf': 1, 'lazio': 1, 'flw': 1, 'trin': 1, 'imapussynow': 1, 'ironman': 1, 'ihatemyself': 1, 'cohosting': 1, 'fringebuzz': 1, 'lolcan': 1, 'lovesong': 2, 'bougainvilliea': 1, 'adultcampingtrip': 1, 'waterspos': 1, 'scientistsinnovators': 1, 'mideast': 1, 'doc': 2, 'economicsanctions': 1, 'cuba': 2, 'nickjonas': 2, 'npr': 1, 'sohyped': 1, 'seemz': 1, 'usdchf': 2, 'hazel': 1, 'caridge': 2, 'supermistict': 1, 'burninhell': 1, 'healthysuccessful': 1, 'hiphiphurray': 1, 'wrongthey': 1, 'iloveyoulikexo': 1, 'emt': 1, 'bopanna': 2, 'myneni': 1, 'paes': 1, 'syrian': 2, 'lydonmaeve': 1, 'julie': 1, 'wakeuppeopl': 5, 'thereelscene': 1, 'shelterpet': 1, 'queenie': 1, 'six': 2, 'gqmini': 1, 'switzerland': 5, 'reignofkong': 2, 'pigwoman': 1, 'damiensaez': 1, 'wahabism': 1, 'caoons': 4, 'cmonwales': 1, 'sharethemagic': 1, 'macncheese': 1, 'thecuriousmystic': 1, 'guestblog': 1, 'cece': 2, 'tiyo': 1, 'rasebud': 1, 'giditraffic': 1, 'fabulousthursday': 1, 'theshard': 1, 'heroesand': 1, 'freedomthey': 1, 'breakingnews': 3, 'loversplayz': 1, 'hornsareblowing': 1, 'wordsfake': 1, 'harleystreet': 1, 'blancapi': 1, 'sosleepy': 1, 'pelosi': 1, 'karelfunk': 1, 'kaaen': 1, 'communalise': 2, 'hudson': 2, 'quotestags': 8, 'isaywhat': 1, 'mrangry': 1, 'insideout': 2, 'prideweek': 1, 'kermit': 1, 'twt': 1, 'trumprepshate': 1, 'orlandovictims': 1, 'removeban': 1, 'thor': 1, 'waleng': 1, 'internationalyogaday': 1, 'yogaday': 1, 'theketteringincident': 1, 'amphealthy': 1, 'arcii': 1, 'blicqer': 2, 'belair': 1, 'biancalflf': 1, 'hatefear': 1, 'whynosound': 1, 'epsomedge': 1, 'teachersthankful': 1, 'feelingdown': 1, 'yaaaaaas': 1, 'wearemoving': 1, 'beijing': 1, 'microsoft': 2, 'twitterbot': 1, 'deliento': 1, 'monicapearl': 1, 'stuttga': 2, 'mindlessviolence': 1, 'tfl': 1, 'washington': 3, 'dceaglecam': 1, 'coacb': 1, 'jh': 1, 'positivethoughts': 1, 'lywc': 1, 'nightlifelocater': 1, 'happyending': 1, 'vegetarian': 1, 'agan': 1, 'miraclesfromheaven': 1, 'lamborghini': 1, 'onelessthing': 1, 'lyon': 2, 'thewi': 1, 'seventh': 1, 'depressedyo': 1, 'cinemaaawards': 1, 'socialmooc': 1, 'nicoles': 1, 'lantz': 1, 'notclosesnough': 1, 'carla': 2, 'mani': 1, 'iwillfindyou': 1, 'lizi': 1, 'minelab': 1, 'thesteakhouse': 1, 'caoonish': 1, 'ralphharston': 1, 'weekendinspiration': 1, 'arabic': 1, 'dem': 1, 'clintonsmdhamerica': 1, 'bodiesftlibrary': 1, 'trollyou': 1, 'mccann': 1, 'porait': 4, 'amvery': 1, 'guangzhou': 1, 'afilm': 1, 'saudis': 1, 'himmay': 1, 'billofmaterials': 1, 'gmr': 1, 'vom': 1, 'imda': 1, 'backtowork': 1, 'brokes': 1, 'ap': 1, 'riggedforhillary': 1, 'thessaloniki': 2, 'classworki': 1, 'callin': 1, 'niwa': 1, 'yeezy': 2, 'manscum': 1, 'kaf': 1, 'presidentpussygrabber': 1, 'xxfitness': 1, 'girlpower': 2, 'thegamesareover': 1, 'andwhynot': 1, 'zenblog': 1, 'iamwhoiam': 1, 'distos': 1, 'emirati': 1, 'dearhe': 1, 'bj': 1, 'softlens': 1, 'alkalamba': 2, 'emtec': 2, 'orla': 1, 'woundedorlando': 1, 'ipad': 5, 'ipod': 1, 'socialjustice': 1, 'dachshundoftheday': 1, 'bwn': 1, 'shahsofsunset': 1, 'blackisbeautiful': 1, 'knoe': 1, 'cocern': 1, 'deana': 1, 'pasadena': 1, 'britain': 3, 'pbp': 1, 'goodafternoon': 2, 'phils': 1, 'worklovescotland': 1, 'starfleet': 2, 'rrrreeeeennn': 1, 'anniversaryreflect': 1, 'bochum': 1, 'happine': 1, 'galen': 1, 'ctv': 1, 'bassproshops': 1, 'volodymyrviatrovych': 1, 'glastochat': 1, 'howlingatthemoon': 1, 'blueshour': 1, 'mondayblogs': 1, 'ofcoursetheoneamponly': 1, 'pakodasi': 1, 'agradecido': 1, 'worewrap': 1, 'minutestogo': 1, 'dur': 1, 'haredi': 1, 'checkov': 1, 'koenig': 1, 'krakow': 1, 'sevierville': 1, 'croftso': 1, 'soulsthey': 1, 'squamish': 1, 'richie': 1, 'yaaaaaaaaaass': 1, 'fringenyc': 1, 'folowers': 1, 'cba': 1, 'eblaststandby': 1, 'fathersdayquotes': 1, 'avivatw': 1, 'didn': 2, 'waspi': 1, 'fkg': 1, 'davidguetta': 1, 'mets': 1, 'donthecon': 3, 'casablanca': 1, 'oveurn': 1, 'homayged': 1, 'ptxworldtour': 1, 'spnd': 1, 'arkhangelskoye': 1, 'cicis': 1, 'alcrawshaw': 1, 'agspride': 1, 'sairas': 1, 'allyuhchirrensad': 1, 'crashbandicoot': 1, 'holibra': 2, 'grrr': 2, 'kayleigh': 1, 'spencer': 1, 'knaack': 1, 'toddington': 2, 'ufc': 2, 'ifyouregone': 1, 'royce': 1, 'weddingday': 1, 'weddinginspiration': 1, 'evermy': 1, 'newplace': 1, 'newphoto': 1, 'dababes': 1, 'stlouis': 2, 'daddysays': 2, 'agr': 3, 'baar': 1, 'ksa': 2, 'funnehanever': 1, 'siilyfaces': 1, 'mozlondon': 1, 'epicuremeals': 1, 'tummybyepicuremeals': 1, 'classmatenew': 1, 'nites': 1, 'noballs': 1, 'ourleadersaresleeping': 1, 'boob': 1, 'guncrime': 2, 'bestinbreed': 1, 'memorialamp': 1, 'qaabarcelona': 1, 'goluckysaturday': 1, 'delphineisalive': 1, 'notlongenough': 1, 'ianwalker': 1, 'arabians': 1, 'uefaeuro': 1, 'rcn': 1, 'bruh': 3, 'elnella': 1, 'youelnellagod': 1, 'carlton': 1, 'berniebros': 1, 'torontothegood': 1, 'knowand': 1, 'firstcruise': 1, 'teamo': 2, 'piktochas': 1, 'kayecalonweloveopm': 1, 'npp': 1, 'nketia': 1, 'flavorrun': 1, 'tinyplanetbuf': 2, 'replicastuk': 1, 'bsb': 2, 'gretna': 1, 'bihay': 3, 'qu': 2, 'usefulanger': 1, 'nationalexday': 1, 'manim': 1, 'filhoespaiseras': 1, 'ghana': 3, 'makeem': 1, 'lovefollow': 1, 'hday': 1, 'adveise': 1, 'rac': 2, 'paybacknot': 1, 'movieaddictblr': 1, 'pcculture': 1, 'travis': 1, 'barkley': 2, 'werkd': 1, 'fla': 2, 'kilarney': 1, 'prfectpitch': 1, 'flowerstagram': 1, 'bekind': 2, 'cairo': 1, 'roxie': 1, 'muslimbrotherhood': 1, 'yourchoice': 1, 'zens': 1, 'liveinthemoment': 1, 'fathead': 1, 'conferenceseason': 1, 'ypttl': 1, 'omalleyclan': 1, 'irishclan': 1, 'gingergothitched': 2, 'motorracing': 1, 'plansplansplans': 1, 'nrcr': 1, 'bioyto': 1, 'follo': 1, 'wampg': 1, 'camarillo': 1, 'bubblyi': 1, 'jamiegrace': 1, 'mountainlaurel': 1, 'doublewin': 1, 'lostforwords': 2, 'shloshim': 1, 'digitalpainting': 1, 'jerri': 2, 'piedmont': 1, 'alabama': 1, 'yongeeglinton': 1, 'yonge': 1, 'montrose': 1, 'danielle': 1, 'mybeauties': 1, 'readmore': 1, 'rs': 2, 'dreamcar': 1, 'friendsyoung': 1, 'carpe': 1, 'pilardio': 1, 'morgonmacka': 1, 'rwc': 1, 'sonko': 1, 'iwcod': 1, 'winston': 2, 'repoers': 1, 'rondarousey': 1, 'danbury': 2, 'triggerwarning': 1, 'bringbacknashville': 1, 'corfu': 2, 'sistersofcolour': 1, 'foxnoire': 1, 'maigiveaway': 1, 'dawn': 2, 'pmdawn': 1, 'restinpeace': 1, 'loveandhugs': 1, 'caesars': 1, 'epictetus': 1, 'nowlinkup': 1, 'hayleyatwell': 1, 'lovethissong': 1, 'michealkorswhitebagcuteinstahapgyinstacoolinstagram': 1, 'interrailing': 1, 'motoz': 1, 'vzw': 1, 'pawpaw': 1, 'brainplus': 1, 'impoantly': 1, 'cwc': 1, 'yegfood': 1, 'magaluf': 1, 'fundayhappy': 1, 'veroliabohemia': 1, 'waaaaahhh': 1, 'brewertap': 1, 'cinemark': 1, 'montecristoswim': 1, 'wiright': 1, 'servicesblinded': 1, 'noconcience': 1, 'servicesneedtorcognisedomesticviolence': 1, 'udtapunjableaked': 1, 'rogueone': 1, 'readyi': 1, 'greenleaf': 1, 'bellevue': 1, 'zurich': 2, 'gettingannoyed': 1, 'caniac': 1, 'goneripstephenkeshi': 1, 'hannity': 1, 'dadbarkadslt': 1, 'govegan': 1, 'dwc': 1, 'wecandothis': 1, 'asssssworst': 1, 'everlord': 1, 'sothis': 2, 'epcot': 1, 'kidsdeserveit': 1, 'momblogger': 1, 'waitingsultan': 1, 'borneo': 1, 'ripmuhamadali': 1, 'katyyy': 1, 'ovenwine': 1, 'atlantis': 1, 'nrol': 1, 'nasa': 1, 'celtic': 2, 'savoryandsweetfood': 1, 'yetwas': 1, 'shakti': 1, 'fishandchips': 1, 'badmashiyaan': 1, 'redbook': 1, 'restingseriousface': 1, 'judy': 1, 'bron': 4, 'yearswithinfinite': 3, 'jacobtickets': 1, 'thereturned': 1, 'kwanzaa': 1, 'jacobisgod': 1, 'vista': 1, 'bayliner': 1, 'mybabyboy': 1, 'wonderingand': 1, 'friendl': 1, 'wyour': 1, 'mainis': 1, 'adels': 1, 'agameoftones': 1, 'ampnow': 1, 'kaya': 1, 'musicislife': 1, 'cpcpcv': 1, 'spidermonkey': 1, 'aicles': 2, 'breitba': 4, 'religitards': 1, 'carriefisher': 1, 'fleury': 1, 'bmth': 1, 'saltwateank': 1, 'nightttttttt': 1, 'yearbook': 1, 'ceegee': 1, 'lotstodo': 1, 'miatindall': 1, 'zaraphillips': 1, 'polomatch': 1, 'gloucestershire': 2, 'gmorming': 1, 'weekendfun': 1, 'morningsunshine': 1, 'sejong': 1, 'mina': 1, 'nayoung': 1, 'greatloss': 1, 'whiteman': 1, 'gelpens': 1, 'nationallobsterday': 1, 'ripcoachshuaibu': 1, 'nigerias': 1, 'dumbasslionsfans': 1, 'londonmp': 1, 'littlethings': 1, 'youall': 3, 'forevers': 1, 'catalunya': 1, 'blossom': 1, 'thankyoulordfohegiftoflife': 1, 'yeas': 1, 'islamicradicals': 1, 'islamopho': 1, 'clintonforprison': 1, 'waterford': 1, 'godoh': 1, 'legallyblonde': 1, 'timhoons': 1, 'fridayeveryone': 1, 'mindsconsole': 2, 'bunmit': 1, 'bilal': 1, 'adhan': 1, 'kaaba': 1, 'duztfield': 1, 'orlandonightclubshoot': 1, 'haroldfriday': 1, 'creativea': 1, 'shays': 1, 'suppoallinanurses': 1, 'helenampmatt': 1, 'gweh': 2, 'wypipo': 2, 'fooh': 1, 'santaproject': 1, 'lpc': 1, 'kerala': 2, 'klanie': 1, 'gleek': 1, 'klaniebreakupseasone': 1, 'icantsleep': 1, 'sardinia': 1, 'wrclive': 1, 'verysad': 1, 'maryhill': 1, 'springburn': 1, 'australian': 3, 'pooalegre': 1, 'everybodytalks': 1, 'yahoomessenger': 1, 'technews': 1, 'littleteensasha': 1, 'ju': 1, 'britishweathersucks': 1, 'notmypresidenttheresista': 1, 'bandq': 1, 'poohbear': 1, 'hoshiday': 1, 'kidinacandystore': 1, 'durangoco': 1, 'tbstorm': 1, 'blendedfamily': 1, 'leaversservice': 1, 'crewlife': 1, 'hillaryask': 1, 'esco': 2, 'anafalactic': 1, 'lifeistogood': 1, 'pmr': 1, 'billion': 2, 'chin': 1, 'nooneforgetsthetruth': 1, 'khloekardashian': 1, 'lagosmarehotel': 1, 'naxos': 1, 'buttonwaittap': 1, 'whydoitry': 1, 'fuckmylife': 2, 'nyklippt': 1, 'sara': 2, 'ricedumplings': 1, 'ricepudding': 1, 'jai': 1, 'beautifulbangalore': 1, 'dairyfreeplease': 1, 'idsa': 1, 'pescatarian': 1, 'illwait': 1, 'teamworldbookings': 1, 'seniti': 1, 'murdoch': 1, 'mariah': 1, 'livewithcourage': 1, 'glamy': 1, 'naturali': 1, 'sttime': 1, 'surfacebook': 1, 'thekingsspeech': 1, 'myhandsome': 1, 'winelover': 1, 'shitler': 1, 'cueto': 1, 'latam': 1, 'goofydonnie': 1, 'dogmeetsfamilys': 1, 'itvoltron': 1, 'episodethey': 1, 'ludikhugo': 1, 'bayolea': 1, 'saorial': 1, 'somalis': 1, 'latelybeen': 1, 'floridakeys': 1, 'miniandme': 1, 'nospoliers': 1, 'katzen': 2, 'antimen': 1, 'yesu': 1, 'ferrero': 2, 'geneathawright': 1, 'unwindnomakeup': 1, 'dunstable': 1, 'hundreds': 1, 'lukemacfarlane': 1, 'atxtvs': 1, 'foodthankful': 1, 'reds': 2, 'raringtogo': 1, 'iamwithyou': 1, 'jamaicanroots': 1, 'studiosatl': 1, 'counciltax': 1, 'edi': 1, 'avery': 1, 'livinghappy': 1, 'oneplus': 3, 'bigman': 1, 'veep': 1, 'ryder': 1, 'geneva': 2, 'poppaaaass': 1, 'papsmk': 1, 'againas': 1, 'coachella': 2, 'teamgrimmieforever': 1, 'peoplefeelvoiceless': 1, 'emirat': 1, 'catalina': 1, 'cadillac': 2, 'lifeisamazing': 1, 'hotweather': 1, 'cashin': 2, 'roldschoolcool': 1, 'idaho': 1, 'ukip': 2, 'europ': 1, 'themwe': 1, 'kylo': 1, 'pepsi': 1, 'voty': 1, 'youngto': 1, 'nonegativeselftalk': 1, 'whitefragility': 1, 'beoplay': 1, 'ilovegin': 1, 'natalias': 1, 'comefaster': 1, 'pappi': 1, 'comeseeus': 1, 'fotografia': 1, 'daysesh': 1, 'bsl': 1, 'nightim': 1, 'cantstopsmiling': 3, 'myfather': 2, 'pleaseee': 1, 'gaylife': 1, 'thepurge': 1, 'voterid': 2, 'unreformable': 2, 'noze': 1, 'allblack': 1, 'maelle': 1, 'stron': 1, 'soho': 1, 'claire': 1, 'footloose': 1, 'wantittobeover': 1, 'argvbol': 1, 'onelastpush': 1, 'evr': 1, 'ravan': 1, 'junee': 1, 'debby': 1, 'paya': 2, 'chamilia': 2, 'nepa': 1, 'newcitysoon': 1, 'makingthebestofit': 1, 'kidies': 1, 'gok': 1, 'jobto': 1, 'gaf': 1, 'ottbike': 1, 'lovegeordieshore': 1, 'ziggy': 1, 'leftleaving': 1, 'wapo': 2, 'shemad': 1, 'kurds': 2, 'peruvians': 1, 'amarillo': 1, 'everydayheroes': 1, 'bihdaybash': 1, 'whitoutelena': 1, 'neverdelta': 1, 'isr': 1, 'touchthesky': 1, 'fryday': 1, 'abbyybelle': 1, 'genderstereotypes': 1, 'netanyahuspeech': 1, 'antijewish': 1, 'taiwan': 3, 'appleton': 1, 'datsun': 1, 'trainspotting': 1, 'cervivintage': 1, 'lifefriend': 1, 'ronfgiven': 1, 'ngo': 1, 'faridoon': 1, 'austrian': 1, 'pathfinder': 2, 'dhoni': 3, 'ilivehybrid': 1, 'handsuptohelp': 1, 'hindus': 2, 'lap': 1, 'madeintheusa': 1, 'beautyblogger': 1, 'truckerhat': 1, 'claudi': 1, 'genting': 1, 'justjustice': 1, 'livelifetofull': 1, 'stevefrancis': 1, 'vanitylets': 1, 'indiluxe': 1, 'paulocoelho': 1, 'nandos': 1, 'ishqomuhbt': 2, 'lajawab': 2, 'jimrohn': 1, 'zoro': 2, 'dsibanded': 1, 'generousi': 1, 'mtscentre': 1, 'whaaattttt': 1, 'thatblacklivesmatter': 1, 'ahintofjoy': 1, 'ibm': 1, 'belgradetogether': 1, 'aldubebfathersday': 1, 'thinkaboutit': 1, 'kindheaed': 1, 'pulimunchi': 1, 'tbbt': 1, 'smilesallaround': 1, 'iv': 1, 'aiden': 1, 'toulouse': 1, 'lookies': 1, 'tuesdays': 1, 'seaworld': 2, 'honokabucouple': 1, 'supermariorun': 1, 'neuroscience': 1, 'kamakurajapanrainydaytravelseanaturewonderfulperfectworkhardtrudgerelax': 1, 'joburg': 1, 'masterswim': 1, 'makeupaddict': 1, 'verycontent': 1, 'pachay': 1, 'ampsize': 1, 'ramon': 2, 'reba': 2, 'shakeology': 1, 'cize': 1, 'anythingbut': 1, 'qatar': 1, 'khanpurdam': 1, 'ragt': 1, 'stephencurry': 1, 'trueobamas': 1, 'evanescence': 1, 'uns': 1, 'firstlet': 1, 'brainsjust': 1, 'youandme': 1, 'kattiebrilliant': 1, 'merrychristmas': 1, 'thedukeandduchessofcambridge': 1, 'orderofthegarderservice': 1, 'enteain': 1, 'pb': 2, 'wedonttalktour': 1, 'bestday': 1, 'onwine': 1, 'winetario': 1, 'cumbria': 1, 'jidesamson': 1, 'mazdabongo': 1, 'namethefoal': 1, 'sprucemeadows': 1, 'ilovehorses': 1, 'lazysaturday': 1, 'tmobile': 1, 'bekindtooneanother': 1, 'pointerevents': 1, 'wc': 2, 'kenyan': 1, 'andy': 1, 'yogatacherdublin': 1, 'themetalgentleman': 1, 'livingthelife': 1, 'africanchildday': 1, 'ans': 1, 'queensofsass': 1, 'civilwar': 1, 'amazonian': 1, 'russians': 1, 'gosnell': 1, 'ggrrrrr': 1, 'suunyday': 1, 'beliveaueric': 1, 'myday': 1, 'iiiiiiits': 1, 'grrrr': 1, 'waterdown': 1, 'uofm': 1, 'costco': 1, 'waitingf': 1, 'flightofalifetime': 3, 'izzy': 1, 'gatasm': 1, 'whoknew': 1, 'lovecraft': 2, 'consciouslyconnecting': 1, 'meg': 1, 'iwantpizza': 1, 'shangrila': 1, 'cantkeepasecret': 1, 'annoyingchild': 1, 'elly': 2, 'blackmon': 1, 'krissyskornerwithpremier': 1, 'lovetheskinyourein': 1, 'youjesuschristempowerstransformationask': 1, 'midlands': 1, 'aampe': 2, 'florencemachinemtl': 1, 'thebarn': 1, 'georgia': 1, 'gaz': 1, 'xboxthat': 1, 'minnesota': 2, 'sony': 1, 'thegoodnevercomeseasy': 1, 'chod': 1, 'tweeples': 1, 'pizzzza': 1, 'rajaparba': 1, 'mothereah': 1, 'newsv': 1, 'losemymind': 1, 'lyincrookedhillary': 1, 'discoved': 1, 'bhubaneswar': 1, 'theconjuring': 4, 'katherine': 1, 'rr': 1, 'pinche': 1, 'scoobydoo': 1, 'childhoodruined': 1, 'asooke': 1, 'thour': 1, 'fanand': 1, 'sorryforswearing': 1, 'patricia': 1, 'beautybox': 1, 'scrab': 1, 'saaya': 1, 'racemix': 2, 'embrac': 1, 'lafamilia': 1, 'swiftlang': 1, 'squatrack': 1, 'officelife': 1, 'robinwood': 1, 'fynn': 1, 'wednesay': 1, 'nuuring': 1, 'americathebeautiful': 1, 'arbys': 2, 'dadscuz': 1, 'notfine': 1, 'fracusmirageng': 1, 'musicscience': 1, 'joywave': 1, 'brighteyed': 1, 'maarif': 1, 'refle': 1, 'annayya': 1, 'teamhawthorn': 1, 'doughdiscoday': 1, 'devi': 1, 'sandiegozoo': 1, 'androidgamemod': 1, 'boers': 1, 'littleuns': 1, 'secondary': 1, 'yaaaaayyy': 1, 'petercareys': 2, 'contrl': 1, 'listento': 1, 'hijab': 1, 'muad': 1, 'sciencebacked': 1, 'ministicker': 1, 'pll': 2, 'sunworld': 2, 'antarctica': 2, 'hhwear': 1, 'bahoom': 1, 'imperialsm': 1, 'adahzeh': 1, 'upthebum': 1, 'whyyyyy': 1, 'emilys': 1, 'argh': 1, 'tripleorder': 1, 'foodboner': 1, 'secretmenu': 1, 'bihdayjodistamaria': 1, 'motherlandboyz': 1, 'sultansyarifkasim': 1, 'abby': 1, 'soundsofsummer': 1, 'freestuff': 1, 'brompton': 2, 'gpif': 1, 'torbayairshow': 1, 'rupe': 1, 'jayson': 2, 'enyone': 1, 'basketcase': 1, 'smmfh': 1, 'mondaymissing': 1, 'ramadancant': 1, 'inpain': 1, 'panono': 2, 'plluk': 1, 'toby': 1, 'goalsetting': 1, 'butthu': 1, 'fatherdaughter': 1, 'momentoafounado': 1, 'keepsmile': 1, 'balletclass': 1, 'roh': 1, 'footfault': 1, 'baker': 1, 'cakeboss': 1, 'notfun': 1, 'cursedchild': 1, 'seville': 1, 'achievegoals': 1, 'phewww': 1, 'brazilian': 1, 'loooooooosaher': 1, 'arab': 1, 'garyloper': 1, 'policecivilian': 1, 'usshootingsaccidentsabuse': 1, 'pchs': 1, 'bobcats': 1, 'diff': 1, 'uruguay': 1, 'copaamericacentinario': 1, 'brussels': 2, 'prisma': 1, 'sonofficial': 1, 'productlaunch': 1, 'tweegram': 1, 'unsplash': 1, 'stokenchurchkites': 1, 'sfootball': 1, 'hugekenforyoux': 1, 'perfectshow': 1, 'sri': 1, 'butwow': 1, 'enteainer': 2, 'mckechnie': 1, 'huntington': 1, 'timecongrats': 1, 'aic': 1, 'ripamodu': 1, 'carrick': 1, 'catarman': 1, 'ece': 1, 'avoice': 1, 'intrumpsamerica': 1, 'moremulaaaa': 1, 'kys': 1, 'jloaka': 1, 'googledoodle': 1, 'needem': 1, 'datsyuk': 1, 'goingtomisshim': 1, 'bethlehem': 1, 'meaniingful': 1, 'zenlife': 1, 'hulkmode': 2, 'notdrunk': 1, 'sogso': 1, 'tobias': 1, 'fingerpuppet': 1, 'gar': 1, 'gotchu': 1, 'nebraska': 1, 'givingi': 1, 'timehop': 1, 'caerisweak': 1, 'countryjam': 1, 'funinthesun': 1, 'maddy': 1, 'firstbihday': 1, 'afl': 1, 'tattler': 1, 'afghanistan': 1, 'ivemissedyou': 1, 'digitalleaderacademy': 1, 'murdocan': 1, 'clueend': 1, 'amateurhour': 1, 'bestbuddy': 1, 'lesgets': 1, 'sibelius': 1, 'obamanation': 1, 'smth': 1, 'thoughhhhh': 1, 'justhappy': 1, 'mcguire': 1, 'allthetime': 1, 'lazyampselfish': 1, 'shoulda': 1, 'carnivalcruise': 1, 'rawfoheoceans': 1, 'tic': 2, 'buenasnoches': 1, 'halloween': 1, 'bestassociatesever': 1, 'betterwritemyspeech': 1, 'holidayalways': 1, 'mssajlouni': 1, 'lifei': 1, 'joylaughterlovesecuritypanership': 1, 'milesteller': 1, 'whitepanther': 1, 'countrymusicawards': 1, 'einstein': 1, 'comicpalooza': 2, 'blackjapanese': 1, 'fck': 1, 'wheelbarrowrace': 1, 'teasers': 1, 'summerdress': 1, 'heath': 1, 'herbalofthemonth': 1, 'declan': 1, 'hans': 1, 'huaweiceifiedspecialistpresalesaccessnetwork': 1, 'lammy': 1, 'lovingit': 1, 'msmagenda': 1, 'allinclusive': 1, 'marcdanielstogether': 1, 'bakersfield': 1, 'paddington': 1, 'megtgt': 1, 'historyhasitseyesonyou': 1, 'rhony': 1, 'buendia': 1, 'hattiesburg': 1, 'weektwo': 1, 'spicegirls': 1, 'springwavesunset': 1, 'dah': 1, 'honiton': 1, 'middleeast': 1, 'tmhalfscotland': 1, 'ariellesloth': 1, 'frid': 1, 'eurostar': 1, 'fastgratitude': 1, 'shiless': 3, 'hookedbyaldi': 1, 'ivebeenwaitinglong': 1, 'badblood': 1, 'miy': 1, 'limon': 1, 'stillwithher': 1, 'kentstate': 1, 'photographeraist': 1, 'mimarco': 1, 'illnessthat': 1, 'kimmieeee': 1, 'daythanks': 1, 'rva': 1, 'blessedandthankful': 1, 'beforebed': 1, 'sainsburys': 1, 'lucifer': 1, 'kampung': 1, 'dadthanks': 1, 'familyu': 1, 'hst': 1, 'bikinibabe': 1, 'fuckingmotherfucker': 1, 'jamdoughtnut': 1, 'thmonth': 1, 'meeeeeee': 1, 'junebaby': 1, 'sarahparkehomas': 1, 'tearsofjoy': 1, 'madresahs': 1, 'gulbarg': 1, 'weekjust': 1, 'iasuk': 1, 'nolife': 1, 'lifesucks': 1, 'tilburg': 1, 'ampblessed': 1, 'damien': 1, 'teetee': 1, 'dontstop': 1, 'shesthebest': 1, 'socksgoing': 1, 'bloggersball': 1, 'kroos': 1, 'siriusxm': 1, 'coffecream': 1, 'allwrappedup': 1, 'evidencebased': 1, 'ripjocox': 1, 'werkit': 1, 'lowbat': 1, 'cleopatra': 1, 'nina': 1, 'dailypoll': 1, 'whitehouse': 1, 'pahlajnihalani': 1, 'divas': 1, 'darkclouds': 1, 'verywet': 1, 'iah': 1, 'troon': 1, 'ayesir': 1, 'zionism': 1, 'boehnerryanmcconnell': 1, 'goomorning': 1, 'saturdayblogshare': 1, 'fe': 1, 'crossoveolife': 1, 'aswith': 1, 'svs': 1, 'drmitali': 1, 'newclothes': 1, 'iran': 2, 'insesntivity': 1, 'plannedparenthood': 1, 'finstas': 1, 'wellmannered': 1, 'pahinnepal': 1, 'chuck': 2, 'germansandtheirbread': 1, 'clapalong': 1, 'mamagoto': 1, 'iain': 1, 'dogfest': 1, 'noel': 1, 'miercolesbonitos': 1, 'singinintherain': 1, 'biasedrepoing': 1, 'cheyenne': 1, 'arapaho': 1, 'rwnjs': 1, 'brooks': 2, 'safei': 1, 'gemma': 1, 'brunomars': 1, 'stressreliever': 1, 'thatsamerica': 1, 'soonkeonn': 1, 'likeme': 1, 'benji': 1, 'evatom': 1, 'dz': 1, 'mensa': 1, 'wannagoagain': 1, 'beforesex': 1, 'manywomen': 1, 'mostpeople': 1, 'buthillary': 1, 'sunshinethankful': 1, 'morenmore': 1, 'palin': 1, 'lifegoeson': 1, 'happydays': 1, 'drudge': 1, 'rainydinner': 1, 'willy': 1, 'gandu': 1, 'llnp': 1, 'iloveit': 1, 'emmastone': 1, 'wordtrumplethinskin': 1, 'mex': 1, 'westernerdays': 1, 'hadsome': 1, 'suriya': 1, 'twinkies': 1, 'funnyvideos': 1, 'centralintelligence': 1, 'wantgratitude': 1, 'polandgoing': 1, 'zacarylove': 1, 'lastlean': 1, 'medicalthriller': 1, 'damu': 1, 'ranger': 1, 'audiojungle': 1, 'systemmake': 1, 'machineplus': 1, 'zer': 1, 'pip': 1, 'dubllife': 1, 'asiacupt': 1, 'abstractpainting': 1, 'bihdayso': 1, 'beyourownhero': 1, 'katjabymyself': 1, 'kay': 1, 'bstards': 1, 'bundaberg': 1, 'earlnightingale': 1}\n"
          ],
          "name": "stdout"
        }
      ]
    },
    {
      "cell_type": "code",
      "metadata": {
        "id": "VGILF3ZFoF0n",
        "outputId": "9ec6751b-2391-4b9d-dbf1-9cfea4849c0d",
        "colab": {
          "base_uri": "https://localhost:8080/",
          "height": 357
        }
      },
      "source": [
        "sorted(vocab.items(), key=lambda x: x[1], reverse=True)[:20]"
      ],
      "execution_count": 76,
      "outputs": [
        {
          "output_type": "execute_result",
          "data": {
            "text/plain": [
              "[('am', 1193),\n",
              " ('day', 956),\n",
              " ('today', 474),\n",
              " ('bihday', 365),\n",
              " ('one', 358),\n",
              " ('weekend', 281),\n",
              " ('summer', 252),\n",
              " ('us', 250),\n",
              " ('great', 233),\n",
              " ('days', 225),\n",
              " ('bull', 217),\n",
              " ('first', 217),\n",
              " ('friday', 202),\n",
              " ('tomorrow', 194),\n",
              " ('morning', 189),\n",
              " ('fathersday', 188),\n",
              " ('happiness', 184),\n",
              " ('week', 180),\n",
              " ('night', 168),\n",
              " ('orlando', 160)]"
            ]
          },
          "metadata": {
            "tags": []
          },
          "execution_count": 76
        }
      ]
    },
    {
      "cell_type": "markdown",
      "metadata": {
        "id": "Ze8JtiX7yGvS"
      },
      "source": [
        "## Задание 2"
      ]
    },
    {
      "cell_type": "markdown",
      "metadata": {
        "id": "AKQftcDpyKTB"
      },
      "source": [
        "Используя библиотеку nltk, вывести ТОП-20 популярных NER в combine_df датасете. Какой тип NER (ORG, GPE, PERSON и тд) оказался самым популярным? Для данного задания используем ограничение на количество символов во входном датасете (max_word_limit_spacy = 1000000), чтобы иметь возможность сравнить результаты работы Spacy и nltk. Обратите внимание, что nltk чувствителен к регистру.\n",
        "<br><br>С помощью nltk выяснить: какие персоны и организации самые обсуждаемые в train и test датасетах? вывести ТОП-20 самых популярных. Действительно ли в топ вошли только персоны и организации или есть мусор?\n"
      ]
    },
    {
      "cell_type": "code",
      "metadata": {
        "id": "qIDSWER0xCdV"
      },
      "source": [
        ""
      ],
      "execution_count": null,
      "outputs": []
    },
    {
      "cell_type": "markdown",
      "metadata": {
        "id": "SZijbwRzygbg"
      },
      "source": [
        "## Задание 3"
      ]
    },
    {
      "cell_type": "markdown",
      "metadata": {
        "id": "z02qP08YygYB"
      },
      "source": [
        "Какая из библиотек по вашему лучше отработала? Сравните качество полученных most_common NER и количество распознаных NER."
      ]
    },
    {
      "cell_type": "code",
      "metadata": {
        "id": "tcbbQalWykT4"
      },
      "source": [
        ""
      ],
      "execution_count": null,
      "outputs": []
    },
    {
      "cell_type": "code",
      "metadata": {
        "id": "AabAJgZjykYf"
      },
      "source": [
        ""
      ],
      "execution_count": null,
      "outputs": []
    }
  ]
}