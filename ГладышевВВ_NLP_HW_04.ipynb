{
  "nbformat": 4,
  "nbformat_minor": 0,
  "metadata": {
    "colab": {
      "provenance": [],
      "authorship_tag": "ABX9TyPZm80yNUjPwXZQ08c6oqwE",
      "include_colab_link": true
    },
    "kernelspec": {
      "name": "python3",
      "display_name": "Python 3"
    },
    "language_info": {
      "name": "python"
    },
    "widgets": {
      "application/vnd.jupyter.widget-state+json": {
        "3f578bc513e64a359ae2cbe74d526238": {
          "model_module": "@jupyter-widgets/controls",
          "model_name": "HBoxModel",
          "model_module_version": "1.5.0",
          "state": {
            "_dom_classes": [],
            "_model_module": "@jupyter-widgets/controls",
            "_model_module_version": "1.5.0",
            "_model_name": "HBoxModel",
            "_view_count": null,
            "_view_module": "@jupyter-widgets/controls",
            "_view_module_version": "1.5.0",
            "_view_name": "HBoxView",
            "box_style": "",
            "children": [
              "IPY_MODEL_8a71e3b558c14cfa897fec7f7653b55a",
              "IPY_MODEL_0e419e9edc7345d2812679fa57a57b0f",
              "IPY_MODEL_4e2ab4cd87b743ee9eabafe139d2cf13"
            ],
            "layout": "IPY_MODEL_6d3899dba8794e5ea940448164434e5c"
          }
        },
        "8a71e3b558c14cfa897fec7f7653b55a": {
          "model_module": "@jupyter-widgets/controls",
          "model_name": "HTMLModel",
          "model_module_version": "1.5.0",
          "state": {
            "_dom_classes": [],
            "_model_module": "@jupyter-widgets/controls",
            "_model_module_version": "1.5.0",
            "_model_name": "HTMLModel",
            "_view_count": null,
            "_view_module": "@jupyter-widgets/controls",
            "_view_module_version": "1.5.0",
            "_view_name": "HTMLView",
            "description": "",
            "description_tooltip": null,
            "layout": "IPY_MODEL_ca370dba48ac4e45abac9b7a2d030a9c",
            "placeholder": "​",
            "style": "IPY_MODEL_6acb4b7290a14933b87565bd67107d6b",
            "value": "100%"
          }
        },
        "0e419e9edc7345d2812679fa57a57b0f": {
          "model_module": "@jupyter-widgets/controls",
          "model_name": "FloatProgressModel",
          "model_module_version": "1.5.0",
          "state": {
            "_dom_classes": [],
            "_model_module": "@jupyter-widgets/controls",
            "_model_module_version": "1.5.0",
            "_model_name": "FloatProgressModel",
            "_view_count": null,
            "_view_module": "@jupyter-widgets/controls",
            "_view_module_version": "1.5.0",
            "_view_name": "ProgressView",
            "bar_style": "success",
            "description": "",
            "description_tooltip": null,
            "layout": "IPY_MODEL_603b5da1404b4e05bf434df3b0bcdc3a",
            "max": 6,
            "min": 0,
            "orientation": "horizontal",
            "style": "IPY_MODEL_cbd33344e85740cfa82b1ed1c72fcfd5",
            "value": 6
          }
        },
        "4e2ab4cd87b743ee9eabafe139d2cf13": {
          "model_module": "@jupyter-widgets/controls",
          "model_name": "HTMLModel",
          "model_module_version": "1.5.0",
          "state": {
            "_dom_classes": [],
            "_model_module": "@jupyter-widgets/controls",
            "_model_module_version": "1.5.0",
            "_model_name": "HTMLModel",
            "_view_count": null,
            "_view_module": "@jupyter-widgets/controls",
            "_view_module_version": "1.5.0",
            "_view_name": "HTMLView",
            "description": "",
            "description_tooltip": null,
            "layout": "IPY_MODEL_f826079d20704931a9c74206b5aed17c",
            "placeholder": "​",
            "style": "IPY_MODEL_fcfae6c0a6b248929f37a647c35f36e7",
            "value": " 6/6 [08:34&lt;00:00, 78.33s/it]"
          }
        },
        "6d3899dba8794e5ea940448164434e5c": {
          "model_module": "@jupyter-widgets/base",
          "model_name": "LayoutModel",
          "model_module_version": "1.2.0",
          "state": {
            "_model_module": "@jupyter-widgets/base",
            "_model_module_version": "1.2.0",
            "_model_name": "LayoutModel",
            "_view_count": null,
            "_view_module": "@jupyter-widgets/base",
            "_view_module_version": "1.2.0",
            "_view_name": "LayoutView",
            "align_content": null,
            "align_items": null,
            "align_self": null,
            "border": null,
            "bottom": null,
            "display": null,
            "flex": null,
            "flex_flow": null,
            "grid_area": null,
            "grid_auto_columns": null,
            "grid_auto_flow": null,
            "grid_auto_rows": null,
            "grid_column": null,
            "grid_gap": null,
            "grid_row": null,
            "grid_template_areas": null,
            "grid_template_columns": null,
            "grid_template_rows": null,
            "height": null,
            "justify_content": null,
            "justify_items": null,
            "left": null,
            "margin": null,
            "max_height": null,
            "max_width": null,
            "min_height": null,
            "min_width": null,
            "object_fit": null,
            "object_position": null,
            "order": null,
            "overflow": null,
            "overflow_x": null,
            "overflow_y": null,
            "padding": null,
            "right": null,
            "top": null,
            "visibility": null,
            "width": null
          }
        },
        "ca370dba48ac4e45abac9b7a2d030a9c": {
          "model_module": "@jupyter-widgets/base",
          "model_name": "LayoutModel",
          "model_module_version": "1.2.0",
          "state": {
            "_model_module": "@jupyter-widgets/base",
            "_model_module_version": "1.2.0",
            "_model_name": "LayoutModel",
            "_view_count": null,
            "_view_module": "@jupyter-widgets/base",
            "_view_module_version": "1.2.0",
            "_view_name": "LayoutView",
            "align_content": null,
            "align_items": null,
            "align_self": null,
            "border": null,
            "bottom": null,
            "display": null,
            "flex": null,
            "flex_flow": null,
            "grid_area": null,
            "grid_auto_columns": null,
            "grid_auto_flow": null,
            "grid_auto_rows": null,
            "grid_column": null,
            "grid_gap": null,
            "grid_row": null,
            "grid_template_areas": null,
            "grid_template_columns": null,
            "grid_template_rows": null,
            "height": null,
            "justify_content": null,
            "justify_items": null,
            "left": null,
            "margin": null,
            "max_height": null,
            "max_width": null,
            "min_height": null,
            "min_width": null,
            "object_fit": null,
            "object_position": null,
            "order": null,
            "overflow": null,
            "overflow_x": null,
            "overflow_y": null,
            "padding": null,
            "right": null,
            "top": null,
            "visibility": null,
            "width": null
          }
        },
        "6acb4b7290a14933b87565bd67107d6b": {
          "model_module": "@jupyter-widgets/controls",
          "model_name": "DescriptionStyleModel",
          "model_module_version": "1.5.0",
          "state": {
            "_model_module": "@jupyter-widgets/controls",
            "_model_module_version": "1.5.0",
            "_model_name": "DescriptionStyleModel",
            "_view_count": null,
            "_view_module": "@jupyter-widgets/base",
            "_view_module_version": "1.2.0",
            "_view_name": "StyleView",
            "description_width": ""
          }
        },
        "603b5da1404b4e05bf434df3b0bcdc3a": {
          "model_module": "@jupyter-widgets/base",
          "model_name": "LayoutModel",
          "model_module_version": "1.2.0",
          "state": {
            "_model_module": "@jupyter-widgets/base",
            "_model_module_version": "1.2.0",
            "_model_name": "LayoutModel",
            "_view_count": null,
            "_view_module": "@jupyter-widgets/base",
            "_view_module_version": "1.2.0",
            "_view_name": "LayoutView",
            "align_content": null,
            "align_items": null,
            "align_self": null,
            "border": null,
            "bottom": null,
            "display": null,
            "flex": null,
            "flex_flow": null,
            "grid_area": null,
            "grid_auto_columns": null,
            "grid_auto_flow": null,
            "grid_auto_rows": null,
            "grid_column": null,
            "grid_gap": null,
            "grid_row": null,
            "grid_template_areas": null,
            "grid_template_columns": null,
            "grid_template_rows": null,
            "height": null,
            "justify_content": null,
            "justify_items": null,
            "left": null,
            "margin": null,
            "max_height": null,
            "max_width": null,
            "min_height": null,
            "min_width": null,
            "object_fit": null,
            "object_position": null,
            "order": null,
            "overflow": null,
            "overflow_x": null,
            "overflow_y": null,
            "padding": null,
            "right": null,
            "top": null,
            "visibility": null,
            "width": null
          }
        },
        "cbd33344e85740cfa82b1ed1c72fcfd5": {
          "model_module": "@jupyter-widgets/controls",
          "model_name": "ProgressStyleModel",
          "model_module_version": "1.5.0",
          "state": {
            "_model_module": "@jupyter-widgets/controls",
            "_model_module_version": "1.5.0",
            "_model_name": "ProgressStyleModel",
            "_view_count": null,
            "_view_module": "@jupyter-widgets/base",
            "_view_module_version": "1.2.0",
            "_view_name": "StyleView",
            "bar_color": null,
            "description_width": ""
          }
        },
        "f826079d20704931a9c74206b5aed17c": {
          "model_module": "@jupyter-widgets/base",
          "model_name": "LayoutModel",
          "model_module_version": "1.2.0",
          "state": {
            "_model_module": "@jupyter-widgets/base",
            "_model_module_version": "1.2.0",
            "_model_name": "LayoutModel",
            "_view_count": null,
            "_view_module": "@jupyter-widgets/base",
            "_view_module_version": "1.2.0",
            "_view_name": "LayoutView",
            "align_content": null,
            "align_items": null,
            "align_self": null,
            "border": null,
            "bottom": null,
            "display": null,
            "flex": null,
            "flex_flow": null,
            "grid_area": null,
            "grid_auto_columns": null,
            "grid_auto_flow": null,
            "grid_auto_rows": null,
            "grid_column": null,
            "grid_gap": null,
            "grid_row": null,
            "grid_template_areas": null,
            "grid_template_columns": null,
            "grid_template_rows": null,
            "height": null,
            "justify_content": null,
            "justify_items": null,
            "left": null,
            "margin": null,
            "max_height": null,
            "max_width": null,
            "min_height": null,
            "min_width": null,
            "object_fit": null,
            "object_position": null,
            "order": null,
            "overflow": null,
            "overflow_x": null,
            "overflow_y": null,
            "padding": null,
            "right": null,
            "top": null,
            "visibility": null,
            "width": null
          }
        },
        "fcfae6c0a6b248929f37a647c35f36e7": {
          "model_module": "@jupyter-widgets/controls",
          "model_name": "DescriptionStyleModel",
          "model_module_version": "1.5.0",
          "state": {
            "_model_module": "@jupyter-widgets/controls",
            "_model_module_version": "1.5.0",
            "_model_name": "DescriptionStyleModel",
            "_view_count": null,
            "_view_module": "@jupyter-widgets/base",
            "_view_module_version": "1.2.0",
            "_view_name": "StyleView",
            "description_width": ""
          }
        }
      }
    }
  },
  "cells": [
    {
      "cell_type": "markdown",
      "metadata": {
        "id": "view-in-github",
        "colab_type": "text"
      },
      "source": [
        "<a href=\"https://colab.research.google.com/github/VitalyGladyshev/gb_nlp/blob/main/%D0%93%D0%BB%D0%B0%D0%B4%D1%8B%D1%88%D0%B5%D0%B2%D0%92%D0%92_NLP_HW_04.ipynb\" target=\"_parent\"><img src=\"https://colab.research.google.com/assets/colab-badge.svg\" alt=\"Open In Colab\"/></a>"
      ]
    },
    {
      "cell_type": "markdown",
      "source": [
        "# ДЗ 4 Гладышев ВВ"
      ],
      "metadata": {
        "id": "PNmnjk-kUnlv"
      }
    },
    {
      "cell_type": "markdown",
      "source": [
        "## Подготовка"
      ],
      "metadata": {
        "id": "GsJfhXf7UstL"
      }
    },
    {
      "cell_type": "code",
      "execution_count": null,
      "metadata": {
        "id": "GWdywtraTMua"
      },
      "outputs": [],
      "source": [
        "import pandas as pd\n",
        "import numpy as np\n",
        "import re\n",
        "import matplotlib.pyplot as plt\n",
        "import seaborn as sns\n",
        "import nltk\n",
        "import warnings\n",
        "warnings.filterwarnings(\"ignore\", category=DeprecationWarning)\n",
        "import os\n",
        "from sklearn.model_selection import train_test_split\n",
        "\n",
        "from sklearn.linear_model import LogisticRegression # можно заменить на любимый классификатор\n",
        "from sklearn.feature_extraction.text import CountVectorizer\n",
        "from sklearn.feature_extraction.text import TfidfVectorizer\n",
        "from sklearn.feature_extraction.text import HashingVectorizer\n",
        "from sklearn.metrics import classification_report"
      ]
    },
    {
      "cell_type": "code",
      "source": [
        "positive = pd.read_csv('positive.csv', sep=';', header=None, usecols=[3], names=['text'])\n",
        "positive['label'] = 'positive'\n",
        "positive.head()"
      ],
      "metadata": {
        "colab": {
          "base_uri": "https://localhost:8080/",
          "height": 206
        },
        "id": "2rxY_7QgU8Qn",
        "outputId": "75b3c208-ce3e-49d5-855b-c1771d079cef"
      },
      "execution_count": null,
      "outputs": [
        {
          "output_type": "execute_result",
          "data": {
            "text/plain": [
              "                                                text     label\n",
              "0  @first_timee хоть я и школота, но поверь, у на...  positive\n",
              "1  Да, все-таки он немного похож на него. Но мой ...  positive\n",
              "2  RT @KatiaCheh: Ну ты идиотка) я испугалась за ...  positive\n",
              "3  RT @digger2912: \"Кто то в углу сидит и погибае...  positive\n",
              "4  @irina_dyshkant Вот что значит страшилка :D\\nН...  positive"
            ],
            "text/html": [
              "\n",
              "  <div id=\"df-2d7c9be5-1b79-468e-8703-379381ad9cf2\" class=\"colab-df-container\">\n",
              "    <div>\n",
              "<style scoped>\n",
              "    .dataframe tbody tr th:only-of-type {\n",
              "        vertical-align: middle;\n",
              "    }\n",
              "\n",
              "    .dataframe tbody tr th {\n",
              "        vertical-align: top;\n",
              "    }\n",
              "\n",
              "    .dataframe thead th {\n",
              "        text-align: right;\n",
              "    }\n",
              "</style>\n",
              "<table border=\"1\" class=\"dataframe\">\n",
              "  <thead>\n",
              "    <tr style=\"text-align: right;\">\n",
              "      <th></th>\n",
              "      <th>text</th>\n",
              "      <th>label</th>\n",
              "    </tr>\n",
              "  </thead>\n",
              "  <tbody>\n",
              "    <tr>\n",
              "      <th>0</th>\n",
              "      <td>@first_timee хоть я и школота, но поверь, у на...</td>\n",
              "      <td>positive</td>\n",
              "    </tr>\n",
              "    <tr>\n",
              "      <th>1</th>\n",
              "      <td>Да, все-таки он немного похож на него. Но мой ...</td>\n",
              "      <td>positive</td>\n",
              "    </tr>\n",
              "    <tr>\n",
              "      <th>2</th>\n",
              "      <td>RT @KatiaCheh: Ну ты идиотка) я испугалась за ...</td>\n",
              "      <td>positive</td>\n",
              "    </tr>\n",
              "    <tr>\n",
              "      <th>3</th>\n",
              "      <td>RT @digger2912: \"Кто то в углу сидит и погибае...</td>\n",
              "      <td>positive</td>\n",
              "    </tr>\n",
              "    <tr>\n",
              "      <th>4</th>\n",
              "      <td>@irina_dyshkant Вот что значит страшилка :D\\nН...</td>\n",
              "      <td>positive</td>\n",
              "    </tr>\n",
              "  </tbody>\n",
              "</table>\n",
              "</div>\n",
              "    <div class=\"colab-df-buttons\">\n",
              "\n",
              "  <div class=\"colab-df-container\">\n",
              "    <button class=\"colab-df-convert\" onclick=\"convertToInteractive('df-2d7c9be5-1b79-468e-8703-379381ad9cf2')\"\n",
              "            title=\"Convert this dataframe to an interactive table.\"\n",
              "            style=\"display:none;\">\n",
              "\n",
              "  <svg xmlns=\"http://www.w3.org/2000/svg\" height=\"24px\" viewBox=\"0 -960 960 960\">\n",
              "    <path d=\"M120-120v-720h720v720H120Zm60-500h600v-160H180v160Zm220 220h160v-160H400v160Zm0 220h160v-160H400v160ZM180-400h160v-160H180v160Zm440 0h160v-160H620v160ZM180-180h160v-160H180v160Zm440 0h160v-160H620v160Z\"/>\n",
              "  </svg>\n",
              "    </button>\n",
              "\n",
              "  <style>\n",
              "    .colab-df-container {\n",
              "      display:flex;\n",
              "      gap: 12px;\n",
              "    }\n",
              "\n",
              "    .colab-df-convert {\n",
              "      background-color: #E8F0FE;\n",
              "      border: none;\n",
              "      border-radius: 50%;\n",
              "      cursor: pointer;\n",
              "      display: none;\n",
              "      fill: #1967D2;\n",
              "      height: 32px;\n",
              "      padding: 0 0 0 0;\n",
              "      width: 32px;\n",
              "    }\n",
              "\n",
              "    .colab-df-convert:hover {\n",
              "      background-color: #E2EBFA;\n",
              "      box-shadow: 0px 1px 2px rgba(60, 64, 67, 0.3), 0px 1px 3px 1px rgba(60, 64, 67, 0.15);\n",
              "      fill: #174EA6;\n",
              "    }\n",
              "\n",
              "    .colab-df-buttons div {\n",
              "      margin-bottom: 4px;\n",
              "    }\n",
              "\n",
              "    [theme=dark] .colab-df-convert {\n",
              "      background-color: #3B4455;\n",
              "      fill: #D2E3FC;\n",
              "    }\n",
              "\n",
              "    [theme=dark] .colab-df-convert:hover {\n",
              "      background-color: #434B5C;\n",
              "      box-shadow: 0px 1px 3px 1px rgba(0, 0, 0, 0.15);\n",
              "      filter: drop-shadow(0px 1px 2px rgba(0, 0, 0, 0.3));\n",
              "      fill: #FFFFFF;\n",
              "    }\n",
              "  </style>\n",
              "\n",
              "    <script>\n",
              "      const buttonEl =\n",
              "        document.querySelector('#df-2d7c9be5-1b79-468e-8703-379381ad9cf2 button.colab-df-convert');\n",
              "      buttonEl.style.display =\n",
              "        google.colab.kernel.accessAllowed ? 'block' : 'none';\n",
              "\n",
              "      async function convertToInteractive(key) {\n",
              "        const element = document.querySelector('#df-2d7c9be5-1b79-468e-8703-379381ad9cf2');\n",
              "        const dataTable =\n",
              "          await google.colab.kernel.invokeFunction('convertToInteractive',\n",
              "                                                    [key], {});\n",
              "        if (!dataTable) return;\n",
              "\n",
              "        const docLinkHtml = 'Like what you see? Visit the ' +\n",
              "          '<a target=\"_blank\" href=https://colab.research.google.com/notebooks/data_table.ipynb>data table notebook</a>'\n",
              "          + ' to learn more about interactive tables.';\n",
              "        element.innerHTML = '';\n",
              "        dataTable['output_type'] = 'display_data';\n",
              "        await google.colab.output.renderOutput(dataTable, element);\n",
              "        const docLink = document.createElement('div');\n",
              "        docLink.innerHTML = docLinkHtml;\n",
              "        element.appendChild(docLink);\n",
              "      }\n",
              "    </script>\n",
              "  </div>\n",
              "\n",
              "\n",
              "<div id=\"df-e90edc30-151f-4047-86ce-084d53a3855a\">\n",
              "  <button class=\"colab-df-quickchart\" onclick=\"quickchart('df-e90edc30-151f-4047-86ce-084d53a3855a')\"\n",
              "            title=\"Suggest charts\"\n",
              "            style=\"display:none;\">\n",
              "\n",
              "<svg xmlns=\"http://www.w3.org/2000/svg\" height=\"24px\"viewBox=\"0 0 24 24\"\n",
              "     width=\"24px\">\n",
              "    <g>\n",
              "        <path d=\"M19 3H5c-1.1 0-2 .9-2 2v14c0 1.1.9 2 2 2h14c1.1 0 2-.9 2-2V5c0-1.1-.9-2-2-2zM9 17H7v-7h2v7zm4 0h-2V7h2v10zm4 0h-2v-4h2v4z\"/>\n",
              "    </g>\n",
              "</svg>\n",
              "  </button>\n",
              "\n",
              "<style>\n",
              "  .colab-df-quickchart {\n",
              "      --bg-color: #E8F0FE;\n",
              "      --fill-color: #1967D2;\n",
              "      --hover-bg-color: #E2EBFA;\n",
              "      --hover-fill-color: #174EA6;\n",
              "      --disabled-fill-color: #AAA;\n",
              "      --disabled-bg-color: #DDD;\n",
              "  }\n",
              "\n",
              "  [theme=dark] .colab-df-quickchart {\n",
              "      --bg-color: #3B4455;\n",
              "      --fill-color: #D2E3FC;\n",
              "      --hover-bg-color: #434B5C;\n",
              "      --hover-fill-color: #FFFFFF;\n",
              "      --disabled-bg-color: #3B4455;\n",
              "      --disabled-fill-color: #666;\n",
              "  }\n",
              "\n",
              "  .colab-df-quickchart {\n",
              "    background-color: var(--bg-color);\n",
              "    border: none;\n",
              "    border-radius: 50%;\n",
              "    cursor: pointer;\n",
              "    display: none;\n",
              "    fill: var(--fill-color);\n",
              "    height: 32px;\n",
              "    padding: 0;\n",
              "    width: 32px;\n",
              "  }\n",
              "\n",
              "  .colab-df-quickchart:hover {\n",
              "    background-color: var(--hover-bg-color);\n",
              "    box-shadow: 0 1px 2px rgba(60, 64, 67, 0.3), 0 1px 3px 1px rgba(60, 64, 67, 0.15);\n",
              "    fill: var(--button-hover-fill-color);\n",
              "  }\n",
              "\n",
              "  .colab-df-quickchart-complete:disabled,\n",
              "  .colab-df-quickchart-complete:disabled:hover {\n",
              "    background-color: var(--disabled-bg-color);\n",
              "    fill: var(--disabled-fill-color);\n",
              "    box-shadow: none;\n",
              "  }\n",
              "\n",
              "  .colab-df-spinner {\n",
              "    border: 2px solid var(--fill-color);\n",
              "    border-color: transparent;\n",
              "    border-bottom-color: var(--fill-color);\n",
              "    animation:\n",
              "      spin 1s steps(1) infinite;\n",
              "  }\n",
              "\n",
              "  @keyframes spin {\n",
              "    0% {\n",
              "      border-color: transparent;\n",
              "      border-bottom-color: var(--fill-color);\n",
              "      border-left-color: var(--fill-color);\n",
              "    }\n",
              "    20% {\n",
              "      border-color: transparent;\n",
              "      border-left-color: var(--fill-color);\n",
              "      border-top-color: var(--fill-color);\n",
              "    }\n",
              "    30% {\n",
              "      border-color: transparent;\n",
              "      border-left-color: var(--fill-color);\n",
              "      border-top-color: var(--fill-color);\n",
              "      border-right-color: var(--fill-color);\n",
              "    }\n",
              "    40% {\n",
              "      border-color: transparent;\n",
              "      border-right-color: var(--fill-color);\n",
              "      border-top-color: var(--fill-color);\n",
              "    }\n",
              "    60% {\n",
              "      border-color: transparent;\n",
              "      border-right-color: var(--fill-color);\n",
              "    }\n",
              "    80% {\n",
              "      border-color: transparent;\n",
              "      border-right-color: var(--fill-color);\n",
              "      border-bottom-color: var(--fill-color);\n",
              "    }\n",
              "    90% {\n",
              "      border-color: transparent;\n",
              "      border-bottom-color: var(--fill-color);\n",
              "    }\n",
              "  }\n",
              "</style>\n",
              "\n",
              "  <script>\n",
              "    async function quickchart(key) {\n",
              "      const quickchartButtonEl =\n",
              "        document.querySelector('#' + key + ' button');\n",
              "      quickchartButtonEl.disabled = true;  // To prevent multiple clicks.\n",
              "      quickchartButtonEl.classList.add('colab-df-spinner');\n",
              "      try {\n",
              "        const charts = await google.colab.kernel.invokeFunction(\n",
              "            'suggestCharts', [key], {});\n",
              "      } catch (error) {\n",
              "        console.error('Error during call to suggestCharts:', error);\n",
              "      }\n",
              "      quickchartButtonEl.classList.remove('colab-df-spinner');\n",
              "      quickchartButtonEl.classList.add('colab-df-quickchart-complete');\n",
              "    }\n",
              "    (() => {\n",
              "      let quickchartButtonEl =\n",
              "        document.querySelector('#df-e90edc30-151f-4047-86ce-084d53a3855a button');\n",
              "      quickchartButtonEl.style.display =\n",
              "        google.colab.kernel.accessAllowed ? 'block' : 'none';\n",
              "    })();\n",
              "  </script>\n",
              "</div>\n",
              "    </div>\n",
              "  </div>\n"
            ],
            "application/vnd.google.colaboratory.intrinsic+json": {
              "type": "dataframe",
              "variable_name": "positive"
            }
          },
          "metadata": {},
          "execution_count": 28
        }
      ]
    },
    {
      "cell_type": "code",
      "source": [
        "negative = pd.read_csv('negative.csv', sep=';', header=None, usecols=[3], names=['text'])\n",
        "negative['label'] = 'negative'\n",
        "negative.tail()"
      ],
      "metadata": {
        "colab": {
          "base_uri": "https://localhost:8080/",
          "height": 206
        },
        "id": "jrkwLmPwUxwv",
        "outputId": "c7543c90-e157-46e7-9166-b1f3d9591bb5"
      },
      "execution_count": null,
      "outputs": [
        {
          "output_type": "execute_result",
          "data": {
            "text/plain": [
              "                                                     text     label\n",
              "111918  Но не каждый хочет что то исправлять:( http://...  negative\n",
              "111919  скучаю так :-( только @taaannyaaa вправляет мо...  negative\n",
              "111920          Вот и в школу, в говно это идти уже надо(  negative\n",
              "111921  RT @_Them__: @LisaBeroud Тауриэль, не грусти :...  negative\n",
              "111922  Такси везет меня на работу. Раздумываю приплат...  negative"
            ],
            "text/html": [
              "\n",
              "  <div id=\"df-9fa07e87-d9a1-4a78-a36e-6d6d16cec460\" class=\"colab-df-container\">\n",
              "    <div>\n",
              "<style scoped>\n",
              "    .dataframe tbody tr th:only-of-type {\n",
              "        vertical-align: middle;\n",
              "    }\n",
              "\n",
              "    .dataframe tbody tr th {\n",
              "        vertical-align: top;\n",
              "    }\n",
              "\n",
              "    .dataframe thead th {\n",
              "        text-align: right;\n",
              "    }\n",
              "</style>\n",
              "<table border=\"1\" class=\"dataframe\">\n",
              "  <thead>\n",
              "    <tr style=\"text-align: right;\">\n",
              "      <th></th>\n",
              "      <th>text</th>\n",
              "      <th>label</th>\n",
              "    </tr>\n",
              "  </thead>\n",
              "  <tbody>\n",
              "    <tr>\n",
              "      <th>111918</th>\n",
              "      <td>Но не каждый хочет что то исправлять:( http://...</td>\n",
              "      <td>negative</td>\n",
              "    </tr>\n",
              "    <tr>\n",
              "      <th>111919</th>\n",
              "      <td>скучаю так :-( только @taaannyaaa вправляет мо...</td>\n",
              "      <td>negative</td>\n",
              "    </tr>\n",
              "    <tr>\n",
              "      <th>111920</th>\n",
              "      <td>Вот и в школу, в говно это идти уже надо(</td>\n",
              "      <td>negative</td>\n",
              "    </tr>\n",
              "    <tr>\n",
              "      <th>111921</th>\n",
              "      <td>RT @_Them__: @LisaBeroud Тауриэль, не грусти :...</td>\n",
              "      <td>negative</td>\n",
              "    </tr>\n",
              "    <tr>\n",
              "      <th>111922</th>\n",
              "      <td>Такси везет меня на работу. Раздумываю приплат...</td>\n",
              "      <td>negative</td>\n",
              "    </tr>\n",
              "  </tbody>\n",
              "</table>\n",
              "</div>\n",
              "    <div class=\"colab-df-buttons\">\n",
              "\n",
              "  <div class=\"colab-df-container\">\n",
              "    <button class=\"colab-df-convert\" onclick=\"convertToInteractive('df-9fa07e87-d9a1-4a78-a36e-6d6d16cec460')\"\n",
              "            title=\"Convert this dataframe to an interactive table.\"\n",
              "            style=\"display:none;\">\n",
              "\n",
              "  <svg xmlns=\"http://www.w3.org/2000/svg\" height=\"24px\" viewBox=\"0 -960 960 960\">\n",
              "    <path d=\"M120-120v-720h720v720H120Zm60-500h600v-160H180v160Zm220 220h160v-160H400v160Zm0 220h160v-160H400v160ZM180-400h160v-160H180v160Zm440 0h160v-160H620v160ZM180-180h160v-160H180v160Zm440 0h160v-160H620v160Z\"/>\n",
              "  </svg>\n",
              "    </button>\n",
              "\n",
              "  <style>\n",
              "    .colab-df-container {\n",
              "      display:flex;\n",
              "      gap: 12px;\n",
              "    }\n",
              "\n",
              "    .colab-df-convert {\n",
              "      background-color: #E8F0FE;\n",
              "      border: none;\n",
              "      border-radius: 50%;\n",
              "      cursor: pointer;\n",
              "      display: none;\n",
              "      fill: #1967D2;\n",
              "      height: 32px;\n",
              "      padding: 0 0 0 0;\n",
              "      width: 32px;\n",
              "    }\n",
              "\n",
              "    .colab-df-convert:hover {\n",
              "      background-color: #E2EBFA;\n",
              "      box-shadow: 0px 1px 2px rgba(60, 64, 67, 0.3), 0px 1px 3px 1px rgba(60, 64, 67, 0.15);\n",
              "      fill: #174EA6;\n",
              "    }\n",
              "\n",
              "    .colab-df-buttons div {\n",
              "      margin-bottom: 4px;\n",
              "    }\n",
              "\n",
              "    [theme=dark] .colab-df-convert {\n",
              "      background-color: #3B4455;\n",
              "      fill: #D2E3FC;\n",
              "    }\n",
              "\n",
              "    [theme=dark] .colab-df-convert:hover {\n",
              "      background-color: #434B5C;\n",
              "      box-shadow: 0px 1px 3px 1px rgba(0, 0, 0, 0.15);\n",
              "      filter: drop-shadow(0px 1px 2px rgba(0, 0, 0, 0.3));\n",
              "      fill: #FFFFFF;\n",
              "    }\n",
              "  </style>\n",
              "\n",
              "    <script>\n",
              "      const buttonEl =\n",
              "        document.querySelector('#df-9fa07e87-d9a1-4a78-a36e-6d6d16cec460 button.colab-df-convert');\n",
              "      buttonEl.style.display =\n",
              "        google.colab.kernel.accessAllowed ? 'block' : 'none';\n",
              "\n",
              "      async function convertToInteractive(key) {\n",
              "        const element = document.querySelector('#df-9fa07e87-d9a1-4a78-a36e-6d6d16cec460');\n",
              "        const dataTable =\n",
              "          await google.colab.kernel.invokeFunction('convertToInteractive',\n",
              "                                                    [key], {});\n",
              "        if (!dataTable) return;\n",
              "\n",
              "        const docLinkHtml = 'Like what you see? Visit the ' +\n",
              "          '<a target=\"_blank\" href=https://colab.research.google.com/notebooks/data_table.ipynb>data table notebook</a>'\n",
              "          + ' to learn more about interactive tables.';\n",
              "        element.innerHTML = '';\n",
              "        dataTable['output_type'] = 'display_data';\n",
              "        await google.colab.output.renderOutput(dataTable, element);\n",
              "        const docLink = document.createElement('div');\n",
              "        docLink.innerHTML = docLinkHtml;\n",
              "        element.appendChild(docLink);\n",
              "      }\n",
              "    </script>\n",
              "  </div>\n",
              "\n",
              "\n",
              "<div id=\"df-ebdbabfa-b27a-4fea-9c36-e63247335657\">\n",
              "  <button class=\"colab-df-quickchart\" onclick=\"quickchart('df-ebdbabfa-b27a-4fea-9c36-e63247335657')\"\n",
              "            title=\"Suggest charts\"\n",
              "            style=\"display:none;\">\n",
              "\n",
              "<svg xmlns=\"http://www.w3.org/2000/svg\" height=\"24px\"viewBox=\"0 0 24 24\"\n",
              "     width=\"24px\">\n",
              "    <g>\n",
              "        <path d=\"M19 3H5c-1.1 0-2 .9-2 2v14c0 1.1.9 2 2 2h14c1.1 0 2-.9 2-2V5c0-1.1-.9-2-2-2zM9 17H7v-7h2v7zm4 0h-2V7h2v10zm4 0h-2v-4h2v4z\"/>\n",
              "    </g>\n",
              "</svg>\n",
              "  </button>\n",
              "\n",
              "<style>\n",
              "  .colab-df-quickchart {\n",
              "      --bg-color: #E8F0FE;\n",
              "      --fill-color: #1967D2;\n",
              "      --hover-bg-color: #E2EBFA;\n",
              "      --hover-fill-color: #174EA6;\n",
              "      --disabled-fill-color: #AAA;\n",
              "      --disabled-bg-color: #DDD;\n",
              "  }\n",
              "\n",
              "  [theme=dark] .colab-df-quickchart {\n",
              "      --bg-color: #3B4455;\n",
              "      --fill-color: #D2E3FC;\n",
              "      --hover-bg-color: #434B5C;\n",
              "      --hover-fill-color: #FFFFFF;\n",
              "      --disabled-bg-color: #3B4455;\n",
              "      --disabled-fill-color: #666;\n",
              "  }\n",
              "\n",
              "  .colab-df-quickchart {\n",
              "    background-color: var(--bg-color);\n",
              "    border: none;\n",
              "    border-radius: 50%;\n",
              "    cursor: pointer;\n",
              "    display: none;\n",
              "    fill: var(--fill-color);\n",
              "    height: 32px;\n",
              "    padding: 0;\n",
              "    width: 32px;\n",
              "  }\n",
              "\n",
              "  .colab-df-quickchart:hover {\n",
              "    background-color: var(--hover-bg-color);\n",
              "    box-shadow: 0 1px 2px rgba(60, 64, 67, 0.3), 0 1px 3px 1px rgba(60, 64, 67, 0.15);\n",
              "    fill: var(--button-hover-fill-color);\n",
              "  }\n",
              "\n",
              "  .colab-df-quickchart-complete:disabled,\n",
              "  .colab-df-quickchart-complete:disabled:hover {\n",
              "    background-color: var(--disabled-bg-color);\n",
              "    fill: var(--disabled-fill-color);\n",
              "    box-shadow: none;\n",
              "  }\n",
              "\n",
              "  .colab-df-spinner {\n",
              "    border: 2px solid var(--fill-color);\n",
              "    border-color: transparent;\n",
              "    border-bottom-color: var(--fill-color);\n",
              "    animation:\n",
              "      spin 1s steps(1) infinite;\n",
              "  }\n",
              "\n",
              "  @keyframes spin {\n",
              "    0% {\n",
              "      border-color: transparent;\n",
              "      border-bottom-color: var(--fill-color);\n",
              "      border-left-color: var(--fill-color);\n",
              "    }\n",
              "    20% {\n",
              "      border-color: transparent;\n",
              "      border-left-color: var(--fill-color);\n",
              "      border-top-color: var(--fill-color);\n",
              "    }\n",
              "    30% {\n",
              "      border-color: transparent;\n",
              "      border-left-color: var(--fill-color);\n",
              "      border-top-color: var(--fill-color);\n",
              "      border-right-color: var(--fill-color);\n",
              "    }\n",
              "    40% {\n",
              "      border-color: transparent;\n",
              "      border-right-color: var(--fill-color);\n",
              "      border-top-color: var(--fill-color);\n",
              "    }\n",
              "    60% {\n",
              "      border-color: transparent;\n",
              "      border-right-color: var(--fill-color);\n",
              "    }\n",
              "    80% {\n",
              "      border-color: transparent;\n",
              "      border-right-color: var(--fill-color);\n",
              "      border-bottom-color: var(--fill-color);\n",
              "    }\n",
              "    90% {\n",
              "      border-color: transparent;\n",
              "      border-bottom-color: var(--fill-color);\n",
              "    }\n",
              "  }\n",
              "</style>\n",
              "\n",
              "  <script>\n",
              "    async function quickchart(key) {\n",
              "      const quickchartButtonEl =\n",
              "        document.querySelector('#' + key + ' button');\n",
              "      quickchartButtonEl.disabled = true;  // To prevent multiple clicks.\n",
              "      quickchartButtonEl.classList.add('colab-df-spinner');\n",
              "      try {\n",
              "        const charts = await google.colab.kernel.invokeFunction(\n",
              "            'suggestCharts', [key], {});\n",
              "      } catch (error) {\n",
              "        console.error('Error during call to suggestCharts:', error);\n",
              "      }\n",
              "      quickchartButtonEl.classList.remove('colab-df-spinner');\n",
              "      quickchartButtonEl.classList.add('colab-df-quickchart-complete');\n",
              "    }\n",
              "    (() => {\n",
              "      let quickchartButtonEl =\n",
              "        document.querySelector('#df-ebdbabfa-b27a-4fea-9c36-e63247335657 button');\n",
              "      quickchartButtonEl.style.display =\n",
              "        google.colab.kernel.accessAllowed ? 'block' : 'none';\n",
              "    })();\n",
              "  </script>\n",
              "</div>\n",
              "    </div>\n",
              "  </div>\n"
            ],
            "application/vnd.google.colaboratory.intrinsic+json": {
              "type": "dataframe",
              "summary": "{\n  \"name\": \"negative\",\n  \"rows\": 5,\n  \"fields\": [\n    {\n      \"column\": \"text\",\n      \"properties\": {\n        \"dtype\": \"string\",\n        \"samples\": [\n          \"\\u0441\\u043a\\u0443\\u0447\\u0430\\u044e \\u0442\\u0430\\u043a :-( \\u0442\\u043e\\u043b\\u044c\\u043a\\u043e @taaannyaaa \\u0432\\u043f\\u0440\\u0430\\u0432\\u043b\\u044f\\u0435\\u0442 \\u043c\\u043e\\u0437\\u0433\\u0438, \\u043d\\u043e \\u044f \\u0432\\u0441\\u0435 \\u0440\\u0430\\u0432\\u043d\\u043e \\u0441\\u043a\\u0443\\u0447\\u0430\\u044e\",\n          \"\\u0422\\u0430\\u043a\\u0441\\u0438 \\u0432\\u0435\\u0437\\u0435\\u0442 \\u043c\\u0435\\u043d\\u044f \\u043d\\u0430 \\u0440\\u0430\\u0431\\u043e\\u0442\\u0443. \\u0420\\u0430\\u0437\\u0434\\u0443\\u043c\\u044b\\u0432\\u0430\\u044e \\u043f\\u0440\\u0438\\u043f\\u043b\\u0430\\u0442\\u0438\\u0442\\u044c, \\u0447\\u0442\\u043e\\u0431\\u044b \\u043c\\u0435\\u043d\\u044f \\u0432\\u0442\\u0430\\u0449\\u0438\\u043b\\u0438 \\u043d\\u0430 \\u043f\\u044f\\u0442\\u044b\\u0439 \\u044d\\u0442\\u0430\\u0436. \\u041b\\u0438\\u0444\\u0442\\u0430 \\u0442\\u043e \\u043d\\u0435\\u0442 :(\",\n          \"\\u0412\\u043e\\u0442 \\u0438 \\u0432 \\u0448\\u043a\\u043e\\u043b\\u0443, \\u0432 \\u0433\\u043e\\u0432\\u043d\\u043e \\u044d\\u0442\\u043e \\u0438\\u0434\\u0442\\u0438 \\u0443\\u0436\\u0435 \\u043d\\u0430\\u0434\\u043e(\"\n        ],\n        \"num_unique_values\": 5,\n        \"semantic_type\": \"\",\n        \"description\": \"\"\n      }\n    },\n    {\n      \"column\": \"label\",\n      \"properties\": {\n        \"dtype\": \"category\",\n        \"samples\": [\n          \"negative\"\n        ],\n        \"num_unique_values\": 1,\n        \"semantic_type\": \"\",\n        \"description\": \"\"\n      }\n    }\n  ]\n}"
            }
          },
          "metadata": {},
          "execution_count": 29
        }
      ]
    },
    {
      "cell_type": "code",
      "source": [
        "data = pd.concat([positive, negative])\n",
        "data.head()"
      ],
      "metadata": {
        "colab": {
          "base_uri": "https://localhost:8080/",
          "height": 206
        },
        "id": "ZyAiknQmW3-a",
        "outputId": "fbda9677-ab05-4f4d-da8c-df887b2ef087"
      },
      "execution_count": null,
      "outputs": [
        {
          "output_type": "execute_result",
          "data": {
            "text/plain": [
              "                                                text     label\n",
              "0  @first_timee хоть я и школота, но поверь, у на...  positive\n",
              "1  Да, все-таки он немного похож на него. Но мой ...  positive\n",
              "2  RT @KatiaCheh: Ну ты идиотка) я испугалась за ...  positive\n",
              "3  RT @digger2912: \"Кто то в углу сидит и погибае...  positive\n",
              "4  @irina_dyshkant Вот что значит страшилка :D\\nН...  positive"
            ],
            "text/html": [
              "\n",
              "  <div id=\"df-50d582f5-0dd9-46d5-a57d-857a8c4b1fe2\" class=\"colab-df-container\">\n",
              "    <div>\n",
              "<style scoped>\n",
              "    .dataframe tbody tr th:only-of-type {\n",
              "        vertical-align: middle;\n",
              "    }\n",
              "\n",
              "    .dataframe tbody tr th {\n",
              "        vertical-align: top;\n",
              "    }\n",
              "\n",
              "    .dataframe thead th {\n",
              "        text-align: right;\n",
              "    }\n",
              "</style>\n",
              "<table border=\"1\" class=\"dataframe\">\n",
              "  <thead>\n",
              "    <tr style=\"text-align: right;\">\n",
              "      <th></th>\n",
              "      <th>text</th>\n",
              "      <th>label</th>\n",
              "    </tr>\n",
              "  </thead>\n",
              "  <tbody>\n",
              "    <tr>\n",
              "      <th>0</th>\n",
              "      <td>@first_timee хоть я и школота, но поверь, у на...</td>\n",
              "      <td>positive</td>\n",
              "    </tr>\n",
              "    <tr>\n",
              "      <th>1</th>\n",
              "      <td>Да, все-таки он немного похож на него. Но мой ...</td>\n",
              "      <td>positive</td>\n",
              "    </tr>\n",
              "    <tr>\n",
              "      <th>2</th>\n",
              "      <td>RT @KatiaCheh: Ну ты идиотка) я испугалась за ...</td>\n",
              "      <td>positive</td>\n",
              "    </tr>\n",
              "    <tr>\n",
              "      <th>3</th>\n",
              "      <td>RT @digger2912: \"Кто то в углу сидит и погибае...</td>\n",
              "      <td>positive</td>\n",
              "    </tr>\n",
              "    <tr>\n",
              "      <th>4</th>\n",
              "      <td>@irina_dyshkant Вот что значит страшилка :D\\nН...</td>\n",
              "      <td>positive</td>\n",
              "    </tr>\n",
              "  </tbody>\n",
              "</table>\n",
              "</div>\n",
              "    <div class=\"colab-df-buttons\">\n",
              "\n",
              "  <div class=\"colab-df-container\">\n",
              "    <button class=\"colab-df-convert\" onclick=\"convertToInteractive('df-50d582f5-0dd9-46d5-a57d-857a8c4b1fe2')\"\n",
              "            title=\"Convert this dataframe to an interactive table.\"\n",
              "            style=\"display:none;\">\n",
              "\n",
              "  <svg xmlns=\"http://www.w3.org/2000/svg\" height=\"24px\" viewBox=\"0 -960 960 960\">\n",
              "    <path d=\"M120-120v-720h720v720H120Zm60-500h600v-160H180v160Zm220 220h160v-160H400v160Zm0 220h160v-160H400v160ZM180-400h160v-160H180v160Zm440 0h160v-160H620v160ZM180-180h160v-160H180v160Zm440 0h160v-160H620v160Z\"/>\n",
              "  </svg>\n",
              "    </button>\n",
              "\n",
              "  <style>\n",
              "    .colab-df-container {\n",
              "      display:flex;\n",
              "      gap: 12px;\n",
              "    }\n",
              "\n",
              "    .colab-df-convert {\n",
              "      background-color: #E8F0FE;\n",
              "      border: none;\n",
              "      border-radius: 50%;\n",
              "      cursor: pointer;\n",
              "      display: none;\n",
              "      fill: #1967D2;\n",
              "      height: 32px;\n",
              "      padding: 0 0 0 0;\n",
              "      width: 32px;\n",
              "    }\n",
              "\n",
              "    .colab-df-convert:hover {\n",
              "      background-color: #E2EBFA;\n",
              "      box-shadow: 0px 1px 2px rgba(60, 64, 67, 0.3), 0px 1px 3px 1px rgba(60, 64, 67, 0.15);\n",
              "      fill: #174EA6;\n",
              "    }\n",
              "\n",
              "    .colab-df-buttons div {\n",
              "      margin-bottom: 4px;\n",
              "    }\n",
              "\n",
              "    [theme=dark] .colab-df-convert {\n",
              "      background-color: #3B4455;\n",
              "      fill: #D2E3FC;\n",
              "    }\n",
              "\n",
              "    [theme=dark] .colab-df-convert:hover {\n",
              "      background-color: #434B5C;\n",
              "      box-shadow: 0px 1px 3px 1px rgba(0, 0, 0, 0.15);\n",
              "      filter: drop-shadow(0px 1px 2px rgba(0, 0, 0, 0.3));\n",
              "      fill: #FFFFFF;\n",
              "    }\n",
              "  </style>\n",
              "\n",
              "    <script>\n",
              "      const buttonEl =\n",
              "        document.querySelector('#df-50d582f5-0dd9-46d5-a57d-857a8c4b1fe2 button.colab-df-convert');\n",
              "      buttonEl.style.display =\n",
              "        google.colab.kernel.accessAllowed ? 'block' : 'none';\n",
              "\n",
              "      async function convertToInteractive(key) {\n",
              "        const element = document.querySelector('#df-50d582f5-0dd9-46d5-a57d-857a8c4b1fe2');\n",
              "        const dataTable =\n",
              "          await google.colab.kernel.invokeFunction('convertToInteractive',\n",
              "                                                    [key], {});\n",
              "        if (!dataTable) return;\n",
              "\n",
              "        const docLinkHtml = 'Like what you see? Visit the ' +\n",
              "          '<a target=\"_blank\" href=https://colab.research.google.com/notebooks/data_table.ipynb>data table notebook</a>'\n",
              "          + ' to learn more about interactive tables.';\n",
              "        element.innerHTML = '';\n",
              "        dataTable['output_type'] = 'display_data';\n",
              "        await google.colab.output.renderOutput(dataTable, element);\n",
              "        const docLink = document.createElement('div');\n",
              "        docLink.innerHTML = docLinkHtml;\n",
              "        element.appendChild(docLink);\n",
              "      }\n",
              "    </script>\n",
              "  </div>\n",
              "\n",
              "\n",
              "<div id=\"df-c9043dc6-15ab-4b72-ab5d-5b492817ade0\">\n",
              "  <button class=\"colab-df-quickchart\" onclick=\"quickchart('df-c9043dc6-15ab-4b72-ab5d-5b492817ade0')\"\n",
              "            title=\"Suggest charts\"\n",
              "            style=\"display:none;\">\n",
              "\n",
              "<svg xmlns=\"http://www.w3.org/2000/svg\" height=\"24px\"viewBox=\"0 0 24 24\"\n",
              "     width=\"24px\">\n",
              "    <g>\n",
              "        <path d=\"M19 3H5c-1.1 0-2 .9-2 2v14c0 1.1.9 2 2 2h14c1.1 0 2-.9 2-2V5c0-1.1-.9-2-2-2zM9 17H7v-7h2v7zm4 0h-2V7h2v10zm4 0h-2v-4h2v4z\"/>\n",
              "    </g>\n",
              "</svg>\n",
              "  </button>\n",
              "\n",
              "<style>\n",
              "  .colab-df-quickchart {\n",
              "      --bg-color: #E8F0FE;\n",
              "      --fill-color: #1967D2;\n",
              "      --hover-bg-color: #E2EBFA;\n",
              "      --hover-fill-color: #174EA6;\n",
              "      --disabled-fill-color: #AAA;\n",
              "      --disabled-bg-color: #DDD;\n",
              "  }\n",
              "\n",
              "  [theme=dark] .colab-df-quickchart {\n",
              "      --bg-color: #3B4455;\n",
              "      --fill-color: #D2E3FC;\n",
              "      --hover-bg-color: #434B5C;\n",
              "      --hover-fill-color: #FFFFFF;\n",
              "      --disabled-bg-color: #3B4455;\n",
              "      --disabled-fill-color: #666;\n",
              "  }\n",
              "\n",
              "  .colab-df-quickchart {\n",
              "    background-color: var(--bg-color);\n",
              "    border: none;\n",
              "    border-radius: 50%;\n",
              "    cursor: pointer;\n",
              "    display: none;\n",
              "    fill: var(--fill-color);\n",
              "    height: 32px;\n",
              "    padding: 0;\n",
              "    width: 32px;\n",
              "  }\n",
              "\n",
              "  .colab-df-quickchart:hover {\n",
              "    background-color: var(--hover-bg-color);\n",
              "    box-shadow: 0 1px 2px rgba(60, 64, 67, 0.3), 0 1px 3px 1px rgba(60, 64, 67, 0.15);\n",
              "    fill: var(--button-hover-fill-color);\n",
              "  }\n",
              "\n",
              "  .colab-df-quickchart-complete:disabled,\n",
              "  .colab-df-quickchart-complete:disabled:hover {\n",
              "    background-color: var(--disabled-bg-color);\n",
              "    fill: var(--disabled-fill-color);\n",
              "    box-shadow: none;\n",
              "  }\n",
              "\n",
              "  .colab-df-spinner {\n",
              "    border: 2px solid var(--fill-color);\n",
              "    border-color: transparent;\n",
              "    border-bottom-color: var(--fill-color);\n",
              "    animation:\n",
              "      spin 1s steps(1) infinite;\n",
              "  }\n",
              "\n",
              "  @keyframes spin {\n",
              "    0% {\n",
              "      border-color: transparent;\n",
              "      border-bottom-color: var(--fill-color);\n",
              "      border-left-color: var(--fill-color);\n",
              "    }\n",
              "    20% {\n",
              "      border-color: transparent;\n",
              "      border-left-color: var(--fill-color);\n",
              "      border-top-color: var(--fill-color);\n",
              "    }\n",
              "    30% {\n",
              "      border-color: transparent;\n",
              "      border-left-color: var(--fill-color);\n",
              "      border-top-color: var(--fill-color);\n",
              "      border-right-color: var(--fill-color);\n",
              "    }\n",
              "    40% {\n",
              "      border-color: transparent;\n",
              "      border-right-color: var(--fill-color);\n",
              "      border-top-color: var(--fill-color);\n",
              "    }\n",
              "    60% {\n",
              "      border-color: transparent;\n",
              "      border-right-color: var(--fill-color);\n",
              "    }\n",
              "    80% {\n",
              "      border-color: transparent;\n",
              "      border-right-color: var(--fill-color);\n",
              "      border-bottom-color: var(--fill-color);\n",
              "    }\n",
              "    90% {\n",
              "      border-color: transparent;\n",
              "      border-bottom-color: var(--fill-color);\n",
              "    }\n",
              "  }\n",
              "</style>\n",
              "\n",
              "  <script>\n",
              "    async function quickchart(key) {\n",
              "      const quickchartButtonEl =\n",
              "        document.querySelector('#' + key + ' button');\n",
              "      quickchartButtonEl.disabled = true;  // To prevent multiple clicks.\n",
              "      quickchartButtonEl.classList.add('colab-df-spinner');\n",
              "      try {\n",
              "        const charts = await google.colab.kernel.invokeFunction(\n",
              "            'suggestCharts', [key], {});\n",
              "      } catch (error) {\n",
              "        console.error('Error during call to suggestCharts:', error);\n",
              "      }\n",
              "      quickchartButtonEl.classList.remove('colab-df-spinner');\n",
              "      quickchartButtonEl.classList.add('colab-df-quickchart-complete');\n",
              "    }\n",
              "    (() => {\n",
              "      let quickchartButtonEl =\n",
              "        document.querySelector('#df-c9043dc6-15ab-4b72-ab5d-5b492817ade0 button');\n",
              "      quickchartButtonEl.style.display =\n",
              "        google.colab.kernel.accessAllowed ? 'block' : 'none';\n",
              "    })();\n",
              "  </script>\n",
              "</div>\n",
              "    </div>\n",
              "  </div>\n"
            ],
            "application/vnd.google.colaboratory.intrinsic+json": {
              "type": "dataframe",
              "variable_name": "data"
            }
          },
          "metadata": {},
          "execution_count": 4
        }
      ]
    },
    {
      "cell_type": "code",
      "source": [
        "data.tail()"
      ],
      "metadata": {
        "colab": {
          "base_uri": "https://localhost:8080/",
          "height": 206
        },
        "id": "G_0NF8gdZOEZ",
        "outputId": "93ba1abd-2261-4816-df30-d030c8d8a8be"
      },
      "execution_count": null,
      "outputs": [
        {
          "output_type": "execute_result",
          "data": {
            "text/plain": [
              "                                                     text     label\n",
              "111918  Но не каждый хочет что то исправлять:( http://...  negative\n",
              "111919  скучаю так :-( только @taaannyaaa вправляет мо...  negative\n",
              "111920          Вот и в школу, в говно это идти уже надо(  negative\n",
              "111921  RT @_Them__: @LisaBeroud Тауриэль, не грусти :...  negative\n",
              "111922  Такси везет меня на работу. Раздумываю приплат...  negative"
            ],
            "text/html": [
              "\n",
              "  <div id=\"df-04f5f9e5-148b-445c-9917-bf2f67b8f26e\" class=\"colab-df-container\">\n",
              "    <div>\n",
              "<style scoped>\n",
              "    .dataframe tbody tr th:only-of-type {\n",
              "        vertical-align: middle;\n",
              "    }\n",
              "\n",
              "    .dataframe tbody tr th {\n",
              "        vertical-align: top;\n",
              "    }\n",
              "\n",
              "    .dataframe thead th {\n",
              "        text-align: right;\n",
              "    }\n",
              "</style>\n",
              "<table border=\"1\" class=\"dataframe\">\n",
              "  <thead>\n",
              "    <tr style=\"text-align: right;\">\n",
              "      <th></th>\n",
              "      <th>text</th>\n",
              "      <th>label</th>\n",
              "    </tr>\n",
              "  </thead>\n",
              "  <tbody>\n",
              "    <tr>\n",
              "      <th>111918</th>\n",
              "      <td>Но не каждый хочет что то исправлять:( http://...</td>\n",
              "      <td>negative</td>\n",
              "    </tr>\n",
              "    <tr>\n",
              "      <th>111919</th>\n",
              "      <td>скучаю так :-( только @taaannyaaa вправляет мо...</td>\n",
              "      <td>negative</td>\n",
              "    </tr>\n",
              "    <tr>\n",
              "      <th>111920</th>\n",
              "      <td>Вот и в школу, в говно это идти уже надо(</td>\n",
              "      <td>negative</td>\n",
              "    </tr>\n",
              "    <tr>\n",
              "      <th>111921</th>\n",
              "      <td>RT @_Them__: @LisaBeroud Тауриэль, не грусти :...</td>\n",
              "      <td>negative</td>\n",
              "    </tr>\n",
              "    <tr>\n",
              "      <th>111922</th>\n",
              "      <td>Такси везет меня на работу. Раздумываю приплат...</td>\n",
              "      <td>negative</td>\n",
              "    </tr>\n",
              "  </tbody>\n",
              "</table>\n",
              "</div>\n",
              "    <div class=\"colab-df-buttons\">\n",
              "\n",
              "  <div class=\"colab-df-container\">\n",
              "    <button class=\"colab-df-convert\" onclick=\"convertToInteractive('df-04f5f9e5-148b-445c-9917-bf2f67b8f26e')\"\n",
              "            title=\"Convert this dataframe to an interactive table.\"\n",
              "            style=\"display:none;\">\n",
              "\n",
              "  <svg xmlns=\"http://www.w3.org/2000/svg\" height=\"24px\" viewBox=\"0 -960 960 960\">\n",
              "    <path d=\"M120-120v-720h720v720H120Zm60-500h600v-160H180v160Zm220 220h160v-160H400v160Zm0 220h160v-160H400v160ZM180-400h160v-160H180v160Zm440 0h160v-160H620v160ZM180-180h160v-160H180v160Zm440 0h160v-160H620v160Z\"/>\n",
              "  </svg>\n",
              "    </button>\n",
              "\n",
              "  <style>\n",
              "    .colab-df-container {\n",
              "      display:flex;\n",
              "      gap: 12px;\n",
              "    }\n",
              "\n",
              "    .colab-df-convert {\n",
              "      background-color: #E8F0FE;\n",
              "      border: none;\n",
              "      border-radius: 50%;\n",
              "      cursor: pointer;\n",
              "      display: none;\n",
              "      fill: #1967D2;\n",
              "      height: 32px;\n",
              "      padding: 0 0 0 0;\n",
              "      width: 32px;\n",
              "    }\n",
              "\n",
              "    .colab-df-convert:hover {\n",
              "      background-color: #E2EBFA;\n",
              "      box-shadow: 0px 1px 2px rgba(60, 64, 67, 0.3), 0px 1px 3px 1px rgba(60, 64, 67, 0.15);\n",
              "      fill: #174EA6;\n",
              "    }\n",
              "\n",
              "    .colab-df-buttons div {\n",
              "      margin-bottom: 4px;\n",
              "    }\n",
              "\n",
              "    [theme=dark] .colab-df-convert {\n",
              "      background-color: #3B4455;\n",
              "      fill: #D2E3FC;\n",
              "    }\n",
              "\n",
              "    [theme=dark] .colab-df-convert:hover {\n",
              "      background-color: #434B5C;\n",
              "      box-shadow: 0px 1px 3px 1px rgba(0, 0, 0, 0.15);\n",
              "      filter: drop-shadow(0px 1px 2px rgba(0, 0, 0, 0.3));\n",
              "      fill: #FFFFFF;\n",
              "    }\n",
              "  </style>\n",
              "\n",
              "    <script>\n",
              "      const buttonEl =\n",
              "        document.querySelector('#df-04f5f9e5-148b-445c-9917-bf2f67b8f26e button.colab-df-convert');\n",
              "      buttonEl.style.display =\n",
              "        google.colab.kernel.accessAllowed ? 'block' : 'none';\n",
              "\n",
              "      async function convertToInteractive(key) {\n",
              "        const element = document.querySelector('#df-04f5f9e5-148b-445c-9917-bf2f67b8f26e');\n",
              "        const dataTable =\n",
              "          await google.colab.kernel.invokeFunction('convertToInteractive',\n",
              "                                                    [key], {});\n",
              "        if (!dataTable) return;\n",
              "\n",
              "        const docLinkHtml = 'Like what you see? Visit the ' +\n",
              "          '<a target=\"_blank\" href=https://colab.research.google.com/notebooks/data_table.ipynb>data table notebook</a>'\n",
              "          + ' to learn more about interactive tables.';\n",
              "        element.innerHTML = '';\n",
              "        dataTable['output_type'] = 'display_data';\n",
              "        await google.colab.output.renderOutput(dataTable, element);\n",
              "        const docLink = document.createElement('div');\n",
              "        docLink.innerHTML = docLinkHtml;\n",
              "        element.appendChild(docLink);\n",
              "      }\n",
              "    </script>\n",
              "  </div>\n",
              "\n",
              "\n",
              "<div id=\"df-7284c48d-7ea7-4035-82ed-a93dec259ef7\">\n",
              "  <button class=\"colab-df-quickchart\" onclick=\"quickchart('df-7284c48d-7ea7-4035-82ed-a93dec259ef7')\"\n",
              "            title=\"Suggest charts\"\n",
              "            style=\"display:none;\">\n",
              "\n",
              "<svg xmlns=\"http://www.w3.org/2000/svg\" height=\"24px\"viewBox=\"0 0 24 24\"\n",
              "     width=\"24px\">\n",
              "    <g>\n",
              "        <path d=\"M19 3H5c-1.1 0-2 .9-2 2v14c0 1.1.9 2 2 2h14c1.1 0 2-.9 2-2V5c0-1.1-.9-2-2-2zM9 17H7v-7h2v7zm4 0h-2V7h2v10zm4 0h-2v-4h2v4z\"/>\n",
              "    </g>\n",
              "</svg>\n",
              "  </button>\n",
              "\n",
              "<style>\n",
              "  .colab-df-quickchart {\n",
              "      --bg-color: #E8F0FE;\n",
              "      --fill-color: #1967D2;\n",
              "      --hover-bg-color: #E2EBFA;\n",
              "      --hover-fill-color: #174EA6;\n",
              "      --disabled-fill-color: #AAA;\n",
              "      --disabled-bg-color: #DDD;\n",
              "  }\n",
              "\n",
              "  [theme=dark] .colab-df-quickchart {\n",
              "      --bg-color: #3B4455;\n",
              "      --fill-color: #D2E3FC;\n",
              "      --hover-bg-color: #434B5C;\n",
              "      --hover-fill-color: #FFFFFF;\n",
              "      --disabled-bg-color: #3B4455;\n",
              "      --disabled-fill-color: #666;\n",
              "  }\n",
              "\n",
              "  .colab-df-quickchart {\n",
              "    background-color: var(--bg-color);\n",
              "    border: none;\n",
              "    border-radius: 50%;\n",
              "    cursor: pointer;\n",
              "    display: none;\n",
              "    fill: var(--fill-color);\n",
              "    height: 32px;\n",
              "    padding: 0;\n",
              "    width: 32px;\n",
              "  }\n",
              "\n",
              "  .colab-df-quickchart:hover {\n",
              "    background-color: var(--hover-bg-color);\n",
              "    box-shadow: 0 1px 2px rgba(60, 64, 67, 0.3), 0 1px 3px 1px rgba(60, 64, 67, 0.15);\n",
              "    fill: var(--button-hover-fill-color);\n",
              "  }\n",
              "\n",
              "  .colab-df-quickchart-complete:disabled,\n",
              "  .colab-df-quickchart-complete:disabled:hover {\n",
              "    background-color: var(--disabled-bg-color);\n",
              "    fill: var(--disabled-fill-color);\n",
              "    box-shadow: none;\n",
              "  }\n",
              "\n",
              "  .colab-df-spinner {\n",
              "    border: 2px solid var(--fill-color);\n",
              "    border-color: transparent;\n",
              "    border-bottom-color: var(--fill-color);\n",
              "    animation:\n",
              "      spin 1s steps(1) infinite;\n",
              "  }\n",
              "\n",
              "  @keyframes spin {\n",
              "    0% {\n",
              "      border-color: transparent;\n",
              "      border-bottom-color: var(--fill-color);\n",
              "      border-left-color: var(--fill-color);\n",
              "    }\n",
              "    20% {\n",
              "      border-color: transparent;\n",
              "      border-left-color: var(--fill-color);\n",
              "      border-top-color: var(--fill-color);\n",
              "    }\n",
              "    30% {\n",
              "      border-color: transparent;\n",
              "      border-left-color: var(--fill-color);\n",
              "      border-top-color: var(--fill-color);\n",
              "      border-right-color: var(--fill-color);\n",
              "    }\n",
              "    40% {\n",
              "      border-color: transparent;\n",
              "      border-right-color: var(--fill-color);\n",
              "      border-top-color: var(--fill-color);\n",
              "    }\n",
              "    60% {\n",
              "      border-color: transparent;\n",
              "      border-right-color: var(--fill-color);\n",
              "    }\n",
              "    80% {\n",
              "      border-color: transparent;\n",
              "      border-right-color: var(--fill-color);\n",
              "      border-bottom-color: var(--fill-color);\n",
              "    }\n",
              "    90% {\n",
              "      border-color: transparent;\n",
              "      border-bottom-color: var(--fill-color);\n",
              "    }\n",
              "  }\n",
              "</style>\n",
              "\n",
              "  <script>\n",
              "    async function quickchart(key) {\n",
              "      const quickchartButtonEl =\n",
              "        document.querySelector('#' + key + ' button');\n",
              "      quickchartButtonEl.disabled = true;  // To prevent multiple clicks.\n",
              "      quickchartButtonEl.classList.add('colab-df-spinner');\n",
              "      try {\n",
              "        const charts = await google.colab.kernel.invokeFunction(\n",
              "            'suggestCharts', [key], {});\n",
              "      } catch (error) {\n",
              "        console.error('Error during call to suggestCharts:', error);\n",
              "      }\n",
              "      quickchartButtonEl.classList.remove('colab-df-spinner');\n",
              "      quickchartButtonEl.classList.add('colab-df-quickchart-complete');\n",
              "    }\n",
              "    (() => {\n",
              "      let quickchartButtonEl =\n",
              "        document.querySelector('#df-7284c48d-7ea7-4035-82ed-a93dec259ef7 button');\n",
              "      quickchartButtonEl.style.display =\n",
              "        google.colab.kernel.accessAllowed ? 'block' : 'none';\n",
              "    })();\n",
              "  </script>\n",
              "</div>\n",
              "    </div>\n",
              "  </div>\n"
            ],
            "application/vnd.google.colaboratory.intrinsic+json": {
              "type": "dataframe",
              "summary": "{\n  \"name\": \"data\",\n  \"rows\": 5,\n  \"fields\": [\n    {\n      \"column\": \"text\",\n      \"properties\": {\n        \"dtype\": \"string\",\n        \"samples\": [\n          \"\\u0441\\u043a\\u0443\\u0447\\u0430\\u044e \\u0442\\u0430\\u043a :-( \\u0442\\u043e\\u043b\\u044c\\u043a\\u043e @taaannyaaa \\u0432\\u043f\\u0440\\u0430\\u0432\\u043b\\u044f\\u0435\\u0442 \\u043c\\u043e\\u0437\\u0433\\u0438, \\u043d\\u043e \\u044f \\u0432\\u0441\\u0435 \\u0440\\u0430\\u0432\\u043d\\u043e \\u0441\\u043a\\u0443\\u0447\\u0430\\u044e\",\n          \"\\u0422\\u0430\\u043a\\u0441\\u0438 \\u0432\\u0435\\u0437\\u0435\\u0442 \\u043c\\u0435\\u043d\\u044f \\u043d\\u0430 \\u0440\\u0430\\u0431\\u043e\\u0442\\u0443. \\u0420\\u0430\\u0437\\u0434\\u0443\\u043c\\u044b\\u0432\\u0430\\u044e \\u043f\\u0440\\u0438\\u043f\\u043b\\u0430\\u0442\\u0438\\u0442\\u044c, \\u0447\\u0442\\u043e\\u0431\\u044b \\u043c\\u0435\\u043d\\u044f \\u0432\\u0442\\u0430\\u0449\\u0438\\u043b\\u0438 \\u043d\\u0430 \\u043f\\u044f\\u0442\\u044b\\u0439 \\u044d\\u0442\\u0430\\u0436. \\u041b\\u0438\\u0444\\u0442\\u0430 \\u0442\\u043e \\u043d\\u0435\\u0442 :(\",\n          \"\\u0412\\u043e\\u0442 \\u0438 \\u0432 \\u0448\\u043a\\u043e\\u043b\\u0443, \\u0432 \\u0433\\u043e\\u0432\\u043d\\u043e \\u044d\\u0442\\u043e \\u0438\\u0434\\u0442\\u0438 \\u0443\\u0436\\u0435 \\u043d\\u0430\\u0434\\u043e(\"\n        ],\n        \"num_unique_values\": 5,\n        \"semantic_type\": \"\",\n        \"description\": \"\"\n      }\n    },\n    {\n      \"column\": \"label\",\n      \"properties\": {\n        \"dtype\": \"category\",\n        \"samples\": [\n          \"negative\"\n        ],\n        \"num_unique_values\": 1,\n        \"semantic_type\": \"\",\n        \"description\": \"\"\n      }\n    }\n  ]\n}"
            }
          },
          "metadata": {},
          "execution_count": 5
        }
      ]
    },
    {
      "cell_type": "markdown",
      "source": [
        "### Очистка"
      ],
      "metadata": {
        "id": "sRtno4FVgE3c"
      }
    },
    {
      "cell_type": "code",
      "source": [
        "data['text'] = data['text'].apply(lambda x: re.sub(\"@[\\w]*\", \"\", x))"
      ],
      "metadata": {
        "id": "0dAQl22RgESc"
      },
      "execution_count": null,
      "outputs": []
    },
    {
      "cell_type": "code",
      "source": [
        "data['text'] = data['text'].str.lower()"
      ],
      "metadata": {
        "id": "ALrZ16Prg3OE"
      },
      "execution_count": null,
      "outputs": []
    },
    {
      "cell_type": "code",
      "source": [
        "emoticon_dict = {\n",
        "\":)\": \"позитив\",\n",
        "\":‑)\": \"позитив\",\n",
        "\":-]\": \"позитив\",\n",
        "\":-3\": \"позитив\",\n",
        "\":->\": \"позитив\",\n",
        "\"8-)\": \"позитив\",\n",
        "\":-}\": \"позитив\",\n",
        "\":o)\": \"позитив\",\n",
        "\":c)\": \"позитив\",\n",
        "\":^)\": \"позитив\",\n",
        "\"=]\": \"позитив\",\n",
        "\"=)\": \"позитив\",\n",
        "\"<3\": \"позитив\",\n",
        "\":-(\": \"негатив\",\n",
        "\":(\": \"негатив\",\n",
        "\":c\": \"негатив\",\n",
        "\":<\": \"негатив\",\n",
        "\":[\": \"негатив\",\n",
        "\">:[\": \"негатив\",\n",
        "\":{\": \"негатив\",\n",
        "\">:(\": \"негатив\",\n",
        "\":-c\": \"негатив\",\n",
        "\":-< \": \"негатив\",\n",
        "\":-[\": \"негатив\",\n",
        "\":-||\": \"негатив\"\n",
        "}"
      ],
      "metadata": {
        "id": "V0DUk_F9hVWV"
      },
      "execution_count": null,
      "outputs": []
    },
    {
      "cell_type": "code",
      "source": [
        "def emoticon_replace(s: str) -> str:\n",
        "    for word in s.split():\n",
        "        if word in emoticon_dict.keys():\n",
        "            s = s.replace(word, emoticon_dict[word])\n",
        "    return s"
      ],
      "metadata": {
        "id": "GHHA13WvhwC0"
      },
      "execution_count": null,
      "outputs": []
    },
    {
      "cell_type": "code",
      "source": [
        "data['text'] = data['text'].apply(emoticon_replace)"
      ],
      "metadata": {
        "id": "lMkEOvAHh7XY"
      },
      "execution_count": null,
      "outputs": []
    },
    {
      "cell_type": "code",
      "source": [
        "data['text'] = data['text'].apply(lambda x: re.sub(\"[^ёа-я()]\", \" \", x))"
      ],
      "metadata": {
        "id": "Aikmdfa-icLN"
      },
      "execution_count": null,
      "outputs": []
    },
    {
      "cell_type": "code",
      "source": [
        "data['text'] = data['text'].apply(lambda x: re.sub(\"[()]\", r' \\g<0> ', x))"
      ],
      "metadata": {
        "id": "Ua9lcmCIj7hy"
      },
      "execution_count": null,
      "outputs": []
    },
    {
      "cell_type": "code",
      "source": [
        "data['text'] = data['text'].apply(lambda x: re.sub(\"\\s+\", ' ', x))"
      ],
      "metadata": {
        "id": "wOP0uDziuvQE"
      },
      "execution_count": null,
      "outputs": []
    },
    {
      "cell_type": "code",
      "source": [
        "data['text'] = data['text'].apply(lambda x: re.sub(\"\\\\n\", '', x))"
      ],
      "metadata": {
        "id": "EbGewztV14wm"
      },
      "execution_count": null,
      "outputs": []
    },
    {
      "cell_type": "code",
      "source": [
        "data['text'].head(10)"
      ],
      "metadata": {
        "colab": {
          "base_uri": "https://localhost:8080/"
        },
        "id": "f8bLfVh12AD-",
        "outputId": "7384ffc3-1ca4-40ef-aa1a-8eb8ee849fbe"
      },
      "execution_count": null,
      "outputs": [
        {
          "output_type": "execute_result",
          "data": {
            "text/plain": [
              "0     хоть я и школота но поверь у нас то же самое ...\n",
              "1    да все таки он немного похож на него но мой ма...\n",
              "2                ну ты идиотка ) я испугалась за тебя \n",
              "3     кто то в углу сидит и погибает от голода а мы...\n",
              "4     вот что значит страшилка но блин посмотрев вс...\n",
              "5              ну любишь или нет я не знаю кто ты бля \n",
              "6     ох ну это конечно же чтобы у нее было много д...\n",
              "7       у тебя есть ухажёр нет мои уши не кто не жрёт \n",
              "8              поприветствуем моего нового читателя ) \n",
              "9          теперь у меня есть частичка сиднея позитив \n",
              "Name: text, dtype: object"
            ]
          },
          "metadata": {},
          "execution_count": 15
        }
      ]
    },
    {
      "cell_type": "code",
      "source": [
        "data.iloc[0, 0]"
      ],
      "metadata": {
        "colab": {
          "base_uri": "https://localhost:8080/",
          "height": 35
        },
        "id": "DXulpEBj58bN",
        "outputId": "558b257f-cd2b-434a-c6b8-6f9d5b90444f"
      },
      "execution_count": null,
      "outputs": [
        {
          "output_type": "execute_result",
          "data": {
            "text/plain": [
              "' хоть я и школота но поверь у нас то же самое общество профилирующий предмет типа ) '"
            ],
            "application/vnd.google.colaboratory.intrinsic+json": {
              "type": "string"
            }
          },
          "metadata": {},
          "execution_count": 16
        }
      ]
    },
    {
      "cell_type": "code",
      "source": [
        "from pymystem3 import Mystem\n",
        "mystem_analyzer = Mystem()"
      ],
      "metadata": {
        "id": "-4z3usG8wt6K",
        "colab": {
          "base_uri": "https://localhost:8080/"
        },
        "outputId": "7bf07fba-b998-46fe-8948-69553c076736"
      },
      "execution_count": null,
      "outputs": [
        {
          "output_type": "stream",
          "name": "stderr",
          "text": [
            "Installing mystem to /root/.local/bin/mystem from http://download.cdn.yandex.net/mystem/mystem-3.1-linux-64bit.tar.gz\n"
          ]
        }
      ]
    },
    {
      "cell_type": "code",
      "source": [
        "data['lemma'] =  data['text'].apply(lambda x: mystem_analyzer.lemmatize(x))"
      ],
      "metadata": {
        "id": "NRxMmUC5wwPj"
      },
      "execution_count": null,
      "outputs": []
    },
    {
      "cell_type": "code",
      "source": [
        "data.iloc[0, 2]"
      ],
      "metadata": {
        "colab": {
          "base_uri": "https://localhost:8080/"
        },
        "id": "SOmo7Job6GRt",
        "outputId": "6aceb079-2df9-47e4-89e6-c66943c605a9"
      },
      "execution_count": null,
      "outputs": [
        {
          "output_type": "execute_result",
          "data": {
            "text/plain": [
              "[' ',\n",
              " 'хоть',\n",
              " ' ',\n",
              " 'я',\n",
              " ' ',\n",
              " 'и',\n",
              " ' ',\n",
              " 'школоть',\n",
              " ' ',\n",
              " 'но',\n",
              " ' ',\n",
              " 'поверять',\n",
              " ' ',\n",
              " 'у',\n",
              " ' ',\n",
              " 'мы',\n",
              " ' ',\n",
              " 'то',\n",
              " ' ',\n",
              " 'же',\n",
              " ' ',\n",
              " 'самый',\n",
              " ' ',\n",
              " 'общество',\n",
              " ' ',\n",
              " 'профилировать',\n",
              " ' ',\n",
              " 'предмет',\n",
              " ' ',\n",
              " 'тип',\n",
              " ' ) \\n']"
            ]
          },
          "metadata": {},
          "execution_count": 19
        }
      ]
    },
    {
      "cell_type": "code",
      "source": [
        "data['lemma_str'] =  data['lemma'].apply(lambda x: ''.join(x))"
      ],
      "metadata": {
        "id": "-Lj0OrPu2_No"
      },
      "execution_count": null,
      "outputs": []
    },
    {
      "cell_type": "code",
      "source": [
        "data.iloc[0, 3]"
      ],
      "metadata": {
        "colab": {
          "base_uri": "https://localhost:8080/",
          "height": 35
        },
        "id": "gbxZLVb16P1l",
        "outputId": "290c223d-ccd7-4273-c176-2d61af54ad35"
      },
      "execution_count": null,
      "outputs": [
        {
          "output_type": "execute_result",
          "data": {
            "text/plain": [
              "' хоть я и школоть но поверять у мы то же самый общество профилировать предмет тип ) \\n'"
            ],
            "application/vnd.google.colaboratory.intrinsic+json": {
              "type": "string"
            }
          },
          "metadata": {},
          "execution_count": 21
        }
      ]
    },
    {
      "cell_type": "code",
      "source": [
        "data['lemma_str'] = data['lemma_str'].apply(lambda x: re.sub(\"\\\\n\", '', x))"
      ],
      "metadata": {
        "id": "1moXGbGM6V3P"
      },
      "execution_count": null,
      "outputs": []
    },
    {
      "cell_type": "code",
      "source": [
        "data.iloc[0, 3]"
      ],
      "metadata": {
        "colab": {
          "base_uri": "https://localhost:8080/",
          "height": 35
        },
        "id": "TVmwC9so6YZm",
        "outputId": "b8e196f3-a5f1-4174-b7e1-eb78c0ca0082"
      },
      "execution_count": null,
      "outputs": [
        {
          "output_type": "execute_result",
          "data": {
            "text/plain": [
              "' хоть я и школоть но поверять у мы то же самый общество профилировать предмет тип ) '"
            ],
            "application/vnd.google.colaboratory.intrinsic+json": {
              "type": "string"
            }
          },
          "metadata": {},
          "execution_count": 23
        }
      ]
    },
    {
      "cell_type": "code",
      "source": [
        "data.head()"
      ],
      "metadata": {
        "colab": {
          "base_uri": "https://localhost:8080/",
          "height": 206
        },
        "id": "ocKAosIRgd0p",
        "outputId": "0f02767c-4384-4ff2-9aec-6d44d7800986"
      },
      "execution_count": null,
      "outputs": [
        {
          "output_type": "execute_result",
          "data": {
            "text/plain": [
              "                                                text     label  \\\n",
              "0   хоть я и школота но поверь у нас то же самое ...  positive   \n",
              "1  да все таки он немного похож на него но мой ма...  positive   \n",
              "2              ну ты идиотка ) я испугалась за тебя   positive   \n",
              "3   кто то в углу сидит и погибает от голода а мы...  positive   \n",
              "4   вот что значит страшилка но блин посмотрев вс...  positive   \n",
              "\n",
              "                                               lemma  \\\n",
              "0  [ , хоть,  , я,  , и,  , школоть,  , но,  , по...   \n",
              "1  [да,  , весь,  , таки,  , он,  , немного,  , п...   \n",
              "2  [ , ну,  , ты,  , идиотка,  ) , я,  , испугать...   \n",
              "3  [ , кто,  , то,  , в,  , угол,  , сидеть,  , и...   \n",
              "4  [ , вот,  , что,  , значить,  , страшилка,  , ...   \n",
              "\n",
              "                                           lemma_str  \n",
              "0   хоть я и школоть но поверять у мы то же самый...  \n",
              "1  да весь таки он немного похожий на он но мой м...  \n",
              "2                ну ты идиотка ) я испугаться за ты   \n",
              "3   кто то в угол сидеть и погибать от голод а мы...  \n",
              "4   вот что значить страшилка но блин посмотреть ...  "
            ],
            "text/html": [
              "\n",
              "  <div id=\"df-72de0707-b545-44c2-9ee9-6382ee7a6f68\" class=\"colab-df-container\">\n",
              "    <div>\n",
              "<style scoped>\n",
              "    .dataframe tbody tr th:only-of-type {\n",
              "        vertical-align: middle;\n",
              "    }\n",
              "\n",
              "    .dataframe tbody tr th {\n",
              "        vertical-align: top;\n",
              "    }\n",
              "\n",
              "    .dataframe thead th {\n",
              "        text-align: right;\n",
              "    }\n",
              "</style>\n",
              "<table border=\"1\" class=\"dataframe\">\n",
              "  <thead>\n",
              "    <tr style=\"text-align: right;\">\n",
              "      <th></th>\n",
              "      <th>text</th>\n",
              "      <th>label</th>\n",
              "      <th>lemma</th>\n",
              "      <th>lemma_str</th>\n",
              "    </tr>\n",
              "  </thead>\n",
              "  <tbody>\n",
              "    <tr>\n",
              "      <th>0</th>\n",
              "      <td>хоть я и школота но поверь у нас то же самое ...</td>\n",
              "      <td>positive</td>\n",
              "      <td>[ , хоть,  , я,  , и,  , школоть,  , но,  , по...</td>\n",
              "      <td>хоть я и школоть но поверять у мы то же самый...</td>\n",
              "    </tr>\n",
              "    <tr>\n",
              "      <th>1</th>\n",
              "      <td>да все таки он немного похож на него но мой ма...</td>\n",
              "      <td>positive</td>\n",
              "      <td>[да,  , весь,  , таки,  , он,  , немного,  , п...</td>\n",
              "      <td>да весь таки он немного похожий на он но мой м...</td>\n",
              "    </tr>\n",
              "    <tr>\n",
              "      <th>2</th>\n",
              "      <td>ну ты идиотка ) я испугалась за тебя</td>\n",
              "      <td>positive</td>\n",
              "      <td>[ , ну,  , ты,  , идиотка,  ) , я,  , испугать...</td>\n",
              "      <td>ну ты идиотка ) я испугаться за ты</td>\n",
              "    </tr>\n",
              "    <tr>\n",
              "      <th>3</th>\n",
              "      <td>кто то в углу сидит и погибает от голода а мы...</td>\n",
              "      <td>positive</td>\n",
              "      <td>[ , кто,  , то,  , в,  , угол,  , сидеть,  , и...</td>\n",
              "      <td>кто то в угол сидеть и погибать от голод а мы...</td>\n",
              "    </tr>\n",
              "    <tr>\n",
              "      <th>4</th>\n",
              "      <td>вот что значит страшилка но блин посмотрев вс...</td>\n",
              "      <td>positive</td>\n",
              "      <td>[ , вот,  , что,  , значить,  , страшилка,  , ...</td>\n",
              "      <td>вот что значить страшилка но блин посмотреть ...</td>\n",
              "    </tr>\n",
              "  </tbody>\n",
              "</table>\n",
              "</div>\n",
              "    <div class=\"colab-df-buttons\">\n",
              "\n",
              "  <div class=\"colab-df-container\">\n",
              "    <button class=\"colab-df-convert\" onclick=\"convertToInteractive('df-72de0707-b545-44c2-9ee9-6382ee7a6f68')\"\n",
              "            title=\"Convert this dataframe to an interactive table.\"\n",
              "            style=\"display:none;\">\n",
              "\n",
              "  <svg xmlns=\"http://www.w3.org/2000/svg\" height=\"24px\" viewBox=\"0 -960 960 960\">\n",
              "    <path d=\"M120-120v-720h720v720H120Zm60-500h600v-160H180v160Zm220 220h160v-160H400v160Zm0 220h160v-160H400v160ZM180-400h160v-160H180v160Zm440 0h160v-160H620v160ZM180-180h160v-160H180v160Zm440 0h160v-160H620v160Z\"/>\n",
              "  </svg>\n",
              "    </button>\n",
              "\n",
              "  <style>\n",
              "    .colab-df-container {\n",
              "      display:flex;\n",
              "      gap: 12px;\n",
              "    }\n",
              "\n",
              "    .colab-df-convert {\n",
              "      background-color: #E8F0FE;\n",
              "      border: none;\n",
              "      border-radius: 50%;\n",
              "      cursor: pointer;\n",
              "      display: none;\n",
              "      fill: #1967D2;\n",
              "      height: 32px;\n",
              "      padding: 0 0 0 0;\n",
              "      width: 32px;\n",
              "    }\n",
              "\n",
              "    .colab-df-convert:hover {\n",
              "      background-color: #E2EBFA;\n",
              "      box-shadow: 0px 1px 2px rgba(60, 64, 67, 0.3), 0px 1px 3px 1px rgba(60, 64, 67, 0.15);\n",
              "      fill: #174EA6;\n",
              "    }\n",
              "\n",
              "    .colab-df-buttons div {\n",
              "      margin-bottom: 4px;\n",
              "    }\n",
              "\n",
              "    [theme=dark] .colab-df-convert {\n",
              "      background-color: #3B4455;\n",
              "      fill: #D2E3FC;\n",
              "    }\n",
              "\n",
              "    [theme=dark] .colab-df-convert:hover {\n",
              "      background-color: #434B5C;\n",
              "      box-shadow: 0px 1px 3px 1px rgba(0, 0, 0, 0.15);\n",
              "      filter: drop-shadow(0px 1px 2px rgba(0, 0, 0, 0.3));\n",
              "      fill: #FFFFFF;\n",
              "    }\n",
              "  </style>\n",
              "\n",
              "    <script>\n",
              "      const buttonEl =\n",
              "        document.querySelector('#df-72de0707-b545-44c2-9ee9-6382ee7a6f68 button.colab-df-convert');\n",
              "      buttonEl.style.display =\n",
              "        google.colab.kernel.accessAllowed ? 'block' : 'none';\n",
              "\n",
              "      async function convertToInteractive(key) {\n",
              "        const element = document.querySelector('#df-72de0707-b545-44c2-9ee9-6382ee7a6f68');\n",
              "        const dataTable =\n",
              "          await google.colab.kernel.invokeFunction('convertToInteractive',\n",
              "                                                    [key], {});\n",
              "        if (!dataTable) return;\n",
              "\n",
              "        const docLinkHtml = 'Like what you see? Visit the ' +\n",
              "          '<a target=\"_blank\" href=https://colab.research.google.com/notebooks/data_table.ipynb>data table notebook</a>'\n",
              "          + ' to learn more about interactive tables.';\n",
              "        element.innerHTML = '';\n",
              "        dataTable['output_type'] = 'display_data';\n",
              "        await google.colab.output.renderOutput(dataTable, element);\n",
              "        const docLink = document.createElement('div');\n",
              "        docLink.innerHTML = docLinkHtml;\n",
              "        element.appendChild(docLink);\n",
              "      }\n",
              "    </script>\n",
              "  </div>\n",
              "\n",
              "\n",
              "<div id=\"df-85ac8473-a56f-4905-9b1d-4b5abe5dc545\">\n",
              "  <button class=\"colab-df-quickchart\" onclick=\"quickchart('df-85ac8473-a56f-4905-9b1d-4b5abe5dc545')\"\n",
              "            title=\"Suggest charts\"\n",
              "            style=\"display:none;\">\n",
              "\n",
              "<svg xmlns=\"http://www.w3.org/2000/svg\" height=\"24px\"viewBox=\"0 0 24 24\"\n",
              "     width=\"24px\">\n",
              "    <g>\n",
              "        <path d=\"M19 3H5c-1.1 0-2 .9-2 2v14c0 1.1.9 2 2 2h14c1.1 0 2-.9 2-2V5c0-1.1-.9-2-2-2zM9 17H7v-7h2v7zm4 0h-2V7h2v10zm4 0h-2v-4h2v4z\"/>\n",
              "    </g>\n",
              "</svg>\n",
              "  </button>\n",
              "\n",
              "<style>\n",
              "  .colab-df-quickchart {\n",
              "      --bg-color: #E8F0FE;\n",
              "      --fill-color: #1967D2;\n",
              "      --hover-bg-color: #E2EBFA;\n",
              "      --hover-fill-color: #174EA6;\n",
              "      --disabled-fill-color: #AAA;\n",
              "      --disabled-bg-color: #DDD;\n",
              "  }\n",
              "\n",
              "  [theme=dark] .colab-df-quickchart {\n",
              "      --bg-color: #3B4455;\n",
              "      --fill-color: #D2E3FC;\n",
              "      --hover-bg-color: #434B5C;\n",
              "      --hover-fill-color: #FFFFFF;\n",
              "      --disabled-bg-color: #3B4455;\n",
              "      --disabled-fill-color: #666;\n",
              "  }\n",
              "\n",
              "  .colab-df-quickchart {\n",
              "    background-color: var(--bg-color);\n",
              "    border: none;\n",
              "    border-radius: 50%;\n",
              "    cursor: pointer;\n",
              "    display: none;\n",
              "    fill: var(--fill-color);\n",
              "    height: 32px;\n",
              "    padding: 0;\n",
              "    width: 32px;\n",
              "  }\n",
              "\n",
              "  .colab-df-quickchart:hover {\n",
              "    background-color: var(--hover-bg-color);\n",
              "    box-shadow: 0 1px 2px rgba(60, 64, 67, 0.3), 0 1px 3px 1px rgba(60, 64, 67, 0.15);\n",
              "    fill: var(--button-hover-fill-color);\n",
              "  }\n",
              "\n",
              "  .colab-df-quickchart-complete:disabled,\n",
              "  .colab-df-quickchart-complete:disabled:hover {\n",
              "    background-color: var(--disabled-bg-color);\n",
              "    fill: var(--disabled-fill-color);\n",
              "    box-shadow: none;\n",
              "  }\n",
              "\n",
              "  .colab-df-spinner {\n",
              "    border: 2px solid var(--fill-color);\n",
              "    border-color: transparent;\n",
              "    border-bottom-color: var(--fill-color);\n",
              "    animation:\n",
              "      spin 1s steps(1) infinite;\n",
              "  }\n",
              "\n",
              "  @keyframes spin {\n",
              "    0% {\n",
              "      border-color: transparent;\n",
              "      border-bottom-color: var(--fill-color);\n",
              "      border-left-color: var(--fill-color);\n",
              "    }\n",
              "    20% {\n",
              "      border-color: transparent;\n",
              "      border-left-color: var(--fill-color);\n",
              "      border-top-color: var(--fill-color);\n",
              "    }\n",
              "    30% {\n",
              "      border-color: transparent;\n",
              "      border-left-color: var(--fill-color);\n",
              "      border-top-color: var(--fill-color);\n",
              "      border-right-color: var(--fill-color);\n",
              "    }\n",
              "    40% {\n",
              "      border-color: transparent;\n",
              "      border-right-color: var(--fill-color);\n",
              "      border-top-color: var(--fill-color);\n",
              "    }\n",
              "    60% {\n",
              "      border-color: transparent;\n",
              "      border-right-color: var(--fill-color);\n",
              "    }\n",
              "    80% {\n",
              "      border-color: transparent;\n",
              "      border-right-color: var(--fill-color);\n",
              "      border-bottom-color: var(--fill-color);\n",
              "    }\n",
              "    90% {\n",
              "      border-color: transparent;\n",
              "      border-bottom-color: var(--fill-color);\n",
              "    }\n",
              "  }\n",
              "</style>\n",
              "\n",
              "  <script>\n",
              "    async function quickchart(key) {\n",
              "      const quickchartButtonEl =\n",
              "        document.querySelector('#' + key + ' button');\n",
              "      quickchartButtonEl.disabled = true;  // To prevent multiple clicks.\n",
              "      quickchartButtonEl.classList.add('colab-df-spinner');\n",
              "      try {\n",
              "        const charts = await google.colab.kernel.invokeFunction(\n",
              "            'suggestCharts', [key], {});\n",
              "      } catch (error) {\n",
              "        console.error('Error during call to suggestCharts:', error);\n",
              "      }\n",
              "      quickchartButtonEl.classList.remove('colab-df-spinner');\n",
              "      quickchartButtonEl.classList.add('colab-df-quickchart-complete');\n",
              "    }\n",
              "    (() => {\n",
              "      let quickchartButtonEl =\n",
              "        document.querySelector('#df-85ac8473-a56f-4905-9b1d-4b5abe5dc545 button');\n",
              "      quickchartButtonEl.style.display =\n",
              "        google.colab.kernel.accessAllowed ? 'block' : 'none';\n",
              "    })();\n",
              "  </script>\n",
              "</div>\n",
              "    </div>\n",
              "  </div>\n"
            ],
            "application/vnd.google.colaboratory.intrinsic+json": {
              "type": "dataframe",
              "variable_name": "data"
            }
          },
          "metadata": {},
          "execution_count": 24
        }
      ]
    },
    {
      "cell_type": "code",
      "source": [
        "data.tail()"
      ],
      "metadata": {
        "colab": {
          "base_uri": "https://localhost:8080/",
          "height": 206
        },
        "id": "W30ZVpYXzGCg",
        "outputId": "409b7f14-903a-430a-c6c7-1a01bfd25f2e"
      },
      "execution_count": null,
      "outputs": [
        {
          "output_type": "execute_result",
          "data": {
            "text/plain": [
              "                                                     text     label  \\\n",
              "111918            но не каждый хочет что то исправлять (   negative   \n",
              "111919  скучаю так негатив только вправляет мозги но я...  negative   \n",
              "111920         вот и в школу в говно это идти уже надо (   negative   \n",
              "111921                  тауриэль не грусти негатив обнял   negative   \n",
              "111922  такси везет меня на работу раздумываю приплати...  negative   \n",
              "\n",
              "                                                    lemma  \\\n",
              "111918  [но,  , не,  , каждый,  , хотеть,  , что,  , т...   \n",
              "111919  [скучать,  , так,  , негатив,  , только,  , вп...   \n",
              "111920  [вот,  , и,  , в,  , школа,  , в,  , гавно,  ,...   \n",
              "111921  [ , тауриэль,  , не,  , грустить,  , негатив, ...   \n",
              "111922  [такси,  , везти,  , я,  , на,  , работа,  , р...   \n",
              "\n",
              "                                                lemma_str  \n",
              "111918           но не каждый хотеть что то исправлять (   \n",
              "111919  скучать так негатив только вправлять мозги но ...  \n",
              "111920         вот и в школа в гавно это идти уже надо (   \n",
              "111921             тауриэль не грустить негатив обнимать   \n",
              "111922  такси везти я на работа раздумывать приплачива...  "
            ],
            "text/html": [
              "\n",
              "  <div id=\"df-2a714256-fd85-4b5e-b4f4-05cce8412913\" class=\"colab-df-container\">\n",
              "    <div>\n",
              "<style scoped>\n",
              "    .dataframe tbody tr th:only-of-type {\n",
              "        vertical-align: middle;\n",
              "    }\n",
              "\n",
              "    .dataframe tbody tr th {\n",
              "        vertical-align: top;\n",
              "    }\n",
              "\n",
              "    .dataframe thead th {\n",
              "        text-align: right;\n",
              "    }\n",
              "</style>\n",
              "<table border=\"1\" class=\"dataframe\">\n",
              "  <thead>\n",
              "    <tr style=\"text-align: right;\">\n",
              "      <th></th>\n",
              "      <th>text</th>\n",
              "      <th>label</th>\n",
              "      <th>lemma</th>\n",
              "      <th>lemma_str</th>\n",
              "    </tr>\n",
              "  </thead>\n",
              "  <tbody>\n",
              "    <tr>\n",
              "      <th>111918</th>\n",
              "      <td>но не каждый хочет что то исправлять (</td>\n",
              "      <td>negative</td>\n",
              "      <td>[но,  , не,  , каждый,  , хотеть,  , что,  , т...</td>\n",
              "      <td>но не каждый хотеть что то исправлять (</td>\n",
              "    </tr>\n",
              "    <tr>\n",
              "      <th>111919</th>\n",
              "      <td>скучаю так негатив только вправляет мозги но я...</td>\n",
              "      <td>negative</td>\n",
              "      <td>[скучать,  , так,  , негатив,  , только,  , вп...</td>\n",
              "      <td>скучать так негатив только вправлять мозги но ...</td>\n",
              "    </tr>\n",
              "    <tr>\n",
              "      <th>111920</th>\n",
              "      <td>вот и в школу в говно это идти уже надо (</td>\n",
              "      <td>negative</td>\n",
              "      <td>[вот,  , и,  , в,  , школа,  , в,  , гавно,  ,...</td>\n",
              "      <td>вот и в школа в гавно это идти уже надо (</td>\n",
              "    </tr>\n",
              "    <tr>\n",
              "      <th>111921</th>\n",
              "      <td>тауриэль не грусти негатив обнял</td>\n",
              "      <td>negative</td>\n",
              "      <td>[ , тауриэль,  , не,  , грустить,  , негатив, ...</td>\n",
              "      <td>тауриэль не грустить негатив обнимать</td>\n",
              "    </tr>\n",
              "    <tr>\n",
              "      <th>111922</th>\n",
              "      <td>такси везет меня на работу раздумываю приплати...</td>\n",
              "      <td>negative</td>\n",
              "      <td>[такси,  , везти,  , я,  , на,  , работа,  , р...</td>\n",
              "      <td>такси везти я на работа раздумывать приплачива...</td>\n",
              "    </tr>\n",
              "  </tbody>\n",
              "</table>\n",
              "</div>\n",
              "    <div class=\"colab-df-buttons\">\n",
              "\n",
              "  <div class=\"colab-df-container\">\n",
              "    <button class=\"colab-df-convert\" onclick=\"convertToInteractive('df-2a714256-fd85-4b5e-b4f4-05cce8412913')\"\n",
              "            title=\"Convert this dataframe to an interactive table.\"\n",
              "            style=\"display:none;\">\n",
              "\n",
              "  <svg xmlns=\"http://www.w3.org/2000/svg\" height=\"24px\" viewBox=\"0 -960 960 960\">\n",
              "    <path d=\"M120-120v-720h720v720H120Zm60-500h600v-160H180v160Zm220 220h160v-160H400v160Zm0 220h160v-160H400v160ZM180-400h160v-160H180v160Zm440 0h160v-160H620v160ZM180-180h160v-160H180v160Zm440 0h160v-160H620v160Z\"/>\n",
              "  </svg>\n",
              "    </button>\n",
              "\n",
              "  <style>\n",
              "    .colab-df-container {\n",
              "      display:flex;\n",
              "      gap: 12px;\n",
              "    }\n",
              "\n",
              "    .colab-df-convert {\n",
              "      background-color: #E8F0FE;\n",
              "      border: none;\n",
              "      border-radius: 50%;\n",
              "      cursor: pointer;\n",
              "      display: none;\n",
              "      fill: #1967D2;\n",
              "      height: 32px;\n",
              "      padding: 0 0 0 0;\n",
              "      width: 32px;\n",
              "    }\n",
              "\n",
              "    .colab-df-convert:hover {\n",
              "      background-color: #E2EBFA;\n",
              "      box-shadow: 0px 1px 2px rgba(60, 64, 67, 0.3), 0px 1px 3px 1px rgba(60, 64, 67, 0.15);\n",
              "      fill: #174EA6;\n",
              "    }\n",
              "\n",
              "    .colab-df-buttons div {\n",
              "      margin-bottom: 4px;\n",
              "    }\n",
              "\n",
              "    [theme=dark] .colab-df-convert {\n",
              "      background-color: #3B4455;\n",
              "      fill: #D2E3FC;\n",
              "    }\n",
              "\n",
              "    [theme=dark] .colab-df-convert:hover {\n",
              "      background-color: #434B5C;\n",
              "      box-shadow: 0px 1px 3px 1px rgba(0, 0, 0, 0.15);\n",
              "      filter: drop-shadow(0px 1px 2px rgba(0, 0, 0, 0.3));\n",
              "      fill: #FFFFFF;\n",
              "    }\n",
              "  </style>\n",
              "\n",
              "    <script>\n",
              "      const buttonEl =\n",
              "        document.querySelector('#df-2a714256-fd85-4b5e-b4f4-05cce8412913 button.colab-df-convert');\n",
              "      buttonEl.style.display =\n",
              "        google.colab.kernel.accessAllowed ? 'block' : 'none';\n",
              "\n",
              "      async function convertToInteractive(key) {\n",
              "        const element = document.querySelector('#df-2a714256-fd85-4b5e-b4f4-05cce8412913');\n",
              "        const dataTable =\n",
              "          await google.colab.kernel.invokeFunction('convertToInteractive',\n",
              "                                                    [key], {});\n",
              "        if (!dataTable) return;\n",
              "\n",
              "        const docLinkHtml = 'Like what you see? Visit the ' +\n",
              "          '<a target=\"_blank\" href=https://colab.research.google.com/notebooks/data_table.ipynb>data table notebook</a>'\n",
              "          + ' to learn more about interactive tables.';\n",
              "        element.innerHTML = '';\n",
              "        dataTable['output_type'] = 'display_data';\n",
              "        await google.colab.output.renderOutput(dataTable, element);\n",
              "        const docLink = document.createElement('div');\n",
              "        docLink.innerHTML = docLinkHtml;\n",
              "        element.appendChild(docLink);\n",
              "      }\n",
              "    </script>\n",
              "  </div>\n",
              "\n",
              "\n",
              "<div id=\"df-593fe390-24c0-42fb-89eb-0fb0a529e155\">\n",
              "  <button class=\"colab-df-quickchart\" onclick=\"quickchart('df-593fe390-24c0-42fb-89eb-0fb0a529e155')\"\n",
              "            title=\"Suggest charts\"\n",
              "            style=\"display:none;\">\n",
              "\n",
              "<svg xmlns=\"http://www.w3.org/2000/svg\" height=\"24px\"viewBox=\"0 0 24 24\"\n",
              "     width=\"24px\">\n",
              "    <g>\n",
              "        <path d=\"M19 3H5c-1.1 0-2 .9-2 2v14c0 1.1.9 2 2 2h14c1.1 0 2-.9 2-2V5c0-1.1-.9-2-2-2zM9 17H7v-7h2v7zm4 0h-2V7h2v10zm4 0h-2v-4h2v4z\"/>\n",
              "    </g>\n",
              "</svg>\n",
              "  </button>\n",
              "\n",
              "<style>\n",
              "  .colab-df-quickchart {\n",
              "      --bg-color: #E8F0FE;\n",
              "      --fill-color: #1967D2;\n",
              "      --hover-bg-color: #E2EBFA;\n",
              "      --hover-fill-color: #174EA6;\n",
              "      --disabled-fill-color: #AAA;\n",
              "      --disabled-bg-color: #DDD;\n",
              "  }\n",
              "\n",
              "  [theme=dark] .colab-df-quickchart {\n",
              "      --bg-color: #3B4455;\n",
              "      --fill-color: #D2E3FC;\n",
              "      --hover-bg-color: #434B5C;\n",
              "      --hover-fill-color: #FFFFFF;\n",
              "      --disabled-bg-color: #3B4455;\n",
              "      --disabled-fill-color: #666;\n",
              "  }\n",
              "\n",
              "  .colab-df-quickchart {\n",
              "    background-color: var(--bg-color);\n",
              "    border: none;\n",
              "    border-radius: 50%;\n",
              "    cursor: pointer;\n",
              "    display: none;\n",
              "    fill: var(--fill-color);\n",
              "    height: 32px;\n",
              "    padding: 0;\n",
              "    width: 32px;\n",
              "  }\n",
              "\n",
              "  .colab-df-quickchart:hover {\n",
              "    background-color: var(--hover-bg-color);\n",
              "    box-shadow: 0 1px 2px rgba(60, 64, 67, 0.3), 0 1px 3px 1px rgba(60, 64, 67, 0.15);\n",
              "    fill: var(--button-hover-fill-color);\n",
              "  }\n",
              "\n",
              "  .colab-df-quickchart-complete:disabled,\n",
              "  .colab-df-quickchart-complete:disabled:hover {\n",
              "    background-color: var(--disabled-bg-color);\n",
              "    fill: var(--disabled-fill-color);\n",
              "    box-shadow: none;\n",
              "  }\n",
              "\n",
              "  .colab-df-spinner {\n",
              "    border: 2px solid var(--fill-color);\n",
              "    border-color: transparent;\n",
              "    border-bottom-color: var(--fill-color);\n",
              "    animation:\n",
              "      spin 1s steps(1) infinite;\n",
              "  }\n",
              "\n",
              "  @keyframes spin {\n",
              "    0% {\n",
              "      border-color: transparent;\n",
              "      border-bottom-color: var(--fill-color);\n",
              "      border-left-color: var(--fill-color);\n",
              "    }\n",
              "    20% {\n",
              "      border-color: transparent;\n",
              "      border-left-color: var(--fill-color);\n",
              "      border-top-color: var(--fill-color);\n",
              "    }\n",
              "    30% {\n",
              "      border-color: transparent;\n",
              "      border-left-color: var(--fill-color);\n",
              "      border-top-color: var(--fill-color);\n",
              "      border-right-color: var(--fill-color);\n",
              "    }\n",
              "    40% {\n",
              "      border-color: transparent;\n",
              "      border-right-color: var(--fill-color);\n",
              "      border-top-color: var(--fill-color);\n",
              "    }\n",
              "    60% {\n",
              "      border-color: transparent;\n",
              "      border-right-color: var(--fill-color);\n",
              "    }\n",
              "    80% {\n",
              "      border-color: transparent;\n",
              "      border-right-color: var(--fill-color);\n",
              "      border-bottom-color: var(--fill-color);\n",
              "    }\n",
              "    90% {\n",
              "      border-color: transparent;\n",
              "      border-bottom-color: var(--fill-color);\n",
              "    }\n",
              "  }\n",
              "</style>\n",
              "\n",
              "  <script>\n",
              "    async function quickchart(key) {\n",
              "      const quickchartButtonEl =\n",
              "        document.querySelector('#' + key + ' button');\n",
              "      quickchartButtonEl.disabled = true;  // To prevent multiple clicks.\n",
              "      quickchartButtonEl.classList.add('colab-df-spinner');\n",
              "      try {\n",
              "        const charts = await google.colab.kernel.invokeFunction(\n",
              "            'suggestCharts', [key], {});\n",
              "      } catch (error) {\n",
              "        console.error('Error during call to suggestCharts:', error);\n",
              "      }\n",
              "      quickchartButtonEl.classList.remove('colab-df-spinner');\n",
              "      quickchartButtonEl.classList.add('colab-df-quickchart-complete');\n",
              "    }\n",
              "    (() => {\n",
              "      let quickchartButtonEl =\n",
              "        document.querySelector('#df-593fe390-24c0-42fb-89eb-0fb0a529e155 button');\n",
              "      quickchartButtonEl.style.display =\n",
              "        google.colab.kernel.accessAllowed ? 'block' : 'none';\n",
              "    })();\n",
              "  </script>\n",
              "</div>\n",
              "    </div>\n",
              "  </div>\n"
            ],
            "application/vnd.google.colaboratory.intrinsic+json": {
              "type": "dataframe",
              "repr_error": "unhashable type: 'list'"
            }
          },
          "metadata": {},
          "execution_count": 25
        }
      ]
    },
    {
      "cell_type": "code",
      "source": [
        "data['lemma'] =  data['lemma_str'].apply(lambda x: x.split())"
      ],
      "metadata": {
        "id": "nHhT0ei3o338"
      },
      "execution_count": null,
      "outputs": []
    },
    {
      "cell_type": "code",
      "source": [
        "from nltk.corpus import stopwords"
      ],
      "metadata": {
        "colab": {
          "base_uri": "https://localhost:8080/"
        },
        "id": "EodQvKnS82tA",
        "outputId": "5bdb78fd-4782-479f-dfbc-11c89d6f5e9b"
      },
      "execution_count": null,
      "outputs": [
        {
          "output_type": "stream",
          "name": "stderr",
          "text": [
            "/usr/local/lib/python3.10/dist-packages/ipykernel/ipkernel.py:283: DeprecationWarning: `should_run_async` will not call `transform_cell` automatically in the future. Please pass the result to `transformed_cell` argument and any exception that happen during thetransform in `preprocessing_exc_tuple` in IPython 7.17 and above.\n",
            "  and should_run_async(code)\n"
          ]
        }
      ]
    },
    {
      "cell_type": "code",
      "source": [
        "import nltk\n",
        "nltk.download('stopwords')"
      ],
      "metadata": {
        "colab": {
          "base_uri": "https://localhost:8080/"
        },
        "id": "15Q09hH287cK",
        "outputId": "e968960f-d8a6-47d1-a99b-2a6c5f6198f3"
      },
      "execution_count": null,
      "outputs": [
        {
          "output_type": "stream",
          "name": "stderr",
          "text": [
            "/usr/local/lib/python3.10/dist-packages/ipykernel/ipkernel.py:283: DeprecationWarning: `should_run_async` will not call `transform_cell` automatically in the future. Please pass the result to `transformed_cell` argument and any exception that happen during thetransform in `preprocessing_exc_tuple` in IPython 7.17 and above.\n",
            "  and should_run_async(code)\n",
            "[nltk_data] Downloading package stopwords to /root/nltk_data...\n",
            "[nltk_data]   Unzipping corpora/stopwords.zip.\n"
          ]
        },
        {
          "output_type": "execute_result",
          "data": {
            "text/plain": [
              "True"
            ]
          },
          "metadata": {},
          "execution_count": 81
        }
      ]
    },
    {
      "cell_type": "code",
      "source": [
        "stopwords_list = stopwords.words('russian')"
      ],
      "metadata": {
        "colab": {
          "base_uri": "https://localhost:8080/"
        },
        "id": "T2UXkAE68qti",
        "outputId": "cf4ab354-4f9a-45da-994b-31e5b7a1cb53"
      },
      "execution_count": null,
      "outputs": [
        {
          "output_type": "stream",
          "name": "stderr",
          "text": [
            "/usr/local/lib/python3.10/dist-packages/ipykernel/ipkernel.py:283: DeprecationWarning: `should_run_async` will not call `transform_cell` automatically in the future. Please pass the result to `transformed_cell` argument and any exception that happen during thetransform in `preprocessing_exc_tuple` in IPython 7.17 and above.\n",
            "  and should_run_async(code)\n"
          ]
        }
      ]
    },
    {
      "cell_type": "code",
      "source": [
        "data['lemma_gr3'] =  data['lemma'].apply(lambda x: [w for w in x if x not in stopwords_list and len(w) >= 3 or w == '(' or w == ')'])"
      ],
      "metadata": {
        "colab": {
          "base_uri": "https://localhost:8080/"
        },
        "id": "SePuUEF96s5I",
        "outputId": "8d2241df-247d-414d-941d-328f72ff6802"
      },
      "execution_count": null,
      "outputs": [
        {
          "output_type": "stream",
          "name": "stderr",
          "text": [
            "/usr/local/lib/python3.10/dist-packages/ipykernel/ipkernel.py:283: DeprecationWarning: `should_run_async` will not call `transform_cell` automatically in the future. Please pass the result to `transformed_cell` argument and any exception that happen during thetransform in `preprocessing_exc_tuple` in IPython 7.17 and above.\n",
            "  and should_run_async(code)\n"
          ]
        }
      ]
    },
    {
      "cell_type": "code",
      "source": [
        "data.head()"
      ],
      "metadata": {
        "colab": {
          "base_uri": "https://localhost:8080/",
          "height": 348
        },
        "id": "eQrCBNyPpTqc",
        "outputId": "28f7818a-84a3-4dc3-8941-413b76a1b201"
      },
      "execution_count": null,
      "outputs": [
        {
          "output_type": "stream",
          "name": "stderr",
          "text": [
            "/usr/local/lib/python3.10/dist-packages/ipykernel/ipkernel.py:283: DeprecationWarning: `should_run_async` will not call `transform_cell` automatically in the future. Please pass the result to `transformed_cell` argument and any exception that happen during thetransform in `preprocessing_exc_tuple` in IPython 7.17 and above.\n",
            "  and should_run_async(code)\n"
          ]
        },
        {
          "output_type": "execute_result",
          "data": {
            "text/plain": [
              "                                                text     label  \\\n",
              "0   хоть я и школота но поверь у нас то же самое ...  positive   \n",
              "1  да все таки он немного похож на него но мой ма...  positive   \n",
              "2              ну ты идиотка ) я испугалась за тебя   positive   \n",
              "3   кто то в углу сидит и погибает от голода а мы...  positive   \n",
              "4   вот что значит страшилка но блин посмотрев вс...  positive   \n",
              "\n",
              "                                               lemma  \\\n",
              "0  [хоть, я, и, школоть, но, поверять, у, мы, то,...   \n",
              "1  [да, весь, таки, он, немного, похожий, на, он,...   \n",
              "2        [ну, ты, идиотка, ), я, испугаться, за, ты]   \n",
              "3  [кто, то, в, угол, сидеть, и, погибать, от, го...   \n",
              "4  [вот, что, значить, страшилка, но, блин, посмо...   \n",
              "\n",
              "                                           lemma_str  \\\n",
              "0   хоть я и школоть но поверять у мы то же самый...   \n",
              "1  да весь таки он немного похожий на он но мой м...   \n",
              "2                ну ты идиотка ) я испугаться за ты    \n",
              "3   кто то в угол сидеть и погибать от голод а мы...   \n",
              "4   вот что значить страшилка но блин посмотреть ...   \n",
              "\n",
              "                                           lemma_gr3  \n",
              "0  [хоть, школоть, поверять, самый, общество, про...  \n",
              "1  [весь, таки, немного, похожий, мой, мальчик, в...  \n",
              "2                           [идиотка, ), испугаться]  \n",
              "3  [кто, угол, сидеть, погибать, голод, еще, порц...  \n",
              "4  [вот, что, значить, страшилка, блин, посмотрет...  "
            ],
            "text/html": [
              "\n",
              "  <div id=\"df-bd882149-71be-4d16-b186-c897f99d6551\" class=\"colab-df-container\">\n",
              "    <div>\n",
              "<style scoped>\n",
              "    .dataframe tbody tr th:only-of-type {\n",
              "        vertical-align: middle;\n",
              "    }\n",
              "\n",
              "    .dataframe tbody tr th {\n",
              "        vertical-align: top;\n",
              "    }\n",
              "\n",
              "    .dataframe thead th {\n",
              "        text-align: right;\n",
              "    }\n",
              "</style>\n",
              "<table border=\"1\" class=\"dataframe\">\n",
              "  <thead>\n",
              "    <tr style=\"text-align: right;\">\n",
              "      <th></th>\n",
              "      <th>text</th>\n",
              "      <th>label</th>\n",
              "      <th>lemma</th>\n",
              "      <th>lemma_str</th>\n",
              "      <th>lemma_gr3</th>\n",
              "    </tr>\n",
              "  </thead>\n",
              "  <tbody>\n",
              "    <tr>\n",
              "      <th>0</th>\n",
              "      <td>хоть я и школота но поверь у нас то же самое ...</td>\n",
              "      <td>positive</td>\n",
              "      <td>[хоть, я, и, школоть, но, поверять, у, мы, то,...</td>\n",
              "      <td>хоть я и школоть но поверять у мы то же самый...</td>\n",
              "      <td>[хоть, школоть, поверять, самый, общество, про...</td>\n",
              "    </tr>\n",
              "    <tr>\n",
              "      <th>1</th>\n",
              "      <td>да все таки он немного похож на него но мой ма...</td>\n",
              "      <td>positive</td>\n",
              "      <td>[да, весь, таки, он, немного, похожий, на, он,...</td>\n",
              "      <td>да весь таки он немного похожий на он но мой м...</td>\n",
              "      <td>[весь, таки, немного, похожий, мой, мальчик, в...</td>\n",
              "    </tr>\n",
              "    <tr>\n",
              "      <th>2</th>\n",
              "      <td>ну ты идиотка ) я испугалась за тебя</td>\n",
              "      <td>positive</td>\n",
              "      <td>[ну, ты, идиотка, ), я, испугаться, за, ты]</td>\n",
              "      <td>ну ты идиотка ) я испугаться за ты</td>\n",
              "      <td>[идиотка, ), испугаться]</td>\n",
              "    </tr>\n",
              "    <tr>\n",
              "      <th>3</th>\n",
              "      <td>кто то в углу сидит и погибает от голода а мы...</td>\n",
              "      <td>positive</td>\n",
              "      <td>[кто, то, в, угол, сидеть, и, погибать, от, го...</td>\n",
              "      <td>кто то в угол сидеть и погибать от голод а мы...</td>\n",
              "      <td>[кто, угол, сидеть, погибать, голод, еще, порц...</td>\n",
              "    </tr>\n",
              "    <tr>\n",
              "      <th>4</th>\n",
              "      <td>вот что значит страшилка но блин посмотрев вс...</td>\n",
              "      <td>positive</td>\n",
              "      <td>[вот, что, значить, страшилка, но, блин, посмо...</td>\n",
              "      <td>вот что значить страшилка но блин посмотреть ...</td>\n",
              "      <td>[вот, что, значить, страшилка, блин, посмотрет...</td>\n",
              "    </tr>\n",
              "  </tbody>\n",
              "</table>\n",
              "</div>\n",
              "    <div class=\"colab-df-buttons\">\n",
              "\n",
              "  <div class=\"colab-df-container\">\n",
              "    <button class=\"colab-df-convert\" onclick=\"convertToInteractive('df-bd882149-71be-4d16-b186-c897f99d6551')\"\n",
              "            title=\"Convert this dataframe to an interactive table.\"\n",
              "            style=\"display:none;\">\n",
              "\n",
              "  <svg xmlns=\"http://www.w3.org/2000/svg\" height=\"24px\" viewBox=\"0 -960 960 960\">\n",
              "    <path d=\"M120-120v-720h720v720H120Zm60-500h600v-160H180v160Zm220 220h160v-160H400v160Zm0 220h160v-160H400v160ZM180-400h160v-160H180v160Zm440 0h160v-160H620v160ZM180-180h160v-160H180v160Zm440 0h160v-160H620v160Z\"/>\n",
              "  </svg>\n",
              "    </button>\n",
              "\n",
              "  <style>\n",
              "    .colab-df-container {\n",
              "      display:flex;\n",
              "      gap: 12px;\n",
              "    }\n",
              "\n",
              "    .colab-df-convert {\n",
              "      background-color: #E8F0FE;\n",
              "      border: none;\n",
              "      border-radius: 50%;\n",
              "      cursor: pointer;\n",
              "      display: none;\n",
              "      fill: #1967D2;\n",
              "      height: 32px;\n",
              "      padding: 0 0 0 0;\n",
              "      width: 32px;\n",
              "    }\n",
              "\n",
              "    .colab-df-convert:hover {\n",
              "      background-color: #E2EBFA;\n",
              "      box-shadow: 0px 1px 2px rgba(60, 64, 67, 0.3), 0px 1px 3px 1px rgba(60, 64, 67, 0.15);\n",
              "      fill: #174EA6;\n",
              "    }\n",
              "\n",
              "    .colab-df-buttons div {\n",
              "      margin-bottom: 4px;\n",
              "    }\n",
              "\n",
              "    [theme=dark] .colab-df-convert {\n",
              "      background-color: #3B4455;\n",
              "      fill: #D2E3FC;\n",
              "    }\n",
              "\n",
              "    [theme=dark] .colab-df-convert:hover {\n",
              "      background-color: #434B5C;\n",
              "      box-shadow: 0px 1px 3px 1px rgba(0, 0, 0, 0.15);\n",
              "      filter: drop-shadow(0px 1px 2px rgba(0, 0, 0, 0.3));\n",
              "      fill: #FFFFFF;\n",
              "    }\n",
              "  </style>\n",
              "\n",
              "    <script>\n",
              "      const buttonEl =\n",
              "        document.querySelector('#df-bd882149-71be-4d16-b186-c897f99d6551 button.colab-df-convert');\n",
              "      buttonEl.style.display =\n",
              "        google.colab.kernel.accessAllowed ? 'block' : 'none';\n",
              "\n",
              "      async function convertToInteractive(key) {\n",
              "        const element = document.querySelector('#df-bd882149-71be-4d16-b186-c897f99d6551');\n",
              "        const dataTable =\n",
              "          await google.colab.kernel.invokeFunction('convertToInteractive',\n",
              "                                                    [key], {});\n",
              "        if (!dataTable) return;\n",
              "\n",
              "        const docLinkHtml = 'Like what you see? Visit the ' +\n",
              "          '<a target=\"_blank\" href=https://colab.research.google.com/notebooks/data_table.ipynb>data table notebook</a>'\n",
              "          + ' to learn more about interactive tables.';\n",
              "        element.innerHTML = '';\n",
              "        dataTable['output_type'] = 'display_data';\n",
              "        await google.colab.output.renderOutput(dataTable, element);\n",
              "        const docLink = document.createElement('div');\n",
              "        docLink.innerHTML = docLinkHtml;\n",
              "        element.appendChild(docLink);\n",
              "      }\n",
              "    </script>\n",
              "  </div>\n",
              "\n",
              "\n",
              "<div id=\"df-1f9c08de-1f3d-42ec-82ab-b079a9777015\">\n",
              "  <button class=\"colab-df-quickchart\" onclick=\"quickchart('df-1f9c08de-1f3d-42ec-82ab-b079a9777015')\"\n",
              "            title=\"Suggest charts\"\n",
              "            style=\"display:none;\">\n",
              "\n",
              "<svg xmlns=\"http://www.w3.org/2000/svg\" height=\"24px\"viewBox=\"0 0 24 24\"\n",
              "     width=\"24px\">\n",
              "    <g>\n",
              "        <path d=\"M19 3H5c-1.1 0-2 .9-2 2v14c0 1.1.9 2 2 2h14c1.1 0 2-.9 2-2V5c0-1.1-.9-2-2-2zM9 17H7v-7h2v7zm4 0h-2V7h2v10zm4 0h-2v-4h2v4z\"/>\n",
              "    </g>\n",
              "</svg>\n",
              "  </button>\n",
              "\n",
              "<style>\n",
              "  .colab-df-quickchart {\n",
              "      --bg-color: #E8F0FE;\n",
              "      --fill-color: #1967D2;\n",
              "      --hover-bg-color: #E2EBFA;\n",
              "      --hover-fill-color: #174EA6;\n",
              "      --disabled-fill-color: #AAA;\n",
              "      --disabled-bg-color: #DDD;\n",
              "  }\n",
              "\n",
              "  [theme=dark] .colab-df-quickchart {\n",
              "      --bg-color: #3B4455;\n",
              "      --fill-color: #D2E3FC;\n",
              "      --hover-bg-color: #434B5C;\n",
              "      --hover-fill-color: #FFFFFF;\n",
              "      --disabled-bg-color: #3B4455;\n",
              "      --disabled-fill-color: #666;\n",
              "  }\n",
              "\n",
              "  .colab-df-quickchart {\n",
              "    background-color: var(--bg-color);\n",
              "    border: none;\n",
              "    border-radius: 50%;\n",
              "    cursor: pointer;\n",
              "    display: none;\n",
              "    fill: var(--fill-color);\n",
              "    height: 32px;\n",
              "    padding: 0;\n",
              "    width: 32px;\n",
              "  }\n",
              "\n",
              "  .colab-df-quickchart:hover {\n",
              "    background-color: var(--hover-bg-color);\n",
              "    box-shadow: 0 1px 2px rgba(60, 64, 67, 0.3), 0 1px 3px 1px rgba(60, 64, 67, 0.15);\n",
              "    fill: var(--button-hover-fill-color);\n",
              "  }\n",
              "\n",
              "  .colab-df-quickchart-complete:disabled,\n",
              "  .colab-df-quickchart-complete:disabled:hover {\n",
              "    background-color: var(--disabled-bg-color);\n",
              "    fill: var(--disabled-fill-color);\n",
              "    box-shadow: none;\n",
              "  }\n",
              "\n",
              "  .colab-df-spinner {\n",
              "    border: 2px solid var(--fill-color);\n",
              "    border-color: transparent;\n",
              "    border-bottom-color: var(--fill-color);\n",
              "    animation:\n",
              "      spin 1s steps(1) infinite;\n",
              "  }\n",
              "\n",
              "  @keyframes spin {\n",
              "    0% {\n",
              "      border-color: transparent;\n",
              "      border-bottom-color: var(--fill-color);\n",
              "      border-left-color: var(--fill-color);\n",
              "    }\n",
              "    20% {\n",
              "      border-color: transparent;\n",
              "      border-left-color: var(--fill-color);\n",
              "      border-top-color: var(--fill-color);\n",
              "    }\n",
              "    30% {\n",
              "      border-color: transparent;\n",
              "      border-left-color: var(--fill-color);\n",
              "      border-top-color: var(--fill-color);\n",
              "      border-right-color: var(--fill-color);\n",
              "    }\n",
              "    40% {\n",
              "      border-color: transparent;\n",
              "      border-right-color: var(--fill-color);\n",
              "      border-top-color: var(--fill-color);\n",
              "    }\n",
              "    60% {\n",
              "      border-color: transparent;\n",
              "      border-right-color: var(--fill-color);\n",
              "    }\n",
              "    80% {\n",
              "      border-color: transparent;\n",
              "      border-right-color: var(--fill-color);\n",
              "      border-bottom-color: var(--fill-color);\n",
              "    }\n",
              "    90% {\n",
              "      border-color: transparent;\n",
              "      border-bottom-color: var(--fill-color);\n",
              "    }\n",
              "  }\n",
              "</style>\n",
              "\n",
              "  <script>\n",
              "    async function quickchart(key) {\n",
              "      const quickchartButtonEl =\n",
              "        document.querySelector('#' + key + ' button');\n",
              "      quickchartButtonEl.disabled = true;  // To prevent multiple clicks.\n",
              "      quickchartButtonEl.classList.add('colab-df-spinner');\n",
              "      try {\n",
              "        const charts = await google.colab.kernel.invokeFunction(\n",
              "            'suggestCharts', [key], {});\n",
              "      } catch (error) {\n",
              "        console.error('Error during call to suggestCharts:', error);\n",
              "      }\n",
              "      quickchartButtonEl.classList.remove('colab-df-spinner');\n",
              "      quickchartButtonEl.classList.add('colab-df-quickchart-complete');\n",
              "    }\n",
              "    (() => {\n",
              "      let quickchartButtonEl =\n",
              "        document.querySelector('#df-1f9c08de-1f3d-42ec-82ab-b079a9777015 button');\n",
              "      quickchartButtonEl.style.display =\n",
              "        google.colab.kernel.accessAllowed ? 'block' : 'none';\n",
              "    })();\n",
              "  </script>\n",
              "</div>\n",
              "    </div>\n",
              "  </div>\n"
            ],
            "application/vnd.google.colaboratory.intrinsic+json": {
              "type": "dataframe",
              "variable_name": "data"
            }
          },
          "metadata": {},
          "execution_count": 92
        }
      ]
    },
    {
      "cell_type": "markdown",
      "source": [
        "## Задание"
      ],
      "metadata": {
        "id": "xAZC3q9QWQSd"
      }
    },
    {
      "cell_type": "markdown",
      "source": [
        "1. объединить в одну выборку (это только для твитов), для роспотребнадзора сформировать датасет из вопросов\n",
        "2. провести исследование и выявить тематики о которых говорят в твитах (для твитов), а для роспотребнадзора так же выявить тематики о которых люди пишут проанализировать\n",
        "3. сделать визуализацию кластеров тематик\n",
        "4. проинтерпритировать получившиеся тематики"
      ],
      "metadata": {
        "id": "reqVFzzcOtsv"
      }
    },
    {
      "cell_type": "code",
      "source": [
        "!pip install -U gensim"
      ],
      "metadata": {
        "colab": {
          "base_uri": "https://localhost:8080/"
        },
        "id": "yyFL5POBMcBD",
        "outputId": "80759eae-e825-4c62-8b75-cd36b89b23d3"
      },
      "execution_count": null,
      "outputs": [
        {
          "output_type": "stream",
          "name": "stdout",
          "text": [
            "Requirement already satisfied: gensim in /usr/local/lib/python3.10/dist-packages (4.3.2)\n",
            "Requirement already satisfied: numpy>=1.18.5 in /usr/local/lib/python3.10/dist-packages (from gensim) (1.25.2)\n",
            "Requirement already satisfied: scipy>=1.7.0 in /usr/local/lib/python3.10/dist-packages (from gensim) (1.11.4)\n",
            "Requirement already satisfied: smart-open>=1.8.1 in /usr/local/lib/python3.10/dist-packages (from gensim) (6.4.0)\n"
          ]
        }
      ]
    },
    {
      "cell_type": "code",
      "source": [
        "from gensim.models import *\n",
        "from gensim import corpora"
      ],
      "metadata": {
        "id": "Ogi2VF29oB0j"
      },
      "execution_count": null,
      "outputs": []
    },
    {
      "cell_type": "markdown",
      "source": [
        "Создадим словарь:"
      ],
      "metadata": {
        "id": "FpVW2iMBqvRj"
      }
    },
    {
      "cell_type": "code",
      "source": [
        "dictionary = corpora.Dictionary(data['lemma_gr3'])\n",
        "\n",
        "dictionary.filter_extremes(no_below = 10, no_above = 0.9, keep_n=None) # игнорируем слова, которые встречаются реже 10 раз или составляют более 0.9 словаря\n",
        "dictionary.save('topics_an.dict')"
      ],
      "metadata": {
        "colab": {
          "base_uri": "https://localhost:8080/"
        },
        "id": "q-GXqGCvoLU5",
        "outputId": "06f2814b-3483-4f29-caa2-8ad124f1c987"
      },
      "execution_count": null,
      "outputs": [
        {
          "output_type": "stream",
          "name": "stderr",
          "text": [
            "/usr/local/lib/python3.10/dist-packages/ipykernel/ipkernel.py:283: DeprecationWarning: `should_run_async` will not call `transform_cell` automatically in the future. Please pass the result to `transformed_cell` argument and any exception that happen during thetransform in `preprocessing_exc_tuple` in IPython 7.17 and above.\n",
            "  and should_run_async(code)\n"
          ]
        }
      ]
    },
    {
      "cell_type": "markdown",
      "source": [],
      "metadata": {
        "id": "NN7NMCwVqyZR"
      }
    },
    {
      "cell_type": "code",
      "source": [
        "cnt = 0\n",
        "for key, val in dictionary.iteritems():\n",
        "    print(f\"{key}: {val}\")\n",
        "    cnt += 1\n",
        "    if cnt > 10:\n",
        "        break"
      ],
      "metadata": {
        "colab": {
          "base_uri": "https://localhost:8080/"
        },
        "id": "Ui-qwG6dpc2I",
        "outputId": "9effb569-f585-4126-f4b7-1ab4c389cdf0"
      },
      "execution_count": null,
      "outputs": [
        {
          "output_type": "stream",
          "name": "stdout",
          "text": [
            "0: )\n",
            "1: общество\n",
            "2: поверять\n",
            "3: предмет\n",
            "4: самый\n",
            "5: тип\n",
            "6: хоть\n",
            "7: школоть\n",
            "8: весь\n",
            "9: мальчик\n",
            "10: мой\n"
          ]
        },
        {
          "output_type": "stream",
          "name": "stderr",
          "text": [
            "/usr/local/lib/python3.10/dist-packages/ipykernel/ipkernel.py:283: DeprecationWarning: `should_run_async` will not call `transform_cell` automatically in the future. Please pass the result to `transformed_cell` argument and any exception that happen during thetransform in `preprocessing_exc_tuple` in IPython 7.17 and above.\n",
            "  and should_run_async(code)\n"
          ]
        }
      ]
    },
    {
      "cell_type": "markdown",
      "source": [
        "Векторизуем документы:"
      ],
      "metadata": {
        "id": "ykySBWJyq1jB"
      }
    },
    {
      "cell_type": "code",
      "source": [
        "corpus = [dictionary.doc2bow(text) for text in data['lemma_gr3']]\n",
        "corpora.MmCorpus.serialize('topics_an.model', corpus)"
      ],
      "metadata": {
        "colab": {
          "base_uri": "https://localhost:8080/"
        },
        "id": "aHzhUdKXpe_n",
        "outputId": "76907464-ce5f-4b3d-8a63-3d636118842e"
      },
      "execution_count": null,
      "outputs": [
        {
          "output_type": "stream",
          "name": "stderr",
          "text": [
            "/usr/local/lib/python3.10/dist-packages/ipykernel/ipkernel.py:283: DeprecationWarning: `should_run_async` will not call `transform_cell` automatically in the future. Please pass the result to `transformed_cell` argument and any exception that happen during thetransform in `preprocessing_exc_tuple` in IPython 7.17 and above.\n",
            "  and should_run_async(code)\n"
          ]
        }
      ]
    },
    {
      "cell_type": "code",
      "source": [
        "type(corpus), corpus[:3]"
      ],
      "metadata": {
        "colab": {
          "base_uri": "https://localhost:8080/"
        },
        "id": "-7zv1tegrOrt",
        "outputId": "e063f9a8-8098-426c-9264-82f593936947"
      },
      "execution_count": null,
      "outputs": [
        {
          "output_type": "stream",
          "name": "stderr",
          "text": [
            "/usr/local/lib/python3.10/dist-packages/ipykernel/ipkernel.py:283: DeprecationWarning: `should_run_async` will not call `transform_cell` automatically in the future. Please pass the result to `transformed_cell` argument and any exception that happen during thetransform in `preprocessing_exc_tuple` in IPython 7.17 and above.\n",
            "  and should_run_async(code)\n"
          ]
        },
        {
          "output_type": "execute_result",
          "data": {
            "text/plain": [
              "(list,\n",
              " [[(0, 1), (1, 1), (2, 1), (3, 1), (4, 1), (5, 1), (6, 1), (7, 1)],\n",
              "  [(8, 2), (9, 1), (10, 1), (11, 1), (12, 1), (13, 1), (14, 1), (15, 1)],\n",
              "  [(0, 1), (16, 1), (17, 1)]])"
            ]
          },
          "metadata": {},
          "execution_count": 96
        }
      ]
    },
    {
      "cell_type": "markdown",
      "source": [
        "Обучим модель:"
      ],
      "metadata": {
        "id": "HpboEpW_rnpX"
      }
    },
    {
      "cell_type": "code",
      "source": [
        "%time lda = ldamodel.LdaModel(corpus, id2word=dictionary, num_topics=12, chunksize=50, update_every=1, passes=2)"
      ],
      "metadata": {
        "colab": {
          "base_uri": "https://localhost:8080/"
        },
        "id": "Uuv-uBJ3rSju",
        "outputId": "aea86e4c-9d70-48a1-d6e6-f52459332c9e"
      },
      "execution_count": null,
      "outputs": [
        {
          "output_type": "stream",
          "name": "stderr",
          "text": [
            "/usr/local/lib/python3.10/dist-packages/ipykernel/ipkernel.py:283: DeprecationWarning: `should_run_async` will not call `transform_cell` automatically in the future. Please pass the result to `transformed_cell` argument and any exception that happen during thetransform in `preprocessing_exc_tuple` in IPython 7.17 and above.\n",
            "  and should_run_async(code)\n"
          ]
        },
        {
          "output_type": "stream",
          "name": "stdout",
          "text": [
            "CPU times: user 1min 59s, sys: 313 ms, total: 2min\n",
            "Wall time: 2min\n"
          ]
        }
      ]
    },
    {
      "cell_type": "markdown",
      "source": [
        "Темы:"
      ],
      "metadata": {
        "id": "AZdNE27Gr0-R"
      }
    },
    {
      "cell_type": "code",
      "source": [
        "lda.show_topics(num_topics=12, num_words=10, formatted=True)"
      ],
      "metadata": {
        "colab": {
          "base_uri": "https://localhost:8080/"
        },
        "id": "TF-jrgYrrxwV",
        "outputId": "d1fec055-16ec-4e4c-c98c-301254682155"
      },
      "execution_count": null,
      "outputs": [
        {
          "output_type": "stream",
          "name": "stderr",
          "text": [
            "/usr/local/lib/python3.10/dist-packages/ipykernel/ipkernel.py:283: DeprecationWarning: `should_run_async` will not call `transform_cell` automatically in the future. Please pass the result to `transformed_cell` argument and any exception that happen during thetransform in `preprocessing_exc_tuple` in IPython 7.17 and above.\n",
            "  and should_run_async(code)\n"
          ]
        },
        {
          "output_type": "execute_result",
          "data": {
            "text/plain": [
              "[(0,\n",
              "  '0.115*\"какой\" + 0.083*\"там\" + 0.071*\"смотреть\" + 0.065*\"жизнь\" + 0.051*\"никто\" + 0.035*\"через\" + 0.034*\"нельзя\" + 0.025*\"купить\" + 0.021*\"боль\" + 0.020*\"сука\"'),\n",
              " (1,\n",
              "  '0.130*\"мой\" + 0.036*\"скучать\" + 0.026*\"твой\" + 0.021*\"новый\" + 0.021*\"любимый\" + 0.020*\"заканчиваться\" + 0.018*\"домой\" + 0.017*\"уезжать\" + 0.016*\"ужасный\" + 0.016*\"минута\"'),\n",
              " (2,\n",
              "  '0.899*\"(\" + 0.011*\"свой\" + 0.006*\"каждый\" + 0.005*\"начинать\" + 0.003*\"ходить\" + 0.002*\"почти\" + 0.002*\"печально\" + 0.002*\"третий\" + 0.002*\"забирать\" + 0.002*\"печаль\"'),\n",
              " (3,\n",
              "  '0.111*\"еще\" + 0.084*\"они\" + 0.080*\"очень\" + 0.059*\"вообще\" + 0.057*\"даже\" + 0.053*\"спать\" + 0.051*\"любить\" + 0.045*\"сказать\" + 0.040*\"тот\" + 0.029*\"где\"'),\n",
              " (4,\n",
              "  '0.067*\"как\" + 0.066*\"этот\" + 0.066*\"когда\" + 0.024*\"который\" + 0.024*\"время\" + 0.023*\"утро\" + 0.021*\"всегда\" + 0.019*\"плохо\" + 0.019*\"потом\" + 0.016*\"приходить\"'),\n",
              " (5,\n",
              "  '0.159*\"это\" + 0.090*\"такой\" + 0.087*\"быть\" + 0.073*\"она\" + 0.037*\"сейчас\" + 0.036*\"много\" + 0.024*\"говорить\" + 0.017*\"друг\" + 0.017*\"совсем\" + 0.016*\"чтобы\"'),\n",
              " (6,\n",
              "  '0.336*\"негатив\" + 0.090*\"нет\" + 0.069*\"кто\" + 0.037*\"пойти\" + 0.028*\"скоро\" + 0.024*\"сделать\" + 0.017*\"выходной\" + 0.017*\"жалко\" + 0.015*\"заболевать\" + 0.014*\"уставать\"'),\n",
              " (7,\n",
              "  '0.089*\"вот\" + 0.078*\"день\" + 0.049*\"блин\" + 0.048*\"почему\" + 0.048*\"теперь\" + 0.033*\"быть\" + 0.028*\"все\" + 0.028*\"ничто\" + 0.026*\"ночь\" + 0.025*\"как\"'),\n",
              " (8,\n",
              "  '0.185*\"только\" + 0.089*\"тоже\" + 0.075*\"самый\" + 0.044*\"рано\" + 0.037*\"холодно\" + 0.035*\"читать\" + 0.026*\"просыпаться\" + 0.024*\"понедельник\" + 0.020*\"чуть\" + 0.019*\"бесить\"'),\n",
              " (9,\n",
              "  '0.081*\"что\" + 0.079*\"так\" + 0.055*\"все\" + 0.044*\"быть\" + 0.041*\"как\" + 0.041*\"весь\" + 0.024*\"надо\" + 0.023*\"знать\" + 0.022*\"просто\" + 0.022*\"один\"'),\n",
              " (10,\n",
              "  '0.144*\"что\" + 0.098*\"уже\" + 0.083*\"мочь\" + 0.072*\"сегодня\" + 0.034*\"болеть\" + 0.027*\"жаль\" + 0.026*\"становиться\" + 0.019*\"дома\" + 0.017*\"проходить\" + 0.016*\"приходиться\"'),\n",
              " (11,\n",
              "  '0.117*\"хотеть\" + 0.051*\"завтра\" + 0.040*\"человек\" + 0.034*\"делать\" + 0.032*\"идти\" + 0.031*\"себя\" + 0.029*\"школа\" + 0.029*\"если\" + 0.025*\"раз\" + 0.023*\"сидеть\"')]"
            ]
          },
          "metadata": {},
          "execution_count": 98
        }
      ]
    },
    {
      "cell_type": "markdown",
      "source": [
        "## Визуализация"
      ],
      "metadata": {
        "id": "shyRgWKHsNr5"
      }
    },
    {
      "cell_type": "code",
      "source": [
        "!pip install pyLDAvis"
      ],
      "metadata": {
        "colab": {
          "base_uri": "https://localhost:8080/"
        },
        "id": "sAyTaqOrsQuv",
        "outputId": "5d0bd16d-5377-48ce-d52c-372a1972f314"
      },
      "execution_count": null,
      "outputs": [
        {
          "output_type": "stream",
          "name": "stdout",
          "text": [
            "Collecting pyLDAvis\n",
            "  Downloading pyLDAvis-3.4.1-py3-none-any.whl (2.6 MB)\n",
            "\u001b[2K     \u001b[90m━━━━━━━━━━━━━━━━━━━━━━━━━━━━━━━━━━━━━━━━\u001b[0m \u001b[32m2.6/2.6 MB\u001b[0m \u001b[31m10.4 MB/s\u001b[0m eta \u001b[36m0:00:00\u001b[0m\n",
            "\u001b[?25hRequirement already satisfied: numpy>=1.24.2 in /usr/local/lib/python3.10/dist-packages (from pyLDAvis) (1.25.2)\n",
            "Requirement already satisfied: scipy in /usr/local/lib/python3.10/dist-packages (from pyLDAvis) (1.11.4)\n",
            "Collecting pandas>=2.0.0 (from pyLDAvis)\n",
            "  Downloading pandas-2.2.0-cp310-cp310-manylinux_2_17_x86_64.manylinux2014_x86_64.whl (13.0 MB)\n",
            "\u001b[2K     \u001b[90m━━━━━━━━━━━━━━━━━━━━━━━━━━━━━━━━━━━━━━━━\u001b[0m \u001b[32m13.0/13.0 MB\u001b[0m \u001b[31m59.1 MB/s\u001b[0m eta \u001b[36m0:00:00\u001b[0m\n",
            "\u001b[?25hRequirement already satisfied: joblib>=1.2.0 in /usr/local/lib/python3.10/dist-packages (from pyLDAvis) (1.3.2)\n",
            "Requirement already satisfied: jinja2 in /usr/local/lib/python3.10/dist-packages (from pyLDAvis) (3.1.3)\n",
            "Requirement already satisfied: numexpr in /usr/local/lib/python3.10/dist-packages (from pyLDAvis) (2.9.0)\n",
            "Collecting funcy (from pyLDAvis)\n",
            "  Downloading funcy-2.0-py2.py3-none-any.whl (30 kB)\n",
            "Requirement already satisfied: scikit-learn>=1.0.0 in /usr/local/lib/python3.10/dist-packages (from pyLDAvis) (1.2.2)\n",
            "Requirement already satisfied: gensim in /usr/local/lib/python3.10/dist-packages (from pyLDAvis) (4.3.2)\n",
            "Requirement already satisfied: setuptools in /usr/local/lib/python3.10/dist-packages (from pyLDAvis) (67.7.2)\n",
            "Requirement already satisfied: python-dateutil>=2.8.2 in /usr/local/lib/python3.10/dist-packages (from pandas>=2.0.0->pyLDAvis) (2.8.2)\n",
            "Requirement already satisfied: pytz>=2020.1 in /usr/local/lib/python3.10/dist-packages (from pandas>=2.0.0->pyLDAvis) (2023.4)\n",
            "Collecting tzdata>=2022.7 (from pandas>=2.0.0->pyLDAvis)\n",
            "  Downloading tzdata-2024.1-py2.py3-none-any.whl (345 kB)\n",
            "\u001b[2K     \u001b[90m━━━━━━━━━━━━━━━━━━━━━━━━━━━━━━━━━━━━━━━━\u001b[0m \u001b[32m345.4/345.4 kB\u001b[0m \u001b[31m30.9 MB/s\u001b[0m eta \u001b[36m0:00:00\u001b[0m\n",
            "\u001b[?25hRequirement already satisfied: threadpoolctl>=2.0.0 in /usr/local/lib/python3.10/dist-packages (from scikit-learn>=1.0.0->pyLDAvis) (3.2.0)\n",
            "Requirement already satisfied: smart-open>=1.8.1 in /usr/local/lib/python3.10/dist-packages (from gensim->pyLDAvis) (6.4.0)\n",
            "Requirement already satisfied: MarkupSafe>=2.0 in /usr/local/lib/python3.10/dist-packages (from jinja2->pyLDAvis) (2.1.5)\n",
            "Requirement already satisfied: six>=1.5 in /usr/local/lib/python3.10/dist-packages (from python-dateutil>=2.8.2->pandas>=2.0.0->pyLDAvis) (1.16.0)\n",
            "Installing collected packages: funcy, tzdata, pandas, pyLDAvis\n",
            "  Attempting uninstall: pandas\n",
            "    Found existing installation: pandas 1.5.3\n",
            "    Uninstalling pandas-1.5.3:\n",
            "      Successfully uninstalled pandas-1.5.3\n",
            "\u001b[31mERROR: pip's dependency resolver does not currently take into account all the packages that are installed. This behaviour is the source of the following dependency conflicts.\n",
            "lida 0.0.10 requires fastapi, which is not installed.\n",
            "lida 0.0.10 requires kaleido, which is not installed.\n",
            "lida 0.0.10 requires python-multipart, which is not installed.\n",
            "lida 0.0.10 requires uvicorn, which is not installed.\n",
            "bigframes 0.20.1 requires pandas<2.1.4,>=1.5.0, but you have pandas 2.2.0 which is incompatible.\n",
            "google-colab 1.0.0 requires pandas==1.5.3, but you have pandas 2.2.0 which is incompatible.\u001b[0m\u001b[31m\n",
            "\u001b[0mSuccessfully installed funcy-2.0 pandas-2.2.0 pyLDAvis-3.4.1 tzdata-2024.1\n"
          ]
        }
      ]
    },
    {
      "cell_type": "code",
      "source": [
        "!pip uninstall pandas -y"
      ],
      "metadata": {
        "colab": {
          "base_uri": "https://localhost:8080/"
        },
        "id": "rfJhGD3c1OBd",
        "outputId": "af80ded4-91bc-49ac-a93e-4339a1b38170"
      },
      "execution_count": null,
      "outputs": [
        {
          "output_type": "stream",
          "name": "stderr",
          "text": [
            "/usr/local/lib/python3.10/dist-packages/ipykernel/ipkernel.py:283: DeprecationWarning: `should_run_async` will not call `transform_cell` automatically in the future. Please pass the result to `transformed_cell` argument and any exception that happen during thetransform in `preprocessing_exc_tuple` in IPython 7.17 and above.\n",
            "  and should_run_async(code)\n"
          ]
        },
        {
          "output_type": "stream",
          "name": "stdout",
          "text": [
            "Found existing installation: pandas 2.2.0\n",
            "Uninstalling pandas-2.2.0:\n",
            "  Successfully uninstalled pandas-2.2.0\n"
          ]
        }
      ]
    },
    {
      "cell_type": "code",
      "source": [
        "!pip install \"pandas<2.0.0\""
      ],
      "metadata": {
        "colab": {
          "base_uri": "https://localhost:8080/",
          "height": 428
        },
        "id": "c4uJFgzF1N_l",
        "outputId": "9816f127-dd7b-464b-af78-0440cebcc893"
      },
      "execution_count": null,
      "outputs": [
        {
          "output_type": "stream",
          "name": "stderr",
          "text": [
            "/usr/local/lib/python3.10/dist-packages/ipykernel/ipkernel.py:283: DeprecationWarning: `should_run_async` will not call `transform_cell` automatically in the future. Please pass the result to `transformed_cell` argument and any exception that happen during thetransform in `preprocessing_exc_tuple` in IPython 7.17 and above.\n",
            "  and should_run_async(code)\n"
          ]
        },
        {
          "output_type": "stream",
          "name": "stdout",
          "text": [
            "Collecting pandas<2.0.0\n",
            "  Downloading pandas-1.5.3-cp310-cp310-manylinux_2_17_x86_64.manylinux2014_x86_64.whl (12.1 MB)\n",
            "\u001b[2K     \u001b[90m━━━━━━━━━━━━━━━━━━━━━━━━━━━━━━━━━━━━━━━━\u001b[0m \u001b[32m12.1/12.1 MB\u001b[0m \u001b[31m53.1 MB/s\u001b[0m eta \u001b[36m0:00:00\u001b[0m\n",
            "\u001b[?25hRequirement already satisfied: python-dateutil>=2.8.1 in /usr/local/lib/python3.10/dist-packages (from pandas<2.0.0) (2.8.2)\n",
            "Requirement already satisfied: pytz>=2020.1 in /usr/local/lib/python3.10/dist-packages (from pandas<2.0.0) (2023.4)\n",
            "Requirement already satisfied: numpy>=1.21.0 in /usr/local/lib/python3.10/dist-packages (from pandas<2.0.0) (1.25.2)\n",
            "Requirement already satisfied: six>=1.5 in /usr/local/lib/python3.10/dist-packages (from python-dateutil>=2.8.1->pandas<2.0.0) (1.16.0)\n",
            "Installing collected packages: pandas\n",
            "\u001b[31mERROR: pip's dependency resolver does not currently take into account all the packages that are installed. This behaviour is the source of the following dependency conflicts.\n",
            "lida 0.0.10 requires fastapi, which is not installed.\n",
            "lida 0.0.10 requires kaleido, which is not installed.\n",
            "lida 0.0.10 requires python-multipart, which is not installed.\n",
            "lida 0.0.10 requires uvicorn, which is not installed.\n",
            "pyldavis 3.4.1 requires pandas>=2.0.0, but you have pandas 1.5.3 which is incompatible.\u001b[0m\u001b[31m\n",
            "\u001b[0mSuccessfully installed pandas-1.5.3\n"
          ]
        },
        {
          "output_type": "display_data",
          "data": {
            "application/vnd.colab-display-data+json": {
              "pip_warning": {
                "packages": [
                  "pandas"
                ]
              }
            }
          },
          "metadata": {}
        }
      ]
    },
    {
      "cell_type": "markdown",
      "source": [
        "### 12 тем"
      ],
      "metadata": {
        "id": "VP57e3Sb3bn-"
      }
    },
    {
      "cell_type": "code",
      "source": [
        "import pyLDAvis\n",
        "import pyLDAvis.gensim as gensimvis\n",
        "\n",
        "%time vis_data = gensimvis.prepare(lda, corpus, dictionary)\n",
        "pyLDAvis.display(vis_data)"
      ],
      "metadata": {
        "colab": {
          "base_uri": "https://localhost:8080/",
          "height": 1000
        },
        "id": "t0WONAXKsVKu",
        "outputId": "20347c82-f993-4e68-ec85-d2ba287b8fee"
      },
      "execution_count": null,
      "outputs": [
        {
          "output_type": "stream",
          "name": "stderr",
          "text": [
            "/usr/local/lib/python3.10/dist-packages/ipykernel/ipkernel.py:283: DeprecationWarning: `should_run_async` will not call `transform_cell` automatically in the future. Please pass the result to `transformed_cell` argument and any exception that happen during thetransform in `preprocessing_exc_tuple` in IPython 7.17 and above.\n",
            "  and should_run_async(code)\n"
          ]
        },
        {
          "output_type": "stream",
          "name": "stdout",
          "text": [
            "CPU times: user 9.95 s, sys: 118 ms, total: 10.1 s\n",
            "Wall time: 12.3 s\n"
          ]
        },
        {
          "output_type": "stream",
          "name": "stderr",
          "text": [
            "/usr/local/lib/python3.10/dist-packages/pandas/core/dtypes/cast.py:1641: DeprecationWarning: np.find_common_type is deprecated.  Please use `np.result_type` or `np.promote_types`.\n",
            "See https://numpy.org/devdocs/release/1.25.0-notes.html and the docs for more information.  (Deprecated NumPy 1.25)\n",
            "  return np.find_common_type(types, [])\n"
          ]
        },
        {
          "output_type": "execute_result",
          "data": {
            "text/plain": [
              "<IPython.core.display.HTML object>"
            ],
            "text/html": [
              "\n",
              "<link rel=\"stylesheet\" type=\"text/css\" href=\"https://cdn.jsdelivr.net/gh/bmabey/pyLDAvis@3.4.0/pyLDAvis/js/ldavis.v1.0.0.css\">\n",
              "\n",
              "\n",
              "<div id=\"ldavis_el9411321811479663046159795845\" style=\"background-color:white;\"></div>\n",
              "<script type=\"text/javascript\">\n",
              "\n",
              "var ldavis_el9411321811479663046159795845_data = {\"mdsDat\": {\"x\": [-0.303684399611544, 0.12580345937127455, -0.08067272511416419, 0.12606664137955678, -0.12530057700252104, -0.22319762131754628, -0.13743818628465013, 0.12525047052545682, 0.12488170117717068, 0.1252295550698152, 0.12134822729313514, 0.12171345451401705], \"y\": [-0.0908154211839353, -0.0070952656006250175, 0.12246692117900596, -0.004461412279483599, 0.18843660580466018, 0.19600686550637966, -0.38738210782434823, -0.0035982583031044235, -0.003906342693082531, -0.003936079934548825, -0.0028112171565018314, -0.0029042875144158274], \"topics\": [1, 2, 3, 4, 5, 6, 7, 8, 9, 10, 11, 12], \"cluster\": [1, 1, 1, 1, 1, 1, 1, 1, 1, 1, 1, 1], \"Freq\": [17.686895105069596, 12.624442218594789, 9.820209060240453, 8.679584469607269, 8.39165333411732, 8.281963360820594, 7.010965741214116, 6.8928646283021076, 6.552337225165919, 5.76523896943769, 4.211463474277468, 4.08238241315269]}, \"tinfo\": {\"Term\": [\"(\", \"\\u043d\\u0435\\u0433\\u0430\\u0442\\u0438\\u0432\", \"\\u0447\\u0442\\u043e\", \"\\u044d\\u0442\\u043e\", \"\\u0445\\u043e\\u0442\\u0435\\u0442\\u044c\", \"\\u0442\\u043e\\u043b\\u044c\\u043a\\u043e\", \"\\u0442\\u0430\\u043a\", \"\\u043c\\u043e\\u0439\", \"\\u0431\\u044b\\u0442\\u044c\", \"\\u0435\\u0449\\u0435\", \"\\u0442\\u0430\\u043a\\u043e\\u0439\", \"\\u0432\\u043e\\u0442\", \"\\u043a\\u0430\\u043a\", \"\\u0443\\u0436\\u0435\", \"\\u0432\\u0441\\u0435\", \"\\u0434\\u0435\\u043d\\u044c\", \"\\u043c\\u043e\\u0447\\u044c\", \"\\u043a\\u0430\\u043a\\u043e\\u0439\", \"\\u043e\\u043d\\u0430\", \"\\u044d\\u0442\\u043e\\u0442\", \"\\u043e\\u043d\\u0438\", \"\\u043a\\u043e\\u0433\\u0434\\u0430\", \"\\u043d\\u0435\\u0442\", \"\\u043e\\u0447\\u0435\\u043d\\u044c\", \"\\u0441\\u0435\\u0433\\u043e\\u0434\\u043d\\u044f\", \"\\u0432\\u0435\\u0441\\u044c\", \"\\u0442\\u043e\\u0436\\u0435\", \"\\u043a\\u0442\\u043e\", \"\\u0442\\u0430\\u043c\", \"\\u0437\\u0430\\u0432\\u0442\\u0440\\u0430\", \"\\u0442\\u0430\\u043a\", \"\\u0432\\u0435\\u0441\\u044c\", \"\\u043d\\u0430\\u0434\\u043e\", \"\\u0437\\u043d\\u0430\\u0442\\u044c\", \"\\u043f\\u0440\\u043e\\u0441\\u0442\\u043e\", \"\\u043e\\u0434\\u0438\\u043d\", \"\\u043f\\u043e\\u043d\\u0438\\u043c\\u0430\\u0442\\u044c\", \"\\u043f\\u0438\\u0441\\u0430\\u0442\\u044c\", \"\\u043e\\u043f\\u044f\\u0442\\u044c\", \"\\u0433\\u043e\\u0434\", \"\\u0431\\u0435\\u0437\", \"\\u0434\\u043b\\u044f\", \"\\u0434\\u0443\\u043c\\u0430\\u0442\\u044c\", \"\\u0445\\u043e\\u0442\\u0435\\u0442\\u044c\\u0441\\u044f\", \"\\u0447\\u0430\\u0441\", \"\\u0434\\u0430\\u0432\\u0430\\u0442\\u044c\", \"\\u0438\\u043b\\u0438\", \"\\u0431\\u043b\\u044f\", \"\\u0433\\u043e\\u043b\\u043e\\u0432\\u0430\", \"\\u0434\\u0440\\u0443\\u0433\\u043e\\u0439\", \"\\u0443\\u043b\\u0438\\u0446\\u0430\", \"\\u043f\\u043b\\u043e\\u0445\\u043e\\u0439\", \"\\u043d\\u0430\\u0445\\u043e\\u0434\\u0438\\u0442\\u044c\", \"\\u0440\\u0430\\u0432\\u043d\\u044b\\u0439\", \"\\u043d\\u0440\\u0430\\u0432\\u0438\\u0442\\u044c\\u0441\\u044f\", \"\\u0444\\u0438\\u043b\\u044c\\u043c\", \"\\u0432\\u0435\\u0447\\u0435\\u0440\", \"\\u0443\\u0447\\u0438\\u0442\\u044c\", \"\\u0431\\u043e\\u043b\\u044c\\u0448\\u0435\", \"\\u0432\\u0440\\u043e\\u0434\\u0435\", \"\\u0432\\u0441\\u0435\", \"\\u0447\\u0442\\u043e\", \"\\u043a\\u0430\\u043a\", \"\\u0431\\u044b\\u0442\\u044c\", \"(\", \"\\u0441\\u0432\\u043e\\u0439\", \"\\u043a\\u0430\\u0436\\u0434\\u044b\\u0439\", \"\\u043d\\u0430\\u0447\\u0438\\u043d\\u0430\\u0442\\u044c\", \"\\u0445\\u043e\\u0434\\u0438\\u0442\\u044c\", \"\\u043f\\u043e\\u0447\\u0442\\u0438\", \"\\u043f\\u0435\\u0447\\u0430\\u043b\\u044c\\u043d\\u043e\", \"\\u0442\\u0440\\u0435\\u0442\\u0438\\u0439\", \"\\u0437\\u0430\\u0431\\u0438\\u0440\\u0430\\u0442\\u044c\", \"\\u043f\\u0435\\u0447\\u0430\\u043b\\u044c\", \"\\u0442\\u044f\\u0436\\u0435\\u043b\\u043e\", \"\\u0441\\u0435\\u043c\\u044c\\u044f\", \"\\u0432\\u0438\\u0434\", \"\\u0444\\u0435\\u0432\\u0440\\u0430\\u043b\\u044c\", \"\\u043f\\u043f\\u0446\", \"\\u0448\\u043e\\u043a\", \"\\u0447\\u0435\\u0442\\u0430\", \"\\u043a\\u043e\\u043d\\u0435\\u043a\", \"\\u0438\\u0441\\u043f\\u043e\\u0440\\u0442\\u0438\\u0442\\u044c\", \"\\u0432\\u0435\\u0449\\u044c\", \"\\u043e\\u0441\\u0442\\u0430\\u0432\\u043b\\u044f\\u0442\\u044c\", \"\\u043e\\u0442\\u043d\\u043e\\u0448\\u0435\\u043d\\u0438\\u0435\", \"\\u0431\\u0435\\u0434\\u0430\", \"\\u043f\\u0440\\u0435\\u043a\\u0440\\u0430\\u0449\\u0430\\u0442\\u044c\", \"\\u0443\\u0432\\u044b\", \"\\u0442\\u043e\\u0441\\u043a\\u0430\", \"\\u0432\\u0436\\u0435\", \"\\u0436\\u0438\\u0437\\u043d\\u044c\\u0431\\u043e\\u043b\\u044c\", \"\\u0435\\u0431\\u0430\\u043d\\u044b\\u0439\", \"\\u0433\\u043e\\u0440\\u0435\", \"\\u044d\\u0442\\u043e\\u0442\", \"\\u043a\\u043e\\u0433\\u0434\\u0430\", \"\\u043a\\u043e\\u0442\\u043e\\u0440\\u044b\\u0439\", \"\\u0432\\u0440\\u0435\\u043c\\u044f\", \"\\u0443\\u0442\\u0440\\u043e\", \"\\u0432\\u0441\\u0435\\u0433\\u0434\\u0430\", \"\\u043f\\u043b\\u043e\\u0445\\u043e\", \"\\u043f\\u043e\\u0442\\u043e\\u043c\", \"\\u043f\\u0440\\u0438\\u0445\\u043e\\u0434\\u0438\\u0442\\u044c\", \"\\u043e\\u0441\\u0442\\u0430\\u0432\\u0430\\u0442\\u044c\\u0441\\u044f\", \"\\u043d\\u0430\\u0448\", \"\\u0440\\u0430\\u0431\\u043e\\u0442\\u0430\", \"\\u043d\\u0430\\u0441\\u0442\\u0440\\u043e\\u0435\\u043d\\u0438\\u0435\", \"\\u0437\\u0430\\u0431\\u044b\\u0432\\u0430\\u0442\\u044c\", \"\\u043f\\u043e\\u043a\\u0430\", \"\\u0432\\u0447\\u0435\\u0440\\u0430\", \"\\u043f\\u043e\\u0441\\u043b\\u0435\", \"\\u043d\\u0430\\u043f\\u0438\\u0441\\u0430\\u0442\\u044c\", \"\\u0432\\u0438\\u0434\\u0435\\u0442\\u044c\", \"\\u043f\\u0440\\u043e\\u0449\\u0430\\u0442\\u044c\", \"\\u0440\\u0443\\u043a\\u0430\", \"\\u043d\\u0435\\u043d\\u0430\\u0432\\u0438\\u0434\\u0435\\u0442\\u044c\", \"\\u0441\\u043b\\u043e\\u0432\\u043e\", \"\\u0437\\u0430\\u0447\\u0435\\u043c\", \"\\u0443\\u0447\\u0435\\u0431\\u0430\", \"\\u0447\\u0443\\u0432\\u0441\\u0442\\u0432\\u043e\", \"\\u0443\\u0436\\u0430\\u0441\", \"\\u043d\\u0443\\u0436\\u043d\\u044b\\u0439\", \"\\u0431\\u0443\\u0434\\u0442\\u043e\", \"\\u0442\\u0430\\u043a\\u0438\", \"\\u043a\\u0430\\u043a\", \"\\u0445\\u043e\\u0442\\u0435\\u0442\\u044c\", \"\\u0437\\u0430\\u0432\\u0442\\u0440\\u0430\", \"\\u0447\\u0435\\u043b\\u043e\\u0432\\u0435\\u043a\", \"\\u0434\\u0435\\u043b\\u0430\\u0442\\u044c\", \"\\u0438\\u0434\\u0442\\u0438\", \"\\u0441\\u0435\\u0431\\u044f\", \"\\u0448\\u043a\\u043e\\u043b\\u0430\", \"\\u0435\\u0441\\u043b\\u0438\", \"\\u0440\\u0430\\u0437\", \"\\u0441\\u0438\\u0434\\u0435\\u0442\\u044c\", \"\\u0445\\u043e\\u0440\\u043e\\u0448\\u043e\", \"\\u043c\\u0430\\u043c\\u0430\", \"\\u0442\\u0443\\u0442\", \"\\u0443\\u0440\\u043e\\u043a\", \"\\u0445\\u043e\\u0440\\u043e\\u0448\\u0438\\u0439\", \"\\u0432\\u0441\\u0442\\u0430\\u0432\\u0430\\u0442\\u044c\", \"\\u043f\\u043e\\u0441\\u043b\\u0435\\u0434\\u043d\\u0438\\u0439\", \"\\u043f\\u043e\\u043b\\u0443\\u0447\\u0430\\u0442\\u044c\\u0441\\u044f\", \"\\u043f\\u0435\\u0440\\u0432\\u044b\\u0439\", \"\\u0447\\u0435\\u043c\", \"\\u0434\\u0432\\u0430\", \"\\u043d\\u0438\\u0431\\u0443\\u0434\\u044c\", \"\\u044d\\u043a\\u0437\\u0430\\u043c\\u0435\\u043d\", \"\\u0442\\u0435\\u043b\\u0435\\u0444\\u043e\\u043d\", \"\\u043c\\u043e\\u0436\\u043d\\u043e\", \"\\u0445\\u043e\\u0442\\u044f\", \"\\u0431\\u043e\\u044f\\u0442\\u044c\\u0441\\u044f\", \"\\u0443\\u0436\\u0430\\u0441\\u043d\\u043e\", \"\\u0441\\u0434\\u0430\\u0432\\u0430\\u0442\\u044c\", \"\\u043f\\u0435\\u0441\\u043d\\u044f\", \"\\u044d\\u0442\\u043e\", \"\\u0442\\u0430\\u043a\\u043e\\u0439\", \"\\u043e\\u043d\\u0430\", \"\\u0441\\u0435\\u0439\\u0447\\u0430\\u0441\", \"\\u043c\\u043d\\u043e\\u0433\\u043e\", \"\\u0433\\u043e\\u0432\\u043e\\u0440\\u0438\\u0442\\u044c\", \"\\u0434\\u0440\\u0443\\u0433\", \"\\u0441\\u043e\\u0432\\u0441\\u0435\\u043c\", \"\\u0447\\u0442\\u043e\\u0431\\u044b\", \"\\u0443\\u0445\\u043e\\u0434\\u0438\\u0442\\u044c\", \"\\u043d\\u0443\\u0436\\u043d\\u043e\", \"\\u043f\\u043b\\u0430\\u043a\\u0430\\u0442\\u044c\", \"\\u043d\\u0438\\u043a\\u043e\\u0433\\u0434\\u0430\", \"\\u0432\\u0435\\u0434\\u044c\", \"\\u043a\\u043e\\u043d\\u0435\\u0447\\u043d\\u043e\", \"\\u0442\\u0432\\u0438\\u0442\\u0442\\u0435\\u0440\", \"\\u043e\\u0431\\u0438\\u0434\\u043d\\u043e\", \"\\u043a\\u0443\\u0434\\u0430\", \"\\u0434\\u0430\\u0432\\u043d\\u043e\", \"\\u043f\\u0440\\u0430\\u0432\\u0434\\u0430\", \"\\u0447\\u0435\\u0440\\u0442\", \"\\u0438\\u0431\\u043e\", \"\\u043a\\u0430\\u043f\\u0435\\u0446\", \"\\u0441\\u043b\\u0438\\u0448\\u043a\\u043e\\u043c\", \"\\u0440\\u044f\\u0434\\u043e\\u043c\", \"\\u0438\\u043c\\u0435\\u043d\\u043d\\u043e\", \"\\u043b\\u0435\\u043d\\u044c\", \"\\u0438\\u0441\\u043a\\u0430\\u0442\\u044c\", \"\\u043f\\u0437\\u0434\\u0446\", \"\\u0437\\u0430\\u0439\\u0442\\u0438\", \"\\u0431\\u044b\\u0442\\u044c\", \"\\u0432\\u043e\\u0442\", \"\\u0434\\u0435\\u043d\\u044c\", \"\\u0431\\u043b\\u0438\\u043d\", \"\\u043f\\u043e\\u0447\\u0435\\u043c\\u0443\", \"\\u0442\\u0435\\u043f\\u0435\\u0440\\u044c\", \"\\u043d\\u0438\\u0447\\u0442\\u043e\", \"\\u043d\\u043e\\u0447\\u044c\", \"\\u043f\\u0440\\u043e\", \"\\u043d\\u0435\\u0434\\u0435\\u043b\\u044f\", \"\\u0436\\u0434\\u0430\\u0442\\u044c\", \"\\u043f\\u043e\\u0441\\u043c\\u043e\\u0442\\u0440\\u0435\\u0442\\u044c\", \"\\u0432\\u0442\\u043e\\u0440\\u043e\\u0439\", \"\\u0445\\u043e\\u0442\\u044c\", \"\\u043f\\u043e\\u0442\\u043e\\u043c\\u0443\", \"\\u043f\\u0438\\u0437\\u0434\\u0435\\u0446\", \"\\u0443\\u0431\\u0438\\u0432\\u0430\\u0442\\u044c\", \"\\u043f\\u0430\\u0440\\u0435\\u043d\\u044c\", \"\\u0433\\u0443\\u043b\\u044f\\u0442\\u044c\", \"\\u043b\\u043e\\u0436\\u0438\\u0442\\u044c\\u0441\\u044f\", \"\\u0441\\u0445\\u043e\\u0434\\u0438\\u0442\\u044c\", \"\\u0441\\u043e\\u043d\", \"\\u043f\\u0440\\u044f\\u043c\\u043e\\u0439\", \"\\u043a\\u0430\\u0437\\u0430\\u0442\\u044c\\u0441\\u044f\", \"\\u0446\\u0435\\u043b\\u044b\\u0439\", \"\\u043d\\u0430\\u0434\\u043e\\u0435\\u0434\\u0430\\u0442\\u044c\", \"\\u0433\\u043e\\u0441\\u0442\\u044c\", \"\\u043d\\u0438\\u043a\\u0430\\u043a\", \"\\u043f\\u0440\\u0438\", \"\\u0430\\u0445\\u0430\\u0445\", \"\\u0442\\u0440\\u0438\", \"\\u0432\\u0441\\u0435\", \"\\u0431\\u044b\\u0442\\u044c\", \"\\u043a\\u0430\\u043a\", \"\\u0443\\u0436\\u0435\", \"\\u043c\\u043e\\u0447\\u044c\", \"\\u0441\\u0435\\u0433\\u043e\\u0434\\u043d\\u044f\", \"\\u0431\\u043e\\u043b\\u0435\\u0442\\u044c\", \"\\u0436\\u0430\\u043b\\u044c\", \"\\u0441\\u0442\\u0430\\u043d\\u043e\\u0432\\u0438\\u0442\\u044c\\u0441\\u044f\", \"\\u0434\\u043e\\u043c\\u0430\", \"\\u043f\\u0440\\u043e\\u0445\\u043e\\u0434\\u0438\\u0442\\u044c\", \"\\u043f\\u0440\\u0438\\u0445\\u043e\\u0434\\u0438\\u0442\\u044c\\u0441\\u044f\", \"\\u0441\\u043d\\u043e\\u0432\\u0430\", \"\\u043f\\u043e\\u0440\\u0430\", \"\\u0441\\u043a\\u0443\\u0447\\u043d\\u043e\", \"\\u0436\\u0438\\u0442\\u044c\", \"\\u0441\\u0442\\u043e\\u043b\\u044c\\u043a\\u043e\", \"\\u043f\\u043e\\u043c\\u043d\\u0438\\u0442\\u044c\", \"\\u043d\\u043e\\u0440\\u043c\\u0430\\u043b\\u044c\\u043d\\u043e\", \"\\u043b\\u0435\\u043d\\u0442\\u0430\", \"\\u043f\\u043e\\u043c\\u043e\\u0433\\u0430\\u0442\\u044c\", \"\\u0442\\u0435\\u043c\\u043f\\u0435\\u0440\\u0430\\u0442\\u0443\\u0440\\u0430\", \"\\u0431\\u044b\\u0441\\u0442\\u0440\\u043e\", \"\\u0440\\u0435\\u0431\\u0435\\u043d\\u043e\\u043a\", \"\\u0441\\u0440\\u0430\\u0437\\u0443\", \"\\u043c\\u0435\\u0441\\u0442\\u043e\", \"\\u0441\\u0435\\u0440\\u0434\\u0446\\u0435\", \"\\u0431\\u043e\\u0436\\u0435\", \"\\u0431\\u043e\\u043b\\u044c\\u0448\\u043e\\u0439\", \"\\u0433\\u0430\\u0432\\u043d\\u043e\", \"\\u0432\\u0435\\u0440\\u0438\\u0442\\u044c\", \"\\u0441\\u0435\\u0439\", \"\\u043f\\u0440\\u043e\\u0438\\u0441\\u0445\\u043e\\u0434\\u0438\\u0442\\u044c\", \"\\u0447\\u0442\\u043e\", \"\\u043c\\u043e\\u0439\", \"\\u0441\\u043a\\u0443\\u0447\\u0430\\u0442\\u044c\", \"\\u0442\\u0432\\u043e\\u0439\", \"\\u043d\\u043e\\u0432\\u044b\\u0439\", \"\\u043b\\u044e\\u0431\\u0438\\u043c\\u044b\\u0439\", \"\\u0437\\u0430\\u043a\\u0430\\u043d\\u0447\\u0438\\u0432\\u0430\\u0442\\u044c\\u0441\\u044f\", \"\\u0434\\u043e\\u043c\\u043e\\u0439\", \"\\u0443\\u0435\\u0437\\u0436\\u0430\\u0442\\u044c\", \"\\u0443\\u0436\\u0430\\u0441\\u043d\\u044b\\u0439\", \"\\u043c\\u0438\\u043d\\u0443\\u0442\\u0430\", \"\\u0434\\u043e\\u043c\", \"\\u0443\\u043c\\u0438\\u0440\\u0430\\u0442\\u044c\", \"\\u0433\\u043e\\u0440\\u043e\\u0434\", \"\\u0441\\u043d\\u0435\\u0433\", \"\\u043f\\u0430\\u0440\\u0430\", \"\\u043f\\u043e\\u0436\\u0430\\u043b\\u0443\\u0439\\u0441\\u0442\\u0430\", \"\\u043f\\u0440\\u043e\\u0431\\u043b\\u0435\\u043c\\u0430\", \"\\u043a\\u0438\\u0435\\u0432\", \"\\u043c\\u043e\\u0440\\u043e\\u0437\", \"\\u043d\\u0430\\u0437\\u0430\\u0434\", \"\\u0441\\u0435\\u0437\\u043e\\u043d\", \"\\u043c\\u044b\\u0441\\u043b\\u044c\", \"\\u043b\\u0438\\u0448\\u044c\", \"\\u0441\\u0442\\u043e\\u044f\\u0442\\u044c\", \"\\u043a\\u043e\\u0442\", \"\\u0431\\u044b\\u0432\\u0430\\u0442\\u044c\", \"\\u043c\\u0430\\u043b\\u0435\\u043d\\u044c\\u043a\\u0438\\u0439\", \"\\u043b\\u0435\\u0436\\u0430\\u0442\\u044c\", \"\\u043f\\u043e\\u0434\\u0440\\u0443\\u0433\\u0430\", \"\\u043f\\u0440\\u043e\\u043f\\u0443\\u0441\\u043a\\u0430\\u0442\\u044c\", \"\\u0435\\u0449\\u0435\", \"\\u043e\\u043d\\u0438\", \"\\u043e\\u0447\\u0435\\u043d\\u044c\", \"\\u0432\\u043e\\u043e\\u0431\\u0449\\u0435\", \"\\u0434\\u0430\\u0436\\u0435\", \"\\u0441\\u043f\\u0430\\u0442\\u044c\", \"\\u043b\\u044e\\u0431\\u0438\\u0442\\u044c\", \"\\u0441\\u043a\\u0430\\u0437\\u0430\\u0442\\u044c\", \"\\u0442\\u043e\\u0442\", \"\\u0433\\u0434\\u0435\", \"\\u0441\\u0430\\u043c\", \"\\u0432\\u044b\\u0445\\u043e\\u0434\\u0438\\u0442\\u044c\", \"\\u0434\\u0435\\u043b\\u043e\", \"\\u043c\\u0430\\u043b\\u043e\", \"\\u043a\\u043e\\u043d\\u0435\\u0446\", \"\\u0431\\u043b\\u044f\\u0442\\u044c\", \"\\u0437\\u0438\\u043c\\u0430\", \"\\u043c\\u0435\\u0441\\u044f\\u0446\", \"\\u0431\\u043e\\u043b\\u044c\\u043d\\u043e\", \"\\u043c\\u043e\\u043c\\u0435\\u043d\\u0442\", \"\\u0434\\u0430\\u043b\\u0435\\u043a\\u043e\", \"\\u0440\\u043e\\u0434\\u0438\\u0442\\u0435\\u043b\\u044c\", \"\\u043a\\u043b\\u0430\\u0441\\u0441\", \"\\u0435\\u0441\\u0442\\u044c\", \"\\u0441\\u0442\\u0430\\u0440\\u044b\\u0439\", \"\\u0442\\u043e\\u0447\\u043d\\u043e\", \"\\u043f\\u0435\\u0440\\u0435\\u0441\\u0442\\u0430\\u0432\\u0430\\u0442\\u044c\", \"\\u0440\\u0435\\u0431\\u044f\\u0442\\u0430\", \"\\u0447\\u0430\\u0441\\u0442\\u043e\", \"\\u043f\\u0440\\u0438\\u0439\\u0442\\u0438\", \"\\u043d\\u0435\\u0433\\u0430\\u0442\\u0438\\u0432\", \"\\u043d\\u0435\\u0442\", \"\\u043a\\u0442\\u043e\", \"\\u043f\\u043e\\u0439\\u0442\\u0438\", \"\\u0441\\u043a\\u043e\\u0440\\u043e\", \"\\u0441\\u0434\\u0435\\u043b\\u0430\\u0442\\u044c\", \"\\u0432\\u044b\\u0445\\u043e\\u0434\\u043d\\u043e\\u0439\", \"\\u0436\\u0430\\u043b\\u043a\\u043e\", \"\\u0437\\u0430\\u0431\\u043e\\u043b\\u0435\\u0432\\u0430\\u0442\\u044c\", \"\\u0443\\u0441\\u0442\\u0430\\u0432\\u0430\\u0442\\u044c\", \"\\u043f\\u0440\\u0438\\u0435\\u0437\\u0436\\u0430\\u0442\\u044c\", \"\\u0434\\u0435\\u043d\\u044c\\u0433\\u0438\", \"\\u043b\\u0435\\u0442\\u043e\", \"\\u0441\\u043e\\u0431\\u0438\\u0440\\u0430\\u0442\\u044c\\u0441\\u044f\", \"\\u0443\\u0441\\u043d\\u0443\\u0442\\u044c\", \"\\u0441\\u0435\\u0441\\u0441\\u0438\\u044f\", \"\\u0443\\u0447\\u0438\\u0442\\u044c\\u0441\\u044f\", \"\\u043f\\u043e\\u0445\\u043e\\u0434\", \"\\u0438\\u043d\\u043e\\u0433\\u0434\\u0430\", \"\\u043a\\u0440\\u0443\\u0442\\u043e\", \"\\u0437\\u0430\\u0442\\u043e\", \"\\u043a\\u0430\\u043d\\u0438\\u043a\\u0443\\u043b\\u044b\", \"\\u0436\\u0440\\u0430\\u0442\\u044c\", \"\\u0440\\u043e\\u0434\\u043d\\u043e\\u0439\", \"\\u0433\\u0440\\u0443\\u0441\\u0442\\u043d\\u044b\\u0439\", \"\\u043f\\u0440\\u0435\\u0434\\u0441\\u0442\\u0430\\u0432\\u043b\\u044f\\u0442\\u044c\", \"\\u0441\\u0443\\u0431\\u0431\\u043e\\u0442\\u0430\", \"\\u043c\\u043e\\u0441\\u043a\\u0432\\u0430\", \"\\u043a\\u0440\\u043e\\u043c\\u0435\", \"\\u043a\\u0430\\u0436\\u0435\\u0442\\u0441\\u044f\", \"\\u043a\\u0430\\u043a\\u043e\\u0439\", \"\\u0442\\u0430\\u043c\", \"\\u0441\\u043c\\u043e\\u0442\\u0440\\u0435\\u0442\\u044c\", \"\\u0436\\u0438\\u0437\\u043d\\u044c\", \"\\u043d\\u0438\\u043a\\u0442\\u043e\", \"\\u0447\\u0435\\u0440\\u0435\\u0437\", \"\\u043d\\u0435\\u043b\\u044c\\u0437\\u044f\", \"\\u043a\\u0443\\u043f\\u0438\\u0442\\u044c\", \"\\u0431\\u043e\\u043b\\u044c\", \"\\u0441\\u0443\\u043a\\u0430\", \"\\u043f\\u043e\\u043f\\u0430\\u0434\\u0430\\u0442\\u044c\", \"\\u0444\\u043e\\u0442\\u043e\", \"\\u0431\\u0438\\u043b\\u0435\\u0442\", \"\\u0441\\u043c\\u044b\\u0441\\u043b\", \"\\u0433\\u0443\\u0431\\u0430\", \"\\u0445\\u0443\\u0439\", \"\\u0432\\u0441\\u0435\\u0433\\u043e\", \"\\u0441\\u043e\\u0441\\u0442\\u043e\\u044f\\u043d\\u0438\\u0435\", \"\\u0441\\u043b\\u0435\\u0434\\u0443\\u044e\\u0449\\u0438\\u0439\", \"\\u043a\\u043e\\u043c\\u043f\", \"\\u043b\\u044b\\u0436\\u0430\", \"\\u0432\\u0441\\u043f\\u043e\\u043c\\u0438\\u043d\\u0430\\u0442\\u044c\", \"\\u043f\\u0440\\u0435\\u0434\\u043b\\u0430\\u0433\\u0430\\u0442\\u044c\", \"\\u0434\\u043e\\u0431\\u0440\\u043e\", \"\\u0434\\u043b\\u0438\\u043d\\u043d\\u044b\\u0439\", \"\\u0434\\u0432\\u0435\\u0440\\u044c\", \"\\u0438\\u0442\\u043e\\u0433\", \"\\u043f\\u0440\\u043e\\u0448\\u043b\\u044b\\u0439\", \"\\u043c\\u0430\\u0442\\u0447\", \"\\u0432\\u043e\\u043b\\u043e\\u0441\", \"\\u0442\\u043e\\u043b\\u044c\\u043a\\u043e\", \"\\u0442\\u043e\\u0436\\u0435\", \"\\u0441\\u0430\\u043c\\u044b\\u0439\", \"\\u0440\\u0430\\u043d\\u043e\", \"\\u0445\\u043e\\u043b\\u043e\\u0434\\u043d\\u043e\", \"\\u0447\\u0438\\u0442\\u0430\\u0442\\u044c\", \"\\u043f\\u0440\\u043e\\u0441\\u044b\\u043f\\u0430\\u0442\\u044c\\u0441\\u044f\", \"\\u043f\\u043e\\u043d\\u0435\\u0434\\u0435\\u043b\\u044c\\u043d\\u0438\\u043a\", \"\\u0447\\u0443\\u0442\\u044c\", \"\\u0431\\u0435\\u0441\\u0438\\u0442\\u044c\", \"\\u043d\\u043e\\u0440\\u043c\\u0430\\u043b\\u044c\\u043d\\u044b\\u0439\", \"\\u0431\\u043e\\u043b\\u044c\\u043d\\u0438\\u0446\\u0430\", \"\\u043b\\u044e\\u0431\\u043e\\u0432\\u044c\", \"\\u0441\\u043a\\u043e\\u043b\\u044c\\u043a\\u043e\", \"\\u043c\\u0438\\u0440\", \"\\u0442\\u0432\\u0438\", \"\\u043e\\u0431\\u0438\\u0436\\u0430\\u0442\\u044c\\u0441\\u044f\", \"\\u0432\\u043c\\u0435\\u0441\\u0442\\u043e\", \"\\u0437\\u043d\\u0430\\u0447\\u0438\\u0442\", \"\\u043a\\u043e\\u043d\\u0446\\u0435\\u0440\\u0442\", \"\\u043d\\u043e\\u0433\\u043e\\u0442\\u044c\", \"\\u0441\\u043b\\u043e\\u0436\\u043d\\u044b\\u0439\", \"\\u043f\\u043e\\u0432\\u0435\\u0440\\u044f\\u0442\\u044c\", \"\\u0438\\u043c\\u0435\\u0442\\u044c\", \"\\u0431\\u0438\\u0430\\u0442\\u043b\\u043e\\u043d\", \"\\u0434\\u0430\\u0430\", \"\\u043f\\u0440\\u0430\\u0432\\u0438\\u043b\\u044c\\u043d\\u043e\", \"\\u0443\\u0431\\u0438\\u0440\\u0430\\u0442\\u044c\", \"\\u043a\\u0438\\u043d\\u043e\", \"\\u0443\\u0441\\u043b\\u044b\\u0448\\u0430\\u0442\\u044c\"], \"Freq\": [233220.0, 39827.0, 50271.0, 27503.0, 20864.0, 15549.0, 28573.0, 18402.0, 36737.0, 14952.0, 15560.0, 15100.0, 32705.0, 14102.0, 24819.0, 13328.0, 12002.0, 9992.0, 12590.0, 13400.0, 11277.0, 13235.0, 10650.0, 10766.0, 10424.0, 14838.0, 7510.0, 8209.0, 7230.0, 9046.0, 28572.024088664934, 14837.484960441747, 8765.190898942068, 8534.56045715721, 8152.455406472862, 7843.3573079252, 5580.8546906731635, 5407.495606938955, 4874.126261022497, 4425.638292050521, 4412.895519025077, 4270.8663983433, 4251.245250785703, 4017.757794350267, 3993.5639332065984, 3256.8944235146455, 3243.7963863393134, 3132.4798344818973, 3048.78481627627, 2905.165304319112, 2720.2113673269, 2583.0446918615376, 2401.236823811543, 2343.855398221605, 2276.3668938354926, 2227.741425663293, 2173.6523741754872, 2168.7218564193895, 2102.2713735961056, 2003.7758273843667, 20012.880977948356, 29454.585581663665, 14920.231365793383, 16116.213732944323, 233219.66970642545, 2754.467646156246, 1438.4301812534388, 1290.1260716231081, 757.1584571432447, 587.6203728754908, 548.2320455106644, 472.7361952365771, 467.0228285030601, 457.93471370717356, 387.79512963742667, 332.7019633713687, 274.21461972831435, 266.3524251870582, 265.1559963959983, 259.48426822477654, 256.90606162878225, 251.6051070269683, 248.83689805092135, 239.62185816002665, 238.70768322266775, 235.8776207364478, 221.9862953281584, 215.65495250118616, 203.36160512513345, 197.03728767242364, 191.56595641349665, 191.3863938906813, 189.6660685879559, 189.47318051653951, 13399.730523797409, 13234.385175655849, 4937.322812130022, 4890.402130204139, 4548.123796048715, 4320.040407118775, 3899.0389436457504, 3824.1649469265863, 3205.7042974179385, 3103.672385558224, 3064.3644116561677, 2989.490979050233, 2934.1727195613994, 2924.2307880155, 2834.4758603937903, 2727.406981513346, 2562.398597007175, 2474.214912765658, 2420.749389158231, 2317.506138158354, 2092.20664801297, 2068.214912388418, 1855.1514142530727, 1818.959037714158, 1814.7372143091698, 1772.104733111541, 1730.6012305226577, 1676.2361343529, 1521.6506819391261, 1470.7737799201893, 13529.620979427951, 20863.471005376672, 9044.882538152397, 7075.313573703609, 6138.838576225751, 5699.252778805003, 5540.355132709463, 5198.0211830308135, 5177.445992056599, 4378.62334331874, 4191.844485285927, 3879.820883176854, 3734.855533198991, 3579.816649494722, 3472.682062204232, 3329.9420903131604, 3210.5112503617797, 3043.1146210995234, 3011.1423033381693, 2657.454770491406, 2584.8017435578176, 2530.769596849932, 2436.536884158217, 2232.7281499642904, 2164.285558314553, 2125.139180023368, 2097.1496076295916, 1927.5307580239087, 1723.1220525907497, 1568.8142695738436, 1459.475245020979, 27502.52485114622, 15558.894948866076, 12588.992212815525, 6336.398559651944, 6194.3715203427055, 4173.910861940796, 2972.797613637626, 2934.435343730392, 2774.237227222441, 2524.6017583968783, 2471.2501092872503, 2409.5557623356513, 2262.6289948812814, 2175.7786501764535, 1928.8431496066426, 1833.948496695678, 1653.7841446629259, 1623.5026581623317, 1523.3374191205025, 1436.8437922355738, 1358.7998785385862, 1305.7965113544683, 1215.7757968543588, 1205.5905389940153, 1192.5466377215457, 1061.944129329396, 1046.6282408432023, 965.0416532118761, 929.2387533205689, 907.477921862639, 14939.574967387784, 15099.484948472267, 13327.72446924233, 8380.894963774292, 8118.691341938553, 8093.20889982156, 4700.808363490077, 4509.457564414487, 3570.5889169582138, 3387.457810328904, 3291.5659445117994, 2913.1559291083663, 2721.4004253113126, 2713.6035160889433, 2536.993991342657, 2497.0872830226167, 1799.4381907275035, 1744.9819353541193, 1731.6027334592402, 1531.3365367598371, 1528.4917099579807, 1470.4651089345045, 1393.490334345443, 1392.1344466618557, 1327.9383188030247, 1306.1736255644157, 1218.807597360044, 1215.4936809946726, 1200.7099063262808, 1196.698778241507, 1125.0772226689387, 4805.300204638286, 5681.16939423109, 4254.481854724075, 14101.290899901616, 12000.923581112984, 10423.0963394304, 4843.38697643134, 3885.0613089596973, 3724.315931299085, 2741.08973365019, 2473.8731235075315, 2356.7115941854618, 2026.826018537017, 1990.410785340132, 1828.79925091827, 1718.8224462870435, 1487.0115375922628, 1387.465800305404, 1380.5244640535168, 1362.9637129780256, 1357.3675240831938, 1355.8584620631677, 1262.6711638401387, 1262.0228887316337, 1237.3078868625098, 1234.2496231957352, 1208.725653464973, 1184.6375815516824, 1128.908609835351, 1092.0732530203115, 1025.370523521399, 996.5234222859912, 938.2321596484582, 20815.676896822177, 18401.176254545844, 5168.411186468434, 3637.2772480124763, 3033.8702830212096, 2980.7894125660055, 2791.588618578784, 2483.185453693994, 2431.5046784060282, 2302.90076348954, 2255.7198792867753, 2227.7686581200137, 2144.454152685166, 2103.6604107738935, 1924.7457231934904, 1783.191323934566, 1481.2804932575857, 1418.638245143989, 1417.2446172338393, 1373.2189625812248, 1354.8767655995687, 1327.19835709407, 1321.6956452056377, 1296.6758073028611, 1291.548856249754, 1210.3244627180343, 1206.7364548823095, 1127.4748078845264, 1061.4689921531433, 1032.8810101328427, 1028.4065261290605, 14951.755942662945, 11276.442766506674, 10765.027763255051, 7922.231148154063, 7664.777181987647, 7116.875121850938, 6900.635209554653, 6124.680512306501, 5442.9766847662995, 3872.498558085411, 3014.8411882962646, 2890.4926620764195, 2724.8397476136547, 2278.1139415033063, 1800.621000807164, 1709.4282005469652, 1696.5244372515572, 1691.2152854196452, 1606.4609421156385, 1524.1821370192947, 1498.2067390523775, 1348.7707264714961, 1330.2446521851712, 1317.020327330766, 1310.1532839614483, 1270.7297326386577, 1233.4930259238217, 1109.6812364356367, 1028.9657805783877, 842.4378472079477, 39826.5512141821, 10649.616290356305, 8208.641184317703, 4397.3301583904495, 3325.23731696888, 2868.4764870796967, 2062.080654321271, 2022.8416765732572, 1811.9967510936817, 1665.7255596056732, 1413.9349803073662, 1326.0883004844584, 1284.3289397241192, 1227.3055362536847, 1165.202066843906, 1067.8111377942193, 1039.3513759743496, 984.6149846744876, 966.16455786962, 955.0678516193939, 866.5027340301064, 778.3786365509428, 737.1363566906838, 722.4919499951382, 720.3051746856402, 695.1000750426736, 679.7681406260136, 638.1670282581307, 634.0393780885219, 626.3041944574014, 9991.1295875125, 7229.582352444301, 6119.87273660739, 5652.650146797435, 4424.299810869902, 3069.3375270378065, 2923.2981305747226, 2158.5857189223298, 1792.7916162082608, 1728.7989012388261, 1424.8290698644075, 1236.1147188954212, 1140.4703878513594, 1005.016367106522, 915.4516617111426, 841.3662085145123, 825.5240706209313, 797.1478608278569, 745.6445424968185, 709.931993573226, 649.3233893112624, 641.7221839441498, 614.365521671022, 613.3866173488966, 606.479007506506, 595.6342491577205, 579.0315028477719, 572.0740567032911, 546.8153575938848, 543.8800961702879, 15548.605827216246, 7509.848222513957, 6270.515231435726, 3726.0864017439744, 3114.094599139723, 2902.5382254761753, 2204.8928474344775, 1993.4473182869374, 1715.7993156816635, 1556.4472695946322, 1352.169268910971, 1306.4738907804453, 1069.474870381924, 1060.9692344250832, 942.7088450822876, 930.3805585458915, 926.388748916519, 892.407087798516, 853.627766476018, 670.1779037339824, 669.1614642123685, 644.7138385241241, 630.5365278821945, 611.7709343532075, 608.7581600840175, 596.0035364599584, 590.8358603763926, 585.5740680747214, 582.2573312522901, 563.7937069513271], \"Total\": [233220.0, 39827.0, 50271.0, 27503.0, 20864.0, 15549.0, 28573.0, 18402.0, 36737.0, 14952.0, 15560.0, 15100.0, 32705.0, 14102.0, 24819.0, 13328.0, 12002.0, 9992.0, 12590.0, 13400.0, 11277.0, 13235.0, 10650.0, 10766.0, 10424.0, 14838.0, 7510.0, 8209.0, 7230.0, 9046.0, 28573.15554434948, 14838.61642240803, 8766.322353868236, 8535.691905226431, 8153.586865835625, 7844.488763104396, 5581.986141921845, 5408.627064020759, 4875.257717373959, 4426.769749918741, 4414.026973263844, 4271.997859244208, 4252.376698646318, 4018.8892477925788, 3994.6953988621362, 3258.0258701498606, 3244.9278429207975, 3133.6112895808546, 3049.9162781627747, 2906.29676283559, 2721.3428436011473, 2584.1761503806138, 2402.368283848295, 2344.9868372914757, 2277.498348371395, 2228.8728905278062, 2174.7838199000494, 2169.8533228270203, 2103.4028300440314, 2004.907282431303, 24819.202300535588, 50271.2976424124, 32705.246399355798, 36737.87300423549, 233220.85713441428, 2755.6550837938935, 1439.6176380274803, 1291.313518995603, 758.3458937697241, 588.8078615106189, 549.4195388467106, 473.9237004060756, 468.210254734546, 459.1221321964714, 388.98258188553893, 333.8894580105175, 275.40214501746925, 267.5398675530803, 266.34341816074624, 260.67172431393396, 258.0935357992569, 252.79262116413247, 250.02432600586312, 240.80928065577703, 239.89511303199868, 237.06506281611723, 223.17369959731636, 216.8423927022376, 204.54901711562718, 198.22474480666966, 192.75337496712203, 192.57381726812935, 190.8534860029065, 190.66070669591647, 13400.856788843976, 13235.511441276736, 4938.449086847686, 4891.52839245348, 4549.250063729654, 4321.166672251092, 3900.165209396205, 3825.291215298469, 3206.8305713632167, 3104.798655146597, 3065.4906774316455, 2990.6172392307917, 2935.2989766271, 2925.357053673057, 2835.6021269915746, 2728.533252038754, 2563.5248609046416, 2475.3411820891074, 2421.8756500140134, 2318.6323972402542, 2093.332904877309, 2069.341167942123, 1856.2776856957007, 1820.0853001274922, 1815.8634830597975, 1773.2309847478257, 1731.727508573569, 1677.3623930837678, 1522.7769501585153, 1471.900053433786, 32705.246399355798, 20864.606417988587, 9046.017948059825, 7076.449003988922, 6139.973986048505, 5700.388192695867, 5541.490545344706, 5199.156590088066, 5178.581408924535, 4379.758759090925, 4192.979902941881, 3880.956294208499, 3735.9909535849956, 3580.9520627017, 3473.817465576549, 3331.077509564593, 3211.64666697338, 3044.2500355527363, 3012.2777185357877, 2658.5901873988596, 2585.937160267967, 2531.905020280255, 2437.6723050286973, 2233.8635614509703, 2165.420973829311, 2126.2745913088047, 2098.285021503695, 1928.666166304399, 1724.2574615917356, 1569.94967617783, 1460.6106646776852, 27503.65382511986, 15560.023923791561, 12590.121186246997, 6337.52753355912, 6195.500497360047, 4175.039835941551, 2973.9265791634675, 2935.5643192824996, 2775.366201050515, 2525.730745504346, 2472.3790842186654, 2410.68473691856, 2263.757956423129, 2176.9076274646704, 1929.972120460833, 1835.0774668285956, 1654.913114174484, 1624.6316298377435, 1524.4663958096955, 1437.9727544623152, 1359.928856861089, 1306.9254924694465, 1216.9047670470834, 1206.719497392178, 1193.6756130595643, 1063.0731093208033, 1047.757219094315, 966.1706324089305, 930.3677310217181, 908.6068927397732, 36737.87300423549, 15100.609786376288, 13328.84930602555, 8382.019797410117, 8119.816177781154, 8094.333735524924, 4701.93320180057, 4510.582407976642, 3571.713753421055, 3388.5826475046993, 3292.6907840710724, 2914.280768270835, 2722.525269166773, 2714.7283519284315, 2538.118833095448, 2498.21212713887, 1800.5630228708017, 1746.1067764141364, 1732.7275685205398, 1532.461372542867, 1529.6165605352621, 1471.5899417371174, 1394.6151734791704, 1393.2592828971872, 1329.0631522026263, 1307.2984614156976, 1219.9324605101467, 1216.6185145045024, 1201.8347516532174, 1197.823626255604, 1126.2020571317623, 24819.202300535588, 36737.87300423549, 32705.246399355798, 14102.429788316877, 12002.062467624768, 10424.23522630349, 4844.525854057571, 3886.2001932554826, 3725.454824977539, 2742.2286202059336, 2475.0120166265633, 2357.85048116521, 2027.9649010917626, 1991.5496611627805, 1829.9381327492845, 1719.96132998648, 1488.1504259345215, 1388.6046901150644, 1381.6633564161666, 1364.1025975551697, 1358.5064066381622, 1356.9973496041625, 1263.8100455818987, 1263.1617868991327, 1238.4467738284488, 1235.388516532656, 1209.8645439534537, 1185.7764704393635, 1130.047503473558, 1093.2121422559185, 1026.5094068843607, 997.6622952399728, 939.371048473023, 50271.2976424124, 18402.293310260284, 5169.528242072479, 3638.394305310544, 3034.987337254654, 2981.906463069717, 2792.705678186764, 2484.3025101153466, 2432.6217374604385, 2304.0178222464892, 2256.8369376065975, 2228.885714243045, 2145.57120566017, 2104.777471473738, 1925.8627780692561, 1784.3083805767274, 1482.3975582902033, 1419.7553023922185, 1418.3617138432514, 1374.336025133926, 1355.9938275778184, 1328.3154252683912, 1322.8127118256077, 1297.7928779248687, 1292.6659094140293, 1211.4415202770292, 1207.8535143755125, 1128.5918647898764, 1062.5860529896443, 1033.9980638512664, 1029.5235810129975, 14952.882501286362, 11277.569325835004, 10766.154318081688, 7923.357710236773, 7665.903738525813, 7118.001680047699, 6901.76176546943, 6125.807073560482, 5444.103242239604, 3873.6251185836786, 3015.9677443133933, 2891.6192189797334, 2725.9663085363363, 2279.2404931497235, 1801.7475635334188, 1710.5547549587668, 1697.6509945184578, 1692.341844417398, 1607.5874981280438, 1525.30870332096, 1499.3332930741283, 1349.897289158209, 1331.3712123861249, 1318.1468818424053, 1311.279844874251, 1271.8562851424224, 1234.619583062939, 1110.807814693178, 1030.0923363010536, 843.5644135359513, 39827.69658477228, 10650.761661903562, 8209.786554543896, 4398.475534908731, 3326.382688469652, 2869.6218582065103, 2063.2260401901913, 2023.9870566898085, 1813.1421330812282, 1666.8709393954043, 1415.080351368925, 1327.2336677869123, 1285.4743205824602, 1228.4509107522422, 1166.347439634886, 1068.9565227774594, 1040.4967450539093, 985.760357667294, 967.3099350651383, 956.2132346566489, 867.6481171836799, 779.5240135695992, 738.2817365132483, 723.6373377937807, 721.4505546198254, 696.2454598045889, 680.9135125826347, 639.3123970510277, 635.1847590223823, 627.4495661392511, 9992.23807876689, 7230.690844699067, 6120.981230936086, 5653.758638084232, 4425.408303852288, 3070.446022395765, 2924.406622469515, 2159.694208814139, 1793.9001050883464, 1729.9073887307727, 1425.9375642728683, 1237.2232099809141, 1141.578877937703, 1006.1248615766218, 916.5601626412075, 842.474700141521, 826.6325623827189, 798.2563549800362, 746.7530354261007, 711.0404838411692, 650.4318827924337, 642.8306742411557, 615.4740170382087, 614.4951141335721, 607.5875047319793, 596.7427492609256, 580.1399988905955, 573.1825464725346, 547.9238599644519, 544.9885819135083, 15549.72208276183, 7510.964476917345, 6271.631487296669, 3727.2026588405834, 3115.2108559976864, 2903.6544799094418, 2206.0091041563137, 1994.563576611089, 1716.9155713121536, 1557.5635285642838, 1353.285531043411, 1307.5901423623334, 1070.5911250939337, 1062.085488028744, 943.8251004547084, 931.4968185479124, 927.5050017481727, 893.5233456755575, 854.7440227088313, 671.2941557376996, 670.277720265503, 645.8300970137507, 631.6528028137383, 612.8871902566912, 609.8744500165889, 597.1197927504701, 591.9521164958268, 586.6903232520856, 583.3735929271365, 564.9099715666988], \"Category\": [\"Default\", \"Default\", \"Default\", \"Default\", \"Default\", \"Default\", \"Default\", \"Default\", \"Default\", \"Default\", \"Default\", \"Default\", \"Default\", \"Default\", \"Default\", \"Default\", \"Default\", \"Default\", \"Default\", \"Default\", \"Default\", \"Default\", \"Default\", \"Default\", \"Default\", \"Default\", \"Default\", \"Default\", \"Default\", \"Default\", \"Topic1\", \"Topic1\", \"Topic1\", \"Topic1\", \"Topic1\", \"Topic1\", \"Topic1\", \"Topic1\", \"Topic1\", \"Topic1\", \"Topic1\", \"Topic1\", \"Topic1\", \"Topic1\", \"Topic1\", \"Topic1\", \"Topic1\", \"Topic1\", \"Topic1\", \"Topic1\", \"Topic1\", \"Topic1\", \"Topic1\", \"Topic1\", \"Topic1\", \"Topic1\", \"Topic1\", \"Topic1\", \"Topic1\", \"Topic1\", \"Topic1\", \"Topic1\", \"Topic1\", \"Topic1\", \"Topic2\", \"Topic2\", \"Topic2\", \"Topic2\", \"Topic2\", \"Topic2\", \"Topic2\", \"Topic2\", \"Topic2\", \"Topic2\", \"Topic2\", \"Topic2\", \"Topic2\", \"Topic2\", \"Topic2\", \"Topic2\", \"Topic2\", \"Topic2\", \"Topic2\", \"Topic2\", \"Topic2\", \"Topic2\", \"Topic2\", \"Topic2\", \"Topic2\", \"Topic2\", \"Topic2\", \"Topic2\", \"Topic2\", \"Topic2\", \"Topic3\", \"Topic3\", \"Topic3\", \"Topic3\", \"Topic3\", \"Topic3\", \"Topic3\", \"Topic3\", \"Topic3\", \"Topic3\", \"Topic3\", \"Topic3\", \"Topic3\", \"Topic3\", \"Topic3\", \"Topic3\", \"Topic3\", \"Topic3\", \"Topic3\", \"Topic3\", \"Topic3\", \"Topic3\", \"Topic3\", \"Topic3\", \"Topic3\", \"Topic3\", \"Topic3\", \"Topic3\", \"Topic3\", \"Topic3\", \"Topic3\", \"Topic4\", \"Topic4\", \"Topic4\", \"Topic4\", \"Topic4\", \"Topic4\", \"Topic4\", \"Topic4\", \"Topic4\", \"Topic4\", \"Topic4\", \"Topic4\", \"Topic4\", \"Topic4\", \"Topic4\", \"Topic4\", \"Topic4\", \"Topic4\", \"Topic4\", \"Topic4\", \"Topic4\", \"Topic4\", \"Topic4\", \"Topic4\", \"Topic4\", \"Topic4\", \"Topic4\", \"Topic4\", \"Topic4\", \"Topic4\", \"Topic5\", \"Topic5\", \"Topic5\", \"Topic5\", \"Topic5\", \"Topic5\", \"Topic5\", \"Topic5\", \"Topic5\", \"Topic5\", \"Topic5\", \"Topic5\", \"Topic5\", \"Topic5\", \"Topic5\", \"Topic5\", \"Topic5\", \"Topic5\", \"Topic5\", \"Topic5\", \"Topic5\", \"Topic5\", \"Topic5\", \"Topic5\", \"Topic5\", \"Topic5\", \"Topic5\", \"Topic5\", \"Topic5\", \"Topic5\", \"Topic5\", \"Topic6\", \"Topic6\", \"Topic6\", \"Topic6\", \"Topic6\", \"Topic6\", \"Topic6\", \"Topic6\", \"Topic6\", \"Topic6\", \"Topic6\", \"Topic6\", \"Topic6\", \"Topic6\", \"Topic6\", \"Topic6\", \"Topic6\", \"Topic6\", \"Topic6\", \"Topic6\", \"Topic6\", \"Topic6\", \"Topic6\", \"Topic6\", \"Topic6\", \"Topic6\", \"Topic6\", \"Topic6\", \"Topic6\", \"Topic6\", \"Topic6\", \"Topic6\", \"Topic6\", \"Topic7\", \"Topic7\", \"Topic7\", \"Topic7\", \"Topic7\", \"Topic7\", \"Topic7\", \"Topic7\", \"Topic7\", \"Topic7\", \"Topic7\", \"Topic7\", \"Topic7\", \"Topic7\", \"Topic7\", \"Topic7\", \"Topic7\", \"Topic7\", \"Topic7\", \"Topic7\", \"Topic7\", \"Topic7\", \"Topic7\", \"Topic7\", \"Topic7\", \"Topic7\", \"Topic7\", \"Topic7\", \"Topic7\", \"Topic7\", \"Topic7\", \"Topic8\", \"Topic8\", \"Topic8\", \"Topic8\", \"Topic8\", \"Topic8\", \"Topic8\", \"Topic8\", \"Topic8\", \"Topic8\", \"Topic8\", \"Topic8\", \"Topic8\", \"Topic8\", \"Topic8\", \"Topic8\", \"Topic8\", \"Topic8\", \"Topic8\", \"Topic8\", \"Topic8\", \"Topic8\", \"Topic8\", \"Topic8\", \"Topic8\", \"Topic8\", \"Topic8\", \"Topic8\", \"Topic8\", \"Topic8\", \"Topic9\", \"Topic9\", \"Topic9\", \"Topic9\", \"Topic9\", \"Topic9\", \"Topic9\", \"Topic9\", \"Topic9\", \"Topic9\", \"Topic9\", \"Topic9\", \"Topic9\", \"Topic9\", \"Topic9\", \"Topic9\", \"Topic9\", \"Topic9\", \"Topic9\", \"Topic9\", \"Topic9\", \"Topic9\", \"Topic9\", \"Topic9\", \"Topic9\", \"Topic9\", \"Topic9\", \"Topic9\", \"Topic9\", \"Topic9\", \"Topic10\", \"Topic10\", \"Topic10\", \"Topic10\", \"Topic10\", \"Topic10\", \"Topic10\", \"Topic10\", \"Topic10\", \"Topic10\", \"Topic10\", \"Topic10\", \"Topic10\", \"Topic10\", \"Topic10\", \"Topic10\", \"Topic10\", \"Topic10\", \"Topic10\", \"Topic10\", \"Topic10\", \"Topic10\", \"Topic10\", \"Topic10\", \"Topic10\", \"Topic10\", \"Topic10\", \"Topic10\", \"Topic10\", \"Topic10\", \"Topic11\", \"Topic11\", \"Topic11\", \"Topic11\", \"Topic11\", \"Topic11\", \"Topic11\", \"Topic11\", \"Topic11\", \"Topic11\", \"Topic11\", \"Topic11\", \"Topic11\", \"Topic11\", \"Topic11\", \"Topic11\", \"Topic11\", \"Topic11\", \"Topic11\", \"Topic11\", \"Topic11\", \"Topic11\", \"Topic11\", \"Topic11\", \"Topic11\", \"Topic11\", \"Topic11\", \"Topic11\", \"Topic11\", \"Topic11\", \"Topic12\", \"Topic12\", \"Topic12\", \"Topic12\", \"Topic12\", \"Topic12\", \"Topic12\", \"Topic12\", \"Topic12\", \"Topic12\", \"Topic12\", \"Topic12\", \"Topic12\", \"Topic12\", \"Topic12\", \"Topic12\", \"Topic12\", \"Topic12\", \"Topic12\", \"Topic12\", \"Topic12\", \"Topic12\", \"Topic12\", \"Topic12\", \"Topic12\", \"Topic12\", \"Topic12\", \"Topic12\", \"Topic12\", \"Topic12\"], \"logprob\": [30.0, 29.0, 28.0, 27.0, 26.0, 25.0, 24.0, 23.0, 22.0, 21.0, 20.0, 19.0, 18.0, 17.0, 16.0, 15.0, 14.0, 13.0, 12.0, 11.0, 10.0, 9.0, 8.0, 7.0, 6.0, 5.0, 4.0, 3.0, 2.0, 1.0, -2.5437, -3.199, -3.7254, -3.752, -3.7979, -3.8365, -4.1768, -4.2084, -4.3122, -4.4088, -4.4116, -4.4444, -4.449, -4.5054, -4.5115, -4.7154, -4.7194, -4.7543, -4.7814, -4.8297, -4.8955, -4.9472, -5.0202, -5.0444, -5.0736, -5.0952, -5.1198, -5.122, -5.1532, -5.2011, -2.8998, -2.5133, -3.1935, -3.1163, -0.107, -4.5458, -5.1954, -5.3042, -5.8372, -6.0907, -6.16, -6.3082, -6.3204, -6.34, -6.5063, -6.6595, -6.8528, -6.8819, -6.8864, -6.908, -6.918, -6.9389, -6.9499, -6.9877, -6.9915, -7.0034, -7.0641, -7.0931, -7.1518, -7.1833, -7.2115, -7.2124, -7.2215, -7.2225, -2.7126, -2.725, -3.711, -3.7205, -3.7931, -3.8445, -3.9471, -3.9665, -4.1429, -4.1752, -4.188, -4.2127, -4.2314, -4.2348, -4.2659, -4.3044, -4.3668, -4.4019, -4.4237, -4.4673, -4.5696, -4.5811, -4.6898, -4.7095, -4.7119, -4.7356, -4.7593, -4.7912, -4.888, -4.922, -2.7029, -2.1463, -2.9821, -3.2277, -3.3697, -3.444, -3.4723, -3.536, -3.54, -3.7076, -3.7512, -3.8285, -3.8666, -3.909, -3.9394, -3.9814, -4.0179, -4.0714, -4.082, -4.207, -4.2347, -4.2558, -4.2937, -4.3811, -4.4122, -4.4305, -4.4437, -4.5281, -4.6402, -4.734, -4.8062, -1.8363, -2.406, -2.6178, -3.3043, -3.3269, -3.7217, -4.0611, -4.0741, -4.1302, -4.2245, -4.2459, -4.2711, -4.3341, -4.3732, -4.4937, -4.5441, -4.6475, -4.666, -4.7297, -4.7881, -4.844, -4.8838, -4.9552, -4.9636, -4.9745, -5.0905, -5.105, -5.1862, -5.224, -5.2477, -2.4466, -2.4228, -2.5476, -3.0115, -3.0433, -3.0464, -3.5897, -3.6313, -3.8647, -3.9174, -3.9461, -4.0682, -4.1363, -4.1392, -4.2065, -4.2223, -4.55, -4.5807, -4.5884, -4.7113, -4.7131, -4.7519, -4.8056, -4.8066, -4.8538, -4.8703, -4.9396, -4.9423, -4.9545, -4.9579, -5.0196, -3.5677, -3.4003, -3.6895, -2.3246, -2.4858, -2.6268, -3.3932, -3.6137, -3.6559, -3.9625, -4.065, -4.1136, -4.2644, -4.2825, -4.3672, -4.4292, -4.5741, -4.6433, -4.6484, -4.6612, -4.6653, -4.6664, -4.7376, -4.7381, -4.7579, -4.7604, -4.7813, -4.8014, -4.8496, -4.8827, -4.9458, -4.9743, -5.0346, -1.9351, -2.0414, -3.3113, -3.6626, -3.844, -3.8616, -3.9272, -4.0443, -4.0653, -4.1197, -4.1404, -4.1528, -4.191, -4.2102, -4.299, -4.3754, -4.5609, -4.6041, -4.6051, -4.6367, -4.6501, -4.6708, -4.6749, -4.694, -4.698, -4.7629, -4.7659, -4.8339, -4.8942, -4.9215, -4.9258, -2.1983, -2.4805, -2.5269, -2.8335, -2.8665, -2.9407, -2.9716, -3.0908, -3.2088, -3.5493, -3.7996, -3.8417, -3.9008, -4.0798, -4.315, -4.367, -4.3746, -4.3777, -4.4291, -4.4817, -4.4989, -4.604, -4.6178, -4.6278, -4.633, -4.6636, -4.6933, -4.7991, -4.8746, -5.0746, -1.0907, -2.4097, -2.67, -3.2942, -3.5737, -3.7214, -4.0515, -4.0707, -4.1808, -4.2649, -4.4288, -4.493, -4.525, -4.5704, -4.6223, -4.7096, -4.7366, -4.7907, -4.8096, -4.8212, -4.9185, -5.0257, -5.0802, -5.1002, -5.1033, -5.1389, -5.1612, -5.2244, -5.2308, -5.2431, -2.1595, -2.483, -2.6496, -2.729, -2.974, -3.3397, -3.3884, -3.6917, -3.8774, -3.9137, -4.1071, -4.2492, -4.3297, -4.4562, -4.5495, -4.6339, -4.6529, -4.6879, -4.7547, -4.8037, -4.893, -4.9048, -4.9483, -4.9499, -4.9612, -4.9793, -5.0076, -5.0196, -5.0648, -5.0702, -1.6861, -2.4138, -2.5942, -3.1147, -3.2941, -3.3644, -3.6394, -3.7402, -3.8902, -3.9876, -4.1283, -4.1627, -4.3629, -4.3708, -4.489, -4.5022, -4.5065, -4.5439, -4.5883, -4.8302, -4.8318, -4.869, -4.8912, -4.9214, -4.9264, -4.9475, -4.9562, -4.9652, -4.9709, -5.0031], \"loglift\": [30.0, 29.0, 28.0, 27.0, 26.0, 25.0, 24.0, 23.0, 22.0, 21.0, 20.0, 19.0, 18.0, 17.0, 16.0, 15.0, 14.0, 13.0, 12.0, 11.0, 10.0, 9.0, 8.0, 7.0, 6.0, 5.0, 4.0, 3.0, 2.0, 1.0, 1.7323, 1.7323, 1.7322, 1.7322, 1.7322, 1.7322, 1.7321, 1.7321, 1.7321, 1.7321, 1.7321, 1.7321, 1.7321, 1.7321, 1.7321, 1.732, 1.732, 1.732, 1.732, 1.732, 1.7319, 1.7319, 1.7319, 1.7319, 1.7318, 1.7318, 1.7318, 1.7318, 1.7318, 1.7318, 1.5171, 1.1978, 0.9475, 0.9084, 2.0695, 2.0691, 2.0687, 2.0686, 2.068, 2.0675, 2.0674, 2.067, 2.067, 2.0669, 2.0665, 2.066, 2.0652, 2.0651, 2.0651, 2.065, 2.0649, 2.0648, 2.0648, 2.0646, 2.0646, 2.0645, 2.0642, 2.064, 2.0637, 2.0635, 2.0634, 2.0634, 2.0633, 2.0633, 2.3206, 2.3206, 2.3205, 2.3205, 2.3205, 2.3205, 2.3204, 2.3204, 2.3204, 2.3204, 2.3204, 2.3204, 2.3203, 2.3203, 2.3203, 2.3203, 2.3203, 2.3203, 2.3203, 2.3202, 2.3202, 2.3202, 2.3201, 2.3201, 2.3201, 2.3201, 2.3201, 2.3201, 2.32, 2.32, 1.4381, 2.4441, 2.4441, 2.444, 2.444, 2.444, 2.444, 2.444, 2.444, 2.4439, 2.4439, 2.4439, 2.4439, 2.4439, 2.4439, 2.4439, 2.4438, 2.4438, 2.4438, 2.4438, 2.4438, 2.4437, 2.4437, 2.4437, 2.4437, 2.4437, 2.4437, 2.4436, 2.4435, 2.4435, 2.4434, 2.4779, 2.4779, 2.4778, 2.4778, 2.4778, 2.4777, 2.4776, 2.4775, 2.4775, 2.4775, 2.4775, 2.4775, 2.4774, 2.4774, 2.4773, 2.4773, 2.4773, 2.4772, 2.4772, 2.4771, 2.4771, 2.4771, 2.477, 2.477, 2.477, 2.4769, 2.4769, 2.4768, 2.4767, 2.4767, 1.5781, 2.491, 2.491, 2.491, 2.491, 2.491, 2.4909, 2.4908, 2.4908, 2.4908, 2.4907, 2.4907, 2.4907, 2.4907, 2.4906, 2.4906, 2.4905, 2.4904, 2.4904, 2.4904, 2.4904, 2.4903, 2.4903, 2.4903, 2.4902, 2.4902, 2.4902, 2.4902, 2.4902, 2.4902, 2.4901, 0.8492, 0.6244, 0.4515, 2.6576, 2.6576, 2.6576, 2.6575, 2.6574, 2.6574, 2.6573, 2.6572, 2.6572, 2.6571, 2.6571, 2.6571, 2.657, 2.6569, 2.6569, 2.6569, 2.6569, 2.6569, 2.6569, 2.6568, 2.6568, 2.6568, 2.6568, 2.6568, 2.6567, 2.6567, 2.6567, 2.6566, 2.6566, 2.6565, 1.776, 2.6746, 2.6745, 2.6744, 2.6743, 2.6743, 2.6743, 2.6742, 2.6742, 2.6742, 2.6742, 2.6742, 2.6742, 2.6742, 2.6741, 2.6741, 2.6739, 2.6739, 2.6739, 2.6739, 2.6739, 2.6738, 2.6738, 2.6738, 2.6738, 2.6738, 2.6738, 2.6737, 2.6736, 2.6736, 2.6736, 2.7253, 2.7252, 2.7252, 2.7252, 2.7252, 2.7252, 2.7252, 2.7252, 2.7251, 2.7251, 2.725, 2.725, 2.7249, 2.7249, 2.7247, 2.7247, 2.7247, 2.7247, 2.7246, 2.7246, 2.7246, 2.7245, 2.7245, 2.7245, 2.7245, 2.7245, 2.7244, 2.7243, 2.7243, 2.724, 2.8533, 2.8532, 2.8532, 2.8531, 2.853, 2.8529, 2.8528, 2.8528, 2.8527, 2.8526, 2.8525, 2.8525, 2.8524, 2.8524, 2.8523, 2.8523, 2.8522, 2.8522, 2.8521, 2.8521, 2.852, 2.8519, 2.8518, 2.8517, 2.8517, 2.8517, 2.8516, 2.8515, 2.8515, 2.8515, 3.1672, 3.1672, 3.1672, 3.1672, 3.1671, 3.167, 3.167, 3.1668, 3.1667, 3.1667, 3.1666, 3.1665, 3.1664, 3.1663, 3.1661, 3.166, 3.166, 3.166, 3.1659, 3.1658, 3.1657, 3.1656, 3.1656, 3.1656, 3.1655, 3.1655, 3.1654, 3.1654, 3.1653, 3.1653, 3.1984, 3.1983, 3.1983, 3.1982, 3.1981, 3.1981, 3.198, 3.1979, 3.1978, 3.1978, 3.1977, 3.1976, 3.1974, 3.1974, 3.1973, 3.1973, 3.1973, 3.1972, 3.1972, 3.1968, 3.1968, 3.1968, 3.1967, 3.1967, 3.1967, 3.1966, 3.1966, 3.1966, 3.1966, 3.1965]}, \"token.table\": {\"Topic\": [2, 6, 2, 1, 12, 12, 11, 6, 1, 9, 7, 7, 11, 12, 9, 1, 7, 4, 3, 8, 7, 1, 5, 6, 5, 7, 1, 1, 2, 2, 2, 3, 12, 11, 9, 6, 3, 1, 1, 6, 3, 11, 11, 4, 6, 3, 9, 10, 7, 9, 5, 1, 1, 2, 8, 6, 10, 11, 6, 12, 1, 5, 9, 9, 4, 11, 4, 9, 6, 10, 11, 1, 11, 8, 7, 8, 5, 1, 1, 2, 4, 9, 9, 10, 7, 6, 11, 2, 7, 10, 2, 10, 3, 4, 5, 8, 10, 3, 9, 1, 12, 5, 4, 1, 5, 12, 10, 5, 2, 11, 2, 10, 6, 1, 3, 6, 11, 10, 5, 8, 12, 9, 3, 11, 2, 9, 5, 12, 8, 3, 10, 10, 10, 5, 11, 8, 7, 5, 10, 8, 6, 11, 8, 9, 12, 8, 9, 4, 11, 7, 9, 8, 12, 5, 4, 8, 9, 8, 10, 7, 8, 1, 6, 8, 3, 3, 1, 2, 3, 10, 6, 11, 3, 10, 4, 6, 5, 11, 6, 8, 12, 7, 12, 6, 1, 5, 3, 5, 12, 1, 5, 9, 1, 3, 2, 2, 9, 8, 6, 4, 9, 4, 2, 2, 5, 6, 1, 5, 3, 1, 12, 8, 8, 10, 3, 4, 7, 7, 12, 1, 11, 7, 3, 4, 6, 3, 6, 10, 6, 2, 2, 5, 12, 11, 10, 2, 6, 10, 9, 3, 7, 6, 8, 7, 8, 1, 12, 7, 11, 3, 6, 3, 1, 4, 12, 7, 9, 9, 10, 3, 5, 9, 12, 2, 4, 10, 4, 7, 8, 7, 5, 2, 7, 10, 4, 9, 12, 10, 8, 7, 11, 5, 3, 12, 11, 11, 8, 7, 10, 5, 6, 11, 9, 7, 7, 9, 7, 8, 10, 11, 6, 1, 3, 5, 11, 12, 5, 8, 4, 7, 6, 12, 12, 2, 9, 9, 2, 6, 4, 2, 6, 12, 2, 8, 3, 4, 8, 7, 1, 8, 4, 12, 10, 10, 3, 5, 3, 1, 10, 2, 1, 11, 2, 12, 4, 4, 4, 1, 6, 4, 11, 6, 1, 9, 4, 4, 11, 5, 2, 12, 1, 7, 5, 3, 12, 4, 2, 4, 5, 3], \"Freq\": [0.9999963247951971, 0.9993123977207072, 0.9947408695584017, 0.9997673386977323, 0.9989961702777381, 0.9985661802743744, 0.998616934871329, 0.9998783351227072, 0.9994858042584247, 0.9990910814434559, 0.9993451797545992, 0.9996850354186275, 0.9994982412422, 0.998783913773271, 0.9990124965951201, 0.9993330663893791, 0.9990730447433952, 0.9996545974020608, 0.9994897807203909, 0.9992933626757265, 0.9993590448305657, 0.43867536909776994, 0.40666480605117167, 0.15463606179228287, 0.9995830656968538, 0.998529573256477, 0.999891066500945, 0.9996395872118979, 0.9966393294578466, 0.9960915082952476, 0.9949087360326104, 0.9996384413815761, 0.9982951249310607, 0.9981860502287273, 0.9998286445864967, 0.999893395935723, 0.9996875429659495, 0.9995474691327357, 0.8063514595538845, 0.19360009809405962, 0.9997300098932579, 0.999234771999671, 0.9987077868645016, 0.9997986494031146, 0.9994397594086465, 0.9994380673068182, 0.9994400303576954, 0.9994057654535621, 0.9988912103981784, 0.9995804657048815, 0.9997509398754475, 0.9998261147603724, 0.9996995726835732, 0.9912897275757762, 0.9996306158326592, 0.9992356457916065, 0.9979893914967051, 0.9982978066200132, 0.9995801021846954, 0.9981246765488847, 0.9996851252289739, 0.9990380924015602, 0.9998821093302709, 0.9991107427012479, 0.9996425536214802, 0.9987553275480171, 0.9998413696783214, 0.9996455170655226, 0.9999362806191255, 0.9990704969163648, 0.9973871998360474, 0.9997664185991928, 0.9975669226667813, 0.9996026201624492, 0.999551962882715, 0.9994757039007757, 0.9996884324011361, 0.999553809214471, 0.9996762519541704, 0.9955280565171678, 0.9996946250720691, 0.9991299286458863, 0.999940981193005, 0.999512320651189, 0.9996911653554118, 0.9997902068197797, 0.9998658170373383, 0.991827459773838, 0.9994410746510868, 0.9982638924277042, 0.9974151468868785, 0.9993700807783408, 0.9995361066535953, 0.9998874700375712, 0.9982314763924717, 0.9997473137995615, 0.9992530183943882, 0.9994037091957084, 0.9996165321844361, 0.999918939760934, 0.9991295373947473, 0.9992918552168588, 0.9997564740068676, 0.9997140636199903, 0.9989905592462132, 0.9985524411820068, 0.998645795915401, 0.9987883792265433, 0.9959030946219245, 0.9980349589878726, 0.9988763418947153, 0.9976897487583417, 0.9990961604113137, 0.4561959209178709, 0.4136950945052811, 0.13007087450299082, 0.9998760959499633, 0.9980449433974196, 0.9992565013536113, 0.9990399389450794, 0.9976454317716982, 0.9989700750824653, 0.9998858040897444, 0.9985366742614311, 0.9968645399518293, 0.9995850897492251, 0.9994963033659777, 0.9980721480640965, 0.9988100785280172, 0.9997065704592267, 0.9981347804626078, 0.9987312090936658, 0.9999041930580448, 0.999611216582182, 0.9996785615244483, 0.9985073651351043, 0.9991917048196038, 0.9992772952736423, 0.9988530921552815, 0.9993890566527561, 0.9990463886600666, 0.9977985661061288, 0.9996960122388333, 0.9998896273885833, 0.9985137882645962, 0.9985895124362139, 0.9994557427557769, 0.9997347548221324, 0.9983138898815032, 0.9988760486971717, 0.9992071079363638, 0.999629154595686, 0.9991257909391148, 0.9997578085320651, 0.999400551878852, 0.999929720158326, 0.9991420075699361, 0.9990278759273623, 0.997947174093477, 0.9999114762460507, 0.9993856183733779, 0.9998491552312524, 0.9990067597767296, 0.9992670854707402, 0.9994581829370384, 0.9995574636050899, 0.9994304437593959, 0.9989828039617948, 0.9995137230582302, 0.9999825100412021, 0.9995329470550571, 0.9995190058527746, 0.9993518865023806, 0.9999284875647639, 0.9997242020482776, 0.9986696614549208, 0.9996651777982807, 0.9996817686062862, 0.9998015280607958, 0.9996746815900895, 0.9980937449852922, 0.9995198856414002, 0.9990500666607882, 0.9996491787903391, 0.9993421078120797, 0.9994422035732836, 0.9991877765416792, 0.9994482404141565, 0.9983773653561586, 0.9998102154073574, 0.9999109471441607, 0.9998608453834632, 0.9997420203306429, 0.999742767491453, 0.9962687316940914, 0.9955072974336021, 0.9998927826921681, 0.999266729568179, 0.9993661462007442, 0.9994018681756982, 0.998688192634268, 0.9988972662485381, 0.9975559178750477, 0.9974162934764018, 0.9985299027727282, 0.9995148021556287, 0.9996991724514375, 0.9997159575003428, 0.9997012410157914, 0.9995448644704655, 0.9989665163982011, 0.9990347526884635, 0.9990572311169919, 0.9996645349287452, 0.9994349958422148, 0.9995758297689734, 0.9988443866519482, 0.9988911302657085, 0.9992160808362169, 0.999823334939075, 0.9993424927595996, 0.9992218817371213, 0.9994051702295161, 0.9995893781594358, 0.9995605199455113, 0.9996624530719896, 0.99955918805658, 0.9992286587086, 0.9998994832194124, 0.9986279709164442, 0.9949560677338178, 0.9993235237181675, 0.9983915650112665, 0.9976050702427668, 0.9982111771257532, 0.9961151844353869, 0.9993054355833286, 0.9992365441525071, 0.9981454723423031, 0.9997409992998589, 0.9996392980929012, 0.9998001649991208, 0.9994680052323482, 0.9985404612210992, 0.9985201106209745, 0.9998053781897788, 0.9995425657335627, 0.9995911063785692, 0.9979368763410328, 0.99972725420338, 0.9988418500602277, 0.9994592289479319, 0.9995791715007597, 0.9998267577890334, 0.9996773293671781, 0.9990802548721928, 0.9992727682660378, 0.9993352907918137, 0.9977373503158742, 0.9993632618709603, 0.9994340061469191, 0.9996791264378679, 0.9998993105226371, 0.9993993864458484, 0.9993950913253843, 0.9994348181444631, 0.9997310208629773, 0.999881504371623, 0.9990097041385141, 0.9993361528814583, 0.9997589701108152, 0.997336070399415, 0.9992854208698202, 0.9991051808403076, 0.9997662991560743, 0.9998682502483688, 0.9989779654830245, 0.9995843266998579, 0.999704374944692, 0.999487341821838, 0.9989915870570636, 0.9994037575478536, 0.9993116947396683, 0.9987146820540124, 0.9998396938498804, 0.9988819861037336, 0.9995520043904057, 0.9995242022723159, 0.9988189102718368, 0.999467114628617, 0.9989195755610829, 0.9984261259278447, 0.9998592751037828, 0.998831783602636, 0.9996094906405025, 0.9990239727398741, 0.9992269424417903, 0.9994848557471967, 0.9986584014478288, 0.9994754697640558, 0.9989431596277328, 0.9999595583922228, 0.9993885091370937, 0.9999341952302531, 0.9999044566122511, 0.9983931039611645, 0.9994128494038687, 0.9996167800426389, 0.9993437886459563, 0.9992650320175986, 0.9998352260274282, 0.9998715908029776, 0.9999535629795834, 0.9938214333035759, 0.9997973509703042, 0.9993267437898249, 0.9980509512284695, 0.9989326452352398, 0.9997341314027584, 0.9974739694492848, 0.9991319254861128, 0.998823360084995, 0.9924271593309512, 0.9997444167126914, 0.9995798943136451, 0.9992707228359188, 0.9995582402893495, 0.9998986140446477, 0.9995065511115938, 0.9992676981980252, 0.9997646780279478, 0.9983891741826133, 0.9988447356344282, 0.9994775004022086, 0.999725215428446, 0.9997106795703989, 0.9995244779864494, 0.9996067370922987, 0.9985615091435661, 0.9942443435919891, 0.9996083713290624, 0.9990113263548192, 0.9982252244249209, 0.9996113084944619, 0.9996765282220245, 0.9997535931517894, 0.9999230075105945, 0.999778732943918, 0.9997317035688252, 0.999387584865485, 0.9982495615105436, 0.999200073976271, 0.9998259194274651, 0.9989395743832286, 0.9997952357194823, 0.9996375935647756, 0.9995290513543578, 0.9993169812844234, 0.9957630252308703, 0.9997746013122532, 0.5859208212510849, 0.41407325802622924, 0.999507740257845, 0.9993057956022572, 0.9994667348077845, 0.999777542747939, 0.9935868598010245, 0.9996134224731212, 0.9999762276996351, 0.9999360646220256], \"Term\": [\"(\", \"\\u0430\\u0445\\u0430\\u0445\", \"\\u0431\\u0435\\u0434\\u0430\", \"\\u0431\\u0435\\u0437\", \"\\u0431\\u0435\\u0441\\u0438\\u0442\\u044c\", \"\\u0431\\u0438\\u0430\\u0442\\u043b\\u043e\\u043d\", \"\\u0431\\u0438\\u043b\\u0435\\u0442\", \"\\u0431\\u043b\\u0438\\u043d\", \"\\u0431\\u043b\\u044f\", \"\\u0431\\u043b\\u044f\\u0442\\u044c\", \"\\u0431\\u043e\\u0436\\u0435\", \"\\u0431\\u043e\\u043b\\u0435\\u0442\\u044c\", \"\\u0431\\u043e\\u043b\\u044c\", \"\\u0431\\u043e\\u043b\\u044c\\u043d\\u0438\\u0446\\u0430\", \"\\u0431\\u043e\\u043b\\u044c\\u043d\\u043e\", \"\\u0431\\u043e\\u043b\\u044c\\u0448\\u0435\", \"\\u0431\\u043e\\u043b\\u044c\\u0448\\u043e\\u0439\", \"\\u0431\\u043e\\u044f\\u0442\\u044c\\u0441\\u044f\", \"\\u0431\\u0443\\u0434\\u0442\\u043e\", \"\\u0431\\u044b\\u0432\\u0430\\u0442\\u044c\", \"\\u0431\\u044b\\u0441\\u0442\\u0440\\u043e\", \"\\u0431\\u044b\\u0442\\u044c\", \"\\u0431\\u044b\\u0442\\u044c\", \"\\u0431\\u044b\\u0442\\u044c\", \"\\u0432\\u0435\\u0434\\u044c\", \"\\u0432\\u0435\\u0440\\u0438\\u0442\\u044c\", \"\\u0432\\u0435\\u0441\\u044c\", \"\\u0432\\u0435\\u0447\\u0435\\u0440\", \"\\u0432\\u0435\\u0449\\u044c\", \"\\u0432\\u0436\\u0435\", \"\\u0432\\u0438\\u0434\", \"\\u0432\\u0438\\u0434\\u0435\\u0442\\u044c\", \"\\u0432\\u043c\\u0435\\u0441\\u0442\\u043e\", \"\\u0432\\u043e\\u043b\\u043e\\u0441\", \"\\u0432\\u043e\\u043e\\u0431\\u0449\\u0435\", \"\\u0432\\u043e\\u0442\", \"\\u0432\\u0440\\u0435\\u043c\\u044f\", \"\\u0432\\u0440\\u043e\\u0434\\u0435\", \"\\u0432\\u0441\\u0435\", \"\\u0432\\u0441\\u0435\", \"\\u0432\\u0441\\u0435\\u0433\\u0434\\u0430\", \"\\u0432\\u0441\\u0435\\u0433\\u043e\", \"\\u0432\\u0441\\u043f\\u043e\\u043c\\u0438\\u043d\\u0430\\u0442\\u044c\", \"\\u0432\\u0441\\u0442\\u0430\\u0432\\u0430\\u0442\\u044c\", \"\\u0432\\u0442\\u043e\\u0440\\u043e\\u0439\", \"\\u0432\\u0447\\u0435\\u0440\\u0430\", \"\\u0432\\u044b\\u0445\\u043e\\u0434\\u0438\\u0442\\u044c\", \"\\u0432\\u044b\\u0445\\u043e\\u0434\\u043d\\u043e\\u0439\", \"\\u0433\\u0430\\u0432\\u043d\\u043e\", \"\\u0433\\u0434\\u0435\", \"\\u0433\\u043e\\u0432\\u043e\\u0440\\u0438\\u0442\\u044c\", \"\\u0433\\u043e\\u0434\", \"\\u0433\\u043e\\u043b\\u043e\\u0432\\u0430\", \"\\u0433\\u043e\\u0440\\u0435\", \"\\u0433\\u043e\\u0440\\u043e\\u0434\", \"\\u0433\\u043e\\u0441\\u0442\\u044c\", \"\\u0433\\u0440\\u0443\\u0441\\u0442\\u043d\\u044b\\u0439\", \"\\u0433\\u0443\\u0431\\u0430\", \"\\u0433\\u0443\\u043b\\u044f\\u0442\\u044c\", \"\\u0434\\u0430\\u0430\", \"\\u0434\\u0430\\u0432\\u0430\\u0442\\u044c\", \"\\u0434\\u0430\\u0432\\u043d\\u043e\", \"\\u0434\\u0430\\u0436\\u0435\", \"\\u0434\\u0430\\u043b\\u0435\\u043a\\u043e\", \"\\u0434\\u0432\\u0430\", \"\\u0434\\u0432\\u0435\\u0440\\u044c\", \"\\u0434\\u0435\\u043b\\u0430\\u0442\\u044c\", \"\\u0434\\u0435\\u043b\\u043e\", \"\\u0434\\u0435\\u043d\\u044c\", \"\\u0434\\u0435\\u043d\\u044c\\u0433\\u0438\", \"\\u0434\\u043b\\u0438\\u043d\\u043d\\u044b\\u0439\", \"\\u0434\\u043b\\u044f\", \"\\u0434\\u043e\\u0431\\u0440\\u043e\", \"\\u0434\\u043e\\u043c\", \"\\u0434\\u043e\\u043c\\u0430\", \"\\u0434\\u043e\\u043c\\u043e\\u0439\", \"\\u0434\\u0440\\u0443\\u0433\", \"\\u0434\\u0440\\u0443\\u0433\\u043e\\u0439\", \"\\u0434\\u0443\\u043c\\u0430\\u0442\\u044c\", \"\\u0435\\u0431\\u0430\\u043d\\u044b\\u0439\", \"\\u0435\\u0441\\u043b\\u0438\", \"\\u0435\\u0441\\u0442\\u044c\", \"\\u0435\\u0449\\u0435\", \"\\u0436\\u0430\\u043b\\u043a\\u043e\", \"\\u0436\\u0430\\u043b\\u044c\", \"\\u0436\\u0434\\u0430\\u0442\\u044c\", \"\\u0436\\u0438\\u0437\\u043d\\u044c\", \"\\u0436\\u0438\\u0437\\u043d\\u044c\\u0431\\u043e\\u043b\\u044c\", \"\\u0436\\u0438\\u0442\\u044c\", \"\\u0436\\u0440\\u0430\\u0442\\u044c\", \"\\u0437\\u0430\\u0431\\u0438\\u0440\\u0430\\u0442\\u044c\", \"\\u0437\\u0430\\u0431\\u043e\\u043b\\u0435\\u0432\\u0430\\u0442\\u044c\", \"\\u0437\\u0430\\u0431\\u044b\\u0432\\u0430\\u0442\\u044c\", \"\\u0437\\u0430\\u0432\\u0442\\u0440\\u0430\", \"\\u0437\\u0430\\u0439\\u0442\\u0438\", \"\\u0437\\u0430\\u043a\\u0430\\u043d\\u0447\\u0438\\u0432\\u0430\\u0442\\u044c\\u0441\\u044f\", \"\\u0437\\u0430\\u0442\\u043e\", \"\\u0437\\u0430\\u0447\\u0435\\u043c\", \"\\u0437\\u0438\\u043c\\u0430\", \"\\u0437\\u043d\\u0430\\u0442\\u044c\", \"\\u0437\\u043d\\u0430\\u0447\\u0438\\u0442\", \"\\u0438\\u0431\\u043e\", \"\\u0438\\u0434\\u0442\\u0438\", \"\\u0438\\u043b\\u0438\", \"\\u0438\\u043c\\u0435\\u043d\\u043d\\u043e\", \"\\u0438\\u043c\\u0435\\u0442\\u044c\", \"\\u0438\\u043d\\u043e\\u0433\\u0434\\u0430\", \"\\u0438\\u0441\\u043a\\u0430\\u0442\\u044c\", \"\\u0438\\u0441\\u043f\\u043e\\u0440\\u0442\\u0438\\u0442\\u044c\", \"\\u0438\\u0442\\u043e\\u0433\", \"\\u043a\\u0430\\u0436\\u0434\\u044b\\u0439\", \"\\u043a\\u0430\\u0436\\u0435\\u0442\\u0441\\u044f\", \"\\u043a\\u0430\\u0437\\u0430\\u0442\\u044c\\u0441\\u044f\", \"\\u043a\\u0430\\u043a\", \"\\u043a\\u0430\\u043a\", \"\\u043a\\u0430\\u043a\", \"\\u043a\\u0430\\u043a\\u043e\\u0439\", \"\\u043a\\u0430\\u043d\\u0438\\u043a\\u0443\\u043b\\u044b\", \"\\u043a\\u0430\\u043f\\u0435\\u0446\", \"\\u043a\\u0438\\u0435\\u0432\", \"\\u043a\\u0438\\u043d\\u043e\", \"\\u043a\\u043b\\u0430\\u0441\\u0441\", \"\\u043a\\u043e\\u0433\\u0434\\u0430\", \"\\u043a\\u043e\\u043c\\u043f\", \"\\u043a\\u043e\\u043d\\u0435\\u043a\", \"\\u043a\\u043e\\u043d\\u0435\\u0446\", \"\\u043a\\u043e\\u043d\\u0435\\u0447\\u043d\\u043e\", \"\\u043a\\u043e\\u043d\\u0446\\u0435\\u0440\\u0442\", \"\\u043a\\u043e\\u0442\", \"\\u043a\\u043e\\u0442\\u043e\\u0440\\u044b\\u0439\", \"\\u043a\\u0440\\u043e\\u043c\\u0435\", \"\\u043a\\u0440\\u0443\\u0442\\u043e\", \"\\u043a\\u0442\\u043e\", \"\\u043a\\u0443\\u0434\\u0430\", \"\\u043a\\u0443\\u043f\\u0438\\u0442\\u044c\", \"\\u043b\\u0435\\u0436\\u0430\\u0442\\u044c\", \"\\u043b\\u0435\\u043d\\u0442\\u0430\", \"\\u043b\\u0435\\u043d\\u044c\", \"\\u043b\\u0435\\u0442\\u043e\", \"\\u043b\\u0438\\u0448\\u044c\", \"\\u043b\\u043e\\u0436\\u0438\\u0442\\u044c\\u0441\\u044f\", \"\\u043b\\u044b\\u0436\\u0430\", \"\\u043b\\u044e\\u0431\\u0438\\u043c\\u044b\\u0439\", \"\\u043b\\u044e\\u0431\\u0438\\u0442\\u044c\", \"\\u043b\\u044e\\u0431\\u043e\\u0432\\u044c\", \"\\u043c\\u0430\\u043b\\u0435\\u043d\\u044c\\u043a\\u0438\\u0439\", \"\\u043c\\u0430\\u043b\\u043e\", \"\\u043c\\u0430\\u043c\\u0430\", \"\\u043c\\u0430\\u0442\\u0447\", \"\\u043c\\u0435\\u0441\\u0442\\u043e\", \"\\u043c\\u0435\\u0441\\u044f\\u0446\", \"\\u043c\\u0438\\u043d\\u0443\\u0442\\u0430\", \"\\u043c\\u0438\\u0440\", \"\\u043c\\u043d\\u043e\\u0433\\u043e\", \"\\u043c\\u043e\\u0436\\u043d\\u043e\", \"\\u043c\\u043e\\u0439\", \"\\u043c\\u043e\\u043c\\u0435\\u043d\\u0442\", \"\\u043c\\u043e\\u0440\\u043e\\u0437\", \"\\u043c\\u043e\\u0441\\u043a\\u0432\\u0430\", \"\\u043c\\u043e\\u0447\\u044c\", \"\\u043c\\u044b\\u0441\\u043b\\u044c\", \"\\u043d\\u0430\\u0434\\u043e\", \"\\u043d\\u0430\\u0434\\u043e\\u0435\\u0434\\u0430\\u0442\\u044c\", \"\\u043d\\u0430\\u0437\\u0430\\u0434\", \"\\u043d\\u0430\\u043f\\u0438\\u0441\\u0430\\u0442\\u044c\", \"\\u043d\\u0430\\u0441\\u0442\\u0440\\u043e\\u0435\\u043d\\u0438\\u0435\", \"\\u043d\\u0430\\u0445\\u043e\\u0434\\u0438\\u0442\\u044c\", \"\\u043d\\u0430\\u0447\\u0438\\u043d\\u0430\\u0442\\u044c\", \"\\u043d\\u0430\\u0448\", \"\\u043d\\u0435\\u0433\\u0430\\u0442\\u0438\\u0432\", \"\\u043d\\u0435\\u0434\\u0435\\u043b\\u044f\", \"\\u043d\\u0435\\u043b\\u044c\\u0437\\u044f\", \"\\u043d\\u0435\\u043d\\u0430\\u0432\\u0438\\u0434\\u0435\\u0442\\u044c\", \"\\u043d\\u0435\\u0442\", \"\\u043d\\u0438\\u0431\\u0443\\u0434\\u044c\", \"\\u043d\\u0438\\u043a\\u0430\\u043a\", \"\\u043d\\u0438\\u043a\\u043e\\u0433\\u0434\\u0430\", \"\\u043d\\u0438\\u043a\\u0442\\u043e\", \"\\u043d\\u0438\\u0447\\u0442\\u043e\", \"\\u043d\\u043e\\u0432\\u044b\\u0439\", \"\\u043d\\u043e\\u0433\\u043e\\u0442\\u044c\", \"\\u043d\\u043e\\u0440\\u043c\\u0430\\u043b\\u044c\\u043d\\u043e\", \"\\u043d\\u043e\\u0440\\u043c\\u0430\\u043b\\u044c\\u043d\\u044b\\u0439\", \"\\u043d\\u043e\\u0447\\u044c\", \"\\u043d\\u0440\\u0430\\u0432\\u0438\\u0442\\u044c\\u0441\\u044f\", \"\\u043d\\u0443\\u0436\\u043d\\u043e\", \"\\u043d\\u0443\\u0436\\u043d\\u044b\\u0439\", \"\\u043e\\u0431\\u0438\\u0434\\u043d\\u043e\", \"\\u043e\\u0431\\u0438\\u0436\\u0430\\u0442\\u044c\\u0441\\u044f\", \"\\u043e\\u0434\\u0438\\u043d\", \"\\u043e\\u043d\\u0430\", \"\\u043e\\u043d\\u0438\", \"\\u043e\\u043f\\u044f\\u0442\\u044c\", \"\\u043e\\u0441\\u0442\\u0430\\u0432\\u0430\\u0442\\u044c\\u0441\\u044f\", \"\\u043e\\u0441\\u0442\\u0430\\u0432\\u043b\\u044f\\u0442\\u044c\", \"\\u043e\\u0442\\u043d\\u043e\\u0448\\u0435\\u043d\\u0438\\u0435\", \"\\u043e\\u0447\\u0435\\u043d\\u044c\", \"\\u043f\\u0430\\u0440\\u0430\", \"\\u043f\\u0430\\u0440\\u0435\\u043d\\u044c\", \"\\u043f\\u0435\\u0440\\u0432\\u044b\\u0439\", \"\\u043f\\u0435\\u0440\\u0435\\u0441\\u0442\\u0430\\u0432\\u0430\\u0442\\u044c\", \"\\u043f\\u0435\\u0441\\u043d\\u044f\", \"\\u043f\\u0435\\u0447\\u0430\\u043b\\u044c\", \"\\u043f\\u0435\\u0447\\u0430\\u043b\\u044c\\u043d\\u043e\", \"\\u043f\\u0437\\u0434\\u0446\", \"\\u043f\\u0438\\u0437\\u0434\\u0435\\u0446\", \"\\u043f\\u0438\\u0441\\u0430\\u0442\\u044c\", \"\\u043f\\u043b\\u0430\\u043a\\u0430\\u0442\\u044c\", \"\\u043f\\u043b\\u043e\\u0445\\u043e\", \"\\u043f\\u043b\\u043e\\u0445\\u043e\\u0439\", \"\\u043f\\u043e\\u0432\\u0435\\u0440\\u044f\\u0442\\u044c\", \"\\u043f\\u043e\\u0434\\u0440\\u0443\\u0433\\u0430\", \"\\u043f\\u043e\\u0436\\u0430\\u043b\\u0443\\u0439\\u0441\\u0442\\u0430\", \"\\u043f\\u043e\\u0439\\u0442\\u0438\", \"\\u043f\\u043e\\u043a\\u0430\", \"\\u043f\\u043e\\u043b\\u0443\\u0447\\u0430\\u0442\\u044c\\u0441\\u044f\", \"\\u043f\\u043e\\u043c\\u043d\\u0438\\u0442\\u044c\", \"\\u043f\\u043e\\u043c\\u043e\\u0433\\u0430\\u0442\\u044c\", \"\\u043f\\u043e\\u043d\\u0435\\u0434\\u0435\\u043b\\u044c\\u043d\\u0438\\u043a\", \"\\u043f\\u043e\\u043d\\u0438\\u043c\\u0430\\u0442\\u044c\", \"\\u043f\\u043e\\u043f\\u0430\\u0434\\u0430\\u0442\\u044c\", \"\\u043f\\u043e\\u0440\\u0430\", \"\\u043f\\u043e\\u0441\\u043b\\u0435\", \"\\u043f\\u043e\\u0441\\u043b\\u0435\\u0434\\u043d\\u0438\\u0439\", \"\\u043f\\u043e\\u0441\\u043c\\u043e\\u0442\\u0440\\u0435\\u0442\\u044c\", \"\\u043f\\u043e\\u0442\\u043e\\u043c\", \"\\u043f\\u043e\\u0442\\u043e\\u043c\\u0443\", \"\\u043f\\u043e\\u0445\\u043e\\u0434\", \"\\u043f\\u043e\\u0447\\u0435\\u043c\\u0443\", \"\\u043f\\u043e\\u0447\\u0442\\u0438\", \"\\u043f\\u043f\\u0446\", \"\\u043f\\u0440\\u0430\\u0432\\u0434\\u0430\", \"\\u043f\\u0440\\u0430\\u0432\\u0438\\u043b\\u044c\\u043d\\u043e\", \"\\u043f\\u0440\\u0435\\u0434\\u043b\\u0430\\u0433\\u0430\\u0442\\u044c\", \"\\u043f\\u0440\\u0435\\u0434\\u0441\\u0442\\u0430\\u0432\\u043b\\u044f\\u0442\\u044c\", \"\\u043f\\u0440\\u0435\\u043a\\u0440\\u0430\\u0449\\u0430\\u0442\\u044c\", \"\\u043f\\u0440\\u0438\", \"\\u043f\\u0440\\u0438\\u0435\\u0437\\u0436\\u0430\\u0442\\u044c\", \"\\u043f\\u0440\\u0438\\u0439\\u0442\\u0438\", \"\\u043f\\u0440\\u0438\\u0445\\u043e\\u0434\\u0438\\u0442\\u044c\", \"\\u043f\\u0440\\u0438\\u0445\\u043e\\u0434\\u0438\\u0442\\u044c\\u0441\\u044f\", \"\\u043f\\u0440\\u043e\", \"\\u043f\\u0440\\u043e\\u0431\\u043b\\u0435\\u043c\\u0430\", \"\\u043f\\u0440\\u043e\\u0438\\u0441\\u0445\\u043e\\u0434\\u0438\\u0442\\u044c\", \"\\u043f\\u0440\\u043e\\u043f\\u0443\\u0441\\u043a\\u0430\\u0442\\u044c\", \"\\u043f\\u0440\\u043e\\u0441\\u0442\\u043e\", \"\\u043f\\u0440\\u043e\\u0441\\u044b\\u043f\\u0430\\u0442\\u044c\\u0441\\u044f\", \"\\u043f\\u0440\\u043e\\u0445\\u043e\\u0434\\u0438\\u0442\\u044c\", \"\\u043f\\u0440\\u043e\\u0448\\u043b\\u044b\\u0439\", \"\\u043f\\u0440\\u043e\\u0449\\u0430\\u0442\\u044c\", \"\\u043f\\u0440\\u044f\\u043c\\u043e\\u0439\", \"\\u0440\\u0430\\u0431\\u043e\\u0442\\u0430\", \"\\u0440\\u0430\\u0432\\u043d\\u044b\\u0439\", \"\\u0440\\u0430\\u0437\", \"\\u0440\\u0430\\u043d\\u043e\", \"\\u0440\\u0435\\u0431\\u0435\\u043d\\u043e\\u043a\", \"\\u0440\\u0435\\u0431\\u044f\\u0442\\u0430\", \"\\u0440\\u043e\\u0434\\u0438\\u0442\\u0435\\u043b\\u044c\", \"\\u0440\\u043e\\u0434\\u043d\\u043e\\u0439\", \"\\u0440\\u0443\\u043a\\u0430\", \"\\u0440\\u044f\\u0434\\u043e\\u043c\", \"\\u0441\\u0430\\u043c\", \"\\u0441\\u0430\\u043c\\u044b\\u0439\", \"\\u0441\\u0432\\u043e\\u0439\", \"\\u0441\\u0434\\u0430\\u0432\\u0430\\u0442\\u044c\", \"\\u0441\\u0434\\u0435\\u043b\\u0430\\u0442\\u044c\", \"\\u0441\\u0435\\u0431\\u044f\", \"\\u0441\\u0435\\u0433\\u043e\\u0434\\u043d\\u044f\", \"\\u0441\\u0435\\u0437\\u043e\\u043d\", \"\\u0441\\u0435\\u0439\", \"\\u0441\\u0435\\u0439\\u0447\\u0430\\u0441\", \"\\u0441\\u0435\\u043c\\u044c\\u044f\", \"\\u0441\\u0435\\u0440\\u0434\\u0446\\u0435\", \"\\u0441\\u0435\\u0441\\u0441\\u0438\\u044f\", \"\\u0441\\u0438\\u0434\\u0435\\u0442\\u044c\", \"\\u0441\\u043a\\u0430\\u0437\\u0430\\u0442\\u044c\", \"\\u0441\\u043a\\u043e\\u043b\\u044c\\u043a\\u043e\", \"\\u0441\\u043a\\u043e\\u0440\\u043e\", \"\\u0441\\u043a\\u0443\\u0447\\u0430\\u0442\\u044c\", \"\\u0441\\u043a\\u0443\\u0447\\u043d\\u043e\", \"\\u0441\\u043b\\u0435\\u0434\\u0443\\u044e\\u0449\\u0438\\u0439\", \"\\u0441\\u043b\\u0438\\u0448\\u043a\\u043e\\u043c\", \"\\u0441\\u043b\\u043e\\u0432\\u043e\", \"\\u0441\\u043b\\u043e\\u0436\\u043d\\u044b\\u0439\", \"\\u0441\\u043c\\u043e\\u0442\\u0440\\u0435\\u0442\\u044c\", \"\\u0441\\u043c\\u044b\\u0441\\u043b\", \"\\u0441\\u043d\\u0435\\u0433\", \"\\u0441\\u043d\\u043e\\u0432\\u0430\", \"\\u0441\\u043e\\u0431\\u0438\\u0440\\u0430\\u0442\\u044c\\u0441\\u044f\", \"\\u0441\\u043e\\u0432\\u0441\\u0435\\u043c\", \"\\u0441\\u043e\\u043d\", \"\\u0441\\u043e\\u0441\\u0442\\u043e\\u044f\\u043d\\u0438\\u0435\", \"\\u0441\\u043f\\u0430\\u0442\\u044c\", \"\\u0441\\u0440\\u0430\\u0437\\u0443\", \"\\u0441\\u0442\\u0430\\u043d\\u043e\\u0432\\u0438\\u0442\\u044c\\u0441\\u044f\", \"\\u0441\\u0442\\u0430\\u0440\\u044b\\u0439\", \"\\u0441\\u0442\\u043e\\u043b\\u044c\\u043a\\u043e\", \"\\u0441\\u0442\\u043e\\u044f\\u0442\\u044c\", \"\\u0441\\u0443\\u0431\\u0431\\u043e\\u0442\\u0430\", \"\\u0441\\u0443\\u043a\\u0430\", \"\\u0441\\u0445\\u043e\\u0434\\u0438\\u0442\\u044c\", \"\\u0442\\u0430\\u043a\", \"\\u0442\\u0430\\u043a\\u0438\", \"\\u0442\\u0430\\u043a\\u043e\\u0439\", \"\\u0442\\u0430\\u043c\", \"\\u0442\\u0432\\u0438\", \"\\u0442\\u0432\\u0438\\u0442\\u0442\\u0435\\u0440\", \"\\u0442\\u0432\\u043e\\u0439\", \"\\u0442\\u0435\\u043b\\u0435\\u0444\\u043e\\u043d\", \"\\u0442\\u0435\\u043c\\u043f\\u0435\\u0440\\u0430\\u0442\\u0443\\u0440\\u0430\", \"\\u0442\\u0435\\u043f\\u0435\\u0440\\u044c\", \"\\u0442\\u043e\\u0436\\u0435\", \"\\u0442\\u043e\\u043b\\u044c\\u043a\\u043e\", \"\\u0442\\u043e\\u0441\\u043a\\u0430\", \"\\u0442\\u043e\\u0442\", \"\\u0442\\u043e\\u0447\\u043d\\u043e\", \"\\u0442\\u0440\\u0435\\u0442\\u0438\\u0439\", \"\\u0442\\u0440\\u0438\", \"\\u0442\\u0443\\u0442\", \"\\u0442\\u044f\\u0436\\u0435\\u043b\\u043e\", \"\\u0443\\u0431\\u0438\\u0432\\u0430\\u0442\\u044c\", \"\\u0443\\u0431\\u0438\\u0440\\u0430\\u0442\\u044c\", \"\\u0443\\u0432\\u044b\", \"\\u0443\\u0435\\u0437\\u0436\\u0430\\u0442\\u044c\", \"\\u0443\\u0436\\u0430\\u0441\", \"\\u0443\\u0436\\u0430\\u0441\\u043d\\u043e\", \"\\u0443\\u0436\\u0430\\u0441\\u043d\\u044b\\u0439\", \"\\u0443\\u0436\\u0435\", \"\\u0443\\u043b\\u0438\\u0446\\u0430\", \"\\u0443\\u043c\\u0438\\u0440\\u0430\\u0442\\u044c\", \"\\u0443\\u0440\\u043e\\u043a\", \"\\u0443\\u0441\\u043b\\u044b\\u0448\\u0430\\u0442\\u044c\", \"\\u0443\\u0441\\u043d\\u0443\\u0442\\u044c\", \"\\u0443\\u0441\\u0442\\u0430\\u0432\\u0430\\u0442\\u044c\", \"\\u0443\\u0442\\u0440\\u043e\", \"\\u0443\\u0445\\u043e\\u0434\\u0438\\u0442\\u044c\", \"\\u0443\\u0447\\u0435\\u0431\\u0430\", \"\\u0443\\u0447\\u0438\\u0442\\u044c\", \"\\u0443\\u0447\\u0438\\u0442\\u044c\\u0441\\u044f\", \"\\u0444\\u0435\\u0432\\u0440\\u0430\\u043b\\u044c\", \"\\u0444\\u0438\\u043b\\u044c\\u043c\", \"\\u0444\\u043e\\u0442\\u043e\", \"\\u0445\\u043e\\u0434\\u0438\\u0442\\u044c\", \"\\u0445\\u043e\\u043b\\u043e\\u0434\\u043d\\u043e\", \"\\u0445\\u043e\\u0440\\u043e\\u0448\\u0438\\u0439\", \"\\u0445\\u043e\\u0440\\u043e\\u0448\\u043e\", \"\\u0445\\u043e\\u0442\\u0435\\u0442\\u044c\", \"\\u0445\\u043e\\u0442\\u0435\\u0442\\u044c\\u0441\\u044f\", \"\\u0445\\u043e\\u0442\\u044c\", \"\\u0445\\u043e\\u0442\\u044f\", \"\\u0445\\u0443\\u0439\", \"\\u0446\\u0435\\u043b\\u044b\\u0439\", \"\\u0447\\u0430\\u0441\", \"\\u0447\\u0430\\u0441\\u0442\\u043e\", \"\\u0447\\u0435\\u043b\\u043e\\u0432\\u0435\\u043a\", \"\\u0447\\u0435\\u043c\", \"\\u0447\\u0435\\u0440\\u0435\\u0437\", \"\\u0447\\u0435\\u0440\\u0442\", \"\\u0447\\u0435\\u0442\\u0430\", \"\\u0447\\u0438\\u0442\\u0430\\u0442\\u044c\", \"\\u0447\\u0442\\u043e\", \"\\u0447\\u0442\\u043e\", \"\\u0447\\u0442\\u043e\\u0431\\u044b\", \"\\u0447\\u0443\\u0432\\u0441\\u0442\\u0432\\u043e\", \"\\u0447\\u0443\\u0442\\u044c\", \"\\u0448\\u043a\\u043e\\u043b\\u0430\", \"\\u0448\\u043e\\u043a\", \"\\u044d\\u043a\\u0437\\u0430\\u043c\\u0435\\u043d\", \"\\u044d\\u0442\\u043e\", \"\\u044d\\u0442\\u043e\\u0442\"]}, \"R\": 30, \"lambda.step\": 0.01, \"plot.opts\": {\"xlab\": \"PC1\", \"ylab\": \"PC2\"}, \"topic.order\": [10, 3, 5, 12, 6, 8, 11, 2, 4, 7, 1, 9]};\n",
              "\n",
              "function LDAvis_load_lib(url, callback){\n",
              "  var s = document.createElement('script');\n",
              "  s.src = url;\n",
              "  s.async = true;\n",
              "  s.onreadystatechange = s.onload = callback;\n",
              "  s.onerror = function(){console.warn(\"failed to load library \" + url);};\n",
              "  document.getElementsByTagName(\"head\")[0].appendChild(s);\n",
              "}\n",
              "\n",
              "if(typeof(LDAvis) !== \"undefined\"){\n",
              "   // already loaded: just create the visualization\n",
              "   !function(LDAvis){\n",
              "       new LDAvis(\"#\" + \"ldavis_el9411321811479663046159795845\", ldavis_el9411321811479663046159795845_data);\n",
              "   }(LDAvis);\n",
              "}else if(typeof define === \"function\" && define.amd){\n",
              "   // require.js is available: use it to load d3/LDAvis\n",
              "   require.config({paths: {d3: \"https://d3js.org/d3.v5\"}});\n",
              "   require([\"d3\"], function(d3){\n",
              "      window.d3 = d3;\n",
              "      LDAvis_load_lib(\"https://cdn.jsdelivr.net/gh/bmabey/pyLDAvis@3.4.0/pyLDAvis/js/ldavis.v3.0.0.js\", function(){\n",
              "        new LDAvis(\"#\" + \"ldavis_el9411321811479663046159795845\", ldavis_el9411321811479663046159795845_data);\n",
              "      });\n",
              "    });\n",
              "}else{\n",
              "    // require.js not available: dynamically load d3 & LDAvis\n",
              "    LDAvis_load_lib(\"https://d3js.org/d3.v5.js\", function(){\n",
              "         LDAvis_load_lib(\"https://cdn.jsdelivr.net/gh/bmabey/pyLDAvis@3.4.0/pyLDAvis/js/ldavis.v3.0.0.js\", function(){\n",
              "                 new LDAvis(\"#\" + \"ldavis_el9411321811479663046159795845\", ldavis_el9411321811479663046159795845_data);\n",
              "            })\n",
              "         });\n",
              "}\n",
              "</script>"
            ]
          },
          "metadata": {},
          "execution_count": 99
        }
      ]
    },
    {
      "cell_type": "code",
      "source": [
        "print('Персплексия: ', np.exp(lda.log_perplexity(corpus)))"
      ],
      "metadata": {
        "colab": {
          "base_uri": "https://localhost:8080/"
        },
        "id": "j5UOp39632xs",
        "outputId": "97dbe7e1-b6f3-4fdb-f2b7-22d1ff1b1b95"
      },
      "execution_count": null,
      "outputs": [
        {
          "output_type": "stream",
          "name": "stderr",
          "text": [
            "/usr/local/lib/python3.10/dist-packages/ipykernel/ipkernel.py:283: DeprecationWarning: `should_run_async` will not call `transform_cell` automatically in the future. Please pass the result to `transformed_cell` argument and any exception that happen during thetransform in `preprocessing_exc_tuple` in IPython 7.17 and above.\n",
            "  and should_run_async(code)\n"
          ]
        },
        {
          "output_type": "stream",
          "name": "stdout",
          "text": [
            "Персплексия:  2.5648523365479223e-05\n"
          ]
        }
      ]
    },
    {
      "cell_type": "code",
      "source": [
        "coherence_model_lda = CoherenceModel(model=lda, texts=data['lemma_gr3'], dictionary=dictionary, coherence='c_v')\n",
        "coherence_lda = coherence_model_lda.get_coherence()\n",
        "print('Средняя когерентность: ', coherence_lda)"
      ],
      "metadata": {
        "colab": {
          "base_uri": "https://localhost:8080/"
        },
        "id": "3p5DstIB32vW",
        "outputId": "1d0e1163-dc17-4faf-ab00-7521bd4b25b4"
      },
      "execution_count": null,
      "outputs": [
        {
          "output_type": "stream",
          "name": "stderr",
          "text": [
            "/usr/local/lib/python3.10/dist-packages/ipykernel/ipkernel.py:283: DeprecationWarning: `should_run_async` will not call `transform_cell` automatically in the future. Please pass the result to `transformed_cell` argument and any exception that happen during thetransform in `preprocessing_exc_tuple` in IPython 7.17 and above.\n",
            "  and should_run_async(code)\n"
          ]
        },
        {
          "output_type": "stream",
          "name": "stdout",
          "text": [
            "Средняя когерентность:  0.269273798272682\n"
          ]
        }
      ]
    },
    {
      "cell_type": "markdown",
      "source": [
        "### 6 тем"
      ],
      "metadata": {
        "id": "qwG39D-p3f_l"
      }
    },
    {
      "cell_type": "code",
      "source": [
        "%time lda_6t = ldamodel.LdaModel(corpus, id2word=dictionary, num_topics=6, chunksize=50, update_every=1, passes=2)"
      ],
      "metadata": {
        "colab": {
          "base_uri": "https://localhost:8080/"
        },
        "id": "7IEfg9o1tX_9",
        "outputId": "c5b7cdee-6dcb-496a-c044-f9c8fccf2d5d"
      },
      "execution_count": null,
      "outputs": [
        {
          "output_type": "stream",
          "name": "stderr",
          "text": [
            "/usr/local/lib/python3.10/dist-packages/ipykernel/ipkernel.py:283: DeprecationWarning: `should_run_async` will not call `transform_cell` automatically in the future. Please pass the result to `transformed_cell` argument and any exception that happen during thetransform in `preprocessing_exc_tuple` in IPython 7.17 and above.\n",
            "  and should_run_async(code)\n"
          ]
        },
        {
          "output_type": "stream",
          "name": "stdout",
          "text": [
            "CPU times: user 1min 31s, sys: 364 ms, total: 1min 32s\n",
            "Wall time: 1min 35s\n"
          ]
        }
      ]
    },
    {
      "cell_type": "code",
      "source": [
        "lda_6t.show_topics(num_topics=6, num_words=10, formatted=True)"
      ],
      "metadata": {
        "colab": {
          "base_uri": "https://localhost:8080/"
        },
        "id": "oWGbZywN1r1t",
        "outputId": "ff2fe0d1-81ce-4299-b634-c02d6442bd68"
      },
      "execution_count": null,
      "outputs": [
        {
          "output_type": "stream",
          "name": "stderr",
          "text": [
            "/usr/local/lib/python3.10/dist-packages/ipykernel/ipkernel.py:283: DeprecationWarning: `should_run_async` will not call `transform_cell` automatically in the future. Please pass the result to `transformed_cell` argument and any exception that happen during thetransform in `preprocessing_exc_tuple` in IPython 7.17 and above.\n",
            "  and should_run_async(code)\n"
          ]
        },
        {
          "output_type": "execute_result",
          "data": {
            "text/plain": [
              "[(0,\n",
              "  '0.037*\"они\" + 0.036*\"очень\" + 0.034*\"негатив\" + 0.033*\"кто\" + 0.033*\"завтра\" + 0.022*\"еще\" + 0.022*\"делать\" + 0.020*\"идти\" + 0.020*\"это\" + 0.019*\"школа\"'),\n",
              " (1,\n",
              "  '0.077*\"мой\" + 0.044*\"негатив\" + 0.033*\"спать\" + 0.023*\"опять\" + 0.018*\"тут\" + 0.013*\"настроение\" + 0.013*\"пока\" + 0.013*\"два\" + 0.013*\"любимый\" + 0.012*\"плохой\"'),\n",
              " (2,\n",
              "  '0.072*\"весь\" + 0.029*\"там\" + 0.028*\"себя\" + 0.026*\"самый\" + 0.024*\"смотреть\" + 0.021*\"думать\" + 0.018*\"негатив\" + 0.017*\"никто\" + 0.017*\"хороший\" + 0.015*\"твой\"'),\n",
              " (3,\n",
              "  '0.523*\"(\" + 0.023*\"что\" + 0.016*\"вот\" + 0.014*\"этот\" + 0.014*\"когда\" + 0.014*\"день\" + 0.014*\"нет\" + 0.010*\"знать\" + 0.009*\"какой\" + 0.009*\"блин\"'),\n",
              " (4,\n",
              "  '0.055*\"что\" + 0.041*\"так\" + 0.038*\"хотеть\" + 0.037*\"это\" + 0.034*\"негатив\" + 0.031*\"быть\" + 0.027*\"такой\" + 0.024*\"только\" + 0.021*\"она\" + 0.019*\"все\"'),\n",
              " (5,\n",
              "  '0.108*\"(\" + 0.090*\"как\" + 0.037*\"мочь\" + 0.032*\"сегодня\" + 0.029*\"все\" + 0.025*\"надо\" + 0.024*\"быть\" + 0.022*\"теперь\" + 0.017*\"уже\" + 0.015*\"писать\"')]"
            ]
          },
          "metadata": {},
          "execution_count": 103
        }
      ]
    },
    {
      "cell_type": "code",
      "source": [
        "%time vis_data_6t = gensimvis.prepare(lda_6t, corpus, dictionary)\n",
        "pyLDAvis.display(vis_data_6t)"
      ],
      "metadata": {
        "colab": {
          "base_uri": "https://localhost:8080/",
          "height": 1000
        },
        "id": "0C4j9FRZ2HSb",
        "outputId": "9ca84215-dcc5-4244-fb31-3f3d098034f1"
      },
      "execution_count": null,
      "outputs": [
        {
          "output_type": "stream",
          "name": "stderr",
          "text": [
            "/usr/local/lib/python3.10/dist-packages/ipykernel/ipkernel.py:283: DeprecationWarning: `should_run_async` will not call `transform_cell` automatically in the future. Please pass the result to `transformed_cell` argument and any exception that happen during thetransform in `preprocessing_exc_tuple` in IPython 7.17 and above.\n",
            "  and should_run_async(code)\n"
          ]
        },
        {
          "output_type": "stream",
          "name": "stdout",
          "text": [
            "CPU times: user 14.1 s, sys: 104 ms, total: 14.2 s\n",
            "Wall time: 14.9 s\n"
          ]
        },
        {
          "output_type": "stream",
          "name": "stderr",
          "text": [
            "/usr/local/lib/python3.10/dist-packages/pandas/core/dtypes/cast.py:1641: DeprecationWarning: np.find_common_type is deprecated.  Please use `np.result_type` or `np.promote_types`.\n",
            "See https://numpy.org/devdocs/release/1.25.0-notes.html and the docs for more information.  (Deprecated NumPy 1.25)\n",
            "  return np.find_common_type(types, [])\n"
          ]
        },
        {
          "output_type": "execute_result",
          "data": {
            "text/plain": [
              "<IPython.core.display.HTML object>"
            ],
            "text/html": [
              "\n",
              "<link rel=\"stylesheet\" type=\"text/css\" href=\"https://cdn.jsdelivr.net/gh/bmabey/pyLDAvis@3.4.0/pyLDAvis/js/ldavis.v1.0.0.css\">\n",
              "\n",
              "\n",
              "<div id=\"ldavis_el9411321811479664169274184357\" style=\"background-color:white;\"></div>\n",
              "<script type=\"text/javascript\">\n",
              "\n",
              "var ldavis_el9411321811479664169274184357_data = {\"mdsDat\": {\"x\": [0.3230265638097501, -0.039091617909617904, 0.26371689497354966, -0.12132931332663699, -0.20940815807923727, -0.21691436946780757], \"y\": [-0.10290802449275553, 0.251205321328719, -0.028612673453248423, 0.2788030278658073, -0.26684890748118056, -0.13163874376734155], \"topics\": [1, 2, 3, 4, 5, 6], \"cluster\": [1, 1, 1, 1, 1, 1], \"Freq\": [25.891268733798928, 23.588277040369505, 15.17621151574552, 13.67452703506137, 11.204285643211943, 10.465430031812744]}, \"tinfo\": {\"Term\": [\"(\", \"\\u043a\\u0430\\u043a\", \"\\u043c\\u043e\\u0439\", \"\\u0432\\u0435\\u0441\\u044c\", \"\\u0447\\u0442\\u043e\", \"\\u0445\\u043e\\u0442\\u0435\\u0442\\u044c\", \"\\u0442\\u0430\\u043a\", \"\\u044d\\u0442\\u043e\", \"\\u043c\\u043e\\u0447\\u044c\", \"\\u043e\\u043d\\u0438\", \"\\u043e\\u0447\\u0435\\u043d\\u044c\", \"\\u043d\\u0435\\u0433\\u0430\\u0442\\u0438\\u0432\", \"\\u0441\\u0435\\u0433\\u043e\\u0434\\u043d\\u044f\", \"\\u0442\\u0430\\u043a\\u043e\\u0439\", \"\\u043a\\u0442\\u043e\", \"\\u0437\\u0430\\u0432\\u0442\\u0440\\u0430\", \"\\u0442\\u043e\\u043b\\u044c\\u043a\\u043e\", \"\\u0441\\u043f\\u0430\\u0442\\u044c\", \"\\u0432\\u0441\\u0435\", \"\\u043e\\u043d\\u0430\", \"\\u043d\\u0430\\u0434\\u043e\", \"\\u0435\\u0449\\u0435\", \"\\u0442\\u0430\\u043c\", \"\\u0441\\u0435\\u0431\\u044f\", \"\\u0441\\u0430\\u043c\\u044b\\u0439\", \"\\u0431\\u044b\\u0442\\u044c\", \"\\u0442\\u0435\\u043f\\u0435\\u0440\\u044c\", \"\\u0434\\u0435\\u043b\\u0430\\u0442\\u044c\", \"\\u0441\\u043c\\u043e\\u0442\\u0440\\u0435\\u0442\\u044c\", \"\\u0438\\u0434\\u0442\\u0438\", \"\\u0432\\u043e\\u0442\", \"\\u044d\\u0442\\u043e\\u0442\", \"\\u043a\\u043e\\u0433\\u0434\\u0430\", \"\\u0434\\u0435\\u043d\\u044c\", \"\\u043d\\u0435\\u0442\", \"\\u0437\\u043d\\u0430\\u0442\\u044c\", \"\\u043a\\u0430\\u043a\\u043e\\u0439\", \"\\u0431\\u043b\\u0438\\u043d\", \"\\u043f\\u043e\\u0447\\u0435\\u043c\\u0443\", \"\\u043b\\u044e\\u0431\\u0438\\u0442\\u044c\", \"\\u0441\\u0432\\u043e\\u0439\", \"\\u0441\\u043a\\u0430\\u0437\\u0430\\u0442\\u044c\", \"\\u043f\\u043e\\u043d\\u0438\\u043c\\u0430\\u0442\\u044c\", \"\\u043f\\u043e\\u0439\\u0442\\u0438\", \"\\u043a\\u043e\\u0442\\u043e\\u0440\\u044b\\u0439\", \"\\u0432\\u0440\\u0435\\u043c\\u044f\", \"\\u0436\\u0438\\u0437\\u043d\\u044c\", \"\\u043d\\u0438\\u0447\\u0442\\u043e\", \"\\u0431\\u0435\\u0437\", \"\\u043d\\u043e\\u0447\\u044c\", \"\\u043f\\u043b\\u043e\\u0445\\u043e\", \"\\u0438\\u043b\\u0438\", \"\\u0440\\u0430\\u043d\\u043e\", \"\\u0431\\u043b\\u044f\", \"\\u043a\\u0430\\u0436\\u0434\\u044b\\u0439\", \"\\u043f\\u0440\\u0438\\u0445\\u043e\\u0434\\u0438\\u0442\\u044c\", \"\\u043d\\u0430\\u0448\", \"\\u0440\\u0430\\u0431\\u043e\\u0442\\u0430\", \"\\u043f\\u043e\\u0441\\u043c\\u043e\\u0442\\u0440\\u0435\\u0442\\u044c\", \"\\u0432\\u0447\\u0435\\u0440\\u0430\", \"(\", \"\\u0447\\u0442\\u043e\", \"\\u0434\\u0430\\u0436\\u0435\", \"\\u0431\\u044b\\u0442\\u044c\", \"\\u0445\\u043e\\u0442\\u0435\\u0442\\u044c\", \"\\u0442\\u0430\\u043a\\u043e\\u0439\", \"\\u0442\\u043e\\u043b\\u044c\\u043a\\u043e\", \"\\u043e\\u043d\\u0430\", \"\\u043f\\u0440\\u043e\\u0441\\u0442\\u043e\", \"\\u043e\\u0434\\u0438\\u043d\", \"\\u0432\\u043e\\u043e\\u0431\\u0449\\u0435\", \"\\u0447\\u0435\\u043b\\u043e\\u0432\\u0435\\u043a\", \"\\u0442\\u043e\\u0436\\u0435\", \"\\u0441\\u0435\\u0439\\u0447\\u0430\\u0441\", \"\\u043c\\u043d\\u043e\\u0433\\u043e\", \"\\u0435\\u0441\\u043b\\u0438\", \"\\u0431\\u043e\\u043b\\u0435\\u0442\\u044c\", \"\\u0441\\u0438\\u0434\\u0435\\u0442\\u044c\", \"\\u0443\\u0442\\u0440\\u043e\", \"\\u0434\\u043b\\u044f\", \"\\u0433\\u043e\\u0432\\u043e\\u0440\\u0438\\u0442\\u044c\", \"\\u0445\\u043e\\u0440\\u043e\\u0448\\u043e\", \"\\u043c\\u0430\\u043c\\u0430\", \"\\u0432\\u0441\\u0442\\u0430\\u0432\\u0430\\u0442\\u044c\", \"\\u043d\\u0435\\u0434\\u0435\\u043b\\u044f\", \"\\u043f\\u043e\\u043b\\u0443\\u0447\\u0430\\u0442\\u044c\\u0441\\u044f\", \"\\u0433\\u043e\\u043b\\u043e\\u0432\\u0430\", \"\\u043e\\u0441\\u0442\\u0430\\u0432\\u0430\\u0442\\u044c\\u0441\\u044f\", \"\\u0434\\u0440\\u0443\\u0433\", \"\\u0434\\u0440\\u0443\\u0433\\u043e\\u0439\", \"\\u043d\\u0430\\u0447\\u0438\\u043d\\u0430\\u0442\\u044c\", \"\\u0437\\u0430\\u0431\\u044b\\u0432\\u0430\\u0442\\u044c\", \"\\u0447\\u0442\\u043e\\u0431\\u044b\", \"\\u0443\\u043b\\u0438\\u0446\\u0430\", \"\\u0442\\u0430\\u043a\", \"\\u044d\\u0442\\u043e\", \"\\u0447\\u0442\\u043e\", \"\\u0431\\u044b\\u0442\\u044c\", \"\\u043d\\u0435\\u0433\\u0430\\u0442\\u0438\\u0432\", \"\\u0432\\u0441\\u0435\", \"\\u0435\\u0449\\u0435\", \"\\u0443\\u0436\\u0435\", \"\\u043a\\u0430\\u043a\", \"\\u043c\\u043e\\u0447\\u044c\", \"\\u0441\\u0435\\u0433\\u043e\\u0434\\u043d\\u044f\", \"\\u043d\\u0430\\u0434\\u043e\", \"\\u0442\\u0435\\u043f\\u0435\\u0440\\u044c\", \"\\u043f\\u0438\\u0441\\u0430\\u0442\\u044c\", \"\\u0441\\u043a\\u0443\\u0447\\u0430\\u0442\\u044c\", \"\\u0433\\u043e\\u0434\", \"\\u0436\\u0430\\u043b\\u044c\", \"\\u0432\\u0441\\u0435\\u0433\\u0434\\u0430\", \"\\u0445\\u043e\\u0442\\u0435\\u0442\\u044c\\u0441\\u044f\", \"\\u0441\\u0442\\u0430\\u043d\\u043e\\u0432\\u0438\\u0442\\u044c\\u0441\\u044f\", \"\\u0447\\u0430\\u0441\", \"\\u043f\\u0440\\u043e\", \"\\u0436\\u0434\\u0430\\u0442\\u044c\", \"\\u043d\\u043e\\u0432\\u044b\\u0439\", \"\\u043f\\u0440\\u043e\\u0445\\u043e\\u0434\\u0438\\u0442\\u044c\", \"\\u043d\\u0430\\u043f\\u0438\\u0441\\u0430\\u0442\\u044c\", \"\\u0440\\u0430\\u0432\\u043d\\u044b\\u0439\", \"\\u0432\\u0438\\u0434\\u0435\\u0442\\u044c\", \"\\u043d\\u0440\\u0430\\u0432\\u0438\\u0442\\u044c\\u0441\\u044f\", \"\\u0441\\u043d\\u043e\\u0432\\u0430\", \"\\u0431\\u043e\\u043b\\u044c\\u0448\\u0435\", \"\\u043c\\u0438\\u043d\\u0443\\u0442\\u0430\", \"\\u0441\\u043d\\u0435\\u0433\", \"\\u043d\\u0430\\u0447\\u0438\\u043d\\u0430\\u0442\\u044c\\u0441\\u044f\", \"\\u0441\\u0442\\u043e\\u043b\\u044c\\u043a\\u043e\", \"\\u043f\\u0430\\u0440\\u0430\", \"\\u0434\\u0435\\u043d\\u044c\\u0433\\u0438\", \"\\u043f\\u0435\\u0441\\u043d\\u044f\", \"\\u0432\\u0441\\u0435\", \"(\", \"\\u0443\\u0436\\u0435\", \"\\u0431\\u044b\\u0442\\u044c\", \"\\u043d\\u0435\\u0433\\u0430\\u0442\\u0438\\u0432\", \"\\u043e\\u043d\\u0438\", \"\\u043e\\u0447\\u0435\\u043d\\u044c\", \"\\u043a\\u0442\\u043e\", \"\\u0437\\u0430\\u0432\\u0442\\u0440\\u0430\", \"\\u0434\\u0435\\u043b\\u0430\\u0442\\u044c\", \"\\u0438\\u0434\\u0442\\u0438\", \"\\u0448\\u043a\\u043e\\u043b\\u0430\", \"\\u0442\\u043e\\u0442\", \"\\u0440\\u0430\\u0437\", \"\\u0441\\u043a\\u043e\\u0440\\u043e\", \"\\u043f\\u043e\\u0442\\u043e\\u043c\", \"\\u0443\\u0440\\u043e\\u043a\", \"\\u0441\\u0434\\u0435\\u043b\\u0430\\u0442\\u044c\", \"\\u0434\\u0430\\u0432\\u0430\\u0442\\u044c\", \"\\u043f\\u043e\\u0441\\u043b\\u0435\\u0434\\u043d\\u0438\\u0439\", \"\\u0441\\u0430\\u043c\", \"\\u0441\\u043e\\u0432\\u0441\\u0435\\u043c\", \"\\u043f\\u0435\\u0440\\u0432\\u044b\\u0439\", \"\\u0445\\u043e\\u043b\\u043e\\u0434\\u043d\\u043e\", \"\\u0434\\u0435\\u043b\\u043e\", \"\\u0445\\u043e\\u0442\\u044c\", \"\\u043d\\u0438\\u0431\\u0443\\u0434\\u044c\", \"\\u0443\\u0445\\u043e\\u0434\\u0438\\u0442\\u044c\", \"\\u0434\\u043e\\u043c\\u043e\\u0439\", \"\\u0443\\u0436\\u0430\\u0441\\u043d\\u044b\\u0439\", \"\\u0432\\u0440\\u043e\\u0434\\u0435\", \"\\u0443\\u0441\\u0442\\u0430\\u0432\\u0430\\u0442\\u044c\", \"\\u0442\\u043e\\u0433\\u0434\\u0430\", \"\\u043f\\u043e\\u043c\\u043e\\u0433\\u0430\\u0442\\u044c\", \"\\u043b\\u043e\\u0436\\u0438\\u0442\\u044c\\u0441\\u044f\", \"\\u0435\\u0449\\u0435\", \"\\u043d\\u0435\\u0433\\u0430\\u0442\\u0438\\u0432\", \"\\u044d\\u0442\\u043e\", \"\\u0442\\u0430\\u043a\", \"\\u0431\\u044b\\u0442\\u044c\", \"\\u0443\\u0436\\u0435\", \"\\u0432\\u0441\\u0435\", \"\\u0432\\u0435\\u0441\\u044c\", \"\\u0442\\u0430\\u043c\", \"\\u0441\\u0435\\u0431\\u044f\", \"\\u0441\\u0430\\u043c\\u044b\\u0439\", \"\\u0441\\u043c\\u043e\\u0442\\u0440\\u0435\\u0442\\u044c\", \"\\u0434\\u0443\\u043c\\u0430\\u0442\\u044c\", \"\\u043d\\u0438\\u043a\\u0442\\u043e\", \"\\u0445\\u043e\\u0440\\u043e\\u0448\\u0438\\u0439\", \"\\u0442\\u0432\\u043e\\u0439\", \"\\u0434\\u043e\\u043c\\u0430\", \"\\u0432\\u044b\\u0445\\u043e\\u0434\\u0438\\u0442\\u044c\", \"\\u0447\\u0438\\u0442\\u0430\\u0442\\u044c\", \"\\u0447\\u0435\\u0440\\u0435\\u0437\", \"\\u043d\\u0430\\u0445\\u043e\\u0434\\u0438\\u0442\\u044c\", \"\\u043f\\u0440\\u043e\\u0449\\u0430\\u0442\\u044c\", \"\\u043f\\u043e\\u0440\\u0430\", \"\\u0437\\u0430\\u0431\\u043e\\u043b\\u0435\\u0432\\u0430\\u0442\\u044c\", \"\\u0443\\u0436\\u0430\\u0441\\u043d\\u043e\", \"\\u0442\\u0432\\u0438\\u0442\\u0442\\u0435\\u0440\", \"\\u043a\\u0443\\u043f\\u0438\\u0442\\u044c\", \"\\u0443\\u0431\\u0438\\u0432\\u0430\\u0442\\u044c\", \"\\u0441\\u043c\\u043e\\u0447\\u044c\", \"\\u0431\\u043e\\u043b\\u044c\\u043d\\u043e\", \"\\u0447\\u0443\\u0432\\u0441\\u0442\\u0432\\u043e\\u0432\\u0430\\u0442\\u044c\", \"\\u0442\\u0430\\u043a\\u0438\", \"\\u0433\\u043b\\u0430\\u0437\", \"\\u0438\\u0431\\u043e\", \"\\u0432\\u043e\\u043f\\u0440\\u043e\\u0441\", \"\\u0441\\u0435\\u0441\\u0441\\u0438\\u044f\", \"\\u043f\\u043e\\u043a\\u0430\\u0437\\u044b\\u0432\\u0430\\u0442\\u044c\", \"\\u043d\\u0435\\u0433\\u0430\\u0442\\u0438\\u0432\", \"\\u043c\\u043e\\u0439\", \"\\u0441\\u043f\\u0430\\u0442\\u044c\", \"\\u043e\\u043f\\u044f\\u0442\\u044c\", \"\\u0442\\u0443\\u0442\", \"\\u043d\\u0430\\u0441\\u0442\\u0440\\u043e\\u0435\\u043d\\u0438\\u0435\", \"\\u043f\\u043e\\u043a\\u0430\", \"\\u0434\\u0432\\u0430\", \"\\u043b\\u044e\\u0431\\u0438\\u043c\\u044b\\u0439\", \"\\u043f\\u043b\\u043e\\u0445\\u043e\\u0439\", \"\\u0432\\u044b\\u0445\\u043e\\u0434\\u043d\\u043e\\u0439\", \"\\u0432\\u0435\\u0447\\u0435\\u0440\", \"\\u0443\\u0447\\u0438\\u0442\\u044c\", \"\\u0435\\u0445\\u0430\\u0442\\u044c\", \"\\u043f\\u043e\\u0434\", \"\\u0443\\u043c\\u0438\\u0440\\u0430\\u0442\\u044c\", \"\\u043a\\u043e\\u043d\\u0435\\u0446\", \"\\u0443\\u0436\\u0430\\u0441\", \"\\u043d\\u0430\\u0432\\u0435\\u0440\\u043d\\u043e\\u0435\", \"\\u0447\\u0443\\u0442\\u044c\", \"\\u0431\\u043e\\u043b\\u044c\", \"\\u043f\\u0440\\u0430\\u0432\\u0434\\u0430\", \"\\u043e\\u0442\\u0432\\u0435\\u0447\\u0430\\u0442\\u044c\", \"\\u0431\\u044b\\u0441\\u0442\\u0440\\u043e\", \"\\u0440\\u0435\\u0431\\u0435\\u043d\\u043e\\u043a\", \"\\u0441\\u0435\\u0440\\u0434\\u0446\\u0435\", \"\\u043f\\u043e\\u0436\\u0430\\u043b\\u0443\\u0439\\u0441\\u0442\\u0430\", \"\\u0440\\u043e\\u0434\\u0438\\u0442\\u0435\\u043b\\u044c\", \"\\u0433\\u0440\\u0443\\u0441\\u0442\\u043d\\u043e\", \"\\u043d\\u0430\\u0434\\u043e\\u0435\\u0434\\u0430\\u0442\\u044c\", \"\\u043a\\u0438\\u0435\\u0432\", \"\\u043d\\u0435\\u0433\\u0430\\u0442\\u0438\\u0432\"], \"Freq\": [313549.0, 28137.0, 16672.0, 16490.0, 38845.0, 18392.0, 24893.0, 23485.0, 11437.0, 10467.0, 9992.0, 43000.0, 9934.0, 12884.0, 9216.0, 9141.0, 11500.0, 7012.0, 21601.0, 10425.0, 7754.0, 12909.0, 6580.0, 6402.0, 6079.0, 30125.0, 6731.0, 6204.0, 5570.0, 5760.0, 8468.748678463966, 7613.525292381135, 7519.579425986952, 7475.021869690018, 7338.705275304855, 5091.497504518717, 4880.915011191893, 4700.508368805537, 4553.462880435083, 3931.587361153384, 3568.313088915075, 3489.4558916416486, 3329.422051112162, 3030.1738579911434, 2805.2723738353316, 2778.6308459493043, 2761.4074040592363, 2636.469406333348, 2632.638118836545, 2529.116760418939, 2215.3815114506324, 1935.198658624508, 1938.9869383327052, 1868.8043004735443, 1863.5092608630878, 1821.4144272163062, 1741.1059959463714, 1698.5266739835638, 1633.8288305600925, 1549.6053271677124, 278318.55765059986, 12203.08001155422, 3274.4365314084275, 3161.208798475273, 18391.122378434422, 12883.67360794048, 11499.300155829736, 10424.462861672728, 6911.679409140938, 6649.597428383199, 6414.343245566815, 6236.954667633789, 5554.009094260877, 5246.9101435346365, 5129.300441392245, 4563.955988446136, 4423.520277842672, 3695.098838551828, 3672.366777293002, 3620.9074230974106, 3456.253433595745, 3420.123055955075, 3292.236975228551, 2829.9885108509393, 2699.9490970152447, 2654.352183740572, 2584.8694201294907, 2506.0346190371433, 2461.663310249463, 2463.042030609346, 2375.22894833313, 2361.156741442868, 2297.260674680729, 2306.280735269443, 19649.550572549655, 17919.512843190714, 26641.09594366144, 14843.603754549165, 16448.180415339557, 9287.79927505306, 6623.954358862474, 4871.7798683050905, 28136.246897686895, 11436.868776870378, 9933.1923892708, 7754.012963394883, 6730.894750574557, 4783.710429392168, 4015.3403039411724, 3915.145581179999, 3702.394237741634, 3639.810894514371, 3554.2935281223167, 3549.2557786565876, 3532.940340045988, 2969.5045609966633, 2737.5460712334916, 2357.0559199325867, 2357.6299897335525, 2084.6664104032734, 2073.514258162486, 2039.603601946877, 2013.784700042987, 1931.5368144561314, 1859.8585840632213, 1752.4404039102417, 1495.3078418500359, 1471.6575027857862, 1417.1821871726233, 1385.387060266573, 1355.0056765048907, 1342.4939770285582, 8927.451738636135, 33611.30649354911, 5228.284264280948, 7601.102621137859, 3631.5094761371506, 10466.51066028239, 9991.85481130456, 9215.246739099905, 9140.067131252394, 6203.472887144507, 5759.2366053208, 5252.75458270599, 5052.056031653282, 4424.740961145475, 3733.014729963245, 3539.8278555263396, 3509.2729168994606, 3220.2922657427316, 3165.4157604046113, 3075.227986067119, 2798.342003571871, 2785.5704775466197, 2685.4827805527248, 2640.134908222332, 2529.161721408694, 2479.4408530116348, 2462.2227537749513, 2396.5772775829982, 2119.5279066951025, 1965.5634109065595, 1947.4959015004092, 1870.0975892537078, 1588.829839039303, 1421.1860166529002, 1399.1839628843907, 6284.536571850296, 9470.714964618617, 5563.243325767882, 5243.2864348243875, 4519.052197674325, 3435.5114365112086, 3385.932747436597, 16489.539692806477, 6579.3238367504355, 6402.056650557633, 6079.069540991634, 5569.377197370531, 4724.651317845269, 4026.3760852570085, 3847.9010383289633, 3550.0104000040205, 3281.7582612728525, 3067.8594265473853, 2813.9199011785972, 2793.243599516262, 2668.7839559441827, 2453.0428654223524, 2383.002175125065, 2326.0990620894618, 1991.2017591456733, 1990.7447887431751, 1964.4310170026947, 1880.0566884137106, 1789.3909715368093, 1705.0171792980627, 1580.0268708008289, 1556.9586616185618, 1546.9052054935514, 1417.491938396362, 1371.6995350742723, 1370.7358209672193, 1366.93266870192, 4084.463245077301, 16671.24986080343, 7011.716117095466, 5028.397480583409, 3839.9026692477437, 2882.8936119022633, 2784.9914751600463, 2714.6807749519667, 2700.585970939496, 2664.8405652392503, 2457.270849688447, 2242.4497326079118, 2237.4533474219056, 2024.9724134802693, 2000.9237152328772, 1942.8361534680505, 1774.0531999712416, 1700.4819140590143, 1609.031713130428, 1544.1008490790928, 1514.4524841471793, 1447.8148775205739, 1431.6344889886568, 1403.31602861243, 1402.64631701368, 1343.3557993160896, 1341.988421370527, 1328.8352615239828, 1299.5461000752412, 1266.8073828332972, 1283.819400071023, 9365.251806338401], \"Total\": [313549.0, 28137.0, 16672.0, 16490.0, 38845.0, 18392.0, 24893.0, 23485.0, 11437.0, 10467.0, 9992.0, 43000.0, 9934.0, 12884.0, 9216.0, 9141.0, 11500.0, 7012.0, 21601.0, 10425.0, 7754.0, 12909.0, 6580.0, 6402.0, 6079.0, 30125.0, 6731.0, 6204.0, 5570.0, 5760.0, 8469.765464267506, 7614.542516374787, 7520.59694385488, 7476.039357264471, 7339.72099455822, 5092.514943734124, 4881.930887853012, 4701.52445210312, 4554.478072295471, 3932.602743346221, 3569.329829648172, 3490.474568855806, 3330.437704034166, 3031.193234420139, 2806.2929962709854, 2779.6482873333034, 2762.4245730629477, 2637.4869675990735, 2633.6549673426225, 2530.1380645264408, 2216.3969280269675, 1936.214877968666, 1940.0086408032673, 1869.8199208576636, 1864.5258742915873, 1822.433414944867, 1742.1236503080918, 1699.5450752715587, 1634.8466605904473, 1550.6260142908548, 313549.83456991974, 38845.01505831069, 5055.279793558584, 30125.41605680678, 18392.08460355209, 12884.63671792697, 11500.261871601375, 10425.42395267597, 6912.640793519761, 6650.559619957376, 6415.305946938309, 6237.917141803601, 5554.970145558417, 5247.872047858952, 5130.263673956604, 4564.917100062288, 4424.480430261907, 3696.0625479124133, 3673.3298767738775, 3621.868603125685, 3457.2148190259677, 3421.081959300909, 3293.2007607831315, 2830.953634201504, 2700.910148541894, 2655.3123217356674, 2585.830293497761, 2506.9985748626937, 2462.6229171004034, 2464.0044064615286, 2376.1918309484035, 2362.1183045699995, 2298.220912115372, 2307.2452473057056, 24893.595715838772, 23485.276701704028, 38845.01505831069, 30125.41605680678, 43000.24429888664, 21601.757542535866, 12909.250082494878, 13536.149871055868, 28137.199858824686, 11437.821624410417, 9934.145467435204, 7754.966420161643, 6731.848233556134, 4784.663885018249, 4016.292689152842, 3916.098427773054, 3703.348623436667, 3640.763595069931, 3555.2469740517513, 3550.2106064114187, 3533.8939101204155, 2970.4600031403993, 2738.49794004656, 2358.0067259265934, 2358.5835707898036, 2085.6191608162817, 2074.464516815641, 2040.5553718169976, 2014.740351853967, 1932.4909343402678, 1860.8103765862777, 1753.3942736678637, 1496.2608975346518, 1472.611191814876, 1418.134037664324, 1386.3387574350845, 1355.9585570864997, 1343.4464691454264, 21601.757542535866, 313549.83456991974, 13536.149871055868, 30125.41605680678, 43000.24429888664, 10467.445809833534, 9992.788304879901, 9216.180419468408, 9141.001266354338, 6204.405992726132, 5760.171513017848, 5253.687584160649, 5052.989650093162, 4425.675384773174, 3733.948855381437, 3540.7623247449887, 3510.205095710346, 3221.2250878220934, 3166.349716552129, 3076.160892466578, 2799.2757061801767, 2786.5053195011456, 2686.4164626914844, 2641.070003918469, 2530.095910919771, 2480.3756630674043, 2463.1578359644427, 2397.5133238028125, 2120.4605785545177, 1966.4986996794773, 1948.4314415522822, 1871.0304821370773, 1589.7641386682992, 1422.1200773269102, 1400.1187136785356, 12909.250082494878, 43000.24429888664, 23485.276701704028, 24893.595715838772, 30125.41605680678, 13536.149871055868, 21601.757542535866, 16490.444951339283, 6580.228828043378, 6402.961241313068, 6079.974380818052, 5570.283560299903, 4725.556075140119, 4027.2803633891217, 3848.8058401345943, 3550.9151764472253, 3282.6631063724158, 3068.764894973395, 2814.8240302374384, 2794.149586845049, 2669.6886832476084, 2453.946415430587, 2383.9059348777373, 2327.005733969143, 1992.1053917098673, 1991.6491936260788, 1965.3350328705556, 1880.9623641266598, 1790.2954849080795, 1705.9230111476375, 1580.9295307083992, 1557.8620611750464, 1547.8104174832702, 1418.3979466198612, 1372.604653283475, 1371.6442272969089, 1367.8386088882537, 43000.24429888664, 16672.170352508772, 7012.637655026594, 5029.318174720927, 3840.82328185913, 2883.815124704871, 2785.9140764924796, 2715.6026169447546, 2701.505948686242, 2665.763597625443, 2458.1945027414813, 2243.371686341262, 2238.3760051174436, 2025.89425322794, 2001.8449485494627, 1943.757742809302, 1774.975606295538, 1701.404771054206, 1609.9534328636062, 1545.0210348639587, 1515.3734217495773, 1448.734171541852, 1432.5577660723932, 1404.2366061968671, 1403.5682737970085, 1344.2775079618602, 1342.9124549842757, 1329.759399256841, 1300.4693910955928, 1267.7295773823992, 1284.7566110243265, 43000.24429888664], \"Category\": [\"Default\", \"Default\", \"Default\", \"Default\", \"Default\", \"Default\", \"Default\", \"Default\", \"Default\", \"Default\", \"Default\", \"Default\", \"Default\", \"Default\", \"Default\", \"Default\", \"Default\", \"Default\", \"Default\", \"Default\", \"Default\", \"Default\", \"Default\", \"Default\", \"Default\", \"Default\", \"Default\", \"Default\", \"Default\", \"Default\", \"Topic1\", \"Topic1\", \"Topic1\", \"Topic1\", \"Topic1\", \"Topic1\", \"Topic1\", \"Topic1\", \"Topic1\", \"Topic1\", \"Topic1\", \"Topic1\", \"Topic1\", \"Topic1\", \"Topic1\", \"Topic1\", \"Topic1\", \"Topic1\", \"Topic1\", \"Topic1\", \"Topic1\", \"Topic1\", \"Topic1\", \"Topic1\", \"Topic1\", \"Topic1\", \"Topic1\", \"Topic1\", \"Topic1\", \"Topic1\", \"Topic1\", \"Topic1\", \"Topic1\", \"Topic1\", \"Topic2\", \"Topic2\", \"Topic2\", \"Topic2\", \"Topic2\", \"Topic2\", \"Topic2\", \"Topic2\", \"Topic2\", \"Topic2\", \"Topic2\", \"Topic2\", \"Topic2\", \"Topic2\", \"Topic2\", \"Topic2\", \"Topic2\", \"Topic2\", \"Topic2\", \"Topic2\", \"Topic2\", \"Topic2\", \"Topic2\", \"Topic2\", \"Topic2\", \"Topic2\", \"Topic2\", \"Topic2\", \"Topic2\", \"Topic2\", \"Topic2\", \"Topic2\", \"Topic2\", \"Topic2\", \"Topic2\", \"Topic2\", \"Topic2\", \"Topic2\", \"Topic3\", \"Topic3\", \"Topic3\", \"Topic3\", \"Topic3\", \"Topic3\", \"Topic3\", \"Topic3\", \"Topic3\", \"Topic3\", \"Topic3\", \"Topic3\", \"Topic3\", \"Topic3\", \"Topic3\", \"Topic3\", \"Topic3\", \"Topic3\", \"Topic3\", \"Topic3\", \"Topic3\", \"Topic3\", \"Topic3\", \"Topic3\", \"Topic3\", \"Topic3\", \"Topic3\", \"Topic3\", \"Topic3\", \"Topic3\", \"Topic3\", \"Topic3\", \"Topic3\", \"Topic3\", \"Topic3\", \"Topic4\", \"Topic4\", \"Topic4\", \"Topic4\", \"Topic4\", \"Topic4\", \"Topic4\", \"Topic4\", \"Topic4\", \"Topic4\", \"Topic4\", \"Topic4\", \"Topic4\", \"Topic4\", \"Topic4\", \"Topic4\", \"Topic4\", \"Topic4\", \"Topic4\", \"Topic4\", \"Topic4\", \"Topic4\", \"Topic4\", \"Topic4\", \"Topic4\", \"Topic4\", \"Topic4\", \"Topic4\", \"Topic4\", \"Topic4\", \"Topic4\", \"Topic4\", \"Topic4\", \"Topic4\", \"Topic4\", \"Topic4\", \"Topic4\", \"Topic5\", \"Topic5\", \"Topic5\", \"Topic5\", \"Topic5\", \"Topic5\", \"Topic5\", \"Topic5\", \"Topic5\", \"Topic5\", \"Topic5\", \"Topic5\", \"Topic5\", \"Topic5\", \"Topic5\", \"Topic5\", \"Topic5\", \"Topic5\", \"Topic5\", \"Topic5\", \"Topic5\", \"Topic5\", \"Topic5\", \"Topic5\", \"Topic5\", \"Topic5\", \"Topic5\", \"Topic5\", \"Topic5\", \"Topic5\", \"Topic5\", \"Topic6\", \"Topic6\", \"Topic6\", \"Topic6\", \"Topic6\", \"Topic6\", \"Topic6\", \"Topic6\", \"Topic6\", \"Topic6\", \"Topic6\", \"Topic6\", \"Topic6\", \"Topic6\", \"Topic6\", \"Topic6\", \"Topic6\", \"Topic6\", \"Topic6\", \"Topic6\", \"Topic6\", \"Topic6\", \"Topic6\", \"Topic6\", \"Topic6\", \"Topic6\", \"Topic6\", \"Topic6\", \"Topic6\", \"Topic6\", \"Topic6\"], \"logprob\": [30.0, 29.0, 28.0, 27.0, 26.0, 25.0, 24.0, 23.0, 22.0, 21.0, 20.0, 19.0, 18.0, 17.0, 16.0, 15.0, 14.0, 13.0, 12.0, 11.0, 10.0, 9.0, 8.0, 7.0, 6.0, 5.0, 4.0, 3.0, 2.0, 1.0, -4.1409, -4.2473, -4.2597, -4.2657, -4.2841, -4.6497, -4.6919, -4.7296, -4.7614, -4.9082, -5.0052, -5.0275, -5.0745, -5.1686, -5.2458, -5.2553, -5.2615, -5.3078, -5.3093, -5.3494, -5.4818, -5.617, -5.6151, -5.652, -5.6548, -5.6776, -5.7227, -5.7475, -5.7863, -5.8393, -0.6485, -3.7756, -5.0911, -5.1263, -3.2722, -3.6281, -3.7418, -3.8399, -4.2509, -4.2895, -4.3256, -4.3536, -4.4696, -4.5265, -4.5491, -4.6659, -4.6972, -4.8771, -4.8833, -4.8974, -4.9439, -4.9544, -4.9925, -5.1438, -5.1909, -5.2079, -5.2344, -5.2654, -5.2833, -5.2827, -5.319, -5.3249, -5.3524, -5.3485, -3.206, -3.2982, -2.9016, -3.4865, -3.3839, -3.9554, -4.2934, -4.6006, -2.406, -3.3062, -3.4472, -3.6949, -3.8364, -4.1779, -4.353, -4.3782, -4.4341, -4.4511, -4.4749, -4.4763, -4.4809, -4.6547, -4.736, -4.8857, -4.8854, -5.0085, -5.0138, -5.0303, -5.0431, -5.0848, -5.1226, -5.1821, -5.3407, -5.3567, -5.3944, -5.4171, -5.4393, -5.4485, -3.5539, -2.2282, -4.089, -3.7148, -4.4534, -3.2907, -3.3371, -3.418, -3.4262, -3.8138, -3.8881, -3.9801, -4.0191, -4.1517, -4.3217, -4.3748, -4.3835, -4.4694, -4.4866, -4.5155, -4.6099, -4.6144, -4.651, -4.6681, -4.711, -4.7309, -4.7378, -4.7648, -4.8877, -4.9631, -4.9723, -5.0129, -5.1759, -5.2874, -5.303, -3.8008, -3.3907, -3.9227, -3.9819, -4.1306, -4.4047, -4.4193, -2.6369, -3.5557, -3.583, -3.6348, -3.7224, -3.8869, -4.0468, -4.0921, -4.1727, -4.2513, -4.3187, -4.4051, -4.4124, -4.458, -4.5423, -4.5713, -4.5955, -4.7509, -4.7511, -4.7644, -4.8083, -4.8578, -4.9061, -4.9822, -4.9969, -5.0034, -5.0908, -5.1236, -5.1243, -5.1271, -4.0325, -2.5577, -3.4238, -3.7563, -4.026, -4.3126, -4.3472, -4.3728, -4.378, -4.3913, -4.4724, -4.5639, -4.5661, -4.6659, -4.6778, -4.7073, -4.7982, -4.8405, -4.8958, -4.937, -4.9564, -5.0014, -5.0126, -5.0326, -5.0331, -5.0763, -5.0773, -5.0871, -5.1094, -5.1349, -5.1216, -3.1344], \"loglift\": [30.0, 29.0, 28.0, 27.0, 26.0, 25.0, 24.0, 23.0, 22.0, 21.0, 20.0, 19.0, 18.0, 17.0, 16.0, 15.0, 14.0, 13.0, 12.0, 11.0, 10.0, 9.0, 8.0, 7.0, 6.0, 5.0, 4.0, 3.0, 2.0, 1.0, 1.3511, 1.3511, 1.3511, 1.3511, 1.3511, 1.3511, 1.3511, 1.351, 1.351, 1.351, 1.351, 1.351, 1.351, 1.3509, 1.3509, 1.3509, 1.3509, 1.3509, 1.3509, 1.3509, 1.3508, 1.3507, 1.3507, 1.3507, 1.3507, 1.3507, 1.3507, 1.3507, 1.3506, 1.3506, 1.2321, 0.1934, 0.917, -0.9032, 1.4444, 1.4443, 1.4443, 1.4443, 1.4443, 1.4443, 1.4443, 1.4443, 1.4442, 1.4442, 1.4442, 1.4442, 1.4442, 1.4442, 1.4442, 1.4442, 1.4441, 1.4441, 1.4441, 1.4441, 1.4441, 1.4441, 1.444, 1.444, 1.444, 1.444, 1.444, 1.444, 1.444, 1.444, 1.2079, 1.1739, 1.0673, 0.7366, 0.4834, 0.6003, 0.7772, 0.4225, 1.8854, 1.8854, 1.8853, 1.8853, 1.8853, 1.8852, 1.8852, 1.8852, 1.8852, 1.8852, 1.8852, 1.8852, 1.8852, 1.8851, 1.8851, 1.885, 1.885, 1.885, 1.885, 1.885, 1.885, 1.8849, 1.8849, 1.8849, 1.8848, 1.8848, 1.8848, 1.8848, 1.8847, 1.8847, 1.0018, -0.3477, 0.9342, 0.5084, -0.5861, 1.9895, 1.9895, 1.9895, 1.9895, 1.9895, 1.9895, 1.9895, 1.9895, 1.9894, 1.9894, 1.9894, 1.9894, 1.9893, 1.9893, 1.9893, 1.9893, 1.9893, 1.9893, 1.9893, 1.9893, 1.9893, 1.9893, 1.9892, 1.9892, 1.9892, 1.9892, 1.9891, 1.989, 1.989, 1.989, 1.2698, 0.4766, 0.5494, 0.432, 0.0926, 0.6184, 0.1365, 2.1888, 2.1887, 2.1887, 2.1887, 2.1887, 2.1887, 2.1886, 2.1886, 2.1886, 2.1886, 2.1886, 2.1886, 2.1885, 2.1885, 2.1885, 2.1885, 2.1885, 2.1884, 2.1884, 2.1884, 2.1884, 2.1884, 2.1883, 2.1883, 2.1883, 2.1883, 2.1882, 2.1882, 2.1882, 2.1882, -0.1651, 2.257, 2.257, 2.2569, 2.2569, 2.2568, 2.2568, 2.2568, 2.2568, 2.2567, 2.2567, 2.2567, 2.2567, 2.2566, 2.2566, 2.2566, 2.2566, 2.2566, 2.2565, 2.2565, 2.2565, 2.2565, 2.2564, 2.2564, 2.2564, 2.2564, 2.2564, 2.2564, 2.2564, 2.2564, 2.2564, 0.7329]}, \"token.table\": {\"Topic\": [1, 2, 3, 4, 5, 6, 1, 1, 1, 2, 6, 5, 3, 6, 1, 2, 3, 4, 5, 6, 3, 2, 5, 1, 1, 4, 2, 3, 4, 3, 2, 1, 5, 6, 5, 2, 3, 2, 6, 4, 1, 4, 6, 4, 4, 1, 3, 2, 5, 4, 2, 2, 5, 2, 6, 2, 4, 3, 3, 1, 5, 2, 4, 1, 5, 4, 1, 1, 3, 1, 6, 1, 6, 1, 4, 5, 4, 6, 1, 2, 3, 2, 6, 3, 6, 3, 6, 3, 6, 5, 2, 3, 1, 2, 3, 4, 5, 6, 2, 1, 4, 5, 1, 3, 1, 3, 2, 2, 4, 6, 2, 6, 4, 3, 4, 3, 3, 1, 6, 6, 6, 1, 6, 5, 2, 4, 1, 5, 4, 1, 4, 1, 6, 1, 3, 2, 3, 5, 1, 3, 4, 1, 6, 6, 4, 5, 1, 4, 5, 3, 2, 6, 5, 2, 1, 4, 3, 5, 5, 3, 3, 4, 6, 3, 3, 2, 4, 5, 2, 5, 5, 5, 3, 4, 2, 2, 4, 6, 5, 6, 5, 4, 2, 3, 4, 2, 6, 4, 4, 2, 4, 6, 4, 5, 2, 2, 3, 4, 3, 2, 5, 5, 1, 2, 2, 5, 6, 4, 2, 4, 6, 1], \"Freq\": [0.8876388035150965, 0.005115614244224127, 0.10719508127345208, 6.3785713768380634e-06, 3.508214257260935e-05, 9.567857065257095e-06, 0.9997513085993632, 0.9998884506273523, 0.9995614974209455, 0.9998914154397383, 0.9990936743842375, 0.9994589373954124, 0.9995645034032085, 0.9991193747610553, 0.10492801141864323, 0.4927400827264601, 0.2523118680142699, 0.15000622701703537, 0.9999730176268381, 0.9993885603756107, 0.9997278330082741, 0.999796432633282, 0.9995594847489198, 0.9999096239121691, 0.999766773610799, 0.9992653364538494, 0.42996501473137383, 0.4132534115532918, 0.15674650515508526, 0.9997902651325768, 0.9996631402966185, 0.9995962828657037, 0.9997507482653207, 0.9995140731377646, 0.9994764103703424, 0.9996486133811292, 0.9997195096616408, 0.9996789064232681, 0.9996390602510088, 0.9995737310553306, 0.64763972197379, 0.3521071182386519, 0.999778090895555, 0.9997733880200972, 0.9995668500490273, 0.9998609748805749, 0.9992930778883395, 0.9997601781784863, 0.9997979974335081, 0.9997827931539139, 0.9997470513670291, 0.9995923682364793, 0.9998823259884599, 0.9997990981999924, 0.9995585883979309, 0.513120433616995, 0.48686019403424113, 0.9996358367591611, 0.999818170377535, 0.9994843033627636, 0.9995677991014541, 0.9995265670784415, 0.9998904642582183, 0.9997025156036139, 0.9990144186099588, 0.9997966183792965, 0.9993725500291886, 0.9997179581689704, 0.9999573568503367, 0.9998093197395874, 0.9994110861015744, 0.9999206254690504, 0.9994503550966686, 0.9995392511499321, 0.999871918797736, 0.9993207097781157, 0.9992009865537784, 0.9998127160569504, 0.9998467316976675, 0.9996353818457014, 0.9992048145195849, 0.9997536824543699, 0.999929802030328, 0.9999281660059584, 0.9994077885458399, 0.9998753804840301, 0.9994245007804381, 0.9997031285347229, 0.9997173450205292, 0.9997420361213163, 0.9994984281433508, 0.999584960498553, 0.9993550111624435, 0.38250945472944375, 0.08446463640426433, 0.22025456260594367, 0.09497620459113863, 0.21778946033203067, 0.9996630215402073, 0.9999017681245984, 0.999529938379288, 0.9996820774136409, 0.9994362180297607, 0.9995730606212763, 0.9995501966701356, 0.9996325323740671, 0.999915853704146, 0.9998634153697313, 0.9999574098742298, 0.9997379019033727, 0.9996016851095544, 0.9996106502051066, 0.9999211126208372, 0.9990343215697429, 0.99947273153245, 0.9989233146398855, 0.9998612473030075, 0.9993697302097369, 0.9997135538852271, 0.999577915087742, 0.9993205402326197, 0.9996063482833791, 0.9996718935087796, 0.9993869094768898, 0.9995057749986979, 0.999212389062803, 0.9995683137887779, 0.9996199787648988, 0.9996226164667066, 0.9994821162064572, 0.9997847003907432, 0.9996754683474135, 0.9994932323981351, 0.9992134610059756, 0.9998451407728389, 0.9999073011980657, 0.9997525757420551, 0.9996143292189936, 0.9996792816621991, 0.999776078688319, 0.9998473939648854, 0.9994800843758873, 0.9995951220844632, 0.9994289198051426, 0.9995442727640724, 0.9998397393217435, 0.9996274287578788, 0.9996196826397743, 0.9998498755065288, 0.9998846939136377, 0.9998338282924966, 0.9990496694660932, 0.9995303247853283, 0.9997125189580427, 0.9995775448791511, 0.9997458842051171, 0.9996781387082836, 0.9997695700252944, 0.9992763848655151, 0.9991573010183389, 0.9997459577524821, 0.9998186547509494, 0.9999090705868516, 0.9996590043392828, 0.9992003311152506, 0.7893596499399045, 0.21061641957429617, 0.999446638315079, 0.9999505831680855, 0.9998132545120406, 0.999674042181647, 0.9997422702594262, 0.9998739969282275, 0.9995193383410074, 0.9998253553965195, 0.9998902745332703, 0.9998041456322508, 0.9997856496384464, 0.9994883660912021, 0.9991743463530224, 0.9994451138406294, 0.9997464022327812, 0.3599250929112213, 0.38622503812394604, 0.253838797053152, 0.9994602882779108, 0.9996101660239785, 0.9996566879491404, 0.9994492435334884, 0.9996379642399431, 0.9997858932429212, 0.9993852663206281, 0.9995948596906249, 0.999790625932285, 0.9996837376848082, 0.9999410287862702, 0.9996492581075654, 0.9994453811622619, 0.9997470467016977, 0.9998529730705374, 0.9995885736216625, 0.9997072533740701, 0.3141458429526141, 0.6858280260674091, 0.9994687577208371, 0.9994120353308963, 0.9993391450077904, 0.9998691235156956, 0.7630312483693145, 0.23687180997089824, 8.515973754121812e-05, 0.999928752597596], \"Term\": [\"(\", \"(\", \"(\", \"(\", \"(\", \"(\", \"\\u0431\\u0435\\u0437\", \"\\u0431\\u043b\\u0438\\u043d\", \"\\u0431\\u043b\\u044f\", \"\\u0431\\u043e\\u043b\\u0435\\u0442\\u044c\", \"\\u0431\\u043e\\u043b\\u044c\", \"\\u0431\\u043e\\u043b\\u044c\\u043d\\u043e\", \"\\u0431\\u043e\\u043b\\u044c\\u0448\\u0435\", \"\\u0431\\u044b\\u0441\\u0442\\u0440\\u043e\", \"\\u0431\\u044b\\u0442\\u044c\", \"\\u0431\\u044b\\u0442\\u044c\", \"\\u0431\\u044b\\u0442\\u044c\", \"\\u0431\\u044b\\u0442\\u044c\", \"\\u0432\\u0435\\u0441\\u044c\", \"\\u0432\\u0435\\u0447\\u0435\\u0440\", \"\\u0432\\u0438\\u0434\\u0435\\u0442\\u044c\", \"\\u0432\\u043e\\u043e\\u0431\\u0449\\u0435\", \"\\u0432\\u043e\\u043f\\u0440\\u043e\\u0441\", \"\\u0432\\u043e\\u0442\", \"\\u0432\\u0440\\u0435\\u043c\\u044f\", \"\\u0432\\u0440\\u043e\\u0434\\u0435\", \"\\u0432\\u0441\\u0435\", \"\\u0432\\u0441\\u0435\", \"\\u0432\\u0441\\u0435\", \"\\u0432\\u0441\\u0435\\u0433\\u0434\\u0430\", \"\\u0432\\u0441\\u0442\\u0430\\u0432\\u0430\\u0442\\u044c\", \"\\u0432\\u0447\\u0435\\u0440\\u0430\", \"\\u0432\\u044b\\u0445\\u043e\\u0434\\u0438\\u0442\\u044c\", \"\\u0432\\u044b\\u0445\\u043e\\u0434\\u043d\\u043e\\u0439\", \"\\u0433\\u043b\\u0430\\u0437\", \"\\u0433\\u043e\\u0432\\u043e\\u0440\\u0438\\u0442\\u044c\", \"\\u0433\\u043e\\u0434\", \"\\u0433\\u043e\\u043b\\u043e\\u0432\\u0430\", \"\\u0433\\u0440\\u0443\\u0441\\u0442\\u043d\\u043e\", \"\\u0434\\u0430\\u0432\\u0430\\u0442\\u044c\", \"\\u0434\\u0430\\u0436\\u0435\", \"\\u0434\\u0430\\u0436\\u0435\", \"\\u0434\\u0432\\u0430\", \"\\u0434\\u0435\\u043b\\u0430\\u0442\\u044c\", \"\\u0434\\u0435\\u043b\\u043e\", \"\\u0434\\u0435\\u043d\\u044c\", \"\\u0434\\u0435\\u043d\\u044c\\u0433\\u0438\", \"\\u0434\\u043b\\u044f\", \"\\u0434\\u043e\\u043c\\u0430\", \"\\u0434\\u043e\\u043c\\u043e\\u0439\", \"\\u0434\\u0440\\u0443\\u0433\", \"\\u0434\\u0440\\u0443\\u0433\\u043e\\u0439\", \"\\u0434\\u0443\\u043c\\u0430\\u0442\\u044c\", \"\\u0435\\u0441\\u043b\\u0438\", \"\\u0435\\u0445\\u0430\\u0442\\u044c\", \"\\u0435\\u0449\\u0435\", \"\\u0435\\u0449\\u0435\", \"\\u0436\\u0430\\u043b\\u044c\", \"\\u0436\\u0434\\u0430\\u0442\\u044c\", \"\\u0436\\u0438\\u0437\\u043d\\u044c\", \"\\u0437\\u0430\\u0431\\u043e\\u043b\\u0435\\u0432\\u0430\\u0442\\u044c\", \"\\u0437\\u0430\\u0431\\u044b\\u0432\\u0430\\u0442\\u044c\", \"\\u0437\\u0430\\u0432\\u0442\\u0440\\u0430\", \"\\u0437\\u043d\\u0430\\u0442\\u044c\", \"\\u0438\\u0431\\u043e\", \"\\u0438\\u0434\\u0442\\u0438\", \"\\u0438\\u043b\\u0438\", \"\\u043a\\u0430\\u0436\\u0434\\u044b\\u0439\", \"\\u043a\\u0430\\u043a\", \"\\u043a\\u0430\\u043a\\u043e\\u0439\", \"\\u043a\\u0438\\u0435\\u0432\", \"\\u043a\\u043e\\u0433\\u0434\\u0430\", \"\\u043a\\u043e\\u043d\\u0435\\u0446\", \"\\u043a\\u043e\\u0442\\u043e\\u0440\\u044b\\u0439\", \"\\u043a\\u0442\\u043e\", \"\\u043a\\u0443\\u043f\\u0438\\u0442\\u044c\", \"\\u043b\\u043e\\u0436\\u0438\\u0442\\u044c\\u0441\\u044f\", \"\\u043b\\u044e\\u0431\\u0438\\u043c\\u044b\\u0439\", \"\\u043b\\u044e\\u0431\\u0438\\u0442\\u044c\", \"\\u043c\\u0430\\u043c\\u0430\", \"\\u043c\\u0438\\u043d\\u0443\\u0442\\u0430\", \"\\u043c\\u043d\\u043e\\u0433\\u043e\", \"\\u043c\\u043e\\u0439\", \"\\u043c\\u043e\\u0447\\u044c\", \"\\u043d\\u0430\\u0432\\u0435\\u0440\\u043d\\u043e\\u0435\", \"\\u043d\\u0430\\u0434\\u043e\", \"\\u043d\\u0430\\u0434\\u043e\\u0435\\u0434\\u0430\\u0442\\u044c\", \"\\u043d\\u0430\\u043f\\u0438\\u0441\\u0430\\u0442\\u044c\", \"\\u043d\\u0430\\u0441\\u0442\\u0440\\u043e\\u0435\\u043d\\u0438\\u0435\", \"\\u043d\\u0430\\u0445\\u043e\\u0434\\u0438\\u0442\\u044c\", \"\\u043d\\u0430\\u0447\\u0438\\u043d\\u0430\\u0442\\u044c\", \"\\u043d\\u0430\\u0447\\u0438\\u043d\\u0430\\u0442\\u044c\\u0441\\u044f\", \"\\u043d\\u0430\\u0448\", \"\\u043d\\u0435\\u0433\\u0430\\u0442\\u0438\\u0432\", \"\\u043d\\u0435\\u0433\\u0430\\u0442\\u0438\\u0432\", \"\\u043d\\u0435\\u0433\\u0430\\u0442\\u0438\\u0432\", \"\\u043d\\u0435\\u0433\\u0430\\u0442\\u0438\\u0432\", \"\\u043d\\u0435\\u0433\\u0430\\u0442\\u0438\\u0432\", \"\\u043d\\u0435\\u0434\\u0435\\u043b\\u044f\", \"\\u043d\\u0435\\u0442\", \"\\u043d\\u0438\\u0431\\u0443\\u0434\\u044c\", \"\\u043d\\u0438\\u043a\\u0442\\u043e\", \"\\u043d\\u0438\\u0447\\u0442\\u043e\", \"\\u043d\\u043e\\u0432\\u044b\\u0439\", \"\\u043d\\u043e\\u0447\\u044c\", \"\\u043d\\u0440\\u0430\\u0432\\u0438\\u0442\\u044c\\u0441\\u044f\", \"\\u043e\\u0434\\u0438\\u043d\", \"\\u043e\\u043d\\u0430\", \"\\u043e\\u043d\\u0438\", \"\\u043e\\u043f\\u044f\\u0442\\u044c\", \"\\u043e\\u0441\\u0442\\u0430\\u0432\\u0430\\u0442\\u044c\\u0441\\u044f\", \"\\u043e\\u0442\\u0432\\u0435\\u0447\\u0430\\u0442\\u044c\", \"\\u043e\\u0447\\u0435\\u043d\\u044c\", \"\\u043f\\u0430\\u0440\\u0430\", \"\\u043f\\u0435\\u0440\\u0432\\u044b\\u0439\", \"\\u043f\\u0435\\u0441\\u043d\\u044f\", \"\\u043f\\u0438\\u0441\\u0430\\u0442\\u044c\", \"\\u043f\\u043b\\u043e\\u0445\\u043e\", \"\\u043f\\u043b\\u043e\\u0445\\u043e\\u0439\", \"\\u043f\\u043e\\u0434\", \"\\u043f\\u043e\\u0436\\u0430\\u043b\\u0443\\u0439\\u0441\\u0442\\u0430\", \"\\u043f\\u043e\\u0439\\u0442\\u0438\", \"\\u043f\\u043e\\u043a\\u0430\", \"\\u043f\\u043e\\u043a\\u0430\\u0437\\u044b\\u0432\\u0430\\u0442\\u044c\", \"\\u043f\\u043e\\u043b\\u0443\\u0447\\u0430\\u0442\\u044c\\u0441\\u044f\", \"\\u043f\\u043e\\u043c\\u043e\\u0433\\u0430\\u0442\\u044c\", \"\\u043f\\u043e\\u043d\\u0438\\u043c\\u0430\\u0442\\u044c\", \"\\u043f\\u043e\\u0440\\u0430\", \"\\u043f\\u043e\\u0441\\u043b\\u0435\\u0434\\u043d\\u0438\\u0439\", \"\\u043f\\u043e\\u0441\\u043c\\u043e\\u0442\\u0440\\u0435\\u0442\\u044c\", \"\\u043f\\u043e\\u0442\\u043e\\u043c\", \"\\u043f\\u043e\\u0447\\u0435\\u043c\\u0443\", \"\\u043f\\u0440\\u0430\\u0432\\u0434\\u0430\", \"\\u043f\\u0440\\u0438\\u0445\\u043e\\u0434\\u0438\\u0442\\u044c\", \"\\u043f\\u0440\\u043e\", \"\\u043f\\u0440\\u043e\\u0441\\u0442\\u043e\", \"\\u043f\\u0440\\u043e\\u0445\\u043e\\u0434\\u0438\\u0442\\u044c\", \"\\u043f\\u0440\\u043e\\u0449\\u0430\\u0442\\u044c\", \"\\u0440\\u0430\\u0431\\u043e\\u0442\\u0430\", \"\\u0440\\u0430\\u0432\\u043d\\u044b\\u0439\", \"\\u0440\\u0430\\u0437\", \"\\u0440\\u0430\\u043d\\u043e\", \"\\u0440\\u0435\\u0431\\u0435\\u043d\\u043e\\u043a\", \"\\u0440\\u043e\\u0434\\u0438\\u0442\\u0435\\u043b\\u044c\", \"\\u0441\\u0430\\u043c\", \"\\u0441\\u0430\\u043c\\u044b\\u0439\", \"\\u0441\\u0432\\u043e\\u0439\", \"\\u0441\\u0434\\u0435\\u043b\\u0430\\u0442\\u044c\", \"\\u0441\\u0435\\u0431\\u044f\", \"\\u0441\\u0435\\u0433\\u043e\\u0434\\u043d\\u044f\", \"\\u0441\\u0435\\u0439\\u0447\\u0430\\u0441\", \"\\u0441\\u0435\\u0440\\u0434\\u0446\\u0435\", \"\\u0441\\u0435\\u0441\\u0441\\u0438\\u044f\", \"\\u0441\\u0438\\u0434\\u0435\\u0442\\u044c\", \"\\u0441\\u043a\\u0430\\u0437\\u0430\\u0442\\u044c\", \"\\u0441\\u043a\\u043e\\u0440\\u043e\", \"\\u0441\\u043a\\u0443\\u0447\\u0430\\u0442\\u044c\", \"\\u0441\\u043c\\u043e\\u0442\\u0440\\u0435\\u0442\\u044c\", \"\\u0441\\u043c\\u043e\\u0447\\u044c\", \"\\u0441\\u043d\\u0435\\u0433\", \"\\u0441\\u043d\\u043e\\u0432\\u0430\", \"\\u0441\\u043e\\u0432\\u0441\\u0435\\u043c\", \"\\u0441\\u043f\\u0430\\u0442\\u044c\", \"\\u0441\\u0442\\u0430\\u043d\\u043e\\u0432\\u0438\\u0442\\u044c\\u0441\\u044f\", \"\\u0441\\u0442\\u043e\\u043b\\u044c\\u043a\\u043e\", \"\\u0442\\u0430\\u043a\", \"\\u0442\\u0430\\u043a\", \"\\u0442\\u0430\\u043a\\u0438\", \"\\u0442\\u0430\\u043a\\u043e\\u0439\", \"\\u0442\\u0430\\u043c\", \"\\u0442\\u0432\\u0438\\u0442\\u0442\\u0435\\u0440\", \"\\u0442\\u0432\\u043e\\u0439\", \"\\u0442\\u0435\\u043f\\u0435\\u0440\\u044c\", \"\\u0442\\u043e\\u0433\\u0434\\u0430\", \"\\u0442\\u043e\\u0436\\u0435\", \"\\u0442\\u043e\\u043b\\u044c\\u043a\\u043e\", \"\\u0442\\u043e\\u0442\", \"\\u0442\\u0443\\u0442\", \"\\u0443\\u0431\\u0438\\u0432\\u0430\\u0442\\u044c\", \"\\u0443\\u0436\\u0430\\u0441\", \"\\u0443\\u0436\\u0430\\u0441\\u043d\\u043e\", \"\\u0443\\u0436\\u0430\\u0441\\u043d\\u044b\\u0439\", \"\\u0443\\u0436\\u0435\", \"\\u0443\\u0436\\u0435\", \"\\u0443\\u0436\\u0435\", \"\\u0443\\u043b\\u0438\\u0446\\u0430\", \"\\u0443\\u043c\\u0438\\u0440\\u0430\\u0442\\u044c\", \"\\u0443\\u0440\\u043e\\u043a\", \"\\u0443\\u0441\\u0442\\u0430\\u0432\\u0430\\u0442\\u044c\", \"\\u0443\\u0442\\u0440\\u043e\", \"\\u0443\\u0445\\u043e\\u0434\\u0438\\u0442\\u044c\", \"\\u0443\\u0447\\u0438\\u0442\\u044c\", \"\\u0445\\u043e\\u043b\\u043e\\u0434\\u043d\\u043e\", \"\\u0445\\u043e\\u0440\\u043e\\u0448\\u0438\\u0439\", \"\\u0445\\u043e\\u0440\\u043e\\u0448\\u043e\", \"\\u0445\\u043e\\u0442\\u0435\\u0442\\u044c\", \"\\u0445\\u043e\\u0442\\u0435\\u0442\\u044c\\u0441\\u044f\", \"\\u0445\\u043e\\u0442\\u044c\", \"\\u0447\\u0430\\u0441\", \"\\u0447\\u0435\\u043b\\u043e\\u0432\\u0435\\u043a\", \"\\u0447\\u0435\\u0440\\u0435\\u0437\", \"\\u0447\\u0438\\u0442\\u0430\\u0442\\u044c\", \"\\u0447\\u0442\\u043e\", \"\\u0447\\u0442\\u043e\", \"\\u0447\\u0442\\u043e\\u0431\\u044b\", \"\\u0447\\u0443\\u0432\\u0441\\u0442\\u0432\\u043e\\u0432\\u0430\\u0442\\u044c\", \"\\u0447\\u0443\\u0442\\u044c\", \"\\u0448\\u043a\\u043e\\u043b\\u0430\", \"\\u044d\\u0442\\u043e\", \"\\u044d\\u0442\\u043e\", \"\\u044d\\u0442\\u043e\", \"\\u044d\\u0442\\u043e\\u0442\"]}, \"R\": 30, \"lambda.step\": 0.01, \"plot.opts\": {\"xlab\": \"PC1\", \"ylab\": \"PC2\"}, \"topic.order\": [4, 5, 6, 1, 3, 2]};\n",
              "\n",
              "function LDAvis_load_lib(url, callback){\n",
              "  var s = document.createElement('script');\n",
              "  s.src = url;\n",
              "  s.async = true;\n",
              "  s.onreadystatechange = s.onload = callback;\n",
              "  s.onerror = function(){console.warn(\"failed to load library \" + url);};\n",
              "  document.getElementsByTagName(\"head\")[0].appendChild(s);\n",
              "}\n",
              "\n",
              "if(typeof(LDAvis) !== \"undefined\"){\n",
              "   // already loaded: just create the visualization\n",
              "   !function(LDAvis){\n",
              "       new LDAvis(\"#\" + \"ldavis_el9411321811479664169274184357\", ldavis_el9411321811479664169274184357_data);\n",
              "   }(LDAvis);\n",
              "}else if(typeof define === \"function\" && define.amd){\n",
              "   // require.js is available: use it to load d3/LDAvis\n",
              "   require.config({paths: {d3: \"https://d3js.org/d3.v5\"}});\n",
              "   require([\"d3\"], function(d3){\n",
              "      window.d3 = d3;\n",
              "      LDAvis_load_lib(\"https://cdn.jsdelivr.net/gh/bmabey/pyLDAvis@3.4.0/pyLDAvis/js/ldavis.v3.0.0.js\", function(){\n",
              "        new LDAvis(\"#\" + \"ldavis_el9411321811479664169274184357\", ldavis_el9411321811479664169274184357_data);\n",
              "      });\n",
              "    });\n",
              "}else{\n",
              "    // require.js not available: dynamically load d3 & LDAvis\n",
              "    LDAvis_load_lib(\"https://d3js.org/d3.v5.js\", function(){\n",
              "         LDAvis_load_lib(\"https://cdn.jsdelivr.net/gh/bmabey/pyLDAvis@3.4.0/pyLDAvis/js/ldavis.v3.0.0.js\", function(){\n",
              "                 new LDAvis(\"#\" + \"ldavis_el9411321811479664169274184357\", ldavis_el9411321811479664169274184357_data);\n",
              "            })\n",
              "         });\n",
              "}\n",
              "</script>"
            ]
          },
          "metadata": {},
          "execution_count": 104
        }
      ]
    },
    {
      "cell_type": "code",
      "source": [
        "print('Персплексия: ', np.exp(lda_6t.log_perplexity(corpus)))"
      ],
      "metadata": {
        "colab": {
          "base_uri": "https://localhost:8080/"
        },
        "id": "FhZL1HlV4Pq6",
        "outputId": "3bf0302f-af85-4c3b-f613-b7de043d2467"
      },
      "execution_count": null,
      "outputs": [
        {
          "output_type": "stream",
          "name": "stderr",
          "text": [
            "/usr/local/lib/python3.10/dist-packages/ipykernel/ipkernel.py:283: DeprecationWarning: `should_run_async` will not call `transform_cell` automatically in the future. Please pass the result to `transformed_cell` argument and any exception that happen during thetransform in `preprocessing_exc_tuple` in IPython 7.17 and above.\n",
            "  and should_run_async(code)\n"
          ]
        },
        {
          "output_type": "stream",
          "name": "stdout",
          "text": [
            "Персплексия:  0.00017201021759735583\n"
          ]
        }
      ]
    },
    {
      "cell_type": "code",
      "source": [
        "coherence_model_lda_6t = CoherenceModel(model=lda_6t, texts=data['lemma_gr3'], dictionary=dictionary, coherence='c_v')\n",
        "coherence_lda_6t = coherence_model_lda_6t.get_coherence()\n",
        "print('Средняя когерентность: ', coherence_lda_6t)"
      ],
      "metadata": {
        "colab": {
          "base_uri": "https://localhost:8080/"
        },
        "id": "QOF0YwQm4Pn7",
        "outputId": "3dfca6da-a516-4686-c79a-4c554967faa0"
      },
      "execution_count": null,
      "outputs": [
        {
          "output_type": "stream",
          "name": "stderr",
          "text": [
            "/usr/local/lib/python3.10/dist-packages/ipykernel/ipkernel.py:283: DeprecationWarning: `should_run_async` will not call `transform_cell` automatically in the future. Please pass the result to `transformed_cell` argument and any exception that happen during thetransform in `preprocessing_exc_tuple` in IPython 7.17 and above.\n",
            "  and should_run_async(code)\n"
          ]
        },
        {
          "output_type": "stream",
          "name": "stdout",
          "text": [
            "Средняя когерентность:  0.2811801105860956\n"
          ]
        }
      ]
    },
    {
      "cell_type": "markdown",
      "source": [
        "### 4 темы"
      ],
      "metadata": {
        "id": "cTO41OLb-9bh"
      }
    },
    {
      "cell_type": "code",
      "source": [
        "%time lda_4t = ldamodel.LdaModel(corpus, id2word=dictionary, num_topics=4, chunksize=50, update_every=1, passes=2)"
      ],
      "metadata": {
        "colab": {
          "base_uri": "https://localhost:8080/"
        },
        "id": "OLszdy_a_Fd6",
        "outputId": "acd9fd15-8654-494f-efec-06a386cd8423"
      },
      "execution_count": null,
      "outputs": [
        {
          "output_type": "stream",
          "name": "stderr",
          "text": [
            "/usr/local/lib/python3.10/dist-packages/ipykernel/ipkernel.py:283: DeprecationWarning: `should_run_async` will not call `transform_cell` automatically in the future. Please pass the result to `transformed_cell` argument and any exception that happen during thetransform in `preprocessing_exc_tuple` in IPython 7.17 and above.\n",
            "  and should_run_async(code)\n"
          ]
        },
        {
          "output_type": "stream",
          "name": "stdout",
          "text": [
            "CPU times: user 1min 15s, sys: 314 ms, total: 1min 15s\n",
            "Wall time: 1min 16s\n"
          ]
        }
      ]
    },
    {
      "cell_type": "code",
      "source": [
        "lda_4t.show_topics(num_topics=4, num_words=10, formatted=True)"
      ],
      "metadata": {
        "colab": {
          "base_uri": "https://localhost:8080/"
        },
        "id": "24tUJ0EG_Fbd",
        "outputId": "432dca85-26ad-4fb2-f097-5485b107dfa8"
      },
      "execution_count": null,
      "outputs": [
        {
          "output_type": "stream",
          "name": "stderr",
          "text": [
            "/usr/local/lib/python3.10/dist-packages/ipykernel/ipkernel.py:283: DeprecationWarning: `should_run_async` will not call `transform_cell` automatically in the future. Please pass the result to `transformed_cell` argument and any exception that happen during thetransform in `preprocessing_exc_tuple` in IPython 7.17 and above.\n",
            "  and should_run_async(code)\n"
          ]
        },
        {
          "output_type": "execute_result",
          "data": {
            "text/plain": [
              "[(0,\n",
              "  '0.041*\"хотеть\" + 0.026*\"негатив\" + 0.025*\"мочь\" + 0.024*\"этот\" + 0.024*\"день\" + 0.022*\"быть\" + 0.021*\"сегодня\" + 0.020*\"уже\" + 0.018*\"завтра\" + 0.017*\"все\"'),\n",
              " (1,\n",
              "  '0.058*\"это\" + 0.042*\"негатив\" + 0.037*\"что\" + 0.033*\"такой\" + 0.026*\"она\" + 0.021*\"быть\" + 0.018*\"какой\" + 0.016*\"даже\" + 0.014*\"как\" + 0.014*\"делать\"'),\n",
              " (2,\n",
              "  '0.471*\"(\" + 0.018*\"так\" + 0.013*\"вот\" + 0.012*\"что\" + 0.012*\"когда\" + 0.009*\"как\" + 0.009*\"кто\" + 0.008*\"знать\" + 0.008*\"только\" + 0.008*\"быть\"'),\n",
              " (3,\n",
              "  '0.046*\"что\" + 0.026*\"негатив\" + 0.020*\"так\" + 0.018*\"все\" + 0.017*\"просто\" + 0.016*\"один\" + 0.016*\"очень\" + 0.015*\"как\" + 0.015*\"они\" + 0.014*\"любить\"')]"
            ]
          },
          "metadata": {},
          "execution_count": 118
        }
      ]
    },
    {
      "cell_type": "code",
      "source": [
        "%time vis_data_4t = gensimvis.prepare(lda_4t, corpus, dictionary)\n",
        "pyLDAvis.display(vis_data_4t)"
      ],
      "metadata": {
        "colab": {
          "base_uri": "https://localhost:8080/",
          "height": 1000
        },
        "id": "cwRsDFWl_FYo",
        "outputId": "4a849351-3ec3-445c-fc92-64c2427a0223"
      },
      "execution_count": null,
      "outputs": [
        {
          "output_type": "stream",
          "name": "stderr",
          "text": [
            "/usr/local/lib/python3.10/dist-packages/ipykernel/ipkernel.py:283: DeprecationWarning: `should_run_async` will not call `transform_cell` automatically in the future. Please pass the result to `transformed_cell` argument and any exception that happen during thetransform in `preprocessing_exc_tuple` in IPython 7.17 and above.\n",
            "  and should_run_async(code)\n"
          ]
        },
        {
          "output_type": "stream",
          "name": "stdout",
          "text": [
            "CPU times: user 14.8 s, sys: 121 ms, total: 14.9 s\n",
            "Wall time: 15.3 s\n"
          ]
        },
        {
          "output_type": "stream",
          "name": "stderr",
          "text": [
            "/usr/local/lib/python3.10/dist-packages/pandas/core/dtypes/cast.py:1641: DeprecationWarning: np.find_common_type is deprecated.  Please use `np.result_type` or `np.promote_types`.\n",
            "See https://numpy.org/devdocs/release/1.25.0-notes.html and the docs for more information.  (Deprecated NumPy 1.25)\n",
            "  return np.find_common_type(types, [])\n"
          ]
        },
        {
          "output_type": "execute_result",
          "data": {
            "text/plain": [
              "<IPython.core.display.HTML object>"
            ],
            "text/html": [
              "\n",
              "<link rel=\"stylesheet\" type=\"text/css\" href=\"https://cdn.jsdelivr.net/gh/bmabey/pyLDAvis@3.4.0/pyLDAvis/js/ldavis.v1.0.0.css\">\n",
              "\n",
              "\n",
              "<div id=\"ldavis_el9411321811479717924175574167\" style=\"background-color:white;\"></div>\n",
              "<script type=\"text/javascript\">\n",
              "\n",
              "var ldavis_el9411321811479717924175574167_data = {\"mdsDat\": {\"x\": [-0.3485016508664623, 0.07858509201104025, -0.014942189205113664, 0.28485874806053596], \"y\": [0.09655524403473505, -0.36171512879333706, 0.044889900301937354, 0.22026998445666457], \"topics\": [1, 2, 3, 4], \"cluster\": [1, 1, 1, 1], \"Freq\": [31.965313773005104, 23.93891129983249, 23.099369153726684, 20.996405773435722]}, \"tinfo\": {\"Term\": [\"(\", \"\\u044d\\u0442\\u043e\", \"\\u0445\\u043e\\u0442\\u0435\\u0442\\u044c\", \"\\u0442\\u0430\\u043a\\u043e\\u0439\", \"\\u0447\\u0442\\u043e\", \"\\u043d\\u0435\\u0433\\u0430\\u0442\\u0438\\u0432\", \"\\u043e\\u043d\\u0430\", \"\\u043c\\u043e\\u0447\\u044c\", \"\\u044d\\u0442\\u043e\\u0442\", \"\\u0434\\u0435\\u043d\\u044c\", \"\\u0441\\u0435\\u0433\\u043e\\u0434\\u043d\\u044f\", \"\\u0442\\u0430\\u043a\", \"\\u0437\\u0430\\u0432\\u0442\\u0440\\u0430\", \"\\u043a\\u0430\\u043a\\u043e\\u0439\", \"\\u043f\\u0440\\u043e\\u0441\\u0442\\u043e\", \"\\u043d\\u0430\\u0434\\u043e\", \"\\u0443\\u0436\\u0435\", \"\\u043e\\u0434\\u0438\\u043d\", \"\\u0434\\u0430\\u0436\\u0435\", \"\\u0432\\u043e\\u043e\\u0431\\u0449\\u0435\", \"\\u0432\\u043e\\u0442\", \"\\u0447\\u0435\\u043b\\u043e\\u0432\\u0435\\u043a\", \"\\u043b\\u044e\\u0431\\u0438\\u0442\\u044c\", \"\\u0442\\u043e\\u0436\\u0435\", \"\\u0434\\u0435\\u043b\\u0430\\u0442\\u044c\", \"\\u0441\\u043f\\u0430\\u0442\\u044c\", \"\\u043e\\u0447\\u0435\\u043d\\u044c\", \"\\u043e\\u043d\\u0438\", \"\\u0432\\u0435\\u0441\\u044c\", \"\\u043a\\u043e\\u0433\\u0434\\u0430\", \"\\u0432\\u043e\\u0442\", \"\\u043a\\u043e\\u0433\\u0434\\u0430\", \"\\u043a\\u0442\\u043e\", \"\\u0437\\u043d\\u0430\\u0442\\u044c\", \"\\u0431\\u043b\\u0438\\u043d\", \"\\u043f\\u043e\\u0447\\u0435\\u043c\\u0443\", \"\\u0442\\u0435\\u043f\\u0435\\u0440\\u044c\", \"\\u0441\\u0435\\u0439\\u0447\\u0430\\u0441\", \"\\u0442\\u0430\\u043c\", \"\\u043f\\u043e\\u043d\\u0438\\u043c\\u0430\\u0442\\u044c\", \"\\u0435\\u0441\\u043b\\u0438\", \"\\u0441\\u043c\\u043e\\u0442\\u0440\\u0435\\u0442\\u044c\", \"\\u0436\\u0438\\u0437\\u043d\\u044c\", \"\\u0433\\u043e\\u0434\", \"\\u0441\\u0438\\u0434\\u0435\\u0442\\u044c\", \"\\u0443\\u0442\\u0440\\u043e\", \"\\u0433\\u043e\\u0432\\u043e\\u0440\\u0438\\u0442\\u044c\", \"\\u0441\\u0442\\u0430\\u043d\\u043e\\u0432\\u0438\\u0442\\u044c\\u0441\\u044f\", \"\\u0433\\u0434\\u0435\", \"\\u043d\\u0438\\u043a\\u0442\\u043e\", \"\\u0441\\u0434\\u0435\\u043b\\u0430\\u0442\\u044c\", \"\\u0438\\u043b\\u0438\", \"\\u0431\\u043b\\u044f\", \"\\u0442\\u0432\\u043e\\u0439\", \"\\u0440\\u0430\\u043d\\u043e\", \"\\u043f\\u0440\\u0438\\u0445\\u043e\\u0434\\u0438\\u0442\\u044c\", \"\\u0434\\u043e\\u043c\\u0430\", \"\\u043d\\u0430\\u0448\", \"\\u043d\\u0430\\u0447\\u0438\\u043d\\u0430\\u0442\\u044c\", \"\\u0432\\u044b\\u0445\\u043e\\u0434\\u0438\\u0442\\u044c\", \"(\", \"\\u0442\\u0430\\u043a\", \"\\u0442\\u043e\\u043b\\u044c\\u043a\\u043e\", \"\\u043d\\u0435\\u0442\", \"\\u0447\\u0442\\u043e\", \"\\u043a\\u0430\\u043a\", \"\\u0432\\u0435\\u0441\\u044c\", \"\\u043c\\u043e\\u0439\", \"\\u0432\\u0441\\u0435\", \"\\u0431\\u044b\\u0442\\u044c\", \"\\u0443\\u0436\\u0435\", \"\\u0435\\u0449\\u0435\", \"\\u0445\\u043e\\u0442\\u0435\\u0442\\u044c\", \"\\u043c\\u043e\\u0447\\u044c\", \"\\u0434\\u0435\\u043d\\u044c\", \"\\u044d\\u0442\\u043e\\u0442\", \"\\u0441\\u0435\\u0433\\u043e\\u0434\\u043d\\u044f\", \"\\u0437\\u0430\\u0432\\u0442\\u0440\\u0430\", \"\\u043d\\u0430\\u0434\\u043e\", \"\\u0432\\u043e\\u043e\\u0431\\u0449\\u0435\", \"\\u0447\\u0435\\u043b\\u043e\\u0432\\u0435\\u043a\", \"\\u0441\\u043f\\u0430\\u0442\\u044c\", \"\\u0438\\u0434\\u0442\\u0438\", \"\\u0441\\u0432\\u043e\\u0439\", \"\\u0448\\u043a\\u043e\\u043b\\u0430\", \"\\u043f\\u043e\\u0439\\u0442\\u0438\", \"\\u0432\\u0440\\u0435\\u043c\\u044f\", \"\\u043a\\u043e\\u0442\\u043e\\u0440\\u044b\\u0439\", \"\\u0440\\u0430\\u0437\", \"\\u0447\\u0430\\u0441\", \"\\u0445\\u043e\\u0440\\u043e\\u0448\\u043e\", \"\\u0441\\u043a\\u043e\\u0440\\u043e\", \"\\u0443\\u0440\\u043e\\u043a\", \"\\u043f\\u043e\\u0442\\u043e\\u043c\", \"\\u0445\\u043e\\u0440\\u043e\\u0448\\u0438\\u0439\", \"\\u0432\\u0441\\u0442\\u0430\\u0432\\u0430\\u0442\\u044c\", \"\\u043f\\u043e\\u0441\\u043b\\u0435\\u0434\\u043d\\u0438\\u0439\", \"\\u043d\\u0435\\u0434\\u0435\\u043b\\u044f\", \"\\u043a\\u0430\\u0436\\u0434\\u044b\\u0439\", \"\\u043f\\u043e\\u043b\\u0443\\u0447\\u0430\\u0442\\u044c\\u0441\\u044f\", \"\\u0440\\u0430\\u0431\\u043e\\u0442\\u0430\", \"\\u043d\\u0430\\u0441\\u0442\\u0440\\u043e\\u0435\\u043d\\u0438\\u0435\", \"\\u0443\\u0436\\u0435\", \"\\u0435\\u0449\\u0435\", \"\\u0432\\u0435\\u0441\\u044c\", \"\\u0431\\u044b\\u0442\\u044c\", \"\\u043d\\u0435\\u0433\\u0430\\u0442\\u0438\\u0432\", \"\\u0432\\u0441\\u0435\", \"\\u043a\\u0430\\u043a\", \"\\u043f\\u0440\\u043e\\u0441\\u0442\\u043e\", \"\\u043e\\u0434\\u0438\\u043d\", \"\\u043b\\u044e\\u0431\\u0438\\u0442\\u044c\", \"\\u0442\\u043e\\u0436\\u0435\", \"\\u0441\\u043a\\u0430\\u0437\\u0430\\u0442\\u044c\", \"\\u043f\\u0438\\u0441\\u0430\\u0442\\u044c\", \"\\u043d\\u0438\\u0447\\u0442\\u043e\", \"\\u0431\\u0435\\u0437\", \"\\u0434\\u0443\\u043c\\u0430\\u0442\\u044c\", \"\\u0436\\u0430\\u043b\\u044c\", \"\\u0445\\u043e\\u0442\\u0435\\u0442\\u044c\\u0441\\u044f\", \"\\u043c\\u0430\\u043c\\u0430\", \"\\u043f\\u043b\\u043e\\u0445\\u043e\", \"\\u0442\\u0443\\u0442\", \"\\u0433\\u043e\\u043b\\u043e\\u0432\\u0430\", \"\\u0441\\u0430\\u043c\", \"\\u0434\\u0440\\u0443\\u0433\\u043e\\u0439\", \"\\u0434\\u0435\\u043b\\u043e\", \"\\u0434\\u0432\\u0430\", \"\\u0447\\u0438\\u0442\\u0430\\u0442\\u044c\", \"\\u043d\\u0430\\u0445\\u043e\\u0434\\u0438\\u0442\\u044c\", \"\\u043f\\u043e\\u0442\\u043e\\u043c\\u0443\", \"\\u0440\\u0430\\u0432\\u043d\\u044b\\u0439\", \"\\u043f\\u0438\\u0437\\u0434\\u0435\\u0446\", \"\\u0432\\u044b\\u0445\\u043e\\u0434\\u043d\\u043e\\u0439\", \"\\u043d\\u0440\\u0430\\u0432\\u0438\\u0442\\u044c\\u0441\\u044f\", \"\\u0444\\u0438\\u043b\\u044c\\u043c\", \"\\u0432\\u0435\\u0447\\u0435\\u0440\", \"\\u0432\\u0435\\u0434\\u044c\", \"\\u0431\\u043e\\u043b\\u044c\\u0448\\u0435\", \"\\u043f\\u0440\\u043e\", \"\\u043e\\u043d\\u0438\", \"\\u043e\\u0447\\u0435\\u043d\\u044c\", \"\\u0447\\u0442\\u043e\", \"\\u0442\\u0430\\u043a\", \"\\u0432\\u0441\\u0435\", \"\\u043c\\u043e\\u0439\", \"\\u043d\\u0435\\u0433\\u0430\\u0442\\u0438\\u0432\", \"\\u043d\\u0435\\u0442\", \"\\u0442\\u043e\\u043b\\u044c\\u043a\\u043e\", \"\\u043a\\u0430\\u043a\", \"\\u0431\\u044b\\u0442\\u044c\", \"\\u0441\\u0430\\u043c\\u044b\\u0439\", \"\\u044d\\u0442\\u043e\", \"\\u0442\\u0430\\u043a\\u043e\\u0439\", \"\\u043e\\u043d\\u0430\", \"\\u043a\\u0430\\u043a\\u043e\\u0439\", \"\\u0434\\u0430\\u0436\\u0435\", \"\\u0434\\u0435\\u043b\\u0430\\u0442\\u044c\", \"\\u0431\\u043e\\u043b\\u0435\\u0442\\u044c\", \"\\u043e\\u043f\\u044f\\u0442\\u044c\", \"\\u0441\\u043a\\u0443\\u0447\\u0430\\u0442\\u044c\", \"\\u0434\\u043b\\u044f\", \"\\u043d\\u043e\\u0447\\u044c\", \"\\u0432\\u0441\\u0435\\u0433\\u0434\\u0430\", \"\\u0434\\u0430\\u0432\\u0430\\u0442\\u044c\", \"\\u0436\\u0434\\u0430\\u0442\\u044c\", \"\\u043e\\u0441\\u0442\\u0430\\u0432\\u0430\\u0442\\u044c\\u0441\\u044f\", \"\\u0434\\u0440\\u0443\\u0433\", \"\\u0441\\u043e\\u0432\\u0441\\u0435\\u043c\", \"\\u0443\\u043b\\u0438\\u0446\\u0430\", \"\\u0445\\u043e\\u043b\\u043e\\u0434\\u043d\\u043e\", \"\\u0447\\u0442\\u043e\\u0431\\u044b\", \"\\u043f\\u043e\\u043a\\u0430\", \"\\u0447\\u0435\\u043c\", \"\\u043f\\u0440\\u043e\\u0445\\u043e\\u0434\\u0438\\u0442\\u044c\", \"\\u043f\\u043b\\u043e\\u0445\\u043e\\u0439\", \"\\u043f\\u0440\\u0438\\u0445\\u043e\\u0434\\u0438\\u0442\\u044c\\u0441\\u044f\", \"\\u043d\\u0443\\u0436\\u043d\\u043e\", \"\\u043f\\u043e\\u0441\\u043b\\u0435\", \"\\u043d\\u0435\\u043b\\u044c\\u0437\\u044f\", \"\\u044d\\u043a\\u0437\\u0430\\u043c\\u0435\\u043d\", \"\\u0442\\u0435\\u043b\\u0435\\u0444\\u043e\\u043d\", \"\\u043d\\u0435\\u0433\\u0430\\u0442\\u0438\\u0432\", \"\\u0447\\u0442\\u043e\", \"\\u0431\\u044b\\u0442\\u044c\", \"\\u043c\\u043d\\u043e\\u0433\\u043e\", \"\\u043a\\u0430\\u043a\"], \"Freq\": [309976.0, 24936.0, 20362.0, 14107.0, 45492.0, 43627.0, 11415.0, 12135.0, 11979.0, 11761.0, 10540.0, 21130.0, 8828.0, 7595.0, 8071.0, 8228.0, 12748.0, 7765.0, 6795.0, 7102.0, 8687.0, 6906.0, 6524.0, 6485.0, 5926.0, 6380.0, 10037.0, 9371.0, 11763.0, 7713.0, 8686.095353147966, 7712.58457381002, 5801.8142665709875, 5222.179849612322, 4821.147741026946, 4670.33324378047, 4655.645938506205, 3786.9229860524133, 3622.4442636602744, 3414.898856249471, 3293.9550547709296, 3066.3703752031224, 2832.2775227322786, 2708.0321991396604, 2666.905785737908, 2650.4844774697267, 2494.5022473331605, 2454.948555672624, 2262.9435303708087, 2216.8244369756326, 2027.4120001600431, 1984.8623638632666, 1916.8010631511565, 1954.508283392034, 1988.798758764297, 1868.1839465583396, 1806.8744238292443, 1785.786211456631, 1714.2957713963349, 1689.1034561028066, 309686.4075661274, 11579.367180980726, 5133.697955223544, 4368.40127312021, 7764.711776413905, 6056.1104267803275, 4053.02725983698, 3939.989300106024, 4364.118597882502, 4958.392578416342, 2830.7969179873858, 2683.7377950328864, 20361.68428009095, 12135.052568648176, 11761.074217504989, 11978.910748908598, 10539.61958750789, 8827.442822674177, 8227.391710788495, 7101.615864525534, 6905.1817031164655, 6379.846136076048, 5562.293570906008, 5614.2719338781235, 5073.102894340834, 4767.710587891555, 4371.8921107977585, 4413.843341268308, 4273.417647926384, 3748.6924181168615, 3786.5844361591776, 3605.3381145096805, 3389.220749297939, 3418.734210017747, 3249.9183239877907, 3133.446361532007, 2970.0680462128994, 2989.312118909904, 2932.1237724857756, 2938.7474097268096, 2672.5473252668494, 2623.1015294751296, 9916.745576090643, 7886.835912295326, 7709.987089875715, 10964.3437091982, 12956.21673505158, 8380.866657070055, 7505.076506330924, 8070.185504617536, 7764.235135316103, 6523.731680276766, 6484.967840936261, 5790.192366899905, 5352.958462981266, 4374.785442602547, 4368.380828343641, 4208.443279532051, 4143.037483335819, 3977.2765124708626, 3844.1184781831303, 3676.044901955419, 3684.5851985312534, 3018.12205605703, 2850.2130182619367, 2875.914629129098, 2576.0687683700876, 2604.8413210051763, 2506.4121748440757, 2377.196428324964, 2361.1103638446452, 2320.2462267963774, 2323.923351150066, 2357.83175865168, 2253.533190445298, 2205.41675659481, 2151.7175160332786, 2103.7036975493697, 2081.136057285211, 3199.3049665190356, 7283.895258204772, 7470.380994657801, 21655.89565518129, 9546.741898936165, 8384.513180138838, 6409.599508029561, 12524.49918324177, 5110.30717870789, 5121.850965140429, 7294.044006420973, 6478.674245888612, 2925.3785531273597, 24935.866232571952, 14106.89657774399, 11414.164591369397, 7594.820062383231, 6795.119101220368, 5925.1869802599185, 4843.498788212166, 4524.715249248746, 4213.428549985735, 3964.768826142473, 3935.40141300598, 3819.3879493051263, 3023.4420416523094, 2872.6726228240477, 2744.075709464635, 2695.420829830181, 2660.6881930222144, 2525.3671608238806, 2521.7091999715085, 2515.3746578832547, 2506.0410984868436, 2494.865793894552, 2473.8871461771037, 2397.9572705360324, 2356.8118948616852, 2240.738326182271, 2265.4800682095733, 2222.114627708409, 2155.090138874006, 2088.975265517812, 18146.74717616785, 16071.18517084872, 9023.412882560753, 3354.8088292542934, 6075.590944736935], \"Total\": [309976.0, 24936.0, 20362.0, 14107.0, 45492.0, 43627.0, 11415.0, 12135.0, 11979.0, 11761.0, 10540.0, 21130.0, 8828.0, 7595.0, 8071.0, 8228.0, 12748.0, 7765.0, 6795.0, 7102.0, 8687.0, 6906.0, 6524.0, 6485.0, 5926.0, 6380.0, 10037.0, 9371.0, 11763.0, 7713.0, 8687.060091390533, 7713.54832836057, 5802.7605706479835, 5223.151877745538, 4822.1126418419335, 4671.295277938183, 4656.615751073282, 3787.882789123328, 3623.412857002773, 3415.8568780033747, 3294.931620639221, 3067.350023015345, 2833.2469198921262, 2708.9933063855897, 2667.8766285156735, 2651.4635194693897, 2495.472746144729, 2455.9325507797134, 2263.909165766792, 2217.785144044335, 2028.3786936336537, 1985.837757149909, 1917.7555908717432, 1955.4819041362523, 1989.7911927990854, 1869.1584847697334, 1807.8302702902388, 1786.7628564761897, 1715.2628383513859, 1690.0614704165803, 309976.89647319715, 21130.603629715046, 10256.181039234942, 9479.33514337134, 45492.10750828911, 26930.821884269157, 11763.66328058715, 13397.498955668321, 21129.814208352003, 31424.823416063904, 12748.183360853047, 12047.303612651267, 20362.520548026914, 12135.890961594167, 11761.89263500075, 11979.747451681897, 10540.450038783925, 8828.26010915899, 8228.225714417285, 7102.470655304492, 6906.041368471341, 6380.657856161996, 5563.113440053093, 5615.122828831026, 5073.916428807916, 4768.544561348009, 4372.727838840934, 4414.692128355088, 4274.245060250754, 3749.5148065527455, 3787.4160274611104, 3606.163899538391, 3390.041039425976, 3419.573864680331, 3250.759527590636, 3134.2601082952983, 2970.8864404067967, 2990.1362775477114, 2932.9542576750478, 2939.5884157080945, 2673.3799506164955, 2623.926398845129, 12748.183360853047, 12047.303612651267, 11763.66328058715, 31424.823416063904, 43627.65926696065, 21129.814208352003, 26930.821884269157, 8071.005251865274, 7765.047044068198, 6524.543829516703, 6485.784347681911, 5791.008369694671, 5353.777027713177, 4375.602752226941, 4369.207906894707, 4209.244844644587, 4143.853739530376, 3978.092504544558, 3844.9500917251253, 3676.8593540617326, 3685.401628788263, 3018.9510477544923, 2851.0245182015447, 2876.739380677411, 2576.8854478816816, 2605.6750382008713, 2507.2298424001992, 2378.004917741238, 2361.925048674683, 2321.053726662842, 2324.747144178678, 2358.6778999576586, 2254.3425434135256, 2206.2252968255393, 2152.545484282738, 2104.5227720339, 2081.9620738304034, 3276.5670748125813, 9371.895277358833, 10037.64661782331, 45492.10750828911, 21130.603629715046, 21129.814208352003, 13397.498955668321, 43627.65926696065, 9479.33514337134, 10256.181039234942, 26930.821884269157, 31424.823416063904, 5286.650153127147, 24936.705475817118, 14107.73687516446, 11415.002168212055, 7595.658489782814, 6795.954427908668, 5926.019906230292, 4844.338393600183, 4525.5533662203325, 4214.28243497922, 3965.5954300938097, 3936.2698011126895, 3820.237324822332, 3024.27056534332, 2873.5031016823896, 2744.9129469093964, 2696.249107772483, 2661.5164866667333, 2526.1980727856194, 2522.548155647474, 2516.2168523821038, 2506.8827272632293, 2495.7141315049485, 2474.7477535356506, 2398.7948787323276, 2357.652872451589, 2241.568557283034, 2266.322037028267, 2222.958464303541, 2155.921867320472, 2089.8179695837957, 43627.65926696065, 45492.10750828911, 31424.823416063904, 5642.3549612682655, 26930.821884269157], \"Category\": [\"Default\", \"Default\", \"Default\", \"Default\", \"Default\", \"Default\", \"Default\", \"Default\", \"Default\", \"Default\", \"Default\", \"Default\", \"Default\", \"Default\", \"Default\", \"Default\", \"Default\", \"Default\", \"Default\", \"Default\", \"Default\", \"Default\", \"Default\", \"Default\", \"Default\", \"Default\", \"Default\", \"Default\", \"Default\", \"Default\", \"Topic1\", \"Topic1\", \"Topic1\", \"Topic1\", \"Topic1\", \"Topic1\", \"Topic1\", \"Topic1\", \"Topic1\", \"Topic1\", \"Topic1\", \"Topic1\", \"Topic1\", \"Topic1\", \"Topic1\", \"Topic1\", \"Topic1\", \"Topic1\", \"Topic1\", \"Topic1\", \"Topic1\", \"Topic1\", \"Topic1\", \"Topic1\", \"Topic1\", \"Topic1\", \"Topic1\", \"Topic1\", \"Topic1\", \"Topic1\", \"Topic1\", \"Topic1\", \"Topic1\", \"Topic1\", \"Topic1\", \"Topic1\", \"Topic1\", \"Topic1\", \"Topic1\", \"Topic1\", \"Topic1\", \"Topic1\", \"Topic2\", \"Topic2\", \"Topic2\", \"Topic2\", \"Topic2\", \"Topic2\", \"Topic2\", \"Topic2\", \"Topic2\", \"Topic2\", \"Topic2\", \"Topic2\", \"Topic2\", \"Topic2\", \"Topic2\", \"Topic2\", \"Topic2\", \"Topic2\", \"Topic2\", \"Topic2\", \"Topic2\", \"Topic2\", \"Topic2\", \"Topic2\", \"Topic2\", \"Topic2\", \"Topic2\", \"Topic2\", \"Topic2\", \"Topic2\", \"Topic2\", \"Topic2\", \"Topic2\", \"Topic2\", \"Topic2\", \"Topic2\", \"Topic2\", \"Topic3\", \"Topic3\", \"Topic3\", \"Topic3\", \"Topic3\", \"Topic3\", \"Topic3\", \"Topic3\", \"Topic3\", \"Topic3\", \"Topic3\", \"Topic3\", \"Topic3\", \"Topic3\", \"Topic3\", \"Topic3\", \"Topic3\", \"Topic3\", \"Topic3\", \"Topic3\", \"Topic3\", \"Topic3\", \"Topic3\", \"Topic3\", \"Topic3\", \"Topic3\", \"Topic3\", \"Topic3\", \"Topic3\", \"Topic3\", \"Topic3\", \"Topic3\", \"Topic3\", \"Topic3\", \"Topic3\", \"Topic3\", \"Topic3\", \"Topic3\", \"Topic3\", \"Topic3\", \"Topic3\", \"Topic3\", \"Topic3\", \"Topic4\", \"Topic4\", \"Topic4\", \"Topic4\", \"Topic4\", \"Topic4\", \"Topic4\", \"Topic4\", \"Topic4\", \"Topic4\", \"Topic4\", \"Topic4\", \"Topic4\", \"Topic4\", \"Topic4\", \"Topic4\", \"Topic4\", \"Topic4\", \"Topic4\", \"Topic4\", \"Topic4\", \"Topic4\", \"Topic4\", \"Topic4\", \"Topic4\", \"Topic4\", \"Topic4\", \"Topic4\", \"Topic4\", \"Topic4\", \"Topic4\", \"Topic4\", \"Topic4\", \"Topic4\", \"Topic4\"], \"logprob\": [30.0, 29.0, 28.0, 27.0, 26.0, 25.0, 24.0, 23.0, 22.0, 21.0, 20.0, 19.0, 18.0, 17.0, 16.0, 15.0, 14.0, 13.0, 12.0, 11.0, 10.0, 9.0, 8.0, 7.0, 6.0, 5.0, 4.0, 3.0, 2.0, 1.0, -4.3263, -4.4451, -4.7298, -4.8351, -4.915, -4.9468, -4.9499, -5.1564, -5.2009, -5.2599, -5.2959, -5.3675, -5.4469, -5.4918, -5.5071, -5.5133, -5.5739, -5.5899, -5.6713, -5.6919, -5.7812, -5.8025, -5.8373, -5.8179, -5.8005, -5.863, -5.8964, -5.9081, -5.949, -5.9638, -0.7524, -4.0388, -4.8522, -5.0136, -4.4384, -4.6869, -5.0885, -5.1168, -5.0146, -4.8869, -5.4474, -5.5008, -3.1852, -3.7028, -3.7341, -3.7157, -3.8437, -4.021, -4.0914, -4.2385, -4.2666, -4.3457, -4.4828, -4.4735, -4.5749, -4.637, -4.7237, -4.7141, -4.7464, -4.8774, -4.8674, -4.9164, -4.9783, -4.9696, -5.0202, -5.0567, -5.1103, -5.1038, -5.1231, -5.1209, -5.2158, -5.2345, -3.9046, -4.1337, -4.1563, -3.8042, -3.6373, -4.0729, -4.1833, -4.075, -4.1136, -4.2877, -4.2937, -4.407, -4.4855, -4.6873, -4.6888, -4.7261, -4.7417, -4.7826, -4.8166, -4.8613, -4.859, -5.0585, -5.1158, -5.1068, -5.2169, -5.2058, -5.2443, -5.2972, -5.304, -5.3215, -5.3199, -5.3054, -5.3507, -5.3722, -5.3969, -5.4195, -5.4302, -5.0002, -4.1775, -4.1522, -3.0879, -3.907, -4.0368, -4.3054, -3.6355, -4.5319, -4.5296, -4.1761, -4.2946, -5.0897, -2.8514, -3.421, -3.6328, -4.0402, -4.1515, -4.2885, -4.4901, -4.5581, -4.6294, -4.6903, -4.6977, -4.7276, -4.9613, -5.0125, -5.0583, -5.0761, -5.0891, -5.1413, -5.1428, -5.1453, -5.149, -5.1535, -5.1619, -5.1931, -5.2104, -5.2609, -5.2499, -5.2692, -5.2999, -5.331, -3.1692, -3.2907, -3.8679, -4.8573, -4.2634], \"loglift\": [30.0, 29.0, 28.0, 27.0, 26.0, 25.0, 24.0, 23.0, 22.0, 21.0, 20.0, 19.0, 18.0, 17.0, 16.0, 15.0, 14.0, 13.0, 12.0, 11.0, 10.0, 9.0, 8.0, 7.0, 6.0, 5.0, 4.0, 3.0, 2.0, 1.0, 1.1404, 1.1404, 1.1404, 1.1403, 1.1403, 1.1403, 1.1403, 1.1403, 1.1403, 1.1402, 1.1402, 1.1402, 1.1402, 1.1402, 1.1402, 1.1401, 1.1401, 1.1401, 1.1401, 1.1401, 1.14, 1.14, 1.14, 1.14, 1.14, 1.14, 1.14, 1.14, 1.14, 1.14, 1.1396, 0.539, 0.4485, 0.3658, -0.6274, -0.3517, 0.075, -0.0834, -0.4368, -0.706, -0.3643, -0.3611, 1.4296, 1.4296, 1.4296, 1.4296, 1.4296, 1.4296, 1.4296, 1.4295, 1.4295, 1.4295, 1.4295, 1.4295, 1.4295, 1.4295, 1.4295, 1.4295, 1.4295, 1.4294, 1.4294, 1.4294, 1.4294, 1.4294, 1.4294, 1.4294, 1.4294, 1.4294, 1.4294, 1.4294, 1.4294, 1.4294, 1.1785, 1.006, 1.0072, 0.3767, 0.2155, 0.5049, 0.152, 1.4653, 1.4653, 1.4652, 1.4652, 1.4652, 1.4652, 1.4652, 1.4652, 1.4652, 1.4652, 1.4652, 1.4651, 1.4651, 1.4651, 1.4651, 1.4651, 1.4651, 1.465, 1.465, 1.465, 1.465, 1.465, 1.465, 1.465, 1.465, 1.465, 1.465, 1.465, 1.465, 1.465, 1.4415, 1.2133, 1.17, 0.7231, 0.6708, 0.5411, 0.7281, 0.2174, 0.8475, 0.771, 0.1592, -0.1137, 0.8736, 1.5608, 1.5608, 1.5607, 1.5607, 1.5607, 1.5607, 1.5606, 1.5606, 1.5606, 1.5606, 1.5606, 1.5606, 1.5605, 1.5605, 1.5605, 1.5605, 1.5605, 1.5605, 1.5605, 1.5605, 1.5605, 1.5605, 1.5605, 1.5605, 1.5605, 1.5604, 1.5604, 1.5604, 1.5604, 1.5604, 0.6836, 0.5203, 0.313, 1.0409, 0.0718]}, \"token.table\": {\"Topic\": [1, 2, 3, 4, 3, 1, 1, 4, 3, 1, 2, 3, 4, 3, 1, 2, 3, 2, 1, 2, 1, 2, 3, 4, 2, 1, 3, 1, 1, 1, 3, 4, 4, 3, 4, 3, 2, 4, 1, 4, 3, 3, 1, 1, 2, 3, 3, 4, 1, 2, 1, 2, 1, 2, 1, 2, 3, 4, 4, 1, 2, 1, 3, 3, 2, 4, 1, 2, 3, 2, 2, 2, 3, 1, 1, 2, 3, 4, 2, 4, 1, 3, 1, 3, 4, 3, 4, 3, 4, 1, 3, 4, 4, 2, 3, 3, 3, 3, 4, 2, 4, 2, 1, 4, 2, 2, 3, 1, 1, 4, 1, 3, 3, 4, 2, 3, 2, 1, 3, 2, 3, 2, 1, 2, 1, 1, 3, 2, 4, 1, 4, 2, 1, 1, 3, 4, 4, 1, 1, 4, 1, 3, 1, 3, 3, 1, 2, 4, 2, 1, 3, 4, 2, 2, 2, 3, 2, 2, 4, 3, 1, 3, 4, 4, 2, 4, 4, 2], \"Freq\": [0.9990615543399948, 0.0008097377670909847, 6.4520937616811536e-06, 0.00011936373459110133, 0.9997235409894776, 0.9997692625775103, 0.999606002519122, 0.9997237200435976, 0.9995379004053454, 0.15777336070775003, 0.3488961530455368, 0.20617458733874797, 0.28712969618112716, 0.9997515959243365, 0.3445355331351941, 0.6554080830180968, 0.9997465864081754, 0.9999337335798578, 0.9998779689124536, 0.9998335503905665, 0.20653281457983844, 0.3966433361580261, 0.3968326421292267, 0.9996761131005416, 0.999597956694161, 0.999371933840774, 0.999712593246551, 0.9995984089023802, 0.9998105584821716, 0.9996333300701599, 0.9996849741054266, 0.9995798770923872, 0.9998595594012891, 0.9997409353848907, 0.9998278935531048, 0.9996563883418219, 0.9999241078771546, 0.9998498510238106, 0.9995407365924316, 0.9995367238995528, 0.9997429796100483, 0.9997042593884339, 0.9997172564573464, 0.22278844182041233, 0.6546693146935887, 0.12251704177605387, 0.999793974501988, 0.9998249169516835, 0.9995598972036741, 0.9998572641558576, 0.9997794669248571, 0.999799853074166, 0.9995781341416776, 0.9996746428374903, 0.22487245380124968, 0.2786769758550824, 0.2708420868603559, 0.22561509730785884, 0.9999133070840797, 0.9999289136027638, 0.9998432216030099, 0.9998689295140264, 0.9999166486530073, 0.9997528988146894, 0.4053272110136682, 0.5946098788591416, 0.29408474022183323, 0.22750514928836235, 0.4784475088380586, 0.999926584574879, 0.999851035392097, 0.9996469417566222, 0.9995774114116667, 0.9992637639415078, 0.9995730510775817, 0.29696757097879917, 0.287065595780988, 0.41595172202471964, 0.9996199913842578, 0.9995688339125844, 0.46079181017820986, 0.5390673420354057, 0.9996459783101878, 0.9998622470409054, 0.9996774100412704, 0.9998480517459397, 0.9997463573972848, 0.99986515934002, 0.9999122060427771, 0.22268708070627882, 0.777217391406102, 0.9998777240758085, 0.9996674040572309, 0.25573723580205704, 0.7441983449323593, 0.9996786127125487, 0.9998548636394167, 0.9997662804097244, 0.9996686341381771, 0.999885801350705, 0.9996478785171602, 0.9997998305800396, 0.999749146983033, 0.9994166596773685, 0.999701624271214, 0.9998321823996088, 0.999608349691197, 0.9997227154651729, 0.9993802105176351, 0.9997230837248277, 0.02350020562432844, 0.9763267245743724, 0.9998754489888305, 0.9996978465645308, 0.9998578763125653, 0.9995460136701113, 0.9997087063953508, 0.99960237395665, 0.9996406491087664, 0.4465966030688501, 0.5532804167625526, 0.9998000348584967, 0.9993202977146324, 0.9999573036462135, 0.9997669439176251, 0.9996714133980921, 0.9998258732106228, 0.9996772471881991, 0.9996956931579679, 0.9995598731787324, 0.9998059427137421, 0.9998968983799436, 0.999620286485711, 0.5479729875637324, 0.451809146927278, 0.00018929889889065802, 0.9999477680104909, 0.9996100756224777, 0.999753562467015, 0.9996085929034486, 0.9998677685456139, 0.9998790666417715, 0.5005761872143172, 0.4994061610657835, 0.9998910217043575, 0.22207085667542228, 0.7779147600318483, 0.9995257407570189, 0.9996929124415106, 0.9994480333375726, 0.9994446184497556, 0.9997826976479135, 0.999766353806183, 0.9998901553306809, 0.9999744359729098, 0.9997253697486145, 0.9998627004881149, 0.9998492090597523, 0.9997138568492546, 0.9995094815882448, 0.17068894859586667, 0.4760386182604106, 0.3532700699142528, 0.9995163960606369, 0.9998193843314578, 0.9995724022588919, 0.9999717093415647, 0.9999376070585034], \"Term\": [\"(\", \"(\", \"(\", \"(\", \"\\u0431\\u0435\\u0437\", \"\\u0431\\u043b\\u0438\\u043d\", \"\\u0431\\u043b\\u044f\", \"\\u0431\\u043e\\u043b\\u0435\\u0442\\u044c\", \"\\u0431\\u043e\\u043b\\u044c\\u0448\\u0435\", \"\\u0431\\u044b\\u0442\\u044c\", \"\\u0431\\u044b\\u0442\\u044c\", \"\\u0431\\u044b\\u0442\\u044c\", \"\\u0431\\u044b\\u0442\\u044c\", \"\\u0432\\u0435\\u0434\\u044c\", \"\\u0432\\u0435\\u0441\\u044c\", \"\\u0432\\u0435\\u0441\\u044c\", \"\\u0432\\u0435\\u0447\\u0435\\u0440\", \"\\u0432\\u043e\\u043e\\u0431\\u0449\\u0435\", \"\\u0432\\u043e\\u0442\", \"\\u0432\\u0440\\u0435\\u043c\\u044f\", \"\\u0432\\u0441\\u0435\", \"\\u0432\\u0441\\u0435\", \"\\u0432\\u0441\\u0435\", \"\\u0432\\u0441\\u0435\\u0433\\u0434\\u0430\", \"\\u0432\\u0441\\u0442\\u0430\\u0432\\u0430\\u0442\\u044c\", \"\\u0432\\u044b\\u0445\\u043e\\u0434\\u0438\\u0442\\u044c\", \"\\u0432\\u044b\\u0445\\u043e\\u0434\\u043d\\u043e\\u0439\", \"\\u0433\\u0434\\u0435\", \"\\u0433\\u043e\\u0432\\u043e\\u0440\\u0438\\u0442\\u044c\", \"\\u0433\\u043e\\u0434\", \"\\u0433\\u043e\\u043b\\u043e\\u0432\\u0430\", \"\\u0434\\u0430\\u0432\\u0430\\u0442\\u044c\", \"\\u0434\\u0430\\u0436\\u0435\", \"\\u0434\\u0432\\u0430\", \"\\u0434\\u0435\\u043b\\u0430\\u0442\\u044c\", \"\\u0434\\u0435\\u043b\\u043e\", \"\\u0434\\u0435\\u043d\\u044c\", \"\\u0434\\u043b\\u044f\", \"\\u0434\\u043e\\u043c\\u0430\", \"\\u0434\\u0440\\u0443\\u0433\", \"\\u0434\\u0440\\u0443\\u0433\\u043e\\u0439\", \"\\u0434\\u0443\\u043c\\u0430\\u0442\\u044c\", \"\\u0435\\u0441\\u043b\\u0438\", \"\\u0435\\u0449\\u0435\", \"\\u0435\\u0449\\u0435\", \"\\u0435\\u0449\\u0435\", \"\\u0436\\u0430\\u043b\\u044c\", \"\\u0436\\u0434\\u0430\\u0442\\u044c\", \"\\u0436\\u0438\\u0437\\u043d\\u044c\", \"\\u0437\\u0430\\u0432\\u0442\\u0440\\u0430\", \"\\u0437\\u043d\\u0430\\u0442\\u044c\", \"\\u0438\\u0434\\u0442\\u0438\", \"\\u0438\\u043b\\u0438\", \"\\u043a\\u0430\\u0436\\u0434\\u044b\\u0439\", \"\\u043a\\u0430\\u043a\", \"\\u043a\\u0430\\u043a\", \"\\u043a\\u0430\\u043a\", \"\\u043a\\u0430\\u043a\", \"\\u043a\\u0430\\u043a\\u043e\\u0439\", \"\\u043a\\u043e\\u0433\\u0434\\u0430\", \"\\u043a\\u043e\\u0442\\u043e\\u0440\\u044b\\u0439\", \"\\u043a\\u0442\\u043e\", \"\\u043b\\u044e\\u0431\\u0438\\u0442\\u044c\", \"\\u043c\\u0430\\u043c\\u0430\", \"\\u043c\\u043d\\u043e\\u0433\\u043e\", \"\\u043c\\u043d\\u043e\\u0433\\u043e\", \"\\u043c\\u043e\\u0439\", \"\\u043c\\u043e\\u0439\", \"\\u043c\\u043e\\u0439\", \"\\u043c\\u043e\\u0447\\u044c\", \"\\u043d\\u0430\\u0434\\u043e\", \"\\u043d\\u0430\\u0441\\u0442\\u0440\\u043e\\u0435\\u043d\\u0438\\u0435\", \"\\u043d\\u0430\\u0445\\u043e\\u0434\\u0438\\u0442\\u044c\", \"\\u043d\\u0430\\u0447\\u0438\\u043d\\u0430\\u0442\\u044c\", \"\\u043d\\u0430\\u0448\", \"\\u043d\\u0435\\u0433\\u0430\\u0442\\u0438\\u0432\", \"\\u043d\\u0435\\u0433\\u0430\\u0442\\u0438\\u0432\", \"\\u043d\\u0435\\u0433\\u0430\\u0442\\u0438\\u0432\", \"\\u043d\\u0435\\u0434\\u0435\\u043b\\u044f\", \"\\u043d\\u0435\\u043b\\u044c\\u0437\\u044f\", \"\\u043d\\u0435\\u0442\", \"\\u043d\\u0435\\u0442\", \"\\u043d\\u0438\\u043a\\u0442\\u043e\", \"\\u043d\\u0438\\u0447\\u0442\\u043e\", \"\\u043d\\u043e\\u0447\\u044c\", \"\\u043d\\u0440\\u0430\\u0432\\u0438\\u0442\\u044c\\u0441\\u044f\", \"\\u043d\\u0443\\u0436\\u043d\\u043e\", \"\\u043e\\u0434\\u0438\\u043d\", \"\\u043e\\u043d\\u0430\", \"\\u043e\\u043d\\u0438\", \"\\u043e\\u043d\\u0438\", \"\\u043e\\u043f\\u044f\\u0442\\u044c\", \"\\u043e\\u0441\\u0442\\u0430\\u0432\\u0430\\u0442\\u044c\\u0441\\u044f\", \"\\u043e\\u0447\\u0435\\u043d\\u044c\", \"\\u043e\\u0447\\u0435\\u043d\\u044c\", \"\\u043f\\u0438\\u0437\\u0434\\u0435\\u0446\", \"\\u043f\\u0438\\u0441\\u0430\\u0442\\u044c\", \"\\u043f\\u043b\\u043e\\u0445\\u043e\", \"\\u043f\\u043b\\u043e\\u0445\\u043e\\u0439\", \"\\u043f\\u043e\\u0439\\u0442\\u0438\", \"\\u043f\\u043e\\u043a\\u0430\", \"\\u043f\\u043e\\u043b\\u0443\\u0447\\u0430\\u0442\\u044c\\u0441\\u044f\", \"\\u043f\\u043e\\u043d\\u0438\\u043c\\u0430\\u0442\\u044c\", \"\\u043f\\u043e\\u0441\\u043b\\u0435\", \"\\u043f\\u043e\\u0441\\u043b\\u0435\\u0434\\u043d\\u0438\\u0439\", \"\\u043f\\u043e\\u0442\\u043e\\u043c\", \"\\u043f\\u043e\\u0442\\u043e\\u043c\\u0443\", \"\\u043f\\u043e\\u0447\\u0435\\u043c\\u0443\", \"\\u043f\\u0440\\u0438\\u0445\\u043e\\u0434\\u0438\\u0442\\u044c\", \"\\u043f\\u0440\\u0438\\u0445\\u043e\\u0434\\u0438\\u0442\\u044c\\u0441\\u044f\", \"\\u043f\\u0440\\u043e\", \"\\u043f\\u0440\\u043e\", \"\\u043f\\u0440\\u043e\\u0441\\u0442\\u043e\", \"\\u043f\\u0440\\u043e\\u0445\\u043e\\u0434\\u0438\\u0442\\u044c\", \"\\u0440\\u0430\\u0431\\u043e\\u0442\\u0430\", \"\\u0440\\u0430\\u0432\\u043d\\u044b\\u0439\", \"\\u0440\\u0430\\u0437\", \"\\u0440\\u0430\\u043d\\u043e\", \"\\u0441\\u0430\\u043c\", \"\\u0441\\u0430\\u043c\\u044b\\u0439\", \"\\u0441\\u0430\\u043c\\u044b\\u0439\", \"\\u0441\\u0432\\u043e\\u0439\", \"\\u0441\\u0434\\u0435\\u043b\\u0430\\u0442\\u044c\", \"\\u0441\\u0435\\u0433\\u043e\\u0434\\u043d\\u044f\", \"\\u0441\\u0435\\u0439\\u0447\\u0430\\u0441\", \"\\u0441\\u0438\\u0434\\u0435\\u0442\\u044c\", \"\\u0441\\u043a\\u0430\\u0437\\u0430\\u0442\\u044c\", \"\\u0441\\u043a\\u043e\\u0440\\u043e\", \"\\u0441\\u043a\\u0443\\u0447\\u0430\\u0442\\u044c\", \"\\u0441\\u043c\\u043e\\u0442\\u0440\\u0435\\u0442\\u044c\", \"\\u0441\\u043e\\u0432\\u0441\\u0435\\u043c\", \"\\u0441\\u043f\\u0430\\u0442\\u044c\", \"\\u0441\\u0442\\u0430\\u043d\\u043e\\u0432\\u0438\\u0442\\u044c\\u0441\\u044f\", \"\\u0442\\u0430\\u043a\", \"\\u0442\\u0430\\u043a\", \"\\u0442\\u0430\\u043a\", \"\\u0442\\u0430\\u043a\\u043e\\u0439\", \"\\u0442\\u0430\\u043c\", \"\\u0442\\u0432\\u043e\\u0439\", \"\\u0442\\u0435\\u043b\\u0435\\u0444\\u043e\\u043d\", \"\\u0442\\u0435\\u043f\\u0435\\u0440\\u044c\", \"\\u0442\\u043e\\u0436\\u0435\", \"\\u0442\\u043e\\u043b\\u044c\\u043a\\u043e\", \"\\u0442\\u043e\\u043b\\u044c\\u043a\\u043e\", \"\\u0442\\u0443\\u0442\", \"\\u0443\\u0436\\u0435\", \"\\u0443\\u0436\\u0435\", \"\\u0443\\u043b\\u0438\\u0446\\u0430\", \"\\u0443\\u0440\\u043e\\u043a\", \"\\u0443\\u0442\\u0440\\u043e\", \"\\u0444\\u0438\\u043b\\u044c\\u043c\", \"\\u0445\\u043e\\u043b\\u043e\\u0434\\u043d\\u043e\", \"\\u0445\\u043e\\u0440\\u043e\\u0448\\u0438\\u0439\", \"\\u0445\\u043e\\u0440\\u043e\\u0448\\u043e\", \"\\u0445\\u043e\\u0442\\u0435\\u0442\\u044c\", \"\\u0445\\u043e\\u0442\\u0435\\u0442\\u044c\\u0441\\u044f\", \"\\u0447\\u0430\\u0441\", \"\\u0447\\u0435\\u043b\\u043e\\u0432\\u0435\\u043a\", \"\\u0447\\u0435\\u043c\", \"\\u0447\\u0438\\u0442\\u0430\\u0442\\u044c\", \"\\u0447\\u0442\\u043e\", \"\\u0447\\u0442\\u043e\", \"\\u0447\\u0442\\u043e\", \"\\u0447\\u0442\\u043e\\u0431\\u044b\", \"\\u0448\\u043a\\u043e\\u043b\\u0430\", \"\\u044d\\u043a\\u0437\\u0430\\u043c\\u0435\\u043d\", \"\\u044d\\u0442\\u043e\", \"\\u044d\\u0442\\u043e\\u0442\"]}, \"R\": 30, \"lambda.step\": 0.01, \"plot.opts\": {\"xlab\": \"PC1\", \"ylab\": \"PC2\"}, \"topic.order\": [3, 1, 4, 2]};\n",
              "\n",
              "function LDAvis_load_lib(url, callback){\n",
              "  var s = document.createElement('script');\n",
              "  s.src = url;\n",
              "  s.async = true;\n",
              "  s.onreadystatechange = s.onload = callback;\n",
              "  s.onerror = function(){console.warn(\"failed to load library \" + url);};\n",
              "  document.getElementsByTagName(\"head\")[0].appendChild(s);\n",
              "}\n",
              "\n",
              "if(typeof(LDAvis) !== \"undefined\"){\n",
              "   // already loaded: just create the visualization\n",
              "   !function(LDAvis){\n",
              "       new LDAvis(\"#\" + \"ldavis_el9411321811479717924175574167\", ldavis_el9411321811479717924175574167_data);\n",
              "   }(LDAvis);\n",
              "}else if(typeof define === \"function\" && define.amd){\n",
              "   // require.js is available: use it to load d3/LDAvis\n",
              "   require.config({paths: {d3: \"https://d3js.org/d3.v5\"}});\n",
              "   require([\"d3\"], function(d3){\n",
              "      window.d3 = d3;\n",
              "      LDAvis_load_lib(\"https://cdn.jsdelivr.net/gh/bmabey/pyLDAvis@3.4.0/pyLDAvis/js/ldavis.v3.0.0.js\", function(){\n",
              "        new LDAvis(\"#\" + \"ldavis_el9411321811479717924175574167\", ldavis_el9411321811479717924175574167_data);\n",
              "      });\n",
              "    });\n",
              "}else{\n",
              "    // require.js not available: dynamically load d3 & LDAvis\n",
              "    LDAvis_load_lib(\"https://d3js.org/d3.v5.js\", function(){\n",
              "         LDAvis_load_lib(\"https://cdn.jsdelivr.net/gh/bmabey/pyLDAvis@3.4.0/pyLDAvis/js/ldavis.v3.0.0.js\", function(){\n",
              "                 new LDAvis(\"#\" + \"ldavis_el9411321811479717924175574167\", ldavis_el9411321811479717924175574167_data);\n",
              "            })\n",
              "         });\n",
              "}\n",
              "</script>"
            ]
          },
          "metadata": {},
          "execution_count": 119
        }
      ]
    },
    {
      "cell_type": "code",
      "source": [
        "print('Персплексия: ', np.exp(lda_4t.log_perplexity(corpus)))"
      ],
      "metadata": {
        "colab": {
          "base_uri": "https://localhost:8080/"
        },
        "id": "ETVfr1m4_FWl",
        "outputId": "36eb090c-2393-4b85-8981-fc70a6b5bedb"
      },
      "execution_count": null,
      "outputs": [
        {
          "output_type": "stream",
          "name": "stderr",
          "text": [
            "/usr/local/lib/python3.10/dist-packages/ipykernel/ipkernel.py:283: DeprecationWarning: `should_run_async` will not call `transform_cell` automatically in the future. Please pass the result to `transformed_cell` argument and any exception that happen during thetransform in `preprocessing_exc_tuple` in IPython 7.17 and above.\n",
            "  and should_run_async(code)\n"
          ]
        },
        {
          "output_type": "stream",
          "name": "stdout",
          "text": [
            "Персплексия:  0.00024256496824687096\n"
          ]
        }
      ]
    },
    {
      "cell_type": "code",
      "source": [
        "coherence_model_lda_4t = CoherenceModel(model=lda_4t, texts=data['lemma_gr3'], dictionary=dictionary, coherence='c_v')\n",
        "coherence_lda_4t = coherence_model_lda_4t.get_coherence()\n",
        "print('Средняя когерентность: ', coherence_lda_4t)"
      ],
      "metadata": {
        "colab": {
          "base_uri": "https://localhost:8080/"
        },
        "id": "jHyuJpSA_i7U",
        "outputId": "c51291f3-7fc9-48ba-bc62-b511353e2bbc"
      },
      "execution_count": null,
      "outputs": [
        {
          "output_type": "stream",
          "name": "stderr",
          "text": [
            "/usr/local/lib/python3.10/dist-packages/ipykernel/ipkernel.py:283: DeprecationWarning: `should_run_async` will not call `transform_cell` automatically in the future. Please pass the result to `transformed_cell` argument and any exception that happen during thetransform in `preprocessing_exc_tuple` in IPython 7.17 and above.\n",
            "  and should_run_async(code)\n"
          ]
        },
        {
          "output_type": "stream",
          "name": "stdout",
          "text": [
            "Средняя когерентность:  0.31329508413765217\n"
          ]
        }
      ]
    },
    {
      "cell_type": "markdown",
      "source": [
        "### 3 темы"
      ],
      "metadata": {
        "id": "4YWW0uKF_DK_"
      }
    },
    {
      "cell_type": "code",
      "source": [
        "%time lda_3t = ldamodel.LdaModel(corpus, id2word=dictionary, num_topics=3, chunksize=50, update_every=1, passes=2)"
      ],
      "metadata": {
        "colab": {
          "base_uri": "https://localhost:8080/"
        },
        "id": "o_aq_mvL_HBB",
        "outputId": "229276f7-c241-4637-cce3-a86a9e52116c"
      },
      "execution_count": null,
      "outputs": [
        {
          "output_type": "stream",
          "name": "stderr",
          "text": [
            "/usr/local/lib/python3.10/dist-packages/ipykernel/ipkernel.py:283: DeprecationWarning: `should_run_async` will not call `transform_cell` automatically in the future. Please pass the result to `transformed_cell` argument and any exception that happen during thetransform in `preprocessing_exc_tuple` in IPython 7.17 and above.\n",
            "  and should_run_async(code)\n"
          ]
        },
        {
          "output_type": "stream",
          "name": "stdout",
          "text": [
            "CPU times: user 1min 9s, sys: 362 ms, total: 1min 10s\n",
            "Wall time: 1min 10s\n"
          ]
        }
      ]
    },
    {
      "cell_type": "code",
      "source": [
        "lda_3t.show_topics(num_topics=3, num_words=10, formatted=True)"
      ],
      "metadata": {
        "colab": {
          "base_uri": "https://localhost:8080/"
        },
        "id": "gVXCmQUS_G7W",
        "outputId": "b3efa4fc-1273-4437-95cc-222557c65288"
      },
      "execution_count": null,
      "outputs": [
        {
          "output_type": "stream",
          "name": "stderr",
          "text": [
            "/usr/local/lib/python3.10/dist-packages/ipykernel/ipkernel.py:283: DeprecationWarning: `should_run_async` will not call `transform_cell` automatically in the future. Please pass the result to `transformed_cell` argument and any exception that happen during thetransform in `preprocessing_exc_tuple` in IPython 7.17 and above.\n",
            "  and should_run_async(code)\n"
          ]
        },
        {
          "output_type": "execute_result",
          "data": {
            "text/plain": [
              "[(0,\n",
              "  '0.042*\"что\" + 0.033*\"негатив\" + 0.027*\"хотеть\" + 0.025*\"быть\" + 0.018*\"весь\" + 0.018*\"еще\" + 0.016*\"мочь\" + 0.015*\"нет\" + 0.013*\"это\" + 0.013*\"все\"'),\n",
              " (1,\n",
              "  '0.045*\"негатив\" + 0.023*\"как\" + 0.020*\"мой\" + 0.016*\"это\" + 0.016*\"такой\" + 0.015*\"любить\" + 0.015*\"делать\" + 0.015*\"очень\" + 0.013*\"самый\" + 0.012*\"тот\"'),\n",
              " (2,\n",
              "  '0.386*\"(\" + 0.017*\"как\" + 0.015*\"так\" + 0.013*\"что\" + 0.011*\"вот\" + 0.011*\"все\" + 0.010*\"когда\" + 0.010*\"день\" + 0.009*\"уже\" + 0.008*\"быть\"')]"
            ]
          },
          "metadata": {},
          "execution_count": 131
        }
      ]
    },
    {
      "cell_type": "code",
      "source": [
        "%time vis_data_3t = gensimvis.prepare(lda_3t, corpus, dictionary)\n",
        "pyLDAvis.display(vis_data_3t)"
      ],
      "metadata": {
        "colab": {
          "base_uri": "https://localhost:8080/",
          "height": 1000
        },
        "id": "e8du1u3s_G4t",
        "outputId": "a2a3ac56-f335-473d-d747-a64bc02e1b79"
      },
      "execution_count": null,
      "outputs": [
        {
          "output_type": "stream",
          "name": "stderr",
          "text": [
            "/usr/local/lib/python3.10/dist-packages/ipykernel/ipkernel.py:283: DeprecationWarning: `should_run_async` will not call `transform_cell` automatically in the future. Please pass the result to `transformed_cell` argument and any exception that happen during thetransform in `preprocessing_exc_tuple` in IPython 7.17 and above.\n",
            "  and should_run_async(code)\n"
          ]
        },
        {
          "output_type": "stream",
          "name": "stdout",
          "text": [
            "CPU times: user 16.4 s, sys: 201 ms, total: 16.6 s\n",
            "Wall time: 18 s\n"
          ]
        },
        {
          "output_type": "stream",
          "name": "stderr",
          "text": [
            "/usr/local/lib/python3.10/dist-packages/pandas/core/dtypes/cast.py:1641: DeprecationWarning: np.find_common_type is deprecated.  Please use `np.result_type` or `np.promote_types`.\n",
            "See https://numpy.org/devdocs/release/1.25.0-notes.html and the docs for more information.  (Deprecated NumPy 1.25)\n",
            "  return np.find_common_type(types, [])\n"
          ]
        },
        {
          "output_type": "execute_result",
          "data": {
            "text/plain": [
              "<IPython.core.display.HTML object>"
            ],
            "text/html": [
              "\n",
              "<link rel=\"stylesheet\" type=\"text/css\" href=\"https://cdn.jsdelivr.net/gh/bmabey/pyLDAvis@3.4.0/pyLDAvis/js/ldavis.v1.0.0.css\">\n",
              "\n",
              "\n",
              "<div id=\"ldavis_el9411321811479667524919252740\" style=\"background-color:white;\"></div>\n",
              "<script type=\"text/javascript\">\n",
              "\n",
              "var ldavis_el9411321811479667524919252740_data = {\"mdsDat\": {\"x\": [0.3191650591425769, -0.03385851612639891, -0.28530654301617797], \"y\": [0.1369381642732825, -0.32919419801704763, 0.19225603374376504], \"topics\": [1, 2, 3], \"cluster\": [1, 1, 1], \"Freq\": [39.57641295757618, 37.67756787790122, 22.7460191645226]}, \"tinfo\": {\"Term\": [\"(\", \"\\u043d\\u0435\\u0433\\u0430\\u0442\\u0438\\u0432\", \"\\u0445\\u043e\\u0442\\u0435\\u0442\\u044c\", \"\\u0447\\u0442\\u043e\", \"\\u0432\\u0435\\u0441\\u044c\", \"\\u043a\\u0430\\u043a\", \"\\u0435\\u0449\\u0435\", \"\\u043c\\u043e\\u0447\\u044c\", \"\\u043d\\u0435\\u0442\", \"\\u043b\\u044e\\u0431\\u0438\\u0442\\u044c\", \"\\u0434\\u0435\\u043b\\u0430\\u0442\\u044c\", \"\\u043c\\u043e\\u0439\", \"\\u0442\\u0430\\u043a\\u043e\\u0439\", \"\\u0441\\u0430\\u043c\\u044b\\u0439\", \"\\u043a\\u0442\\u043e\", \"\\u043e\\u0447\\u0435\\u043d\\u044c\", \"\\u0442\\u043e\\u0442\", \"\\u0432\\u043e\\u0442\", \"\\u043d\\u0430\\u0434\\u043e\", \"\\u0441\\u043a\\u0443\\u0447\\u0430\\u0442\\u044c\", \"\\u043a\\u043e\\u0433\\u0434\\u0430\", \"\\u0434\\u0435\\u043d\\u044c\", \"\\u043d\\u0438\\u0447\\u0442\\u043e\", \"\\u043f\\u043e\\u0447\\u0435\\u043c\\u0443\", \"\\u0441\\u043a\\u043e\\u0440\\u043e\", \"\\u0442\\u043e\\u0436\\u0435\", \"\\u043e\\u043d\\u0438\", \"\\u043c\\u043d\\u043e\\u0433\\u043e\", \"\\u0442\\u0430\\u043c\", \"\\u0441\\u043a\\u0430\\u0437\\u0430\\u0442\\u044c\", \"\\u0432\\u043e\\u0442\", \"\\u0434\\u0435\\u043d\\u044c\", \"\\u043a\\u043e\\u0433\\u0434\\u0430\", \"(\", \"\\u0437\\u0430\\u0432\\u0442\\u0440\\u0430\", \"\\u0431\\u043b\\u0438\\u043d\", \"\\u0441\\u043f\\u0430\\u0442\\u044c\", \"\\u043f\\u0440\\u043e\\u0441\\u0442\\u043e\", \"\\u0434\\u0430\\u0436\\u0435\", \"\\u0438\\u0434\\u0442\\u0438\", \"\\u0431\\u043e\\u043b\\u0435\\u0442\\u044c\", \"\\u0448\\u043a\\u043e\\u043b\\u0430\", \"\\u0447\\u0435\\u043b\\u043e\\u0432\\u0435\\u043a\", \"\\u0441\\u0435\\u0439\\u0447\\u0430\\u0441\", \"\\u043f\\u043e\\u0439\\u0442\\u0438\", \"\\u043e\\u043f\\u044f\\u0442\\u044c\", \"\\u0435\\u0441\\u043b\\u0438\", \"\\u0443\\u0442\\u0440\\u043e\", \"\\u0445\\u043e\\u0442\\u0435\\u0442\\u044c\\u0441\\u044f\", \"\\u0445\\u043e\\u0440\\u043e\\u0448\\u043e\", \"\\u043f\\u043b\\u043e\\u0445\\u043e\", \"\\u0432\\u0441\\u0442\\u0430\\u0432\\u0430\\u0442\\u044c\", \"\\u0443\\u0440\\u043e\\u043a\", \"\\u0440\\u0430\\u0437\", \"\\u043f\\u043e\\u0442\\u043e\\u043c\", \"\\u0433\\u043e\\u043b\\u043e\\u0432\\u0430\", \"\\u0440\\u0430\\u043d\\u043e\", \"\\u043a\\u0430\\u0436\\u0434\\u044b\\u0439\", \"\\u0433\\u043e\\u0432\\u043e\\u0440\\u0438\\u0442\\u044c\", \"\\u0441\\u0442\\u0430\\u043d\\u043e\\u0432\\u0438\\u0442\\u044c\\u0441\\u044f\", \"\\u043d\\u0435\\u0434\\u0435\\u043b\\u044f\", \"\\u043f\\u043e\\u043b\\u0443\\u0447\\u0430\\u0442\\u044c\\u0441\\u044f\", \"\\u0447\\u0430\\u0441\", \"\\u0443\\u0436\\u0435\", \"\\u0442\\u0430\\u043a\", \"\\u043a\\u0430\\u043a\", \"\\u0432\\u0441\\u0435\", \"\\u0441\\u0435\\u0433\\u043e\\u0434\\u043d\\u044f\", \"\\u0447\\u0442\\u043e\", \"\\u0442\\u0430\\u043a\\u043e\\u0439\", \"\\u0431\\u044b\\u0442\\u044c\", \"\\u044d\\u0442\\u043e\", \"\\u0437\\u043d\\u0430\\u0442\\u044c\", \"\\u0442\\u043e\\u043b\\u044c\\u043a\\u043e\", \"\\u044d\\u0442\\u043e\\u0442\", \"\\u0445\\u043e\\u0442\\u0435\\u0442\\u044c\", \"\\u0432\\u0435\\u0441\\u044c\", \"\\u0435\\u0449\\u0435\", \"\\u043c\\u043e\\u0447\\u044c\", \"\\u043d\\u0435\\u0442\", \"\\u043a\\u0442\\u043e\", \"\\u043d\\u0430\\u0434\\u043e\", \"\\u043f\\u043e\\u0447\\u0435\\u043c\\u0443\", \"\\u0442\\u043e\\u0436\\u0435\", \"\\u0442\\u0430\\u043c\", \"\\u043c\\u043d\\u043e\\u0433\\u043e\", \"\\u0441\\u0435\\u0431\\u044f\", \"\\u043f\\u043e\\u043d\\u0438\\u043c\\u0430\\u0442\\u044c\", \"\\u0441\\u043a\\u0430\\u0437\\u0430\\u0442\\u044c\", \"\\u0441\\u043c\\u043e\\u0442\\u0440\\u0435\\u0442\\u044c\", \"\\u0432\\u0440\\u0435\\u043c\\u044f\", \"\\u0433\\u043e\\u0434\", \"\\u0441\\u0438\\u0434\\u0435\\u0442\\u044c\", \"\\u043a\\u043e\\u0442\\u043e\\u0440\\u044b\\u0439\", \"\\u0434\\u043b\\u044f\", \"\\u0434\\u0443\\u043c\\u0430\\u0442\\u044c\", \"\\u0436\\u0430\\u043b\\u044c\", \"\\u043d\\u043e\\u0447\\u044c\", \"\\u0442\\u0443\\u0442\", \"\\u0433\\u0434\\u0435\", \"\\u043d\\u0438\\u043a\\u0442\\u043e\", \"\\u043f\\u0440\\u043e\", \"\\u0445\\u043e\\u0440\\u043e\\u0448\\u0438\\u0439\", \"\\u0438\\u043b\\u0438\", \"\\u0441\\u0434\\u0435\\u043b\\u0430\\u0442\\u044c\", \"\\u0447\\u0442\\u043e\", \"\\u043e\\u043d\\u0430\", \"\\u0431\\u044b\\u0442\\u044c\", \"\\u043d\\u0435\\u0433\\u0430\\u0442\\u0438\\u0432\", \"\\u043e\\u0434\\u0438\\u043d\", \"\\u0442\\u043e\\u043b\\u044c\\u043a\\u043e\", \"\\u044d\\u0442\\u043e\\u0442\", \"\\u0432\\u0441\\u0435\", \"\\u044d\\u0442\\u043e\", \"\\u043e\\u043d\\u0438\", \"\\u0442\\u0435\\u043f\\u0435\\u0440\\u044c\", \"\\u0442\\u0430\\u043a\", \"\\u043a\\u0430\\u043a\\u043e\\u0439\", \"\\u043c\\u043e\\u0439\", \"\\u043b\\u044e\\u0431\\u0438\\u0442\\u044c\", \"\\u0434\\u0435\\u043b\\u0430\\u0442\\u044c\", \"\\u0441\\u0430\\u043c\\u044b\\u0439\", \"\\u0442\\u043e\\u0442\", \"\\u0441\\u043a\\u0443\\u0447\\u0430\\u0442\\u044c\", \"\\u043d\\u0438\\u0447\\u0442\\u043e\", \"\\u0441\\u043a\\u043e\\u0440\\u043e\", \"\\u0434\\u0430\\u0432\\u0430\\u0442\\u044c\", \"\\u0431\\u043b\\u044f\", \"\\u0436\\u0434\\u0430\\u0442\\u044c\", \"\\u0441\\u043e\\u0432\\u0441\\u0435\\u043c\", \"\\u0441\\u0430\\u043c\", \"\\u043b\\u044e\\u0431\\u0438\\u043c\\u044b\\u0439\", \"\\u043d\\u0430\\u0448\", \"\\u0434\\u0435\\u043b\\u043e\", \"\\u043f\\u0438\\u0437\\u0434\\u0435\\u0446\", \"\\u0432\\u044b\\u0445\\u043e\\u0434\\u043d\\u043e\\u0439\", \"\\u0441\\u043d\\u043e\\u0432\\u0430\", \"\\u0432\\u0435\\u0447\\u0435\\u0440\", \"\\u0441\\u043a\\u0443\\u0447\\u043d\\u043e\", \"\\u0431\\u043e\\u043b\\u044c\\u0448\\u0435\", \"\\u0431\\u043e\\u044f\\u0442\\u044c\\u0441\\u044f\", \"\\u0435\\u0445\\u0430\\u0442\\u044c\", \"\\u043a\\u043e\\u043d\\u0435\\u0447\\u043d\\u043e\", \"\\u0441\\u043f\\u0430\\u0441\\u0438\\u0431\\u043e\", \"\\u0437\\u0430\\u0447\\u0435\\u043c\", \"\\u0441\\u043b\\u043e\\u0432\\u043e\", \"\\u043f\\u0430\\u043f\\u0430\", \"\\u0442\\u0432\\u0438\\u0442\\u0442\\u0435\\u0440\", \"\\u043a\\u0443\\u0434\\u0430\", \"\\u043f\\u043e\\u043d\\u0435\\u0434\\u0435\\u043b\\u044c\\u043d\\u0438\\u043a\", \"\\u043e\\u0447\\u0435\\u043d\\u044c\", \"\\u043d\\u0435\\u0433\\u0430\\u0442\\u0438\\u0432\", \"\\u043c\\u043e\\u0439\", \"\\u0442\\u0430\\u043a\\u043e\\u0439\", \"\\u043a\\u0430\\u043a\", \"\\u044d\\u0442\\u043e\", \"\\u0431\\u0435\\u0437\", \"\\u043e\\u043d\\u0438\", \"\\u0431\\u044b\\u0442\\u044c\", \"\\u0437\\u043d\\u0430\\u0442\\u044c\"], \"Freq\": [314223.0, 46448.0, 20629.0, 43572.0, 14110.0, 24361.0, 13579.0, 12295.0, 11698.0, 7197.0, 6971.0, 15854.0, 12609.0, 5974.0, 9017.0, 9333.0, 5677.0, 8808.0, 8336.0, 4957.0, 7821.0, 7775.0, 4826.0, 7259.0, 4195.0, 6230.0, 10758.0, 5754.0, 5630.0, 5563.0, 8807.416754639662, 7774.029727222371, 7820.266788466063, 314172.6937797351, 5834.8766756230625, 4888.505639221564, 4217.032702884529, 5057.971432959908, 4541.551867814536, 3676.589023346598, 3237.33694153152, 3353.267199301715, 4564.099766989231, 3839.694133085386, 3151.437205657366, 3024.2074221891444, 3339.911543757761, 2687.611028343794, 2492.8572814400004, 2502.896567965898, 2304.023362168725, 2071.188680990468, 2240.203956275517, 2824.4451150036966, 2259.68499560078, 1891.7377841903317, 2016.635215817291, 1938.0610463996463, 2529.1153021073947, 2489.0534506976674, 1975.7431828001872, 1942.4298250089798, 2458.302440291163, 7349.191962480691, 12379.842425655168, 13633.86148766671, 8689.480193076195, 4999.370311455924, 10816.59871289972, 5244.72288846389, 6627.243150823413, 5706.435721224682, 3475.255395702095, 3593.6227726410007, 3433.5610306203544, 20628.606379600624, 14109.622319601043, 13578.720569379871, 12294.184781686507, 11697.939723696361, 9016.682435748626, 8335.21014443392, 7258.191952723416, 6229.658189482042, 5629.744550473422, 5753.367073377664, 5478.0460199162935, 5307.144974771511, 5562.233641589404, 4765.531112266701, 4429.239108020125, 4208.691736720813, 4144.767524106873, 4471.688955185612, 4061.541236594453, 4042.7600496989908, 3979.965990903229, 4031.4062062814423, 3539.623361522258, 3516.881405739594, 3445.2264792803317, 3192.2357935050586, 3292.51611295557, 3084.7781135309897, 3150.8735345176146, 32755.630842313592, 9239.542419920055, 19292.713343454732, 25542.910536479536, 5793.160536018074, 7390.866888671768, 6873.8069074615, 9774.915005258528, 10226.942624308273, 6760.111196852969, 5492.2416609015445, 8034.6390089537545, 4814.299792637754, 5225.427603129325, 7196.849804458584, 6970.291488445062, 5973.468173368019, 5676.565960171567, 4956.773270274388, 4826.153892350818, 4194.513526832673, 3556.830891932521, 3420.9303536693305, 3379.2901759571123, 3129.996803315165, 3144.2337889389732, 2858.835101938557, 3187.165347658735, 2841.9180107397333, 2563.6497939467376, 2601.046707083578, 2384.352974017732, 2373.7349040066324, 2151.587100564069, 2295.8962060217414, 2188.581137669888, 2143.5565835262637, 2057.400128781991, 1874.3204118071094, 1891.932845258393, 1929.545569285364, 1920.7683160797903, 1956.0835578758024, 1731.7845053129993, 1898.7558230572722, 6840.409482543674, 20905.112684779102, 9288.351755985317, 7364.424020739009, 10665.58325026062, 7547.280958157278, 2862.8033219587023, 3997.777619031137, 5547.8551257808995, 3203.2298660675865], \"Total\": [314223.0, 46448.0, 20629.0, 43572.0, 14110.0, 24361.0, 13579.0, 12295.0, 11698.0, 7197.0, 6971.0, 15854.0, 12609.0, 5974.0, 9017.0, 9333.0, 5677.0, 8808.0, 8336.0, 4957.0, 7821.0, 7775.0, 4826.0, 7259.0, 4195.0, 6230.0, 10758.0, 5754.0, 5630.0, 5563.0, 8808.516306479225, 7775.045068476417, 7821.4180215406695, 314223.3452536047, 5835.901980958327, 4889.563025280691, 4218.00868164766, 5059.2227983602825, 4542.696180914417, 3677.639084310559, 3238.269705773725, 3354.2617431247277, 4565.47538936947, 3840.9129488381304, 3152.4626675337777, 3025.1985682113727, 3341.0775663846625, 2688.5915665487473, 2493.842253064651, 2503.9446112199207, 2305.043646666088, 2072.133990016659, 2241.2504171579008, 2825.7686586474197, 2260.808845638501, 1892.7104296375348, 2017.674273908611, 1939.1219701214047, 2530.523207348783, 2490.4614143921895, 1976.9226661594828, 1943.5480394345007, 2489.2393501529536, 10531.990663026047, 20600.642200473747, 24361.45737453713, 18733.98230774252, 8015.662974960094, 43572.80802205308, 12609.683551701095, 31467.811620059045, 23480.659303690234, 6679.353963826363, 10985.045406563246, 10307.933358024648, 20629.481361585993, 14110.490316608739, 13579.609586984378, 12295.021894818476, 11698.765634752817, 9017.527423452222, 8336.069237141566, 7259.067012970441, 6230.553364055355, 5630.591516494678, 5754.24718076935, 5478.902467457883, 5307.985126880053, 5563.118537133768, 4766.403902231912, 4430.0774865765015, 4209.506738064584, 4145.60152113421, 4472.594095528168, 4062.368439182619, 4043.5953191615977, 3980.8138817889762, 4032.299138380712, 3540.4546256104595, 3517.7650177468317, 3446.0951590050004, 3193.0596469859047, 3293.3970283988647, 3085.6095411731267, 3151.731810843749, 43572.80802205308, 11217.933195725911, 31467.811620059045, 46448.311418457444, 6880.664890628219, 10985.045406563246, 10307.933358024648, 18733.98230774252, 23480.659303690234, 10758.21077640745, 7494.882954746216, 20600.642200473747, 6750.228806946506, 15854.303363560073, 7197.586623508838, 6971.064291608128, 5974.218893154692, 5677.342281804218, 4957.515694221477, 4826.926386997188, 4195.265889613809, 3557.5581377753037, 3421.696509770185, 3380.0899109792185, 3130.750648944629, 3145.0205441140033, 2859.5523169579183, 3187.9771297240586, 2842.6547809226386, 2564.439369358335, 2601.8781227489735, 2385.1341281930772, 2374.5142573476624, 2152.3102716350822, 2296.6736980598525, 2189.367155852035, 2144.3277677441656, 2058.154598983905, 1875.0651296147937, 1892.6957581985341, 1930.336255657667, 1921.5558591455792, 1956.9131368515552, 1732.5244111728684, 1899.58977970187, 9333.41574950372, 46448.311418457444, 15854.303363560073, 12609.683551701095, 24361.45737453713, 23480.659303690234, 3975.0444393096072, 10758.21077640745, 31467.811620059045, 6679.353963826363], \"Category\": [\"Default\", \"Default\", \"Default\", \"Default\", \"Default\", \"Default\", \"Default\", \"Default\", \"Default\", \"Default\", \"Default\", \"Default\", \"Default\", \"Default\", \"Default\", \"Default\", \"Default\", \"Default\", \"Default\", \"Default\", \"Default\", \"Default\", \"Default\", \"Default\", \"Default\", \"Default\", \"Default\", \"Default\", \"Default\", \"Default\", \"Topic1\", \"Topic1\", \"Topic1\", \"Topic1\", \"Topic1\", \"Topic1\", \"Topic1\", \"Topic1\", \"Topic1\", \"Topic1\", \"Topic1\", \"Topic1\", \"Topic1\", \"Topic1\", \"Topic1\", \"Topic1\", \"Topic1\", \"Topic1\", \"Topic1\", \"Topic1\", \"Topic1\", \"Topic1\", \"Topic1\", \"Topic1\", \"Topic1\", \"Topic1\", \"Topic1\", \"Topic1\", \"Topic1\", \"Topic1\", \"Topic1\", \"Topic1\", \"Topic1\", \"Topic1\", \"Topic1\", \"Topic1\", \"Topic1\", \"Topic1\", \"Topic1\", \"Topic1\", \"Topic1\", \"Topic1\", \"Topic1\", \"Topic1\", \"Topic1\", \"Topic2\", \"Topic2\", \"Topic2\", \"Topic2\", \"Topic2\", \"Topic2\", \"Topic2\", \"Topic2\", \"Topic2\", \"Topic2\", \"Topic2\", \"Topic2\", \"Topic2\", \"Topic2\", \"Topic2\", \"Topic2\", \"Topic2\", \"Topic2\", \"Topic2\", \"Topic2\", \"Topic2\", \"Topic2\", \"Topic2\", \"Topic2\", \"Topic2\", \"Topic2\", \"Topic2\", \"Topic2\", \"Topic2\", \"Topic2\", \"Topic2\", \"Topic2\", \"Topic2\", \"Topic2\", \"Topic2\", \"Topic2\", \"Topic2\", \"Topic2\", \"Topic2\", \"Topic2\", \"Topic2\", \"Topic2\", \"Topic2\", \"Topic2\", \"Topic3\", \"Topic3\", \"Topic3\", \"Topic3\", \"Topic3\", \"Topic3\", \"Topic3\", \"Topic3\", \"Topic3\", \"Topic3\", \"Topic3\", \"Topic3\", \"Topic3\", \"Topic3\", \"Topic3\", \"Topic3\", \"Topic3\", \"Topic3\", \"Topic3\", \"Topic3\", \"Topic3\", \"Topic3\", \"Topic3\", \"Topic3\", \"Topic3\", \"Topic3\", \"Topic3\", \"Topic3\", \"Topic3\", \"Topic3\", \"Topic3\", \"Topic3\", \"Topic3\", \"Topic3\", \"Topic3\", \"Topic3\", \"Topic3\", \"Topic3\", \"Topic3\", \"Topic3\", \"Topic3\"], \"logprob\": [30.0, 29.0, 28.0, 27.0, 26.0, 25.0, 24.0, 23.0, 22.0, 21.0, 20.0, 19.0, 18.0, 17.0, 16.0, 15.0, 14.0, 13.0, 12.0, 11.0, 10.0, 9.0, 8.0, 7.0, 6.0, 5.0, 4.0, 3.0, 2.0, 1.0, -4.526, -4.6508, -4.6449, -0.9516, -4.9377, -5.1147, -5.2625, -5.0806, -5.1883, -5.3996, -5.5268, -5.4916, -5.1834, -5.3562, -5.5537, -5.5949, -5.4956, -5.7129, -5.7882, -5.7841, -5.8669, -5.9735, -5.895, -5.6633, -5.8864, -6.0641, -6.0002, -6.0399, -5.7737, -5.7897, -6.0206, -6.0376, -5.8021, -4.707, -4.1855, -4.089, -4.5395, -5.0923, -4.3205, -5.0444, -4.8104, -4.96, -5.4559, -5.4224, -5.468, -3.6257, -4.0056, -4.0439, -4.1433, -4.193, -4.4533, -4.5319, -4.6703, -4.8231, -4.9244, -4.9026, -4.9517, -4.9834, -4.9364, -5.091, -5.1642, -5.2153, -5.2306, -5.1546, -5.2509, -5.2555, -5.2711, -5.2583, -5.3884, -5.3948, -5.4154, -5.4917, -5.4608, -5.5259, -5.5047, -3.1633, -4.4289, -3.6927, -3.4121, -4.8957, -4.6522, -4.7247, -4.3726, -4.3274, -4.7414, -4.9491, -4.5687, -5.0808, -4.9989, -4.1741, -4.2061, -4.3604, -4.4114, -4.547, -4.5737, -4.714, -4.8789, -4.9178, -4.9301, -5.0067, -5.0022, -5.0973, -4.9886, -5.1033, -5.2063, -5.1918, -5.2788, -5.2833, -5.3815, -5.3166, -5.3645, -5.3853, -5.4263, -5.5195, -5.5101, -5.4905, -5.495, -5.4768, -5.5986, -5.5065, -4.2249, -3.1077, -3.919, -4.1511, -3.7807, -4.1266, -5.0959, -4.762, -4.4343, -4.9836], \"loglift\": [30.0, 29.0, 28.0, 27.0, 26.0, 25.0, 24.0, 23.0, 22.0, 21.0, 20.0, 19.0, 18.0, 17.0, 16.0, 15.0, 14.0, 13.0, 12.0, 11.0, 10.0, 9.0, 8.0, 7.0, 6.0, 5.0, 4.0, 3.0, 2.0, 1.0, 0.9268, 0.9268, 0.9268, 0.9268, 0.9268, 0.9267, 0.9267, 0.9267, 0.9267, 0.9267, 0.9266, 0.9266, 0.9266, 0.9266, 0.9266, 0.9266, 0.9266, 0.9266, 0.9265, 0.9265, 0.9265, 0.9265, 0.9265, 0.9265, 0.9264, 0.9264, 0.9264, 0.9264, 0.9264, 0.9264, 0.9263, 0.9264, 0.9144, 0.5671, 0.4177, 0.3465, 0.1587, 0.4549, -0.4664, 0.0497, -0.6308, -0.4876, 0.2736, -0.1904, -0.1724, 0.9761, 0.976, 0.976, 0.976, 0.976, 0.976, 0.976, 0.976, 0.976, 0.976, 0.976, 0.9759, 0.9759, 0.9759, 0.9759, 0.9759, 0.9759, 0.9759, 0.9759, 0.9759, 0.9759, 0.9759, 0.9759, 0.9759, 0.9759, 0.9759, 0.9758, 0.9758, 0.9758, 0.9758, 0.6907, 0.7821, 0.4869, 0.3781, 0.8041, 0.5798, 0.5709, 0.3256, 0.145, 0.5115, 0.6652, 0.0345, 0.6381, -0.1338, 1.4807, 1.4807, 1.4807, 1.4806, 1.4806, 1.4806, 1.4806, 1.4806, 1.4806, 1.4805, 1.4805, 1.4805, 1.4805, 1.4805, 1.4805, 1.4805, 1.4805, 1.4805, 1.4805, 1.4804, 1.4804, 1.4804, 1.4804, 1.4804, 1.4804, 1.4804, 1.4804, 1.4804, 1.4804, 1.4804, 1.4803, 1.17, 0.6824, 0.9461, 0.943, 0.6548, 0.3458, 1.1525, 0.4908, -0.2548, 0.7459]}, \"token.table\": {\"Topic\": [1, 2, 3, 1, 2, 3, 1, 2, 3, 3, 1, 3, 3, 3, 1, 2, 3, 2, 3, 3, 1, 2, 3, 2, 3, 1, 2, 3, 1, 3, 2, 3, 1, 2, 3, 2, 3, 1, 3, 3, 1, 2, 3, 3, 3, 1, 3, 2, 3, 2, 3, 1, 2, 3, 3, 2, 3, 2, 3, 3, 1, 3, 3, 1, 2, 3, 1, 2, 3, 2, 3, 1, 3, 1, 2, 3, 1, 2, 3, 1, 2, 3, 3, 2, 3, 2, 3, 3, 3, 3, 2, 3, 1, 2, 3, 2, 3, 2, 3, 3, 2, 3, 1, 2, 3, 2, 3, 2, 3, 3, 2, 3, 1, 2, 3, 1, 2, 3, 2, 3, 1, 3, 1, 3, 3, 3, 1, 3, 1, 3, 1, 2, 3, 3, 2, 3, 1, 2, 3, 2, 3, 2, 3, 1, 2, 3, 1, 2, 3, 1, 2, 3, 3, 3, 2, 3, 2, 3, 1, 2, 3, 1, 2, 3, 2, 3, 2, 3, 3, 3, 3, 3, 2, 3, 3, 3, 3, 1, 3, 1, 2, 3, 1, 2, 3, 1, 2, 3, 2, 3, 2, 3, 2, 3, 2, 3, 1, 2, 3, 3, 2, 3, 1, 2, 3, 1, 3, 1, 3, 2, 3, 1, 2, 3, 2, 3, 1, 3, 1, 2, 3, 1, 2, 3, 1, 2, 3, 1, 3, 1, 2, 3, 1, 2, 3], \"Freq\": [0.9998397787613009, 0.00014321023781247447, 1.9094698374996597e-05, 0.27974530020427496, 0.00025156951457218975, 0.7202435202201792, 0.9998848516160278, 0.00020451725334752051, 0.00020451725334752051, 0.9997964431479541, 0.9996079061075546, 0.00030880689098163565, 0.9997066635715723, 0.9998323004658887, 0.21059615075919808, 0.6131026915040303, 0.17630714416961385, 0.9999652516250154, 7.086925950567082e-05, 0.9997834262961063, 0.9998278590370424, 0.00011352649699523588, 0.00011352649699523588, 0.9997567792934172, 0.0002257296859998684, 0.4638095551317429, 0.5217790771564952, 0.014412312105601401, 0.9994527429103898, 0.9996625042728574, 0.99978252733114, 0.00028427140384735286, 0.9993980662400725, 0.00039517519424281237, 0.00039517519424281237, 0.9998796205598147, 0.00023755752448558203, 0.9996246495890706, 0.0005283428380491917, 0.9998431121140714, 0.999846747198868, 0.00022013358590904184, 0.00022013358590904184, 0.9998473272424974, 0.9997696586560447, 0.9998655868271871, 0.00012861661780643003, 0.9999093043410181, 0.0002461618179076854, 0.9998527747920826, 0.00024730466851152175, 0.9996774793870384, 0.0002993046345470175, 0.0002993046345470175, 0.9998471466213813, 0.9999551101244499, 7.363981958350762e-05, 0.9997955488969983, 0.0002512049117831654, 0.9996775497078707, 0.9998454427505346, 0.0001713531178664155, 0.9996323982893075, 0.5202598962144681, 0.00014971507804732896, 0.47953739498559467, 0.9998262242988211, 0.00027191357745412595, 0.00027191357745412595, 0.9998024568031071, 0.00032408507513877053, 0.999421403017091, 0.000515697318378272, 0.5596545309415852, 0.0025450037346617486, 0.4378227392564873, 0.28665694976276, 0.713161010934329, 0.00014814312649238243, 0.9998187001977437, 0.0001278540537337268, 0.0001278540537337268, 0.9994390125093251, 0.9998671698089568, 0.0002235838930699814, 0.9999415113004425, 0.00011089514376183237, 0.9996973138332212, 0.9998068519485925, 0.9999184971936397, 0.9997832590901694, 0.0001737846791396088, 0.08458271355411225, 0.32956351850875204, 0.585834633475462, 0.9999168854820091, 8.133373072084018e-05, 0.9998717336539382, 0.00011996061591528952, 0.9996934953783237, 0.5499231128098625, 0.45007018256626774, 0.9995332816122366, 0.0005058366809778525, 0.0005058366809778525, 0.9999345542276236, 8.547910362691259e-05, 0.9996822029124359, 0.00029018351318212945, 0.9998080793194436, 0.9996778169634424, 0.00024799747381876517, 0.1579789187932323, 0.8419244494656805, 0.0001453347918980978, 0.09850299344098525, 0.8236811397237137, 0.07782182196740282, 0.6283572743178215, 0.3716231335388536, 0.9996038051108554, 0.00033055681385940985, 0.26710478424070616, 0.7328506715629484, 0.9997107244408568, 0.9998286684553416, 0.999547233447142, 0.00043383126451698874, 0.9995360238365893, 0.0003172123211160233, 0.9992034982397703, 0.0005145229136147118, 0.0005145229136147118, 0.9996895225968406, 0.9998144066238874, 0.00018839540354699216, 0.9996422317437135, 0.0004423195715680148, 0.0004423195715680148, 0.9998530096266456, 0.00013775875029300712, 0.9996681405601349, 0.00031317924203011743, 0.9997583031210487, 0.00019765881833156362, 0.00019765881833156362, 0.9993740964455787, 0.00035388601148922757, 0.00035388601148922757, 0.9996658162730574, 0.0004956201369722645, 0.0004956201369722645, 0.9996755047861569, 0.9997959744735687, 0.9997678067527094, 0.00031728587964224354, 0.9998352831678893, 0.00018251830652937009, 0.6236539654444351, 0.3762633246210074, 0.00012475574423773456, 0.9997623094169821, 0.00026035476807733906, 0.00026035476807733906, 0.9998549013620476, 0.0002412195178195531, 0.9997989370303182, 0.00017975529252612697, 0.999936621510816, 0.9998959772891737, 0.9998558425152864, 0.9998258046199561, 0.9999152605947383, 0.0002098017751982246, 0.9995245012933774, 0.9997602335577629, 0.9994319506037571, 0.9997608630698063, 0.00023707869648323602, 0.9994131953284865, 0.00040153201901506086, 0.00040153201901506086, 0.6009521392355089, 0.3900363843907362, 0.009028844741341248, 0.4159501686537113, 7.930413129718043e-05, 0.5839956228724367, 0.9998949459407692, 0.00017760123373725917, 0.0005110088849466682, 0.9995333789556831, 0.732766613322778, 0.26711557900076505, 0.9999111854079371, 0.0001604993877059289, 0.327172065929986, 0.6728238005811148, 9.10328508430679e-05, 0.9999397109092197, 0.9998715911772542, 0.00028244960202747295, 0.6977788183766286, 0.30212711934609227, 9.494881186237972e-05, 0.9994420894923975, 0.0004461795042376775, 0.9997799715821073, 0.0003719419537135816, 0.9998794471497238, 0.00030363785215600477, 0.9996227507526771, 0.00039936985647330293, 0.00039936985647330293, 0.9999766663263339, 4.847431607573483e-05, 0.9996622669041654, 0.0004009876722439492, 0.9874502425204574, 0.012051874400168317, 0.0004017291466722772, 0.9996768377345971, 0.0002190352405202886, 0.0002190352405202886, 0.24825115688034832, 0.7517532490314033, 2.295009308314212e-05, 0.9996238387993084, 0.0002981281952875957, 0.24300850867093166, 0.4355499506094669, 0.3214134621345112, 0.3331414630583207, 0.666865002056755, 9.701265668559136e-05], \"Term\": [\"(\", \"(\", \"(\", \"\\u0431\\u0435\\u0437\", \"\\u0431\\u0435\\u0437\", \"\\u0431\\u0435\\u0437\", \"\\u0431\\u043b\\u0438\\u043d\", \"\\u0431\\u043b\\u0438\\u043d\", \"\\u0431\\u043b\\u0438\\u043d\", \"\\u0431\\u043b\\u044f\", \"\\u0431\\u043e\\u043b\\u0435\\u0442\\u044c\", \"\\u0431\\u043e\\u043b\\u0435\\u0442\\u044c\", \"\\u0431\\u043e\\u043b\\u044c\\u0448\\u0435\", \"\\u0431\\u043e\\u044f\\u0442\\u044c\\u0441\\u044f\", \"\\u0431\\u044b\\u0442\\u044c\", \"\\u0431\\u044b\\u0442\\u044c\", \"\\u0431\\u044b\\u0442\\u044c\", \"\\u0432\\u0435\\u0441\\u044c\", \"\\u0432\\u0435\\u0441\\u044c\", \"\\u0432\\u0435\\u0447\\u0435\\u0440\", \"\\u0432\\u043e\\u0442\", \"\\u0432\\u043e\\u0442\", \"\\u0432\\u043e\\u0442\", \"\\u0432\\u0440\\u0435\\u043c\\u044f\", \"\\u0432\\u0440\\u0435\\u043c\\u044f\", \"\\u0432\\u0441\\u0435\", \"\\u0432\\u0441\\u0435\", \"\\u0432\\u0441\\u0435\", \"\\u0432\\u0441\\u0442\\u0430\\u0432\\u0430\\u0442\\u044c\", \"\\u0432\\u044b\\u0445\\u043e\\u0434\\u043d\\u043e\\u0439\", \"\\u0433\\u0434\\u0435\", \"\\u0433\\u0434\\u0435\", \"\\u0433\\u043e\\u0432\\u043e\\u0440\\u0438\\u0442\\u044c\", \"\\u0433\\u043e\\u0432\\u043e\\u0440\\u0438\\u0442\\u044c\", \"\\u0433\\u043e\\u0432\\u043e\\u0440\\u0438\\u0442\\u044c\", \"\\u0433\\u043e\\u0434\", \"\\u0433\\u043e\\u0434\", \"\\u0433\\u043e\\u043b\\u043e\\u0432\\u0430\", \"\\u0433\\u043e\\u043b\\u043e\\u0432\\u0430\", \"\\u0434\\u0430\\u0432\\u0430\\u0442\\u044c\", \"\\u0434\\u0430\\u0436\\u0435\", \"\\u0434\\u0430\\u0436\\u0435\", \"\\u0434\\u0430\\u0436\\u0435\", \"\\u0434\\u0435\\u043b\\u0430\\u0442\\u044c\", \"\\u0434\\u0435\\u043b\\u043e\", \"\\u0434\\u0435\\u043d\\u044c\", \"\\u0434\\u0435\\u043d\\u044c\", \"\\u0434\\u043b\\u044f\", \"\\u0434\\u043b\\u044f\", \"\\u0434\\u0443\\u043c\\u0430\\u0442\\u044c\", \"\\u0434\\u0443\\u043c\\u0430\\u0442\\u044c\", \"\\u0435\\u0441\\u043b\\u0438\", \"\\u0435\\u0441\\u043b\\u0438\", \"\\u0435\\u0441\\u043b\\u0438\", \"\\u0435\\u0445\\u0430\\u0442\\u044c\", \"\\u0435\\u0449\\u0435\", \"\\u0435\\u0449\\u0435\", \"\\u0436\\u0430\\u043b\\u044c\", \"\\u0436\\u0430\\u043b\\u044c\", \"\\u0436\\u0434\\u0430\\u0442\\u044c\", \"\\u0437\\u0430\\u0432\\u0442\\u0440\\u0430\", \"\\u0437\\u0430\\u0432\\u0442\\u0440\\u0430\", \"\\u0437\\u0430\\u0447\\u0435\\u043c\", \"\\u0437\\u043d\\u0430\\u0442\\u044c\", \"\\u0437\\u043d\\u0430\\u0442\\u044c\", \"\\u0437\\u043d\\u0430\\u0442\\u044c\", \"\\u0438\\u0434\\u0442\\u0438\", \"\\u0438\\u0434\\u0442\\u0438\", \"\\u0438\\u0434\\u0442\\u0438\", \"\\u0438\\u043b\\u0438\", \"\\u0438\\u043b\\u0438\", \"\\u043a\\u0430\\u0436\\u0434\\u044b\\u0439\", \"\\u043a\\u0430\\u0436\\u0434\\u044b\\u0439\", \"\\u043a\\u0430\\u043a\", \"\\u043a\\u0430\\u043a\", \"\\u043a\\u0430\\u043a\", \"\\u043a\\u0430\\u043a\\u043e\\u0439\", \"\\u043a\\u0430\\u043a\\u043e\\u0439\", \"\\u043a\\u0430\\u043a\\u043e\\u0439\", \"\\u043a\\u043e\\u0433\\u0434\\u0430\", \"\\u043a\\u043e\\u0433\\u0434\\u0430\", \"\\u043a\\u043e\\u0433\\u0434\\u0430\", \"\\u043a\\u043e\\u043d\\u0435\\u0447\\u043d\\u043e\", \"\\u043a\\u043e\\u0442\\u043e\\u0440\\u044b\\u0439\", \"\\u043a\\u043e\\u0442\\u043e\\u0440\\u044b\\u0439\", \"\\u043a\\u0442\\u043e\", \"\\u043a\\u0442\\u043e\", \"\\u043a\\u0443\\u0434\\u0430\", \"\\u043b\\u044e\\u0431\\u0438\\u043c\\u044b\\u0439\", \"\\u043b\\u044e\\u0431\\u0438\\u0442\\u044c\", \"\\u043c\\u043d\\u043e\\u0433\\u043e\", \"\\u043c\\u043d\\u043e\\u0433\\u043e\", \"\\u043c\\u043e\\u0439\", \"\\u043c\\u043e\\u0439\", \"\\u043c\\u043e\\u0439\", \"\\u043c\\u043e\\u0447\\u044c\", \"\\u043c\\u043e\\u0447\\u044c\", \"\\u043d\\u0430\\u0434\\u043e\", \"\\u043d\\u0430\\u0434\\u043e\", \"\\u043d\\u0430\\u0448\", \"\\u043d\\u0435\\u0433\\u0430\\u0442\\u0438\\u0432\", \"\\u043d\\u0435\\u0433\\u0430\\u0442\\u0438\\u0432\", \"\\u043d\\u0435\\u0434\\u0435\\u043b\\u044f\", \"\\u043d\\u0435\\u0434\\u0435\\u043b\\u044f\", \"\\u043d\\u0435\\u0434\\u0435\\u043b\\u044f\", \"\\u043d\\u0435\\u0442\", \"\\u043d\\u0435\\u0442\", \"\\u043d\\u0438\\u043a\\u0442\\u043e\", \"\\u043d\\u0438\\u043a\\u0442\\u043e\", \"\\u043d\\u0438\\u0447\\u0442\\u043e\", \"\\u043d\\u043e\\u0447\\u044c\", \"\\u043d\\u043e\\u0447\\u044c\", \"\\u043e\\u0434\\u0438\\u043d\", \"\\u043e\\u0434\\u0438\\u043d\", \"\\u043e\\u0434\\u0438\\u043d\", \"\\u043e\\u043d\\u0430\", \"\\u043e\\u043d\\u0430\", \"\\u043e\\u043d\\u0430\", \"\\u043e\\u043d\\u0438\", \"\\u043e\\u043d\\u0438\", \"\\u043e\\u043f\\u044f\\u0442\\u044c\", \"\\u043e\\u043f\\u044f\\u0442\\u044c\", \"\\u043e\\u0447\\u0435\\u043d\\u044c\", \"\\u043e\\u0447\\u0435\\u043d\\u044c\", \"\\u043f\\u0430\\u043f\\u0430\", \"\\u043f\\u0438\\u0437\\u0434\\u0435\\u0446\", \"\\u043f\\u043b\\u043e\\u0445\\u043e\", \"\\u043f\\u043b\\u043e\\u0445\\u043e\", \"\\u043f\\u043e\\u0439\\u0442\\u0438\", \"\\u043f\\u043e\\u0439\\u0442\\u0438\", \"\\u043f\\u043e\\u043b\\u0443\\u0447\\u0430\\u0442\\u044c\\u0441\\u044f\", \"\\u043f\\u043e\\u043b\\u0443\\u0447\\u0430\\u0442\\u044c\\u0441\\u044f\", \"\\u043f\\u043e\\u043b\\u0443\\u0447\\u0430\\u0442\\u044c\\u0441\\u044f\", \"\\u043f\\u043e\\u043d\\u0435\\u0434\\u0435\\u043b\\u044c\\u043d\\u0438\\u043a\", \"\\u043f\\u043e\\u043d\\u0438\\u043c\\u0430\\u0442\\u044c\", \"\\u043f\\u043e\\u043d\\u0438\\u043c\\u0430\\u0442\\u044c\", \"\\u043f\\u043e\\u0442\\u043e\\u043c\", \"\\u043f\\u043e\\u0442\\u043e\\u043c\", \"\\u043f\\u043e\\u0442\\u043e\\u043c\", \"\\u043f\\u043e\\u0447\\u0435\\u043c\\u0443\", \"\\u043f\\u043e\\u0447\\u0435\\u043c\\u0443\", \"\\u043f\\u0440\\u043e\", \"\\u043f\\u0440\\u043e\", \"\\u043f\\u0440\\u043e\\u0441\\u0442\\u043e\", \"\\u043f\\u0440\\u043e\\u0441\\u0442\\u043e\", \"\\u043f\\u0440\\u043e\\u0441\\u0442\\u043e\", \"\\u0440\\u0430\\u0437\", \"\\u0440\\u0430\\u0437\", \"\\u0440\\u0430\\u0437\", \"\\u0440\\u0430\\u043d\\u043e\", \"\\u0440\\u0430\\u043d\\u043e\", \"\\u0440\\u0430\\u043d\\u043e\", \"\\u0441\\u0430\\u043c\", \"\\u0441\\u0430\\u043c\\u044b\\u0439\", \"\\u0441\\u0434\\u0435\\u043b\\u0430\\u0442\\u044c\", \"\\u0441\\u0434\\u0435\\u043b\\u0430\\u0442\\u044c\", \"\\u0441\\u0435\\u0431\\u044f\", \"\\u0441\\u0435\\u0431\\u044f\", \"\\u0441\\u0435\\u0433\\u043e\\u0434\\u043d\\u044f\", \"\\u0441\\u0435\\u0433\\u043e\\u0434\\u043d\\u044f\", \"\\u0441\\u0435\\u0433\\u043e\\u0434\\u043d\\u044f\", \"\\u0441\\u0435\\u0439\\u0447\\u0430\\u0441\", \"\\u0441\\u0435\\u0439\\u0447\\u0430\\u0441\", \"\\u0441\\u0435\\u0439\\u0447\\u0430\\u0441\", \"\\u0441\\u0438\\u0434\\u0435\\u0442\\u044c\", \"\\u0441\\u0438\\u0434\\u0435\\u0442\\u044c\", \"\\u0441\\u043a\\u0430\\u0437\\u0430\\u0442\\u044c\", \"\\u0441\\u043a\\u0430\\u0437\\u0430\\u0442\\u044c\", \"\\u0441\\u043a\\u043e\\u0440\\u043e\", \"\\u0441\\u043a\\u0443\\u0447\\u0430\\u0442\\u044c\", \"\\u0441\\u043a\\u0443\\u0447\\u043d\\u043e\", \"\\u0441\\u043b\\u043e\\u0432\\u043e\", \"\\u0441\\u043c\\u043e\\u0442\\u0440\\u0435\\u0442\\u044c\", \"\\u0441\\u043c\\u043e\\u0442\\u0440\\u0435\\u0442\\u044c\", \"\\u0441\\u043d\\u043e\\u0432\\u0430\", \"\\u0441\\u043e\\u0432\\u0441\\u0435\\u043c\", \"\\u0441\\u043f\\u0430\\u0441\\u0438\\u0431\\u043e\", \"\\u0441\\u043f\\u0430\\u0442\\u044c\", \"\\u0441\\u043f\\u0430\\u0442\\u044c\", \"\\u0441\\u0442\\u0430\\u043d\\u043e\\u0432\\u0438\\u0442\\u044c\\u0441\\u044f\", \"\\u0441\\u0442\\u0430\\u043d\\u043e\\u0432\\u0438\\u0442\\u044c\\u0441\\u044f\", \"\\u0441\\u0442\\u0430\\u043d\\u043e\\u0432\\u0438\\u0442\\u044c\\u0441\\u044f\", \"\\u0442\\u0430\\u043a\", \"\\u0442\\u0430\\u043a\", \"\\u0442\\u0430\\u043a\", \"\\u0442\\u0430\\u043a\\u043e\\u0439\", \"\\u0442\\u0430\\u043a\\u043e\\u0439\", \"\\u0442\\u0430\\u043a\\u043e\\u0439\", \"\\u0442\\u0430\\u043c\", \"\\u0442\\u0430\\u043c\", \"\\u0442\\u0432\\u0438\\u0442\\u0442\\u0435\\u0440\", \"\\u0442\\u0432\\u0438\\u0442\\u0442\\u0435\\u0440\", \"\\u0442\\u0435\\u043f\\u0435\\u0440\\u044c\", \"\\u0442\\u0435\\u043f\\u0435\\u0440\\u044c\", \"\\u0442\\u043e\\u0436\\u0435\", \"\\u0442\\u043e\\u0436\\u0435\", \"\\u0442\\u043e\\u043b\\u044c\\u043a\\u043e\", \"\\u0442\\u043e\\u043b\\u044c\\u043a\\u043e\", \"\\u0442\\u043e\\u043b\\u044c\\u043a\\u043e\", \"\\u0442\\u043e\\u0442\", \"\\u0442\\u0443\\u0442\", \"\\u0442\\u0443\\u0442\", \"\\u0443\\u0436\\u0435\", \"\\u0443\\u0436\\u0435\", \"\\u0443\\u0436\\u0435\", \"\\u0443\\u0440\\u043e\\u043a\", \"\\u0443\\u0440\\u043e\\u043a\", \"\\u0443\\u0442\\u0440\\u043e\", \"\\u0443\\u0442\\u0440\\u043e\", \"\\u0445\\u043e\\u0440\\u043e\\u0448\\u0438\\u0439\", \"\\u0445\\u043e\\u0440\\u043e\\u0448\\u0438\\u0439\", \"\\u0445\\u043e\\u0440\\u043e\\u0448\\u043e\", \"\\u0445\\u043e\\u0440\\u043e\\u0448\\u043e\", \"\\u0445\\u043e\\u0440\\u043e\\u0448\\u043e\", \"\\u0445\\u043e\\u0442\\u0435\\u0442\\u044c\", \"\\u0445\\u043e\\u0442\\u0435\\u0442\\u044c\", \"\\u0445\\u043e\\u0442\\u0435\\u0442\\u044c\\u0441\\u044f\", \"\\u0445\\u043e\\u0442\\u0435\\u0442\\u044c\\u0441\\u044f\", \"\\u0447\\u0430\\u0441\", \"\\u0447\\u0430\\u0441\", \"\\u0447\\u0430\\u0441\", \"\\u0447\\u0435\\u043b\\u043e\\u0432\\u0435\\u043a\", \"\\u0447\\u0435\\u043b\\u043e\\u0432\\u0435\\u043a\", \"\\u0447\\u0435\\u043b\\u043e\\u0432\\u0435\\u043a\", \"\\u0447\\u0442\\u043e\", \"\\u0447\\u0442\\u043e\", \"\\u0447\\u0442\\u043e\", \"\\u0448\\u043a\\u043e\\u043b\\u0430\", \"\\u0448\\u043a\\u043e\\u043b\\u0430\", \"\\u044d\\u0442\\u043e\", \"\\u044d\\u0442\\u043e\", \"\\u044d\\u0442\\u043e\", \"\\u044d\\u0442\\u043e\\u0442\", \"\\u044d\\u0442\\u043e\\u0442\", \"\\u044d\\u0442\\u043e\\u0442\"]}, \"R\": 30, \"lambda.step\": 0.01, \"plot.opts\": {\"xlab\": \"PC1\", \"ylab\": \"PC2\"}, \"topic.order\": [3, 1, 2]};\n",
              "\n",
              "function LDAvis_load_lib(url, callback){\n",
              "  var s = document.createElement('script');\n",
              "  s.src = url;\n",
              "  s.async = true;\n",
              "  s.onreadystatechange = s.onload = callback;\n",
              "  s.onerror = function(){console.warn(\"failed to load library \" + url);};\n",
              "  document.getElementsByTagName(\"head\")[0].appendChild(s);\n",
              "}\n",
              "\n",
              "if(typeof(LDAvis) !== \"undefined\"){\n",
              "   // already loaded: just create the visualization\n",
              "   !function(LDAvis){\n",
              "       new LDAvis(\"#\" + \"ldavis_el9411321811479667524919252740\", ldavis_el9411321811479667524919252740_data);\n",
              "   }(LDAvis);\n",
              "}else if(typeof define === \"function\" && define.amd){\n",
              "   // require.js is available: use it to load d3/LDAvis\n",
              "   require.config({paths: {d3: \"https://d3js.org/d3.v5\"}});\n",
              "   require([\"d3\"], function(d3){\n",
              "      window.d3 = d3;\n",
              "      LDAvis_load_lib(\"https://cdn.jsdelivr.net/gh/bmabey/pyLDAvis@3.4.0/pyLDAvis/js/ldavis.v3.0.0.js\", function(){\n",
              "        new LDAvis(\"#\" + \"ldavis_el9411321811479667524919252740\", ldavis_el9411321811479667524919252740_data);\n",
              "      });\n",
              "    });\n",
              "}else{\n",
              "    // require.js not available: dynamically load d3 & LDAvis\n",
              "    LDAvis_load_lib(\"https://d3js.org/d3.v5.js\", function(){\n",
              "         LDAvis_load_lib(\"https://cdn.jsdelivr.net/gh/bmabey/pyLDAvis@3.4.0/pyLDAvis/js/ldavis.v3.0.0.js\", function(){\n",
              "                 new LDAvis(\"#\" + \"ldavis_el9411321811479667524919252740\", ldavis_el9411321811479667524919252740_data);\n",
              "            })\n",
              "         });\n",
              "}\n",
              "</script>"
            ]
          },
          "metadata": {},
          "execution_count": 132
        }
      ]
    },
    {
      "cell_type": "code",
      "source": [
        "print('Персплексия: ', np.exp(lda_3t.log_perplexity(corpus)))"
      ],
      "metadata": {
        "colab": {
          "base_uri": "https://localhost:8080/"
        },
        "id": "fRAwAveP_G1a",
        "outputId": "9c76fa84-53dd-477d-b5d8-d27cbb78264b"
      },
      "execution_count": null,
      "outputs": [
        {
          "output_type": "stream",
          "name": "stderr",
          "text": [
            "/usr/local/lib/python3.10/dist-packages/ipykernel/ipkernel.py:283: DeprecationWarning: `should_run_async` will not call `transform_cell` automatically in the future. Please pass the result to `transformed_cell` argument and any exception that happen during thetransform in `preprocessing_exc_tuple` in IPython 7.17 and above.\n",
            "  and should_run_async(code)\n"
          ]
        },
        {
          "output_type": "stream",
          "name": "stdout",
          "text": [
            "Персплексия:  0.0002898320875298676\n"
          ]
        }
      ]
    },
    {
      "cell_type": "code",
      "source": [
        "coherence_model_lda_3t = CoherenceModel(model=lda_3t, texts=data['lemma_gr3'], dictionary=dictionary, coherence='c_v')\n",
        "coherence_lda_3t = coherence_model_lda_3t.get_coherence()\n",
        "print('Средняя когерентность: ', coherence_lda_3t)"
      ],
      "metadata": {
        "colab": {
          "base_uri": "https://localhost:8080/"
        },
        "id": "c-exrZGW_GsS",
        "outputId": "1fab5467-37f5-473d-ea98-979d6aa4da82"
      },
      "execution_count": null,
      "outputs": [
        {
          "output_type": "stream",
          "name": "stderr",
          "text": [
            "/usr/local/lib/python3.10/dist-packages/ipykernel/ipkernel.py:283: DeprecationWarning: `should_run_async` will not call `transform_cell` automatically in the future. Please pass the result to `transformed_cell` argument and any exception that happen during thetransform in `preprocessing_exc_tuple` in IPython 7.17 and above.\n",
            "  and should_run_async(code)\n"
          ]
        },
        {
          "output_type": "stream",
          "name": "stdout",
          "text": [
            "Средняя когерентность:  0.3054414766844019\n"
          ]
        }
      ]
    },
    {
      "cell_type": "markdown",
      "source": [
        "### 2 темы"
      ],
      "metadata": {
        "id": "bYfydYFS3jlo"
      }
    },
    {
      "cell_type": "markdown",
      "source": [
        "Можно ожидать разделения по принципу нагатив/позитив"
      ],
      "metadata": {
        "id": "lkUXM8MD3oSK"
      }
    },
    {
      "cell_type": "code",
      "source": [
        "%time lda_2t = ldamodel.LdaModel(corpus, id2word=dictionary, num_topics=2, chunksize=50, update_every=1, passes=2)"
      ],
      "metadata": {
        "colab": {
          "base_uri": "https://localhost:8080/"
        },
        "id": "89-uOJzN2N7F",
        "outputId": "c809282c-805c-46f5-d046-1694110a4509"
      },
      "execution_count": null,
      "outputs": [
        {
          "output_type": "stream",
          "name": "stderr",
          "text": [
            "/usr/local/lib/python3.10/dist-packages/ipykernel/ipkernel.py:283: DeprecationWarning: `should_run_async` will not call `transform_cell` automatically in the future. Please pass the result to `transformed_cell` argument and any exception that happen during thetransform in `preprocessing_exc_tuple` in IPython 7.17 and above.\n",
            "  and should_run_async(code)\n"
          ]
        },
        {
          "output_type": "stream",
          "name": "stdout",
          "text": [
            "CPU times: user 57.9 s, sys: 338 ms, total: 58.3 s\n",
            "Wall time: 58.4 s\n"
          ]
        }
      ]
    },
    {
      "cell_type": "code",
      "source": [
        "lda_2t.show_topics(num_topics=2, num_words=10, formatted=True)"
      ],
      "metadata": {
        "colab": {
          "base_uri": "https://localhost:8080/"
        },
        "id": "UJZtAdDs2rpD",
        "outputId": "8fa44185-0d86-4fbf-c30b-d2947640b0dd"
      },
      "execution_count": null,
      "outputs": [
        {
          "output_type": "stream",
          "name": "stderr",
          "text": [
            "/usr/local/lib/python3.10/dist-packages/ipykernel/ipkernel.py:283: DeprecationWarning: `should_run_async` will not call `transform_cell` automatically in the future. Please pass the result to `transformed_cell` argument and any exception that happen during thetransform in `preprocessing_exc_tuple` in IPython 7.17 and above.\n",
            "  and should_run_async(code)\n"
          ]
        },
        {
          "output_type": "execute_result",
          "data": {
            "text/plain": [
              "[(0,\n",
              "  '0.281*\"(\" + 0.029*\"что\" + 0.020*\"быть\" + 0.016*\"так\" + 0.014*\"все\" + 0.013*\"как\" + 0.012*\"хотеть\" + 0.008*\"это\" + 0.008*\"уже\" + 0.008*\"еще\"'),\n",
              " (1,\n",
              "  '0.060*\"негатив\" + 0.021*\"мой\" + 0.020*\"такой\" + 0.015*\"это\" + 0.012*\"они\" + 0.011*\"какой\" + 0.011*\"весь\" + 0.011*\"как\" + 0.008*\"этот\" + 0.007*\"вот\"')]"
            ]
          },
          "metadata": {},
          "execution_count": 136
        }
      ]
    },
    {
      "cell_type": "code",
      "source": [
        "%time vis_data_2t = gensimvis.prepare(lda_2t, corpus, dictionary)\n",
        "pyLDAvis.display(vis_data_2t)"
      ],
      "metadata": {
        "colab": {
          "base_uri": "https://localhost:8080/",
          "height": 1000
        },
        "id": "PLwOpgFZ2wqf",
        "outputId": "06dba3b2-08a2-42a5-b3ad-26c5a30ec846"
      },
      "execution_count": null,
      "outputs": [
        {
          "output_type": "stream",
          "name": "stderr",
          "text": [
            "/usr/local/lib/python3.10/dist-packages/ipykernel/ipkernel.py:283: DeprecationWarning: `should_run_async` will not call `transform_cell` automatically in the future. Please pass the result to `transformed_cell` argument and any exception that happen during thetransform in `preprocessing_exc_tuple` in IPython 7.17 and above.\n",
            "  and should_run_async(code)\n"
          ]
        },
        {
          "output_type": "stream",
          "name": "stdout",
          "text": [
            "CPU times: user 16.9 s, sys: 184 ms, total: 17.1 s\n",
            "Wall time: 17.3 s\n"
          ]
        },
        {
          "output_type": "stream",
          "name": "stderr",
          "text": [
            "/usr/local/lib/python3.10/dist-packages/pandas/core/dtypes/cast.py:1641: DeprecationWarning: np.find_common_type is deprecated.  Please use `np.result_type` or `np.promote_types`.\n",
            "See https://numpy.org/devdocs/release/1.25.0-notes.html and the docs for more information.  (Deprecated NumPy 1.25)\n",
            "  return np.find_common_type(types, [])\n"
          ]
        },
        {
          "output_type": "execute_result",
          "data": {
            "text/plain": [
              "<IPython.core.display.HTML object>"
            ],
            "text/html": [
              "\n",
              "<link rel=\"stylesheet\" type=\"text/css\" href=\"https://cdn.jsdelivr.net/gh/bmabey/pyLDAvis@3.4.0/pyLDAvis/js/ldavis.v1.0.0.css\">\n",
              "\n",
              "\n",
              "<div id=\"ldavis_el9411321809299126568923217951\" style=\"background-color:white;\"></div>\n",
              "<script type=\"text/javascript\">\n",
              "\n",
              "var ldavis_el9411321809299126568923217951_data = {\"mdsDat\": {\"x\": [0.26739095473769237, -0.26739095473769237], \"y\": [0.0, 0.0], \"topics\": [1, 2], \"cluster\": [1, 1], \"Freq\": [57.80796855407731, 42.19203144592268]}, \"tinfo\": {\"Term\": [\"(\", \"\\u043d\\u0435\\u0433\\u0430\\u0442\\u0438\\u0432\", \"\\u0447\\u0442\\u043e\", \"\\u043c\\u043e\\u0439\", \"\\u0442\\u0430\\u043a\\u043e\\u0439\", \"\\u0431\\u044b\\u0442\\u044c\", \"\\u0442\\u0430\\u043a\", \"\\u0432\\u0441\\u0435\", \"\\u043a\\u0430\\u043a\\u043e\\u0439\", \"\\u0445\\u043e\\u0442\\u0435\\u0442\\u044c\", \"\\u043e\\u043d\\u0438\", \"\\u0443\\u0436\\u0435\", \"\\u0435\\u0449\\u0435\", \"\\u0441\\u043c\\u043e\\u0442\\u0440\\u0435\\u0442\\u044c\", \"\\u043c\\u043e\\u0447\\u044c\", \"\\u0434\\u0435\\u043d\\u044c\", \"\\u043a\\u043e\\u0433\\u0434\\u0430\", \"\\u043e\\u043d\\u0430\", \"\\u0434\\u043b\\u044f\", \"\\u0443\\u0442\\u0440\\u043e\", \"\\u043a\\u0442\\u043e\", \"\\u0437\\u0430\\u0432\\u0442\\u0440\\u0430\", \"\\u043f\\u0440\\u043e\", \"\\u043d\\u0430\\u0434\\u043e\", \"\\u0442\\u0432\\u043e\\u0439\", \"\\u0437\\u043d\\u0430\\u0442\\u044c\", \"\\u0432\\u0435\\u0441\\u044c\", \"\\u043d\\u0430\\u0448\", \"\\u0431\\u043b\\u0438\\u043d\", \"\\u043d\\u0430\\u0441\\u0442\\u0440\\u043e\\u0435\\u043d\\u0438\\u0435\", \"\\u0442\\u0430\\u043a\", \"\\u0445\\u043e\\u0442\\u0435\\u0442\\u044c\", \"\\u0437\\u0430\\u0432\\u0442\\u0440\\u0430\", \"\\u0443\\u0436\\u0435\", \"\\u0434\\u0435\\u043d\\u044c\", \"\\u0441\\u043f\\u0430\\u0442\\u044c\", \"\\u043d\\u0430\\u0434\\u043e\", \"\\u0432\\u0441\\u0435\", \"\\u0434\\u0435\\u043b\\u0430\\u0442\\u044c\", \"\\u0448\\u043a\\u043e\\u043b\\u0430\", \"\\u0437\\u043d\\u0430\\u0442\\u044c\", \"\\u043c\\u043e\\u0447\\u044c\", \"\\u0443\\u0440\\u043e\\u043a\", \"\\u0447\\u0442\\u043e\", \"\\u0441\\u043a\\u0430\\u0437\\u0430\\u0442\\u044c\", \"\\u0447\\u0430\\u0441\", \"\\u0432\\u0441\\u0442\\u0430\\u0432\\u0430\\u0442\\u044c\", \"\\u043f\\u0438\\u0441\\u0430\\u0442\\u044c\", \"\\u043f\\u043e\\u0439\\u0442\\u0438\", \"\\u043a\\u0442\\u043e\", \"\\u0440\\u0430\\u043d\\u043e\", \"\\u043f\\u043b\\u043e\\u0445\\u043e\", \"\\u0441\\u0434\\u0435\\u043b\\u0430\\u0442\\u044c\", \"\\u0445\\u043e\\u0442\\u0435\\u0442\\u044c\\u0441\\u044f\", \"\\u043d\\u0438\\u043a\\u0442\\u043e\", \"\\u044d\\u043a\\u0437\\u0430\\u043c\\u0435\\u043d\", \"\\u0432\\u044b\\u0445\\u043e\\u0434\\u043d\\u043e\\u0439\", \"\\u043d\\u0435\\u0434\\u0435\\u043b\\u044f\", \"(\", \"\\u0434\\u043e\\u043c\\u043e\\u0439\", \"\\u0431\\u044b\\u0442\\u044c\", \"\\u0435\\u0449\\u0435\", \"\\u043a\\u043e\\u0433\\u0434\\u0430\", \"\\u043e\\u043d\\u0430\", \"\\u0431\\u043b\\u0438\\u043d\", \"\\u0432\\u043e\\u043e\\u0431\\u0449\\u0435\", \"\\u043f\\u043e\\u0447\\u0435\\u043c\\u0443\", \"\\u0434\\u0430\\u0436\\u0435\", \"\\u0435\\u0441\\u043b\\u0438\", \"\\u0431\\u043e\\u043b\\u0435\\u0442\\u044c\", \"\\u043f\\u043e\\u043d\\u0438\\u043c\\u0430\\u0442\\u044c\", \"\\u0432\\u0440\\u0435\\u043c\\u044f\", \"\\u043c\\u043d\\u043e\\u0433\\u043e\", \"\\u043a\\u0430\\u043a\", \"\\u0441\\u0435\\u0431\\u044f\", \"\\u043b\\u044e\\u0431\\u0438\\u0442\\u044c\", \"\\u044d\\u0442\\u043e\", \"\\u0441\\u0435\\u0433\\u043e\\u0434\\u043d\\u044f\", \"\\u0442\\u043e\\u043b\\u044c\\u043a\\u043e\", \"\\u043e\\u0447\\u0435\\u043d\\u044c\", \"\\u0432\\u043e\\u0442\", \"\\u043d\\u0435\\u0442\", \"\\u0432\\u0435\\u0441\\u044c\", \"\\u044d\\u0442\\u043e\\u0442\", \"\\u043c\\u043e\\u0439\", \"\\u043a\\u0430\\u043a\\u043e\\u0439\", \"\\u0441\\u043c\\u043e\\u0442\\u0440\\u0435\\u0442\\u044c\", \"\\u0434\\u043b\\u044f\", \"\\u0442\\u0430\\u043a\\u043e\\u0439\", \"\\u0443\\u043b\\u0438\\u0446\\u0430\", \"\\u043d\\u0430\\u0448\", \"\\u0444\\u0438\\u043b\\u044c\\u043c\", \"\\u043f\\u043e\\u0441\\u043c\\u043e\\u0442\\u0440\\u0435\\u0442\\u044c\", \"\\u0445\\u043e\\u043b\\u043e\\u0434\\u043d\\u043e\", \"\\u043b\\u044e\\u0431\\u0438\\u043c\\u044b\\u0439\", \"\\u0440\\u0443\\u043a\\u0430\", \"\\u043d\\u0430\\u0441\\u0442\\u0440\\u043e\\u0435\\u043d\\u0438\\u0435\", \"\\u043d\\u0440\\u0430\\u0432\\u0438\\u0442\\u044c\\u0441\\u044f\", \"\\u043f\\u043e\\u0434\", \"\\u0441\\u043d\\u0435\\u0433\", \"\\u0433\\u043e\\u0440\\u043e\\u0434\", \"\\u043f\\u0435\\u0441\\u043d\\u044f\", \"\\u0444\\u043e\\u0442\\u043a\\u0430\", \"\\u043f\\u043e\\u0440\\u0430\", \"\\u043f\\u043e\\u0433\\u043e\\u0434\\u0430\", \"\\u0437\\u0438\\u043c\\u0430\", \"\\u0431\\u043e\\u043b\\u044c\\u0448\\u043e\\u0439\", \"\\u0441\\u043f\\u0430\\u0441\\u0438\\u0431\\u043e\", \"\\u0432\\u043e\\u0434\\u0430\", \"\\u0433\\u043b\\u0430\\u0437\", \"\\u043d\\u043e\\u0433\\u0430\", \"\\u0442\\u0432\\u043e\\u0439\", \"\\u0440\\u043e\\u0441\\u0441\\u0438\\u044f\", \"\\u0441\\u0435\\u0437\\u043e\\u043d\", \"\\u043d\\u0435\\u0433\\u0430\\u0442\\u0438\\u0432\", \"\\u043f\\u0440\\u043e\", \"\\u0443\\u0442\\u0440\\u043e\", \"\\u0441\\u043b\\u043e\\u0432\\u043e\", \"\\u0443\\u0436\\u0430\\u0441\", \"\\u0431\\u0443\\u0434\\u0442\\u043e\", \"\\u0441\\u043e\\u043d\", \"\\u043a\\u043e\\u043d\\u0435\\u0447\\u043d\\u043e\", \"\\u043a\\u0443\\u043f\\u0438\\u0442\\u044c\", \"\\u043e\\u043d\\u0438\", \"\\u043d\\u043e\\u0432\\u044b\\u0439\", \"\\u0445\\u043e\\u0440\\u043e\\u0448\\u0438\\u0439\", \"\\u0441\\u0432\\u043e\\u0439\", \"\\u043d\\u0430\\u0445\\u043e\\u0434\\u0438\\u0442\\u044c\", \"\\u0432\\u0435\\u0441\\u044c\", \"\\u0433\\u0434\\u0435\", \"\\u044d\\u0442\\u043e\", \"\\u0441\\u0430\\u043c\\u044b\\u0439\", \"\\u043a\\u043e\\u0442\\u043e\\u0440\\u044b\\u0439\", \"\\u044d\\u0442\\u043e\\u0442\", \"\\u043a\\u0430\\u043a\", \"\\u0432\\u043e\\u0442\", \"\\u043d\\u0435\\u0442\", \"\\u0442\\u043e\\u043b\\u044c\\u043a\\u043e\", \"\\u0447\\u0435\\u043b\\u043e\\u0432\\u0435\\u043a\", \"\\u0442\\u0430\\u043c\"], \"Freq\": [334408.0, 52146.0, 34254.0, 18325.0, 17231.0, 23813.0, 18863.0, 16196.0, 9277.0, 14322.0, 11336.0, 10029.0, 9429.0, 5683.0, 8536.0, 8273.0, 8324.0, 8126.0, 4843.0, 4883.0, 6261.0, 6209.0, 3806.0, 5787.0, 3622.0, 5635.0, 13653.0, 3310.0, 5205.0, 3169.0, 18861.916837095152, 14320.2185010074, 6208.571344109109, 10028.277626527592, 8271.433930284304, 4487.077623953511, 5786.334734556564, 16192.399370587686, 4213.819095991663, 3568.0410627717542, 5633.870719108227, 8533.784144621135, 2383.8527000201143, 34241.778426452416, 3861.1497937562513, 2636.469031413187, 2203.7793246519, 3569.5320694896213, 3352.895268802491, 6258.340749864187, 2145.810627221425, 2451.407646377276, 2187.3505780248915, 2652.212324506388, 2391.6118569173436, 1532.7102145074614, 1572.5624054794005, 2102.2825290971505, 334197.92510893097, 1439.8273864942412, 23777.410668043056, 9423.693773343894, 8318.215234602943, 8105.250328522231, 5197.599054114558, 4984.40723164397, 5026.911438740756, 4821.917385945389, 3552.207279849908, 3443.556391649714, 3680.469555408771, 3074.3191489530163, 3958.847261780757, 15664.882964861126, 3704.031501769717, 4086.3925368930736, 10073.342114647709, 5727.3469888264335, 6202.284099745721, 5191.866371269843, 5910.25764925001, 5114.688232890814, 4420.482921343751, 4305.600410968419, 18324.655160264843, 9277.2021205381, 5682.691791253536, 4843.088891137342, 17228.34696641672, 3084.8110078730906, 3309.447125412824, 2526.5467153145128, 3105.568245137618, 3080.1549090265257, 2968.2604900142032, 2259.7158759497015, 3168.4149759489483, 2581.2468384402414, 2199.4588514417, 1916.9788907160819, 2094.9833290082183, 1721.0858470909568, 1400.7231002655592, 2431.0347840323147, 1561.106750301467, 1837.189397234256, 1379.4415393726244, 1946.0249251247626, 1543.6841991951928, 1578.486281017583, 1551.1719687930192, 3620.769733068769, 1249.812115997808, 1321.9700346339546, 52118.97081096248, 3803.9146030506604, 4842.133151765375, 2003.0582480021726, 1868.522783373182, 1642.257647256822, 1567.579198296826, 2100.0655922831115, 1966.8671933012927, 10116.627283831105, 2784.6434056088847, 3390.619128615933, 4862.235994362706, 2452.454898857872, 9233.019169977259, 3288.928419043963, 13158.543731137812, 4259.154755916024, 3729.796731991529, 7076.85418103313, 9159.554077796021, 5946.112709270733, 5164.731545063363, 4728.060446800674, 3551.989621967865, 3072.186442111438], \"Total\": [334408.0, 52146.0, 34254.0, 18325.0, 17231.0, 23813.0, 18863.0, 16196.0, 9277.0, 14322.0, 11336.0, 10029.0, 9429.0, 5683.0, 8536.0, 8273.0, 8324.0, 8126.0, 4843.0, 4883.0, 6261.0, 6209.0, 3806.0, 5787.0, 3622.0, 5635.0, 13653.0, 3310.0, 5205.0, 3169.0, 18863.299158057845, 14322.255710920492, 6209.49136579978, 10029.865646718945, 8273.03230330241, 4488.0492414336895, 5787.682106679112, 16196.278453479477, 4214.830646465766, 3568.9939576484308, 5635.537787826645, 8536.643307656555, 2384.673583609057, 34254.037157161, 3862.750318858962, 2637.5936681047606, 2204.8017191787403, 3571.193374463536, 3354.5390636066, 6261.451112514371, 2146.887771798334, 2452.7401433565283, 2188.5668487273874, 2653.695124309064, 2392.9531020781023, 1533.6367437343176, 1573.5227064186497, 2103.5752197104966, 334408.73289767926, 1440.742668214135, 23813.919929093703, 9429.836306039764, 8324.158168799035, 8126.9993053861845, 5205.431352910915, 5003.260832423187, 5048.408841628606, 4841.05037783899, 3556.169371550197, 3446.3196120671064, 3688.162120777873, 3076.337440206141, 4020.4444762160256, 24824.437042657148, 3875.022808571407, 4541.365377615835, 23231.88584578552, 8623.33423324308, 10930.344546546396, 7932.935574937307, 11856.370358520744, 10279.419777954177, 13653.50209132101, 11382.454592001548, 18325.384781124958, 9277.960443883956, 5683.3388258357245, 4843.737607499998, 17231.202024445374, 3085.4463455245054, 3310.1302185897357, 2527.0822605124936, 3106.2812299304687, 3080.9178274914325, 2968.9967338180886, 2260.3062734516548, 3169.3145366953695, 2581.982103496943, 2200.087612022841, 1917.5330404204751, 2095.616783684362, 1721.63714301124, 1401.2078994792894, 2431.8915393345105, 1561.6609021677923, 1837.8623989851963, 1379.9565913462893, 1946.7596393617098, 1544.2702801295302, 1579.104271055841, 1551.7962595796089, 3622.236732341743, 1250.330689961493, 1322.5217210194373, 52146.54050375277, 3806.0751670212, 4883.361213600959, 2003.9978582699152, 1869.5104914272924, 1643.5846611581405, 1568.2581394832011, 2121.821054151074, 1989.3667532723443, 11336.991653675042, 2923.0731006730016, 3703.0409695155167, 5980.841646257971, 2610.6508707417506, 13653.50209132101, 3816.3353099396772, 23231.88584578552, 5391.269335464302, 4663.383061401201, 11382.454592001548, 24824.437042657148, 11856.370358520744, 10279.419777954177, 10930.344546546396, 6341.317005238625, 5192.50384311223], \"Category\": [\"Default\", \"Default\", \"Default\", \"Default\", \"Default\", \"Default\", \"Default\", \"Default\", \"Default\", \"Default\", \"Default\", \"Default\", \"Default\", \"Default\", \"Default\", \"Default\", \"Default\", \"Default\", \"Default\", \"Default\", \"Default\", \"Default\", \"Default\", \"Default\", \"Default\", \"Default\", \"Default\", \"Default\", \"Default\", \"Default\", \"Topic1\", \"Topic1\", \"Topic1\", \"Topic1\", \"Topic1\", \"Topic1\", \"Topic1\", \"Topic1\", \"Topic1\", \"Topic1\", \"Topic1\", \"Topic1\", \"Topic1\", \"Topic1\", \"Topic1\", \"Topic1\", \"Topic1\", \"Topic1\", \"Topic1\", \"Topic1\", \"Topic1\", \"Topic1\", \"Topic1\", \"Topic1\", \"Topic1\", \"Topic1\", \"Topic1\", \"Topic1\", \"Topic1\", \"Topic1\", \"Topic1\", \"Topic1\", \"Topic1\", \"Topic1\", \"Topic1\", \"Topic1\", \"Topic1\", \"Topic1\", \"Topic1\", \"Topic1\", \"Topic1\", \"Topic1\", \"Topic1\", \"Topic1\", \"Topic1\", \"Topic1\", \"Topic1\", \"Topic1\", \"Topic1\", \"Topic1\", \"Topic1\", \"Topic1\", \"Topic1\", \"Topic1\", \"Topic2\", \"Topic2\", \"Topic2\", \"Topic2\", \"Topic2\", \"Topic2\", \"Topic2\", \"Topic2\", \"Topic2\", \"Topic2\", \"Topic2\", \"Topic2\", \"Topic2\", \"Topic2\", \"Topic2\", \"Topic2\", \"Topic2\", \"Topic2\", \"Topic2\", \"Topic2\", \"Topic2\", \"Topic2\", \"Topic2\", \"Topic2\", \"Topic2\", \"Topic2\", \"Topic2\", \"Topic2\", \"Topic2\", \"Topic2\", \"Topic2\", \"Topic2\", \"Topic2\", \"Topic2\", \"Topic2\", \"Topic2\", \"Topic2\", \"Topic2\", \"Topic2\", \"Topic2\", \"Topic2\", \"Topic2\", \"Topic2\", \"Topic2\", \"Topic2\", \"Topic2\", \"Topic2\", \"Topic2\", \"Topic2\", \"Topic2\", \"Topic2\", \"Topic2\", \"Topic2\", \"Topic2\", \"Topic2\", \"Topic2\"], \"logprob\": [30.0, 29.0, 28.0, 27.0, 26.0, 25.0, 24.0, 23.0, 22.0, 21.0, 20.0, 19.0, 18.0, 17.0, 16.0, 15.0, 14.0, 13.0, 12.0, 11.0, 10.0, 9.0, 8.0, 7.0, 6.0, 5.0, 4.0, 3.0, 2.0, 1.0, -4.1433, -4.4188, -5.2545, -4.7751, -4.9677, -5.5793, -5.325, -4.2959, -5.6421, -5.8085, -5.3517, -4.9364, -6.2118, -3.547, -5.7295, -6.111, -6.2903, -5.808, -5.8707, -5.2466, -6.317, -6.1838, -6.2978, -6.1051, -6.2085, -6.6534, -6.6278, -6.3375, -1.2687, -6.716, -3.9117, -4.8372, -4.962, -4.988, -5.4323, -5.4742, -5.4657, -5.5073, -5.8129, -5.844, -5.7774, -5.9574, -5.7045, -4.3291, -5.7711, -5.6728, -4.7706, -5.3352, -5.2556, -5.4334, -5.3038, -5.4484, -5.5942, -5.6206, -3.8573, -4.538, -5.0282, -5.188, -3.919, -5.6391, -5.5688, -5.8387, -5.6324, -5.6406, -5.6776, -5.9503, -5.6123, -5.8173, -5.9774, -6.1148, -6.026, -6.2226, -6.4286, -5.8773, -6.3202, -6.1573, -6.4439, -6.0998, -6.3314, -6.3091, -6.3266, -5.4789, -6.5426, -6.4865, -2.8121, -5.4296, -5.1882, -6.0709, -6.1404, -6.2695, -6.316, -6.0236, -6.0891, -4.4514, -5.7415, -5.5446, -5.1841, -5.8685, -4.5428, -5.575, -4.1885, -5.3165, -5.4492, -4.8088, -4.5508, -4.9828, -5.1237, -5.2121, -5.4981, -5.6432], \"loglift\": [30.0, 29.0, 28.0, 27.0, 26.0, 25.0, 24.0, 23.0, 22.0, 21.0, 20.0, 19.0, 18.0, 17.0, 16.0, 15.0, 14.0, 13.0, 12.0, 11.0, 10.0, 9.0, 8.0, 7.0, 6.0, 5.0, 4.0, 3.0, 2.0, 1.0, 0.548, 0.5479, 0.5479, 0.5479, 0.5479, 0.5478, 0.5478, 0.5478, 0.5478, 0.5478, 0.5477, 0.5477, 0.5477, 0.5477, 0.5476, 0.5476, 0.5476, 0.5476, 0.5476, 0.5475, 0.5475, 0.5475, 0.5475, 0.5475, 0.5475, 0.5474, 0.5474, 0.5474, 0.5474, 0.5474, 0.5465, 0.5474, 0.5473, 0.5454, 0.5465, 0.5443, 0.5438, 0.5441, 0.5469, 0.5472, 0.546, 0.5474, 0.5326, 0.0876, 0.5029, 0.4425, -0.2876, 0.1388, -0.0186, 0.1241, -0.1481, -0.15, -0.5797, -0.4241, 0.8629, 0.8629, 0.8628, 0.8628, 0.8628, 0.8627, 0.8627, 0.8627, 0.8627, 0.8627, 0.8627, 0.8627, 0.8627, 0.8627, 0.8627, 0.8626, 0.8626, 0.8626, 0.8626, 0.8626, 0.8626, 0.8626, 0.8626, 0.8626, 0.8626, 0.8625, 0.8625, 0.8625, 0.8625, 0.8625, 0.8624, 0.8624, 0.8545, 0.8625, 0.8624, 0.8621, 0.8625, 0.8526, 0.8516, 0.749, 0.8144, 0.7748, 0.6559, 0.8004, 0.4717, 0.7142, 0.2945, 0.6272, 0.6396, 0.3877, -0.1341, 0.1728, 0.1746, 0.0249, 0.2834, 0.3381]}, \"token.table\": {\"Topic\": [1, 2, 1, 2, 1, 2, 1, 2, 1, 2, 1, 2, 1, 2, 1, 2, 1, 2, 1, 2, 1, 2, 1, 2, 1, 2, 1, 2, 1, 2, 1, 2, 1, 2, 1, 2, 1, 2, 1, 2, 1, 2, 1, 2, 1, 2, 1, 2, 1, 2, 1, 2, 1, 2, 1, 2, 1, 2, 1, 2, 1, 2, 1, 2, 1, 2, 1, 2, 1, 2, 1, 2, 1, 2, 1, 2, 1, 2, 1, 2, 1, 2, 1, 2, 1, 2, 1, 2, 1, 2, 1, 2, 1, 2, 1, 2, 1, 2, 1, 2, 1, 2, 1, 2, 1, 2, 1, 2, 1, 2, 1, 2, 1, 2, 1, 2, 1, 2, 1, 2, 1, 2, 1, 2, 1, 2, 1, 2, 1, 2, 1, 2, 1, 2, 1, 2, 1, 2, 1, 2, 1, 2, 1, 2, 1, 2, 1, 2, 1, 2, 1, 2, 1, 2, 1, 2, 1, 2, 1, 2, 1, 2, 1, 2, 1, 2, 1, 2, 1, 2, 1, 2, 1, 2, 1, 2, 1, 2, 1, 2, 1, 2, 2, 1, 2, 1, 2, 1, 2, 1, 2, 1, 2, 1, 2, 1, 2, 1, 2, 1, 2, 1, 2, 1, 2], \"Freq\": [0.9993698343465697, 0.0006309643835305005, 0.9985723848021242, 0.0015368563059671016, 0.9993269306598888, 0.0008704938420382307, 0.0007246604757504708, 0.9993067960598992, 0.0006084262183947111, 0.9990358506041156, 0.9984496492302135, 0.001553713127035282, 0.32372646742476563, 0.6762367587630906, 0.0006475550380443261, 0.9998249787404394, 0.9961503441318972, 0.0037975233825252902, 0.49846621025571264, 0.5015025526532093, 0.9992401873163874, 0.0006501237393079944, 0.9997358372485528, 0.00024697031552582823, 0.9996363758374431, 0.00045355552442715206, 0.9996678113277186, 0.0006355167268453393, 0.13809059141827085, 0.861821546821049, 0.0006332704041965304, 0.9993006978221249, 0.0004771864817010447, 0.9997056791636887, 0.9960648255332774, 0.00392476808069935, 0.999802922932037, 0.00023725745679450331, 0.9997543460211561, 0.000241749328018657, 0.00020645214110103925, 0.9998477193523332, 0.9994845240371374, 0.0006940864750257899, 0.9988275666554151, 0.0011248058183056476, 0.9993810808745401, 0.0006362782772970332, 0.9999208685911882, 0.00016104378621214176, 0.0005441103754841305, 0.9995307597643477, 0.9997271266941077, 0.00035489070880160016, 0.6310314297593939, 0.3689912477878103, 0.00010778230905901322, 0.9998964811404656, 0.9992602052154514, 0.0007207936079938337, 0.010368452116619254, 0.9897158838591107, 0.20028378276078443, 0.799848511453668, 0.9994488318358865, 0.0004791221629126973, 0.011058795450266681, 0.9887568477579346, 0.00033681411252817846, 0.9996642859836337, 0.899729411806346, 0.1001901327390816, 0.9847169942080991, 0.015421180510457728, 5.456911338800342e-05, 0.9999790028351626, 0.9996903574904923, 0.0003514261861344594, 0.9997093643624326, 0.00017278074047052068, 0.00031552564077237205, 0.9995852299668747, 0.060521305920583815, 0.9392293804890602, 0.00030210291860543326, 0.9996585576653787, 0.0005369483714453686, 0.9994718632628988, 0.9992511702478063, 0.00047538114664500775, 0.49759617862575445, 0.5024602663933572, 0.9996017046563618, 0.00041789368923760944, 0.047210588051399466, 0.952764403790924, 0.0006444144930926088, 0.9994868787866362, 0.00038729935371962344, 0.9996196319503481, 0.9972930592756906, 0.002707026194209154, 0.10761232232225558, 0.8923884138805408, 0.654486595908228, 0.345521525305172, 0.00058084248708235, 0.9996299202687243, 0.9996658331436014, 0.000560036881312942, 0.9992905308940935, 0.00040770727494659055, 0.000640343879142948, 0.9995767953421419, 0.0004545273536086881, 0.9995056505855051, 0.999541199676791, 0.0005962070979282976, 0.9977869408907243, 0.0021691020454146183, 0.0004112025490551486, 0.9996333967530664, 0.00032192835290138365, 0.9999094641116977, 0.9957592892532651, 0.00415972649180795, 0.0005254756966781839, 0.9994547750819057, 0.9995864843006719, 0.000465790533224917, 0.0007997884144000317, 0.9997355180000396, 0.00044241791997193643, 0.9998644991365763, 0.20996910552281117, 0.7899809367682445, 0.18709741307063765, 0.8129290637617875, 0.9992840754540815, 0.00045692001621128555, 0.9558653414392527, 0.0441287725124493, 0.6641282646707964, 0.3358329761631965, 0.0007561312484373955, 0.9996055104342368, 0.9995468723799162, 0.0005177657976585943, 0.0004990025293057532, 0.9995020661994236, 0.00017595290913399869, 0.9999403826085145, 0.000521503399900072, 0.999722017608438, 0.0006376501258456959, 0.9998353973260511, 0.0005136740970898046, 0.9996097929367599, 0.9997662143668116, 0.00022281395461707412, 0.9999311277392698, 5.301299585087848e-05, 0.0001741027698325394, 0.999814172891663, 0.40828087259138857, 0.5916220946229932, 0.0002760725137237259, 0.9996585721936116, 0.5674112077244274, 0.4325572702549328, 0.0005348993785194231, 0.9997269384528018, 0.9998139908564423, 0.0001994044656674197, 0.0003241022166697268, 0.9998553384261072, 0.9997175363480827, 0.00041934460417285345, 0.008395856502649917, 0.9915301752641682, 0.0003957132759885701, 0.9999674484231167, 0.999851628384791, 0.0003245786015702429, 0.9997020928363481, 0.08425507645431754, 0.9157338597967652, 0.9998425030968571, 0.00013964280769509176, 0.9993612211540295, 0.00037683303965084064, 0.9993957871054848, 0.0003791334548958592, 0.4398140004191526, 0.560136009139057, 0.9996485915775191, 0.00035032366973103873, 0.9997215020086261, 0.00028019100392618447, 0.9995848145025743, 0.0006520448887818489, 0.43358511947179423, 0.5664197942151633, 0.3783015311148991, 0.6217463854389552], \"Term\": [\"(\", \"(\", \"\\u0431\\u043b\\u0438\\u043d\", \"\\u0431\\u043b\\u0438\\u043d\", \"\\u0431\\u043e\\u043b\\u0435\\u0442\\u044c\", \"\\u0431\\u043e\\u043b\\u0435\\u0442\\u044c\", \"\\u0431\\u043e\\u043b\\u044c\\u0448\\u043e\\u0439\", \"\\u0431\\u043e\\u043b\\u044c\\u0448\\u043e\\u0439\", \"\\u0431\\u0443\\u0434\\u0442\\u043e\", \"\\u0431\\u0443\\u0434\\u0442\\u043e\", \"\\u0431\\u044b\\u0442\\u044c\", \"\\u0431\\u044b\\u0442\\u044c\", \"\\u0432\\u0435\\u0441\\u044c\", \"\\u0432\\u0435\\u0441\\u044c\", \"\\u0432\\u043e\\u0434\\u0430\", \"\\u0432\\u043e\\u0434\\u0430\", \"\\u0432\\u043e\\u043e\\u0431\\u0449\\u0435\", \"\\u0432\\u043e\\u043e\\u0431\\u0449\\u0435\", \"\\u0432\\u043e\\u0442\", \"\\u0432\\u043e\\u0442\", \"\\u0432\\u0440\\u0435\\u043c\\u044f\", \"\\u0432\\u0440\\u0435\\u043c\\u044f\", \"\\u0432\\u0441\\u0435\", \"\\u0432\\u0441\\u0435\", \"\\u0432\\u0441\\u0442\\u0430\\u0432\\u0430\\u0442\\u044c\", \"\\u0432\\u0441\\u0442\\u0430\\u0432\\u0430\\u0442\\u044c\", \"\\u0432\\u044b\\u0445\\u043e\\u0434\\u043d\\u043e\\u0439\", \"\\u0432\\u044b\\u0445\\u043e\\u0434\\u043d\\u043e\\u0439\", \"\\u0433\\u0434\\u0435\", \"\\u0433\\u0434\\u0435\", \"\\u0433\\u043b\\u0430\\u0437\", \"\\u0433\\u043b\\u0430\\u0437\", \"\\u0433\\u043e\\u0440\\u043e\\u0434\", \"\\u0433\\u043e\\u0440\\u043e\\u0434\", \"\\u0434\\u0430\\u0436\\u0435\", \"\\u0434\\u0430\\u0436\\u0435\", \"\\u0434\\u0435\\u043b\\u0430\\u0442\\u044c\", \"\\u0434\\u0435\\u043b\\u0430\\u0442\\u044c\", \"\\u0434\\u0435\\u043d\\u044c\", \"\\u0434\\u0435\\u043d\\u044c\", \"\\u0434\\u043b\\u044f\", \"\\u0434\\u043b\\u044f\", \"\\u0434\\u043e\\u043c\\u043e\\u0439\", \"\\u0434\\u043e\\u043c\\u043e\\u0439\", \"\\u0435\\u0441\\u043b\\u0438\", \"\\u0435\\u0441\\u043b\\u0438\", \"\\u0435\\u0449\\u0435\", \"\\u0435\\u0449\\u0435\", \"\\u0437\\u0430\\u0432\\u0442\\u0440\\u0430\", \"\\u0437\\u0430\\u0432\\u0442\\u0440\\u0430\", \"\\u0437\\u0438\\u043c\\u0430\", \"\\u0437\\u0438\\u043c\\u0430\", \"\\u0437\\u043d\\u0430\\u0442\\u044c\", \"\\u0437\\u043d\\u0430\\u0442\\u044c\", \"\\u043a\\u0430\\u043a\", \"\\u043a\\u0430\\u043a\", \"\\u043a\\u0430\\u043a\\u043e\\u0439\", \"\\u043a\\u0430\\u043a\\u043e\\u0439\", \"\\u043a\\u043e\\u0433\\u0434\\u0430\", \"\\u043a\\u043e\\u0433\\u0434\\u0430\", \"\\u043a\\u043e\\u043d\\u0435\\u0447\\u043d\\u043e\", \"\\u043a\\u043e\\u043d\\u0435\\u0447\\u043d\\u043e\", \"\\u043a\\u043e\\u0442\\u043e\\u0440\\u044b\\u0439\", \"\\u043a\\u043e\\u0442\\u043e\\u0440\\u044b\\u0439\", \"\\u043a\\u0442\\u043e\", \"\\u043a\\u0442\\u043e\", \"\\u043a\\u0443\\u043f\\u0438\\u0442\\u044c\", \"\\u043a\\u0443\\u043f\\u0438\\u0442\\u044c\", \"\\u043b\\u044e\\u0431\\u0438\\u043c\\u044b\\u0439\", \"\\u043b\\u044e\\u0431\\u0438\\u043c\\u044b\\u0439\", \"\\u043b\\u044e\\u0431\\u0438\\u0442\\u044c\", \"\\u043b\\u044e\\u0431\\u0438\\u0442\\u044c\", \"\\u043c\\u043d\\u043e\\u0433\\u043e\", \"\\u043c\\u043d\\u043e\\u0433\\u043e\", \"\\u043c\\u043e\\u0439\", \"\\u043c\\u043e\\u0439\", \"\\u043c\\u043e\\u0447\\u044c\", \"\\u043c\\u043e\\u0447\\u044c\", \"\\u043d\\u0430\\u0434\\u043e\", \"\\u043d\\u0430\\u0434\\u043e\", \"\\u043d\\u0430\\u0441\\u0442\\u0440\\u043e\\u0435\\u043d\\u0438\\u0435\", \"\\u043d\\u0430\\u0441\\u0442\\u0440\\u043e\\u0435\\u043d\\u0438\\u0435\", \"\\u043d\\u0430\\u0445\\u043e\\u0434\\u0438\\u0442\\u044c\", \"\\u043d\\u0430\\u0445\\u043e\\u0434\\u0438\\u0442\\u044c\", \"\\u043d\\u0430\\u0448\", \"\\u043d\\u0430\\u0448\", \"\\u043d\\u0435\\u0433\\u0430\\u0442\\u0438\\u0432\", \"\\u043d\\u0435\\u0433\\u0430\\u0442\\u0438\\u0432\", \"\\u043d\\u0435\\u0434\\u0435\\u043b\\u044f\", \"\\u043d\\u0435\\u0434\\u0435\\u043b\\u044f\", \"\\u043d\\u0435\\u0442\", \"\\u043d\\u0435\\u0442\", \"\\u043d\\u0438\\u043a\\u0442\\u043e\", \"\\u043d\\u0438\\u043a\\u0442\\u043e\", \"\\u043d\\u043e\\u0432\\u044b\\u0439\", \"\\u043d\\u043e\\u0432\\u044b\\u0439\", \"\\u043d\\u043e\\u0433\\u0430\", \"\\u043d\\u043e\\u0433\\u0430\", \"\\u043d\\u0440\\u0430\\u0432\\u0438\\u0442\\u044c\\u0441\\u044f\", \"\\u043d\\u0440\\u0430\\u0432\\u0438\\u0442\\u044c\\u0441\\u044f\", \"\\u043e\\u043d\\u0430\", \"\\u043e\\u043d\\u0430\", \"\\u043e\\u043d\\u0438\", \"\\u043e\\u043d\\u0438\", \"\\u043e\\u0447\\u0435\\u043d\\u044c\", \"\\u043e\\u0447\\u0435\\u043d\\u044c\", \"\\u043f\\u0435\\u0441\\u043d\\u044f\", \"\\u043f\\u0435\\u0441\\u043d\\u044f\", \"\\u043f\\u0438\\u0441\\u0430\\u0442\\u044c\", \"\\u043f\\u0438\\u0441\\u0430\\u0442\\u044c\", \"\\u043f\\u043b\\u043e\\u0445\\u043e\", \"\\u043f\\u043b\\u043e\\u0445\\u043e\", \"\\u043f\\u043e\\u0433\\u043e\\u0434\\u0430\", \"\\u043f\\u043e\\u0433\\u043e\\u0434\\u0430\", \"\\u043f\\u043e\\u0434\", \"\\u043f\\u043e\\u0434\", \"\\u043f\\u043e\\u0439\\u0442\\u0438\", \"\\u043f\\u043e\\u0439\\u0442\\u0438\", \"\\u043f\\u043e\\u043d\\u0438\\u043c\\u0430\\u0442\\u044c\", \"\\u043f\\u043e\\u043d\\u0438\\u043c\\u0430\\u0442\\u044c\", \"\\u043f\\u043e\\u0440\\u0430\", \"\\u043f\\u043e\\u0440\\u0430\", \"\\u043f\\u043e\\u0441\\u043c\\u043e\\u0442\\u0440\\u0435\\u0442\\u044c\", \"\\u043f\\u043e\\u0441\\u043c\\u043e\\u0442\\u0440\\u0435\\u0442\\u044c\", \"\\u043f\\u043e\\u0447\\u0435\\u043c\\u0443\", \"\\u043f\\u043e\\u0447\\u0435\\u043c\\u0443\", \"\\u043f\\u0440\\u043e\", \"\\u043f\\u0440\\u043e\", \"\\u0440\\u0430\\u043d\\u043e\", \"\\u0440\\u0430\\u043d\\u043e\", \"\\u0440\\u043e\\u0441\\u0441\\u0438\\u044f\", \"\\u0440\\u043e\\u0441\\u0441\\u0438\\u044f\", \"\\u0440\\u0443\\u043a\\u0430\", \"\\u0440\\u0443\\u043a\\u0430\", \"\\u0441\\u0430\\u043c\\u044b\\u0439\", \"\\u0441\\u0430\\u043c\\u044b\\u0439\", \"\\u0441\\u0432\\u043e\\u0439\", \"\\u0441\\u0432\\u043e\\u0439\", \"\\u0441\\u0434\\u0435\\u043b\\u0430\\u0442\\u044c\", \"\\u0441\\u0434\\u0435\\u043b\\u0430\\u0442\\u044c\", \"\\u0441\\u0435\\u0431\\u044f\", \"\\u0441\\u0435\\u0431\\u044f\", \"\\u0441\\u0435\\u0433\\u043e\\u0434\\u043d\\u044f\", \"\\u0441\\u0435\\u0433\\u043e\\u0434\\u043d\\u044f\", \"\\u0441\\u0435\\u0437\\u043e\\u043d\", \"\\u0441\\u0435\\u0437\\u043e\\u043d\", \"\\u0441\\u043a\\u0430\\u0437\\u0430\\u0442\\u044c\", \"\\u0441\\u043a\\u0430\\u0437\\u0430\\u0442\\u044c\", \"\\u0441\\u043b\\u043e\\u0432\\u043e\", \"\\u0441\\u043b\\u043e\\u0432\\u043e\", \"\\u0441\\u043c\\u043e\\u0442\\u0440\\u0435\\u0442\\u044c\", \"\\u0441\\u043c\\u043e\\u0442\\u0440\\u0435\\u0442\\u044c\", \"\\u0441\\u043d\\u0435\\u0433\", \"\\u0441\\u043d\\u0435\\u0433\", \"\\u0441\\u043e\\u043d\", \"\\u0441\\u043e\\u043d\", \"\\u0441\\u043f\\u0430\\u0441\\u0438\\u0431\\u043e\", \"\\u0441\\u043f\\u0430\\u0441\\u0438\\u0431\\u043e\", \"\\u0441\\u043f\\u0430\\u0442\\u044c\", \"\\u0441\\u043f\\u0430\\u0442\\u044c\", \"\\u0442\\u0430\\u043a\", \"\\u0442\\u0430\\u043a\", \"\\u0442\\u0430\\u043a\\u043e\\u0439\", \"\\u0442\\u0430\\u043a\\u043e\\u0439\", \"\\u0442\\u0430\\u043c\", \"\\u0442\\u0430\\u043c\", \"\\u0442\\u0432\\u043e\\u0439\", \"\\u0442\\u0432\\u043e\\u0439\", \"\\u0442\\u043e\\u043b\\u044c\\u043a\\u043e\", \"\\u0442\\u043e\\u043b\\u044c\\u043a\\u043e\", \"\\u0443\\u0436\\u0430\\u0441\", \"\\u0443\\u0436\\u0430\\u0441\", \"\\u0443\\u0436\\u0435\", \"\\u0443\\u0436\\u0435\", \"\\u0443\\u043b\\u0438\\u0446\\u0430\", \"\\u0443\\u043b\\u0438\\u0446\\u0430\", \"\\u0443\\u0440\\u043e\\u043a\", \"\\u0443\\u0440\\u043e\\u043a\", \"\\u0443\\u0442\\u0440\\u043e\", \"\\u0443\\u0442\\u0440\\u043e\", \"\\u0444\\u0438\\u043b\\u044c\\u043c\", \"\\u0444\\u0438\\u043b\\u044c\\u043c\", \"\\u0444\\u043e\\u0442\\u043a\\u0430\", \"\\u0445\\u043e\\u043b\\u043e\\u0434\\u043d\\u043e\", \"\\u0445\\u043e\\u043b\\u043e\\u0434\\u043d\\u043e\", \"\\u0445\\u043e\\u0440\\u043e\\u0448\\u0438\\u0439\", \"\\u0445\\u043e\\u0440\\u043e\\u0448\\u0438\\u0439\", \"\\u0445\\u043e\\u0442\\u0435\\u0442\\u044c\", \"\\u0445\\u043e\\u0442\\u0435\\u0442\\u044c\", \"\\u0445\\u043e\\u0442\\u0435\\u0442\\u044c\\u0441\\u044f\", \"\\u0445\\u043e\\u0442\\u0435\\u0442\\u044c\\u0441\\u044f\", \"\\u0447\\u0430\\u0441\", \"\\u0447\\u0430\\u0441\", \"\\u0447\\u0435\\u043b\\u043e\\u0432\\u0435\\u043a\", \"\\u0447\\u0435\\u043b\\u043e\\u0432\\u0435\\u043a\", \"\\u0447\\u0442\\u043e\", \"\\u0447\\u0442\\u043e\", \"\\u0448\\u043a\\u043e\\u043b\\u0430\", \"\\u0448\\u043a\\u043e\\u043b\\u0430\", \"\\u044d\\u043a\\u0437\\u0430\\u043c\\u0435\\u043d\", \"\\u044d\\u043a\\u0437\\u0430\\u043c\\u0435\\u043d\", \"\\u044d\\u0442\\u043e\", \"\\u044d\\u0442\\u043e\", \"\\u044d\\u0442\\u043e\\u0442\", \"\\u044d\\u0442\\u043e\\u0442\"]}, \"R\": 30, \"lambda.step\": 0.01, \"plot.opts\": {\"xlab\": \"PC1\", \"ylab\": \"PC2\"}, \"topic.order\": [1, 2]};\n",
              "\n",
              "function LDAvis_load_lib(url, callback){\n",
              "  var s = document.createElement('script');\n",
              "  s.src = url;\n",
              "  s.async = true;\n",
              "  s.onreadystatechange = s.onload = callback;\n",
              "  s.onerror = function(){console.warn(\"failed to load library \" + url);};\n",
              "  document.getElementsByTagName(\"head\")[0].appendChild(s);\n",
              "}\n",
              "\n",
              "if(typeof(LDAvis) !== \"undefined\"){\n",
              "   // already loaded: just create the visualization\n",
              "   !function(LDAvis){\n",
              "       new LDAvis(\"#\" + \"ldavis_el9411321809299126568923217951\", ldavis_el9411321809299126568923217951_data);\n",
              "   }(LDAvis);\n",
              "}else if(typeof define === \"function\" && define.amd){\n",
              "   // require.js is available: use it to load d3/LDAvis\n",
              "   require.config({paths: {d3: \"https://d3js.org/d3.v5\"}});\n",
              "   require([\"d3\"], function(d3){\n",
              "      window.d3 = d3;\n",
              "      LDAvis_load_lib(\"https://cdn.jsdelivr.net/gh/bmabey/pyLDAvis@3.4.0/pyLDAvis/js/ldavis.v3.0.0.js\", function(){\n",
              "        new LDAvis(\"#\" + \"ldavis_el9411321809299126568923217951\", ldavis_el9411321809299126568923217951_data);\n",
              "      });\n",
              "    });\n",
              "}else{\n",
              "    // require.js not available: dynamically load d3 & LDAvis\n",
              "    LDAvis_load_lib(\"https://d3js.org/d3.v5.js\", function(){\n",
              "         LDAvis_load_lib(\"https://cdn.jsdelivr.net/gh/bmabey/pyLDAvis@3.4.0/pyLDAvis/js/ldavis.v3.0.0.js\", function(){\n",
              "                 new LDAvis(\"#\" + \"ldavis_el9411321809299126568923217951\", ldavis_el9411321809299126568923217951_data);\n",
              "            })\n",
              "         });\n",
              "}\n",
              "</script>"
            ]
          },
          "metadata": {},
          "execution_count": 137
        }
      ]
    },
    {
      "cell_type": "code",
      "source": [
        "print('Персплексия: ', np.exp(lda_2t.log_perplexity(corpus)))"
      ],
      "metadata": {
        "colab": {
          "base_uri": "https://localhost:8080/"
        },
        "id": "YHmmJrSk21sn",
        "outputId": "8b2ac030-e585-4699-d11e-23f5444d665a"
      },
      "execution_count": null,
      "outputs": [
        {
          "output_type": "stream",
          "name": "stderr",
          "text": [
            "/usr/local/lib/python3.10/dist-packages/ipykernel/ipkernel.py:283: DeprecationWarning: `should_run_async` will not call `transform_cell` automatically in the future. Please pass the result to `transformed_cell` argument and any exception that happen during thetransform in `preprocessing_exc_tuple` in IPython 7.17 and above.\n",
            "  and should_run_async(code)\n"
          ]
        },
        {
          "output_type": "stream",
          "name": "stdout",
          "text": [
            "Персплексия:  0.0003441216724921745\n"
          ]
        }
      ]
    },
    {
      "cell_type": "code",
      "source": [
        "coherence_model_lda_2t = CoherenceModel(model=lda_2t, texts=data['lemma_gr3'], dictionary=dictionary, coherence='c_v')\n",
        "coherence_lda_2t = coherence_model_lda_2t.get_coherence()\n",
        "print('Средняя когерентность: ', coherence_lda_2t)"
      ],
      "metadata": {
        "colab": {
          "base_uri": "https://localhost:8080/"
        },
        "id": "l5nSUngC4Vbw",
        "outputId": "774dd2bf-d798-44cc-ae54-fa7740cfe2dd"
      },
      "execution_count": null,
      "outputs": [
        {
          "output_type": "stream",
          "name": "stderr",
          "text": [
            "/usr/local/lib/python3.10/dist-packages/ipykernel/ipkernel.py:283: DeprecationWarning: `should_run_async` will not call `transform_cell` automatically in the future. Please pass the result to `transformed_cell` argument and any exception that happen during thetransform in `preprocessing_exc_tuple` in IPython 7.17 and above.\n",
            "  and should_run_async(code)\n"
          ]
        },
        {
          "output_type": "stream",
          "name": "stdout",
          "text": [
            "Средняя когерентность:  0.30231680558268215\n"
          ]
        }
      ]
    },
    {
      "cell_type": "markdown",
      "source": [
        "### Оптимальное количество тем"
      ],
      "metadata": {
        "id": "5zrOE8NGBR6S"
      }
    },
    {
      "cell_type": "code",
      "source": [
        "import matplotlib.pyplot as plt\n",
        "%matplotlib inline\n",
        "from tqdm.notebook import tqdm"
      ],
      "metadata": {
        "colab": {
          "base_uri": "https://localhost:8080/"
        },
        "id": "HSXddQgQ6DfS",
        "outputId": "049cb8bf-794d-4668-b7de-654fa05397ea"
      },
      "execution_count": null,
      "outputs": [
        {
          "output_type": "stream",
          "name": "stderr",
          "text": [
            "/usr/local/lib/python3.10/dist-packages/ipykernel/ipkernel.py:283: DeprecationWarning: `should_run_async` will not call `transform_cell` automatically in the future. Please pass the result to `transformed_cell` argument and any exception that happen during thetransform in `preprocessing_exc_tuple` in IPython 7.17 and above.\n",
            "  and should_run_async(code)\n"
          ]
        }
      ]
    },
    {
      "cell_type": "code",
      "source": [
        "topics_list = [7, 6, 5, 4, 3, 2]\n",
        "coherences = []\n",
        "\n",
        "for num in tqdm(topics_list):\n",
        "    lda = ldamodel.LdaModel(corpus, id2word=dictionary, num_topics=num, chunksize=50, update_every=1, passes=2)\n",
        "    coherences.append(CoherenceModel(model=lda, texts=data['lemma_gr3'], dictionary=dictionary, coherence='c_v').get_coherence())\n",
        "\n",
        "plt.plot(topics_list, coherences)\n",
        "plt.xlabel(\"Число тем\")\n",
        "plt.ylabel(\"Средняя когерентность\")\n",
        "plt.show()"
      ],
      "metadata": {
        "colab": {
          "base_uri": "https://localhost:8080/",
          "height": 538,
          "referenced_widgets": [
            "3f578bc513e64a359ae2cbe74d526238",
            "8a71e3b558c14cfa897fec7f7653b55a",
            "0e419e9edc7345d2812679fa57a57b0f",
            "4e2ab4cd87b743ee9eabafe139d2cf13",
            "6d3899dba8794e5ea940448164434e5c",
            "ca370dba48ac4e45abac9b7a2d030a9c",
            "6acb4b7290a14933b87565bd67107d6b",
            "603b5da1404b4e05bf434df3b0bcdc3a",
            "cbd33344e85740cfa82b1ed1c72fcfd5",
            "f826079d20704931a9c74206b5aed17c",
            "fcfae6c0a6b248929f37a647c35f36e7"
          ]
        },
        "id": "f8Ot64J9BbSL",
        "outputId": "daa1a291-58b8-47e2-adcc-34d44870262a"
      },
      "execution_count": null,
      "outputs": [
        {
          "output_type": "stream",
          "name": "stderr",
          "text": [
            "/usr/local/lib/python3.10/dist-packages/ipykernel/ipkernel.py:283: DeprecationWarning: `should_run_async` will not call `transform_cell` automatically in the future. Please pass the result to `transformed_cell` argument and any exception that happen during thetransform in `preprocessing_exc_tuple` in IPython 7.17 and above.\n",
            "  and should_run_async(code)\n"
          ]
        },
        {
          "output_type": "display_data",
          "data": {
            "text/plain": [
              "  0%|          | 0/6 [00:00<?, ?it/s]"
            ],
            "application/vnd.jupyter.widget-view+json": {
              "version_major": 2,
              "version_minor": 0,
              "model_id": "3f578bc513e64a359ae2cbe74d526238"
            }
          },
          "metadata": {}
        },
        {
          "output_type": "display_data",
          "data": {
            "text/plain": [
              "<Figure size 640x480 with 1 Axes>"
            ],
            "image/png": "[encoded data removed]"
          },
          "metadata": {}
        }
      ]
    },
    {
      "cell_type": "markdown",
      "source": [
        "В соответствии с значением когерентности оптимально разделять на три темы. В разделении на три темы не удаётся однозначно идентифицировать критерий разделения. Однако для первой темы можно выделить лексику характерную для описания времени, периода или планирования в т.ч. расписания. Вторая тема содержит лексику характерную для вопросов - значительная доля вопросительных слов. Третья тема содержит лексику характеризующую состояние - констатацию. Во всех трёх темах слова характеризующие негативный оттенок имеют лидирующие позиции - маркер использованный для замены негативных смайликов (\"негатив\"), а также обратная скобка. Разделить темы по признаку негатив/позитив (по назначению датасета) не получилось."
      ],
      "metadata": {
        "id": "l2a76rR8b058"
      }
    },
    {
      "cell_type": "code",
      "source": [],
      "metadata": {
        "id": "3nlZcvAlBwAe"
      },
      "execution_count": null,
      "outputs": []
    }
  ]
}