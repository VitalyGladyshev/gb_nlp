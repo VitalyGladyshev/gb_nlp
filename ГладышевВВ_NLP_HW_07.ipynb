{
  "nbformat": 4,
  "nbformat_minor": 0,
  "metadata": {
    "colab": {
      "provenance": [],
      "include_colab_link": true
    },
    "kernelspec": {
      "name": "python3",
      "display_name": "Python 3"
    },
    "accelerator": "GPU"
  },
  "cells": [
    {
      "cell_type": "markdown",
      "metadata": {
        "id": "view-in-github",
        "colab_type": "text"
      },
      "source": [
        "<a href=\"https://colab.research.google.com/github/VitalyGladyshev/gb_nlp/blob/main/%D0%93%D0%BB%D0%B0%D0%B4%D1%8B%D1%88%D0%B5%D0%B2%D0%92%D0%92_NLP_HW_07.ipynb\" target=\"_parent\"><img src=\"https://colab.research.google.com/assets/colab-badge.svg\" alt=\"Open In Colab\"/></a>"
      ]
    },
    {
      "cell_type": "markdown",
      "metadata": {
        "id": "Chtw3iPy5Y0i"
      },
      "source": [
        "# ДЗ 7 Гладышев ВВ"
      ]
    },
    {
      "cell_type": "markdown",
      "metadata": {
        "id": "Rtk-xhig51Yj"
      },
      "source": [
        "Берем отызывы за лето"
      ]
    },
    {
      "cell_type": "code",
      "metadata": {
        "id": "p0KJndXQ5PY8"
      },
      "source": [
        "import numpy as np\n",
        "import pandas as pd"
      ],
      "execution_count": null,
      "outputs": []
    },
    {
      "cell_type": "code",
      "metadata": {
        "id": "i75xAg-LHlGx"
      },
      "source": [
        "data = pd.read_excel(\"отзывы за лето.xls\")"
      ],
      "execution_count": null,
      "outputs": []
    },
    {
      "cell_type": "code",
      "metadata": {
        "id": "v-gnyAcqIS23",
        "outputId": "437333a6-43de-4252-dbda-4fc50fb13677",
        "colab": {
          "base_uri": "https://localhost:8080/",
          "height": 143
        }
      },
      "source": [
        "data.tail(3)"
      ],
      "execution_count": null,
      "outputs": [
        {
          "output_type": "execute_result",
          "data": {
            "text/plain": [
              "       Rating                                            Content        Date\n",
              "20656       4                                            Доволен  2017-06-01\n",
              "20657       1                         Песопаснасть, рут ни нужын  2017-06-01\n",
              "20658       5  Сбербанк бомбовая компания на сегодняшний день...  2017-06-01"
            ],
            "text/html": [
              "\n",
              "  <div id=\"df-fdc90858-82e4-412e-b02a-905d320968d0\" class=\"colab-df-container\">\n",
              "    <div>\n",
              "<style scoped>\n",
              "    .dataframe tbody tr th:only-of-type {\n",
              "        vertical-align: middle;\n",
              "    }\n",
              "\n",
              "    .dataframe tbody tr th {\n",
              "        vertical-align: top;\n",
              "    }\n",
              "\n",
              "    .dataframe thead th {\n",
              "        text-align: right;\n",
              "    }\n",
              "</style>\n",
              "<table border=\"1\" class=\"dataframe\">\n",
              "  <thead>\n",
              "    <tr style=\"text-align: right;\">\n",
              "      <th></th>\n",
              "      <th>Rating</th>\n",
              "      <th>Content</th>\n",
              "      <th>Date</th>\n",
              "    </tr>\n",
              "  </thead>\n",
              "  <tbody>\n",
              "    <tr>\n",
              "      <th>20656</th>\n",
              "      <td>4</td>\n",
              "      <td>Доволен</td>\n",
              "      <td>2017-06-01</td>\n",
              "    </tr>\n",
              "    <tr>\n",
              "      <th>20657</th>\n",
              "      <td>1</td>\n",
              "      <td>Песопаснасть, рут ни нужын</td>\n",
              "      <td>2017-06-01</td>\n",
              "    </tr>\n",
              "    <tr>\n",
              "      <th>20658</th>\n",
              "      <td>5</td>\n",
              "      <td>Сбербанк бомбовая компания на сегодняшний день...</td>\n",
              "      <td>2017-06-01</td>\n",
              "    </tr>\n",
              "  </tbody>\n",
              "</table>\n",
              "</div>\n",
              "    <div class=\"colab-df-buttons\">\n",
              "\n",
              "  <div class=\"colab-df-container\">\n",
              "    <button class=\"colab-df-convert\" onclick=\"convertToInteractive('df-fdc90858-82e4-412e-b02a-905d320968d0')\"\n",
              "            title=\"Convert this dataframe to an interactive table.\"\n",
              "            style=\"display:none;\">\n",
              "\n",
              "  <svg xmlns=\"http://www.w3.org/2000/svg\" height=\"24px\" viewBox=\"0 -960 960 960\">\n",
              "    <path d=\"M120-120v-720h720v720H120Zm60-500h600v-160H180v160Zm220 220h160v-160H400v160Zm0 220h160v-160H400v160ZM180-400h160v-160H180v160Zm440 0h160v-160H620v160ZM180-180h160v-160H180v160Zm440 0h160v-160H620v160Z\"/>\n",
              "  </svg>\n",
              "    </button>\n",
              "\n",
              "  <style>\n",
              "    .colab-df-container {\n",
              "      display:flex;\n",
              "      gap: 12px;\n",
              "    }\n",
              "\n",
              "    .colab-df-convert {\n",
              "      background-color: #E8F0FE;\n",
              "      border: none;\n",
              "      border-radius: 50%;\n",
              "      cursor: pointer;\n",
              "      display: none;\n",
              "      fill: #1967D2;\n",
              "      height: 32px;\n",
              "      padding: 0 0 0 0;\n",
              "      width: 32px;\n",
              "    }\n",
              "\n",
              "    .colab-df-convert:hover {\n",
              "      background-color: #E2EBFA;\n",
              "      box-shadow: 0px 1px 2px rgba(60, 64, 67, 0.3), 0px 1px 3px 1px rgba(60, 64, 67, 0.15);\n",
              "      fill: #174EA6;\n",
              "    }\n",
              "\n",
              "    .colab-df-buttons div {\n",
              "      margin-bottom: 4px;\n",
              "    }\n",
              "\n",
              "    [theme=dark] .colab-df-convert {\n",
              "      background-color: #3B4455;\n",
              "      fill: #D2E3FC;\n",
              "    }\n",
              "\n",
              "    [theme=dark] .colab-df-convert:hover {\n",
              "      background-color: #434B5C;\n",
              "      box-shadow: 0px 1px 3px 1px rgba(0, 0, 0, 0.15);\n",
              "      filter: drop-shadow(0px 1px 2px rgba(0, 0, 0, 0.3));\n",
              "      fill: #FFFFFF;\n",
              "    }\n",
              "  </style>\n",
              "\n",
              "    <script>\n",
              "      const buttonEl =\n",
              "        document.querySelector('#df-fdc90858-82e4-412e-b02a-905d320968d0 button.colab-df-convert');\n",
              "      buttonEl.style.display =\n",
              "        google.colab.kernel.accessAllowed ? 'block' : 'none';\n",
              "\n",
              "      async function convertToInteractive(key) {\n",
              "        const element = document.querySelector('#df-fdc90858-82e4-412e-b02a-905d320968d0');\n",
              "        const dataTable =\n",
              "          await google.colab.kernel.invokeFunction('convertToInteractive',\n",
              "                                                    [key], {});\n",
              "        if (!dataTable) return;\n",
              "\n",
              "        const docLinkHtml = 'Like what you see? Visit the ' +\n",
              "          '<a target=\"_blank\" href=https://colab.research.google.com/notebooks/data_table.ipynb>data table notebook</a>'\n",
              "          + ' to learn more about interactive tables.';\n",
              "        element.innerHTML = '';\n",
              "        dataTable['output_type'] = 'display_data';\n",
              "        await google.colab.output.renderOutput(dataTable, element);\n",
              "        const docLink = document.createElement('div');\n",
              "        docLink.innerHTML = docLinkHtml;\n",
              "        element.appendChild(docLink);\n",
              "      }\n",
              "    </script>\n",
              "  </div>\n",
              "\n",
              "\n",
              "<div id=\"df-91274215-53b6-47a4-99ed-6d75e31606a8\">\n",
              "  <button class=\"colab-df-quickchart\" onclick=\"quickchart('df-91274215-53b6-47a4-99ed-6d75e31606a8')\"\n",
              "            title=\"Suggest charts\"\n",
              "            style=\"display:none;\">\n",
              "\n",
              "<svg xmlns=\"http://www.w3.org/2000/svg\" height=\"24px\"viewBox=\"0 0 24 24\"\n",
              "     width=\"24px\">\n",
              "    <g>\n",
              "        <path d=\"M19 3H5c-1.1 0-2 .9-2 2v14c0 1.1.9 2 2 2h14c1.1 0 2-.9 2-2V5c0-1.1-.9-2-2-2zM9 17H7v-7h2v7zm4 0h-2V7h2v10zm4 0h-2v-4h2v4z\"/>\n",
              "    </g>\n",
              "</svg>\n",
              "  </button>\n",
              "\n",
              "<style>\n",
              "  .colab-df-quickchart {\n",
              "      --bg-color: #E8F0FE;\n",
              "      --fill-color: #1967D2;\n",
              "      --hover-bg-color: #E2EBFA;\n",
              "      --hover-fill-color: #174EA6;\n",
              "      --disabled-fill-color: #AAA;\n",
              "      --disabled-bg-color: #DDD;\n",
              "  }\n",
              "\n",
              "  [theme=dark] .colab-df-quickchart {\n",
              "      --bg-color: #3B4455;\n",
              "      --fill-color: #D2E3FC;\n",
              "      --hover-bg-color: #434B5C;\n",
              "      --hover-fill-color: #FFFFFF;\n",
              "      --disabled-bg-color: #3B4455;\n",
              "      --disabled-fill-color: #666;\n",
              "  }\n",
              "\n",
              "  .colab-df-quickchart {\n",
              "    background-color: var(--bg-color);\n",
              "    border: none;\n",
              "    border-radius: 50%;\n",
              "    cursor: pointer;\n",
              "    display: none;\n",
              "    fill: var(--fill-color);\n",
              "    height: 32px;\n",
              "    padding: 0;\n",
              "    width: 32px;\n",
              "  }\n",
              "\n",
              "  .colab-df-quickchart:hover {\n",
              "    background-color: var(--hover-bg-color);\n",
              "    box-shadow: 0 1px 2px rgba(60, 64, 67, 0.3), 0 1px 3px 1px rgba(60, 64, 67, 0.15);\n",
              "    fill: var(--button-hover-fill-color);\n",
              "  }\n",
              "\n",
              "  .colab-df-quickchart-complete:disabled,\n",
              "  .colab-df-quickchart-complete:disabled:hover {\n",
              "    background-color: var(--disabled-bg-color);\n",
              "    fill: var(--disabled-fill-color);\n",
              "    box-shadow: none;\n",
              "  }\n",
              "\n",
              "  .colab-df-spinner {\n",
              "    border: 2px solid var(--fill-color);\n",
              "    border-color: transparent;\n",
              "    border-bottom-color: var(--fill-color);\n",
              "    animation:\n",
              "      spin 1s steps(1) infinite;\n",
              "  }\n",
              "\n",
              "  @keyframes spin {\n",
              "    0% {\n",
              "      border-color: transparent;\n",
              "      border-bottom-color: var(--fill-color);\n",
              "      border-left-color: var(--fill-color);\n",
              "    }\n",
              "    20% {\n",
              "      border-color: transparent;\n",
              "      border-left-color: var(--fill-color);\n",
              "      border-top-color: var(--fill-color);\n",
              "    }\n",
              "    30% {\n",
              "      border-color: transparent;\n",
              "      border-left-color: var(--fill-color);\n",
              "      border-top-color: var(--fill-color);\n",
              "      border-right-color: var(--fill-color);\n",
              "    }\n",
              "    40% {\n",
              "      border-color: transparent;\n",
              "      border-right-color: var(--fill-color);\n",
              "      border-top-color: var(--fill-color);\n",
              "    }\n",
              "    60% {\n",
              "      border-color: transparent;\n",
              "      border-right-color: var(--fill-color);\n",
              "    }\n",
              "    80% {\n",
              "      border-color: transparent;\n",
              "      border-right-color: var(--fill-color);\n",
              "      border-bottom-color: var(--fill-color);\n",
              "    }\n",
              "    90% {\n",
              "      border-color: transparent;\n",
              "      border-bottom-color: var(--fill-color);\n",
              "    }\n",
              "  }\n",
              "</style>\n",
              "\n",
              "  <script>\n",
              "    async function quickchart(key) {\n",
              "      const quickchartButtonEl =\n",
              "        document.querySelector('#' + key + ' button');\n",
              "      quickchartButtonEl.disabled = true;  // To prevent multiple clicks.\n",
              "      quickchartButtonEl.classList.add('colab-df-spinner');\n",
              "      try {\n",
              "        const charts = await google.colab.kernel.invokeFunction(\n",
              "            'suggestCharts', [key], {});\n",
              "      } catch (error) {\n",
              "        console.error('Error during call to suggestCharts:', error);\n",
              "      }\n",
              "      quickchartButtonEl.classList.remove('colab-df-spinner');\n",
              "      quickchartButtonEl.classList.add('colab-df-quickchart-complete');\n",
              "    }\n",
              "    (() => {\n",
              "      let quickchartButtonEl =\n",
              "        document.querySelector('#df-91274215-53b6-47a4-99ed-6d75e31606a8 button');\n",
              "      quickchartButtonEl.style.display =\n",
              "        google.colab.kernel.accessAllowed ? 'block' : 'none';\n",
              "    })();\n",
              "  </script>\n",
              "</div>\n",
              "    </div>\n",
              "  </div>\n"
            ],
            "application/vnd.google.colaboratory.intrinsic+json": {
              "type": "dataframe",
              "repr_error": "'str' object has no attribute 'empty'"
            }
          },
          "metadata": {},
          "execution_count": 3
        }
      ]
    },
    {
      "cell_type": "code",
      "metadata": {
        "id": "xb52zeZlMCVJ",
        "outputId": "99ac1f34-68a0-408c-9ae4-a0d3f043bdec",
        "colab": {
          "base_uri": "https://localhost:8080/"
        }
      },
      "source": [
        "data.info()"
      ],
      "execution_count": null,
      "outputs": [
        {
          "output_type": "stream",
          "name": "stdout",
          "text": [
            "<class 'pandas.core.frame.DataFrame'>\n",
            "RangeIndex: 20659 entries, 0 to 20658\n",
            "Data columns (total 3 columns):\n",
            " #   Column   Non-Null Count  Dtype \n",
            "---  ------   --------------  ----- \n",
            " 0   Rating   20659 non-null  int64 \n",
            " 1   Content  20656 non-null  object\n",
            " 2   Date     20659 non-null  object\n",
            "dtypes: int64(1), object(2)\n",
            "memory usage: 484.3+ KB\n"
          ]
        }
      ]
    },
    {
      "cell_type": "code",
      "metadata": {
        "id": "i788krmrMXOn"
      },
      "source": [
        "from datetime import datetime"
      ],
      "execution_count": null,
      "outputs": []
    },
    {
      "cell_type": "code",
      "metadata": {
        "id": "Xj91F5bX53UX",
        "outputId": "a0369251-c913-4f90-9017-baed4bb0853a",
        "colab": {
          "base_uri": "https://localhost:8080/"
        }
      },
      "source": [
        "type(data[\"Date\"].values[0])"
      ],
      "execution_count": null,
      "outputs": [
        {
          "output_type": "execute_result",
          "data": {
            "text/plain": [
              "str"
            ]
          },
          "metadata": {},
          "execution_count": 6
        }
      ]
    },
    {
      "cell_type": "code",
      "metadata": {
        "id": "CAvMFxzVMOUP",
        "outputId": "c234db75-4768-48c2-a3fb-339df244d538",
        "colab": {
          "base_uri": "https://localhost:8080/"
        }
      },
      "source": [
        "datetime_object = datetime.strptime(data[\"Date\"].values[0], '%Y-%m-%d').date()\n",
        "datetime_object"
      ],
      "execution_count": null,
      "outputs": [
        {
          "output_type": "execute_result",
          "data": {
            "text/plain": [
              "datetime.date(2017, 8, 14)"
            ]
          },
          "metadata": {},
          "execution_count": 7
        }
      ]
    },
    {
      "cell_type": "code",
      "metadata": {
        "id": "OcAIYgDvPac3",
        "outputId": "281e1164-6169-4aed-d9ea-32e7fbe0fc8f",
        "colab": {
          "base_uri": "https://localhost:8080/",
          "height": 206
        }
      },
      "source": [
        "data[\"Year\"] = [datetime.strptime(dt, '%Y-%m-%d').year for dt in data[\"Date\"].values]\n",
        "data[\"Month\"] = [datetime.strptime(dt, '%Y-%m-%d').month for dt in data[\"Date\"].values]\n",
        "data[\"Day\"] = [datetime.strptime(dt, '%Y-%m-%d').day for dt in data[\"Date\"].values]\n",
        "data.head()"
      ],
      "execution_count": null,
      "outputs": [
        {
          "output_type": "execute_result",
          "data": {
            "text/plain": [
              "   Rating                                            Content        Date  \\\n",
              "0       5                                     It just works!  2017-08-14   \n",
              "1       4  В целом удобноное приложение...из минусов хотя...  2017-08-14   \n",
              "2       5                                        Отлично все  2017-08-14   \n",
              "3       5  Стал зависать на 1% работы антивируса. Дальше ...  2017-08-14   \n",
              "4       5                     Очень удобно, работает быстро.  2017-08-14   \n",
              "\n",
              "   Year  Month  Day  \n",
              "0  2017      8   14  \n",
              "1  2017      8   14  \n",
              "2  2017      8   14  \n",
              "3  2017      8   14  \n",
              "4  2017      8   14  "
            ],
            "text/html": [
              "\n",
              "  <div id=\"df-c80d2c0b-8eec-436b-bccb-1bf5ab64dd5a\" class=\"colab-df-container\">\n",
              "    <div>\n",
              "<style scoped>\n",
              "    .dataframe tbody tr th:only-of-type {\n",
              "        vertical-align: middle;\n",
              "    }\n",
              "\n",
              "    .dataframe tbody tr th {\n",
              "        vertical-align: top;\n",
              "    }\n",
              "\n",
              "    .dataframe thead th {\n",
              "        text-align: right;\n",
              "    }\n",
              "</style>\n",
              "<table border=\"1\" class=\"dataframe\">\n",
              "  <thead>\n",
              "    <tr style=\"text-align: right;\">\n",
              "      <th></th>\n",
              "      <th>Rating</th>\n",
              "      <th>Content</th>\n",
              "      <th>Date</th>\n",
              "      <th>Year</th>\n",
              "      <th>Month</th>\n",
              "      <th>Day</th>\n",
              "    </tr>\n",
              "  </thead>\n",
              "  <tbody>\n",
              "    <tr>\n",
              "      <th>0</th>\n",
              "      <td>5</td>\n",
              "      <td>It just works!</td>\n",
              "      <td>2017-08-14</td>\n",
              "      <td>2017</td>\n",
              "      <td>8</td>\n",
              "      <td>14</td>\n",
              "    </tr>\n",
              "    <tr>\n",
              "      <th>1</th>\n",
              "      <td>4</td>\n",
              "      <td>В целом удобноное приложение...из минусов хотя...</td>\n",
              "      <td>2017-08-14</td>\n",
              "      <td>2017</td>\n",
              "      <td>8</td>\n",
              "      <td>14</td>\n",
              "    </tr>\n",
              "    <tr>\n",
              "      <th>2</th>\n",
              "      <td>5</td>\n",
              "      <td>Отлично все</td>\n",
              "      <td>2017-08-14</td>\n",
              "      <td>2017</td>\n",
              "      <td>8</td>\n",
              "      <td>14</td>\n",
              "    </tr>\n",
              "    <tr>\n",
              "      <th>3</th>\n",
              "      <td>5</td>\n",
              "      <td>Стал зависать на 1% работы антивируса. Дальше ...</td>\n",
              "      <td>2017-08-14</td>\n",
              "      <td>2017</td>\n",
              "      <td>8</td>\n",
              "      <td>14</td>\n",
              "    </tr>\n",
              "    <tr>\n",
              "      <th>4</th>\n",
              "      <td>5</td>\n",
              "      <td>Очень удобно, работает быстро.</td>\n",
              "      <td>2017-08-14</td>\n",
              "      <td>2017</td>\n",
              "      <td>8</td>\n",
              "      <td>14</td>\n",
              "    </tr>\n",
              "  </tbody>\n",
              "</table>\n",
              "</div>\n",
              "    <div class=\"colab-df-buttons\">\n",
              "\n",
              "  <div class=\"colab-df-container\">\n",
              "    <button class=\"colab-df-convert\" onclick=\"convertToInteractive('df-c80d2c0b-8eec-436b-bccb-1bf5ab64dd5a')\"\n",
              "            title=\"Convert this dataframe to an interactive table.\"\n",
              "            style=\"display:none;\">\n",
              "\n",
              "  <svg xmlns=\"http://www.w3.org/2000/svg\" height=\"24px\" viewBox=\"0 -960 960 960\">\n",
              "    <path d=\"M120-120v-720h720v720H120Zm60-500h600v-160H180v160Zm220 220h160v-160H400v160Zm0 220h160v-160H400v160ZM180-400h160v-160H180v160Zm440 0h160v-160H620v160ZM180-180h160v-160H180v160Zm440 0h160v-160H620v160Z\"/>\n",
              "  </svg>\n",
              "    </button>\n",
              "\n",
              "  <style>\n",
              "    .colab-df-container {\n",
              "      display:flex;\n",
              "      gap: 12px;\n",
              "    }\n",
              "\n",
              "    .colab-df-convert {\n",
              "      background-color: #E8F0FE;\n",
              "      border: none;\n",
              "      border-radius: 50%;\n",
              "      cursor: pointer;\n",
              "      display: none;\n",
              "      fill: #1967D2;\n",
              "      height: 32px;\n",
              "      padding: 0 0 0 0;\n",
              "      width: 32px;\n",
              "    }\n",
              "\n",
              "    .colab-df-convert:hover {\n",
              "      background-color: #E2EBFA;\n",
              "      box-shadow: 0px 1px 2px rgba(60, 64, 67, 0.3), 0px 1px 3px 1px rgba(60, 64, 67, 0.15);\n",
              "      fill: #174EA6;\n",
              "    }\n",
              "\n",
              "    .colab-df-buttons div {\n",
              "      margin-bottom: 4px;\n",
              "    }\n",
              "\n",
              "    [theme=dark] .colab-df-convert {\n",
              "      background-color: #3B4455;\n",
              "      fill: #D2E3FC;\n",
              "    }\n",
              "\n",
              "    [theme=dark] .colab-df-convert:hover {\n",
              "      background-color: #434B5C;\n",
              "      box-shadow: 0px 1px 3px 1px rgba(0, 0, 0, 0.15);\n",
              "      filter: drop-shadow(0px 1px 2px rgba(0, 0, 0, 0.3));\n",
              "      fill: #FFFFFF;\n",
              "    }\n",
              "  </style>\n",
              "\n",
              "    <script>\n",
              "      const buttonEl =\n",
              "        document.querySelector('#df-c80d2c0b-8eec-436b-bccb-1bf5ab64dd5a button.colab-df-convert');\n",
              "      buttonEl.style.display =\n",
              "        google.colab.kernel.accessAllowed ? 'block' : 'none';\n",
              "\n",
              "      async function convertToInteractive(key) {\n",
              "        const element = document.querySelector('#df-c80d2c0b-8eec-436b-bccb-1bf5ab64dd5a');\n",
              "        const dataTable =\n",
              "          await google.colab.kernel.invokeFunction('convertToInteractive',\n",
              "                                                    [key], {});\n",
              "        if (!dataTable) return;\n",
              "\n",
              "        const docLinkHtml = 'Like what you see? Visit the ' +\n",
              "          '<a target=\"_blank\" href=https://colab.research.google.com/notebooks/data_table.ipynb>data table notebook</a>'\n",
              "          + ' to learn more about interactive tables.';\n",
              "        element.innerHTML = '';\n",
              "        dataTable['output_type'] = 'display_data';\n",
              "        await google.colab.output.renderOutput(dataTable, element);\n",
              "        const docLink = document.createElement('div');\n",
              "        docLink.innerHTML = docLinkHtml;\n",
              "        element.appendChild(docLink);\n",
              "      }\n",
              "    </script>\n",
              "  </div>\n",
              "\n",
              "\n",
              "<div id=\"df-4d5d3baa-4cc2-4f3b-a164-9c356afdfa84\">\n",
              "  <button class=\"colab-df-quickchart\" onclick=\"quickchart('df-4d5d3baa-4cc2-4f3b-a164-9c356afdfa84')\"\n",
              "            title=\"Suggest charts\"\n",
              "            style=\"display:none;\">\n",
              "\n",
              "<svg xmlns=\"http://www.w3.org/2000/svg\" height=\"24px\"viewBox=\"0 0 24 24\"\n",
              "     width=\"24px\">\n",
              "    <g>\n",
              "        <path d=\"M19 3H5c-1.1 0-2 .9-2 2v14c0 1.1.9 2 2 2h14c1.1 0 2-.9 2-2V5c0-1.1-.9-2-2-2zM9 17H7v-7h2v7zm4 0h-2V7h2v10zm4 0h-2v-4h2v4z\"/>\n",
              "    </g>\n",
              "</svg>\n",
              "  </button>\n",
              "\n",
              "<style>\n",
              "  .colab-df-quickchart {\n",
              "      --bg-color: #E8F0FE;\n",
              "      --fill-color: #1967D2;\n",
              "      --hover-bg-color: #E2EBFA;\n",
              "      --hover-fill-color: #174EA6;\n",
              "      --disabled-fill-color: #AAA;\n",
              "      --disabled-bg-color: #DDD;\n",
              "  }\n",
              "\n",
              "  [theme=dark] .colab-df-quickchart {\n",
              "      --bg-color: #3B4455;\n",
              "      --fill-color: #D2E3FC;\n",
              "      --hover-bg-color: #434B5C;\n",
              "      --hover-fill-color: #FFFFFF;\n",
              "      --disabled-bg-color: #3B4455;\n",
              "      --disabled-fill-color: #666;\n",
              "  }\n",
              "\n",
              "  .colab-df-quickchart {\n",
              "    background-color: var(--bg-color);\n",
              "    border: none;\n",
              "    border-radius: 50%;\n",
              "    cursor: pointer;\n",
              "    display: none;\n",
              "    fill: var(--fill-color);\n",
              "    height: 32px;\n",
              "    padding: 0;\n",
              "    width: 32px;\n",
              "  }\n",
              "\n",
              "  .colab-df-quickchart:hover {\n",
              "    background-color: var(--hover-bg-color);\n",
              "    box-shadow: 0 1px 2px rgba(60, 64, 67, 0.3), 0 1px 3px 1px rgba(60, 64, 67, 0.15);\n",
              "    fill: var(--button-hover-fill-color);\n",
              "  }\n",
              "\n",
              "  .colab-df-quickchart-complete:disabled,\n",
              "  .colab-df-quickchart-complete:disabled:hover {\n",
              "    background-color: var(--disabled-bg-color);\n",
              "    fill: var(--disabled-fill-color);\n",
              "    box-shadow: none;\n",
              "  }\n",
              "\n",
              "  .colab-df-spinner {\n",
              "    border: 2px solid var(--fill-color);\n",
              "    border-color: transparent;\n",
              "    border-bottom-color: var(--fill-color);\n",
              "    animation:\n",
              "      spin 1s steps(1) infinite;\n",
              "  }\n",
              "\n",
              "  @keyframes spin {\n",
              "    0% {\n",
              "      border-color: transparent;\n",
              "      border-bottom-color: var(--fill-color);\n",
              "      border-left-color: var(--fill-color);\n",
              "    }\n",
              "    20% {\n",
              "      border-color: transparent;\n",
              "      border-left-color: var(--fill-color);\n",
              "      border-top-color: var(--fill-color);\n",
              "    }\n",
              "    30% {\n",
              "      border-color: transparent;\n",
              "      border-left-color: var(--fill-color);\n",
              "      border-top-color: var(--fill-color);\n",
              "      border-right-color: var(--fill-color);\n",
              "    }\n",
              "    40% {\n",
              "      border-color: transparent;\n",
              "      border-right-color: var(--fill-color);\n",
              "      border-top-color: var(--fill-color);\n",
              "    }\n",
              "    60% {\n",
              "      border-color: transparent;\n",
              "      border-right-color: var(--fill-color);\n",
              "    }\n",
              "    80% {\n",
              "      border-color: transparent;\n",
              "      border-right-color: var(--fill-color);\n",
              "      border-bottom-color: var(--fill-color);\n",
              "    }\n",
              "    90% {\n",
              "      border-color: transparent;\n",
              "      border-bottom-color: var(--fill-color);\n",
              "    }\n",
              "  }\n",
              "</style>\n",
              "\n",
              "  <script>\n",
              "    async function quickchart(key) {\n",
              "      const quickchartButtonEl =\n",
              "        document.querySelector('#' + key + ' button');\n",
              "      quickchartButtonEl.disabled = true;  // To prevent multiple clicks.\n",
              "      quickchartButtonEl.classList.add('colab-df-spinner');\n",
              "      try {\n",
              "        const charts = await google.colab.kernel.invokeFunction(\n",
              "            'suggestCharts', [key], {});\n",
              "      } catch (error) {\n",
              "        console.error('Error during call to suggestCharts:', error);\n",
              "      }\n",
              "      quickchartButtonEl.classList.remove('colab-df-spinner');\n",
              "      quickchartButtonEl.classList.add('colab-df-quickchart-complete');\n",
              "    }\n",
              "    (() => {\n",
              "      let quickchartButtonEl =\n",
              "        document.querySelector('#df-4d5d3baa-4cc2-4f3b-a164-9c356afdfa84 button');\n",
              "      quickchartButtonEl.style.display =\n",
              "        google.colab.kernel.accessAllowed ? 'block' : 'none';\n",
              "    })();\n",
              "  </script>\n",
              "</div>\n",
              "    </div>\n",
              "  </div>\n"
            ],
            "application/vnd.google.colaboratory.intrinsic+json": {
              "type": "dataframe",
              "variable_name": "data",
              "repr_error": "'str' object has no attribute 'empty'"
            }
          },
          "metadata": {},
          "execution_count": 8
        }
      ]
    },
    {
      "cell_type": "markdown",
      "metadata": {
        "id": "FAsn6Ii159NO"
      },
      "source": [
        "1. Учим conv сеть для классификации"
      ]
    },
    {
      "cell_type": "code",
      "metadata": {
        "id": "-6jEymp-XwpD",
        "outputId": "2f965531-699d-4ae6-b1e7-d37d77e25116",
        "colab": {
          "base_uri": "https://localhost:8080/"
        }
      },
      "source": [
        "!pip install stop_words"
      ],
      "execution_count": null,
      "outputs": [
        {
          "output_type": "stream",
          "name": "stdout",
          "text": [
            "Collecting stop_words\n",
            "  Downloading stop-words-2018.7.23.tar.gz (31 kB)\n",
            "  Preparing metadata (setup.py) ... \u001b[?25l\u001b[?25hdone\n",
            "Building wheels for collected packages: stop_words\n",
            "  Building wheel for stop_words (setup.py) ... \u001b[?25l\u001b[?25hdone\n",
            "  Created wheel for stop_words: filename=stop_words-2018.7.23-py3-none-any.whl size=32895 sha256=1aa041985bb7cdcc6fc2967078be104966db45af7b2c4c5e3bac536bfb0f231b\n",
            "  Stored in directory: /root/.cache/pip/wheels/d0/1a/23/f12552a50cb09bcc1694a5ebb6c2cd5f2a0311de2b8c3d9a89\n",
            "Successfully built stop_words\n",
            "Installing collected packages: stop_words\n",
            "Successfully installed stop_words-2018.7.23\n"
          ]
        }
      ]
    },
    {
      "cell_type": "code",
      "metadata": {
        "id": "iwnxScYvX4cP",
        "outputId": "2845ec53-090b-4525-c2b5-6dfe0a469758",
        "colab": {
          "base_uri": "https://localhost:8080/"
        }
      },
      "source": [
        "!pip install pymorphy2"
      ],
      "execution_count": null,
      "outputs": [
        {
          "output_type": "stream",
          "name": "stdout",
          "text": [
            "Collecting pymorphy2\n",
            "  Downloading pymorphy2-0.9.1-py3-none-any.whl (55 kB)\n",
            "\u001b[?25l     \u001b[90m━━━━━━━━━━━━━━━━━━━━━━━━━━━━━━━━━━━━━━━━\u001b[0m \u001b[32m0.0/55.5 kB\u001b[0m \u001b[31m?\u001b[0m eta \u001b[36m-:--:--\u001b[0m\r\u001b[2K     \u001b[91m━━━━━━━━━━━━━━━━━━━━━━\u001b[0m\u001b[90m╺\u001b[0m\u001b[90m━━━━━━━━━━━━━━━━━\u001b[0m \u001b[32m30.7/55.5 kB\u001b[0m \u001b[31m979.6 kB/s\u001b[0m eta \u001b[36m0:00:01\u001b[0m\r\u001b[2K     \u001b[90m━━━━━━━━━━━━━━━━━━━━━━━━━━━━━━━━━━━━━━━━\u001b[0m \u001b[32m55.5/55.5 kB\u001b[0m \u001b[31m907.6 kB/s\u001b[0m eta \u001b[36m0:00:00\u001b[0m\n",
            "\u001b[?25hCollecting dawg-python>=0.7.1 (from pymorphy2)\n",
            "  Downloading DAWG_Python-0.7.2-py2.py3-none-any.whl (11 kB)\n",
            "Collecting pymorphy2-dicts-ru<3.0,>=2.4 (from pymorphy2)\n",
            "  Downloading pymorphy2_dicts_ru-2.4.417127.4579844-py2.py3-none-any.whl (8.2 MB)\n",
            "\u001b[2K     \u001b[90m━━━━━━━━━━━━━━━━━━━━━━━━━━━━━━━━━━━━━━━━\u001b[0m \u001b[32m8.2/8.2 MB\u001b[0m \u001b[31m27.6 MB/s\u001b[0m eta \u001b[36m0:00:00\u001b[0m\n",
            "\u001b[?25hCollecting docopt>=0.6 (from pymorphy2)\n",
            "  Downloading docopt-0.6.2.tar.gz (25 kB)\n",
            "  Preparing metadata (setup.py) ... \u001b[?25l\u001b[?25hdone\n",
            "Building wheels for collected packages: docopt\n",
            "  Building wheel for docopt (setup.py) ... \u001b[?25l\u001b[?25hdone\n",
            "  Created wheel for docopt: filename=docopt-0.6.2-py2.py3-none-any.whl size=13706 sha256=1815c6b64cdcaa2df4710fda907f8712be66c98413f6db1e814ccaeba3e9c5ec\n",
            "  Stored in directory: /root/.cache/pip/wheels/fc/ab/d4/5da2067ac95b36618c629a5f93f809425700506f72c9732fac\n",
            "Successfully built docopt\n",
            "Installing collected packages: pymorphy2-dicts-ru, docopt, dawg-python, pymorphy2\n",
            "Successfully installed dawg-python-0.7.2 docopt-0.6.2 pymorphy2-0.9.1 pymorphy2-dicts-ru-2.4.417127.4579844\n"
          ]
        }
      ]
    },
    {
      "cell_type": "code",
      "metadata": {
        "id": "ucNaivR2QROz"
      },
      "source": [
        "from string import punctuation\n",
        "from stop_words import get_stop_words\n",
        "from pymorphy2 import MorphAnalyzer\n",
        "import re"
      ],
      "execution_count": null,
      "outputs": []
    },
    {
      "cell_type": "code",
      "metadata": {
        "id": "SXMHO2b2X-qz"
      },
      "source": [
        "sw = set(get_stop_words(\"ru\"))\n",
        "exclude = set(punctuation)\n",
        "morpher = MorphAnalyzer()\n",
        "\n",
        "def preprocess_text(txt):\n",
        "    txt = str(txt)\n",
        "    txt = \"\".join(c for c in txt if c not in exclude)\n",
        "    txt = txt.lower()\n",
        "    txt = re.sub(\"\\sне\", \"не\", txt)\n",
        "    txt = [morpher.parse(word)[0].normal_form for word in txt.split() if word not in sw]\n",
        "    return \" \".join(txt)"
      ],
      "execution_count": null,
      "outputs": []
    },
    {
      "cell_type": "code",
      "metadata": {
        "id": "SOkyYuOmF7ev"
      },
      "source": [
        "# for word in words:\n",
        "#     print(word, [p.normal_form for p in morph.parse(word)])"
      ],
      "execution_count": null,
      "outputs": []
    },
    {
      "cell_type": "code",
      "metadata": {
        "id": "AmQeECLAIUGT"
      },
      "source": [
        "# sw = set(get_stop_words(\"ru\"))\n",
        "# exclude = set(punctuation)\n",
        "# morpher = MorphAnalyzer()\n",
        "\n",
        "# def preprocess_text(txt):\n",
        "#     txt = str(txt)\n",
        "#     txt = \"\".join(c for c in txt if c not in exclude)\n",
        "#     txt = txt.lower()\n",
        "#     txt = re.sub(\"\\sне\", \"не\", txt)\n",
        "#     txt = [str(wd.normal_form) for word in txt.split() for wd in morpher.parse(word) if word not in sw]   # txt = [morpher.parse(word)[0].normal_form for word in txt.split() if word not in sw]\n",
        "#     return \" \".join(txt)"
      ],
      "execution_count": null,
      "outputs": []
    },
    {
      "cell_type": "code",
      "metadata": {
        "id": "qqWBsdsxX-nm",
        "outputId": "e6375dc8-f259-4bf7-c306-a5924af77384",
        "colab": {
          "base_uri": "https://localhost:8080/",
          "height": 293
        }
      },
      "source": [
        "data['Content_prep'] = data['Content'].apply(preprocess_text)\n",
        "data.tail()"
      ],
      "execution_count": null,
      "outputs": [
        {
          "output_type": "execute_result",
          "data": {
            "text/plain": [
              "       Rating                                            Content        Date  \\\n",
              "20654       1  Ну и шляпа,с роот правами бесполезная прога,ра...  2017-06-01   \n",
              "20655       5                                                 Ок  2017-06-01   \n",
              "20656       4                                            Доволен  2017-06-01   \n",
              "20657       1                         Песопаснасть, рут ни нужын  2017-06-01   \n",
              "20658       5  Сбербанк бомбовая компания на сегодняшний день...  2017-06-01   \n",
              "\n",
              "       Year  Month  Day                                       Content_prep  \n",
              "20654  2017      6    1  шляпас роот право бесполезный прогаразрабыв ох...  \n",
              "20655  2017      6    1                                              около  \n",
              "20656  2017      6    1                                          довольный  \n",
              "20657  2017      6    1                            песопаснастя рута нужын  \n",
              "20658  2017      6    1  сбербанк бомбовый компания сегодняшний лидер б...  "
            ],
            "text/html": [
              "\n",
              "  <div id=\"df-d65cdae3-b6c6-4178-9561-653d1729af52\" class=\"colab-df-container\">\n",
              "    <div>\n",
              "<style scoped>\n",
              "    .dataframe tbody tr th:only-of-type {\n",
              "        vertical-align: middle;\n",
              "    }\n",
              "\n",
              "    .dataframe tbody tr th {\n",
              "        vertical-align: top;\n",
              "    }\n",
              "\n",
              "    .dataframe thead th {\n",
              "        text-align: right;\n",
              "    }\n",
              "</style>\n",
              "<table border=\"1\" class=\"dataframe\">\n",
              "  <thead>\n",
              "    <tr style=\"text-align: right;\">\n",
              "      <th></th>\n",
              "      <th>Rating</th>\n",
              "      <th>Content</th>\n",
              "      <th>Date</th>\n",
              "      <th>Year</th>\n",
              "      <th>Month</th>\n",
              "      <th>Day</th>\n",
              "      <th>Content_prep</th>\n",
              "    </tr>\n",
              "  </thead>\n",
              "  <tbody>\n",
              "    <tr>\n",
              "      <th>20654</th>\n",
              "      <td>1</td>\n",
              "      <td>Ну и шляпа,с роот правами бесполезная прога,ра...</td>\n",
              "      <td>2017-06-01</td>\n",
              "      <td>2017</td>\n",
              "      <td>6</td>\n",
              "      <td>1</td>\n",
              "      <td>шляпас роот право бесполезный прогаразрабыв ох...</td>\n",
              "    </tr>\n",
              "    <tr>\n",
              "      <th>20655</th>\n",
              "      <td>5</td>\n",
              "      <td>Ок</td>\n",
              "      <td>2017-06-01</td>\n",
              "      <td>2017</td>\n",
              "      <td>6</td>\n",
              "      <td>1</td>\n",
              "      <td>около</td>\n",
              "    </tr>\n",
              "    <tr>\n",
              "      <th>20656</th>\n",
              "      <td>4</td>\n",
              "      <td>Доволен</td>\n",
              "      <td>2017-06-01</td>\n",
              "      <td>2017</td>\n",
              "      <td>6</td>\n",
              "      <td>1</td>\n",
              "      <td>довольный</td>\n",
              "    </tr>\n",
              "    <tr>\n",
              "      <th>20657</th>\n",
              "      <td>1</td>\n",
              "      <td>Песопаснасть, рут ни нужын</td>\n",
              "      <td>2017-06-01</td>\n",
              "      <td>2017</td>\n",
              "      <td>6</td>\n",
              "      <td>1</td>\n",
              "      <td>песопаснастя рута нужын</td>\n",
              "    </tr>\n",
              "    <tr>\n",
              "      <th>20658</th>\n",
              "      <td>5</td>\n",
              "      <td>Сбербанк бомбовая компания на сегодняшний день...</td>\n",
              "      <td>2017-06-01</td>\n",
              "      <td>2017</td>\n",
              "      <td>6</td>\n",
              "      <td>1</td>\n",
              "      <td>сбербанк бомбовый компания сегодняшний лидер б...</td>\n",
              "    </tr>\n",
              "  </tbody>\n",
              "</table>\n",
              "</div>\n",
              "    <div class=\"colab-df-buttons\">\n",
              "\n",
              "  <div class=\"colab-df-container\">\n",
              "    <button class=\"colab-df-convert\" onclick=\"convertToInteractive('df-d65cdae3-b6c6-4178-9561-653d1729af52')\"\n",
              "            title=\"Convert this dataframe to an interactive table.\"\n",
              "            style=\"display:none;\">\n",
              "\n",
              "  <svg xmlns=\"http://www.w3.org/2000/svg\" height=\"24px\" viewBox=\"0 -960 960 960\">\n",
              "    <path d=\"M120-120v-720h720v720H120Zm60-500h600v-160H180v160Zm220 220h160v-160H400v160Zm0 220h160v-160H400v160ZM180-400h160v-160H180v160Zm440 0h160v-160H620v160ZM180-180h160v-160H180v160Zm440 0h160v-160H620v160Z\"/>\n",
              "  </svg>\n",
              "    </button>\n",
              "\n",
              "  <style>\n",
              "    .colab-df-container {\n",
              "      display:flex;\n",
              "      gap: 12px;\n",
              "    }\n",
              "\n",
              "    .colab-df-convert {\n",
              "      background-color: #E8F0FE;\n",
              "      border: none;\n",
              "      border-radius: 50%;\n",
              "      cursor: pointer;\n",
              "      display: none;\n",
              "      fill: #1967D2;\n",
              "      height: 32px;\n",
              "      padding: 0 0 0 0;\n",
              "      width: 32px;\n",
              "    }\n",
              "\n",
              "    .colab-df-convert:hover {\n",
              "      background-color: #E2EBFA;\n",
              "      box-shadow: 0px 1px 2px rgba(60, 64, 67, 0.3), 0px 1px 3px 1px rgba(60, 64, 67, 0.15);\n",
              "      fill: #174EA6;\n",
              "    }\n",
              "\n",
              "    .colab-df-buttons div {\n",
              "      margin-bottom: 4px;\n",
              "    }\n",
              "\n",
              "    [theme=dark] .colab-df-convert {\n",
              "      background-color: #3B4455;\n",
              "      fill: #D2E3FC;\n",
              "    }\n",
              "\n",
              "    [theme=dark] .colab-df-convert:hover {\n",
              "      background-color: #434B5C;\n",
              "      box-shadow: 0px 1px 3px 1px rgba(0, 0, 0, 0.15);\n",
              "      filter: drop-shadow(0px 1px 2px rgba(0, 0, 0, 0.3));\n",
              "      fill: #FFFFFF;\n",
              "    }\n",
              "  </style>\n",
              "\n",
              "    <script>\n",
              "      const buttonEl =\n",
              "        document.querySelector('#df-d65cdae3-b6c6-4178-9561-653d1729af52 button.colab-df-convert');\n",
              "      buttonEl.style.display =\n",
              "        google.colab.kernel.accessAllowed ? 'block' : 'none';\n",
              "\n",
              "      async function convertToInteractive(key) {\n",
              "        const element = document.querySelector('#df-d65cdae3-b6c6-4178-9561-653d1729af52');\n",
              "        const dataTable =\n",
              "          await google.colab.kernel.invokeFunction('convertToInteractive',\n",
              "                                                    [key], {});\n",
              "        if (!dataTable) return;\n",
              "\n",
              "        const docLinkHtml = 'Like what you see? Visit the ' +\n",
              "          '<a target=\"_blank\" href=https://colab.research.google.com/notebooks/data_table.ipynb>data table notebook</a>'\n",
              "          + ' to learn more about interactive tables.';\n",
              "        element.innerHTML = '';\n",
              "        dataTable['output_type'] = 'display_data';\n",
              "        await google.colab.output.renderOutput(dataTable, element);\n",
              "        const docLink = document.createElement('div');\n",
              "        docLink.innerHTML = docLinkHtml;\n",
              "        element.appendChild(docLink);\n",
              "      }\n",
              "    </script>\n",
              "  </div>\n",
              "\n",
              "\n",
              "<div id=\"df-45673452-a67b-4a73-a00d-33ab4d0a03c6\">\n",
              "  <button class=\"colab-df-quickchart\" onclick=\"quickchart('df-45673452-a67b-4a73-a00d-33ab4d0a03c6')\"\n",
              "            title=\"Suggest charts\"\n",
              "            style=\"display:none;\">\n",
              "\n",
              "<svg xmlns=\"http://www.w3.org/2000/svg\" height=\"24px\"viewBox=\"0 0 24 24\"\n",
              "     width=\"24px\">\n",
              "    <g>\n",
              "        <path d=\"M19 3H5c-1.1 0-2 .9-2 2v14c0 1.1.9 2 2 2h14c1.1 0 2-.9 2-2V5c0-1.1-.9-2-2-2zM9 17H7v-7h2v7zm4 0h-2V7h2v10zm4 0h-2v-4h2v4z\"/>\n",
              "    </g>\n",
              "</svg>\n",
              "  </button>\n",
              "\n",
              "<style>\n",
              "  .colab-df-quickchart {\n",
              "      --bg-color: #E8F0FE;\n",
              "      --fill-color: #1967D2;\n",
              "      --hover-bg-color: #E2EBFA;\n",
              "      --hover-fill-color: #174EA6;\n",
              "      --disabled-fill-color: #AAA;\n",
              "      --disabled-bg-color: #DDD;\n",
              "  }\n",
              "\n",
              "  [theme=dark] .colab-df-quickchart {\n",
              "      --bg-color: #3B4455;\n",
              "      --fill-color: #D2E3FC;\n",
              "      --hover-bg-color: #434B5C;\n",
              "      --hover-fill-color: #FFFFFF;\n",
              "      --disabled-bg-color: #3B4455;\n",
              "      --disabled-fill-color: #666;\n",
              "  }\n",
              "\n",
              "  .colab-df-quickchart {\n",
              "    background-color: var(--bg-color);\n",
              "    border: none;\n",
              "    border-radius: 50%;\n",
              "    cursor: pointer;\n",
              "    display: none;\n",
              "    fill: var(--fill-color);\n",
              "    height: 32px;\n",
              "    padding: 0;\n",
              "    width: 32px;\n",
              "  }\n",
              "\n",
              "  .colab-df-quickchart:hover {\n",
              "    background-color: var(--hover-bg-color);\n",
              "    box-shadow: 0 1px 2px rgba(60, 64, 67, 0.3), 0 1px 3px 1px rgba(60, 64, 67, 0.15);\n",
              "    fill: var(--button-hover-fill-color);\n",
              "  }\n",
              "\n",
              "  .colab-df-quickchart-complete:disabled,\n",
              "  .colab-df-quickchart-complete:disabled:hover {\n",
              "    background-color: var(--disabled-bg-color);\n",
              "    fill: var(--disabled-fill-color);\n",
              "    box-shadow: none;\n",
              "  }\n",
              "\n",
              "  .colab-df-spinner {\n",
              "    border: 2px solid var(--fill-color);\n",
              "    border-color: transparent;\n",
              "    border-bottom-color: var(--fill-color);\n",
              "    animation:\n",
              "      spin 1s steps(1) infinite;\n",
              "  }\n",
              "\n",
              "  @keyframes spin {\n",
              "    0% {\n",
              "      border-color: transparent;\n",
              "      border-bottom-color: var(--fill-color);\n",
              "      border-left-color: var(--fill-color);\n",
              "    }\n",
              "    20% {\n",
              "      border-color: transparent;\n",
              "      border-left-color: var(--fill-color);\n",
              "      border-top-color: var(--fill-color);\n",
              "    }\n",
              "    30% {\n",
              "      border-color: transparent;\n",
              "      border-left-color: var(--fill-color);\n",
              "      border-top-color: var(--fill-color);\n",
              "      border-right-color: var(--fill-color);\n",
              "    }\n",
              "    40% {\n",
              "      border-color: transparent;\n",
              "      border-right-color: var(--fill-color);\n",
              "      border-top-color: var(--fill-color);\n",
              "    }\n",
              "    60% {\n",
              "      border-color: transparent;\n",
              "      border-right-color: var(--fill-color);\n",
              "    }\n",
              "    80% {\n",
              "      border-color: transparent;\n",
              "      border-right-color: var(--fill-color);\n",
              "      border-bottom-color: var(--fill-color);\n",
              "    }\n",
              "    90% {\n",
              "      border-color: transparent;\n",
              "      border-bottom-color: var(--fill-color);\n",
              "    }\n",
              "  }\n",
              "</style>\n",
              "\n",
              "  <script>\n",
              "    async function quickchart(key) {\n",
              "      const quickchartButtonEl =\n",
              "        document.querySelector('#' + key + ' button');\n",
              "      quickchartButtonEl.disabled = true;  // To prevent multiple clicks.\n",
              "      quickchartButtonEl.classList.add('colab-df-spinner');\n",
              "      try {\n",
              "        const charts = await google.colab.kernel.invokeFunction(\n",
              "            'suggestCharts', [key], {});\n",
              "      } catch (error) {\n",
              "        console.error('Error during call to suggestCharts:', error);\n",
              "      }\n",
              "      quickchartButtonEl.classList.remove('colab-df-spinner');\n",
              "      quickchartButtonEl.classList.add('colab-df-quickchart-complete');\n",
              "    }\n",
              "    (() => {\n",
              "      let quickchartButtonEl =\n",
              "        document.querySelector('#df-45673452-a67b-4a73-a00d-33ab4d0a03c6 button');\n",
              "      quickchartButtonEl.style.display =\n",
              "        google.colab.kernel.accessAllowed ? 'block' : 'none';\n",
              "    })();\n",
              "  </script>\n",
              "</div>\n",
              "    </div>\n",
              "  </div>\n"
            ],
            "application/vnd.google.colaboratory.intrinsic+json": {
              "type": "dataframe",
              "repr_error": "'str' object has no attribute 'empty'"
            }
          },
          "metadata": {},
          "execution_count": 13
        }
      ]
    },
    {
      "cell_type": "code",
      "metadata": {
        "id": "AF9opAXgY93U"
      },
      "source": [
        "train_corpus = \" \".join(data['Content_prep'])"
      ],
      "execution_count": null,
      "outputs": []
    },
    {
      "cell_type": "code",
      "metadata": {
        "id": "EsgKYXo3Y9xe",
        "outputId": "ec3cbc1f-a4e4-41ea-e99c-a0771bc977d7",
        "colab": {
          "base_uri": "https://localhost:8080/",
          "height": 51
        }
      },
      "source": [
        "import nltk\n",
        "from nltk.tokenize import word_tokenize\n",
        "nltk.download(\"punkt\")\n",
        "\n",
        "tokens_tot = word_tokenize(train_corpus)"
      ],
      "execution_count": null,
      "outputs": [
        {
          "output_type": "stream",
          "text": [
            "[nltk_data] Downloading package punkt to /root/nltk_data...\n",
            "[nltk_data]   Package punkt is already up-to-date!\n"
          ],
          "name": "stdout"
        }
      ]
    },
    {
      "cell_type": "code",
      "metadata": {
        "id": "1DcP0rjBgCK2"
      },
      "source": [
        "tokens_filtered = [word for word in tokens_tot if word.isalnum()]"
      ],
      "execution_count": null,
      "outputs": []
    },
    {
      "cell_type": "code",
      "metadata": {
        "id": "0LYrDLmvgCGE"
      },
      "source": [
        "from nltk.probability import FreqDist\n",
        "dist = FreqDist(tokens_filtered)"
      ],
      "execution_count": null,
      "outputs": []
    },
    {
      "cell_type": "code",
      "metadata": {
        "id": "Gblzo8jkiZXQ"
      },
      "source": [
        "vocabulary = {v: i+100  for i, v in enumerate(dist) if dist[v]>1}"
      ],
      "execution_count": null,
      "outputs": []
    },
    {
      "cell_type": "code",
      "metadata": {
        "id": "OFCqAoTMdVlT"
      },
      "source": [
        "def text_to_sequence(text, maxlen):\n",
        "    result = []\n",
        "    tokens = word_tokenize(text.lower())\n",
        "    tokens_filtered = [word for word in tokens if word.isalnum()]\n",
        "    for word in tokens_filtered:\n",
        "        if word in vocabulary:\n",
        "            result.append(vocabulary[word])\n",
        "    padding = [0]*(maxlen-len(result))\n",
        "    return padding + result[-maxlen:]"
      ],
      "execution_count": null,
      "outputs": []
    },
    {
      "cell_type": "code",
      "metadata": {
        "id": "9DaaodfXeJhm",
        "outputId": "76ff33f4-99cf-4636-cba2-14290210225f",
        "colab": {
          "base_uri": "https://localhost:8080/",
          "height": 136
        }
      },
      "source": [
        "data_embeded = np.asarray([text_to_sequence(text, 8) for text in data['Content_prep']], dtype=np.int32)\n",
        "data_embeded = np.hstack((data_embeded, (data['Month'].values+50).reshape(data['Month'].values.shape[0], 1)))\n",
        "data_embeded = np.hstack((data_embeded, (data['Day'].values).reshape(data['Day'].values.shape[0], 1)))\n",
        "data_embeded"
      ],
      "execution_count": null,
      "outputs": [
        {
          "output_type": "execute_result",
          "data": {
            "text/plain": [
              "array([[   0,    0,    0, ...,  102,   58,   14],\n",
              "       [ 107,  108,  109, ...,  115,   58,   14],\n",
              "       [   0,    0,    0, ...,  116,   58,   14],\n",
              "       ...,\n",
              "       [   0,    0,    0, ...,  274,   56,    1],\n",
              "       [   0,    0,    0, ...,  525,   56,    1],\n",
              "       [   0,  182, 9232, ..., 3814,   56,    1]])"
            ]
          },
          "metadata": {
            "tags": []
          },
          "execution_count": 93
        }
      ]
    },
    {
      "cell_type": "code",
      "metadata": {
        "id": "1Kjn1vud70hx",
        "outputId": "7f6a0bf3-c191-4367-94b0-3bb42601dc98",
        "colab": {
          "base_uri": "https://localhost:8080/",
          "height": 34
        }
      },
      "source": [
        "np.max(data_embeded)"
      ],
      "execution_count": null,
      "outputs": [
        {
          "output_type": "execute_result",
          "data": {
            "text/plain": [
              "12924"
            ]
          },
          "metadata": {
            "tags": []
          },
          "execution_count": 94
        }
      ]
    },
    {
      "cell_type": "code",
      "metadata": {
        "id": "0M4VPKNp9rF4"
      },
      "source": [
        "# data_embeded = data_embeded / np.max(data_embeded)\n",
        "# data_embeded"
      ],
      "execution_count": null,
      "outputs": []
    },
    {
      "cell_type": "code",
      "metadata": {
        "id": "dqe2pxFv8B8_",
        "outputId": "f17f2d3c-f09e-4764-8a1e-8bf423d65383",
        "colab": {
          "base_uri": "https://localhost:8080/",
          "height": 34
        }
      },
      "source": [
        "data_embeded[-1]"
      ],
      "execution_count": null,
      "outputs": [
        {
          "output_type": "execute_result",
          "data": {
            "text/plain": [
              "array([   0,  182, 9232, 4543, 4368, 6421,  427, 3814,   56,    1])"
            ]
          },
          "metadata": {
            "tags": []
          },
          "execution_count": 96
        }
      ]
    },
    {
      "cell_type": "code",
      "metadata": {
        "id": "7Ed-fPi8eLMn"
      },
      "source": [
        "from sklearn.model_selection import train_test_split"
      ],
      "execution_count": null,
      "outputs": []
    },
    {
      "cell_type": "code",
      "metadata": {
        "id": "yR7aPjDJeLIE"
      },
      "source": [
        "y = data['Rating'].values\n",
        "train_x, valid_x, train_y, valid_y = train_test_split(data_embeded, y, stratify=y, random_state=43)"
      ],
      "execution_count": null,
      "outputs": []
    },
    {
      "cell_type": "code",
      "metadata": {
        "id": "KiiigcGDmcEK",
        "outputId": "767b3946-e4b1-4e1a-d6ed-ad81637075ee",
        "colab": {
          "base_uri": "https://localhost:8080/",
          "height": 34
        }
      },
      "source": [
        "train_x.shape"
      ],
      "execution_count": null,
      "outputs": [
        {
          "output_type": "execute_result",
          "data": {
            "text/plain": [
              "(15494, 10)"
            ]
          },
          "metadata": {
            "tags": []
          },
          "execution_count": 99
        }
      ]
    },
    {
      "cell_type": "code",
      "metadata": {
        "id": "FFdyA9_SoJED",
        "outputId": "c16fba27-9885-4d40-f15e-a4c9d9f92b16",
        "colab": {
          "base_uri": "https://localhost:8080/",
          "height": 34
        }
      },
      "source": [
        "tr_data = train_x.reshape(train_x.shape[0], train_x.shape[1], 1)\n",
        "vd_data = valid_x.reshape(valid_x.shape[0], valid_x.shape[1], 1)\n",
        "tr_data.shape"
      ],
      "execution_count": null,
      "outputs": [
        {
          "output_type": "execute_result",
          "data": {
            "text/plain": [
              "(15494, 10, 1)"
            ]
          },
          "metadata": {
            "tags": []
          },
          "execution_count": 100
        }
      ]
    },
    {
      "cell_type": "code",
      "metadata": {
        "id": "cFSQKdGU2qtY"
      },
      "source": [
        "def to_one_hot(Y):\n",
        "    n_col = np.amax(Y)\n",
        "    binarized = np.zeros((len(Y), n_col))\n",
        "    for i in range(len(Y)):\n",
        "        binarized[i, Y[i]-1] = 1.\n",
        "    return binarized"
      ],
      "execution_count": null,
      "outputs": []
    },
    {
      "cell_type": "code",
      "metadata": {
        "id": "DddjmKW_2sUO",
        "outputId": "a62354c1-c18b-4a80-f6e9-29db8505ace0",
        "colab": {
          "base_uri": "https://localhost:8080/",
          "height": 136
        }
      },
      "source": [
        "train_y_o = to_one_hot(train_y)\n",
        "valid_y_o = to_one_hot(valid_y)\n",
        "train_y_o"
      ],
      "execution_count": null,
      "outputs": [
        {
          "output_type": "execute_result",
          "data": {
            "text/plain": [
              "array([[0., 0., 0., 0., 1.],\n",
              "       [0., 0., 0., 0., 1.],\n",
              "       [0., 1., 0., 0., 0.],\n",
              "       ...,\n",
              "       [0., 0., 0., 0., 1.],\n",
              "       [0., 0., 0., 0., 1.],\n",
              "       [0., 0., 0., 0., 1.]])"
            ]
          },
          "metadata": {
            "tags": []
          },
          "execution_count": 102
        }
      ]
    },
    {
      "cell_type": "markdown",
      "metadata": {
        "id": "k4C39BdvoVFF"
      },
      "source": [
        "### Строим свёрточную нейронную сеть"
      ]
    },
    {
      "cell_type": "code",
      "metadata": {
        "id": "L68oapM_xV-i"
      },
      "source": [
        "import tensorflow as tf\n",
        "\n",
        "# !pip install -q tensorflow-hub\n",
        "# !pip install -q tensorflow-datasets\n",
        "import tensorflow_hub as hub\n",
        "# import tensorflow_datasets as tfds\n",
        "\n",
        "import keras\n",
        "\n",
        "from keras.models import Sequential\n",
        "from keras.layers import Dense, Conv1D, MaxPooling1D, Dropout, Flatten\n",
        "from keras.utils import to_categorical\n",
        "\n",
        "from typing import List, Optional, Dict, Tuple"
      ],
      "execution_count": null,
      "outputs": []
    },
    {
      "cell_type": "code",
      "metadata": {
        "id": "mEs0ivmTyvo8"
      },
      "source": [
        "def calculate_confidence_interval(scores: list, conf_interval: float = 0.95) -> Tuple[float]:\n",
        "    \"\"\"\n",
        "    Вычисление доверительного интервала.\n",
        "\n",
        "    Parameters\n",
        "    ----------\n",
        "    scores: List[float / int]\n",
        "        Список с оценками изучаемой величины.\n",
        "\n",
        "    conf_interval: float, optional, default = 0.95\n",
        "        Уровень доверия для построения интервала.\n",
        "        Опциональный параметр, по умолчанию, равен 0.95.\n",
        "\n",
        "    Returns\n",
        "    -------\n",
        "    conf_interval: Tuple[float]\n",
        "        Кортеж с границами доверительного интервала.\n",
        "\n",
        "    \"\"\"\n",
        "    left_bound = np.percentile(\n",
        "        scores, ((1 - conf_interval) / 2) * 100\n",
        "    )\n",
        "    right_bound = np.percentile(\n",
        "        scores, (conf_interval + ((1 - conf_interval) / 2)) * 100\n",
        "    )\n",
        "\n",
        "    return left_bound, right_bound"
      ],
      "execution_count": null,
      "outputs": []
    },
    {
      "cell_type": "code",
      "metadata": {
        "id": "D0n-eUeMofKT"
      },
      "source": [
        "def net_gen(lay_cnt=1, filters=32, neurons=32):\n",
        "    # конфигурирование слоев нейросети\n",
        "    model = Sequential()\n",
        "\n",
        "    # слои нейросети отвественные за свертку и max-pooling\n",
        "    model.add(Conv1D(filters, 3, padding='same', activation='sigmoid', input_shape=(tr_data.shape[1], 1)))   # relu\n",
        "    # model.add(Conv1D(filters, 3, activation='relu'))\n",
        "    # model.add(MaxPooling1D(pool_size=2))\n",
        "    model.add(Dropout(0.25))\n",
        "    if lay_cnt == 2:\n",
        "        model.add(Conv1D(filters, 3, padding='same', activation='sigmoid')) # relu\n",
        "        # model.add(MaxPooling1D(pool_size=2))\n",
        "        model.add(Dropout(0.25))\n",
        "\n",
        "    # полносвязные слои нейронной сети\n",
        "    model.add(Flatten())\n",
        "    model.add(Dense(neurons, activation='sigmoid'))   # relu\n",
        "    # model.add(Dense(neurons, activation='relu'))))\n",
        "    model.add(Dropout(0.5))\n",
        "    model.add(Dense(5, activation='softmax')) # sigmoid'))\n",
        "\n",
        "    # компиляция модели\n",
        "    model.compile(optimizer=tf.keras.optimizers.Adam(1e-3),#\n",
        "                loss=tf.keras.losses.CategoricalCrossentropy(from_logits=True),\n",
        "                metrics=[tf.keras.metrics.AUC()])\n",
        "\n",
        "    return model"
      ],
      "execution_count": null,
      "outputs": []
    },
    {
      "cell_type": "code",
      "metadata": {
        "id": "lCGgz4nqofFh"
      },
      "source": [
        "def net_iter(model, ep=10, batch_size=256):\n",
        "    history = model.fit(tr_data,\n",
        "                        train_y_o,\n",
        "                        batch_size=batch_size,\n",
        "                        epochs=ep,\n",
        "                        validation_data=(vd_data, valid_y_o),\n",
        "                        shuffle=True,\n",
        "                        verbose=0)\n",
        "    return history.history"
      ],
      "execution_count": null,
      "outputs": []
    },
    {
      "cell_type": "code",
      "metadata": {
        "id": "HA4CPlLqvdd7",
        "outputId": "233b676c-2689-4128-be5e-726ed4e05866",
        "colab": {
          "base_uri": "https://localhost:8080/",
          "height": 1000
        }
      },
      "source": [
        "summary_data = pd.DataFrame(data=[[0, 0, 0, 0, 0, 0, 0, 0]],\n",
        "                            columns=['layers', 'filters', 'neurons', 'mean_train_score', 'mean_val_score', 'variance', 'l_b', 'r_b'])\n",
        "cnt = 0\n",
        "f_n = [128, 256]\n",
        "l_c = [1, 2]\n",
        "nr = [32, 64]\n",
        "epochs = 15\n",
        "\n",
        "# net_res = []\n",
        "\n",
        "for l_c_i in l_c:\n",
        "    for f_n_i in f_n:\n",
        "        for nr_i in nr:\n",
        "            err_score = []\n",
        "            err_val_score = []\n",
        "            print(f\"Модель: слоёв {l_c_i}, фильтров {f_n_i}, нейронов {nr_i}, эпох {epochs}\\n\")\n",
        "            model = net_gen(filters=f_n_i, lay_cnt=l_c_i, neurons=nr_i)\n",
        "            model.summary()\n",
        "            for i in range(5):\n",
        "                print(f\"\\tИтерация: {i+1}\")\n",
        "                hist = net_iter(model, ep=epochs)\n",
        "                # net_res.append(hist)\n",
        "                err_score.append(hist[list(hist.keys())[1]][-1])\n",
        "                err_val_score.append(hist[list(hist.keys())[3]][-1])\n",
        "\n",
        "            vr = np.var(err_val_score)\n",
        "            l_b, r_b = calculate_confidence_interval(err_val_score)\n",
        "            mean_err_score, mean_err_val_score = np.mean(err_score), np.mean(err_val_score)\n",
        "            print(f\"Ошибки на train. Средняя: {mean_err_score} список: {err_score}\")\n",
        "            print(f\"Ошибки на valid. Средняя: {mean_err_val_score} список: {err_val_score}\")\n",
        "            print(f\"Дисперсия ошибки на valid: {vr}\")\n",
        "            print(f\"Доверительный интервал: {l_b} - {r_b}\\n\\n\")\n",
        "            summary_data.loc[cnt, ['layers', 'filters', 'neurons', 'mean_train_score',\n",
        "                                    'mean_val_score', 'variance', 'l_b', 'r_b']] = [l_c_i, f_n_i,\n",
        "                                    nr_i, np.mean(err_score), np.mean(err_val_score), vr, l_b, r_b]\n",
        "            cnt += 1"
      ],
      "execution_count": null,
      "outputs": [
        {
          "output_type": "stream",
          "text": [
            "Модель: слоёв 1, фильтров 128, нейронов 32, эпох 15\n",
            "\n",
            "Model: \"sequential_9\"\n",
            "_________________________________________________________________\n",
            "Layer (type)                 Output Shape              Param #   \n",
            "=================================================================\n",
            "conv1d_18 (Conv1D)           (None, 10, 128)           512       \n",
            "_________________________________________________________________\n",
            "dropout_13 (Dropout)         (None, 10, 128)           0         \n",
            "_________________________________________________________________\n",
            "flatten_9 (Flatten)          (None, 1280)              0         \n",
            "_________________________________________________________________\n",
            "dense_18 (Dense)             (None, 32)                40992     \n",
            "_________________________________________________________________\n",
            "dropout_14 (Dropout)         (None, 32)                0         \n",
            "_________________________________________________________________\n",
            "dense_19 (Dense)             (None, 5)                 165       \n",
            "=================================================================\n",
            "Total params: 41,669\n",
            "Trainable params: 41,669\n",
            "Non-trainable params: 0\n",
            "_________________________________________________________________\n",
            "\tИтерация: 1\n",
            "\tИтерация: 2\n",
            "\tИтерация: 3\n",
            "\tИтерация: 4\n",
            "\tИтерация: 5\n",
            "Ошибки на train. Средняя: 0.815992558002472 список: [0.815739631652832, 0.8157225847244263, 0.8158947229385376, 0.8163883090019226, 0.8162175416946411]\n",
            "Ошибки на valid. Средняя: 0.816311776638031 список: [0.816311776638031, 0.816311776638031, 0.816311776638031, 0.816311776638031, 0.816311776638031]\n",
            "Дисперсия ошибки на valid: 0.0\n",
            "Доверительный интервал: 0.816311776638031 - 0.816311776638031\n",
            "\n",
            "\n",
            "Модель: слоёв 1, фильтров 128, нейронов 64, эпох 15\n",
            "\n",
            "Model: \"sequential_10\"\n",
            "_________________________________________________________________\n",
            "Layer (type)                 Output Shape              Param #   \n",
            "=================================================================\n",
            "conv1d_19 (Conv1D)           (None, 10, 128)           512       \n",
            "_________________________________________________________________\n",
            "dropout_15 (Dropout)         (None, 10, 128)           0         \n",
            "_________________________________________________________________\n",
            "flatten_10 (Flatten)         (None, 1280)              0         \n",
            "_________________________________________________________________\n",
            "dense_20 (Dense)             (None, 64)                81984     \n",
            "_________________________________________________________________\n",
            "dropout_16 (Dropout)         (None, 64)                0         \n",
            "_________________________________________________________________\n",
            "dense_21 (Dense)             (None, 5)                 325       \n",
            "=================================================================\n",
            "Total params: 82,821\n",
            "Trainable params: 82,821\n",
            "Non-trainable params: 0\n",
            "_________________________________________________________________\n",
            "\tИтерация: 1\n",
            "\tИтерация: 2\n",
            "\tИтерация: 3\n",
            "\tИтерация: 4\n",
            "\tИтерация: 5\n",
            "Ошибки на train. Средняя: 0.8163037657737732 список: [0.8164900541305542, 0.8162145018577576, 0.8162900805473328, 0.8162476420402527, 0.8162765502929688]\n",
            "Ошибки на valid. Средняя: 0.816311776638031 список: [0.816311776638031, 0.816311776638031, 0.816311776638031, 0.816311776638031, 0.816311776638031]\n",
            "Дисперсия ошибки на valid: 0.0\n",
            "Доверительный интервал: 0.816311776638031 - 0.816311776638031\n",
            "\n",
            "\n",
            "Модель: слоёв 1, фильтров 256, нейронов 32, эпох 15\n",
            "\n",
            "Model: \"sequential_11\"\n",
            "_________________________________________________________________\n",
            "Layer (type)                 Output Shape              Param #   \n",
            "=================================================================\n",
            "conv1d_20 (Conv1D)           (None, 10, 256)           1024      \n",
            "_________________________________________________________________\n",
            "dropout_17 (Dropout)         (None, 10, 256)           0         \n",
            "_________________________________________________________________\n",
            "flatten_11 (Flatten)         (None, 2560)              0         \n",
            "_________________________________________________________________\n",
            "dense_22 (Dense)             (None, 32)                81952     \n",
            "_________________________________________________________________\n",
            "dropout_18 (Dropout)         (None, 32)                0         \n",
            "_________________________________________________________________\n",
            "dense_23 (Dense)             (None, 5)                 165       \n",
            "=================================================================\n",
            "Total params: 83,141\n",
            "Trainable params: 83,141\n",
            "Non-trainable params: 0\n",
            "_________________________________________________________________\n",
            "\tИтерация: 1\n",
            "\tИтерация: 2\n",
            "\tИтерация: 3\n",
            "\tИтерация: 4\n",
            "\tИтерация: 5\n",
            "Ошибки на train. Средняя: 0.8563164234161377 список: [0.8450639247894287, 0.8617435693740845, 0.8580772876739502, 0.857267439365387, 0.8594298958778381]\n",
            "Ошибки на valid. Средняя: 0.8547823190689087 список: [0.8507946729660034, 0.8634592294692993, 0.8531177043914795, 0.8530978560447693, 0.8534421324729919]\n",
            "Дисперсия ошибки на valid: 1.9718910670860624e-05\n",
            "Доверительный интервал: 0.85102499127388 - 0.8624575197696686\n",
            "\n",
            "\n",
            "Модель: слоёв 1, фильтров 256, нейронов 64, эпох 15\n",
            "\n",
            "Model: \"sequential_12\"\n",
            "_________________________________________________________________\n",
            "Layer (type)                 Output Shape              Param #   \n",
            "=================================================================\n",
            "conv1d_21 (Conv1D)           (None, 10, 256)           1024      \n",
            "_________________________________________________________________\n",
            "dropout_19 (Dropout)         (None, 10, 256)           0         \n",
            "_________________________________________________________________\n",
            "flatten_12 (Flatten)         (None, 2560)              0         \n",
            "_________________________________________________________________\n",
            "dense_24 (Dense)             (None, 64)                163904    \n",
            "_________________________________________________________________\n",
            "dropout_20 (Dropout)         (None, 64)                0         \n",
            "_________________________________________________________________\n",
            "dense_25 (Dense)             (None, 5)                 325       \n",
            "=================================================================\n",
            "Total params: 165,253\n",
            "Trainable params: 165,253\n",
            "Non-trainable params: 0\n",
            "_________________________________________________________________\n",
            "\tИтерация: 1\n",
            "\tИтерация: 2\n",
            "\tИтерация: 3\n",
            "\tИтерация: 4\n",
            "\tИтерация: 5\n",
            "Ошибки на train. Средняя: 0.8162766814231872 список: [0.8162161707878113, 0.8163881897926331, 0.8162718415260315, 0.8162562251091003, 0.8162509799003601]\n",
            "Ошибки на valid. Средняя: 0.816311776638031 список: [0.816311776638031, 0.816311776638031, 0.816311776638031, 0.816311776638031, 0.816311776638031]\n",
            "Дисперсия ошибки на valid: 0.0\n",
            "Доверительный интервал: 0.816311776638031 - 0.816311776638031\n",
            "\n",
            "\n",
            "Модель: слоёв 2, фильтров 128, нейронов 32, эпох 15\n",
            "\n",
            "Model: \"sequential_13\"\n",
            "_________________________________________________________________\n",
            "Layer (type)                 Output Shape              Param #   \n",
            "=================================================================\n",
            "conv1d_22 (Conv1D)           (None, 10, 128)           512       \n",
            "_________________________________________________________________\n",
            "dropout_21 (Dropout)         (None, 10, 128)           0         \n",
            "_________________________________________________________________\n",
            "conv1d_23 (Conv1D)           (None, 10, 128)           49280     \n",
            "_________________________________________________________________\n",
            "dropout_22 (Dropout)         (None, 10, 128)           0         \n",
            "_________________________________________________________________\n",
            "flatten_13 (Flatten)         (None, 1280)              0         \n",
            "_________________________________________________________________\n",
            "dense_26 (Dense)             (None, 32)                40992     \n",
            "_________________________________________________________________\n",
            "dropout_23 (Dropout)         (None, 32)                0         \n",
            "_________________________________________________________________\n",
            "dense_27 (Dense)             (None, 5)                 165       \n",
            "=================================================================\n",
            "Total params: 90,949\n",
            "Trainable params: 90,949\n",
            "Non-trainable params: 0\n",
            "_________________________________________________________________\n",
            "\tИтерация: 1\n",
            "\tИтерация: 2\n",
            "\tИтерация: 3\n",
            "\tИтерация: 4\n",
            "\tИтерация: 5\n",
            "Ошибки на train. Средняя: 0.8157994866371154 список: [0.8151174783706665, 0.8157172203063965, 0.8159079551696777, 0.8159762620925903, 0.8162785172462463]\n",
            "Ошибки на valid. Средняя: 0.816311776638031 список: [0.816311776638031, 0.816311776638031, 0.816311776638031, 0.816311776638031, 0.816311776638031]\n",
            "Дисперсия ошибки на valid: 0.0\n",
            "Доверительный интервал: 0.816311776638031 - 0.816311776638031\n",
            "\n",
            "\n",
            "Модель: слоёв 2, фильтров 128, нейронов 64, эпох 15\n",
            "\n",
            "Model: \"sequential_14\"\n",
            "_________________________________________________________________\n",
            "Layer (type)                 Output Shape              Param #   \n",
            "=================================================================\n",
            "conv1d_24 (Conv1D)           (None, 10, 128)           512       \n",
            "_________________________________________________________________\n",
            "dropout_24 (Dropout)         (None, 10, 128)           0         \n",
            "_________________________________________________________________\n",
            "conv1d_25 (Conv1D)           (None, 10, 128)           49280     \n",
            "_________________________________________________________________\n",
            "dropout_25 (Dropout)         (None, 10, 128)           0         \n",
            "_________________________________________________________________\n",
            "flatten_14 (Flatten)         (None, 1280)              0         \n",
            "_________________________________________________________________\n",
            "dense_28 (Dense)             (None, 64)                81984     \n",
            "_________________________________________________________________\n",
            "dropout_26 (Dropout)         (None, 64)                0         \n",
            "_________________________________________________________________\n",
            "dense_29 (Dense)             (None, 5)                 325       \n",
            "=================================================================\n",
            "Total params: 132,101\n",
            "Trainable params: 132,101\n",
            "Non-trainable params: 0\n",
            "_________________________________________________________________\n",
            "\tИтерация: 1\n",
            "\tИтерация: 2\n",
            "\tИтерация: 3\n",
            "\tИтерация: 4\n",
            "\tИтерация: 5\n",
            "Ошибки на train. Средняя: 0.8162456393241883 список: [0.816206157207489, 0.816267192363739, 0.8162457942962646, 0.8162452578544617, 0.8162637948989868]\n",
            "Ошибки на valid. Средняя: 0.816311776638031 список: [0.816311776638031, 0.816311776638031, 0.816311776638031, 0.816311776638031, 0.816311776638031]\n",
            "Дисперсия ошибки на valid: 0.0\n",
            "Доверительный интервал: 0.816311776638031 - 0.816311776638031\n",
            "\n",
            "\n",
            "Модель: слоёв 2, фильтров 256, нейронов 32, эпох 15\n",
            "\n",
            "Model: \"sequential_15\"\n",
            "_________________________________________________________________\n",
            "Layer (type)                 Output Shape              Param #   \n",
            "=================================================================\n",
            "conv1d_26 (Conv1D)           (None, 10, 256)           1024      \n",
            "_________________________________________________________________\n",
            "dropout_27 (Dropout)         (None, 10, 256)           0         \n",
            "_________________________________________________________________\n",
            "conv1d_27 (Conv1D)           (None, 10, 256)           196864    \n",
            "_________________________________________________________________\n",
            "dropout_28 (Dropout)         (None, 10, 256)           0         \n",
            "_________________________________________________________________\n",
            "flatten_15 (Flatten)         (None, 2560)              0         \n",
            "_________________________________________________________________\n",
            "dense_30 (Dense)             (None, 32)                81952     \n",
            "_________________________________________________________________\n",
            "dropout_29 (Dropout)         (None, 32)                0         \n",
            "_________________________________________________________________\n",
            "dense_31 (Dense)             (None, 5)                 165       \n",
            "=================================================================\n",
            "Total params: 280,005\n",
            "Trainable params: 280,005\n",
            "Non-trainable params: 0\n",
            "_________________________________________________________________\n",
            "\tИтерация: 1\n",
            "\tИтерация: 2\n",
            "\tИтерация: 3\n",
            "\tИтерация: 4\n",
            "\tИтерация: 5\n",
            "Ошибки на train. Средняя: 0.8161764144897461 список: [0.8155320286750793, 0.8162968158721924, 0.8165287375450134, 0.8162856698036194, 0.8162388205528259]\n",
            "Ошибки на valid. Средняя: 0.816311776638031 список: [0.816311776638031, 0.816311776638031, 0.816311776638031, 0.816311776638031, 0.816311776638031]\n",
            "Дисперсия ошибки на valid: 0.0\n",
            "Доверительный интервал: 0.816311776638031 - 0.816311776638031\n",
            "\n",
            "\n",
            "Модель: слоёв 2, фильтров 256, нейронов 64, эпох 15\n",
            "\n",
            "Model: \"sequential_16\"\n",
            "_________________________________________________________________\n",
            "Layer (type)                 Output Shape              Param #   \n",
            "=================================================================\n",
            "conv1d_28 (Conv1D)           (None, 10, 256)           1024      \n",
            "_________________________________________________________________\n",
            "dropout_30 (Dropout)         (None, 10, 256)           0         \n",
            "_________________________________________________________________\n",
            "conv1d_29 (Conv1D)           (None, 10, 256)           196864    \n",
            "_________________________________________________________________\n",
            "dropout_31 (Dropout)         (None, 10, 256)           0         \n",
            "_________________________________________________________________\n",
            "flatten_16 (Flatten)         (None, 2560)              0         \n",
            "_________________________________________________________________\n",
            "dense_32 (Dense)             (None, 64)                163904    \n",
            "_________________________________________________________________\n",
            "dropout_32 (Dropout)         (None, 64)                0         \n",
            "_________________________________________________________________\n",
            "dense_33 (Dense)             (None, 5)                 325       \n",
            "=================================================================\n",
            "Total params: 362,117\n",
            "Trainable params: 362,117\n",
            "Non-trainable params: 0\n",
            "_________________________________________________________________\n",
            "\tИтерация: 1\n",
            "\tИтерация: 2\n",
            "\tИтерация: 3\n",
            "\tИтерация: 4\n",
            "\tИтерация: 5\n",
            "Ошибки на train. Средняя: 0.8162579536437988 список: [0.816276490688324, 0.8162338733673096, 0.8162357807159424, 0.8162841200828552, 0.816259503364563]\n",
            "Ошибки на valid. Средняя: 0.816311776638031 список: [0.816311776638031, 0.816311776638031, 0.816311776638031, 0.816311776638031, 0.816311776638031]\n",
            "Дисперсия ошибки на valid: 0.0\n",
            "Доверительный интервал: 0.816311776638031 - 0.816311776638031\n",
            "\n",
            "\n"
          ],
          "name": "stdout"
        }
      ]
    },
    {
      "cell_type": "code",
      "metadata": {
        "id": "UCxz1tA7vdX5",
        "outputId": "0ec88fdf-faf4-4ca0-e7ef-4409657cf0b6",
        "colab": {
          "base_uri": "https://localhost:8080/",
          "height": 297
        }
      },
      "source": [
        "summary_data"
      ],
      "execution_count": null,
      "outputs": [
        {
          "output_type": "execute_result",
          "data": {
            "text/html": [
              "<div>\n",
              "<style scoped>\n",
              "    .dataframe tbody tr th:only-of-type {\n",
              "        vertical-align: middle;\n",
              "    }\n",
              "\n",
              "    .dataframe tbody tr th {\n",
              "        vertical-align: top;\n",
              "    }\n",
              "\n",
              "    .dataframe thead th {\n",
              "        text-align: right;\n",
              "    }\n",
              "</style>\n",
              "<table border=\"1\" class=\"dataframe\">\n",
              "  <thead>\n",
              "    <tr style=\"text-align: right;\">\n",
              "      <th></th>\n",
              "      <th>layers</th>\n",
              "      <th>filters</th>\n",
              "      <th>neurons</th>\n",
              "      <th>mean_train_score</th>\n",
              "      <th>mean_val_score</th>\n",
              "      <th>variance</th>\n",
              "      <th>l_b</th>\n",
              "      <th>r_b</th>\n",
              "    </tr>\n",
              "  </thead>\n",
              "  <tbody>\n",
              "    <tr>\n",
              "      <th>0</th>\n",
              "      <td>1.0</td>\n",
              "      <td>128.0</td>\n",
              "      <td>32.0</td>\n",
              "      <td>0.815993</td>\n",
              "      <td>0.816312</td>\n",
              "      <td>0.00000</td>\n",
              "      <td>0.816312</td>\n",
              "      <td>0.816312</td>\n",
              "    </tr>\n",
              "    <tr>\n",
              "      <th>1</th>\n",
              "      <td>1.0</td>\n",
              "      <td>128.0</td>\n",
              "      <td>64.0</td>\n",
              "      <td>0.816304</td>\n",
              "      <td>0.816312</td>\n",
              "      <td>0.00000</td>\n",
              "      <td>0.816312</td>\n",
              "      <td>0.816312</td>\n",
              "    </tr>\n",
              "    <tr>\n",
              "      <th>2</th>\n",
              "      <td>1.0</td>\n",
              "      <td>256.0</td>\n",
              "      <td>32.0</td>\n",
              "      <td>0.856316</td>\n",
              "      <td>0.854782</td>\n",
              "      <td>0.00002</td>\n",
              "      <td>0.851025</td>\n",
              "      <td>0.862458</td>\n",
              "    </tr>\n",
              "    <tr>\n",
              "      <th>3</th>\n",
              "      <td>1.0</td>\n",
              "      <td>256.0</td>\n",
              "      <td>64.0</td>\n",
              "      <td>0.816277</td>\n",
              "      <td>0.816312</td>\n",
              "      <td>0.00000</td>\n",
              "      <td>0.816312</td>\n",
              "      <td>0.816312</td>\n",
              "    </tr>\n",
              "    <tr>\n",
              "      <th>4</th>\n",
              "      <td>2.0</td>\n",
              "      <td>128.0</td>\n",
              "      <td>32.0</td>\n",
              "      <td>0.815799</td>\n",
              "      <td>0.816312</td>\n",
              "      <td>0.00000</td>\n",
              "      <td>0.816312</td>\n",
              "      <td>0.816312</td>\n",
              "    </tr>\n",
              "    <tr>\n",
              "      <th>5</th>\n",
              "      <td>2.0</td>\n",
              "      <td>128.0</td>\n",
              "      <td>64.0</td>\n",
              "      <td>0.816246</td>\n",
              "      <td>0.816312</td>\n",
              "      <td>0.00000</td>\n",
              "      <td>0.816312</td>\n",
              "      <td>0.816312</td>\n",
              "    </tr>\n",
              "    <tr>\n",
              "      <th>6</th>\n",
              "      <td>2.0</td>\n",
              "      <td>256.0</td>\n",
              "      <td>32.0</td>\n",
              "      <td>0.816176</td>\n",
              "      <td>0.816312</td>\n",
              "      <td>0.00000</td>\n",
              "      <td>0.816312</td>\n",
              "      <td>0.816312</td>\n",
              "    </tr>\n",
              "    <tr>\n",
              "      <th>7</th>\n",
              "      <td>2.0</td>\n",
              "      <td>256.0</td>\n",
              "      <td>64.0</td>\n",
              "      <td>0.816258</td>\n",
              "      <td>0.816312</td>\n",
              "      <td>0.00000</td>\n",
              "      <td>0.816312</td>\n",
              "      <td>0.816312</td>\n",
              "    </tr>\n",
              "  </tbody>\n",
              "</table>\n",
              "</div>"
            ],
            "text/plain": [
              "   layers  filters  neurons  ...  variance       l_b       r_b\n",
              "0     1.0    128.0     32.0  ...   0.00000  0.816312  0.816312\n",
              "1     1.0    128.0     64.0  ...   0.00000  0.816312  0.816312\n",
              "2     1.0    256.0     32.0  ...   0.00002  0.851025  0.862458\n",
              "3     1.0    256.0     64.0  ...   0.00000  0.816312  0.816312\n",
              "4     2.0    128.0     32.0  ...   0.00000  0.816312  0.816312\n",
              "5     2.0    128.0     64.0  ...   0.00000  0.816312  0.816312\n",
              "6     2.0    256.0     32.0  ...   0.00000  0.816312  0.816312\n",
              "7     2.0    256.0     64.0  ...   0.00000  0.816312  0.816312\n",
              "\n",
              "[8 rows x 8 columns]"
            ]
          },
          "metadata": {
            "tags": []
          },
          "execution_count": 108
        }
      ]
    },
    {
      "cell_type": "code",
      "metadata": {
        "id": "i2JpAoljxw_q",
        "outputId": "4a8f26ed-ecba-48fc-d10f-486ef1103e21",
        "colab": {
          "base_uri": "https://localhost:8080/",
          "height": 297
        }
      },
      "source": [
        "summary_data.sort_values('mean_val_score', ascending=False)"
      ],
      "execution_count": null,
      "outputs": [
        {
          "output_type": "execute_result",
          "data": {
            "text/html": [
              "<div>\n",
              "<style scoped>\n",
              "    .dataframe tbody tr th:only-of-type {\n",
              "        vertical-align: middle;\n",
              "    }\n",
              "\n",
              "    .dataframe tbody tr th {\n",
              "        vertical-align: top;\n",
              "    }\n",
              "\n",
              "    .dataframe thead th {\n",
              "        text-align: right;\n",
              "    }\n",
              "</style>\n",
              "<table border=\"1\" class=\"dataframe\">\n",
              "  <thead>\n",
              "    <tr style=\"text-align: right;\">\n",
              "      <th></th>\n",
              "      <th>layers</th>\n",
              "      <th>filters</th>\n",
              "      <th>neurons</th>\n",
              "      <th>mean_train_score</th>\n",
              "      <th>mean_val_score</th>\n",
              "      <th>variance</th>\n",
              "      <th>l_b</th>\n",
              "      <th>r_b</th>\n",
              "    </tr>\n",
              "  </thead>\n",
              "  <tbody>\n",
              "    <tr>\n",
              "      <th>2</th>\n",
              "      <td>1.0</td>\n",
              "      <td>256.0</td>\n",
              "      <td>32.0</td>\n",
              "      <td>0.856316</td>\n",
              "      <td>0.854782</td>\n",
              "      <td>0.00002</td>\n",
              "      <td>0.851025</td>\n",
              "      <td>0.862458</td>\n",
              "    </tr>\n",
              "    <tr>\n",
              "      <th>0</th>\n",
              "      <td>1.0</td>\n",
              "      <td>128.0</td>\n",
              "      <td>32.0</td>\n",
              "      <td>0.815993</td>\n",
              "      <td>0.816312</td>\n",
              "      <td>0.00000</td>\n",
              "      <td>0.816312</td>\n",
              "      <td>0.816312</td>\n",
              "    </tr>\n",
              "    <tr>\n",
              "      <th>1</th>\n",
              "      <td>1.0</td>\n",
              "      <td>128.0</td>\n",
              "      <td>64.0</td>\n",
              "      <td>0.816304</td>\n",
              "      <td>0.816312</td>\n",
              "      <td>0.00000</td>\n",
              "      <td>0.816312</td>\n",
              "      <td>0.816312</td>\n",
              "    </tr>\n",
              "    <tr>\n",
              "      <th>3</th>\n",
              "      <td>1.0</td>\n",
              "      <td>256.0</td>\n",
              "      <td>64.0</td>\n",
              "      <td>0.816277</td>\n",
              "      <td>0.816312</td>\n",
              "      <td>0.00000</td>\n",
              "      <td>0.816312</td>\n",
              "      <td>0.816312</td>\n",
              "    </tr>\n",
              "    <tr>\n",
              "      <th>4</th>\n",
              "      <td>2.0</td>\n",
              "      <td>128.0</td>\n",
              "      <td>32.0</td>\n",
              "      <td>0.815799</td>\n",
              "      <td>0.816312</td>\n",
              "      <td>0.00000</td>\n",
              "      <td>0.816312</td>\n",
              "      <td>0.816312</td>\n",
              "    </tr>\n",
              "    <tr>\n",
              "      <th>5</th>\n",
              "      <td>2.0</td>\n",
              "      <td>128.0</td>\n",
              "      <td>64.0</td>\n",
              "      <td>0.816246</td>\n",
              "      <td>0.816312</td>\n",
              "      <td>0.00000</td>\n",
              "      <td>0.816312</td>\n",
              "      <td>0.816312</td>\n",
              "    </tr>\n",
              "    <tr>\n",
              "      <th>6</th>\n",
              "      <td>2.0</td>\n",
              "      <td>256.0</td>\n",
              "      <td>32.0</td>\n",
              "      <td>0.816176</td>\n",
              "      <td>0.816312</td>\n",
              "      <td>0.00000</td>\n",
              "      <td>0.816312</td>\n",
              "      <td>0.816312</td>\n",
              "    </tr>\n",
              "    <tr>\n",
              "      <th>7</th>\n",
              "      <td>2.0</td>\n",
              "      <td>256.0</td>\n",
              "      <td>64.0</td>\n",
              "      <td>0.816258</td>\n",
              "      <td>0.816312</td>\n",
              "      <td>0.00000</td>\n",
              "      <td>0.816312</td>\n",
              "      <td>0.816312</td>\n",
              "    </tr>\n",
              "  </tbody>\n",
              "</table>\n",
              "</div>"
            ],
            "text/plain": [
              "   layers  filters  neurons  ...  variance       l_b       r_b\n",
              "2     1.0    256.0     32.0  ...   0.00002  0.851025  0.862458\n",
              "0     1.0    128.0     32.0  ...   0.00000  0.816312  0.816312\n",
              "1     1.0    128.0     64.0  ...   0.00000  0.816312  0.816312\n",
              "3     1.0    256.0     64.0  ...   0.00000  0.816312  0.816312\n",
              "4     2.0    128.0     32.0  ...   0.00000  0.816312  0.816312\n",
              "5     2.0    128.0     64.0  ...   0.00000  0.816312  0.816312\n",
              "6     2.0    256.0     32.0  ...   0.00000  0.816312  0.816312\n",
              "7     2.0    256.0     64.0  ...   0.00000  0.816312  0.816312\n",
              "\n",
              "[8 rows x 8 columns]"
            ]
          },
          "metadata": {
            "tags": []
          },
          "execution_count": 109
        }
      ]
    },
    {
      "cell_type": "code",
      "metadata": {
        "id": "Ir8asuHZxw6W"
      },
      "source": [
        "# конфигурирование слоев нейросети\n",
        "model = Sequential()\n",
        "\n",
        "# слои нейросети отвественные за свертку и max-pooling\n",
        "model.add(Conv1D(128, 3, padding='same', activation='sigmoid', input_shape=(tr_data.shape[1], 1))) # sigmoid'))relu\n",
        "model.add(Conv1D(128, 3, padding='same', activation='sigmoid'))\n",
        "model.add(MaxPooling1D(pool_size=2))\n",
        "# model.add(Dropout(0.25))\n",
        "# if lay_cnt == 2:\n",
        "model.add(Conv1D(128, 3, padding='same', activation='sigmoid'))\n",
        "model.add(Conv1D(128, 3, padding='same', activation='sigmoid'))\n",
        "model.add(MaxPooling1D(pool_size=2))\n",
        "#     model.add(Dropout(0.25))\n",
        "\n",
        "# полносвязные слои нейронной сети\n",
        "model.add(Flatten())\n",
        "model.add(Dense(32, activation='sigmoid')) # 'relu'))\n",
        "# model.add(Dense(neurons, activation='relu'))))\n",
        "model.add(Dropout(0.5))\n",
        "model.add(Dense(5, activation='softmax')) # sigmoid'))\n",
        "\n",
        "# компиляция модели\n",
        "model.compile(optimizer=tf.keras.optimizers.Adam(1e-3),#\n",
        "              loss=tf.keras.losses.CategoricalCrossentropy(),\n",
        "              metrics=[tf.keras.metrics.AUC()])"
      ],
      "execution_count": null,
      "outputs": []
    },
    {
      "cell_type": "code",
      "metadata": {
        "id": "XFfl4Z--M10P",
        "outputId": "db4a3790-dcca-4df5-c02c-3837d4908728",
        "colab": {
          "base_uri": "https://localhost:8080/",
          "height": 493
        }
      },
      "source": [
        "model.summary()"
      ],
      "execution_count": null,
      "outputs": [
        {
          "output_type": "stream",
          "text": [
            "Model: \"sequential_17\"\n",
            "_________________________________________________________________\n",
            "Layer (type)                 Output Shape              Param #   \n",
            "=================================================================\n",
            "conv1d_30 (Conv1D)           (None, 10, 128)           512       \n",
            "_________________________________________________________________\n",
            "conv1d_31 (Conv1D)           (None, 10, 128)           49280     \n",
            "_________________________________________________________________\n",
            "max_pooling1d_10 (MaxPooling (None, 5, 128)            0         \n",
            "_________________________________________________________________\n",
            "conv1d_32 (Conv1D)           (None, 5, 128)            49280     \n",
            "_________________________________________________________________\n",
            "conv1d_33 (Conv1D)           (None, 5, 128)            49280     \n",
            "_________________________________________________________________\n",
            "max_pooling1d_11 (MaxPooling (None, 2, 128)            0         \n",
            "_________________________________________________________________\n",
            "flatten_17 (Flatten)         (None, 256)               0         \n",
            "_________________________________________________________________\n",
            "dense_34 (Dense)             (None, 32)                8224      \n",
            "_________________________________________________________________\n",
            "dropout_33 (Dropout)         (None, 32)                0         \n",
            "_________________________________________________________________\n",
            "dense_35 (Dense)             (None, 5)                 165       \n",
            "=================================================================\n",
            "Total params: 156,741\n",
            "Trainable params: 156,741\n",
            "Non-trainable params: 0\n",
            "_________________________________________________________________\n"
          ],
          "name": "stdout"
        }
      ]
    },
    {
      "cell_type": "code",
      "metadata": {
        "id": "t0vJ_XcuM1tp"
      },
      "source": [
        "callback = tf.keras.callbacks.EarlyStopping(monitor='loss', patience=3)"
      ],
      "execution_count": null,
      "outputs": []
    },
    {
      "cell_type": "code",
      "metadata": {
        "id": "tvvOxLSAM1m8",
        "outputId": "f50b95ec-8e9e-4a3c-ff42-4ba27a9c4db2",
        "colab": {
          "base_uri": "https://localhost:8080/",
          "height": 221
        }
      },
      "source": [
        "hist = model.fit(tr_data,\n",
        "                 train_y_o,\n",
        "                 batch_size=512,\n",
        "                 epochs=1000,\n",
        "                 validation_data=(vd_data, valid_y_o),\n",
        "                 callbacks=[callback],\n",
        "                 shuffle=True,\n",
        "                 verbose=1)"
      ],
      "execution_count": null,
      "outputs": [
        {
          "output_type": "stream",
          "text": [
            "Epoch 1/1000\n",
            "31/31 [==============================] - 0s 10ms/step - loss: 0.7934 - auc_17: 0.9171 - val_loss: 0.7814 - val_auc_17: 0.9195\n",
            "Epoch 2/1000\n",
            "31/31 [==============================] - 0s 8ms/step - loss: 0.7922 - auc_17: 0.9177 - val_loss: 0.7826 - val_auc_17: 0.9195\n",
            "Epoch 3/1000\n",
            "31/31 [==============================] - 0s 7ms/step - loss: 0.7907 - auc_17: 0.9176 - val_loss: 0.7798 - val_auc_17: 0.9196\n",
            "Epoch 4/1000\n",
            "31/31 [==============================] - 0s 7ms/step - loss: 0.7915 - auc_17: 0.9178 - val_loss: 0.7819 - val_auc_17: 0.9196\n",
            "Epoch 5/1000\n",
            "31/31 [==============================] - 0s 7ms/step - loss: 0.7922 - auc_17: 0.9172 - val_loss: 0.7874 - val_auc_17: 0.9185\n",
            "Epoch 6/1000\n",
            "31/31 [==============================] - 0s 7ms/step - loss: 0.7942 - auc_17: 0.9172 - val_loss: 0.7804 - val_auc_17: 0.9199\n"
          ],
          "name": "stdout"
        }
      ]
    },
    {
      "cell_type": "markdown",
      "metadata": {
        "id": "p01zL5MB6By0"
      },
      "source": [
        "2. Предобучаем word2vec и его эмбединга инициализируем сетку, как влияет на качество?"
      ]
    },
    {
      "cell_type": "markdown",
      "metadata": {
        "id": "QFchA__yW7sI"
      },
      "source": [
        "## Попробуем word2vec с LogisticRegression"
      ]
    },
    {
      "cell_type": "code",
      "metadata": {
        "id": "T2PHP6vT5Ykm"
      },
      "source": [
        "from gensim.models import Word2Vec\n",
        "from sklearn.linear_model import LogisticRegression\n",
        "\n",
        "from sklearn.metrics import roc_auc_score\n",
        "\n",
        "from tqdm import tqdm"
      ],
      "execution_count": null,
      "outputs": []
    },
    {
      "cell_type": "code",
      "metadata": {
        "id": "Fki1lgdimRyd"
      },
      "source": [
        "modelW2V = Word2Vec(sentences=data['Content_prep'].apply(str.split), size=100, window=5, min_count=1)"
      ],
      "execution_count": null,
      "outputs": []
    },
    {
      "cell_type": "code",
      "metadata": {
        "id": "B4w6UKZJMTIh"
      },
      "source": [
        "# modelW2V.wv.vocab"
      ],
      "execution_count": null,
      "outputs": []
    },
    {
      "cell_type": "code",
      "metadata": {
        "id": "r-qmYA-VSGx4"
      },
      "source": [
        "def get_vect_mean(txt):\n",
        "    vector_w2v = np.zeros(100)\n",
        "    n_w2v = 0\n",
        "    for wrd in txt:\n",
        "        if wrd in modelW2V:\n",
        "            vector_w2v += modelW2V[wrd]\n",
        "            n_w2v += 1\n",
        "    if n_w2v > 0:\n",
        "        vector_w2v = vector_w2v / n_w2v\n",
        "    return vector_w2v"
      ],
      "execution_count": null,
      "outputs": []
    },
    {
      "cell_type": "code",
      "metadata": {
        "id": "kKRqRBOsNpkb"
      },
      "source": [
        "y = data['Rating'].values\n",
        "train_x, valid_x, train_y, valid_y = train_test_split(data['Content_prep'].values, y, stratify=y, random_state=43)"
      ],
      "execution_count": null,
      "outputs": []
    },
    {
      "cell_type": "code",
      "metadata": {
        "id": "Qv6e_lKbSGox",
        "outputId": "429f8163-ba9b-459c-f567-b29e07f2ad3f",
        "colab": {
          "base_uri": "https://localhost:8080/",
          "height": 139
        }
      },
      "source": [
        "arr_vect = []\n",
        "for txt in tqdm(train_x):\n",
        "    arr_vect.append(get_vect_mean(txt))\n",
        "\n",
        "arr_vect_valid = []\n",
        "for txt in tqdm(valid_x):\n",
        "    arr_vect_valid.append(get_vect_mean(txt))\n",
        "\n",
        "train_w2v = np.asarray(arr_vect)\n",
        "valid_w2v = np.asarray(arr_vect_valid)"
      ],
      "execution_count": null,
      "outputs": [
        {
          "output_type": "stream",
          "text": [
            "  0%|          | 0/15494 [00:00<?, ?it/s]/usr/local/lib/python3.6/dist-packages/ipykernel_launcher.py:5: DeprecationWarning: Call to deprecated `__contains__` (Method will be removed in 4.0.0, use self.wv.__contains__() instead).\n",
            "  \"\"\"\n",
            "/usr/local/lib/python3.6/dist-packages/ipykernel_launcher.py:6: DeprecationWarning: Call to deprecated `__getitem__` (Method will be removed in 4.0.0, use self.wv.__getitem__() instead).\n",
            "  \n",
            "100%|██████████| 15494/15494 [00:04<00:00, 3374.44it/s]\n",
            "100%|██████████| 5165/5165 [00:01<00:00, 3163.71it/s]\n"
          ],
          "name": "stderr"
        }
      ]
    },
    {
      "cell_type": "code",
      "metadata": {
        "id": "Ejr6CRwaSGeE"
      },
      "source": [
        "lgr_w2v = LogisticRegression()"
      ],
      "execution_count": null,
      "outputs": []
    },
    {
      "cell_type": "code",
      "metadata": {
        "id": "_VDpIiz5SGRV",
        "outputId": "61a369d0-8c3f-477a-c9ca-1b422592ce99",
        "colab": {
          "base_uri": "https://localhost:8080/",
          "height": 238
        }
      },
      "source": [
        "lgr_w2v.fit(train_w2v, train_y)"
      ],
      "execution_count": null,
      "outputs": [
        {
          "output_type": "stream",
          "text": [
            "/usr/local/lib/python3.6/dist-packages/sklearn/linear_model/_logistic.py:940: ConvergenceWarning: lbfgs failed to converge (status=1):\n",
            "STOP: TOTAL NO. of ITERATIONS REACHED LIMIT.\n",
            "\n",
            "Increase the number of iterations (max_iter) or scale the data as shown in:\n",
            "    https://scikit-learn.org/stable/modules/preprocessing.html\n",
            "Please also refer to the documentation for alternative solver options:\n",
            "    https://scikit-learn.org/stable/modules/linear_model.html#logistic-regression\n",
            "  extra_warning_msg=_LOGISTIC_SOLVER_CONVERGENCE_MSG)\n"
          ],
          "name": "stderr"
        },
        {
          "output_type": "execute_result",
          "data": {
            "text/plain": [
              "LogisticRegression(C=1.0, class_weight=None, dual=False, fit_intercept=True,\n",
              "                   intercept_scaling=1, l1_ratio=None, max_iter=100,\n",
              "                   multi_class='auto', n_jobs=None, penalty='l2',\n",
              "                   random_state=None, solver='lbfgs', tol=0.0001, verbose=0,\n",
              "                   warm_start=False)"
            ]
          },
          "metadata": {
            "tags": []
          },
          "execution_count": 148
        }
      ]
    },
    {
      "cell_type": "code",
      "metadata": {
        "id": "OdiuOUNGNtDy"
      },
      "source": [
        "y_pred = lgr_w2v.predict_proba(valid_w2v)"
      ],
      "execution_count": null,
      "outputs": []
    },
    {
      "cell_type": "code",
      "metadata": {
        "id": "nN75DGRRURA4",
        "outputId": "cc407852-532c-46c2-827f-d649d69fb089",
        "colab": {
          "base_uri": "https://localhost:8080/",
          "height": 136
        }
      },
      "source": [
        "y_pred"
      ],
      "execution_count": null,
      "outputs": [
        {
          "output_type": "execute_result",
          "data": {
            "text/plain": [
              "array([[0.10185659, 0.03429833, 0.04154197, 0.09614552, 0.72615758],\n",
              "       [0.10133931, 0.03394707, 0.04182292, 0.10397162, 0.71891908],\n",
              "       [0.08912818, 0.03033862, 0.03831425, 0.10778174, 0.73443721],\n",
              "       ...,\n",
              "       [0.10122598, 0.03410824, 0.04165331, 0.09963014, 0.72338234],\n",
              "       [0.08912818, 0.03033862, 0.03831425, 0.10778174, 0.73443721],\n",
              "       [0.12001547, 0.0391226 , 0.04716077, 0.10432012, 0.68938104]])"
            ]
          },
          "metadata": {
            "tags": []
          },
          "execution_count": 150
        }
      ]
    },
    {
      "cell_type": "code",
      "metadata": {
        "id": "ZV0KBLrXM0vY",
        "outputId": "b173334c-26d7-4fee-c1ad-4af9cb5df93e",
        "colab": {
          "base_uri": "https://localhost:8080/",
          "height": 34
        }
      },
      "source": [
        "roc_auc_score(to_one_hot(valid_y), y_pred)"
      ],
      "execution_count": null,
      "outputs": [
        {
          "output_type": "execute_result",
          "data": {
            "text/plain": [
              "0.6668526427592502"
            ]
          },
          "metadata": {
            "tags": []
          },
          "execution_count": 151
        }
      ]
    },
    {
      "cell_type": "markdown",
      "metadata": {
        "id": "q0cTbXxTXHKv"
      },
      "source": [
        "## Используем word2vec в CNN"
      ]
    },
    {
      "cell_type": "code",
      "metadata": {
        "id": "z89RBnndPdcg",
        "outputId": "f8534e5e-18f1-4691-e6d7-b4e279b84ebb",
        "colab": {
          "base_uri": "https://localhost:8080/",
          "height": 34
        }
      },
      "source": [
        "tr_data = train_w2v.reshape(train_w2v.shape[0], train_w2v.shape[1], 1)\n",
        "vd_data = valid_w2v.reshape(valid_w2v.shape[0], valid_w2v.shape[1], 1)\n",
        "tr_data.shape"
      ],
      "execution_count": null,
      "outputs": [
        {
          "output_type": "execute_result",
          "data": {
            "text/plain": [
              "(15494, 100, 1)"
            ]
          },
          "metadata": {
            "tags": []
          },
          "execution_count": 152
        }
      ]
    },
    {
      "cell_type": "code",
      "metadata": {
        "id": "C1Q-pjKGYWZ6",
        "outputId": "4a7d3c9b-ba5f-4caa-918b-c8a8207b1a14",
        "colab": {
          "base_uri": "https://localhost:8080/",
          "height": 136
        }
      },
      "source": [
        "train_y_o = to_one_hot(train_y)\n",
        "valid_y_o = to_one_hot(valid_y)\n",
        "train_y_o"
      ],
      "execution_count": null,
      "outputs": [
        {
          "output_type": "execute_result",
          "data": {
            "text/plain": [
              "array([[0., 0., 0., 0., 1.],\n",
              "       [0., 0., 0., 0., 1.],\n",
              "       [0., 1., 0., 0., 0.],\n",
              "       ...,\n",
              "       [0., 0., 0., 0., 1.],\n",
              "       [0., 0., 0., 0., 1.],\n",
              "       [0., 0., 0., 0., 1.]])"
            ]
          },
          "metadata": {
            "tags": []
          },
          "execution_count": 153
        }
      ]
    },
    {
      "cell_type": "code",
      "metadata": {
        "id": "6piWCM_TYZBG"
      },
      "source": [
        "# конфигурирование слоев нейросети\n",
        "model = Sequential()\n",
        "\n",
        "# слои нейросети отвественные за свертку и max-pooling\n",
        "model.add(Conv1D(256, 10, padding='same', activation='relu', input_shape=(tr_data.shape[1], 1))) # sigmoid'))relu\n",
        "model.add(Conv1D(256, 10, padding='same', activation='relu'))\n",
        "model.add(MaxPooling1D(pool_size=2))\n",
        "model.add(Dropout(0.25))\n",
        "# if lay_cnt == 2:\n",
        "# model.add(Conv1D(256, 10, padding='same', activation='relu'))\n",
        "# model.add(Conv1D(256, 10, padding='same', activation='relu'))\n",
        "# model.add(MaxPooling1D(pool_size=2))\n",
        "# model.add(Dropout(0.25))\n",
        "\n",
        "# полносвязные слои нейронной сети\n",
        "model.add(Flatten())\n",
        "model.add(Dense(64, activation='relu')) # 'relu'))\n",
        "# model.add(Dense(neurons, activation='relu'))))\n",
        "model.add(Dropout(0.5))\n",
        "model.add(Dense(5, activation='softmax')) # sigmoid'))\n",
        "\n",
        "# компиляция модели\n",
        "model.compile(optimizer=tf.keras.optimizers.Adam(1e-3),#\n",
        "              loss=tf.keras.losses.CategoricalCrossentropy(),\n",
        "              metrics=[tf.keras.metrics.AUC()])"
      ],
      "execution_count": null,
      "outputs": []
    },
    {
      "cell_type": "code",
      "metadata": {
        "id": "BbPnoA-gZE5T",
        "outputId": "261e7b3c-98c8-425f-f787-773654172f76",
        "colab": {
          "base_uri": "https://localhost:8080/",
          "height": 425
        }
      },
      "source": [
        "model.summary()"
      ],
      "execution_count": null,
      "outputs": [
        {
          "output_type": "stream",
          "text": [
            "Model: \"sequential_24\"\n",
            "_________________________________________________________________\n",
            "Layer (type)                 Output Shape              Param #   \n",
            "=================================================================\n",
            "conv1d_46 (Conv1D)           (None, 100, 256)          2816      \n",
            "_________________________________________________________________\n",
            "conv1d_47 (Conv1D)           (None, 100, 256)          655616    \n",
            "_________________________________________________________________\n",
            "max_pooling1d_18 (MaxPooling (None, 50, 256)           0         \n",
            "_________________________________________________________________\n",
            "dropout_46 (Dropout)         (None, 50, 256)           0         \n",
            "_________________________________________________________________\n",
            "flatten_24 (Flatten)         (None, 12800)             0         \n",
            "_________________________________________________________________\n",
            "dense_48 (Dense)             (None, 64)                819264    \n",
            "_________________________________________________________________\n",
            "dropout_47 (Dropout)         (None, 64)                0         \n",
            "_________________________________________________________________\n",
            "dense_49 (Dense)             (None, 5)                 325       \n",
            "=================================================================\n",
            "Total params: 1,478,021\n",
            "Trainable params: 1,478,021\n",
            "Non-trainable params: 0\n",
            "_________________________________________________________________\n"
          ],
          "name": "stdout"
        }
      ]
    },
    {
      "cell_type": "code",
      "metadata": {
        "id": "-igf2ha4ZJLW"
      },
      "source": [
        "callback = tf.keras.callbacks.EarlyStopping(monitor='loss', patience=3)"
      ],
      "execution_count": null,
      "outputs": []
    },
    {
      "cell_type": "code",
      "metadata": {
        "id": "mBnAksHuZNnf",
        "outputId": "3030881c-7029-4abd-d5cd-a9178633f887",
        "colab": {
          "base_uri": "https://localhost:8080/",
          "height": 1000
        }
      },
      "source": [
        "hist = model.fit(tr_data,\n",
        "                 train_y_o,\n",
        "                 batch_size=512,\n",
        "                 epochs=1000,\n",
        "                 validation_data=(vd_data, valid_y_o),\n",
        "                 callbacks=[callback],\n",
        "                 shuffle=True,\n",
        "                 verbose=1)"
      ],
      "execution_count": null,
      "outputs": [
        {
          "output_type": "stream",
          "text": [
            "Epoch 1/1000\n",
            " 2/31 [>.............................] - ETA: 0s - loss: 1.5819 - auc_24: 0.6828WARNING:tensorflow:Callbacks method `on_train_batch_end` is slow compared to the batch time (batch time: 0.0223s vs `on_train_batch_end` time: 0.0462s). Check your callbacks.\n",
            "31/31 [==============================] - 2s 61ms/step - loss: 1.1413 - auc_24: 0.8279 - val_loss: 0.9897 - val_auc_24: 0.8518\n",
            "Epoch 2/1000\n",
            "31/31 [==============================] - 2s 51ms/step - loss: 1.0311 - auc_24: 0.8447 - val_loss: 0.9875 - val_auc_24: 0.8543\n",
            "Epoch 3/1000\n",
            "31/31 [==============================] - 2s 52ms/step - loss: 1.0305 - auc_24: 0.8443 - val_loss: 0.9788 - val_auc_24: 0.8559\n",
            "Epoch 4/1000\n",
            "31/31 [==============================] - 2s 51ms/step - loss: 1.0156 - auc_24: 0.8484 - val_loss: 0.9716 - val_auc_24: 0.8568\n",
            "Epoch 5/1000\n",
            "31/31 [==============================] - 2s 52ms/step - loss: 1.0029 - auc_24: 0.8523 - val_loss: 0.9703 - val_auc_24: 0.8594\n",
            "Epoch 6/1000\n",
            "31/31 [==============================] - 2s 52ms/step - loss: 0.9949 - auc_24: 0.8548 - val_loss: 0.9784 - val_auc_24: 0.8602\n",
            "Epoch 7/1000\n",
            "31/31 [==============================] - 2s 52ms/step - loss: 0.9974 - auc_24: 0.8540 - val_loss: 0.9631 - val_auc_24: 0.8697\n",
            "Epoch 8/1000\n",
            "31/31 [==============================] - 2s 52ms/step - loss: 0.9892 - auc_24: 0.8576 - val_loss: 0.9618 - val_auc_24: 0.8711\n",
            "Epoch 9/1000\n",
            "31/31 [==============================] - 2s 52ms/step - loss: 0.9869 - auc_24: 0.8589 - val_loss: 0.9581 - val_auc_24: 0.8743\n",
            "Epoch 10/1000\n",
            "31/31 [==============================] - 2s 52ms/step - loss: 0.9802 - auc_24: 0.8616 - val_loss: 0.9625 - val_auc_24: 0.8676\n",
            "Epoch 11/1000\n",
            "31/31 [==============================] - 2s 52ms/step - loss: 0.9763 - auc_24: 0.8631 - val_loss: 0.9437 - val_auc_24: 0.8769\n",
            "Epoch 12/1000\n",
            "31/31 [==============================] - 2s 52ms/step - loss: 0.9647 - auc_24: 0.8677 - val_loss: 0.9421 - val_auc_24: 0.8774\n",
            "Epoch 13/1000\n",
            "31/31 [==============================] - 2s 52ms/step - loss: 0.9604 - auc_24: 0.8696 - val_loss: 0.9361 - val_auc_24: 0.8789\n",
            "Epoch 14/1000\n",
            "31/31 [==============================] - 2s 52ms/step - loss: 0.9524 - auc_24: 0.8738 - val_loss: 0.9328 - val_auc_24: 0.8815\n",
            "Epoch 15/1000\n",
            "31/31 [==============================] - 2s 52ms/step - loss: 0.9547 - auc_24: 0.8728 - val_loss: 0.9287 - val_auc_24: 0.8847\n",
            "Epoch 16/1000\n",
            "31/31 [==============================] - 2s 53ms/step - loss: 0.9492 - auc_24: 0.8751 - val_loss: 0.9239 - val_auc_24: 0.8871\n",
            "Epoch 17/1000\n",
            "31/31 [==============================] - 2s 52ms/step - loss: 0.9371 - auc_24: 0.8791 - val_loss: 0.9120 - val_auc_24: 0.8885\n",
            "Epoch 18/1000\n",
            "31/31 [==============================] - 2s 52ms/step - loss: 0.9331 - auc_24: 0.8804 - val_loss: 0.9082 - val_auc_24: 0.8907\n",
            "Epoch 19/1000\n",
            "31/31 [==============================] - 2s 52ms/step - loss: 0.9263 - auc_24: 0.8836 - val_loss: 0.8989 - val_auc_24: 0.8931\n",
            "Epoch 20/1000\n",
            "31/31 [==============================] - 2s 52ms/step - loss: 0.9267 - auc_24: 0.8833 - val_loss: 0.9102 - val_auc_24: 0.8913\n",
            "Epoch 21/1000\n",
            "31/31 [==============================] - 2s 52ms/step - loss: 0.9105 - auc_24: 0.8886 - val_loss: 0.8879 - val_auc_24: 0.8970\n",
            "Epoch 22/1000\n",
            "31/31 [==============================] - 2s 52ms/step - loss: 0.9044 - auc_24: 0.8911 - val_loss: 0.8845 - val_auc_24: 0.8992\n",
            "Epoch 23/1000\n",
            "31/31 [==============================] - 2s 52ms/step - loss: 0.9019 - auc_24: 0.8920 - val_loss: 0.8976 - val_auc_24: 0.8991\n",
            "Epoch 24/1000\n",
            "31/31 [==============================] - 2s 52ms/step - loss: 0.9035 - auc_24: 0.8915 - val_loss: 0.8707 - val_auc_24: 0.9018\n",
            "Epoch 25/1000\n",
            "31/31 [==============================] - 2s 51ms/step - loss: 0.8866 - auc_24: 0.8965 - val_loss: 0.8654 - val_auc_24: 0.9025\n",
            "Epoch 26/1000\n",
            "31/31 [==============================] - 2s 52ms/step - loss: 0.8848 - auc_24: 0.8972 - val_loss: 0.8585 - val_auc_24: 0.9042\n",
            "Epoch 27/1000\n",
            "31/31 [==============================] - 2s 52ms/step - loss: 0.8764 - auc_24: 0.8996 - val_loss: 0.8510 - val_auc_24: 0.9059\n",
            "Epoch 28/1000\n",
            "31/31 [==============================] - 2s 51ms/step - loss: 0.8735 - auc_24: 0.9007 - val_loss: 0.8583 - val_auc_24: 0.9052\n",
            "Epoch 29/1000\n",
            "31/31 [==============================] - 2s 51ms/step - loss: 0.8695 - auc_24: 0.9016 - val_loss: 0.8488 - val_auc_24: 0.9078\n",
            "Epoch 30/1000\n",
            "31/31 [==============================] - 2s 51ms/step - loss: 0.8688 - auc_24: 0.9018 - val_loss: 0.8575 - val_auc_24: 0.9078\n",
            "Epoch 31/1000\n",
            "31/31 [==============================] - 2s 51ms/step - loss: 0.8688 - auc_24: 0.9017 - val_loss: 0.8398 - val_auc_24: 0.9086\n",
            "Epoch 32/1000\n",
            "31/31 [==============================] - 2s 52ms/step - loss: 0.8610 - auc_24: 0.9037 - val_loss: 0.8391 - val_auc_24: 0.9089\n",
            "Epoch 33/1000\n",
            "31/31 [==============================] - 2s 52ms/step - loss: 0.8587 - auc_24: 0.9042 - val_loss: 0.8396 - val_auc_24: 0.9093\n",
            "Epoch 34/1000\n",
            "31/31 [==============================] - 2s 51ms/step - loss: 0.8586 - auc_24: 0.9044 - val_loss: 0.8406 - val_auc_24: 0.9083\n",
            "Epoch 35/1000\n",
            "31/31 [==============================] - 2s 51ms/step - loss: 0.8602 - auc_24: 0.9037 - val_loss: 0.8397 - val_auc_24: 0.9092\n",
            "Epoch 36/1000\n",
            "31/31 [==============================] - 2s 51ms/step - loss: 0.8523 - auc_24: 0.9058 - val_loss: 0.8504 - val_auc_24: 0.9094\n",
            "Epoch 37/1000\n",
            "31/31 [==============================] - 2s 51ms/step - loss: 0.8543 - auc_24: 0.9053 - val_loss: 0.8363 - val_auc_24: 0.9098\n",
            "Epoch 38/1000\n",
            "31/31 [==============================] - 2s 51ms/step - loss: 0.8496 - auc_24: 0.9064 - val_loss: 0.8314 - val_auc_24: 0.9099\n",
            "Epoch 39/1000\n",
            "31/31 [==============================] - 2s 51ms/step - loss: 0.8493 - auc_24: 0.9063 - val_loss: 0.8493 - val_auc_24: 0.9085\n",
            "Epoch 40/1000\n",
            "31/31 [==============================] - 2s 51ms/step - loss: 0.8522 - auc_24: 0.9060 - val_loss: 0.8284 - val_auc_24: 0.9108\n",
            "Epoch 41/1000\n",
            "31/31 [==============================] - 2s 51ms/step - loss: 0.8504 - auc_24: 0.9059 - val_loss: 0.8296 - val_auc_24: 0.9105\n",
            "Epoch 42/1000\n",
            "31/31 [==============================] - 2s 51ms/step - loss: 0.8478 - auc_24: 0.9070 - val_loss: 0.8351 - val_auc_24: 0.9094\n",
            "Epoch 43/1000\n",
            "31/31 [==============================] - 2s 51ms/step - loss: 0.8458 - auc_24: 0.9070 - val_loss: 0.8266 - val_auc_24: 0.9111\n",
            "Epoch 44/1000\n",
            "31/31 [==============================] - 2s 51ms/step - loss: 0.8511 - auc_24: 0.9059 - val_loss: 0.8277 - val_auc_24: 0.9111\n",
            "Epoch 45/1000\n",
            "31/31 [==============================] - 2s 51ms/step - loss: 0.8462 - auc_24: 0.9070 - val_loss: 0.8320 - val_auc_24: 0.9103\n",
            "Epoch 46/1000\n",
            "31/31 [==============================] - 2s 51ms/step - loss: 0.8487 - auc_24: 0.9066 - val_loss: 0.8273 - val_auc_24: 0.9114\n"
          ],
          "name": "stdout"
        }
      ]
    },
    {
      "cell_type": "code",
      "metadata": {
        "id": "VqDkCcM3ZUHB"
      },
      "source": [],
      "execution_count": null,
      "outputs": []
    }
  ]
}