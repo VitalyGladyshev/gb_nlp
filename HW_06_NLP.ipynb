{
  "nbformat": 4,
  "nbformat_minor": 0,
  "metadata": {
    "colab": {
      "name": "HW_06_NLP.ipynb",
      "provenance": [],
      "collapsed_sections": [],
      "authorship_tag": "ABX9TyMhwBUd36DbbdqnJvoZ88WK",
      "include_colab_link": true
    },
    "kernelspec": {
      "name": "python3",
      "display_name": "Python 3"
    },
    "accelerator": "GPU"
  },
  "cells": [
    {
      "cell_type": "markdown",
      "metadata": {
        "id": "view-in-github",
        "colab_type": "text"
      },
      "source": [
        "<a href=\"https://colab.research.google.com/github/VitalyGladyshev/gb_nlp/blob/main/HW_06_NLP.ipynb\" target=\"_parent\"><img src=\"https://colab.research.google.com/assets/colab-badge.svg\" alt=\"Open In Colab\"/></a>"
      ]
    },
    {
      "cell_type": "markdown",
      "metadata": {
        "id": "amktXsBgcNzM"
      },
      "source": [
        "# ДЗ 06 NLP"
      ]
    },
    {
      "cell_type": "markdown",
      "metadata": {
        "id": "I-Lta50hcWrb"
      },
      "source": [
        "Берем отызывы за лето (из архива с материалами или предыдущего занятия)"
      ]
    },
    {
      "cell_type": "code",
      "metadata": {
        "id": "yEb0ZSkacJxb"
      },
      "source": [
        "import numpy as np\n",
        "import pandas as pd\n",
        "\n",
        "from sklearn.model_selection import train_test_split"
      ],
      "execution_count": 2,
      "outputs": []
    },
    {
      "cell_type": "code",
      "metadata": {
        "id": "BiJ7-4mCcaJF",
        "outputId": "eb1730c7-0bec-4034-ce60-c613a7251feb",
        "colab": {
          "base_uri": "https://localhost:8080/",
          "height": 34
        }
      },
      "source": [
        "from google.colab import drive\n",
        "drive.mount('/content/gdrive')"
      ],
      "execution_count": 3,
      "outputs": [
        {
          "output_type": "stream",
          "text": [
            "Mounted at /content/gdrive\n"
          ],
          "name": "stdout"
        }
      ]
    },
    {
      "cell_type": "code",
      "metadata": {
        "id": "xLLnHp_OccIv",
        "outputId": "42db2b2c-4e19-42cc-e64b-981c196f0c6a",
        "colab": {
          "base_uri": "https://localhost:8080/",
          "height": 142
        }
      },
      "source": [
        "path_otzv = \"/content/gdrive/My Drive/Colab Notebooks/NLP/отзывы за лето.xls\"\n",
        "data = pd.read_excel(path_otzv)\n",
        "data.tail(3)"
      ],
      "execution_count": 4,
      "outputs": [
        {
          "output_type": "execute_result",
          "data": {
            "text/html": [
              "<div>\n",
              "<style scoped>\n",
              "    .dataframe tbody tr th:only-of-type {\n",
              "        vertical-align: middle;\n",
              "    }\n",
              "\n",
              "    .dataframe tbody tr th {\n",
              "        vertical-align: top;\n",
              "    }\n",
              "\n",
              "    .dataframe thead th {\n",
              "        text-align: right;\n",
              "    }\n",
              "</style>\n",
              "<table border=\"1\" class=\"dataframe\">\n",
              "  <thead>\n",
              "    <tr style=\"text-align: right;\">\n",
              "      <th></th>\n",
              "      <th>Rating</th>\n",
              "      <th>Content</th>\n",
              "      <th>Date</th>\n",
              "    </tr>\n",
              "  </thead>\n",
              "  <tbody>\n",
              "    <tr>\n",
              "      <th>20656</th>\n",
              "      <td>4</td>\n",
              "      <td>Доволен</td>\n",
              "      <td>2017-06-01</td>\n",
              "    </tr>\n",
              "    <tr>\n",
              "      <th>20657</th>\n",
              "      <td>1</td>\n",
              "      <td>Песопаснасть, рут ни нужын</td>\n",
              "      <td>2017-06-01</td>\n",
              "    </tr>\n",
              "    <tr>\n",
              "      <th>20658</th>\n",
              "      <td>5</td>\n",
              "      <td>Сбербанк бомбовая компания на сегодняшний день...</td>\n",
              "      <td>2017-06-01</td>\n",
              "    </tr>\n",
              "  </tbody>\n",
              "</table>\n",
              "</div>"
            ],
            "text/plain": [
              "       Rating                                            Content        Date\n",
              "20656       4                                            Доволен  2017-06-01\n",
              "20657       1                         Песопаснасть, рут ни нужын  2017-06-01\n",
              "20658       5  Сбербанк бомбовая компания на сегодняшний день...  2017-06-01"
            ]
          },
          "metadata": {
            "tags": []
          },
          "execution_count": 4
        }
      ]
    },
    {
      "cell_type": "code",
      "metadata": {
        "id": "NO01OHAFhJB1",
        "outputId": "65a0d1c2-d50e-474c-a64d-b4c7c85ac7a5",
        "colab": {
          "base_uri": "https://localhost:8080/",
          "height": 187
        }
      },
      "source": [
        "data.info()"
      ],
      "execution_count": 5,
      "outputs": [
        {
          "output_type": "stream",
          "text": [
            "<class 'pandas.core.frame.DataFrame'>\n",
            "RangeIndex: 20659 entries, 0 to 20658\n",
            "Data columns (total 3 columns):\n",
            " #   Column   Non-Null Count  Dtype \n",
            "---  ------   --------------  ----- \n",
            " 0   Rating   20659 non-null  int64 \n",
            " 1   Content  20656 non-null  object\n",
            " 2   Date     20659 non-null  object\n",
            "dtypes: int64(1), object(2)\n",
            "memory usage: 484.3+ KB\n"
          ],
          "name": "stdout"
        }
      ]
    },
    {
      "cell_type": "code",
      "metadata": {
        "id": "cmovxBarhNwk",
        "outputId": "0711b3bc-1def-409b-93b1-8842e7ec9cec",
        "colab": {
          "base_uri": "https://localhost:8080/",
          "height": 204
        }
      },
      "source": [
        "from datetime import datetime\n",
        "\n",
        "# data[\"Year\"] = [datetime.strptime(dt, '%Y-%m-%d').year for dt in data[\"Date\"].values]\n",
        "data[\"Month\"] = [datetime.strptime(dt, '%Y-%m-%d').month for dt in data[\"Date\"].values]\n",
        "data[\"Day\"] = [datetime.strptime(dt, '%Y-%m-%d').day for dt in data[\"Date\"].values]\n",
        "data.head()"
      ],
      "execution_count": 6,
      "outputs": [
        {
          "output_type": "execute_result",
          "data": {
            "text/html": [
              "<div>\n",
              "<style scoped>\n",
              "    .dataframe tbody tr th:only-of-type {\n",
              "        vertical-align: middle;\n",
              "    }\n",
              "\n",
              "    .dataframe tbody tr th {\n",
              "        vertical-align: top;\n",
              "    }\n",
              "\n",
              "    .dataframe thead th {\n",
              "        text-align: right;\n",
              "    }\n",
              "</style>\n",
              "<table border=\"1\" class=\"dataframe\">\n",
              "  <thead>\n",
              "    <tr style=\"text-align: right;\">\n",
              "      <th></th>\n",
              "      <th>Rating</th>\n",
              "      <th>Content</th>\n",
              "      <th>Date</th>\n",
              "      <th>Month</th>\n",
              "      <th>Day</th>\n",
              "    </tr>\n",
              "  </thead>\n",
              "  <tbody>\n",
              "    <tr>\n",
              "      <th>0</th>\n",
              "      <td>5</td>\n",
              "      <td>It just works!</td>\n",
              "      <td>2017-08-14</td>\n",
              "      <td>8</td>\n",
              "      <td>14</td>\n",
              "    </tr>\n",
              "    <tr>\n",
              "      <th>1</th>\n",
              "      <td>4</td>\n",
              "      <td>В целом удобноное приложение...из минусов хотя...</td>\n",
              "      <td>2017-08-14</td>\n",
              "      <td>8</td>\n",
              "      <td>14</td>\n",
              "    </tr>\n",
              "    <tr>\n",
              "      <th>2</th>\n",
              "      <td>5</td>\n",
              "      <td>Отлично все</td>\n",
              "      <td>2017-08-14</td>\n",
              "      <td>8</td>\n",
              "      <td>14</td>\n",
              "    </tr>\n",
              "    <tr>\n",
              "      <th>3</th>\n",
              "      <td>5</td>\n",
              "      <td>Стал зависать на 1% работы антивируса. Дальше ...</td>\n",
              "      <td>2017-08-14</td>\n",
              "      <td>8</td>\n",
              "      <td>14</td>\n",
              "    </tr>\n",
              "    <tr>\n",
              "      <th>4</th>\n",
              "      <td>5</td>\n",
              "      <td>Очень удобно, работает быстро.</td>\n",
              "      <td>2017-08-14</td>\n",
              "      <td>8</td>\n",
              "      <td>14</td>\n",
              "    </tr>\n",
              "  </tbody>\n",
              "</table>\n",
              "</div>"
            ],
            "text/plain": [
              "   Rating                                            Content  ... Month  Day\n",
              "0       5                                     It just works!  ...     8   14\n",
              "1       4  В целом удобноное приложение...из минусов хотя...  ...     8   14\n",
              "2       5                                        Отлично все  ...     8   14\n",
              "3       5  Стал зависать на 1% работы антивируса. Дальше ...  ...     8   14\n",
              "4       5                     Очень удобно, работает быстро.  ...     8   14\n",
              "\n",
              "[5 rows x 5 columns]"
            ]
          },
          "metadata": {
            "tags": []
          },
          "execution_count": 6
        }
      ]
    },
    {
      "cell_type": "markdown",
      "metadata": {
        "id": "2UmVNOrFhbJ1"
      },
      "source": [
        "## Задание"
      ]
    },
    {
      "cell_type": "markdown",
      "metadata": {
        "id": "T8Y6yU88hccU"
      },
      "source": [
        "Провести сравнение RNN, LSTM, GRU на датасете отзывов"
      ]
    },
    {
      "cell_type": "code",
      "metadata": {
        "id": "8Mc70aqyhS26",
        "outputId": "eca1875d-dac4-41e9-d4e7-479850663c5e",
        "colab": {
          "base_uri": "https://localhost:8080/",
          "height": 190
        }
      },
      "source": [
        "pip install stop_words"
      ],
      "execution_count": 7,
      "outputs": [
        {
          "output_type": "stream",
          "text": [
            "Collecting stop_words\n",
            "  Downloading https://files.pythonhosted.org/packages/1c/cb/d58290804b7a4c5daa42abbbe2a93c477ae53e45541b1825e86f0dfaaf63/stop-words-2018.7.23.tar.gz\n",
            "Building wheels for collected packages: stop-words\n",
            "  Building wheel for stop-words (setup.py) ... \u001b[?25l\u001b[?25hdone\n",
            "  Created wheel for stop-words: filename=stop_words-2018.7.23-cp36-none-any.whl size=32916 sha256=f65c8124395683d94a2d77744b4028824c8e34e1d2d39a436531222e5c1814e1\n",
            "  Stored in directory: /root/.cache/pip/wheels/75/37/6a/2b295e03bd07290f0da95c3adb9a74ba95fbc333aa8b0c7c78\n",
            "Successfully built stop-words\n",
            "Installing collected packages: stop-words\n",
            "Successfully installed stop-words-2018.7.23\n"
          ],
          "name": "stdout"
        }
      ]
    },
    {
      "cell_type": "code",
      "metadata": {
        "id": "22hsagnThlGO",
        "outputId": "0afe8374-bd41-4e89-ae97-67ff00cf6425",
        "colab": {
          "base_uri": "https://localhost:8080/",
          "height": 224
        }
      },
      "source": [
        "pip install pymorphy2"
      ],
      "execution_count": 8,
      "outputs": [
        {
          "output_type": "stream",
          "text": [
            "Collecting pymorphy2\n",
            "\u001b[?25l  Downloading https://files.pythonhosted.org/packages/07/57/b2ff2fae3376d4f3c697b9886b64a54b476e1a332c67eee9f88e7f1ae8c9/pymorphy2-0.9.1-py3-none-any.whl (55kB)\n",
            "\r\u001b[K     |██████                          | 10kB 23.3MB/s eta 0:00:01\r\u001b[K     |███████████▉                    | 20kB 26.6MB/s eta 0:00:01\r\u001b[K     |█████████████████▊              | 30kB 30.5MB/s eta 0:00:01\r\u001b[K     |███████████████████████▋        | 40kB 17.7MB/s eta 0:00:01\r\u001b[K     |█████████████████████████████▌  | 51kB 13.9MB/s eta 0:00:01\r\u001b[K     |████████████████████████████████| 61kB 7.0MB/s \n",
            "\u001b[?25hRequirement already satisfied: docopt>=0.6 in /usr/local/lib/python3.6/dist-packages (from pymorphy2) (0.6.2)\n",
            "Collecting dawg-python>=0.7.1\n",
            "  Downloading https://files.pythonhosted.org/packages/6a/84/ff1ce2071d4c650ec85745766c0047ccc3b5036f1d03559fd46bb38b5eeb/DAWG_Python-0.7.2-py2.py3-none-any.whl\n",
            "Collecting pymorphy2-dicts-ru<3.0,>=2.4\n",
            "\u001b[?25l  Downloading https://files.pythonhosted.org/packages/3a/79/bea0021eeb7eeefde22ef9e96badf174068a2dd20264b9a378f2be1cdd9e/pymorphy2_dicts_ru-2.4.417127.4579844-py2.py3-none-any.whl (8.2MB)\n",
            "\u001b[K     |████████████████████████████████| 8.2MB 15.5MB/s \n",
            "\u001b[?25hInstalling collected packages: dawg-python, pymorphy2-dicts-ru, pymorphy2\n",
            "Successfully installed dawg-python-0.7.2 pymorphy2-0.9.1 pymorphy2-dicts-ru-2.4.417127.4579844\n"
          ],
          "name": "stdout"
        }
      ]
    },
    {
      "cell_type": "code",
      "metadata": {
        "id": "uwIhSwM6hnNU"
      },
      "source": [
        "from string import punctuation\n",
        "from stop_words import get_stop_words\n",
        "from pymorphy2 import MorphAnalyzer\n",
        "import re"
      ],
      "execution_count": 9,
      "outputs": []
    },
    {
      "cell_type": "code",
      "metadata": {
        "id": "L9E1FpTThqt8"
      },
      "source": [
        "sw = set(get_stop_words(\"ru\"))\n",
        "exclude = set(punctuation)\n",
        "morpher = MorphAnalyzer()\n",
        "\n",
        "def preprocess_text(txt):\n",
        "    txt = str(txt)\n",
        "    txt = \"\".join(c for c in txt if c not in exclude)\n",
        "    txt = txt.lower()\n",
        "    txt = re.sub(\"\\sне\", \"не\", txt)\n",
        "    txt = [morpher.parse(word)[0].normal_form for word in txt.split() if word not in sw]\n",
        "    return \" \".join(txt)"
      ],
      "execution_count": 10,
      "outputs": []
    },
    {
      "cell_type": "code",
      "metadata": {
        "id": "_6n37_IHhyVp",
        "outputId": "c74f9c07-3c48-4430-8b0f-c9906112ac82",
        "colab": {
          "base_uri": "https://localhost:8080/",
          "height": 204
        }
      },
      "source": [
        "data['Content_prep'] = data['Content'].apply(preprocess_text)\n",
        "data.tail()"
      ],
      "execution_count": 11,
      "outputs": [
        {
          "output_type": "execute_result",
          "data": {
            "text/html": [
              "<div>\n",
              "<style scoped>\n",
              "    .dataframe tbody tr th:only-of-type {\n",
              "        vertical-align: middle;\n",
              "    }\n",
              "\n",
              "    .dataframe tbody tr th {\n",
              "        vertical-align: top;\n",
              "    }\n",
              "\n",
              "    .dataframe thead th {\n",
              "        text-align: right;\n",
              "    }\n",
              "</style>\n",
              "<table border=\"1\" class=\"dataframe\">\n",
              "  <thead>\n",
              "    <tr style=\"text-align: right;\">\n",
              "      <th></th>\n",
              "      <th>Rating</th>\n",
              "      <th>Content</th>\n",
              "      <th>Date</th>\n",
              "      <th>Month</th>\n",
              "      <th>Day</th>\n",
              "      <th>Content_prep</th>\n",
              "    </tr>\n",
              "  </thead>\n",
              "  <tbody>\n",
              "    <tr>\n",
              "      <th>20654</th>\n",
              "      <td>1</td>\n",
              "      <td>Ну и шляпа,с роот правами бесполезная прога,ра...</td>\n",
              "      <td>2017-06-01</td>\n",
              "      <td>6</td>\n",
              "      <td>1</td>\n",
              "      <td>шляпас роот право бесполезный прогаразрабыв ох...</td>\n",
              "    </tr>\n",
              "    <tr>\n",
              "      <th>20655</th>\n",
              "      <td>5</td>\n",
              "      <td>Ок</td>\n",
              "      <td>2017-06-01</td>\n",
              "      <td>6</td>\n",
              "      <td>1</td>\n",
              "      <td>около</td>\n",
              "    </tr>\n",
              "    <tr>\n",
              "      <th>20656</th>\n",
              "      <td>4</td>\n",
              "      <td>Доволен</td>\n",
              "      <td>2017-06-01</td>\n",
              "      <td>6</td>\n",
              "      <td>1</td>\n",
              "      <td>довольный</td>\n",
              "    </tr>\n",
              "    <tr>\n",
              "      <th>20657</th>\n",
              "      <td>1</td>\n",
              "      <td>Песопаснасть, рут ни нужын</td>\n",
              "      <td>2017-06-01</td>\n",
              "      <td>6</td>\n",
              "      <td>1</td>\n",
              "      <td>песопаснастя рута нужын</td>\n",
              "    </tr>\n",
              "    <tr>\n",
              "      <th>20658</th>\n",
              "      <td>5</td>\n",
              "      <td>Сбербанк бомбовая компания на сегодняшний день...</td>\n",
              "      <td>2017-06-01</td>\n",
              "      <td>6</td>\n",
              "      <td>1</td>\n",
              "      <td>сбербанк бомбовый компания сегодняшний лидер б...</td>\n",
              "    </tr>\n",
              "  </tbody>\n",
              "</table>\n",
              "</div>"
            ],
            "text/plain": [
              "       Rating  ...                                       Content_prep\n",
              "20654       1  ...  шляпас роот право бесполезный прогаразрабыв ох...\n",
              "20655       5  ...                                              около\n",
              "20656       4  ...                                          довольный\n",
              "20657       1  ...                            песопаснастя рута нужын\n",
              "20658       5  ...  сбербанк бомбовый компания сегодняшний лидер б...\n",
              "\n",
              "[5 rows x 6 columns]"
            ]
          },
          "metadata": {
            "tags": []
          },
          "execution_count": 11
        }
      ]
    },
    {
      "cell_type": "code",
      "metadata": {
        "id": "GB-oFQjXh1k7"
      },
      "source": [
        "train_corpus = \" \".join(data['Content_prep'])"
      ],
      "execution_count": 144,
      "outputs": []
    },
    {
      "cell_type": "code",
      "metadata": {
        "id": "Qsrq6xOBh5CD",
        "outputId": "443787e2-53b1-4c08-f649-2dd3dc25b35f",
        "colab": {
          "base_uri": "https://localhost:8080/",
          "height": 51
        }
      },
      "source": [
        "import nltk\n",
        "from nltk.tokenize import word_tokenize\n",
        "nltk.download(\"punkt\")\n",
        "\n",
        "tokens_tot = word_tokenize(train_corpus)"
      ],
      "execution_count": 145,
      "outputs": [
        {
          "output_type": "stream",
          "text": [
            "[nltk_data] Downloading package punkt to /root/nltk_data...\n",
            "[nltk_data]   Package punkt is already up-to-date!\n"
          ],
          "name": "stdout"
        }
      ]
    },
    {
      "cell_type": "code",
      "metadata": {
        "id": "OqyJXCWth-Pn"
      },
      "source": [
        "tokens_filtered = [word for word in tokens_tot if word.isalnum()]"
      ],
      "execution_count": 146,
      "outputs": []
    },
    {
      "cell_type": "code",
      "metadata": {
        "id": "UkaGXfmFiB4O"
      },
      "source": [
        "from nltk.probability import FreqDist\n",
        "dist = FreqDist(tokens_filtered)"
      ],
      "execution_count": 147,
      "outputs": []
    },
    {
      "cell_type": "code",
      "metadata": {
        "id": "Hl3r-JuEiEnD"
      },
      "source": [
        "vocabulary = {v: i+100  for i, v in enumerate(dist) if dist[v]>1}"
      ],
      "execution_count": 148,
      "outputs": []
    },
    {
      "cell_type": "code",
      "metadata": {
        "id": "9mjJ3ecEiHkD"
      },
      "source": [
        "def text_to_sequence(text, maxlen):\n",
        "    result = []\n",
        "    tokens = word_tokenize(text.lower())\n",
        "    tokens_filtered = [word for word in tokens if word.isalnum()]\n",
        "    for word in tokens_filtered:\n",
        "        if word in vocabulary:\n",
        "            result.append(vocabulary[word])\n",
        "    padding = [0]*(maxlen-len(result))\n",
        "    return result[-maxlen:] + padding "
      ],
      "execution_count": 149,
      "outputs": []
    },
    {
      "cell_type": "code",
      "metadata": {
        "id": "R45IRcRHiLFE",
        "outputId": "be7305fd-1336-424e-f729-fa7d7a1fa4e5",
        "colab": {
          "base_uri": "https://localhost:8080/",
          "height": 136
        }
      },
      "source": [
        "data_embeded = np.asarray([text_to_sequence(text, 8) for text in data['Content_prep']], dtype=np.int32)\n",
        "data_embeded = np.hstack(((data['Month'].values+50).reshape(data['Month'].values.shape[0], 1), data_embeded))\n",
        "data_embeded = np.hstack(((data['Day'].values).reshape(data['Day'].values.shape[0], 1), data_embeded))\n",
        "data_embeded"
      ],
      "execution_count": 166,
      "outputs": [
        {
          "output_type": "execute_result",
          "data": {
            "text/plain": [
              "array([[  14,   58,  100, ...,    0,    0,    0],\n",
              "       [  14,   58,  107, ...,  113,  114,  115],\n",
              "       [  14,   58,  116, ...,    0,    0,    0],\n",
              "       ...,\n",
              "       [   1,   56,  274, ...,    0,    0,    0],\n",
              "       [   1,   56,  525, ...,    0,    0,    0],\n",
              "       [   1,   56,  182, ...,  427, 3814,    0]])"
            ]
          },
          "metadata": {
            "tags": []
          },
          "execution_count": 166
        }
      ]
    },
    {
      "cell_type": "code",
      "metadata": {
        "id": "3mHtD3COiSnZ"
      },
      "source": [
        "y = data['Rating'].values\n",
        "train_x, valid_x, train_y, valid_y = train_test_split(data_embeded, y, stratify=y, random_state=43)"
      ],
      "execution_count": 167,
      "outputs": []
    },
    {
      "cell_type": "code",
      "metadata": {
        "id": "l3mPjTCLiWvj",
        "outputId": "97113fe0-7ccd-47fc-e64d-6f8ef3d14066",
        "colab": {
          "base_uri": "https://localhost:8080/",
          "height": 34
        }
      },
      "source": [
        "tr_data = train_x.reshape(train_x.shape[0], train_x.shape[1], 1)\n",
        "vd_data = valid_x.reshape(valid_x.shape[0], valid_x.shape[1], 1)\n",
        "tr_data.shape"
      ],
      "execution_count": 168,
      "outputs": [
        {
          "output_type": "execute_result",
          "data": {
            "text/plain": [
              "(15494, 10, 1)"
            ]
          },
          "metadata": {
            "tags": []
          },
          "execution_count": 168
        }
      ]
    },
    {
      "cell_type": "code",
      "metadata": {
        "id": "GlEBbnd1ijLg"
      },
      "source": [
        "def to_one_hot(Y):\n",
        "    n_col = np.amax(Y)\n",
        "    binarized = np.zeros((len(Y), n_col))\n",
        "    for i in range(len(Y)):\n",
        "        binarized[i, Y[i]-1] = 1.\n",
        "    return binarized"
      ],
      "execution_count": 169,
      "outputs": []
    },
    {
      "cell_type": "code",
      "metadata": {
        "id": "kvvMftlhikLi",
        "outputId": "41cf6bbf-09d5-4a17-b1dd-72b394f58373",
        "colab": {
          "base_uri": "https://localhost:8080/",
          "height": 136
        }
      },
      "source": [
        "train_y_o = to_one_hot(train_y)\n",
        "valid_y_o = to_one_hot(valid_y)\n",
        "train_y_o"
      ],
      "execution_count": 170,
      "outputs": [
        {
          "output_type": "execute_result",
          "data": {
            "text/plain": [
              "array([[0., 0., 0., 0., 1.],\n",
              "       [0., 0., 0., 0., 1.],\n",
              "       [0., 1., 0., 0., 0.],\n",
              "       ...,\n",
              "       [0., 0., 0., 0., 1.],\n",
              "       [0., 0., 0., 0., 1.],\n",
              "       [0., 0., 0., 0., 1.]])"
            ]
          },
          "metadata": {
            "tags": []
          },
          "execution_count": 170
        }
      ]
    },
    {
      "cell_type": "markdown",
      "metadata": {
        "id": "jk3qNqKCirOw"
      },
      "source": [
        "## Сравнение RNN, LSTM и GRU"
      ]
    },
    {
      "cell_type": "code",
      "metadata": {
        "id": "zvwP2i4xip4D"
      },
      "source": [
        "import tensorflow as tf\n",
        "\n",
        "# !pip install -q tensorflow-hub\n",
        "# !pip install -q tensorflow-datasets\n",
        "import tensorflow_hub as hub\n",
        "# import tensorflow_datasets as tfds\n",
        "\n",
        "import keras\n",
        "\n",
        "from keras.models import Sequential\n",
        "from tensorflow.keras.layers import Embedding, LSTM, Dense, Dropout, Bidirectional, SimpleRNN, GRU\n",
        "from keras.utils import to_categorical\n",
        "from tensorflow.keras import regularizers\n",
        "\n",
        "from typing import List, Optional, Dict, Tuple\n",
        "\n",
        "max_sequence_len = 10"
      ],
      "execution_count": 171,
      "outputs": []
    },
    {
      "cell_type": "code",
      "metadata": {
        "id": "5Vqb7zO8ivqx"
      },
      "source": [
        "def calculate_confidence_interval(scores: list, conf_interval: float = 0.95) -> Tuple[float]:\n",
        "    \"\"\"\n",
        "    Вычисление доверительного интервала.\n",
        "\n",
        "    Parameters\n",
        "    ----------\n",
        "    scores: List[float / int]\n",
        "        Список с оценками изучаемой величины.\n",
        "\n",
        "    conf_interval: float, optional, default = 0.95\n",
        "        Уровень доверия для построения интервала.\n",
        "        Опциональный параметр, по умолчанию, равен 0.95.\n",
        "\n",
        "    Returns\n",
        "    -------\n",
        "    conf_interval: Tuple[float]\n",
        "        Кортеж с границами доверительного интервала.\n",
        "\n",
        "    \"\"\"\n",
        "    left_bound = np.percentile(\n",
        "        scores, ((1 - conf_interval) / 2) * 100\n",
        "    )\n",
        "    right_bound = np.percentile(\n",
        "        scores, (conf_interval + ((1 - conf_interval) / 2)) * 100\n",
        "    )\n",
        "\n",
        "    return left_bound, right_bound"
      ],
      "execution_count": 156,
      "outputs": []
    },
    {
      "cell_type": "code",
      "metadata": {
        "id": "OrMvwgwyi19B"
      },
      "source": [
        "def net_gen(lay_name='GRU', func_act=\"tanh\", units=10):\n",
        "    model = Sequential()\n",
        "\n",
        "    model.add(Embedding(np.max(data_embeded)+1, units, input_length=max_sequence_len))\n",
        "    #model.add(Bidirectional(LSTM(50, return_sequences = True)))\n",
        "    #model.add(Dropout(0.2))\n",
        "    model.add(eval(lay_name)(units, activation=func_act))    # model.add(lay_name(units, activation=func_act))\n",
        "    model.add(Dense(32, activation='sigmoid', kernel_regularizer=regularizers.l2(0.01)))\n",
        "    model.add(Dense(5, activation='softmax'))\n",
        " \n",
        "    # компиляция модели\n",
        "    model.compile(optimizer=tf.keras.optimizers.Adam(1e-3),#\n",
        "                loss=tf.keras.losses.CategoricalCrossentropy(from_logits=True),\n",
        "                metrics=[tf.keras.metrics.AUC()])\n",
        "\n",
        "    return model"
      ],
      "execution_count": 25,
      "outputs": []
    },
    {
      "cell_type": "code",
      "metadata": {
        "id": "53Bh3GM0mRse"
      },
      "source": [
        "def net_iter(model, ep=10, batch_size=512):\n",
        "    history = model.fit(tr_data,\n",
        "                        train_y_o,\n",
        "                        epochs=ep, \n",
        "                        validation_data=(vd_data, valid_y_o),\n",
        "                        verbose=0)\n",
        "    return history.history"
      ],
      "execution_count": 26,
      "outputs": []
    },
    {
      "cell_type": "code",
      "metadata": {
        "id": "cfmDXVy-mWJl",
        "outputId": "6b338edf-11e5-41fe-ecee-71e4320ef7d2",
        "colab": {
          "base_uri": "https://localhost:8080/",
          "height": 1000
        }
      },
      "source": [
        "summary_data = pd.DataFrame(data=[[0, 0, 0, 0, 0, 0, 0, 0]], \n",
        "                            columns=['layers', 'func_act', 'unit_number', 'mean_train_accuracy', 'mean_val_accuracy', 'variance', 'l_b', 'r_b'])\n",
        "cnt = 0\n",
        "lay_name = ['SimpleRNN', 'LSTM', 'GRU']\n",
        "f_act = ['tanh', 'sigmoid']    # 'relu', \n",
        "unit_number = [32, 64]    # , 50\n",
        "epochs = 15\n",
        "\n",
        "for l_n in lay_name:\n",
        "    for f_a in f_act:\n",
        "        for u_n in unit_number:\n",
        "            err_score = []\n",
        "            err_val_score = []\n",
        "            print(f\"Модель: слой {l_n}, функция активации {f_a}, число блоков {u_n}, эпох {epochs}\\n\")\n",
        "            model = net_gen(lay_name=l_n, func_act=f_a, units=u_n)\n",
        "            model.summary()\n",
        "            for i in range(5):\n",
        "                print(f\"\\tИтерация: {i+1}\")\n",
        "                hist = net_iter(model, ep=epochs)\n",
        "                err_score.append(hist[list(hist.keys())[1]][-1])\n",
        "                err_val_score.append(hist[list(hist.keys())[3]][-1])\n",
        "\n",
        "            vr = np.var(err_val_score)\n",
        "            l_b, r_b = calculate_confidence_interval(err_val_score)\n",
        "            mean_err_score, mean_err_val_score = np.mean(err_score), np.mean(err_val_score)\n",
        "            print(f\"Ошибки на train. Средняя: {mean_err_score} список: {err_score}\")\n",
        "            print(f\"Ошибки на valid. Средняя: {mean_err_val_score} список: {err_val_score}\")\n",
        "            print(f\"Дисперсия ошибки на valid: {vr}\")\n",
        "            print(f\"Доверительный интервал: {l_b} - {r_b}\\n\\n\")\n",
        "            summary_data.loc[cnt, ['layers', 'func_act', 'unit_number', 'mean_train_score', \n",
        "                                    'mean_val_score', 'variance', 'l_b', 'r_b']] = [l_n, f_a, u_n, \n",
        "                                            np.mean(err_score), np.mean(err_val_score), vr, l_b, r_b]\n",
        "            cnt += 1"
      ],
      "execution_count": 27,
      "outputs": [
        {
          "output_type": "stream",
          "text": [
            "Модель: слой SimpleRNN, функция активации tanh, число блоков 32, эпох 15\n",
            "\n",
            "Model: \"sequential\"\n",
            "_________________________________________________________________\n",
            "Layer (type)                 Output Shape              Param #   \n",
            "=================================================================\n",
            "embedding (Embedding)        (None, 10, 32)            413600    \n",
            "_________________________________________________________________\n",
            "simple_rnn (SimpleRNN)       (None, 32)                2080      \n",
            "_________________________________________________________________\n",
            "dense (Dense)                (None, 32)                1056      \n",
            "_________________________________________________________________\n",
            "dense_1 (Dense)              (None, 5)                 165       \n",
            "=================================================================\n",
            "Total params: 416,901\n",
            "Trainable params: 416,901\n",
            "Non-trainable params: 0\n",
            "_________________________________________________________________\n",
            "\tИтерация: 1\n",
            "\tИтерация: 2\n",
            "\tИтерация: 3\n",
            "\tИтерация: 4\n",
            "\tИтерация: 5\n",
            "Ошибки на train. Средняя: 0.9024798274040222 список: [0.8820685744285583, 0.8837203979492188, 0.910410463809967, 0.9168340563774109, 0.919365644454956]\n",
            "Ошибки на valid. Средняя: 0.8709167003631592 список: [0.8690484762191772, 0.8654958009719849, 0.876780092716217, 0.874505877494812, 0.8687532544136047]\n",
            "Дисперсия ошибки на valid: 1.696369448126234e-05\n",
            "Доверительный интервал: 0.8658215463161468 - 0.8765526711940765\n",
            "\n",
            "\n",
            "Модель: слой SimpleRNN, функция активации tanh, число блоков 64, эпох 15\n",
            "\n",
            "Model: \"sequential_1\"\n",
            "_________________________________________________________________\n",
            "Layer (type)                 Output Shape              Param #   \n",
            "=================================================================\n",
            "embedding_1 (Embedding)      (None, 10, 64)            827200    \n",
            "_________________________________________________________________\n",
            "simple_rnn_1 (SimpleRNN)     (None, 64)                8256      \n",
            "_________________________________________________________________\n",
            "dense_2 (Dense)              (None, 32)                2080      \n",
            "_________________________________________________________________\n",
            "dense_3 (Dense)              (None, 5)                 165       \n",
            "=================================================================\n",
            "Total params: 837,701\n",
            "Trainable params: 837,701\n",
            "Non-trainable params: 0\n",
            "_________________________________________________________________\n",
            "\tИтерация: 1\n",
            "\tИтерация: 2\n",
            "\tИтерация: 3\n",
            "\tИтерация: 4\n",
            "\tИтерация: 5\n",
            "Ошибки на train. Средняя: 0.8427560806274415 список: [0.8785911202430725, 0.8829290270805359, 0.8197412490844727, 0.816259503364563, 0.816259503364563]\n",
            "Ошибки на valid. Средняя: 0.8346329212188721 список: [0.856496274471283, 0.8677330017089844, 0.816311776638031, 0.816311776638031, 0.816311776638031]\n",
            "Дисперсия ошибки на valid: 0.0005161229120295729\n",
            "Доверительный интервал: 0.816311776638031 - 0.8666093289852143\n",
            "\n",
            "\n",
            "Модель: слой SimpleRNN, функция активации sigmoid, число блоков 32, эпох 15\n",
            "\n",
            "Model: \"sequential_2\"\n",
            "_________________________________________________________________\n",
            "Layer (type)                 Output Shape              Param #   \n",
            "=================================================================\n",
            "embedding_2 (Embedding)      (None, 10, 32)            413600    \n",
            "_________________________________________________________________\n",
            "simple_rnn_2 (SimpleRNN)     (None, 32)                2080      \n",
            "_________________________________________________________________\n",
            "dense_4 (Dense)              (None, 32)                1056      \n",
            "_________________________________________________________________\n",
            "dense_5 (Dense)              (None, 5)                 165       \n",
            "=================================================================\n",
            "Total params: 416,901\n",
            "Trainable params: 416,901\n",
            "Non-trainable params: 0\n",
            "_________________________________________________________________\n",
            "\tИтерация: 1\n",
            "\tИтерация: 2\n",
            "\tИтерация: 3\n",
            "\tИтерация: 4\n",
            "\tИтерация: 5\n",
            "Ошибки на train. Средняя: 0.816259503364563 список: [0.816259503364563, 0.816259503364563, 0.816259503364563, 0.816259503364563, 0.816259503364563]\n",
            "Ошибки на valid. Средняя: 0.816311776638031 список: [0.816311776638031, 0.816311776638031, 0.816311776638031, 0.816311776638031, 0.816311776638031]\n",
            "Дисперсия ошибки на valid: 0.0\n",
            "Доверительный интервал: 0.816311776638031 - 0.816311776638031\n",
            "\n",
            "\n",
            "Модель: слой SimpleRNN, функция активации sigmoid, число блоков 64, эпох 15\n",
            "\n",
            "Model: \"sequential_3\"\n",
            "_________________________________________________________________\n",
            "Layer (type)                 Output Shape              Param #   \n",
            "=================================================================\n",
            "embedding_3 (Embedding)      (None, 10, 64)            827200    \n",
            "_________________________________________________________________\n",
            "simple_rnn_3 (SimpleRNN)     (None, 64)                8256      \n",
            "_________________________________________________________________\n",
            "dense_6 (Dense)              (None, 32)                2080      \n",
            "_________________________________________________________________\n",
            "dense_7 (Dense)              (None, 5)                 165       \n",
            "=================================================================\n",
            "Total params: 837,701\n",
            "Trainable params: 837,701\n",
            "Non-trainable params: 0\n",
            "_________________________________________________________________\n",
            "\tИтерация: 1\n",
            "\tИтерация: 2\n",
            "\tИтерация: 3\n",
            "\tИтерация: 4\n",
            "\tИтерация: 5\n",
            "Ошибки на train. Средняя: 0.816259503364563 список: [0.816259503364563, 0.816259503364563, 0.816259503364563, 0.816259503364563, 0.816259503364563]\n",
            "Ошибки на valid. Средняя: 0.816311776638031 список: [0.816311776638031, 0.816311776638031, 0.816311776638031, 0.816311776638031, 0.816311776638031]\n",
            "Дисперсия ошибки на valid: 0.0\n",
            "Доверительный интервал: 0.816311776638031 - 0.816311776638031\n",
            "\n",
            "\n",
            "Модель: слой LSTM, функция активации tanh, число блоков 32, эпох 15\n",
            "\n",
            "Model: \"sequential_4\"\n",
            "_________________________________________________________________\n",
            "Layer (type)                 Output Shape              Param #   \n",
            "=================================================================\n",
            "embedding_4 (Embedding)      (None, 10, 32)            413600    \n",
            "_________________________________________________________________\n",
            "lstm (LSTM)                  (None, 32)                8320      \n",
            "_________________________________________________________________\n",
            "dense_8 (Dense)              (None, 32)                1056      \n",
            "_________________________________________________________________\n",
            "dense_9 (Dense)              (None, 5)                 165       \n",
            "=================================================================\n",
            "Total params: 423,141\n",
            "Trainable params: 423,141\n",
            "Non-trainable params: 0\n",
            "_________________________________________________________________\n",
            "\tИтерация: 1\n",
            "\tИтерация: 2\n",
            "\tИтерация: 3\n",
            "\tИтерация: 4\n",
            "\tИтерация: 5\n",
            "Ошибки на train. Средняя: 0.9080889105796814 список: [0.8840404152870178, 0.9115548729896545, 0.9132459163665771, 0.9150097966194153, 0.9165935516357422]\n",
            "Ошибки на valid. Средняя: 0.8712594032287597 список: [0.8690707087516785, 0.8763726353645325, 0.8708677291870117, 0.8687801361083984, 0.8712058067321777]\n",
            "Дисперсия ошибки на valid: 7.447714596366951e-06\n",
            "Доверительный интервал: 0.8688091933727264 - 0.875855952501297\n",
            "\n",
            "\n",
            "Модель: слой LSTM, функция активации tanh, число блоков 64, эпох 15\n",
            "\n",
            "Model: \"sequential_5\"\n",
            "_________________________________________________________________\n",
            "Layer (type)                 Output Shape              Param #   \n",
            "=================================================================\n",
            "embedding_5 (Embedding)      (None, 10, 64)            827200    \n",
            "_________________________________________________________________\n",
            "lstm_1 (LSTM)                (None, 64)                33024     \n",
            "_________________________________________________________________\n",
            "dense_10 (Dense)             (None, 32)                2080      \n",
            "_________________________________________________________________\n",
            "dense_11 (Dense)             (None, 5)                 165       \n",
            "=================================================================\n",
            "Total params: 862,469\n",
            "Trainable params: 862,469\n",
            "Non-trainable params: 0\n",
            "_________________________________________________________________\n",
            "\tИтерация: 1\n",
            "\tИтерация: 2\n",
            "\tИтерация: 3\n",
            "\tИтерация: 4\n",
            "\tИтерация: 5\n",
            "Ошибки на train. Средняя: 0.9090125918388366 список: [0.8846715688705444, 0.9116640090942383, 0.9146156311035156, 0.9164167642593384, 0.9176949858665466]\n",
            "Ошибки на valid. Средняя: 0.8697048544883728 список: [0.8665074706077576, 0.8738663196563721, 0.8699418902397156, 0.8688216209411621, 0.8693869709968567]\n",
            "Дисперсия ошибки на valid: 5.69567867700016e-06\n",
            "Доверительный интервал: 0.866738885641098 - 0.8734738767147064\n",
            "\n",
            "\n",
            "Модель: слой LSTM, функция активации sigmoid, число блоков 32, эпох 15\n",
            "\n",
            "WARNING:tensorflow:Layer lstm_2 will not use cuDNN kernel since it doesn't meet the cuDNN kernel criteria. It will use generic GPU kernel as fallback when running on GPU\n",
            "Model: \"sequential_6\"\n",
            "_________________________________________________________________\n",
            "Layer (type)                 Output Shape              Param #   \n",
            "=================================================================\n",
            "embedding_6 (Embedding)      (None, 10, 32)            413600    \n",
            "_________________________________________________________________\n",
            "lstm_2 (LSTM)                (None, 32)                8320      \n",
            "_________________________________________________________________\n",
            "dense_12 (Dense)             (None, 32)                1056      \n",
            "_________________________________________________________________\n",
            "dense_13 (Dense)             (None, 5)                 165       \n",
            "=================================================================\n",
            "Total params: 423,141\n",
            "Trainable params: 423,141\n",
            "Non-trainable params: 0\n",
            "_________________________________________________________________\n",
            "\tИтерация: 1\n",
            "\tИтерация: 2\n",
            "\tИтерация: 3\n",
            "\tИтерация: 4\n",
            "\tИтерация: 5\n",
            "Ошибки на train. Средняя: 0.816259503364563 список: [0.816259503364563, 0.816259503364563, 0.816259503364563, 0.816259503364563, 0.816259503364563]\n",
            "Ошибки на valid. Средняя: 0.816311776638031 список: [0.816311776638031, 0.816311776638031, 0.816311776638031, 0.816311776638031, 0.816311776638031]\n",
            "Дисперсия ошибки на valid: 0.0\n",
            "Доверительный интервал: 0.816311776638031 - 0.816311776638031\n",
            "\n",
            "\n",
            "Модель: слой LSTM, функция активации sigmoid, число блоков 64, эпох 15\n",
            "\n",
            "WARNING:tensorflow:Layer lstm_3 will not use cuDNN kernel since it doesn't meet the cuDNN kernel criteria. It will use generic GPU kernel as fallback when running on GPU\n",
            "Model: \"sequential_7\"\n",
            "_________________________________________________________________\n",
            "Layer (type)                 Output Shape              Param #   \n",
            "=================================================================\n",
            "embedding_7 (Embedding)      (None, 10, 64)            827200    \n",
            "_________________________________________________________________\n",
            "lstm_3 (LSTM)                (None, 64)                33024     \n",
            "_________________________________________________________________\n",
            "dense_14 (Dense)             (None, 32)                2080      \n",
            "_________________________________________________________________\n",
            "dense_15 (Dense)             (None, 5)                 165       \n",
            "=================================================================\n",
            "Total params: 862,469\n",
            "Trainable params: 862,469\n",
            "Non-trainable params: 0\n",
            "_________________________________________________________________\n",
            "\tИтерация: 1\n",
            "\tИтерация: 2\n",
            "\tИтерация: 3\n",
            "\tИтерация: 4\n",
            "\tИтерация: 5\n",
            "Ошибки на train. Средняя: 0.816259503364563 список: [0.816259503364563, 0.816259503364563, 0.816259503364563, 0.816259503364563, 0.816259503364563]\n",
            "Ошибки на valid. Средняя: 0.816311776638031 список: [0.816311776638031, 0.816311776638031, 0.816311776638031, 0.816311776638031, 0.816311776638031]\n",
            "Дисперсия ошибки на valid: 0.0\n",
            "Доверительный интервал: 0.816311776638031 - 0.816311776638031\n",
            "\n",
            "\n",
            "Модель: слой GRU, функция активации tanh, число блоков 32, эпох 15\n",
            "\n",
            "Model: \"sequential_8\"\n",
            "_________________________________________________________________\n",
            "Layer (type)                 Output Shape              Param #   \n",
            "=================================================================\n",
            "embedding_8 (Embedding)      (None, 10, 32)            413600    \n",
            "_________________________________________________________________\n",
            "gru (GRU)                    (None, 32)                6336      \n",
            "_________________________________________________________________\n",
            "dense_16 (Dense)             (None, 32)                1056      \n",
            "_________________________________________________________________\n",
            "dense_17 (Dense)             (None, 5)                 165       \n",
            "=================================================================\n",
            "Total params: 421,157\n",
            "Trainable params: 421,157\n",
            "Non-trainable params: 0\n",
            "_________________________________________________________________\n",
            "\tИтерация: 1\n",
            "\tИтерация: 2\n",
            "\tИтерация: 3\n",
            "\tИтерация: 4\n",
            "\tИтерация: 5\n",
            "Ошибки на train. Средняя: 0.9049829006195068 список: [0.8828988671302795, 0.8949021697044373, 0.9143514633178711, 0.9156631231307983, 0.917098879814148]\n",
            "Ошибки на valid. Средняя: 0.8695536255836487 список: [0.8655139207839966, 0.8759738802909851, 0.8731421232223511, 0.868322491645813, 0.8648157119750977]\n",
            "Дисперсия ошибки на valid: 1.887594336267284e-05\n",
            "Доверительный интервал: 0.8648855328559875 - 0.8756907045841218\n",
            "\n",
            "\n",
            "Модель: слой GRU, функция активации tanh, число блоков 64, эпох 15\n",
            "\n",
            "Model: \"sequential_9\"\n",
            "_________________________________________________________________\n",
            "Layer (type)                 Output Shape              Param #   \n",
            "=================================================================\n",
            "embedding_9 (Embedding)      (None, 10, 64)            827200    \n",
            "_________________________________________________________________\n",
            "gru_1 (GRU)                  (None, 64)                24960     \n",
            "_________________________________________________________________\n",
            "dense_18 (Dense)             (None, 32)                2080      \n",
            "_________________________________________________________________\n",
            "dense_19 (Dense)             (None, 5)                 165       \n",
            "=================================================================\n",
            "Total params: 854,405\n",
            "Trainable params: 854,405\n",
            "Non-trainable params: 0\n",
            "_________________________________________________________________\n",
            "\tИтерация: 1\n",
            "\tИтерация: 2\n",
            "\tИтерация: 3\n",
            "\tИтерация: 4\n",
            "\tИтерация: 5\n",
            "Ошибки на train. Средняя: 0.9083214521408081 список: [0.8830394744873047, 0.9121251106262207, 0.9131217002868652, 0.9158644676208496, 0.9174565076828003]\n",
            "Ошибки на valid. Средняя: 0.8686011791229248 список: [0.8672579526901245, 0.8782493472099304, 0.8686630129814148, 0.8667780160903931, 0.8620575666427612]\n",
            "Дисперсия ошибки на valid: 2.820760316893711e-05\n",
            "Доверительный интервал: 0.8625296115875244 - 0.8772907137870788\n",
            "\n",
            "\n",
            "Модель: слой GRU, функция активации sigmoid, число блоков 32, эпох 15\n",
            "\n",
            "WARNING:tensorflow:Layer gru_2 will not use cuDNN kernel since it doesn't meet the cuDNN kernel criteria. It will use generic GPU kernel as fallback when running on GPU\n",
            "Model: \"sequential_10\"\n",
            "_________________________________________________________________\n",
            "Layer (type)                 Output Shape              Param #   \n",
            "=================================================================\n",
            "embedding_10 (Embedding)     (None, 10, 32)            413600    \n",
            "_________________________________________________________________\n",
            "gru_2 (GRU)                  (None, 32)                6336      \n",
            "_________________________________________________________________\n",
            "dense_20 (Dense)             (None, 32)                1056      \n",
            "_________________________________________________________________\n",
            "dense_21 (Dense)             (None, 5)                 165       \n",
            "=================================================================\n",
            "Total params: 421,157\n",
            "Trainable params: 421,157\n",
            "Non-trainable params: 0\n",
            "_________________________________________________________________\n",
            "\tИтерация: 1\n",
            "\tИтерация: 2\n",
            "\tИтерация: 3\n",
            "\tИтерация: 4\n",
            "\tИтерация: 5\n",
            "Ошибки на train. Средняя: 0.816259503364563 список: [0.816259503364563, 0.816259503364563, 0.816259503364563, 0.816259503364563, 0.816259503364563]\n",
            "Ошибки на valid. Средняя: 0.816311776638031 список: [0.816311776638031, 0.816311776638031, 0.816311776638031, 0.816311776638031, 0.816311776638031]\n",
            "Дисперсия ошибки на valid: 0.0\n",
            "Доверительный интервал: 0.816311776638031 - 0.816311776638031\n",
            "\n",
            "\n",
            "Модель: слой GRU, функция активации sigmoid, число блоков 64, эпох 15\n",
            "\n",
            "WARNING:tensorflow:Layer gru_3 will not use cuDNN kernel since it doesn't meet the cuDNN kernel criteria. It will use generic GPU kernel as fallback when running on GPU\n",
            "Model: \"sequential_11\"\n",
            "_________________________________________________________________\n",
            "Layer (type)                 Output Shape              Param #   \n",
            "=================================================================\n",
            "embedding_11 (Embedding)     (None, 10, 64)            827200    \n",
            "_________________________________________________________________\n",
            "gru_3 (GRU)                  (None, 64)                24960     \n",
            "_________________________________________________________________\n",
            "dense_22 (Dense)             (None, 32)                2080      \n",
            "_________________________________________________________________\n",
            "dense_23 (Dense)             (None, 5)                 165       \n",
            "=================================================================\n",
            "Total params: 854,405\n",
            "Trainable params: 854,405\n",
            "Non-trainable params: 0\n",
            "_________________________________________________________________\n",
            "\tИтерация: 1\n",
            "\tИтерация: 2\n",
            "\tИтерация: 3\n",
            "\tИтерация: 4\n",
            "\tИтерация: 5\n",
            "Ошибки на train. Средняя: 0.816259503364563 список: [0.816259503364563, 0.816259503364563, 0.816259503364563, 0.816259503364563, 0.816259503364563]\n",
            "Ошибки на valid. Средняя: 0.816311776638031 список: [0.816311776638031, 0.816311776638031, 0.816311776638031, 0.816311776638031, 0.816311776638031]\n",
            "Дисперсия ошибки на valid: 0.0\n",
            "Доверительный интервал: 0.816311776638031 - 0.816311776638031\n",
            "\n",
            "\n"
          ],
          "name": "stdout"
        }
      ]
    },
    {
      "cell_type": "code",
      "metadata": {
        "id": "UPO5etmlmv2M",
        "outputId": "d3bd6f77-f708-4f8c-d365-9fe86c36ebac",
        "colab": {
          "base_uri": "https://localhost:8080/",
          "height": 421
        }
      },
      "source": [
        "summary_data.drop(columns=[\"mean_train_accuracy\", \"mean_val_accuracy\"])"
      ],
      "execution_count": 30,
      "outputs": [
        {
          "output_type": "execute_result",
          "data": {
            "text/html": [
              "<div>\n",
              "<style scoped>\n",
              "    .dataframe tbody tr th:only-of-type {\n",
              "        vertical-align: middle;\n",
              "    }\n",
              "\n",
              "    .dataframe tbody tr th {\n",
              "        vertical-align: top;\n",
              "    }\n",
              "\n",
              "    .dataframe thead th {\n",
              "        text-align: right;\n",
              "    }\n",
              "</style>\n",
              "<table border=\"1\" class=\"dataframe\">\n",
              "  <thead>\n",
              "    <tr style=\"text-align: right;\">\n",
              "      <th></th>\n",
              "      <th>layers</th>\n",
              "      <th>func_act</th>\n",
              "      <th>unit_number</th>\n",
              "      <th>variance</th>\n",
              "      <th>l_b</th>\n",
              "      <th>r_b</th>\n",
              "      <th>mean_train_score</th>\n",
              "      <th>mean_val_score</th>\n",
              "    </tr>\n",
              "  </thead>\n",
              "  <tbody>\n",
              "    <tr>\n",
              "      <th>0</th>\n",
              "      <td>SimpleRNN</td>\n",
              "      <td>tanh</td>\n",
              "      <td>32.0</td>\n",
              "      <td>0.000017</td>\n",
              "      <td>0.865822</td>\n",
              "      <td>0.876553</td>\n",
              "      <td>0.902480</td>\n",
              "      <td>0.870917</td>\n",
              "    </tr>\n",
              "    <tr>\n",
              "      <th>1</th>\n",
              "      <td>SimpleRNN</td>\n",
              "      <td>tanh</td>\n",
              "      <td>64.0</td>\n",
              "      <td>0.000516</td>\n",
              "      <td>0.816312</td>\n",
              "      <td>0.866609</td>\n",
              "      <td>0.842756</td>\n",
              "      <td>0.834633</td>\n",
              "    </tr>\n",
              "    <tr>\n",
              "      <th>2</th>\n",
              "      <td>SimpleRNN</td>\n",
              "      <td>sigmoid</td>\n",
              "      <td>32.0</td>\n",
              "      <td>0.000000</td>\n",
              "      <td>0.816312</td>\n",
              "      <td>0.816312</td>\n",
              "      <td>0.816260</td>\n",
              "      <td>0.816312</td>\n",
              "    </tr>\n",
              "    <tr>\n",
              "      <th>3</th>\n",
              "      <td>SimpleRNN</td>\n",
              "      <td>sigmoid</td>\n",
              "      <td>64.0</td>\n",
              "      <td>0.000000</td>\n",
              "      <td>0.816312</td>\n",
              "      <td>0.816312</td>\n",
              "      <td>0.816260</td>\n",
              "      <td>0.816312</td>\n",
              "    </tr>\n",
              "    <tr>\n",
              "      <th>4</th>\n",
              "      <td>LSTM</td>\n",
              "      <td>tanh</td>\n",
              "      <td>32.0</td>\n",
              "      <td>0.000007</td>\n",
              "      <td>0.868809</td>\n",
              "      <td>0.875856</td>\n",
              "      <td>0.908089</td>\n",
              "      <td>0.871259</td>\n",
              "    </tr>\n",
              "    <tr>\n",
              "      <th>5</th>\n",
              "      <td>LSTM</td>\n",
              "      <td>tanh</td>\n",
              "      <td>64.0</td>\n",
              "      <td>0.000006</td>\n",
              "      <td>0.866739</td>\n",
              "      <td>0.873474</td>\n",
              "      <td>0.909013</td>\n",
              "      <td>0.869705</td>\n",
              "    </tr>\n",
              "    <tr>\n",
              "      <th>6</th>\n",
              "      <td>LSTM</td>\n",
              "      <td>sigmoid</td>\n",
              "      <td>32.0</td>\n",
              "      <td>0.000000</td>\n",
              "      <td>0.816312</td>\n",
              "      <td>0.816312</td>\n",
              "      <td>0.816260</td>\n",
              "      <td>0.816312</td>\n",
              "    </tr>\n",
              "    <tr>\n",
              "      <th>7</th>\n",
              "      <td>LSTM</td>\n",
              "      <td>sigmoid</td>\n",
              "      <td>64.0</td>\n",
              "      <td>0.000000</td>\n",
              "      <td>0.816312</td>\n",
              "      <td>0.816312</td>\n",
              "      <td>0.816260</td>\n",
              "      <td>0.816312</td>\n",
              "    </tr>\n",
              "    <tr>\n",
              "      <th>8</th>\n",
              "      <td>GRU</td>\n",
              "      <td>tanh</td>\n",
              "      <td>32.0</td>\n",
              "      <td>0.000019</td>\n",
              "      <td>0.864886</td>\n",
              "      <td>0.875691</td>\n",
              "      <td>0.904983</td>\n",
              "      <td>0.869554</td>\n",
              "    </tr>\n",
              "    <tr>\n",
              "      <th>9</th>\n",
              "      <td>GRU</td>\n",
              "      <td>tanh</td>\n",
              "      <td>64.0</td>\n",
              "      <td>0.000028</td>\n",
              "      <td>0.862530</td>\n",
              "      <td>0.877291</td>\n",
              "      <td>0.908321</td>\n",
              "      <td>0.868601</td>\n",
              "    </tr>\n",
              "    <tr>\n",
              "      <th>10</th>\n",
              "      <td>GRU</td>\n",
              "      <td>sigmoid</td>\n",
              "      <td>32.0</td>\n",
              "      <td>0.000000</td>\n",
              "      <td>0.816312</td>\n",
              "      <td>0.816312</td>\n",
              "      <td>0.816260</td>\n",
              "      <td>0.816312</td>\n",
              "    </tr>\n",
              "    <tr>\n",
              "      <th>11</th>\n",
              "      <td>GRU</td>\n",
              "      <td>sigmoid</td>\n",
              "      <td>64.0</td>\n",
              "      <td>0.000000</td>\n",
              "      <td>0.816312</td>\n",
              "      <td>0.816312</td>\n",
              "      <td>0.816260</td>\n",
              "      <td>0.816312</td>\n",
              "    </tr>\n",
              "  </tbody>\n",
              "</table>\n",
              "</div>"
            ],
            "text/plain": [
              "       layers func_act  unit_number  ...       r_b  mean_train_score  mean_val_score\n",
              "0   SimpleRNN     tanh         32.0  ...  0.876553          0.902480        0.870917\n",
              "1   SimpleRNN     tanh         64.0  ...  0.866609          0.842756        0.834633\n",
              "2   SimpleRNN  sigmoid         32.0  ...  0.816312          0.816260        0.816312\n",
              "3   SimpleRNN  sigmoid         64.0  ...  0.816312          0.816260        0.816312\n",
              "4        LSTM     tanh         32.0  ...  0.875856          0.908089        0.871259\n",
              "5        LSTM     tanh         64.0  ...  0.873474          0.909013        0.869705\n",
              "6        LSTM  sigmoid         32.0  ...  0.816312          0.816260        0.816312\n",
              "7        LSTM  sigmoid         64.0  ...  0.816312          0.816260        0.816312\n",
              "8         GRU     tanh         32.0  ...  0.875691          0.904983        0.869554\n",
              "9         GRU     tanh         64.0  ...  0.877291          0.908321        0.868601\n",
              "10        GRU  sigmoid         32.0  ...  0.816312          0.816260        0.816312\n",
              "11        GRU  sigmoid         64.0  ...  0.816312          0.816260        0.816312\n",
              "\n",
              "[12 rows x 8 columns]"
            ]
          },
          "metadata": {
            "tags": []
          },
          "execution_count": 30
        }
      ]
    },
    {
      "cell_type": "code",
      "metadata": {
        "id": "wiKuHGaTm07E",
        "outputId": "0db44fad-983b-49c6-b70e-b3b261e8383e",
        "colab": {
          "base_uri": "https://localhost:8080/",
          "height": 421
        }
      },
      "source": [
        "summary_data.drop(columns=[\"mean_train_accuracy\", \"mean_val_accuracy\"]).sort_values('mean_val_score', ascending=False)"
      ],
      "execution_count": 31,
      "outputs": [
        {
          "output_type": "execute_result",
          "data": {
            "text/html": [
              "<div>\n",
              "<style scoped>\n",
              "    .dataframe tbody tr th:only-of-type {\n",
              "        vertical-align: middle;\n",
              "    }\n",
              "\n",
              "    .dataframe tbody tr th {\n",
              "        vertical-align: top;\n",
              "    }\n",
              "\n",
              "    .dataframe thead th {\n",
              "        text-align: right;\n",
              "    }\n",
              "</style>\n",
              "<table border=\"1\" class=\"dataframe\">\n",
              "  <thead>\n",
              "    <tr style=\"text-align: right;\">\n",
              "      <th></th>\n",
              "      <th>layers</th>\n",
              "      <th>func_act</th>\n",
              "      <th>unit_number</th>\n",
              "      <th>variance</th>\n",
              "      <th>l_b</th>\n",
              "      <th>r_b</th>\n",
              "      <th>mean_train_score</th>\n",
              "      <th>mean_val_score</th>\n",
              "    </tr>\n",
              "  </thead>\n",
              "  <tbody>\n",
              "    <tr>\n",
              "      <th>4</th>\n",
              "      <td>LSTM</td>\n",
              "      <td>tanh</td>\n",
              "      <td>32.0</td>\n",
              "      <td>0.000007</td>\n",
              "      <td>0.868809</td>\n",
              "      <td>0.875856</td>\n",
              "      <td>0.908089</td>\n",
              "      <td>0.871259</td>\n",
              "    </tr>\n",
              "    <tr>\n",
              "      <th>0</th>\n",
              "      <td>SimpleRNN</td>\n",
              "      <td>tanh</td>\n",
              "      <td>32.0</td>\n",
              "      <td>0.000017</td>\n",
              "      <td>0.865822</td>\n",
              "      <td>0.876553</td>\n",
              "      <td>0.902480</td>\n",
              "      <td>0.870917</td>\n",
              "    </tr>\n",
              "    <tr>\n",
              "      <th>5</th>\n",
              "      <td>LSTM</td>\n",
              "      <td>tanh</td>\n",
              "      <td>64.0</td>\n",
              "      <td>0.000006</td>\n",
              "      <td>0.866739</td>\n",
              "      <td>0.873474</td>\n",
              "      <td>0.909013</td>\n",
              "      <td>0.869705</td>\n",
              "    </tr>\n",
              "    <tr>\n",
              "      <th>8</th>\n",
              "      <td>GRU</td>\n",
              "      <td>tanh</td>\n",
              "      <td>32.0</td>\n",
              "      <td>0.000019</td>\n",
              "      <td>0.864886</td>\n",
              "      <td>0.875691</td>\n",
              "      <td>0.904983</td>\n",
              "      <td>0.869554</td>\n",
              "    </tr>\n",
              "    <tr>\n",
              "      <th>9</th>\n",
              "      <td>GRU</td>\n",
              "      <td>tanh</td>\n",
              "      <td>64.0</td>\n",
              "      <td>0.000028</td>\n",
              "      <td>0.862530</td>\n",
              "      <td>0.877291</td>\n",
              "      <td>0.908321</td>\n",
              "      <td>0.868601</td>\n",
              "    </tr>\n",
              "    <tr>\n",
              "      <th>1</th>\n",
              "      <td>SimpleRNN</td>\n",
              "      <td>tanh</td>\n",
              "      <td>64.0</td>\n",
              "      <td>0.000516</td>\n",
              "      <td>0.816312</td>\n",
              "      <td>0.866609</td>\n",
              "      <td>0.842756</td>\n",
              "      <td>0.834633</td>\n",
              "    </tr>\n",
              "    <tr>\n",
              "      <th>2</th>\n",
              "      <td>SimpleRNN</td>\n",
              "      <td>sigmoid</td>\n",
              "      <td>32.0</td>\n",
              "      <td>0.000000</td>\n",
              "      <td>0.816312</td>\n",
              "      <td>0.816312</td>\n",
              "      <td>0.816260</td>\n",
              "      <td>0.816312</td>\n",
              "    </tr>\n",
              "    <tr>\n",
              "      <th>3</th>\n",
              "      <td>SimpleRNN</td>\n",
              "      <td>sigmoid</td>\n",
              "      <td>64.0</td>\n",
              "      <td>0.000000</td>\n",
              "      <td>0.816312</td>\n",
              "      <td>0.816312</td>\n",
              "      <td>0.816260</td>\n",
              "      <td>0.816312</td>\n",
              "    </tr>\n",
              "    <tr>\n",
              "      <th>6</th>\n",
              "      <td>LSTM</td>\n",
              "      <td>sigmoid</td>\n",
              "      <td>32.0</td>\n",
              "      <td>0.000000</td>\n",
              "      <td>0.816312</td>\n",
              "      <td>0.816312</td>\n",
              "      <td>0.816260</td>\n",
              "      <td>0.816312</td>\n",
              "    </tr>\n",
              "    <tr>\n",
              "      <th>7</th>\n",
              "      <td>LSTM</td>\n",
              "      <td>sigmoid</td>\n",
              "      <td>64.0</td>\n",
              "      <td>0.000000</td>\n",
              "      <td>0.816312</td>\n",
              "      <td>0.816312</td>\n",
              "      <td>0.816260</td>\n",
              "      <td>0.816312</td>\n",
              "    </tr>\n",
              "    <tr>\n",
              "      <th>10</th>\n",
              "      <td>GRU</td>\n",
              "      <td>sigmoid</td>\n",
              "      <td>32.0</td>\n",
              "      <td>0.000000</td>\n",
              "      <td>0.816312</td>\n",
              "      <td>0.816312</td>\n",
              "      <td>0.816260</td>\n",
              "      <td>0.816312</td>\n",
              "    </tr>\n",
              "    <tr>\n",
              "      <th>11</th>\n",
              "      <td>GRU</td>\n",
              "      <td>sigmoid</td>\n",
              "      <td>64.0</td>\n",
              "      <td>0.000000</td>\n",
              "      <td>0.816312</td>\n",
              "      <td>0.816312</td>\n",
              "      <td>0.816260</td>\n",
              "      <td>0.816312</td>\n",
              "    </tr>\n",
              "  </tbody>\n",
              "</table>\n",
              "</div>"
            ],
            "text/plain": [
              "       layers func_act  unit_number  ...       r_b  mean_train_score  mean_val_score\n",
              "4        LSTM     tanh         32.0  ...  0.875856          0.908089        0.871259\n",
              "0   SimpleRNN     tanh         32.0  ...  0.876553          0.902480        0.870917\n",
              "5        LSTM     tanh         64.0  ...  0.873474          0.909013        0.869705\n",
              "8         GRU     tanh         32.0  ...  0.875691          0.904983        0.869554\n",
              "9         GRU     tanh         64.0  ...  0.877291          0.908321        0.868601\n",
              "1   SimpleRNN     tanh         64.0  ...  0.866609          0.842756        0.834633\n",
              "2   SimpleRNN  sigmoid         32.0  ...  0.816312          0.816260        0.816312\n",
              "3   SimpleRNN  sigmoid         64.0  ...  0.816312          0.816260        0.816312\n",
              "6        LSTM  sigmoid         32.0  ...  0.816312          0.816260        0.816312\n",
              "7        LSTM  sigmoid         64.0  ...  0.816312          0.816260        0.816312\n",
              "10        GRU  sigmoid         32.0  ...  0.816312          0.816260        0.816312\n",
              "11        GRU  sigmoid         64.0  ...  0.816312          0.816260        0.816312\n",
              "\n",
              "[12 rows x 8 columns]"
            ]
          },
          "metadata": {
            "tags": []
          },
          "execution_count": 31
        }
      ]
    },
    {
      "cell_type": "markdown",
      "metadata": {
        "id": "JI3OHFrt3q_R"
      },
      "source": [
        "## Пробуем лучший вариант"
      ]
    },
    {
      "cell_type": "code",
      "metadata": {
        "id": "9_S0hzh0m12F"
      },
      "source": [
        "model = Sequential()\n",
        "\n",
        "model.add(Embedding(np.max(data_embeded)+1, 32, input_length=max_sequence_len))\n",
        "# model.add(Bidirectional(LSTM(32, return_sequences = False)))\n",
        "model.add(LSTM(32, activation='tanh', input_shape=(tr_data.shape[1], 1))) # model.add(LSTM(32, activation='tanh'))\n",
        "model.add(Dropout(0.2))\n",
        "model.add(Dense(32, activation='sigmoid', kernel_regularizer=regularizers.l2(0.01)))\n",
        "model.add(Dense(5, activation='softmax'))\n",
        "\n",
        "# компиляция модели\n",
        "model.compile(optimizer=tf.keras.optimizers.Adam(1e-3),#\n",
        "            loss=tf.keras.losses.CategoricalCrossentropy(from_logits=True),\n",
        "            metrics=[tf.keras.metrics.AUC()])"
      ],
      "execution_count": 172,
      "outputs": []
    },
    {
      "cell_type": "code",
      "metadata": {
        "id": "rmv9taY832qS",
        "outputId": "8e6ecc1d-3eee-41e0-859e-ff8f0ffd5926",
        "colab": {
          "base_uri": "https://localhost:8080/",
          "height": 323
        }
      },
      "source": [
        "model.summary()"
      ],
      "execution_count": 173,
      "outputs": [
        {
          "output_type": "stream",
          "text": [
            "Model: \"sequential_29\"\n",
            "_________________________________________________________________\n",
            "Layer (type)                 Output Shape              Param #   \n",
            "=================================================================\n",
            "embedding_26 (Embedding)     (None, 10, 32)            413600    \n",
            "_________________________________________________________________\n",
            "lstm_21 (LSTM)               (None, 32)                8320      \n",
            "_________________________________________________________________\n",
            "dropout_13 (Dropout)         (None, 32)                0         \n",
            "_________________________________________________________________\n",
            "dense_54 (Dense)             (None, 32)                1056      \n",
            "_________________________________________________________________\n",
            "dense_55 (Dense)             (None, 5)                 165       \n",
            "=================================================================\n",
            "Total params: 423,141\n",
            "Trainable params: 423,141\n",
            "Non-trainable params: 0\n",
            "_________________________________________________________________\n"
          ],
          "name": "stdout"
        }
      ]
    },
    {
      "cell_type": "code",
      "metadata": {
        "id": "sdMhHE6H33ni"
      },
      "source": [
        "callback = tf.keras.callbacks.EarlyStopping(monitor='loss', patience=3)"
      ],
      "execution_count": 174,
      "outputs": []
    },
    {
      "cell_type": "code",
      "metadata": {
        "id": "hFSu8k-_33kU",
        "outputId": "8325a44f-31da-4346-b409-41713ba4f8bf",
        "colab": {
          "base_uri": "https://localhost:8080/",
          "height": 1000
        }
      },
      "source": [
        "hist = model.fit(tr_data,\n",
        "                 train_y_o,\n",
        "                 batch_size=512,\n",
        "                 epochs=1000,\n",
        "                 validation_data=(vd_data, valid_y_o),\n",
        "                 callbacks=[callback], \n",
        "                 shuffle=True,\n",
        "                 verbose=1)"
      ],
      "execution_count": 175,
      "outputs": [
        {
          "output_type": "stream",
          "text": [
            "Epoch 1/1000\n",
            "31/31 [==============================] - 1s 26ms/step - loss: 1.7360 - auc_27: 0.7888 - val_loss: 1.5831 - val_auc_27: 0.8186\n",
            "Epoch 2/1000\n",
            "31/31 [==============================] - 0s 12ms/step - loss: 1.4751 - auc_27: 0.8160 - val_loss: 1.4058 - val_auc_27: 0.8025\n",
            "Epoch 3/1000\n",
            "31/31 [==============================] - 0s 10ms/step - loss: 1.3761 - auc_27: 0.8047 - val_loss: 1.3463 - val_auc_27: 0.7989\n",
            "Epoch 4/1000\n",
            "31/31 [==============================] - 0s 10ms/step - loss: 1.3263 - auc_27: 0.8006 - val_loss: 1.3053 - val_auc_27: 0.8036\n",
            "Epoch 5/1000\n",
            "31/31 [==============================] - 0s 10ms/step - loss: 1.2909 - auc_27: 0.8110 - val_loss: 1.2757 - val_auc_27: 0.8274\n",
            "Epoch 6/1000\n",
            "31/31 [==============================] - 0s 10ms/step - loss: 1.2647 - auc_27: 0.8322 - val_loss: 1.2528 - val_auc_27: 0.8572\n",
            "Epoch 7/1000\n",
            "31/31 [==============================] - 0s 10ms/step - loss: 1.2439 - auc_27: 0.8742 - val_loss: 1.2360 - val_auc_27: 0.8803\n",
            "Epoch 8/1000\n",
            "31/31 [==============================] - 0s 10ms/step - loss: 1.2302 - auc_27: 0.8873 - val_loss: 1.2253 - val_auc_27: 0.8900\n",
            "Epoch 9/1000\n",
            "31/31 [==============================] - 0s 11ms/step - loss: 1.2209 - auc_27: 0.8930 - val_loss: 1.2179 - val_auc_27: 0.8909\n",
            "Epoch 10/1000\n",
            "31/31 [==============================] - 0s 10ms/step - loss: 1.2145 - auc_27: 0.8982 - val_loss: 1.2128 - val_auc_27: 0.9003\n",
            "Epoch 11/1000\n",
            "31/31 [==============================] - 0s 10ms/step - loss: 1.2099 - auc_27: 0.9020 - val_loss: 1.2093 - val_auc_27: 0.9010\n",
            "Epoch 12/1000\n",
            "31/31 [==============================] - 0s 10ms/step - loss: 1.2066 - auc_27: 0.9053 - val_loss: 1.2067 - val_auc_27: 0.9016\n",
            "Epoch 13/1000\n",
            "31/31 [==============================] - 0s 10ms/step - loss: 1.2041 - auc_27: 0.9095 - val_loss: 1.2048 - val_auc_27: 0.9054\n",
            "Epoch 14/1000\n",
            "31/31 [==============================] - 0s 11ms/step - loss: 1.2019 - auc_27: 0.9141 - val_loss: 1.2032 - val_auc_27: 0.9078\n",
            "Epoch 15/1000\n",
            "31/31 [==============================] - 0s 10ms/step - loss: 1.1994 - auc_27: 0.9153 - val_loss: 1.2013 - val_auc_27: 0.9091\n",
            "Epoch 16/1000\n",
            "31/31 [==============================] - 0s 10ms/step - loss: 1.1947 - auc_27: 0.9136 - val_loss: 1.1971 - val_auc_27: 0.9028\n",
            "Epoch 17/1000\n",
            "31/31 [==============================] - 0s 11ms/step - loss: 1.1828 - auc_27: 0.9117 - val_loss: 1.1874 - val_auc_27: 0.9027\n",
            "Epoch 18/1000\n",
            "31/31 [==============================] - 0s 11ms/step - loss: 1.1649 - auc_27: 0.9159 - val_loss: 1.1796 - val_auc_27: 0.9041\n",
            "Epoch 19/1000\n",
            "31/31 [==============================] - 0s 11ms/step - loss: 1.1540 - auc_27: 0.9137 - val_loss: 1.1745 - val_auc_27: 0.8997\n",
            "Epoch 20/1000\n",
            "31/31 [==============================] - 0s 12ms/step - loss: 1.1468 - auc_27: 0.9148 - val_loss: 1.1729 - val_auc_27: 0.9046\n",
            "Epoch 21/1000\n",
            "31/31 [==============================] - 0s 11ms/step - loss: 1.1427 - auc_27: 0.9128 - val_loss: 1.1698 - val_auc_27: 0.8975\n",
            "Epoch 22/1000\n",
            "31/31 [==============================] - 0s 12ms/step - loss: 1.1386 - auc_27: 0.9107 - val_loss: 1.1681 - val_auc_27: 0.8980\n",
            "Epoch 23/1000\n",
            "31/31 [==============================] - 0s 11ms/step - loss: 1.1352 - auc_27: 0.9097 - val_loss: 1.1658 - val_auc_27: 0.8967\n",
            "Epoch 24/1000\n",
            "31/31 [==============================] - 0s 10ms/step - loss: 1.1324 - auc_27: 0.9096 - val_loss: 1.1649 - val_auc_27: 0.8946\n",
            "Epoch 25/1000\n",
            "31/31 [==============================] - 0s 11ms/step - loss: 1.1297 - auc_27: 0.9056 - val_loss: 1.1672 - val_auc_27: 0.8876\n",
            "Epoch 26/1000\n",
            "31/31 [==============================] - 0s 12ms/step - loss: 1.1277 - auc_27: 0.9048 - val_loss: 1.1642 - val_auc_27: 0.8968\n",
            "Epoch 27/1000\n",
            "31/31 [==============================] - 0s 11ms/step - loss: 1.1259 - auc_27: 0.9033 - val_loss: 1.1629 - val_auc_27: 0.8943\n",
            "Epoch 28/1000\n",
            "31/31 [==============================] - 0s 11ms/step - loss: 1.1240 - auc_27: 0.9013 - val_loss: 1.1621 - val_auc_27: 0.8931\n",
            "Epoch 29/1000\n",
            "31/31 [==============================] - 0s 11ms/step - loss: 1.1222 - auc_27: 0.8977 - val_loss: 1.1618 - val_auc_27: 0.8896\n",
            "Epoch 30/1000\n",
            "31/31 [==============================] - 0s 10ms/step - loss: 1.1206 - auc_27: 0.8974 - val_loss: 1.1623 - val_auc_27: 0.8869\n",
            "Epoch 31/1000\n",
            "31/31 [==============================] - 0s 10ms/step - loss: 1.1192 - auc_27: 0.8962 - val_loss: 1.1621 - val_auc_27: 0.8839\n",
            "Epoch 32/1000\n",
            "31/31 [==============================] - 0s 10ms/step - loss: 1.1181 - auc_27: 0.8947 - val_loss: 1.1622 - val_auc_27: 0.8829\n",
            "Epoch 33/1000\n",
            "31/31 [==============================] - 0s 11ms/step - loss: 1.1166 - auc_27: 0.8956 - val_loss: 1.1619 - val_auc_27: 0.8807\n",
            "Epoch 34/1000\n",
            "31/31 [==============================] - 0s 11ms/step - loss: 1.1154 - auc_27: 0.8944 - val_loss: 1.1619 - val_auc_27: 0.8811\n",
            "Epoch 35/1000\n",
            "31/31 [==============================] - 0s 10ms/step - loss: 1.1144 - auc_27: 0.8950 - val_loss: 1.1611 - val_auc_27: 0.8807\n",
            "Epoch 36/1000\n",
            "31/31 [==============================] - 0s 11ms/step - loss: 1.1135 - auc_27: 0.8942 - val_loss: 1.1615 - val_auc_27: 0.8793\n",
            "Epoch 37/1000\n",
            "31/31 [==============================] - 0s 11ms/step - loss: 1.1128 - auc_27: 0.8939 - val_loss: 1.1614 - val_auc_27: 0.8773\n",
            "Epoch 38/1000\n",
            "31/31 [==============================] - 0s 11ms/step - loss: 1.1121 - auc_27: 0.8930 - val_loss: 1.1609 - val_auc_27: 0.8766\n",
            "Epoch 39/1000\n",
            "31/31 [==============================] - 0s 10ms/step - loss: 1.1115 - auc_27: 0.8913 - val_loss: 1.1601 - val_auc_27: 0.8757\n",
            "Epoch 40/1000\n",
            "31/31 [==============================] - 0s 10ms/step - loss: 1.1109 - auc_27: 0.8890 - val_loss: 1.1600 - val_auc_27: 0.8752\n",
            "Epoch 41/1000\n",
            "31/31 [==============================] - 0s 10ms/step - loss: 1.1106 - auc_27: 0.8861 - val_loss: 1.1599 - val_auc_27: 0.8746\n",
            "Epoch 42/1000\n",
            "31/31 [==============================] - 0s 10ms/step - loss: 1.1098 - auc_27: 0.8851 - val_loss: 1.1601 - val_auc_27: 0.8743\n",
            "Epoch 43/1000\n",
            "31/31 [==============================] - 0s 10ms/step - loss: 1.1092 - auc_27: 0.8852 - val_loss: 1.1600 - val_auc_27: 0.8746\n",
            "Epoch 44/1000\n",
            "31/31 [==============================] - 0s 11ms/step - loss: 1.1087 - auc_27: 0.8854 - val_loss: 1.1604 - val_auc_27: 0.8736\n",
            "Epoch 45/1000\n",
            "31/31 [==============================] - 0s 11ms/step - loss: 1.1083 - auc_27: 0.8855 - val_loss: 1.1607 - val_auc_27: 0.8736\n",
            "Epoch 46/1000\n",
            "31/31 [==============================] - 0s 12ms/step - loss: 1.1079 - auc_27: 0.8854 - val_loss: 1.1603 - val_auc_27: 0.8731\n",
            "Epoch 47/1000\n",
            "31/31 [==============================] - 0s 11ms/step - loss: 1.1078 - auc_27: 0.8855 - val_loss: 1.1610 - val_auc_27: 0.8738\n",
            "Epoch 48/1000\n",
            "31/31 [==============================] - 0s 12ms/step - loss: 1.1071 - auc_27: 0.8857 - val_loss: 1.1599 - val_auc_27: 0.8733\n",
            "Epoch 49/1000\n",
            "31/31 [==============================] - 0s 11ms/step - loss: 1.1067 - auc_27: 0.8856 - val_loss: 1.1599 - val_auc_27: 0.8730\n",
            "Epoch 50/1000\n",
            "31/31 [==============================] - 0s 12ms/step - loss: 1.1063 - auc_27: 0.8856 - val_loss: 1.1597 - val_auc_27: 0.8729\n",
            "Epoch 51/1000\n",
            "31/31 [==============================] - 0s 12ms/step - loss: 1.1060 - auc_27: 0.8857 - val_loss: 1.1597 - val_auc_27: 0.8735\n",
            "Epoch 52/1000\n",
            "31/31 [==============================] - 0s 11ms/step - loss: 1.1057 - auc_27: 0.8858 - val_loss: 1.1603 - val_auc_27: 0.8728\n",
            "Epoch 53/1000\n",
            "31/31 [==============================] - 0s 11ms/step - loss: 1.1055 - auc_27: 0.8857 - val_loss: 1.1600 - val_auc_27: 0.8727\n",
            "Epoch 54/1000\n",
            "31/31 [==============================] - 0s 11ms/step - loss: 1.1050 - auc_27: 0.8859 - val_loss: 1.1601 - val_auc_27: 0.8731\n",
            "Epoch 55/1000\n",
            "31/31 [==============================] - 0s 11ms/step - loss: 1.1047 - auc_27: 0.8859 - val_loss: 1.1601 - val_auc_27: 0.8727\n",
            "Epoch 56/1000\n",
            "31/31 [==============================] - 0s 10ms/step - loss: 1.1044 - auc_27: 0.8859 - val_loss: 1.1597 - val_auc_27: 0.8727\n",
            "Epoch 57/1000\n",
            "31/31 [==============================] - 0s 10ms/step - loss: 1.1042 - auc_27: 0.8859 - val_loss: 1.1597 - val_auc_27: 0.8730\n",
            "Epoch 58/1000\n",
            "31/31 [==============================] - 0s 12ms/step - loss: 1.1039 - auc_27: 0.8860 - val_loss: 1.1594 - val_auc_27: 0.8725\n",
            "Epoch 59/1000\n",
            "31/31 [==============================] - 0s 11ms/step - loss: 1.1036 - auc_27: 0.8861 - val_loss: 1.1589 - val_auc_27: 0.8726\n",
            "Epoch 60/1000\n",
            "31/31 [==============================] - 0s 10ms/step - loss: 1.1034 - auc_27: 0.8860 - val_loss: 1.1591 - val_auc_27: 0.8721\n",
            "Epoch 61/1000\n",
            "31/31 [==============================] - 0s 10ms/step - loss: 1.1031 - auc_27: 0.8862 - val_loss: 1.1590 - val_auc_27: 0.8721\n",
            "Epoch 62/1000\n",
            "31/31 [==============================] - 0s 12ms/step - loss: 1.1030 - auc_27: 0.8861 - val_loss: 1.1584 - val_auc_27: 0.8717\n",
            "Epoch 63/1000\n",
            "31/31 [==============================] - 0s 12ms/step - loss: 1.1029 - auc_27: 0.8862 - val_loss: 1.1584 - val_auc_27: 0.8714\n",
            "Epoch 64/1000\n",
            "31/31 [==============================] - 0s 12ms/step - loss: 1.1026 - auc_27: 0.8862 - val_loss: 1.1586 - val_auc_27: 0.8717\n",
            "Epoch 65/1000\n",
            "31/31 [==============================] - 0s 11ms/step - loss: 1.1023 - auc_27: 0.8863 - val_loss: 1.1585 - val_auc_27: 0.8719\n",
            "Epoch 66/1000\n",
            "31/31 [==============================] - 0s 11ms/step - loss: 1.1020 - auc_27: 0.8863 - val_loss: 1.1579 - val_auc_27: 0.8721\n",
            "Epoch 67/1000\n",
            "31/31 [==============================] - 0s 10ms/step - loss: 1.1017 - auc_27: 0.8863 - val_loss: 1.1577 - val_auc_27: 0.8724\n",
            "Epoch 68/1000\n",
            "31/31 [==============================] - 0s 10ms/step - loss: 1.1017 - auc_27: 0.8864 - val_loss: 1.1571 - val_auc_27: 0.8721\n",
            "Epoch 69/1000\n",
            "31/31 [==============================] - 0s 10ms/step - loss: 1.1017 - auc_27: 0.8864 - val_loss: 1.1571 - val_auc_27: 0.8722\n",
            "Epoch 70/1000\n",
            "31/31 [==============================] - 0s 10ms/step - loss: 1.1013 - auc_27: 0.8864 - val_loss: 1.1575 - val_auc_27: 0.8720\n",
            "Epoch 71/1000\n",
            "31/31 [==============================] - 0s 10ms/step - loss: 1.1011 - auc_27: 0.8864 - val_loss: 1.1568 - val_auc_27: 0.8726\n",
            "Epoch 72/1000\n",
            "31/31 [==============================] - 0s 10ms/step - loss: 1.1009 - auc_27: 0.8865 - val_loss: 1.1572 - val_auc_27: 0.8716\n",
            "Epoch 73/1000\n",
            "31/31 [==============================] - 0s 10ms/step - loss: 1.1008 - auc_27: 0.8865 - val_loss: 1.1568 - val_auc_27: 0.8714\n",
            "Epoch 74/1000\n",
            "31/31 [==============================] - 0s 11ms/step - loss: 1.1006 - auc_27: 0.8865 - val_loss: 1.1568 - val_auc_27: 0.8724\n",
            "Epoch 75/1000\n",
            "31/31 [==============================] - 0s 11ms/step - loss: 1.1005 - auc_27: 0.8865 - val_loss: 1.1571 - val_auc_27: 0.8715\n",
            "Epoch 76/1000\n",
            "31/31 [==============================] - 0s 11ms/step - loss: 1.1007 - auc_27: 0.8866 - val_loss: 1.1567 - val_auc_27: 0.8716\n",
            "Epoch 77/1000\n",
            "31/31 [==============================] - 0s 11ms/step - loss: 1.1003 - auc_27: 0.8867 - val_loss: 1.1566 - val_auc_27: 0.8721\n",
            "Epoch 78/1000\n",
            "31/31 [==============================] - 0s 12ms/step - loss: 1.1001 - auc_27: 0.8866 - val_loss: 1.1565 - val_auc_27: 0.8720\n",
            "Epoch 79/1000\n",
            "31/31 [==============================] - 0s 12ms/step - loss: 1.0998 - auc_27: 0.8867 - val_loss: 1.1570 - val_auc_27: 0.8718\n",
            "Epoch 80/1000\n",
            "31/31 [==============================] - 0s 14ms/step - loss: 1.0996 - auc_27: 0.8867 - val_loss: 1.1573 - val_auc_27: 0.8721\n",
            "Epoch 81/1000\n",
            "31/31 [==============================] - 0s 13ms/step - loss: 1.0993 - auc_27: 0.8867 - val_loss: 1.1572 - val_auc_27: 0.8719\n",
            "Epoch 82/1000\n",
            "31/31 [==============================] - 0s 14ms/step - loss: 1.0992 - auc_27: 0.8867 - val_loss: 1.1573 - val_auc_27: 0.8722\n",
            "Epoch 83/1000\n",
            "31/31 [==============================] - 0s 11ms/step - loss: 1.0990 - auc_27: 0.8868 - val_loss: 1.1574 - val_auc_27: 0.8719\n",
            "Epoch 84/1000\n",
            "31/31 [==============================] - 0s 11ms/step - loss: 1.0989 - auc_27: 0.8867 - val_loss: 1.1581 - val_auc_27: 0.8710\n",
            "Epoch 85/1000\n",
            "31/31 [==============================] - 0s 12ms/step - loss: 1.0988 - auc_27: 0.8867 - val_loss: 1.1575 - val_auc_27: 0.8720\n",
            "Epoch 86/1000\n",
            "31/31 [==============================] - 0s 11ms/step - loss: 1.0986 - auc_27: 0.8868 - val_loss: 1.1578 - val_auc_27: 0.8719\n",
            "Epoch 87/1000\n",
            "31/31 [==============================] - 0s 11ms/step - loss: 1.0985 - auc_27: 0.8869 - val_loss: 1.1580 - val_auc_27: 0.8717\n",
            "Epoch 88/1000\n",
            "31/31 [==============================] - 0s 12ms/step - loss: 1.0983 - auc_27: 0.8870 - val_loss: 1.1580 - val_auc_27: 0.8715\n",
            "Epoch 89/1000\n",
            "31/31 [==============================] - 0s 11ms/step - loss: 1.0988 - auc_27: 0.8868 - val_loss: 1.1570 - val_auc_27: 0.8712\n",
            "Epoch 90/1000\n",
            "31/31 [==============================] - 0s 11ms/step - loss: 1.0994 - auc_27: 0.8868 - val_loss: 1.1574 - val_auc_27: 0.8711\n",
            "Epoch 91/1000\n",
            "31/31 [==============================] - 0s 11ms/step - loss: 1.0988 - auc_27: 0.8867 - val_loss: 1.1574 - val_auc_27: 0.8717\n"
          ],
          "name": "stdout"
        }
      ]
    },
    {
      "cell_type": "markdown",
      "metadata": {
        "id": "9Xl0Fl3EF0ts"
      },
      "source": [
        "## Пробуем увеличить длину последовательности"
      ]
    },
    {
      "cell_type": "code",
      "metadata": {
        "id": "e1rao5nuF91y",
        "outputId": "b409987e-3bb0-4a2e-8640-f079a5c39a22",
        "colab": {
          "base_uri": "https://localhost:8080/",
          "height": 136
        }
      },
      "source": [
        "data_embeded = np.asarray([text_to_sequence(text, 18) for text in data['Content_prep']], dtype=np.int32)\n",
        "data_embeded = np.hstack(((data['Month'].values+50).reshape(data['Month'].values.shape[0], 1), data_embeded))\n",
        "data_embeded = np.hstack(((data['Day'].values).reshape(data['Day'].values.shape[0], 1), data_embeded))\n",
        "data_embeded"
      ],
      "execution_count": 113,
      "outputs": [
        {
          "output_type": "execute_result",
          "data": {
            "text/plain": [
              "array([[ 14,  58, 100, ...,   0,   0,   0],\n",
              "       [ 14,  58, 103, ...,   0,   0,   0],\n",
              "       [ 14,  58, 116, ...,   0,   0,   0],\n",
              "       ...,\n",
              "       [  1,  56, 274, ...,   0,   0,   0],\n",
              "       [  1,  56, 525, ...,   0,   0,   0],\n",
              "       [  1,  56, 182, ...,   0,   0,   0]])"
            ]
          },
          "metadata": {
            "tags": []
          },
          "execution_count": 113
        }
      ]
    },
    {
      "cell_type": "code",
      "metadata": {
        "id": "f0eKTlY6GIHk"
      },
      "source": [
        "y = data['Rating'].values\n",
        "train_x, valid_x, train_y, valid_y = train_test_split(data_embeded, y, stratify=y, random_state=43)"
      ],
      "execution_count": 114,
      "outputs": []
    },
    {
      "cell_type": "code",
      "metadata": {
        "id": "xN70CaMGGMbS",
        "outputId": "c9456421-c472-43ac-a0ce-485b275fed58",
        "colab": {
          "base_uri": "https://localhost:8080/",
          "height": 34
        }
      },
      "source": [
        "tr_data = train_x.reshape(train_x.shape[0], train_x.shape[1], 1)\n",
        "vd_data = valid_x.reshape(valid_x.shape[0], valid_x.shape[1], 1)\n",
        "tr_data.shape"
      ],
      "execution_count": 115,
      "outputs": [
        {
          "output_type": "execute_result",
          "data": {
            "text/plain": [
              "(15494, 20, 1)"
            ]
          },
          "metadata": {
            "tags": []
          },
          "execution_count": 115
        }
      ]
    },
    {
      "cell_type": "code",
      "metadata": {
        "id": "iexICtZFGNaZ"
      },
      "source": [
        "model = Sequential()\n",
        "\n",
        "model.add(Embedding(np.max(data_embeded)+1, 32, input_length=20))\n",
        "# model.add(Bidirectional(LSTM(32, return_sequences = False)))\n",
        "model.add(LSTM(32, activation='tanh')) # model.add(LSTM(32, activation='tanh'))\n",
        "model.add(Dropout(0.2))\n",
        "model.add(Dense(32, activation='sigmoid', kernel_regularizer=regularizers.l2(0.01)))\n",
        "model.add(Dense(5, activation='softmax'))\n",
        "\n",
        "# компиляция модели\n",
        "model.compile(optimizer=tf.keras.optimizers.Adam(1e-3),#\n",
        "            loss=tf.keras.losses.CategoricalCrossentropy(from_logits=True),\n",
        "            metrics=[tf.keras.metrics.AUC()])"
      ],
      "execution_count": 116,
      "outputs": []
    },
    {
      "cell_type": "code",
      "metadata": {
        "id": "J2psgqIzGR6m",
        "outputId": "a6e4b312-24ef-4fe7-b9b6-9bb61a2c0910",
        "colab": {
          "base_uri": "https://localhost:8080/",
          "height": 323
        }
      },
      "source": [
        "model.summary()"
      ],
      "execution_count": 117,
      "outputs": [
        {
          "output_type": "stream",
          "text": [
            "Model: \"sequential_24\"\n",
            "_________________________________________________________________\n",
            "Layer (type)                 Output Shape              Param #   \n",
            "=================================================================\n",
            "embedding_23 (Embedding)     (None, 20, 32)            418144    \n",
            "_________________________________________________________________\n",
            "lstm_16 (LSTM)               (None, 32)                8320      \n",
            "_________________________________________________________________\n",
            "dropout_8 (Dropout)          (None, 32)                0         \n",
            "_________________________________________________________________\n",
            "dense_44 (Dense)             (None, 32)                1056      \n",
            "_________________________________________________________________\n",
            "dense_45 (Dense)             (None, 5)                 165       \n",
            "=================================================================\n",
            "Total params: 427,685\n",
            "Trainable params: 427,685\n",
            "Non-trainable params: 0\n",
            "_________________________________________________________________\n"
          ],
          "name": "stdout"
        }
      ]
    },
    {
      "cell_type": "code",
      "metadata": {
        "id": "XgK0244QGWqJ"
      },
      "source": [
        "callback = tf.keras.callbacks.EarlyStopping(monitor='loss', patience=3)"
      ],
      "execution_count": 118,
      "outputs": []
    },
    {
      "cell_type": "code",
      "metadata": {
        "id": "qBKqFUvLGXk6",
        "outputId": "05db369f-10dc-44f8-fc74-396b8e19e793",
        "colab": {
          "base_uri": "https://localhost:8080/",
          "height": 1000
        }
      },
      "source": [
        "hist = model.fit(tr_data,\n",
        "                 train_y_o,\n",
        "                 batch_size=512,\n",
        "                 epochs=1000,\n",
        "                 validation_data=(vd_data, valid_y_o),\n",
        "                 callbacks=[callback], \n",
        "                 shuffle=True,\n",
        "                 verbose=1)"
      ],
      "execution_count": 119,
      "outputs": [
        {
          "output_type": "stream",
          "text": [
            "Epoch 1/1000\n",
            "31/31 [==============================] - 1s 28ms/step - loss: 1.7798 - auc_22: 0.7600 - val_loss: 1.5917 - val_auc_22: 0.8499\n",
            "Epoch 2/1000\n",
            "31/31 [==============================] - 0s 11ms/step - loss: 1.4834 - auc_22: 0.8261 - val_loss: 1.4138 - val_auc_22: 0.8411\n",
            "Epoch 3/1000\n",
            "31/31 [==============================] - 0s 13ms/step - loss: 1.3835 - auc_22: 0.8244 - val_loss: 1.3525 - val_auc_22: 0.8205\n",
            "Epoch 4/1000\n",
            "31/31 [==============================] - 0s 13ms/step - loss: 1.3314 - auc_22: 0.8273 - val_loss: 1.3084 - val_auc_22: 0.8432\n",
            "Epoch 5/1000\n",
            "31/31 [==============================] - 0s 12ms/step - loss: 1.2902 - auc_22: 0.8532 - val_loss: 1.2734 - val_auc_22: 0.8640\n",
            "Epoch 6/1000\n",
            "31/31 [==============================] - 0s 13ms/step - loss: 1.2606 - auc_22: 0.8739 - val_loss: 1.2475 - val_auc_22: 0.8871\n",
            "Epoch 7/1000\n",
            "31/31 [==============================] - 0s 13ms/step - loss: 1.2366 - auc_22: 0.8932 - val_loss: 1.2286 - val_auc_22: 0.8904\n",
            "Epoch 8/1000\n",
            "31/31 [==============================] - 0s 12ms/step - loss: 1.2201 - auc_22: 0.8954 - val_loss: 1.2162 - val_auc_22: 0.8968\n",
            "Epoch 9/1000\n",
            "31/31 [==============================] - 0s 13ms/step - loss: 1.2067 - auc_22: 0.8983 - val_loss: 1.2057 - val_auc_22: 0.8930\n",
            "Epoch 10/1000\n",
            "31/31 [==============================] - 0s 12ms/step - loss: 1.1945 - auc_22: 0.9002 - val_loss: 1.1954 - val_auc_22: 0.8899\n",
            "Epoch 11/1000\n",
            "31/31 [==============================] - 0s 11ms/step - loss: 1.1830 - auc_22: 0.8979 - val_loss: 1.1874 - val_auc_22: 0.8964\n",
            "Epoch 12/1000\n",
            "31/31 [==============================] - 0s 11ms/step - loss: 1.1743 - auc_22: 0.9049 - val_loss: 1.1828 - val_auc_22: 0.8925\n",
            "Epoch 13/1000\n",
            "31/31 [==============================] - 0s 11ms/step - loss: 1.1673 - auc_22: 0.8957 - val_loss: 1.1795 - val_auc_22: 0.8930\n",
            "Epoch 14/1000\n",
            "31/31 [==============================] - 0s 11ms/step - loss: 1.1629 - auc_22: 0.8944 - val_loss: 1.1775 - val_auc_22: 0.8845\n",
            "Epoch 15/1000\n",
            "31/31 [==============================] - 0s 12ms/step - loss: 1.1580 - auc_22: 0.8933 - val_loss: 1.1725 - val_auc_22: 0.8916\n",
            "Epoch 16/1000\n",
            "31/31 [==============================] - 0s 12ms/step - loss: 1.1558 - auc_22: 0.8971 - val_loss: 1.1707 - val_auc_22: 0.8869\n",
            "Epoch 17/1000\n",
            "31/31 [==============================] - 0s 12ms/step - loss: 1.1503 - auc_22: 0.8943 - val_loss: 1.1685 - val_auc_22: 0.8871\n",
            "Epoch 18/1000\n",
            "31/31 [==============================] - 0s 12ms/step - loss: 1.1484 - auc_22: 0.8981 - val_loss: 1.1677 - val_auc_22: 0.8896\n",
            "Epoch 19/1000\n",
            "31/31 [==============================] - 0s 13ms/step - loss: 1.1464 - auc_22: 0.8935 - val_loss: 1.1664 - val_auc_22: 0.8866\n",
            "Epoch 20/1000\n",
            "31/31 [==============================] - 0s 12ms/step - loss: 1.1438 - auc_22: 0.8945 - val_loss: 1.1647 - val_auc_22: 0.8920\n",
            "Epoch 21/1000\n",
            "31/31 [==============================] - 0s 11ms/step - loss: 1.1425 - auc_22: 0.8892 - val_loss: 1.1636 - val_auc_22: 0.8823\n",
            "Epoch 22/1000\n",
            "31/31 [==============================] - 0s 11ms/step - loss: 1.1405 - auc_22: 0.8819 - val_loss: 1.1639 - val_auc_22: 0.8717\n",
            "Epoch 23/1000\n",
            "31/31 [==============================] - 0s 11ms/step - loss: 1.1406 - auc_22: 0.8748 - val_loss: 1.1623 - val_auc_22: 0.8693\n",
            "Epoch 24/1000\n",
            "31/31 [==============================] - 0s 11ms/step - loss: 1.1387 - auc_22: 0.8745 - val_loss: 1.1620 - val_auc_22: 0.8687\n",
            "Epoch 25/1000\n",
            "31/31 [==============================] - 0s 12ms/step - loss: 1.1375 - auc_22: 0.8744 - val_loss: 1.1606 - val_auc_22: 0.8675\n",
            "Epoch 26/1000\n",
            "31/31 [==============================] - 0s 11ms/step - loss: 1.1371 - auc_22: 0.8736 - val_loss: 1.1602 - val_auc_22: 0.8675\n",
            "Epoch 27/1000\n",
            "31/31 [==============================] - 0s 12ms/step - loss: 1.1347 - auc_22: 0.8747 - val_loss: 1.1591 - val_auc_22: 0.8686\n",
            "Epoch 28/1000\n",
            "31/31 [==============================] - 0s 13ms/step - loss: 1.1338 - auc_22: 0.8765 - val_loss: 1.1584 - val_auc_22: 0.8680\n",
            "Epoch 29/1000\n",
            "31/31 [==============================] - 0s 12ms/step - loss: 1.1335 - auc_22: 0.8761 - val_loss: 1.1600 - val_auc_22: 0.8695\n",
            "Epoch 30/1000\n",
            "31/31 [==============================] - 0s 11ms/step - loss: 1.1343 - auc_22: 0.8771 - val_loss: 1.1601 - val_auc_22: 0.8658\n",
            "Epoch 31/1000\n",
            "31/31 [==============================] - 0s 11ms/step - loss: 1.1345 - auc_22: 0.8726 - val_loss: 1.1586 - val_auc_22: 0.8615\n",
            "Epoch 32/1000\n",
            "31/31 [==============================] - 0s 12ms/step - loss: 1.1379 - auc_22: 0.8739 - val_loss: 1.1625 - val_auc_22: 0.8706\n"
          ],
          "name": "stdout"
        }
      ]
    },
    {
      "cell_type": "code",
      "metadata": {
        "id": "GZoxJjHWiQj8"
      },
      "source": [
        ""
      ],
      "execution_count": null,
      "outputs": []
    }
  ]
}