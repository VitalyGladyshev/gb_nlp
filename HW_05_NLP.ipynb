{
  "nbformat": 4,
  "nbformat_minor": 0,
  "metadata": {
    "colab": {
      "name": "HW_05_NLP.ipynb",
      "provenance": [],
      "collapsed_sections": [],
      "authorship_tag": "ABX9TyP+BTJJ6PwHP1TlTtWje2De",
      "include_colab_link": true
    },
    "kernelspec": {
      "name": "python3",
      "display_name": "Python 3"
    }
  },
  "cells": [
    {
      "cell_type": "markdown",
      "metadata": {
        "id": "view-in-github",
        "colab_type": "text"
      },
      "source": [
        "<a href=\"https://colab.research.google.com/github/VitalyGladyshev/gb_nlp/blob/main/HW_05_NLP.ipynb\" target=\"_parent\"><img src=\"https://colab.research.google.com/assets/colab-badge.svg\" alt=\"Open In Colab\"/></a>"
      ]
    },
    {
      "cell_type": "markdown",
      "metadata": {
        "id": "Chtw3iPy5Y0i"
      },
      "source": [
        "# ДЗ 05 NLP"
      ]
    },
    {
      "cell_type": "code",
      "metadata": {
        "id": "p0KJndXQ5PY8"
      },
      "source": [
        "import numpy as np"
      ],
      "execution_count": null,
      "outputs": []
    },
    {
      "cell_type": "markdown",
      "metadata": {
        "id": "Rtk-xhig51Yj"
      },
      "source": [
        "Берем отызывы за лето (из архива с материалами или предыдущего занятия)"
      ]
    },
    {
      "cell_type": "markdown",
      "metadata": {
        "id": "_tBM-qnJ54Dd"
      },
      "source": [
        "## Задание 1"
      ]
    },
    {
      "cell_type": "markdown",
      "metadata": {
        "id": "FAsn6Ii159NO"
      },
      "source": [
        "1. Учим conv сеть для классификации - выбить auc выше 0.95"
      ]
    },
    {
      "cell_type": "code",
      "metadata": {
        "id": "Xj91F5bX53UX"
      },
      "source": [
        ""
      ],
      "execution_count": null,
      "outputs": []
    },
    {
      "cell_type": "markdown",
      "metadata": {
        "id": "ANItfyA057s9"
      },
      "source": [
        "## Задание 2"
      ]
    },
    {
      "cell_type": "markdown",
      "metadata": {
        "id": "p01zL5MB6By0"
      },
      "source": [
        "2. Предобучаем word2vec и его эмбединга инициализируем сетку, как влияет на качество?"
      ]
    },
    {
      "cell_type": "code",
      "metadata": {
        "id": "T2PHP6vT5Ykm"
      },
      "source": [
        ""
      ],
      "execution_count": null,
      "outputs": []
    }
  ]
}