{
  "nbformat": 4,
  "nbformat_minor": 0,
  "metadata": {
    "colab": {
      "name": "HW_05_NLP.ipynb",
      "provenance": [],
      "collapsed_sections": [],
      "authorship_tag": "ABX9TyP5FgnpGj94tI5FaqqV8VMe",
      "include_colab_link": true
    },
    "kernelspec": {
      "name": "python3",
      "display_name": "Python 3"
    }
  },
  "cells": [
    {
      "cell_type": "markdown",
      "metadata": {
        "id": "view-in-github",
        "colab_type": "text"
      },
      "source": [
        "<a href=\"https://colab.research.google.com/github/VitalyGladyshev/gb_nlp/blob/main/HW_05_NLP.ipynb\" target=\"_parent\"><img src=\"https://colab.research.google.com/assets/colab-badge.svg\" alt=\"Open In Colab\"/></a>"
      ]
    },
    {
      "cell_type": "markdown",
      "metadata": {
        "id": "Chtw3iPy5Y0i"
      },
      "source": [
        "# ДЗ 05 NLP"
      ]
    },
    {
      "cell_type": "markdown",
      "metadata": {
        "id": "Rtk-xhig51Yj"
      },
      "source": [
        "Берем отызывы за лето (из архива с материалами или предыдущего занятия)"
      ]
    },
    {
      "cell_type": "code",
      "metadata": {
        "id": "p0KJndXQ5PY8"
      },
      "source": [
        "import numpy as np\n",
        "import pandas as pd"
      ],
      "execution_count": 1,
      "outputs": []
    },
    {
      "cell_type": "code",
      "metadata": {
        "id": "71Ih13bHENOE",
        "outputId": "7c2d66ae-0c6f-49cf-95fe-82754911c194",
        "colab": {
          "base_uri": "https://localhost:8080/",
          "height": 34
        }
      },
      "source": [
        "from google.colab import drive\n",
        "drive.mount('/content/gdrive')"
      ],
      "execution_count": 2,
      "outputs": [
        {
          "output_type": "stream",
          "text": [
            "Mounted at /content/gdrive\n"
          ],
          "name": "stdout"
        }
      ]
    },
    {
      "cell_type": "code",
      "metadata": {
        "id": "WSRSwudx44cu"
      },
      "source": [
        "path_otzv = \"/content/gdrive/My Drive/Colab Notebooks/NLP/отзывы за лето.xls\""
      ],
      "execution_count": 3,
      "outputs": []
    },
    {
      "cell_type": "code",
      "metadata": {
        "id": "i75xAg-LHlGx"
      },
      "source": [
        "data = pd.read_excel(path_otzv)"
      ],
      "execution_count": 4,
      "outputs": []
    },
    {
      "cell_type": "code",
      "metadata": {
        "id": "v-gnyAcqIS23",
        "outputId": "a9a76b04-5d9f-4c93-fa4c-12f87c094906",
        "colab": {
          "base_uri": "https://localhost:8080/",
          "height": 142
        }
      },
      "source": [
        "data.tail(3)"
      ],
      "execution_count": 5,
      "outputs": [
        {
          "output_type": "execute_result",
          "data": {
            "text/html": [
              "<div>\n",
              "<style scoped>\n",
              "    .dataframe tbody tr th:only-of-type {\n",
              "        vertical-align: middle;\n",
              "    }\n",
              "\n",
              "    .dataframe tbody tr th {\n",
              "        vertical-align: top;\n",
              "    }\n",
              "\n",
              "    .dataframe thead th {\n",
              "        text-align: right;\n",
              "    }\n",
              "</style>\n",
              "<table border=\"1\" class=\"dataframe\">\n",
              "  <thead>\n",
              "    <tr style=\"text-align: right;\">\n",
              "      <th></th>\n",
              "      <th>Rating</th>\n",
              "      <th>Content</th>\n",
              "      <th>Date</th>\n",
              "    </tr>\n",
              "  </thead>\n",
              "  <tbody>\n",
              "    <tr>\n",
              "      <th>20656</th>\n",
              "      <td>4</td>\n",
              "      <td>Доволен</td>\n",
              "      <td>2017-06-01</td>\n",
              "    </tr>\n",
              "    <tr>\n",
              "      <th>20657</th>\n",
              "      <td>1</td>\n",
              "      <td>Песопаснасть, рут ни нужын</td>\n",
              "      <td>2017-06-01</td>\n",
              "    </tr>\n",
              "    <tr>\n",
              "      <th>20658</th>\n",
              "      <td>5</td>\n",
              "      <td>Сбербанк бомбовая компания на сегодняшний день...</td>\n",
              "      <td>2017-06-01</td>\n",
              "    </tr>\n",
              "  </tbody>\n",
              "</table>\n",
              "</div>"
            ],
            "text/plain": [
              "       Rating                                            Content        Date\n",
              "20656       4                                            Доволен  2017-06-01\n",
              "20657       1                         Песопаснасть, рут ни нужын  2017-06-01\n",
              "20658       5  Сбербанк бомбовая компания на сегодняшний день...  2017-06-01"
            ]
          },
          "metadata": {
            "tags": []
          },
          "execution_count": 5
        }
      ]
    },
    {
      "cell_type": "code",
      "metadata": {
        "id": "xb52zeZlMCVJ",
        "outputId": "09c9a0e7-ab53-4985-f6ed-8495d88ec806",
        "colab": {
          "base_uri": "https://localhost:8080/",
          "height": 187
        }
      },
      "source": [
        "data.info()"
      ],
      "execution_count": 6,
      "outputs": [
        {
          "output_type": "stream",
          "text": [
            "<class 'pandas.core.frame.DataFrame'>\n",
            "RangeIndex: 20659 entries, 0 to 20658\n",
            "Data columns (total 3 columns):\n",
            " #   Column   Non-Null Count  Dtype \n",
            "---  ------   --------------  ----- \n",
            " 0   Rating   20659 non-null  int64 \n",
            " 1   Content  20656 non-null  object\n",
            " 2   Date     20659 non-null  object\n",
            "dtypes: int64(1), object(2)\n",
            "memory usage: 484.3+ KB\n"
          ],
          "name": "stdout"
        }
      ]
    },
    {
      "cell_type": "code",
      "metadata": {
        "id": "i788krmrMXOn"
      },
      "source": [
        "from datetime import datetime"
      ],
      "execution_count": 19,
      "outputs": []
    },
    {
      "cell_type": "code",
      "metadata": {
        "id": "Xj91F5bX53UX",
        "outputId": "3d490aea-10e9-464d-f158-3a705172d20b",
        "colab": {
          "base_uri": "https://localhost:8080/",
          "height": 34
        }
      },
      "source": [
        "type(data[\"Date\"].values[0])"
      ],
      "execution_count": 20,
      "outputs": [
        {
          "output_type": "execute_result",
          "data": {
            "text/plain": [
              "str"
            ]
          },
          "metadata": {
            "tags": []
          },
          "execution_count": 20
        }
      ]
    },
    {
      "cell_type": "code",
      "metadata": {
        "id": "CAvMFxzVMOUP",
        "outputId": "e70dea0c-f8ce-4db8-9deb-a4bf9630fcbc",
        "colab": {
          "base_uri": "https://localhost:8080/",
          "height": 34
        }
      },
      "source": [
        "datetime_object = datetime.strptime(data[\"Date\"].values[0], '%Y-%m-%d').date()\n",
        "datetime_object"
      ],
      "execution_count": 36,
      "outputs": [
        {
          "output_type": "execute_result",
          "data": {
            "text/plain": [
              "datetime.date(2017, 8, 14)"
            ]
          },
          "metadata": {
            "tags": []
          },
          "execution_count": 36
        }
      ]
    },
    {
      "cell_type": "code",
      "metadata": {
        "id": "OcAIYgDvPac3",
        "outputId": "b80f99ea-ce22-44e0-b69a-954da365367d",
        "colab": {
          "base_uri": "https://localhost:8080/",
          "height": 204
        }
      },
      "source": [
        "data[\"Year\"] = [datetime.strptime(dt, '%Y-%m-%d').year for dt in data[\"Date\"].values]\n",
        "data[\"Month\"] = [datetime.strptime(dt, '%Y-%m-%d').month for dt in data[\"Date\"].values]\n",
        "data[\"Day\"] = [datetime.strptime(dt, '%Y-%m-%d').day for dt in data[\"Date\"].values]\n",
        "data.head()"
      ],
      "execution_count": 34,
      "outputs": [
        {
          "output_type": "execute_result",
          "data": {
            "text/html": [
              "<div>\n",
              "<style scoped>\n",
              "    .dataframe tbody tr th:only-of-type {\n",
              "        vertical-align: middle;\n",
              "    }\n",
              "\n",
              "    .dataframe tbody tr th {\n",
              "        vertical-align: top;\n",
              "    }\n",
              "\n",
              "    .dataframe thead th {\n",
              "        text-align: right;\n",
              "    }\n",
              "</style>\n",
              "<table border=\"1\" class=\"dataframe\">\n",
              "  <thead>\n",
              "    <tr style=\"text-align: right;\">\n",
              "      <th></th>\n",
              "      <th>Rating</th>\n",
              "      <th>Content</th>\n",
              "      <th>Date</th>\n",
              "      <th>Year</th>\n",
              "      <th>Month</th>\n",
              "      <th>Day</th>\n",
              "    </tr>\n",
              "  </thead>\n",
              "  <tbody>\n",
              "    <tr>\n",
              "      <th>0</th>\n",
              "      <td>5</td>\n",
              "      <td>It just works!</td>\n",
              "      <td>2017-08-14</td>\n",
              "      <td>2017</td>\n",
              "      <td>8</td>\n",
              "      <td>14</td>\n",
              "    </tr>\n",
              "    <tr>\n",
              "      <th>1</th>\n",
              "      <td>4</td>\n",
              "      <td>В целом удобноное приложение...из минусов хотя...</td>\n",
              "      <td>2017-08-14</td>\n",
              "      <td>2017</td>\n",
              "      <td>8</td>\n",
              "      <td>14</td>\n",
              "    </tr>\n",
              "    <tr>\n",
              "      <th>2</th>\n",
              "      <td>5</td>\n",
              "      <td>Отлично все</td>\n",
              "      <td>2017-08-14</td>\n",
              "      <td>2017</td>\n",
              "      <td>8</td>\n",
              "      <td>14</td>\n",
              "    </tr>\n",
              "    <tr>\n",
              "      <th>3</th>\n",
              "      <td>5</td>\n",
              "      <td>Стал зависать на 1% работы антивируса. Дальше ...</td>\n",
              "      <td>2017-08-14</td>\n",
              "      <td>2017</td>\n",
              "      <td>8</td>\n",
              "      <td>14</td>\n",
              "    </tr>\n",
              "    <tr>\n",
              "      <th>4</th>\n",
              "      <td>5</td>\n",
              "      <td>Очень удобно, работает быстро.</td>\n",
              "      <td>2017-08-14</td>\n",
              "      <td>2017</td>\n",
              "      <td>8</td>\n",
              "      <td>14</td>\n",
              "    </tr>\n",
              "  </tbody>\n",
              "</table>\n",
              "</div>"
            ],
            "text/plain": [
              "   Rating                                            Content  ... Month  Day\n",
              "0       5                                     It just works!  ...     8   14\n",
              "1       4  В целом удобноное приложение...из минусов хотя...  ...     8   14\n",
              "2       5                                        Отлично все  ...     8   14\n",
              "3       5  Стал зависать на 1% работы антивируса. Дальше ...  ...     8   14\n",
              "4       5                     Очень удобно, работает быстро.  ...     8   14\n",
              "\n",
              "[5 rows x 6 columns]"
            ]
          },
          "metadata": {
            "tags": []
          },
          "execution_count": 34
        }
      ]
    },
    {
      "cell_type": "markdown",
      "metadata": {
        "id": "_tBM-qnJ54Dd"
      },
      "source": [
        "## Задание 1"
      ]
    },
    {
      "cell_type": "markdown",
      "metadata": {
        "id": "FAsn6Ii159NO"
      },
      "source": [
        "1. Учим conv сеть для классификации - выбить auc выше 0.95"
      ]
    },
    {
      "cell_type": "code",
      "metadata": {
        "id": "-6jEymp-XwpD",
        "outputId": "1d180fe1-1d8e-41e7-c5de-abc40b324e28",
        "colab": {
          "base_uri": "https://localhost:8080/",
          "height": 190
        }
      },
      "source": [
        "pip install stop_words"
      ],
      "execution_count": 38,
      "outputs": [
        {
          "output_type": "stream",
          "text": [
            "Collecting stop_words\n",
            "  Downloading https://files.pythonhosted.org/packages/1c/cb/d58290804b7a4c5daa42abbbe2a93c477ae53e45541b1825e86f0dfaaf63/stop-words-2018.7.23.tar.gz\n",
            "Building wheels for collected packages: stop-words\n",
            "  Building wheel for stop-words (setup.py) ... \u001b[?25l\u001b[?25hdone\n",
            "  Created wheel for stop-words: filename=stop_words-2018.7.23-cp36-none-any.whl size=32916 sha256=2499d3e4f69a90e2ab0e54cc95240b711816d477eaef720f12d0ad9afe57aaee\n",
            "  Stored in directory: /root/.cache/pip/wheels/75/37/6a/2b295e03bd07290f0da95c3adb9a74ba95fbc333aa8b0c7c78\n",
            "Successfully built stop-words\n",
            "Installing collected packages: stop-words\n",
            "Successfully installed stop-words-2018.7.23\n"
          ],
          "name": "stdout"
        }
      ]
    },
    {
      "cell_type": "code",
      "metadata": {
        "id": "iwnxScYvX4cP",
        "outputId": "4b99a97c-8c9f-41e5-f94f-e9b62d40a7cb",
        "colab": {
          "base_uri": "https://localhost:8080/",
          "height": 224
        }
      },
      "source": [
        "pip install pymorphy2"
      ],
      "execution_count": 40,
      "outputs": [
        {
          "output_type": "stream",
          "text": [
            "Collecting pymorphy2\n",
            "\u001b[?25l  Downloading https://files.pythonhosted.org/packages/07/57/b2ff2fae3376d4f3c697b9886b64a54b476e1a332c67eee9f88e7f1ae8c9/pymorphy2-0.9.1-py3-none-any.whl (55kB)\n",
            "\u001b[K     |████████████████████████████████| 61kB 1.0MB/s \n",
            "\u001b[?25hRequirement already satisfied: docopt>=0.6 in /usr/local/lib/python3.6/dist-packages (from pymorphy2) (0.6.2)\n",
            "Collecting pymorphy2-dicts-ru<3.0,>=2.4\n",
            "\u001b[?25l  Downloading https://files.pythonhosted.org/packages/3a/79/bea0021eeb7eeefde22ef9e96badf174068a2dd20264b9a378f2be1cdd9e/pymorphy2_dicts_ru-2.4.417127.4579844-py2.py3-none-any.whl (8.2MB)\n",
            "\u001b[K     |████████████████████████████████| 8.2MB 500kB/s \n",
            "\u001b[?25hCollecting dawg-python>=0.7.1\n",
            "  Downloading https://files.pythonhosted.org/packages/6a/84/ff1ce2071d4c650ec85745766c0047ccc3b5036f1d03559fd46bb38b5eeb/DAWG_Python-0.7.2-py2.py3-none-any.whl\n",
            "Installing collected packages: pymorphy2-dicts-ru, dawg-python, pymorphy2\n",
            "Successfully installed dawg-python-0.7.2 pymorphy2-0.9.1 pymorphy2-dicts-ru-2.4.417127.4579844\n"
          ],
          "name": "stdout"
        }
      ]
    },
    {
      "cell_type": "code",
      "metadata": {
        "id": "ucNaivR2QROz"
      },
      "source": [
        "from string import punctuation\n",
        "from stop_words import get_stop_words\n",
        "from pymorphy2 import MorphAnalyzer\n",
        "import re"
      ],
      "execution_count": 41,
      "outputs": []
    },
    {
      "cell_type": "code",
      "metadata": {
        "id": "SXMHO2b2X-qz"
      },
      "source": [
        "sw = set(get_stop_words(\"ru\"))\n",
        "exclude = set(punctuation)\n",
        "morpher = MorphAnalyzer()\n",
        "\n",
        "def preprocess_text(txt):\n",
        "    txt = str(txt)\n",
        "    txt = \"\".join(c for c in txt if c not in exclude)\n",
        "    txt = txt.lower()\n",
        "    txt = re.sub(\"\\sне\", \"не\", txt)\n",
        "    txt = [morpher.parse(word)[0].normal_form for word in txt.split() if word not in sw]\n",
        "    return \" \".join(txt)"
      ],
      "execution_count": 42,
      "outputs": []
    },
    {
      "cell_type": "code",
      "metadata": {
        "id": "qqWBsdsxX-nm",
        "outputId": "f81f9d46-13a7-4be7-cfc9-6efd51731fce",
        "colab": {
          "base_uri": "https://localhost:8080/",
          "height": 204
        }
      },
      "source": [
        "data['Content_prep'] = data['Content'].apply(preprocess_text)\n",
        "data.tail()"
      ],
      "execution_count": 43,
      "outputs": [
        {
          "output_type": "execute_result",
          "data": {
            "text/html": [
              "<div>\n",
              "<style scoped>\n",
              "    .dataframe tbody tr th:only-of-type {\n",
              "        vertical-align: middle;\n",
              "    }\n",
              "\n",
              "    .dataframe tbody tr th {\n",
              "        vertical-align: top;\n",
              "    }\n",
              "\n",
              "    .dataframe thead th {\n",
              "        text-align: right;\n",
              "    }\n",
              "</style>\n",
              "<table border=\"1\" class=\"dataframe\">\n",
              "  <thead>\n",
              "    <tr style=\"text-align: right;\">\n",
              "      <th></th>\n",
              "      <th>Rating</th>\n",
              "      <th>Content</th>\n",
              "      <th>Date</th>\n",
              "      <th>Year</th>\n",
              "      <th>Month</th>\n",
              "      <th>Day</th>\n",
              "      <th>Content_prep</th>\n",
              "    </tr>\n",
              "  </thead>\n",
              "  <tbody>\n",
              "    <tr>\n",
              "      <th>20654</th>\n",
              "      <td>1</td>\n",
              "      <td>Ну и шляпа,с роот правами бесполезная прога,ра...</td>\n",
              "      <td>2017-06-01</td>\n",
              "      <td>2017</td>\n",
              "      <td>6</td>\n",
              "      <td>1</td>\n",
              "      <td>шляпас роот право бесполезный прогаразрабыв ох...</td>\n",
              "    </tr>\n",
              "    <tr>\n",
              "      <th>20655</th>\n",
              "      <td>5</td>\n",
              "      <td>Ок</td>\n",
              "      <td>2017-06-01</td>\n",
              "      <td>2017</td>\n",
              "      <td>6</td>\n",
              "      <td>1</td>\n",
              "      <td>около</td>\n",
              "    </tr>\n",
              "    <tr>\n",
              "      <th>20656</th>\n",
              "      <td>4</td>\n",
              "      <td>Доволен</td>\n",
              "      <td>2017-06-01</td>\n",
              "      <td>2017</td>\n",
              "      <td>6</td>\n",
              "      <td>1</td>\n",
              "      <td>довольный</td>\n",
              "    </tr>\n",
              "    <tr>\n",
              "      <th>20657</th>\n",
              "      <td>1</td>\n",
              "      <td>Песопаснасть, рут ни нужын</td>\n",
              "      <td>2017-06-01</td>\n",
              "      <td>2017</td>\n",
              "      <td>6</td>\n",
              "      <td>1</td>\n",
              "      <td>песопаснастя рута нужын</td>\n",
              "    </tr>\n",
              "    <tr>\n",
              "      <th>20658</th>\n",
              "      <td>5</td>\n",
              "      <td>Сбербанк бомбовая компания на сегодняшний день...</td>\n",
              "      <td>2017-06-01</td>\n",
              "      <td>2017</td>\n",
              "      <td>6</td>\n",
              "      <td>1</td>\n",
              "      <td>сбербанк бомбовый компания сегодняшний лидер б...</td>\n",
              "    </tr>\n",
              "  </tbody>\n",
              "</table>\n",
              "</div>"
            ],
            "text/plain": [
              "       Rating  ...                                       Content_prep\n",
              "20654       1  ...  шляпас роот право бесполезный прогаразрабыв ох...\n",
              "20655       5  ...                                              около\n",
              "20656       4  ...                                          довольный\n",
              "20657       1  ...                            песопаснастя рута нужын\n",
              "20658       5  ...  сбербанк бомбовый компания сегодняшний лидер б...\n",
              "\n",
              "[5 rows x 7 columns]"
            ]
          },
          "metadata": {
            "tags": []
          },
          "execution_count": 43
        }
      ]
    },
    {
      "cell_type": "code",
      "metadata": {
        "id": "AF9opAXgY93U"
      },
      "source": [
        "train_corpus = \" \".join(data['Content_prep'])"
      ],
      "execution_count": 46,
      "outputs": []
    },
    {
      "cell_type": "code",
      "metadata": {
        "id": "EsgKYXo3Y9xe",
        "outputId": "76b0b337-baa1-4378-c435-cbc3bea23621",
        "colab": {
          "base_uri": "https://localhost:8080/",
          "height": 51
        }
      },
      "source": [
        "import nltk\n",
        "from nltk.tokenize import word_tokenize\n",
        "nltk.download(\"punkt\")\n",
        "\n",
        "tokens_tot = word_tokenize(train_corpus)"
      ],
      "execution_count": 56,
      "outputs": [
        {
          "output_type": "stream",
          "text": [
            "[nltk_data] Downloading package punkt to /root/nltk_data...\n",
            "[nltk_data]   Package punkt is already up-to-date!\n"
          ],
          "name": "stdout"
        }
      ]
    },
    {
      "cell_type": "code",
      "metadata": {
        "id": "1DcP0rjBgCK2"
      },
      "source": [
        "tokens_filtered = [word for word in tokens_tot if word.isalnum()]"
      ],
      "execution_count": 57,
      "outputs": []
    },
    {
      "cell_type": "code",
      "metadata": {
        "id": "0LYrDLmvgCGE"
      },
      "source": [
        "from nltk.probability import FreqDist\n",
        "dist = FreqDist(tokens_filtered)"
      ],
      "execution_count": 68,
      "outputs": []
    },
    {
      "cell_type": "code",
      "metadata": {
        "id": "Gblzo8jkiZXQ"
      },
      "source": [
        "vocabulary = {v: i  for i, v in enumerate(dist) if dist[v]>1}"
      ],
      "execution_count": 65,
      "outputs": []
    },
    {
      "cell_type": "code",
      "metadata": {
        "id": "OFCqAoTMdVlT"
      },
      "source": [
        "def text_to_sequence(text, maxlen):\n",
        "    result = []\n",
        "    tokens = word_tokenize(text.lower())\n",
        "    tokens_filtered = [word for word in tokens if word.isalnum()]\n",
        "    for word in tokens_filtered:\n",
        "        if word in vocabulary:\n",
        "            result.append(vocabulary[word])\n",
        "    padding = [0]*(maxlen-len(result))\n",
        "    return padding + result[-maxlen:]"
      ],
      "execution_count": 70,
      "outputs": []
    },
    {
      "cell_type": "code",
      "metadata": {
        "id": "KnYlhPuMfSjo",
        "outputId": "ce6bd91b-00c0-48da-fed3-ac510c25582c",
        "colab": {
          "base_uri": "https://localhost:8080/",
          "height": 34
        }
      },
      "source": [
        "print(text_to_sequence(data['Content_prep'].values[5737], 20))"
      ],
      "execution_count": 72,
      "outputs": [
        {
          "output_type": "stream",
          "text": [
            "[0, 0, 0, 0, 0, 0, 0, 0, 0, 0, 0, 0, 0, 0, 0, 3304, 131, 304, 3184, 5156]\n"
          ],
          "name": "stdout"
        }
      ]
    },
    {
      "cell_type": "code",
      "metadata": {
        "id": "9DaaodfXeJhm"
      },
      "source": [
        "data_embeded = np.asarray([text_to_sequence(text, 20) for text in data['Content_prep']], dtype=np.int32)"
      ],
      "execution_count": 73,
      "outputs": []
    },
    {
      "cell_type": "code",
      "metadata": {
        "id": "1eIQv5MDeLQI",
        "outputId": "c2ec26ae-4c80-4ab0-8c59-59236a78e935",
        "colab": {
          "base_uri": "https://localhost:8080/",
          "height": 136
        }
      },
      "source": [
        "data_embeded"
      ],
      "execution_count": 74,
      "outputs": [
        {
          "output_type": "execute_result",
          "data": {
            "text/plain": [
              "array([[   0,    0,    0, ...,    0,    0,    2],\n",
              "       [   0,    0,    0, ...,   13,   14,   15],\n",
              "       [   0,    0,    0, ...,    0,    0,   16],\n",
              "       ...,\n",
              "       [   0,    0,    0, ...,    0,    0,  174],\n",
              "       [   0,    0,    0, ...,    0,    0,  425],\n",
              "       [   0,    0,    0, ..., 6321,  327, 3714]], dtype=int32)"
            ]
          },
          "metadata": {
            "tags": []
          },
          "execution_count": 74
        }
      ]
    },
    {
      "cell_type": "code",
      "metadata": {
        "id": "7Ed-fPi8eLMn"
      },
      "source": [
        "from sklearn.model_selection import train_test_split"
      ],
      "execution_count": 77,
      "outputs": []
    },
    {
      "cell_type": "code",
      "metadata": {
        "id": "yR7aPjDJeLIE"
      },
      "source": [
        "y = data['Rating'].values\n",
        "train_x, valid_x, train_y, valid_y = train_test_split(data_embeded, y, stratify=y, random_state=43)"
      ],
      "execution_count": 78,
      "outputs": []
    },
    {
      "cell_type": "code",
      "metadata": {
        "id": "KiiigcGDmcEK",
        "outputId": "65b93158-34bf-488c-fc8d-d3a8d7169e43",
        "colab": {
          "base_uri": "https://localhost:8080/",
          "height": 34
        }
      },
      "source": [
        "train_x.shape"
      ],
      "execution_count": 81,
      "outputs": [
        {
          "output_type": "execute_result",
          "data": {
            "text/plain": [
              "(15494, 20)"
            ]
          },
          "metadata": {
            "tags": []
          },
          "execution_count": 81
        }
      ]
    },
    {
      "cell_type": "code",
      "metadata": {
        "id": "FFdyA9_SoJED",
        "outputId": "56128793-38fa-4807-cc43-49fd3ace668b",
        "colab": {
          "base_uri": "https://localhost:8080/",
          "height": 34
        }
      },
      "source": [
        "tr_data = train_x.reshape(train_x.shape[0], train_x.shape[1], 1)\n",
        "vd_data = valid_x.reshape(valid_x.shape[0], valid_x.shape[1], 1)\n",
        "tr_data.shape"
      ],
      "execution_count": 83,
      "outputs": [
        {
          "output_type": "execute_result",
          "data": {
            "text/plain": [
              "(15494, 20, 1)"
            ]
          },
          "metadata": {
            "tags": []
          },
          "execution_count": 83
        }
      ]
    },
    {
      "cell_type": "code",
      "metadata": {
        "id": "cFSQKdGU2qtY"
      },
      "source": [
        "def to_one_hot(Y):\n",
        "    n_col = np.amax(Y)\n",
        "    binarized = np.zeros((len(Y), n_col))\n",
        "    for i in range(len(Y)):\n",
        "        binarized[i, Y[i]-1] = 1.\n",
        "    return binarized"
      ],
      "execution_count": 99,
      "outputs": []
    },
    {
      "cell_type": "code",
      "metadata": {
        "id": "DddjmKW_2sUO",
        "outputId": "b9a564a3-dc96-45eb-a31e-1a322dc80498",
        "colab": {
          "base_uri": "https://localhost:8080/",
          "height": 136
        }
      },
      "source": [
        "train_y_o = to_one_hot(train_y)\n",
        "valid_y_o = to_one_hot(valid_y)\n",
        "train_y_o"
      ],
      "execution_count": 101,
      "outputs": [
        {
          "output_type": "execute_result",
          "data": {
            "text/plain": [
              "array([[0., 0., 0., 0., 1.],\n",
              "       [0., 0., 0., 0., 1.],\n",
              "       [0., 1., 0., 0., 0.],\n",
              "       ...,\n",
              "       [0., 0., 0., 0., 1.],\n",
              "       [0., 0., 0., 0., 1.],\n",
              "       [0., 0., 0., 0., 1.]])"
            ]
          },
          "metadata": {
            "tags": []
          },
          "execution_count": 101
        }
      ]
    },
    {
      "cell_type": "markdown",
      "metadata": {
        "id": "k4C39BdvoVFF"
      },
      "source": [
        "### Строим свёрточную нейронную сеть"
      ]
    },
    {
      "cell_type": "code",
      "metadata": {
        "id": "L68oapM_xV-i"
      },
      "source": [
        "import tensorflow as tf\n",
        "\n",
        "# !pip install -q tensorflow-hub\n",
        "# !pip install -q tensorflow-datasets\n",
        "import tensorflow_hub as hub\n",
        "# import tensorflow_datasets as tfds\n",
        "\n",
        "import keras\n",
        "\n",
        "from keras.models import Sequential\n",
        "from keras.layers import Dense, Conv1D, MaxPooling1D, Dropout, Flatten\n",
        "from keras.utils import to_categorical\n",
        "\n",
        "from typing import List, Optional, Dict, Tuple"
      ],
      "execution_count": 90,
      "outputs": []
    },
    {
      "cell_type": "code",
      "metadata": {
        "id": "mEs0ivmTyvo8"
      },
      "source": [
        "def calculate_confidence_interval(scores: list, conf_interval: float = 0.95) -> Tuple[float]:\n",
        "    \"\"\"\n",
        "    Вычисление доверительного интервала.\n",
        "\n",
        "    Parameters\n",
        "    ----------\n",
        "    scores: List[float / int]\n",
        "        Список с оценками изучаемой величины.\n",
        "\n",
        "    conf_interval: float, optional, default = 0.95\n",
        "        Уровень доверия для построения интервала.\n",
        "        Опциональный параметр, по умолчанию, равен 0.95.\n",
        "\n",
        "    Returns\n",
        "    -------\n",
        "    conf_interval: Tuple[float]\n",
        "        Кортеж с границами доверительного интервала.\n",
        "\n",
        "    \"\"\"\n",
        "    left_bound = np.percentile(\n",
        "        scores, ((1 - conf_interval) / 2) * 100\n",
        "    )\n",
        "    right_bound = np.percentile(\n",
        "        scores, (conf_interval + ((1 - conf_interval) / 2)) * 100\n",
        "    )\n",
        "\n",
        "    return left_bound, right_bound"
      ],
      "execution_count": 91,
      "outputs": []
    },
    {
      "cell_type": "code",
      "metadata": {
        "id": "D0n-eUeMofKT"
      },
      "source": [
        "def net_gen(lay_cnt=1, filters=32, neurons=32):\n",
        "    # конфигурирование слоев нейросети\n",
        "    model = Sequential()\n",
        "\n",
        "    # слои нейросети отвественные за свертку и max-pooling\n",
        "    model.add(Conv1D(filters, 3, padding='same', activation='sigmoid', input_shape=(tr_data.shape[1], 1)))   # relu\n",
        "    # model.add(Conv1D(filters, 3, activation='relu'))\n",
        "    # model.add(MaxPooling1D(pool_size=2))\n",
        "    model.add(Dropout(0.25))\n",
        "    if lay_cnt == 2:\n",
        "        model.add(Conv1D(filters, 3, padding='same', activation='sigmoid')) # relu\n",
        "        # model.add(MaxPooling1D(pool_size=2))\n",
        "        model.add(Dropout(0.25))\n",
        "\n",
        "    # полносвязные слои нейронной сети\n",
        "    model.add(Flatten())\n",
        "    model.add(Dense(neurons, activation='sigmoid'))   # relu\n",
        "    # model.add(Dense(neurons, activation='relu'))))\n",
        "    model.add(Dropout(0.5))\n",
        "    model.add(Dense(5, activation='softmax')) # sigmoid'))\n",
        "\n",
        "    # компиляция модели\n",
        "    model.compile(optimizer=tf.keras.optimizers.Adam(1e-3),#\n",
        "                loss=tf.keras.losses.CategoricalCrossentropy(from_logits=True),\n",
        "                metrics=[tf.keras.metrics.AUC()])\n",
        "\n",
        "    return model"
      ],
      "execution_count": 181,
      "outputs": []
    },
    {
      "cell_type": "code",
      "metadata": {
        "id": "lCGgz4nqofFh"
      },
      "source": [
        "def net_iter(model, ep=10, batch_size=64):\n",
        "    history = model.fit(tr_data,\n",
        "                        train_y_o,\n",
        "                        batch_size=batch_size,\n",
        "                        epochs=ep,\n",
        "                        validation_data=(vd_data, valid_y_o),\n",
        "                        shuffle=True,\n",
        "                        verbose=0)    \n",
        "    return history.history"
      ],
      "execution_count": 182,
      "outputs": []
    },
    {
      "cell_type": "code",
      "metadata": {
        "id": "HA4CPlLqvdd7",
        "outputId": "416bb003-03f7-4584-9d21-80d1f1549c8f",
        "colab": {
          "base_uri": "https://localhost:8080/",
          "height": 1000
        }
      },
      "source": [
        "summary_data = pd.DataFrame(data=[[0, 0, 0, 0, 0, 0, 0, 0]], \n",
        "                            columns=['layers', 'filters', 'neurons', 'mean_train_score', 'mean_val_score', 'variance', 'l_b', 'r_b'])\n",
        "cnt = 0\n",
        "f_n = [128, 256]\n",
        "l_c = [1, 2]\n",
        "nr = [32, 64]\n",
        "epochs = 15\n",
        "\n",
        "# net_res = []\n",
        "\n",
        "for l_c_i in l_c:\n",
        "    for f_n_i in f_n:\n",
        "        for nr_i in nr:\n",
        "            err_score = []\n",
        "            err_val_score = []\n",
        "            print(f\"Модель: слоёв {l_c_i}, фильтров {f_n_i}, нейронов {nr_i}, эпох {epochs}\\n\")\n",
        "            model = net_gen(filters=f_n_i, lay_cnt=l_c_i, neurons=nr_i)\n",
        "            model.summary()\n",
        "            for i in range(5):\n",
        "                print(f\"\\tИтерация: {i+1}\")\n",
        "                hist = net_iter(model, ep=epochs)\n",
        "                # net_res.append(hist)\n",
        "                err_score.append(hist[list(hist.keys())[1]][-1])\n",
        "                err_val_score.append(hist[list(hist.keys())[3]][-1])\n",
        "\n",
        "            vr = np.var(err_val_score)\n",
        "            l_b, r_b = calculate_confidence_interval(err_val_score)\n",
        "            mean_err_score, mean_err_val_score = np.mean(err_score), np.mean(err_val_score)\n",
        "            print(f\"Ошибки на train. Средняя: {mean_err_score} список: {err_score}\")\n",
        "            print(f\"Ошибки на valid. Средняя: {mean_err_val_score} список: {err_val_score}\")\n",
        "            print(f\"Дисперсия ошибки на valid: {vr}\")\n",
        "            print(f\"Доверительный интервал: {l_b} - {r_b}\\n\\n\")\n",
        "            summary_data.loc[cnt, ['layers', 'filters', 'neurons', 'mean_train_score', \n",
        "                                    'mean_val_score', 'variance', 'l_b', 'r_b']] = [l_c_i, f_n_i, \n",
        "                                    nr_i, np.mean(err_score), np.mean(err_val_score), vr, l_b, r_b]\n",
        "            cnt += 1"
      ],
      "execution_count": 183,
      "outputs": [
        {
          "output_type": "stream",
          "text": [
            "Модель: слоёв 1, фильтров 128, нейронов 32, эпох 15\n",
            "\n",
            "Model: \"sequential_33\"\n",
            "_________________________________________________________________\n",
            "Layer (type)                 Output Shape              Param #   \n",
            "=================================================================\n",
            "conv1d_36 (Conv1D)           (None, 20, 128)           512       \n",
            "_________________________________________________________________\n",
            "dropout_59 (Dropout)         (None, 20, 128)           0         \n",
            "_________________________________________________________________\n",
            "flatten_32 (Flatten)         (None, 2560)              0         \n",
            "_________________________________________________________________\n",
            "dense_64 (Dense)             (None, 32)                81952     \n",
            "_________________________________________________________________\n",
            "dropout_60 (Dropout)         (None, 32)                0         \n",
            "_________________________________________________________________\n",
            "dense_65 (Dense)             (None, 5)                 165       \n",
            "=================================================================\n",
            "Total params: 82,629\n",
            "Trainable params: 82,629\n",
            "Non-trainable params: 0\n",
            "_________________________________________________________________\n",
            "\tИтерация: 1\n",
            "\tИтерация: 2\n",
            "\tИтерация: 3\n",
            "\tИтерация: 4\n",
            "\tИтерация: 5\n",
            "Ошибки на train. Средняя: 0.8162880539894104 список: [0.8163514137268066, 0.8163331151008606, 0.8162604570388794, 0.8162476420402527, 0.8162476420402527]\n",
            "Ошибки на valid. Средняя: 0.816311776638031 список: [0.816311776638031, 0.816311776638031, 0.816311776638031, 0.816311776638031, 0.816311776638031]\n",
            "Дисперсия ошибки на valid: 0.0\n",
            "Доверительный интервал: 0.816311776638031 - 0.816311776638031\n",
            "\n",
            "\n",
            "Модель: слоёв 1, фильтров 128, нейронов 64, эпох 15\n",
            "\n",
            "Model: \"sequential_34\"\n",
            "_________________________________________________________________\n",
            "Layer (type)                 Output Shape              Param #   \n",
            "=================================================================\n",
            "conv1d_37 (Conv1D)           (None, 20, 128)           512       \n",
            "_________________________________________________________________\n",
            "dropout_61 (Dropout)         (None, 20, 128)           0         \n",
            "_________________________________________________________________\n",
            "flatten_33 (Flatten)         (None, 2560)              0         \n",
            "_________________________________________________________________\n",
            "dense_66 (Dense)             (None, 64)                163904    \n",
            "_________________________________________________________________\n",
            "dropout_62 (Dropout)         (None, 64)                0         \n",
            "_________________________________________________________________\n",
            "dense_67 (Dense)             (None, 5)                 325       \n",
            "=================================================================\n",
            "Total params: 164,741\n",
            "Trainable params: 164,741\n",
            "Non-trainable params: 0\n",
            "_________________________________________________________________\n",
            "\tИтерация: 1\n",
            "\tИтерация: 2\n",
            "\tИтерация: 3\n",
            "\tИтерация: 4\n",
            "\tИтерация: 5\n",
            "Ошибки на train. Средняя: 0.816252863407135 список: [0.816219687461853, 0.8162661194801331, 0.816259503364563, 0.816259503364563, 0.816259503364563]\n",
            "Ошибки на valid. Средняя: 0.816311776638031 список: [0.816311776638031, 0.816311776638031, 0.816311776638031, 0.816311776638031, 0.816311776638031]\n",
            "Дисперсия ошибки на valid: 0.0\n",
            "Доверительный интервал: 0.816311776638031 - 0.816311776638031\n",
            "\n",
            "\n",
            "Модель: слоёв 1, фильтров 256, нейронов 32, эпох 15\n",
            "\n",
            "Model: \"sequential_35\"\n",
            "_________________________________________________________________\n",
            "Layer (type)                 Output Shape              Param #   \n",
            "=================================================================\n",
            "conv1d_38 (Conv1D)           (None, 20, 256)           1024      \n",
            "_________________________________________________________________\n",
            "dropout_63 (Dropout)         (None, 20, 256)           0         \n",
            "_________________________________________________________________\n",
            "flatten_34 (Flatten)         (None, 5120)              0         \n",
            "_________________________________________________________________\n",
            "dense_68 (Dense)             (None, 32)                163872    \n",
            "_________________________________________________________________\n",
            "dropout_64 (Dropout)         (None, 32)                0         \n",
            "_________________________________________________________________\n",
            "dense_69 (Dense)             (None, 5)                 165       \n",
            "=================================================================\n",
            "Total params: 165,061\n",
            "Trainable params: 165,061\n",
            "Non-trainable params: 0\n",
            "_________________________________________________________________\n",
            "\tИтерация: 1\n",
            "\tИтерация: 2\n",
            "\tИтерация: 3\n",
            "\tИтерация: 4\n",
            "\tИтерация: 5\n",
            "Ошибки на train. Средняя: 0.8162392973899841 список: [0.8161949515342712, 0.8162206411361694, 0.8162334561347961, 0.816259503364563, 0.8162879347801208]\n",
            "Ошибки на valid. Средняя: 0.816311776638031 список: [0.816311776638031, 0.816311776638031, 0.816311776638031, 0.816311776638031, 0.816311776638031]\n",
            "Дисперсия ошибки на valid: 0.0\n",
            "Доверительный интервал: 0.816311776638031 - 0.816311776638031\n",
            "\n",
            "\n",
            "Модель: слоёв 1, фильтров 256, нейронов 64, эпох 15\n",
            "\n",
            "Model: \"sequential_36\"\n",
            "_________________________________________________________________\n",
            "Layer (type)                 Output Shape              Param #   \n",
            "=================================================================\n",
            "conv1d_39 (Conv1D)           (None, 20, 256)           1024      \n",
            "_________________________________________________________________\n",
            "dropout_65 (Dropout)         (None, 20, 256)           0         \n",
            "_________________________________________________________________\n",
            "flatten_35 (Flatten)         (None, 5120)              0         \n",
            "_________________________________________________________________\n",
            "dense_70 (Dense)             (None, 64)                327744    \n",
            "_________________________________________________________________\n",
            "dropout_66 (Dropout)         (None, 64)                0         \n",
            "_________________________________________________________________\n",
            "dense_71 (Dense)             (None, 5)                 325       \n",
            "=================================================================\n",
            "Total params: 329,093\n",
            "Trainable params: 329,093\n",
            "Non-trainable params: 0\n",
            "_________________________________________________________________\n",
            "\tИтерация: 1\n",
            "\tИтерация: 2\n",
            "\tИтерация: 3\n",
            "\tИтерация: 4\n",
            "\tИтерация: 5\n",
            "Ошибки на train. Средняя: 0.8162542819976807 список: [0.8162357807159424, 0.816257119178772, 0.816259503364563, 0.816259503364563, 0.816259503364563]\n",
            "Ошибки на valid. Средняя: 0.816311776638031 список: [0.816311776638031, 0.816311776638031, 0.816311776638031, 0.816311776638031, 0.816311776638031]\n",
            "Дисперсия ошибки на valid: 0.0\n",
            "Доверительный интервал: 0.816311776638031 - 0.816311776638031\n",
            "\n",
            "\n",
            "Модель: слоёв 2, фильтров 128, нейронов 32, эпох 15\n",
            "\n",
            "Model: \"sequential_37\"\n",
            "_________________________________________________________________\n",
            "Layer (type)                 Output Shape              Param #   \n",
            "=================================================================\n",
            "conv1d_40 (Conv1D)           (None, 20, 128)           512       \n",
            "_________________________________________________________________\n",
            "dropout_67 (Dropout)         (None, 20, 128)           0         \n",
            "_________________________________________________________________\n",
            "conv1d_41 (Conv1D)           (None, 20, 128)           49280     \n",
            "_________________________________________________________________\n",
            "dropout_68 (Dropout)         (None, 20, 128)           0         \n",
            "_________________________________________________________________\n",
            "flatten_36 (Flatten)         (None, 2560)              0         \n",
            "_________________________________________________________________\n",
            "dense_72 (Dense)             (None, 32)                81952     \n",
            "_________________________________________________________________\n",
            "dropout_69 (Dropout)         (None, 32)                0         \n",
            "_________________________________________________________________\n",
            "dense_73 (Dense)             (None, 5)                 165       \n",
            "=================================================================\n",
            "Total params: 131,909\n",
            "Trainable params: 131,909\n",
            "Non-trainable params: 0\n",
            "_________________________________________________________________\n",
            "\tИтерация: 1\n",
            "\tИтерация: 2\n",
            "\tИтерация: 3\n",
            "\tИтерация: 4\n",
            "\tИтерация: 5\n",
            "Ошибки на train. Средняя: 0.8162889361381531 список: [0.8164138197898865, 0.8162361979484558, 0.8162424564361572, 0.8162927031517029, 0.816259503364563]\n",
            "Ошибки на valid. Средняя: 0.816311776638031 список: [0.816311776638031, 0.816311776638031, 0.816311776638031, 0.816311776638031, 0.816311776638031]\n",
            "Дисперсия ошибки на valid: 0.0\n",
            "Доверительный интервал: 0.816311776638031 - 0.816311776638031\n",
            "\n",
            "\n",
            "Модель: слоёв 2, фильтров 128, нейронов 64, эпох 15\n",
            "\n",
            "Model: \"sequential_38\"\n",
            "_________________________________________________________________\n",
            "Layer (type)                 Output Shape              Param #   \n",
            "=================================================================\n",
            "conv1d_42 (Conv1D)           (None, 20, 128)           512       \n",
            "_________________________________________________________________\n",
            "dropout_70 (Dropout)         (None, 20, 128)           0         \n",
            "_________________________________________________________________\n",
            "conv1d_43 (Conv1D)           (None, 20, 128)           49280     \n",
            "_________________________________________________________________\n",
            "dropout_71 (Dropout)         (None, 20, 128)           0         \n",
            "_________________________________________________________________\n",
            "flatten_37 (Flatten)         (None, 2560)              0         \n",
            "_________________________________________________________________\n",
            "dense_74 (Dense)             (None, 64)                163904    \n",
            "_________________________________________________________________\n",
            "dropout_72 (Dropout)         (None, 64)                0         \n",
            "_________________________________________________________________\n",
            "dense_75 (Dense)             (None, 5)                 325       \n",
            "=================================================================\n",
            "Total params: 214,021\n",
            "Trainable params: 214,021\n",
            "Non-trainable params: 0\n",
            "_________________________________________________________________\n",
            "\tИтерация: 1\n",
            "\tИтерация: 2\n",
            "\tИтерация: 3\n",
            "\tИтерация: 4\n",
            "\tИтерация: 5\n",
            "Ошибки на train. Средняя: 0.8162619709968567 список: [0.8162685036659241, 0.8162628412246704, 0.816259503364563, 0.816259503364563, 0.816259503364563]\n",
            "Ошибки на valid. Средняя: 0.816311776638031 список: [0.816311776638031, 0.816311776638031, 0.816311776638031, 0.816311776638031, 0.816311776638031]\n",
            "Дисперсия ошибки на valid: 0.0\n",
            "Доверительный интервал: 0.816311776638031 - 0.816311776638031\n",
            "\n",
            "\n",
            "Модель: слоёв 2, фильтров 256, нейронов 32, эпох 15\n",
            "\n",
            "Model: \"sequential_39\"\n",
            "_________________________________________________________________\n",
            "Layer (type)                 Output Shape              Param #   \n",
            "=================================================================\n",
            "conv1d_44 (Conv1D)           (None, 20, 256)           1024      \n",
            "_________________________________________________________________\n",
            "dropout_73 (Dropout)         (None, 20, 256)           0         \n",
            "_________________________________________________________________\n",
            "conv1d_45 (Conv1D)           (None, 20, 256)           196864    \n",
            "_________________________________________________________________\n",
            "dropout_74 (Dropout)         (None, 20, 256)           0         \n",
            "_________________________________________________________________\n",
            "flatten_38 (Flatten)         (None, 5120)              0         \n",
            "_________________________________________________________________\n",
            "dense_76 (Dense)             (None, 32)                163872    \n",
            "_________________________________________________________________\n",
            "dropout_75 (Dropout)         (None, 32)                0         \n",
            "_________________________________________________________________\n",
            "dense_77 (Dense)             (None, 5)                 165       \n",
            "=================================================================\n",
            "Total params: 361,925\n",
            "Trainable params: 361,925\n",
            "Non-trainable params: 0\n",
            "_________________________________________________________________\n",
            "\tИтерация: 1\n",
            "\tИтерация: 2\n",
            "\tИтерация: 3\n",
            "\tИтерация: 4\n",
            "\tИтерация: 5\n",
            "Ошибки на train. Средняя: 0.8162190794944764 список: [0.8161607384681702, 0.8161803483963013, 0.8162382245063782, 0.8162499666213989, 0.8162661194801331]\n",
            "Ошибки на valid. Средняя: 0.816311776638031 список: [0.816311776638031, 0.816311776638031, 0.816311776638031, 0.816311776638031, 0.816311776638031]\n",
            "Дисперсия ошибки на valid: 0.0\n",
            "Доверительный интервал: 0.816311776638031 - 0.816311776638031\n",
            "\n",
            "\n",
            "Модель: слоёв 2, фильтров 256, нейронов 64, эпох 15\n",
            "\n",
            "Model: \"sequential_40\"\n",
            "_________________________________________________________________\n",
            "Layer (type)                 Output Shape              Param #   \n",
            "=================================================================\n",
            "conv1d_46 (Conv1D)           (None, 20, 256)           1024      \n",
            "_________________________________________________________________\n",
            "dropout_76 (Dropout)         (None, 20, 256)           0         \n",
            "_________________________________________________________________\n",
            "conv1d_47 (Conv1D)           (None, 20, 256)           196864    \n",
            "_________________________________________________________________\n",
            "dropout_77 (Dropout)         (None, 20, 256)           0         \n",
            "_________________________________________________________________\n",
            "flatten_39 (Flatten)         (None, 5120)              0         \n",
            "_________________________________________________________________\n",
            "dense_78 (Dense)             (None, 64)                327744    \n",
            "_________________________________________________________________\n",
            "dropout_78 (Dropout)         (None, 64)                0         \n",
            "_________________________________________________________________\n",
            "dense_79 (Dense)             (None, 5)                 325       \n",
            "=================================================================\n",
            "Total params: 525,957\n",
            "Trainable params: 525,957\n",
            "Non-trainable params: 0\n",
            "_________________________________________________________________\n",
            "\tИтерация: 1\n",
            "\tИтерация: 2\n",
            "\tИтерация: 3\n",
            "\tИтерация: 4\n",
            "\tИтерация: 5\n",
            "Ошибки на train. Средняя: 0.8162639617919922 список: [0.816281795501709, 0.816259503364563, 0.816259503364563, 0.816259503364563, 0.816259503364563]\n",
            "Ошибки на valid. Средняя: 0.816311776638031 список: [0.816311776638031, 0.816311776638031, 0.816311776638031, 0.816311776638031, 0.816311776638031]\n",
            "Дисперсия ошибки на valid: 0.0\n",
            "Доверительный интервал: 0.816311776638031 - 0.816311776638031\n",
            "\n",
            "\n"
          ],
          "name": "stdout"
        }
      ]
    },
    {
      "cell_type": "code",
      "metadata": {
        "id": "UCxz1tA7vdX5",
        "outputId": "a2b1f51d-2cb1-4754-cbb5-dc0999139caf",
        "colab": {
          "base_uri": "https://localhost:8080/",
          "height": 297
        }
      },
      "source": [
        "summary_data"
      ],
      "execution_count": 184,
      "outputs": [
        {
          "output_type": "execute_result",
          "data": {
            "text/html": [
              "<div>\n",
              "<style scoped>\n",
              "    .dataframe tbody tr th:only-of-type {\n",
              "        vertical-align: middle;\n",
              "    }\n",
              "\n",
              "    .dataframe tbody tr th {\n",
              "        vertical-align: top;\n",
              "    }\n",
              "\n",
              "    .dataframe thead th {\n",
              "        text-align: right;\n",
              "    }\n",
              "</style>\n",
              "<table border=\"1\" class=\"dataframe\">\n",
              "  <thead>\n",
              "    <tr style=\"text-align: right;\">\n",
              "      <th></th>\n",
              "      <th>layers</th>\n",
              "      <th>filters</th>\n",
              "      <th>neurons</th>\n",
              "      <th>mean_train_score</th>\n",
              "      <th>mean_val_score</th>\n",
              "      <th>variance</th>\n",
              "      <th>l_b</th>\n",
              "      <th>r_b</th>\n",
              "    </tr>\n",
              "  </thead>\n",
              "  <tbody>\n",
              "    <tr>\n",
              "      <th>0</th>\n",
              "      <td>1.0</td>\n",
              "      <td>128.0</td>\n",
              "      <td>32.0</td>\n",
              "      <td>0.816288</td>\n",
              "      <td>0.816312</td>\n",
              "      <td>0.0</td>\n",
              "      <td>0.816312</td>\n",
              "      <td>0.816312</td>\n",
              "    </tr>\n",
              "    <tr>\n",
              "      <th>1</th>\n",
              "      <td>1.0</td>\n",
              "      <td>128.0</td>\n",
              "      <td>64.0</td>\n",
              "      <td>0.816253</td>\n",
              "      <td>0.816312</td>\n",
              "      <td>0.0</td>\n",
              "      <td>0.816312</td>\n",
              "      <td>0.816312</td>\n",
              "    </tr>\n",
              "    <tr>\n",
              "      <th>2</th>\n",
              "      <td>1.0</td>\n",
              "      <td>256.0</td>\n",
              "      <td>32.0</td>\n",
              "      <td>0.816239</td>\n",
              "      <td>0.816312</td>\n",
              "      <td>0.0</td>\n",
              "      <td>0.816312</td>\n",
              "      <td>0.816312</td>\n",
              "    </tr>\n",
              "    <tr>\n",
              "      <th>3</th>\n",
              "      <td>1.0</td>\n",
              "      <td>256.0</td>\n",
              "      <td>64.0</td>\n",
              "      <td>0.816254</td>\n",
              "      <td>0.816312</td>\n",
              "      <td>0.0</td>\n",
              "      <td>0.816312</td>\n",
              "      <td>0.816312</td>\n",
              "    </tr>\n",
              "    <tr>\n",
              "      <th>4</th>\n",
              "      <td>2.0</td>\n",
              "      <td>128.0</td>\n",
              "      <td>32.0</td>\n",
              "      <td>0.816289</td>\n",
              "      <td>0.816312</td>\n",
              "      <td>0.0</td>\n",
              "      <td>0.816312</td>\n",
              "      <td>0.816312</td>\n",
              "    </tr>\n",
              "    <tr>\n",
              "      <th>5</th>\n",
              "      <td>2.0</td>\n",
              "      <td>128.0</td>\n",
              "      <td>64.0</td>\n",
              "      <td>0.816262</td>\n",
              "      <td>0.816312</td>\n",
              "      <td>0.0</td>\n",
              "      <td>0.816312</td>\n",
              "      <td>0.816312</td>\n",
              "    </tr>\n",
              "    <tr>\n",
              "      <th>6</th>\n",
              "      <td>2.0</td>\n",
              "      <td>256.0</td>\n",
              "      <td>32.0</td>\n",
              "      <td>0.816219</td>\n",
              "      <td>0.816312</td>\n",
              "      <td>0.0</td>\n",
              "      <td>0.816312</td>\n",
              "      <td>0.816312</td>\n",
              "    </tr>\n",
              "    <tr>\n",
              "      <th>7</th>\n",
              "      <td>2.0</td>\n",
              "      <td>256.0</td>\n",
              "      <td>64.0</td>\n",
              "      <td>0.816264</td>\n",
              "      <td>0.816312</td>\n",
              "      <td>0.0</td>\n",
              "      <td>0.816312</td>\n",
              "      <td>0.816312</td>\n",
              "    </tr>\n",
              "  </tbody>\n",
              "</table>\n",
              "</div>"
            ],
            "text/plain": [
              "   layers  filters  neurons  ...  variance       l_b       r_b\n",
              "0     1.0    128.0     32.0  ...       0.0  0.816312  0.816312\n",
              "1     1.0    128.0     64.0  ...       0.0  0.816312  0.816312\n",
              "2     1.0    256.0     32.0  ...       0.0  0.816312  0.816312\n",
              "3     1.0    256.0     64.0  ...       0.0  0.816312  0.816312\n",
              "4     2.0    128.0     32.0  ...       0.0  0.816312  0.816312\n",
              "5     2.0    128.0     64.0  ...       0.0  0.816312  0.816312\n",
              "6     2.0    256.0     32.0  ...       0.0  0.816312  0.816312\n",
              "7     2.0    256.0     64.0  ...       0.0  0.816312  0.816312\n",
              "\n",
              "[8 rows x 8 columns]"
            ]
          },
          "metadata": {
            "tags": []
          },
          "execution_count": 184
        }
      ]
    },
    {
      "cell_type": "code",
      "metadata": {
        "id": "i2JpAoljxw_q",
        "outputId": "b448ae0c-d304-41d6-df96-8a5d278d4b2c",
        "colab": {
          "base_uri": "https://localhost:8080/",
          "height": 297
        }
      },
      "source": [
        "summary_data.sort_values('mean_val_score', ascending=False)"
      ],
      "execution_count": 185,
      "outputs": [
        {
          "output_type": "execute_result",
          "data": {
            "text/html": [
              "<div>\n",
              "<style scoped>\n",
              "    .dataframe tbody tr th:only-of-type {\n",
              "        vertical-align: middle;\n",
              "    }\n",
              "\n",
              "    .dataframe tbody tr th {\n",
              "        vertical-align: top;\n",
              "    }\n",
              "\n",
              "    .dataframe thead th {\n",
              "        text-align: right;\n",
              "    }\n",
              "</style>\n",
              "<table border=\"1\" class=\"dataframe\">\n",
              "  <thead>\n",
              "    <tr style=\"text-align: right;\">\n",
              "      <th></th>\n",
              "      <th>layers</th>\n",
              "      <th>filters</th>\n",
              "      <th>neurons</th>\n",
              "      <th>mean_train_score</th>\n",
              "      <th>mean_val_score</th>\n",
              "      <th>variance</th>\n",
              "      <th>l_b</th>\n",
              "      <th>r_b</th>\n",
              "    </tr>\n",
              "  </thead>\n",
              "  <tbody>\n",
              "    <tr>\n",
              "      <th>0</th>\n",
              "      <td>1.0</td>\n",
              "      <td>128.0</td>\n",
              "      <td>32.0</td>\n",
              "      <td>0.816288</td>\n",
              "      <td>0.816312</td>\n",
              "      <td>0.0</td>\n",
              "      <td>0.816312</td>\n",
              "      <td>0.816312</td>\n",
              "    </tr>\n",
              "    <tr>\n",
              "      <th>1</th>\n",
              "      <td>1.0</td>\n",
              "      <td>128.0</td>\n",
              "      <td>64.0</td>\n",
              "      <td>0.816253</td>\n",
              "      <td>0.816312</td>\n",
              "      <td>0.0</td>\n",
              "      <td>0.816312</td>\n",
              "      <td>0.816312</td>\n",
              "    </tr>\n",
              "    <tr>\n",
              "      <th>2</th>\n",
              "      <td>1.0</td>\n",
              "      <td>256.0</td>\n",
              "      <td>32.0</td>\n",
              "      <td>0.816239</td>\n",
              "      <td>0.816312</td>\n",
              "      <td>0.0</td>\n",
              "      <td>0.816312</td>\n",
              "      <td>0.816312</td>\n",
              "    </tr>\n",
              "    <tr>\n",
              "      <th>3</th>\n",
              "      <td>1.0</td>\n",
              "      <td>256.0</td>\n",
              "      <td>64.0</td>\n",
              "      <td>0.816254</td>\n",
              "      <td>0.816312</td>\n",
              "      <td>0.0</td>\n",
              "      <td>0.816312</td>\n",
              "      <td>0.816312</td>\n",
              "    </tr>\n",
              "    <tr>\n",
              "      <th>4</th>\n",
              "      <td>2.0</td>\n",
              "      <td>128.0</td>\n",
              "      <td>32.0</td>\n",
              "      <td>0.816289</td>\n",
              "      <td>0.816312</td>\n",
              "      <td>0.0</td>\n",
              "      <td>0.816312</td>\n",
              "      <td>0.816312</td>\n",
              "    </tr>\n",
              "    <tr>\n",
              "      <th>5</th>\n",
              "      <td>2.0</td>\n",
              "      <td>128.0</td>\n",
              "      <td>64.0</td>\n",
              "      <td>0.816262</td>\n",
              "      <td>0.816312</td>\n",
              "      <td>0.0</td>\n",
              "      <td>0.816312</td>\n",
              "      <td>0.816312</td>\n",
              "    </tr>\n",
              "    <tr>\n",
              "      <th>6</th>\n",
              "      <td>2.0</td>\n",
              "      <td>256.0</td>\n",
              "      <td>32.0</td>\n",
              "      <td>0.816219</td>\n",
              "      <td>0.816312</td>\n",
              "      <td>0.0</td>\n",
              "      <td>0.816312</td>\n",
              "      <td>0.816312</td>\n",
              "    </tr>\n",
              "    <tr>\n",
              "      <th>7</th>\n",
              "      <td>2.0</td>\n",
              "      <td>256.0</td>\n",
              "      <td>64.0</td>\n",
              "      <td>0.816264</td>\n",
              "      <td>0.816312</td>\n",
              "      <td>0.0</td>\n",
              "      <td>0.816312</td>\n",
              "      <td>0.816312</td>\n",
              "    </tr>\n",
              "  </tbody>\n",
              "</table>\n",
              "</div>"
            ],
            "text/plain": [
              "   layers  filters  neurons  ...  variance       l_b       r_b\n",
              "0     1.0    128.0     32.0  ...       0.0  0.816312  0.816312\n",
              "1     1.0    128.0     64.0  ...       0.0  0.816312  0.816312\n",
              "2     1.0    256.0     32.0  ...       0.0  0.816312  0.816312\n",
              "3     1.0    256.0     64.0  ...       0.0  0.816312  0.816312\n",
              "4     2.0    128.0     32.0  ...       0.0  0.816312  0.816312\n",
              "5     2.0    128.0     64.0  ...       0.0  0.816312  0.816312\n",
              "6     2.0    256.0     32.0  ...       0.0  0.816312  0.816312\n",
              "7     2.0    256.0     64.0  ...       0.0  0.816312  0.816312\n",
              "\n",
              "[8 rows x 8 columns]"
            ]
          },
          "metadata": {
            "tags": []
          },
          "execution_count": 185
        }
      ]
    },
    {
      "cell_type": "code",
      "metadata": {
        "id": "Ir8asuHZxw6W"
      },
      "source": [
        "# конфигурирование слоев нейросети\n",
        "model = Sequential()\n",
        "\n",
        "# слои нейросети отвественные за свертку и max-pooling\n",
        "model.add(Conv1D(128, 3, padding='same', activation='sigmoid', input_shape=(tr_data.shape[1], 1))) # sigmoid'))relu\n",
        "# model.add(Conv1D(128, 3, activation='relu'))\n",
        "# model.add(MaxPooling1D(pool_size=2))\n",
        "# model.add(Dropout(0.25))\n",
        "# if lay_cnt == 2:\n",
        "#     model.add(Conv1D(128, 3, padding='same', activation='relu'))\n",
        "#     model.add(MaxPooling1D(pool_size=2))\n",
        "#     model.add(Dropout(0.25))\n",
        "\n",
        "# полносвязные слои нейронной сети\n",
        "model.add(Flatten())\n",
        "model.add(Dense(32, activation='sigmoid')) # 'relu'))\n",
        "# model.add(Dense(neurons, activation='relu'))))\n",
        "model.add(Dropout(0.5))\n",
        "model.add(Dense(5, activation='softmax')) # sigmoid'))\n",
        "\n",
        "# компиляция модели\n",
        "model.compile(optimizer=tf.keras.optimizers.Adam(1e-3),#\n",
        "              loss=tf.keras.losses.CategoricalCrossentropy(),\n",
        "              metrics=[tf.keras.metrics.AUC()])"
      ],
      "execution_count": 186,
      "outputs": []
    },
    {
      "cell_type": "code",
      "metadata": {
        "id": "XFfl4Z--M10P",
        "outputId": "cc90cd0f-6190-4451-e9f2-ae5b6fa8e9c3",
        "colab": {
          "base_uri": "https://localhost:8080/",
          "height": 323
        }
      },
      "source": [
        "model.summary()"
      ],
      "execution_count": 187,
      "outputs": [
        {
          "output_type": "stream",
          "text": [
            "Model: \"sequential_41\"\n",
            "_________________________________________________________________\n",
            "Layer (type)                 Output Shape              Param #   \n",
            "=================================================================\n",
            "conv1d_48 (Conv1D)           (None, 20, 128)           512       \n",
            "_________________________________________________________________\n",
            "flatten_40 (Flatten)         (None, 2560)              0         \n",
            "_________________________________________________________________\n",
            "dense_80 (Dense)             (None, 32)                81952     \n",
            "_________________________________________________________________\n",
            "dropout_79 (Dropout)         (None, 32)                0         \n",
            "_________________________________________________________________\n",
            "dense_81 (Dense)             (None, 5)                 165       \n",
            "=================================================================\n",
            "Total params: 82,629\n",
            "Trainable params: 82,629\n",
            "Non-trainable params: 0\n",
            "_________________________________________________________________\n"
          ],
          "name": "stdout"
        }
      ]
    },
    {
      "cell_type": "code",
      "metadata": {
        "id": "t0vJ_XcuM1tp"
      },
      "source": [
        "callback = tf.keras.callbacks.EarlyStopping(monitor='loss', patience=3)"
      ],
      "execution_count": 188,
      "outputs": []
    },
    {
      "cell_type": "code",
      "metadata": {
        "id": "tvvOxLSAM1m8",
        "outputId": "68260492-8bdb-4c07-96af-0cd276963998",
        "colab": {
          "base_uri": "https://localhost:8080/",
          "height": 1000
        }
      },
      "source": [
        "hist = model.fit(tr_data,\n",
        "                 train_y_o,\n",
        "                 batch_size=64,\n",
        "                 epochs=1000,\n",
        "                 validation_data=(vd_data, valid_y_o),\n",
        "                 callbacks=[callback], \n",
        "                 shuffle=True,\n",
        "                 verbose=1)"
      ],
      "execution_count": 189,
      "outputs": [
        {
          "output_type": "stream",
          "text": [
            "Epoch 1/1000\n",
            "243/243 [==============================] - 2s 8ms/step - loss: 0.9937 - auc_13: 0.8633 - val_loss: 0.8675 - val_auc_13: 0.9057\n",
            "Epoch 2/1000\n",
            "243/243 [==============================] - 2s 7ms/step - loss: 0.9083 - auc_13: 0.8894 - val_loss: 0.8377 - val_auc_13: 0.9115\n",
            "Epoch 3/1000\n",
            "243/243 [==============================] - 2s 7ms/step - loss: 0.8768 - auc_13: 0.8982 - val_loss: 0.8344 - val_auc_13: 0.9108\n",
            "Epoch 4/1000\n",
            "243/243 [==============================] - 2s 7ms/step - loss: 0.8739 - auc_13: 0.8990 - val_loss: 0.8192 - val_auc_13: 0.9133\n",
            "Epoch 5/1000\n",
            "243/243 [==============================] - 2s 7ms/step - loss: 0.8638 - auc_13: 0.9018 - val_loss: 0.8122 - val_auc_13: 0.9139\n",
            "Epoch 6/1000\n",
            "243/243 [==============================] - 2s 6ms/step - loss: 0.8565 - auc_13: 0.9037 - val_loss: 0.8067 - val_auc_13: 0.9146\n",
            "Epoch 7/1000\n",
            "243/243 [==============================] - 2s 6ms/step - loss: 0.8422 - auc_13: 0.9067 - val_loss: 0.8021 - val_auc_13: 0.9156\n",
            "Epoch 8/1000\n",
            "243/243 [==============================] - 2s 6ms/step - loss: 0.8345 - auc_13: 0.9087 - val_loss: 0.8023 - val_auc_13: 0.9155\n",
            "Epoch 9/1000\n",
            "243/243 [==============================] - 2s 6ms/step - loss: 0.8334 - auc_13: 0.9094 - val_loss: 0.7959 - val_auc_13: 0.9162\n",
            "Epoch 10/1000\n",
            "243/243 [==============================] - 2s 7ms/step - loss: 0.8270 - auc_13: 0.9101 - val_loss: 0.7933 - val_auc_13: 0.9164\n",
            "Epoch 11/1000\n",
            "243/243 [==============================] - 2s 7ms/step - loss: 0.8246 - auc_13: 0.9105 - val_loss: 0.7929 - val_auc_13: 0.9166\n",
            "Epoch 12/1000\n",
            "243/243 [==============================] - 2s 7ms/step - loss: 0.8212 - auc_13: 0.9111 - val_loss: 0.7962 - val_auc_13: 0.9162\n",
            "Epoch 13/1000\n",
            "243/243 [==============================] - 2s 7ms/step - loss: 0.8215 - auc_13: 0.9111 - val_loss: 0.7911 - val_auc_13: 0.9171\n",
            "Epoch 14/1000\n",
            "243/243 [==============================] - 2s 7ms/step - loss: 0.8202 - auc_13: 0.9117 - val_loss: 0.7906 - val_auc_13: 0.9170\n",
            "Epoch 15/1000\n",
            "243/243 [==============================] - 2s 6ms/step - loss: 0.8185 - auc_13: 0.9123 - val_loss: 0.7891 - val_auc_13: 0.9174\n",
            "Epoch 16/1000\n",
            "243/243 [==============================] - 1s 6ms/step - loss: 0.8137 - auc_13: 0.9130 - val_loss: 0.7968 - val_auc_13: 0.9167\n",
            "Epoch 17/1000\n",
            "243/243 [==============================] - 2s 6ms/step - loss: 0.8157 - auc_13: 0.9126 - val_loss: 0.7892 - val_auc_13: 0.9179\n",
            "Epoch 18/1000\n",
            "243/243 [==============================] - 2s 6ms/step - loss: 0.8150 - auc_13: 0.9125 - val_loss: 0.7944 - val_auc_13: 0.9172\n",
            "Epoch 19/1000\n",
            "243/243 [==============================] - 2s 6ms/step - loss: 0.8134 - auc_13: 0.9127 - val_loss: 0.7907 - val_auc_13: 0.9174\n",
            "Epoch 20/1000\n",
            "243/243 [==============================] - 2s 6ms/step - loss: 0.8098 - auc_13: 0.9140 - val_loss: 0.7904 - val_auc_13: 0.9174\n",
            "Epoch 21/1000\n",
            "243/243 [==============================] - 2s 6ms/step - loss: 0.8134 - auc_13: 0.9130 - val_loss: 0.7883 - val_auc_13: 0.9179\n",
            "Epoch 22/1000\n",
            "243/243 [==============================] - 2s 6ms/step - loss: 0.8108 - auc_13: 0.9133 - val_loss: 0.7905 - val_auc_13: 0.9177\n",
            "Epoch 23/1000\n",
            "243/243 [==============================] - 2s 7ms/step - loss: 0.8096 - auc_13: 0.9136 - val_loss: 0.7995 - val_auc_13: 0.9164\n",
            "Epoch 24/1000\n",
            "243/243 [==============================] - 2s 7ms/step - loss: 0.8133 - auc_13: 0.9134 - val_loss: 0.7926 - val_auc_13: 0.9173\n",
            "Epoch 25/1000\n",
            "243/243 [==============================] - 2s 7ms/step - loss: 0.8103 - auc_13: 0.9137 - val_loss: 0.7855 - val_auc_13: 0.9185\n",
            "Epoch 26/1000\n",
            "243/243 [==============================] - 2s 7ms/step - loss: 0.8082 - auc_13: 0.9136 - val_loss: 0.7896 - val_auc_13: 0.9178\n",
            "Epoch 27/1000\n",
            "243/243 [==============================] - 2s 7ms/step - loss: 0.8096 - auc_13: 0.9137 - val_loss: 0.7850 - val_auc_13: 0.9182\n",
            "Epoch 28/1000\n",
            "243/243 [==============================] - 2s 7ms/step - loss: 0.8090 - auc_13: 0.9138 - val_loss: 0.7897 - val_auc_13: 0.9176\n",
            "Epoch 29/1000\n",
            "243/243 [==============================] - 2s 7ms/step - loss: 0.8101 - auc_13: 0.9134 - val_loss: 0.7986 - val_auc_13: 0.9167\n"
          ],
          "name": "stdout"
        }
      ]
    },
    {
      "cell_type": "markdown",
      "metadata": {
        "id": "ANItfyA057s9"
      },
      "source": [
        "## Задание 2"
      ]
    },
    {
      "cell_type": "markdown",
      "metadata": {
        "id": "p01zL5MB6By0"
      },
      "source": [
        "2. Предобучаем word2vec и его эмбединга инициализируем сетку, как влияет на качество?"
      ]
    },
    {
      "cell_type": "code",
      "metadata": {
        "id": "T2PHP6vT5Ykm",
        "outputId": "54e9b4e7-a3f9-4c6b-b73d-4fbec7ca2aae",
        "colab": {
          "base_uri": "https://localhost:8080/",
          "height": 34
        }
      },
      "source": [
        ""
      ],
      "execution_count": 75,
      "outputs": [
        {
          "output_type": "execute_result",
          "data": {
            "text/plain": [
              "array([5, 4, 5, ..., 4, 1, 5])"
            ]
          },
          "metadata": {
            "tags": []
          },
          "execution_count": 75
        }
      ]
    },
    {
      "cell_type": "code",
      "metadata": {
        "id": "Fki1lgdimRyd"
      },
      "source": [
        ""
      ],
      "execution_count": null,
      "outputs": []
    }
  ]
}