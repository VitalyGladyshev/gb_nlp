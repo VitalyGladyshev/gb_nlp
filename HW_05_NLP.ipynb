{
  "nbformat": 4,
  "nbformat_minor": 0,
  "metadata": {
    "colab": {
      "name": "HW_05_NLP.ipynb",
      "provenance": [],
      "collapsed_sections": [],
      "authorship_tag": "ABX9TyO86WXKZtDTYxqDk9TLTZ6C",
      "include_colab_link": true
    },
    "kernelspec": {
      "name": "python3",
      "display_name": "Python 3"
    },
    "accelerator": "GPU"
  },
  "cells": [
    {
      "cell_type": "markdown",
      "metadata": {
        "id": "view-in-github",
        "colab_type": "text"
      },
      "source": [
        "<a href=\"https://colab.research.google.com/github/VitalyGladyshev/gb_nlp/blob/main/HW_05_NLP.ipynb\" target=\"_parent\"><img src=\"https://colab.research.google.com/assets/colab-badge.svg\" alt=\"Open In Colab\"/></a>"
      ]
    },
    {
      "cell_type": "markdown",
      "metadata": {
        "id": "Chtw3iPy5Y0i"
      },
      "source": [
        "# ДЗ 05 NLP"
      ]
    },
    {
      "cell_type": "markdown",
      "metadata": {
        "id": "Rtk-xhig51Yj"
      },
      "source": [
        "Берем отызывы за лето (из архива с материалами или предыдущего занятия)"
      ]
    },
    {
      "cell_type": "code",
      "metadata": {
        "id": "p0KJndXQ5PY8"
      },
      "source": [
        "import numpy as np\n",
        "import pandas as pd"
      ],
      "execution_count": 1,
      "outputs": []
    },
    {
      "cell_type": "code",
      "metadata": {
        "id": "71Ih13bHENOE",
        "outputId": "7187351a-962d-46e7-c555-a1b60f783f40",
        "colab": {
          "base_uri": "https://localhost:8080/",
          "height": 34
        }
      },
      "source": [
        "from google.colab import drive\n",
        "drive.mount('/content/gdrive')"
      ],
      "execution_count": 2,
      "outputs": [
        {
          "output_type": "stream",
          "text": [
            "Mounted at /content/gdrive\n"
          ],
          "name": "stdout"
        }
      ]
    },
    {
      "cell_type": "code",
      "metadata": {
        "id": "WSRSwudx44cu"
      },
      "source": [
        "path_otzv = \"/content/gdrive/My Drive/Colab Notebooks/NLP/отзывы за лето.xls\""
      ],
      "execution_count": 3,
      "outputs": []
    },
    {
      "cell_type": "code",
      "metadata": {
        "id": "i75xAg-LHlGx"
      },
      "source": [
        "data = pd.read_excel(path_otzv)"
      ],
      "execution_count": 4,
      "outputs": []
    },
    {
      "cell_type": "code",
      "metadata": {
        "id": "v-gnyAcqIS23",
        "outputId": "a851593e-3c1d-4abc-b4b9-9e66826875cd",
        "colab": {
          "base_uri": "https://localhost:8080/",
          "height": 142
        }
      },
      "source": [
        "data.tail(3)"
      ],
      "execution_count": 5,
      "outputs": [
        {
          "output_type": "execute_result",
          "data": {
            "text/html": [
              "<div>\n",
              "<style scoped>\n",
              "    .dataframe tbody tr th:only-of-type {\n",
              "        vertical-align: middle;\n",
              "    }\n",
              "\n",
              "    .dataframe tbody tr th {\n",
              "        vertical-align: top;\n",
              "    }\n",
              "\n",
              "    .dataframe thead th {\n",
              "        text-align: right;\n",
              "    }\n",
              "</style>\n",
              "<table border=\"1\" class=\"dataframe\">\n",
              "  <thead>\n",
              "    <tr style=\"text-align: right;\">\n",
              "      <th></th>\n",
              "      <th>Rating</th>\n",
              "      <th>Content</th>\n",
              "      <th>Date</th>\n",
              "    </tr>\n",
              "  </thead>\n",
              "  <tbody>\n",
              "    <tr>\n",
              "      <th>20656</th>\n",
              "      <td>4</td>\n",
              "      <td>Доволен</td>\n",
              "      <td>2017-06-01</td>\n",
              "    </tr>\n",
              "    <tr>\n",
              "      <th>20657</th>\n",
              "      <td>1</td>\n",
              "      <td>Песопаснасть, рут ни нужын</td>\n",
              "      <td>2017-06-01</td>\n",
              "    </tr>\n",
              "    <tr>\n",
              "      <th>20658</th>\n",
              "      <td>5</td>\n",
              "      <td>Сбербанк бомбовая компания на сегодняшний день...</td>\n",
              "      <td>2017-06-01</td>\n",
              "    </tr>\n",
              "  </tbody>\n",
              "</table>\n",
              "</div>"
            ],
            "text/plain": [
              "       Rating                                            Content        Date\n",
              "20656       4                                            Доволен  2017-06-01\n",
              "20657       1                         Песопаснасть, рут ни нужын  2017-06-01\n",
              "20658       5  Сбербанк бомбовая компания на сегодняшний день...  2017-06-01"
            ]
          },
          "metadata": {
            "tags": []
          },
          "execution_count": 5
        }
      ]
    },
    {
      "cell_type": "code",
      "metadata": {
        "id": "xb52zeZlMCVJ",
        "outputId": "bb9cdc3c-e871-4b1a-b4e9-53d5f95ae719",
        "colab": {
          "base_uri": "https://localhost:8080/",
          "height": 187
        }
      },
      "source": [
        "data.info()"
      ],
      "execution_count": 6,
      "outputs": [
        {
          "output_type": "stream",
          "text": [
            "<class 'pandas.core.frame.DataFrame'>\n",
            "RangeIndex: 20659 entries, 0 to 20658\n",
            "Data columns (total 3 columns):\n",
            " #   Column   Non-Null Count  Dtype \n",
            "---  ------   --------------  ----- \n",
            " 0   Rating   20659 non-null  int64 \n",
            " 1   Content  20656 non-null  object\n",
            " 2   Date     20659 non-null  object\n",
            "dtypes: int64(1), object(2)\n",
            "memory usage: 484.3+ KB\n"
          ],
          "name": "stdout"
        }
      ]
    },
    {
      "cell_type": "code",
      "metadata": {
        "id": "i788krmrMXOn"
      },
      "source": [
        "from datetime import datetime"
      ],
      "execution_count": 7,
      "outputs": []
    },
    {
      "cell_type": "code",
      "metadata": {
        "id": "Xj91F5bX53UX",
        "outputId": "29954ba0-a392-44b9-e8f0-29f456b8f2d6",
        "colab": {
          "base_uri": "https://localhost:8080/",
          "height": 34
        }
      },
      "source": [
        "type(data[\"Date\"].values[0])"
      ],
      "execution_count": 8,
      "outputs": [
        {
          "output_type": "execute_result",
          "data": {
            "text/plain": [
              "str"
            ]
          },
          "metadata": {
            "tags": []
          },
          "execution_count": 8
        }
      ]
    },
    {
      "cell_type": "code",
      "metadata": {
        "id": "CAvMFxzVMOUP",
        "outputId": "91196b1d-0f38-4e76-e269-6d08b8ccf002",
        "colab": {
          "base_uri": "https://localhost:8080/",
          "height": 34
        }
      },
      "source": [
        "datetime_object = datetime.strptime(data[\"Date\"].values[0], '%Y-%m-%d').date()\n",
        "datetime_object"
      ],
      "execution_count": 9,
      "outputs": [
        {
          "output_type": "execute_result",
          "data": {
            "text/plain": [
              "datetime.date(2017, 8, 14)"
            ]
          },
          "metadata": {
            "tags": []
          },
          "execution_count": 9
        }
      ]
    },
    {
      "cell_type": "code",
      "metadata": {
        "id": "OcAIYgDvPac3",
        "outputId": "7ae11dc5-79b0-471a-c45e-ff79f769dd53",
        "colab": {
          "base_uri": "https://localhost:8080/",
          "height": 204
        }
      },
      "source": [
        "data[\"Year\"] = [datetime.strptime(dt, '%Y-%m-%d').year for dt in data[\"Date\"].values]\n",
        "data[\"Month\"] = [datetime.strptime(dt, '%Y-%m-%d').month for dt in data[\"Date\"].values]\n",
        "data[\"Day\"] = [datetime.strptime(dt, '%Y-%m-%d').day for dt in data[\"Date\"].values]\n",
        "data.head()"
      ],
      "execution_count": 10,
      "outputs": [
        {
          "output_type": "execute_result",
          "data": {
            "text/html": [
              "<div>\n",
              "<style scoped>\n",
              "    .dataframe tbody tr th:only-of-type {\n",
              "        vertical-align: middle;\n",
              "    }\n",
              "\n",
              "    .dataframe tbody tr th {\n",
              "        vertical-align: top;\n",
              "    }\n",
              "\n",
              "    .dataframe thead th {\n",
              "        text-align: right;\n",
              "    }\n",
              "</style>\n",
              "<table border=\"1\" class=\"dataframe\">\n",
              "  <thead>\n",
              "    <tr style=\"text-align: right;\">\n",
              "      <th></th>\n",
              "      <th>Rating</th>\n",
              "      <th>Content</th>\n",
              "      <th>Date</th>\n",
              "      <th>Year</th>\n",
              "      <th>Month</th>\n",
              "      <th>Day</th>\n",
              "    </tr>\n",
              "  </thead>\n",
              "  <tbody>\n",
              "    <tr>\n",
              "      <th>0</th>\n",
              "      <td>5</td>\n",
              "      <td>It just works!</td>\n",
              "      <td>2017-08-14</td>\n",
              "      <td>2017</td>\n",
              "      <td>8</td>\n",
              "      <td>14</td>\n",
              "    </tr>\n",
              "    <tr>\n",
              "      <th>1</th>\n",
              "      <td>4</td>\n",
              "      <td>В целом удобноное приложение...из минусов хотя...</td>\n",
              "      <td>2017-08-14</td>\n",
              "      <td>2017</td>\n",
              "      <td>8</td>\n",
              "      <td>14</td>\n",
              "    </tr>\n",
              "    <tr>\n",
              "      <th>2</th>\n",
              "      <td>5</td>\n",
              "      <td>Отлично все</td>\n",
              "      <td>2017-08-14</td>\n",
              "      <td>2017</td>\n",
              "      <td>8</td>\n",
              "      <td>14</td>\n",
              "    </tr>\n",
              "    <tr>\n",
              "      <th>3</th>\n",
              "      <td>5</td>\n",
              "      <td>Стал зависать на 1% работы антивируса. Дальше ...</td>\n",
              "      <td>2017-08-14</td>\n",
              "      <td>2017</td>\n",
              "      <td>8</td>\n",
              "      <td>14</td>\n",
              "    </tr>\n",
              "    <tr>\n",
              "      <th>4</th>\n",
              "      <td>5</td>\n",
              "      <td>Очень удобно, работает быстро.</td>\n",
              "      <td>2017-08-14</td>\n",
              "      <td>2017</td>\n",
              "      <td>8</td>\n",
              "      <td>14</td>\n",
              "    </tr>\n",
              "  </tbody>\n",
              "</table>\n",
              "</div>"
            ],
            "text/plain": [
              "   Rating                                            Content  ... Month  Day\n",
              "0       5                                     It just works!  ...     8   14\n",
              "1       4  В целом удобноное приложение...из минусов хотя...  ...     8   14\n",
              "2       5                                        Отлично все  ...     8   14\n",
              "3       5  Стал зависать на 1% работы антивируса. Дальше ...  ...     8   14\n",
              "4       5                     Очень удобно, работает быстро.  ...     8   14\n",
              "\n",
              "[5 rows x 6 columns]"
            ]
          },
          "metadata": {
            "tags": []
          },
          "execution_count": 10
        }
      ]
    },
    {
      "cell_type": "markdown",
      "metadata": {
        "id": "_tBM-qnJ54Dd"
      },
      "source": [
        "## Задание 1"
      ]
    },
    {
      "cell_type": "markdown",
      "metadata": {
        "id": "FAsn6Ii159NO"
      },
      "source": [
        "1. Учим conv сеть для классификации - выбить auc выше 0.95"
      ]
    },
    {
      "cell_type": "code",
      "metadata": {
        "id": "-6jEymp-XwpD",
        "outputId": "8ba5a008-e8bc-4161-a200-8e86be9d5797",
        "colab": {
          "base_uri": "https://localhost:8080/",
          "height": 190
        }
      },
      "source": [
        "pip install stop_words"
      ],
      "execution_count": 11,
      "outputs": [
        {
          "output_type": "stream",
          "text": [
            "Collecting stop_words\n",
            "  Downloading https://files.pythonhosted.org/packages/1c/cb/d58290804b7a4c5daa42abbbe2a93c477ae53e45541b1825e86f0dfaaf63/stop-words-2018.7.23.tar.gz\n",
            "Building wheels for collected packages: stop-words\n",
            "  Building wheel for stop-words (setup.py) ... \u001b[?25l\u001b[?25hdone\n",
            "  Created wheel for stop-words: filename=stop_words-2018.7.23-cp36-none-any.whl size=32916 sha256=c244fb95595a9f7dacf03204e79a3468403b8b97384707d621c715ca75c9c8bc\n",
            "  Stored in directory: /root/.cache/pip/wheels/75/37/6a/2b295e03bd07290f0da95c3adb9a74ba95fbc333aa8b0c7c78\n",
            "Successfully built stop-words\n",
            "Installing collected packages: stop-words\n",
            "Successfully installed stop-words-2018.7.23\n"
          ],
          "name": "stdout"
        }
      ]
    },
    {
      "cell_type": "code",
      "metadata": {
        "id": "iwnxScYvX4cP",
        "outputId": "0bd0550a-7ecd-4b92-e02d-847945cbca34",
        "colab": {
          "base_uri": "https://localhost:8080/",
          "height": 224
        }
      },
      "source": [
        "pip install pymorphy2"
      ],
      "execution_count": 12,
      "outputs": [
        {
          "output_type": "stream",
          "text": [
            "Collecting pymorphy2\n",
            "\u001b[?25l  Downloading https://files.pythonhosted.org/packages/07/57/b2ff2fae3376d4f3c697b9886b64a54b476e1a332c67eee9f88e7f1ae8c9/pymorphy2-0.9.1-py3-none-any.whl (55kB)\n",
            "\r\u001b[K     |██████                          | 10kB 22.3MB/s eta 0:00:01\r\u001b[K     |███████████▉                    | 20kB 21.3MB/s eta 0:00:01\r\u001b[K     |█████████████████▊              | 30kB 16.5MB/s eta 0:00:01\r\u001b[K     |███████████████████████▋        | 40kB 10.9MB/s eta 0:00:01\r\u001b[K     |█████████████████████████████▌  | 51kB 8.9MB/s eta 0:00:01\r\u001b[K     |████████████████████████████████| 61kB 5.5MB/s \n",
            "\u001b[?25hCollecting dawg-python>=0.7.1\n",
            "  Downloading https://files.pythonhosted.org/packages/6a/84/ff1ce2071d4c650ec85745766c0047ccc3b5036f1d03559fd46bb38b5eeb/DAWG_Python-0.7.2-py2.py3-none-any.whl\n",
            "Collecting pymorphy2-dicts-ru<3.0,>=2.4\n",
            "\u001b[?25l  Downloading https://files.pythonhosted.org/packages/3a/79/bea0021eeb7eeefde22ef9e96badf174068a2dd20264b9a378f2be1cdd9e/pymorphy2_dicts_ru-2.4.417127.4579844-py2.py3-none-any.whl (8.2MB)\n",
            "\u001b[K     |████████████████████████████████| 8.2MB 10.8MB/s \n",
            "\u001b[?25hRequirement already satisfied: docopt>=0.6 in /usr/local/lib/python3.6/dist-packages (from pymorphy2) (0.6.2)\n",
            "Installing collected packages: dawg-python, pymorphy2-dicts-ru, pymorphy2\n",
            "Successfully installed dawg-python-0.7.2 pymorphy2-0.9.1 pymorphy2-dicts-ru-2.4.417127.4579844\n"
          ],
          "name": "stdout"
        }
      ]
    },
    {
      "cell_type": "code",
      "metadata": {
        "id": "ucNaivR2QROz"
      },
      "source": [
        "from string import punctuation\n",
        "from stop_words import get_stop_words\n",
        "from pymorphy2 import MorphAnalyzer\n",
        "import re"
      ],
      "execution_count": 82,
      "outputs": []
    },
    {
      "cell_type": "code",
      "metadata": {
        "id": "SXMHO2b2X-qz"
      },
      "source": [
        "sw = set(get_stop_words(\"ru\"))\n",
        "exclude = set(punctuation)\n",
        "morpher = MorphAnalyzer()\n",
        "\n",
        "def preprocess_text(txt):\n",
        "    txt = str(txt)\n",
        "    txt = \"\".join(c for c in txt if c not in exclude)\n",
        "    txt = txt.lower()\n",
        "    txt = re.sub(\"\\sне\", \"не\", txt)\n",
        "    txt = [morpher.parse(word)[0].normal_form for word in txt.split() if word not in sw]\n",
        "    return \" \".join(txt)"
      ],
      "execution_count": 83,
      "outputs": []
    },
    {
      "cell_type": "code",
      "metadata": {
        "id": "SOkyYuOmF7ev"
      },
      "source": [
        "# for word in words:\n",
        "#     print(word, [p.normal_form for p in morph.parse(word)])"
      ],
      "execution_count": 84,
      "outputs": []
    },
    {
      "cell_type": "code",
      "metadata": {
        "id": "AmQeECLAIUGT"
      },
      "source": [
        "# sw = set(get_stop_words(\"ru\"))\n",
        "# exclude = set(punctuation)\n",
        "# morpher = MorphAnalyzer()\n",
        "\n",
        "# def preprocess_text(txt):\n",
        "#     txt = str(txt)\n",
        "#     txt = \"\".join(c for c in txt if c not in exclude)\n",
        "#     txt = txt.lower()\n",
        "#     txt = re.sub(\"\\sне\", \"не\", txt)\n",
        "#     txt = [str(wd.normal_form) for word in txt.split() for wd in morpher.parse(word) if word not in sw]   # txt = [morpher.parse(word)[0].normal_form for word in txt.split() if word not in sw]\n",
        "#     return \" \".join(txt)"
      ],
      "execution_count": 85,
      "outputs": []
    },
    {
      "cell_type": "code",
      "metadata": {
        "id": "qqWBsdsxX-nm",
        "outputId": "bde8544a-58f8-4255-d7fc-9ee2788a5dd7",
        "colab": {
          "base_uri": "https://localhost:8080/",
          "height": 204
        }
      },
      "source": [
        "data['Content_prep'] = data['Content'].apply(preprocess_text)\n",
        "data.tail()"
      ],
      "execution_count": 86,
      "outputs": [
        {
          "output_type": "execute_result",
          "data": {
            "text/html": [
              "<div>\n",
              "<style scoped>\n",
              "    .dataframe tbody tr th:only-of-type {\n",
              "        vertical-align: middle;\n",
              "    }\n",
              "\n",
              "    .dataframe tbody tr th {\n",
              "        vertical-align: top;\n",
              "    }\n",
              "\n",
              "    .dataframe thead th {\n",
              "        text-align: right;\n",
              "    }\n",
              "</style>\n",
              "<table border=\"1\" class=\"dataframe\">\n",
              "  <thead>\n",
              "    <tr style=\"text-align: right;\">\n",
              "      <th></th>\n",
              "      <th>Rating</th>\n",
              "      <th>Content</th>\n",
              "      <th>Date</th>\n",
              "      <th>Year</th>\n",
              "      <th>Month</th>\n",
              "      <th>Day</th>\n",
              "      <th>Content_prep</th>\n",
              "    </tr>\n",
              "  </thead>\n",
              "  <tbody>\n",
              "    <tr>\n",
              "      <th>20654</th>\n",
              "      <td>1</td>\n",
              "      <td>Ну и шляпа,с роот правами бесполезная прога,ра...</td>\n",
              "      <td>2017-06-01</td>\n",
              "      <td>2017</td>\n",
              "      <td>6</td>\n",
              "      <td>1</td>\n",
              "      <td>шляпас роот право бесполезный прогаразрабыв ох...</td>\n",
              "    </tr>\n",
              "    <tr>\n",
              "      <th>20655</th>\n",
              "      <td>5</td>\n",
              "      <td>Ок</td>\n",
              "      <td>2017-06-01</td>\n",
              "      <td>2017</td>\n",
              "      <td>6</td>\n",
              "      <td>1</td>\n",
              "      <td>около</td>\n",
              "    </tr>\n",
              "    <tr>\n",
              "      <th>20656</th>\n",
              "      <td>4</td>\n",
              "      <td>Доволен</td>\n",
              "      <td>2017-06-01</td>\n",
              "      <td>2017</td>\n",
              "      <td>6</td>\n",
              "      <td>1</td>\n",
              "      <td>довольный</td>\n",
              "    </tr>\n",
              "    <tr>\n",
              "      <th>20657</th>\n",
              "      <td>1</td>\n",
              "      <td>Песопаснасть, рут ни нужын</td>\n",
              "      <td>2017-06-01</td>\n",
              "      <td>2017</td>\n",
              "      <td>6</td>\n",
              "      <td>1</td>\n",
              "      <td>песопаснастя рута нужын</td>\n",
              "    </tr>\n",
              "    <tr>\n",
              "      <th>20658</th>\n",
              "      <td>5</td>\n",
              "      <td>Сбербанк бомбовая компания на сегодняшний день...</td>\n",
              "      <td>2017-06-01</td>\n",
              "      <td>2017</td>\n",
              "      <td>6</td>\n",
              "      <td>1</td>\n",
              "      <td>сбербанк бомбовый компания сегодняшний лидер б...</td>\n",
              "    </tr>\n",
              "  </tbody>\n",
              "</table>\n",
              "</div>"
            ],
            "text/plain": [
              "       Rating  ...                                       Content_prep\n",
              "20654       1  ...  шляпас роот право бесполезный прогаразрабыв ох...\n",
              "20655       5  ...                                              около\n",
              "20656       4  ...                                          довольный\n",
              "20657       1  ...                            песопаснастя рута нужын\n",
              "20658       5  ...  сбербанк бомбовый компания сегодняшний лидер б...\n",
              "\n",
              "[5 rows x 7 columns]"
            ]
          },
          "metadata": {
            "tags": []
          },
          "execution_count": 86
        }
      ]
    },
    {
      "cell_type": "code",
      "metadata": {
        "id": "AF9opAXgY93U"
      },
      "source": [
        "train_corpus = \" \".join(data['Content_prep'])"
      ],
      "execution_count": 87,
      "outputs": []
    },
    {
      "cell_type": "code",
      "metadata": {
        "id": "EsgKYXo3Y9xe",
        "outputId": "ec3cbc1f-a4e4-41ea-e99c-a0771bc977d7",
        "colab": {
          "base_uri": "https://localhost:8080/",
          "height": 51
        }
      },
      "source": [
        "import nltk\n",
        "from nltk.tokenize import word_tokenize\n",
        "nltk.download(\"punkt\")\n",
        "\n",
        "tokens_tot = word_tokenize(train_corpus)"
      ],
      "execution_count": 88,
      "outputs": [
        {
          "output_type": "stream",
          "text": [
            "[nltk_data] Downloading package punkt to /root/nltk_data...\n",
            "[nltk_data]   Package punkt is already up-to-date!\n"
          ],
          "name": "stdout"
        }
      ]
    },
    {
      "cell_type": "code",
      "metadata": {
        "id": "1DcP0rjBgCK2"
      },
      "source": [
        "tokens_filtered = [word for word in tokens_tot if word.isalnum()]"
      ],
      "execution_count": 89,
      "outputs": []
    },
    {
      "cell_type": "code",
      "metadata": {
        "id": "0LYrDLmvgCGE"
      },
      "source": [
        "from nltk.probability import FreqDist\n",
        "dist = FreqDist(tokens_filtered)"
      ],
      "execution_count": 90,
      "outputs": []
    },
    {
      "cell_type": "code",
      "metadata": {
        "id": "Gblzo8jkiZXQ"
      },
      "source": [
        "vocabulary = {v: i+100  for i, v in enumerate(dist) if dist[v]>1}"
      ],
      "execution_count": 91,
      "outputs": []
    },
    {
      "cell_type": "code",
      "metadata": {
        "id": "OFCqAoTMdVlT"
      },
      "source": [
        "def text_to_sequence(text, maxlen):\n",
        "    result = []\n",
        "    tokens = word_tokenize(text.lower())\n",
        "    tokens_filtered = [word for word in tokens if word.isalnum()]\n",
        "    for word in tokens_filtered:\n",
        "        if word in vocabulary:\n",
        "            result.append(vocabulary[word])\n",
        "    padding = [0]*(maxlen-len(result))\n",
        "    return padding + result[-maxlen:]"
      ],
      "execution_count": 92,
      "outputs": []
    },
    {
      "cell_type": "code",
      "metadata": {
        "id": "9DaaodfXeJhm",
        "outputId": "76ff33f4-99cf-4636-cba2-14290210225f",
        "colab": {
          "base_uri": "https://localhost:8080/",
          "height": 136
        }
      },
      "source": [
        "data_embeded = np.asarray([text_to_sequence(text, 8) for text in data['Content_prep']], dtype=np.int32)\n",
        "data_embeded = np.hstack((data_embeded, (data['Month'].values+50).reshape(data['Month'].values.shape[0], 1)))\n",
        "data_embeded = np.hstack((data_embeded, (data['Day'].values).reshape(data['Day'].values.shape[0], 1)))\n",
        "data_embeded"
      ],
      "execution_count": 93,
      "outputs": [
        {
          "output_type": "execute_result",
          "data": {
            "text/plain": [
              "array([[   0,    0,    0, ...,  102,   58,   14],\n",
              "       [ 107,  108,  109, ...,  115,   58,   14],\n",
              "       [   0,    0,    0, ...,  116,   58,   14],\n",
              "       ...,\n",
              "       [   0,    0,    0, ...,  274,   56,    1],\n",
              "       [   0,    0,    0, ...,  525,   56,    1],\n",
              "       [   0,  182, 9232, ..., 3814,   56,    1]])"
            ]
          },
          "metadata": {
            "tags": []
          },
          "execution_count": 93
        }
      ]
    },
    {
      "cell_type": "code",
      "metadata": {
        "id": "1Kjn1vud70hx",
        "outputId": "7f6a0bf3-c191-4367-94b0-3bb42601dc98",
        "colab": {
          "base_uri": "https://localhost:8080/",
          "height": 34
        }
      },
      "source": [
        "np.max(data_embeded)"
      ],
      "execution_count": 94,
      "outputs": [
        {
          "output_type": "execute_result",
          "data": {
            "text/plain": [
              "12924"
            ]
          },
          "metadata": {
            "tags": []
          },
          "execution_count": 94
        }
      ]
    },
    {
      "cell_type": "code",
      "metadata": {
        "id": "0M4VPKNp9rF4"
      },
      "source": [
        "# data_embeded = data_embeded / np.max(data_embeded)\n",
        "# data_embeded"
      ],
      "execution_count": 95,
      "outputs": []
    },
    {
      "cell_type": "code",
      "metadata": {
        "id": "dqe2pxFv8B8_",
        "outputId": "f17f2d3c-f09e-4764-8a1e-8bf423d65383",
        "colab": {
          "base_uri": "https://localhost:8080/",
          "height": 34
        }
      },
      "source": [
        "data_embeded[-1]"
      ],
      "execution_count": 96,
      "outputs": [
        {
          "output_type": "execute_result",
          "data": {
            "text/plain": [
              "array([   0,  182, 9232, 4543, 4368, 6421,  427, 3814,   56,    1])"
            ]
          },
          "metadata": {
            "tags": []
          },
          "execution_count": 96
        }
      ]
    },
    {
      "cell_type": "code",
      "metadata": {
        "id": "7Ed-fPi8eLMn"
      },
      "source": [
        "from sklearn.model_selection import train_test_split"
      ],
      "execution_count": 97,
      "outputs": []
    },
    {
      "cell_type": "code",
      "metadata": {
        "id": "yR7aPjDJeLIE"
      },
      "source": [
        "y = data['Rating'].values\n",
        "train_x, valid_x, train_y, valid_y = train_test_split(data_embeded, y, stratify=y, random_state=43)"
      ],
      "execution_count": 98,
      "outputs": []
    },
    {
      "cell_type": "code",
      "metadata": {
        "id": "KiiigcGDmcEK",
        "outputId": "767b3946-e4b1-4e1a-d6ed-ad81637075ee",
        "colab": {
          "base_uri": "https://localhost:8080/",
          "height": 34
        }
      },
      "source": [
        "train_x.shape"
      ],
      "execution_count": 99,
      "outputs": [
        {
          "output_type": "execute_result",
          "data": {
            "text/plain": [
              "(15494, 10)"
            ]
          },
          "metadata": {
            "tags": []
          },
          "execution_count": 99
        }
      ]
    },
    {
      "cell_type": "code",
      "metadata": {
        "id": "FFdyA9_SoJED",
        "outputId": "c16fba27-9885-4d40-f15e-a4c9d9f92b16",
        "colab": {
          "base_uri": "https://localhost:8080/",
          "height": 34
        }
      },
      "source": [
        "tr_data = train_x.reshape(train_x.shape[0], train_x.shape[1], 1)\n",
        "vd_data = valid_x.reshape(valid_x.shape[0], valid_x.shape[1], 1)\n",
        "tr_data.shape"
      ],
      "execution_count": 100,
      "outputs": [
        {
          "output_type": "execute_result",
          "data": {
            "text/plain": [
              "(15494, 10, 1)"
            ]
          },
          "metadata": {
            "tags": []
          },
          "execution_count": 100
        }
      ]
    },
    {
      "cell_type": "code",
      "metadata": {
        "id": "cFSQKdGU2qtY"
      },
      "source": [
        "def to_one_hot(Y):\n",
        "    n_col = np.amax(Y)\n",
        "    binarized = np.zeros((len(Y), n_col))\n",
        "    for i in range(len(Y)):\n",
        "        binarized[i, Y[i]-1] = 1.\n",
        "    return binarized"
      ],
      "execution_count": 101,
      "outputs": []
    },
    {
      "cell_type": "code",
      "metadata": {
        "id": "DddjmKW_2sUO",
        "outputId": "a62354c1-c18b-4a80-f6e9-29db8505ace0",
        "colab": {
          "base_uri": "https://localhost:8080/",
          "height": 136
        }
      },
      "source": [
        "train_y_o = to_one_hot(train_y)\n",
        "valid_y_o = to_one_hot(valid_y)\n",
        "train_y_o"
      ],
      "execution_count": 102,
      "outputs": [
        {
          "output_type": "execute_result",
          "data": {
            "text/plain": [
              "array([[0., 0., 0., 0., 1.],\n",
              "       [0., 0., 0., 0., 1.],\n",
              "       [0., 1., 0., 0., 0.],\n",
              "       ...,\n",
              "       [0., 0., 0., 0., 1.],\n",
              "       [0., 0., 0., 0., 1.],\n",
              "       [0., 0., 0., 0., 1.]])"
            ]
          },
          "metadata": {
            "tags": []
          },
          "execution_count": 102
        }
      ]
    },
    {
      "cell_type": "markdown",
      "metadata": {
        "id": "k4C39BdvoVFF"
      },
      "source": [
        "### Строим свёрточную нейронную сеть"
      ]
    },
    {
      "cell_type": "code",
      "metadata": {
        "id": "L68oapM_xV-i"
      },
      "source": [
        "import tensorflow as tf\n",
        "\n",
        "# !pip install -q tensorflow-hub\n",
        "# !pip install -q tensorflow-datasets\n",
        "import tensorflow_hub as hub\n",
        "# import tensorflow_datasets as tfds\n",
        "\n",
        "import keras\n",
        "\n",
        "from keras.models import Sequential\n",
        "from keras.layers import Dense, Conv1D, MaxPooling1D, Dropout, Flatten\n",
        "from keras.utils import to_categorical\n",
        "\n",
        "from typing import List, Optional, Dict, Tuple"
      ],
      "execution_count": 103,
      "outputs": []
    },
    {
      "cell_type": "code",
      "metadata": {
        "id": "mEs0ivmTyvo8"
      },
      "source": [
        "def calculate_confidence_interval(scores: list, conf_interval: float = 0.95) -> Tuple[float]:\n",
        "    \"\"\"\n",
        "    Вычисление доверительного интервала.\n",
        "\n",
        "    Parameters\n",
        "    ----------\n",
        "    scores: List[float / int]\n",
        "        Список с оценками изучаемой величины.\n",
        "\n",
        "    conf_interval: float, optional, default = 0.95\n",
        "        Уровень доверия для построения интервала.\n",
        "        Опциональный параметр, по умолчанию, равен 0.95.\n",
        "\n",
        "    Returns\n",
        "    -------\n",
        "    conf_interval: Tuple[float]\n",
        "        Кортеж с границами доверительного интервала.\n",
        "\n",
        "    \"\"\"\n",
        "    left_bound = np.percentile(\n",
        "        scores, ((1 - conf_interval) / 2) * 100\n",
        "    )\n",
        "    right_bound = np.percentile(\n",
        "        scores, (conf_interval + ((1 - conf_interval) / 2)) * 100\n",
        "    )\n",
        "\n",
        "    return left_bound, right_bound"
      ],
      "execution_count": 104,
      "outputs": []
    },
    {
      "cell_type": "code",
      "metadata": {
        "id": "D0n-eUeMofKT"
      },
      "source": [
        "def net_gen(lay_cnt=1, filters=32, neurons=32):\n",
        "    # конфигурирование слоев нейросети\n",
        "    model = Sequential()\n",
        "\n",
        "    # слои нейросети отвественные за свертку и max-pooling\n",
        "    model.add(Conv1D(filters, 3, padding='same', activation='sigmoid', input_shape=(tr_data.shape[1], 1)))   # relu\n",
        "    # model.add(Conv1D(filters, 3, activation='relu'))\n",
        "    # model.add(MaxPooling1D(pool_size=2))\n",
        "    model.add(Dropout(0.25))\n",
        "    if lay_cnt == 2:\n",
        "        model.add(Conv1D(filters, 3, padding='same', activation='sigmoid')) # relu\n",
        "        # model.add(MaxPooling1D(pool_size=2))\n",
        "        model.add(Dropout(0.25))\n",
        "\n",
        "    # полносвязные слои нейронной сети\n",
        "    model.add(Flatten())\n",
        "    model.add(Dense(neurons, activation='sigmoid'))   # relu\n",
        "    # model.add(Dense(neurons, activation='relu'))))\n",
        "    model.add(Dropout(0.5))\n",
        "    model.add(Dense(5, activation='softmax')) # sigmoid'))\n",
        "\n",
        "    # компиляция модели\n",
        "    model.compile(optimizer=tf.keras.optimizers.Adam(1e-3),#\n",
        "                loss=tf.keras.losses.CategoricalCrossentropy(from_logits=True),\n",
        "                metrics=[tf.keras.metrics.AUC()])\n",
        "\n",
        "    return model"
      ],
      "execution_count": 105,
      "outputs": []
    },
    {
      "cell_type": "code",
      "metadata": {
        "id": "lCGgz4nqofFh"
      },
      "source": [
        "def net_iter(model, ep=10, batch_size=256):\n",
        "    history = model.fit(tr_data,\n",
        "                        train_y_o,\n",
        "                        batch_size=batch_size,\n",
        "                        epochs=ep,\n",
        "                        validation_data=(vd_data, valid_y_o),\n",
        "                        shuffle=True,\n",
        "                        verbose=0)    \n",
        "    return history.history"
      ],
      "execution_count": 106,
      "outputs": []
    },
    {
      "cell_type": "code",
      "metadata": {
        "id": "HA4CPlLqvdd7",
        "outputId": "233b676c-2689-4128-be5e-726ed4e05866",
        "colab": {
          "base_uri": "https://localhost:8080/",
          "height": 1000
        }
      },
      "source": [
        "summary_data = pd.DataFrame(data=[[0, 0, 0, 0, 0, 0, 0, 0]], \n",
        "                            columns=['layers', 'filters', 'neurons', 'mean_train_score', 'mean_val_score', 'variance', 'l_b', 'r_b'])\n",
        "cnt = 0\n",
        "f_n = [128, 256]\n",
        "l_c = [1, 2]\n",
        "nr = [32, 64]\n",
        "epochs = 15\n",
        "\n",
        "# net_res = []\n",
        "\n",
        "for l_c_i in l_c:\n",
        "    for f_n_i in f_n:\n",
        "        for nr_i in nr:\n",
        "            err_score = []\n",
        "            err_val_score = []\n",
        "            print(f\"Модель: слоёв {l_c_i}, фильтров {f_n_i}, нейронов {nr_i}, эпох {epochs}\\n\")\n",
        "            model = net_gen(filters=f_n_i, lay_cnt=l_c_i, neurons=nr_i)\n",
        "            model.summary()\n",
        "            for i in range(5):\n",
        "                print(f\"\\tИтерация: {i+1}\")\n",
        "                hist = net_iter(model, ep=epochs)\n",
        "                # net_res.append(hist)\n",
        "                err_score.append(hist[list(hist.keys())[1]][-1])\n",
        "                err_val_score.append(hist[list(hist.keys())[3]][-1])\n",
        "\n",
        "            vr = np.var(err_val_score)\n",
        "            l_b, r_b = calculate_confidence_interval(err_val_score)\n",
        "            mean_err_score, mean_err_val_score = np.mean(err_score), np.mean(err_val_score)\n",
        "            print(f\"Ошибки на train. Средняя: {mean_err_score} список: {err_score}\")\n",
        "            print(f\"Ошибки на valid. Средняя: {mean_err_val_score} список: {err_val_score}\")\n",
        "            print(f\"Дисперсия ошибки на valid: {vr}\")\n",
        "            print(f\"Доверительный интервал: {l_b} - {r_b}\\n\\n\")\n",
        "            summary_data.loc[cnt, ['layers', 'filters', 'neurons', 'mean_train_score', \n",
        "                                    'mean_val_score', 'variance', 'l_b', 'r_b']] = [l_c_i, f_n_i, \n",
        "                                    nr_i, np.mean(err_score), np.mean(err_val_score), vr, l_b, r_b]\n",
        "            cnt += 1"
      ],
      "execution_count": 107,
      "outputs": [
        {
          "output_type": "stream",
          "text": [
            "Модель: слоёв 1, фильтров 128, нейронов 32, эпох 15\n",
            "\n",
            "Model: \"sequential_9\"\n",
            "_________________________________________________________________\n",
            "Layer (type)                 Output Shape              Param #   \n",
            "=================================================================\n",
            "conv1d_18 (Conv1D)           (None, 10, 128)           512       \n",
            "_________________________________________________________________\n",
            "dropout_13 (Dropout)         (None, 10, 128)           0         \n",
            "_________________________________________________________________\n",
            "flatten_9 (Flatten)          (None, 1280)              0         \n",
            "_________________________________________________________________\n",
            "dense_18 (Dense)             (None, 32)                40992     \n",
            "_________________________________________________________________\n",
            "dropout_14 (Dropout)         (None, 32)                0         \n",
            "_________________________________________________________________\n",
            "dense_19 (Dense)             (None, 5)                 165       \n",
            "=================================================================\n",
            "Total params: 41,669\n",
            "Trainable params: 41,669\n",
            "Non-trainable params: 0\n",
            "_________________________________________________________________\n",
            "\tИтерация: 1\n",
            "\tИтерация: 2\n",
            "\tИтерация: 3\n",
            "\tИтерация: 4\n",
            "\tИтерация: 5\n",
            "Ошибки на train. Средняя: 0.815992558002472 список: [0.815739631652832, 0.8157225847244263, 0.8158947229385376, 0.8163883090019226, 0.8162175416946411]\n",
            "Ошибки на valid. Средняя: 0.816311776638031 список: [0.816311776638031, 0.816311776638031, 0.816311776638031, 0.816311776638031, 0.816311776638031]\n",
            "Дисперсия ошибки на valid: 0.0\n",
            "Доверительный интервал: 0.816311776638031 - 0.816311776638031\n",
            "\n",
            "\n",
            "Модель: слоёв 1, фильтров 128, нейронов 64, эпох 15\n",
            "\n",
            "Model: \"sequential_10\"\n",
            "_________________________________________________________________\n",
            "Layer (type)                 Output Shape              Param #   \n",
            "=================================================================\n",
            "conv1d_19 (Conv1D)           (None, 10, 128)           512       \n",
            "_________________________________________________________________\n",
            "dropout_15 (Dropout)         (None, 10, 128)           0         \n",
            "_________________________________________________________________\n",
            "flatten_10 (Flatten)         (None, 1280)              0         \n",
            "_________________________________________________________________\n",
            "dense_20 (Dense)             (None, 64)                81984     \n",
            "_________________________________________________________________\n",
            "dropout_16 (Dropout)         (None, 64)                0         \n",
            "_________________________________________________________________\n",
            "dense_21 (Dense)             (None, 5)                 325       \n",
            "=================================================================\n",
            "Total params: 82,821\n",
            "Trainable params: 82,821\n",
            "Non-trainable params: 0\n",
            "_________________________________________________________________\n",
            "\tИтерация: 1\n",
            "\tИтерация: 2\n",
            "\tИтерация: 3\n",
            "\tИтерация: 4\n",
            "\tИтерация: 5\n",
            "Ошибки на train. Средняя: 0.8163037657737732 список: [0.8164900541305542, 0.8162145018577576, 0.8162900805473328, 0.8162476420402527, 0.8162765502929688]\n",
            "Ошибки на valid. Средняя: 0.816311776638031 список: [0.816311776638031, 0.816311776638031, 0.816311776638031, 0.816311776638031, 0.816311776638031]\n",
            "Дисперсия ошибки на valid: 0.0\n",
            "Доверительный интервал: 0.816311776638031 - 0.816311776638031\n",
            "\n",
            "\n",
            "Модель: слоёв 1, фильтров 256, нейронов 32, эпох 15\n",
            "\n",
            "Model: \"sequential_11\"\n",
            "_________________________________________________________________\n",
            "Layer (type)                 Output Shape              Param #   \n",
            "=================================================================\n",
            "conv1d_20 (Conv1D)           (None, 10, 256)           1024      \n",
            "_________________________________________________________________\n",
            "dropout_17 (Dropout)         (None, 10, 256)           0         \n",
            "_________________________________________________________________\n",
            "flatten_11 (Flatten)         (None, 2560)              0         \n",
            "_________________________________________________________________\n",
            "dense_22 (Dense)             (None, 32)                81952     \n",
            "_________________________________________________________________\n",
            "dropout_18 (Dropout)         (None, 32)                0         \n",
            "_________________________________________________________________\n",
            "dense_23 (Dense)             (None, 5)                 165       \n",
            "=================================================================\n",
            "Total params: 83,141\n",
            "Trainable params: 83,141\n",
            "Non-trainable params: 0\n",
            "_________________________________________________________________\n",
            "\tИтерация: 1\n",
            "\tИтерация: 2\n",
            "\tИтерация: 3\n",
            "\tИтерация: 4\n",
            "\tИтерация: 5\n",
            "Ошибки на train. Средняя: 0.8563164234161377 список: [0.8450639247894287, 0.8617435693740845, 0.8580772876739502, 0.857267439365387, 0.8594298958778381]\n",
            "Ошибки на valid. Средняя: 0.8547823190689087 список: [0.8507946729660034, 0.8634592294692993, 0.8531177043914795, 0.8530978560447693, 0.8534421324729919]\n",
            "Дисперсия ошибки на valid: 1.9718910670860624e-05\n",
            "Доверительный интервал: 0.85102499127388 - 0.8624575197696686\n",
            "\n",
            "\n",
            "Модель: слоёв 1, фильтров 256, нейронов 64, эпох 15\n",
            "\n",
            "Model: \"sequential_12\"\n",
            "_________________________________________________________________\n",
            "Layer (type)                 Output Shape              Param #   \n",
            "=================================================================\n",
            "conv1d_21 (Conv1D)           (None, 10, 256)           1024      \n",
            "_________________________________________________________________\n",
            "dropout_19 (Dropout)         (None, 10, 256)           0         \n",
            "_________________________________________________________________\n",
            "flatten_12 (Flatten)         (None, 2560)              0         \n",
            "_________________________________________________________________\n",
            "dense_24 (Dense)             (None, 64)                163904    \n",
            "_________________________________________________________________\n",
            "dropout_20 (Dropout)         (None, 64)                0         \n",
            "_________________________________________________________________\n",
            "dense_25 (Dense)             (None, 5)                 325       \n",
            "=================================================================\n",
            "Total params: 165,253\n",
            "Trainable params: 165,253\n",
            "Non-trainable params: 0\n",
            "_________________________________________________________________\n",
            "\tИтерация: 1\n",
            "\tИтерация: 2\n",
            "\tИтерация: 3\n",
            "\tИтерация: 4\n",
            "\tИтерация: 5\n",
            "Ошибки на train. Средняя: 0.8162766814231872 список: [0.8162161707878113, 0.8163881897926331, 0.8162718415260315, 0.8162562251091003, 0.8162509799003601]\n",
            "Ошибки на valid. Средняя: 0.816311776638031 список: [0.816311776638031, 0.816311776638031, 0.816311776638031, 0.816311776638031, 0.816311776638031]\n",
            "Дисперсия ошибки на valid: 0.0\n",
            "Доверительный интервал: 0.816311776638031 - 0.816311776638031\n",
            "\n",
            "\n",
            "Модель: слоёв 2, фильтров 128, нейронов 32, эпох 15\n",
            "\n",
            "Model: \"sequential_13\"\n",
            "_________________________________________________________________\n",
            "Layer (type)                 Output Shape              Param #   \n",
            "=================================================================\n",
            "conv1d_22 (Conv1D)           (None, 10, 128)           512       \n",
            "_________________________________________________________________\n",
            "dropout_21 (Dropout)         (None, 10, 128)           0         \n",
            "_________________________________________________________________\n",
            "conv1d_23 (Conv1D)           (None, 10, 128)           49280     \n",
            "_________________________________________________________________\n",
            "dropout_22 (Dropout)         (None, 10, 128)           0         \n",
            "_________________________________________________________________\n",
            "flatten_13 (Flatten)         (None, 1280)              0         \n",
            "_________________________________________________________________\n",
            "dense_26 (Dense)             (None, 32)                40992     \n",
            "_________________________________________________________________\n",
            "dropout_23 (Dropout)         (None, 32)                0         \n",
            "_________________________________________________________________\n",
            "dense_27 (Dense)             (None, 5)                 165       \n",
            "=================================================================\n",
            "Total params: 90,949\n",
            "Trainable params: 90,949\n",
            "Non-trainable params: 0\n",
            "_________________________________________________________________\n",
            "\tИтерация: 1\n",
            "\tИтерация: 2\n",
            "\tИтерация: 3\n",
            "\tИтерация: 4\n",
            "\tИтерация: 5\n",
            "Ошибки на train. Средняя: 0.8157994866371154 список: [0.8151174783706665, 0.8157172203063965, 0.8159079551696777, 0.8159762620925903, 0.8162785172462463]\n",
            "Ошибки на valid. Средняя: 0.816311776638031 список: [0.816311776638031, 0.816311776638031, 0.816311776638031, 0.816311776638031, 0.816311776638031]\n",
            "Дисперсия ошибки на valid: 0.0\n",
            "Доверительный интервал: 0.816311776638031 - 0.816311776638031\n",
            "\n",
            "\n",
            "Модель: слоёв 2, фильтров 128, нейронов 64, эпох 15\n",
            "\n",
            "Model: \"sequential_14\"\n",
            "_________________________________________________________________\n",
            "Layer (type)                 Output Shape              Param #   \n",
            "=================================================================\n",
            "conv1d_24 (Conv1D)           (None, 10, 128)           512       \n",
            "_________________________________________________________________\n",
            "dropout_24 (Dropout)         (None, 10, 128)           0         \n",
            "_________________________________________________________________\n",
            "conv1d_25 (Conv1D)           (None, 10, 128)           49280     \n",
            "_________________________________________________________________\n",
            "dropout_25 (Dropout)         (None, 10, 128)           0         \n",
            "_________________________________________________________________\n",
            "flatten_14 (Flatten)         (None, 1280)              0         \n",
            "_________________________________________________________________\n",
            "dense_28 (Dense)             (None, 64)                81984     \n",
            "_________________________________________________________________\n",
            "dropout_26 (Dropout)         (None, 64)                0         \n",
            "_________________________________________________________________\n",
            "dense_29 (Dense)             (None, 5)                 325       \n",
            "=================================================================\n",
            "Total params: 132,101\n",
            "Trainable params: 132,101\n",
            "Non-trainable params: 0\n",
            "_________________________________________________________________\n",
            "\tИтерация: 1\n",
            "\tИтерация: 2\n",
            "\tИтерация: 3\n",
            "\tИтерация: 4\n",
            "\tИтерация: 5\n",
            "Ошибки на train. Средняя: 0.8162456393241883 список: [0.816206157207489, 0.816267192363739, 0.8162457942962646, 0.8162452578544617, 0.8162637948989868]\n",
            "Ошибки на valid. Средняя: 0.816311776638031 список: [0.816311776638031, 0.816311776638031, 0.816311776638031, 0.816311776638031, 0.816311776638031]\n",
            "Дисперсия ошибки на valid: 0.0\n",
            "Доверительный интервал: 0.816311776638031 - 0.816311776638031\n",
            "\n",
            "\n",
            "Модель: слоёв 2, фильтров 256, нейронов 32, эпох 15\n",
            "\n",
            "Model: \"sequential_15\"\n",
            "_________________________________________________________________\n",
            "Layer (type)                 Output Shape              Param #   \n",
            "=================================================================\n",
            "conv1d_26 (Conv1D)           (None, 10, 256)           1024      \n",
            "_________________________________________________________________\n",
            "dropout_27 (Dropout)         (None, 10, 256)           0         \n",
            "_________________________________________________________________\n",
            "conv1d_27 (Conv1D)           (None, 10, 256)           196864    \n",
            "_________________________________________________________________\n",
            "dropout_28 (Dropout)         (None, 10, 256)           0         \n",
            "_________________________________________________________________\n",
            "flatten_15 (Flatten)         (None, 2560)              0         \n",
            "_________________________________________________________________\n",
            "dense_30 (Dense)             (None, 32)                81952     \n",
            "_________________________________________________________________\n",
            "dropout_29 (Dropout)         (None, 32)                0         \n",
            "_________________________________________________________________\n",
            "dense_31 (Dense)             (None, 5)                 165       \n",
            "=================================================================\n",
            "Total params: 280,005\n",
            "Trainable params: 280,005\n",
            "Non-trainable params: 0\n",
            "_________________________________________________________________\n",
            "\tИтерация: 1\n",
            "\tИтерация: 2\n",
            "\tИтерация: 3\n",
            "\tИтерация: 4\n",
            "\tИтерация: 5\n",
            "Ошибки на train. Средняя: 0.8161764144897461 список: [0.8155320286750793, 0.8162968158721924, 0.8165287375450134, 0.8162856698036194, 0.8162388205528259]\n",
            "Ошибки на valid. Средняя: 0.816311776638031 список: [0.816311776638031, 0.816311776638031, 0.816311776638031, 0.816311776638031, 0.816311776638031]\n",
            "Дисперсия ошибки на valid: 0.0\n",
            "Доверительный интервал: 0.816311776638031 - 0.816311776638031\n",
            "\n",
            "\n",
            "Модель: слоёв 2, фильтров 256, нейронов 64, эпох 15\n",
            "\n",
            "Model: \"sequential_16\"\n",
            "_________________________________________________________________\n",
            "Layer (type)                 Output Shape              Param #   \n",
            "=================================================================\n",
            "conv1d_28 (Conv1D)           (None, 10, 256)           1024      \n",
            "_________________________________________________________________\n",
            "dropout_30 (Dropout)         (None, 10, 256)           0         \n",
            "_________________________________________________________________\n",
            "conv1d_29 (Conv1D)           (None, 10, 256)           196864    \n",
            "_________________________________________________________________\n",
            "dropout_31 (Dropout)         (None, 10, 256)           0         \n",
            "_________________________________________________________________\n",
            "flatten_16 (Flatten)         (None, 2560)              0         \n",
            "_________________________________________________________________\n",
            "dense_32 (Dense)             (None, 64)                163904    \n",
            "_________________________________________________________________\n",
            "dropout_32 (Dropout)         (None, 64)                0         \n",
            "_________________________________________________________________\n",
            "dense_33 (Dense)             (None, 5)                 325       \n",
            "=================================================================\n",
            "Total params: 362,117\n",
            "Trainable params: 362,117\n",
            "Non-trainable params: 0\n",
            "_________________________________________________________________\n",
            "\tИтерация: 1\n",
            "\tИтерация: 2\n",
            "\tИтерация: 3\n",
            "\tИтерация: 4\n",
            "\tИтерация: 5\n",
            "Ошибки на train. Средняя: 0.8162579536437988 список: [0.816276490688324, 0.8162338733673096, 0.8162357807159424, 0.8162841200828552, 0.816259503364563]\n",
            "Ошибки на valid. Средняя: 0.816311776638031 список: [0.816311776638031, 0.816311776638031, 0.816311776638031, 0.816311776638031, 0.816311776638031]\n",
            "Дисперсия ошибки на valid: 0.0\n",
            "Доверительный интервал: 0.816311776638031 - 0.816311776638031\n",
            "\n",
            "\n"
          ],
          "name": "stdout"
        }
      ]
    },
    {
      "cell_type": "code",
      "metadata": {
        "id": "UCxz1tA7vdX5",
        "outputId": "0ec88fdf-faf4-4ca0-e7ef-4409657cf0b6",
        "colab": {
          "base_uri": "https://localhost:8080/",
          "height": 297
        }
      },
      "source": [
        "summary_data"
      ],
      "execution_count": 108,
      "outputs": [
        {
          "output_type": "execute_result",
          "data": {
            "text/html": [
              "<div>\n",
              "<style scoped>\n",
              "    .dataframe tbody tr th:only-of-type {\n",
              "        vertical-align: middle;\n",
              "    }\n",
              "\n",
              "    .dataframe tbody tr th {\n",
              "        vertical-align: top;\n",
              "    }\n",
              "\n",
              "    .dataframe thead th {\n",
              "        text-align: right;\n",
              "    }\n",
              "</style>\n",
              "<table border=\"1\" class=\"dataframe\">\n",
              "  <thead>\n",
              "    <tr style=\"text-align: right;\">\n",
              "      <th></th>\n",
              "      <th>layers</th>\n",
              "      <th>filters</th>\n",
              "      <th>neurons</th>\n",
              "      <th>mean_train_score</th>\n",
              "      <th>mean_val_score</th>\n",
              "      <th>variance</th>\n",
              "      <th>l_b</th>\n",
              "      <th>r_b</th>\n",
              "    </tr>\n",
              "  </thead>\n",
              "  <tbody>\n",
              "    <tr>\n",
              "      <th>0</th>\n",
              "      <td>1.0</td>\n",
              "      <td>128.0</td>\n",
              "      <td>32.0</td>\n",
              "      <td>0.815993</td>\n",
              "      <td>0.816312</td>\n",
              "      <td>0.00000</td>\n",
              "      <td>0.816312</td>\n",
              "      <td>0.816312</td>\n",
              "    </tr>\n",
              "    <tr>\n",
              "      <th>1</th>\n",
              "      <td>1.0</td>\n",
              "      <td>128.0</td>\n",
              "      <td>64.0</td>\n",
              "      <td>0.816304</td>\n",
              "      <td>0.816312</td>\n",
              "      <td>0.00000</td>\n",
              "      <td>0.816312</td>\n",
              "      <td>0.816312</td>\n",
              "    </tr>\n",
              "    <tr>\n",
              "      <th>2</th>\n",
              "      <td>1.0</td>\n",
              "      <td>256.0</td>\n",
              "      <td>32.0</td>\n",
              "      <td>0.856316</td>\n",
              "      <td>0.854782</td>\n",
              "      <td>0.00002</td>\n",
              "      <td>0.851025</td>\n",
              "      <td>0.862458</td>\n",
              "    </tr>\n",
              "    <tr>\n",
              "      <th>3</th>\n",
              "      <td>1.0</td>\n",
              "      <td>256.0</td>\n",
              "      <td>64.0</td>\n",
              "      <td>0.816277</td>\n",
              "      <td>0.816312</td>\n",
              "      <td>0.00000</td>\n",
              "      <td>0.816312</td>\n",
              "      <td>0.816312</td>\n",
              "    </tr>\n",
              "    <tr>\n",
              "      <th>4</th>\n",
              "      <td>2.0</td>\n",
              "      <td>128.0</td>\n",
              "      <td>32.0</td>\n",
              "      <td>0.815799</td>\n",
              "      <td>0.816312</td>\n",
              "      <td>0.00000</td>\n",
              "      <td>0.816312</td>\n",
              "      <td>0.816312</td>\n",
              "    </tr>\n",
              "    <tr>\n",
              "      <th>5</th>\n",
              "      <td>2.0</td>\n",
              "      <td>128.0</td>\n",
              "      <td>64.0</td>\n",
              "      <td>0.816246</td>\n",
              "      <td>0.816312</td>\n",
              "      <td>0.00000</td>\n",
              "      <td>0.816312</td>\n",
              "      <td>0.816312</td>\n",
              "    </tr>\n",
              "    <tr>\n",
              "      <th>6</th>\n",
              "      <td>2.0</td>\n",
              "      <td>256.0</td>\n",
              "      <td>32.0</td>\n",
              "      <td>0.816176</td>\n",
              "      <td>0.816312</td>\n",
              "      <td>0.00000</td>\n",
              "      <td>0.816312</td>\n",
              "      <td>0.816312</td>\n",
              "    </tr>\n",
              "    <tr>\n",
              "      <th>7</th>\n",
              "      <td>2.0</td>\n",
              "      <td>256.0</td>\n",
              "      <td>64.0</td>\n",
              "      <td>0.816258</td>\n",
              "      <td>0.816312</td>\n",
              "      <td>0.00000</td>\n",
              "      <td>0.816312</td>\n",
              "      <td>0.816312</td>\n",
              "    </tr>\n",
              "  </tbody>\n",
              "</table>\n",
              "</div>"
            ],
            "text/plain": [
              "   layers  filters  neurons  ...  variance       l_b       r_b\n",
              "0     1.0    128.0     32.0  ...   0.00000  0.816312  0.816312\n",
              "1     1.0    128.0     64.0  ...   0.00000  0.816312  0.816312\n",
              "2     1.0    256.0     32.0  ...   0.00002  0.851025  0.862458\n",
              "3     1.0    256.0     64.0  ...   0.00000  0.816312  0.816312\n",
              "4     2.0    128.0     32.0  ...   0.00000  0.816312  0.816312\n",
              "5     2.0    128.0     64.0  ...   0.00000  0.816312  0.816312\n",
              "6     2.0    256.0     32.0  ...   0.00000  0.816312  0.816312\n",
              "7     2.0    256.0     64.0  ...   0.00000  0.816312  0.816312\n",
              "\n",
              "[8 rows x 8 columns]"
            ]
          },
          "metadata": {
            "tags": []
          },
          "execution_count": 108
        }
      ]
    },
    {
      "cell_type": "code",
      "metadata": {
        "id": "i2JpAoljxw_q",
        "outputId": "4a8f26ed-ecba-48fc-d10f-486ef1103e21",
        "colab": {
          "base_uri": "https://localhost:8080/",
          "height": 297
        }
      },
      "source": [
        "summary_data.sort_values('mean_val_score', ascending=False)"
      ],
      "execution_count": 109,
      "outputs": [
        {
          "output_type": "execute_result",
          "data": {
            "text/html": [
              "<div>\n",
              "<style scoped>\n",
              "    .dataframe tbody tr th:only-of-type {\n",
              "        vertical-align: middle;\n",
              "    }\n",
              "\n",
              "    .dataframe tbody tr th {\n",
              "        vertical-align: top;\n",
              "    }\n",
              "\n",
              "    .dataframe thead th {\n",
              "        text-align: right;\n",
              "    }\n",
              "</style>\n",
              "<table border=\"1\" class=\"dataframe\">\n",
              "  <thead>\n",
              "    <tr style=\"text-align: right;\">\n",
              "      <th></th>\n",
              "      <th>layers</th>\n",
              "      <th>filters</th>\n",
              "      <th>neurons</th>\n",
              "      <th>mean_train_score</th>\n",
              "      <th>mean_val_score</th>\n",
              "      <th>variance</th>\n",
              "      <th>l_b</th>\n",
              "      <th>r_b</th>\n",
              "    </tr>\n",
              "  </thead>\n",
              "  <tbody>\n",
              "    <tr>\n",
              "      <th>2</th>\n",
              "      <td>1.0</td>\n",
              "      <td>256.0</td>\n",
              "      <td>32.0</td>\n",
              "      <td>0.856316</td>\n",
              "      <td>0.854782</td>\n",
              "      <td>0.00002</td>\n",
              "      <td>0.851025</td>\n",
              "      <td>0.862458</td>\n",
              "    </tr>\n",
              "    <tr>\n",
              "      <th>0</th>\n",
              "      <td>1.0</td>\n",
              "      <td>128.0</td>\n",
              "      <td>32.0</td>\n",
              "      <td>0.815993</td>\n",
              "      <td>0.816312</td>\n",
              "      <td>0.00000</td>\n",
              "      <td>0.816312</td>\n",
              "      <td>0.816312</td>\n",
              "    </tr>\n",
              "    <tr>\n",
              "      <th>1</th>\n",
              "      <td>1.0</td>\n",
              "      <td>128.0</td>\n",
              "      <td>64.0</td>\n",
              "      <td>0.816304</td>\n",
              "      <td>0.816312</td>\n",
              "      <td>0.00000</td>\n",
              "      <td>0.816312</td>\n",
              "      <td>0.816312</td>\n",
              "    </tr>\n",
              "    <tr>\n",
              "      <th>3</th>\n",
              "      <td>1.0</td>\n",
              "      <td>256.0</td>\n",
              "      <td>64.0</td>\n",
              "      <td>0.816277</td>\n",
              "      <td>0.816312</td>\n",
              "      <td>0.00000</td>\n",
              "      <td>0.816312</td>\n",
              "      <td>0.816312</td>\n",
              "    </tr>\n",
              "    <tr>\n",
              "      <th>4</th>\n",
              "      <td>2.0</td>\n",
              "      <td>128.0</td>\n",
              "      <td>32.0</td>\n",
              "      <td>0.815799</td>\n",
              "      <td>0.816312</td>\n",
              "      <td>0.00000</td>\n",
              "      <td>0.816312</td>\n",
              "      <td>0.816312</td>\n",
              "    </tr>\n",
              "    <tr>\n",
              "      <th>5</th>\n",
              "      <td>2.0</td>\n",
              "      <td>128.0</td>\n",
              "      <td>64.0</td>\n",
              "      <td>0.816246</td>\n",
              "      <td>0.816312</td>\n",
              "      <td>0.00000</td>\n",
              "      <td>0.816312</td>\n",
              "      <td>0.816312</td>\n",
              "    </tr>\n",
              "    <tr>\n",
              "      <th>6</th>\n",
              "      <td>2.0</td>\n",
              "      <td>256.0</td>\n",
              "      <td>32.0</td>\n",
              "      <td>0.816176</td>\n",
              "      <td>0.816312</td>\n",
              "      <td>0.00000</td>\n",
              "      <td>0.816312</td>\n",
              "      <td>0.816312</td>\n",
              "    </tr>\n",
              "    <tr>\n",
              "      <th>7</th>\n",
              "      <td>2.0</td>\n",
              "      <td>256.0</td>\n",
              "      <td>64.0</td>\n",
              "      <td>0.816258</td>\n",
              "      <td>0.816312</td>\n",
              "      <td>0.00000</td>\n",
              "      <td>0.816312</td>\n",
              "      <td>0.816312</td>\n",
              "    </tr>\n",
              "  </tbody>\n",
              "</table>\n",
              "</div>"
            ],
            "text/plain": [
              "   layers  filters  neurons  ...  variance       l_b       r_b\n",
              "2     1.0    256.0     32.0  ...   0.00002  0.851025  0.862458\n",
              "0     1.0    128.0     32.0  ...   0.00000  0.816312  0.816312\n",
              "1     1.0    128.0     64.0  ...   0.00000  0.816312  0.816312\n",
              "3     1.0    256.0     64.0  ...   0.00000  0.816312  0.816312\n",
              "4     2.0    128.0     32.0  ...   0.00000  0.816312  0.816312\n",
              "5     2.0    128.0     64.0  ...   0.00000  0.816312  0.816312\n",
              "6     2.0    256.0     32.0  ...   0.00000  0.816312  0.816312\n",
              "7     2.0    256.0     64.0  ...   0.00000  0.816312  0.816312\n",
              "\n",
              "[8 rows x 8 columns]"
            ]
          },
          "metadata": {
            "tags": []
          },
          "execution_count": 109
        }
      ]
    },
    {
      "cell_type": "code",
      "metadata": {
        "id": "Ir8asuHZxw6W"
      },
      "source": [
        "# конфигурирование слоев нейросети\n",
        "model = Sequential()\n",
        "\n",
        "# слои нейросети отвественные за свертку и max-pooling\n",
        "model.add(Conv1D(128, 3, padding='same', activation='sigmoid', input_shape=(tr_data.shape[1], 1))) # sigmoid'))relu\n",
        "model.add(Conv1D(128, 3, padding='same', activation='sigmoid'))\n",
        "model.add(MaxPooling1D(pool_size=2))\n",
        "# model.add(Dropout(0.25))\n",
        "# if lay_cnt == 2:\n",
        "model.add(Conv1D(128, 3, padding='same', activation='sigmoid'))\n",
        "model.add(Conv1D(128, 3, padding='same', activation='sigmoid'))\n",
        "model.add(MaxPooling1D(pool_size=2))\n",
        "#     model.add(Dropout(0.25))\n",
        "\n",
        "# полносвязные слои нейронной сети\n",
        "model.add(Flatten())\n",
        "model.add(Dense(32, activation='sigmoid')) # 'relu'))\n",
        "# model.add(Dense(neurons, activation='relu'))))\n",
        "model.add(Dropout(0.5))\n",
        "model.add(Dense(5, activation='softmax')) # sigmoid'))\n",
        "\n",
        "# компиляция модели\n",
        "model.compile(optimizer=tf.keras.optimizers.Adam(1e-3),#\n",
        "              loss=tf.keras.losses.CategoricalCrossentropy(),\n",
        "              metrics=[tf.keras.metrics.AUC()])"
      ],
      "execution_count": 110,
      "outputs": []
    },
    {
      "cell_type": "code",
      "metadata": {
        "id": "XFfl4Z--M10P",
        "outputId": "db4a3790-dcca-4df5-c02c-3837d4908728",
        "colab": {
          "base_uri": "https://localhost:8080/",
          "height": 493
        }
      },
      "source": [
        "model.summary()"
      ],
      "execution_count": 111,
      "outputs": [
        {
          "output_type": "stream",
          "text": [
            "Model: \"sequential_17\"\n",
            "_________________________________________________________________\n",
            "Layer (type)                 Output Shape              Param #   \n",
            "=================================================================\n",
            "conv1d_30 (Conv1D)           (None, 10, 128)           512       \n",
            "_________________________________________________________________\n",
            "conv1d_31 (Conv1D)           (None, 10, 128)           49280     \n",
            "_________________________________________________________________\n",
            "max_pooling1d_10 (MaxPooling (None, 5, 128)            0         \n",
            "_________________________________________________________________\n",
            "conv1d_32 (Conv1D)           (None, 5, 128)            49280     \n",
            "_________________________________________________________________\n",
            "conv1d_33 (Conv1D)           (None, 5, 128)            49280     \n",
            "_________________________________________________________________\n",
            "max_pooling1d_11 (MaxPooling (None, 2, 128)            0         \n",
            "_________________________________________________________________\n",
            "flatten_17 (Flatten)         (None, 256)               0         \n",
            "_________________________________________________________________\n",
            "dense_34 (Dense)             (None, 32)                8224      \n",
            "_________________________________________________________________\n",
            "dropout_33 (Dropout)         (None, 32)                0         \n",
            "_________________________________________________________________\n",
            "dense_35 (Dense)             (None, 5)                 165       \n",
            "=================================================================\n",
            "Total params: 156,741\n",
            "Trainable params: 156,741\n",
            "Non-trainable params: 0\n",
            "_________________________________________________________________\n"
          ],
          "name": "stdout"
        }
      ]
    },
    {
      "cell_type": "code",
      "metadata": {
        "id": "t0vJ_XcuM1tp"
      },
      "source": [
        "callback = tf.keras.callbacks.EarlyStopping(monitor='loss', patience=3)"
      ],
      "execution_count": 112,
      "outputs": []
    },
    {
      "cell_type": "code",
      "metadata": {
        "id": "tvvOxLSAM1m8",
        "outputId": "f50b95ec-8e9e-4a3c-ff42-4ba27a9c4db2",
        "colab": {
          "base_uri": "https://localhost:8080/",
          "height": 221
        }
      },
      "source": [
        "hist = model.fit(tr_data,\n",
        "                 train_y_o,\n",
        "                 batch_size=512,\n",
        "                 epochs=1000,\n",
        "                 validation_data=(vd_data, valid_y_o),\n",
        "                 callbacks=[callback], \n",
        "                 shuffle=True,\n",
        "                 verbose=1)"
      ],
      "execution_count": 114,
      "outputs": [
        {
          "output_type": "stream",
          "text": [
            "Epoch 1/1000\n",
            "31/31 [==============================] - 0s 10ms/step - loss: 0.7934 - auc_17: 0.9171 - val_loss: 0.7814 - val_auc_17: 0.9195\n",
            "Epoch 2/1000\n",
            "31/31 [==============================] - 0s 8ms/step - loss: 0.7922 - auc_17: 0.9177 - val_loss: 0.7826 - val_auc_17: 0.9195\n",
            "Epoch 3/1000\n",
            "31/31 [==============================] - 0s 7ms/step - loss: 0.7907 - auc_17: 0.9176 - val_loss: 0.7798 - val_auc_17: 0.9196\n",
            "Epoch 4/1000\n",
            "31/31 [==============================] - 0s 7ms/step - loss: 0.7915 - auc_17: 0.9178 - val_loss: 0.7819 - val_auc_17: 0.9196\n",
            "Epoch 5/1000\n",
            "31/31 [==============================] - 0s 7ms/step - loss: 0.7922 - auc_17: 0.9172 - val_loss: 0.7874 - val_auc_17: 0.9185\n",
            "Epoch 6/1000\n",
            "31/31 [==============================] - 0s 7ms/step - loss: 0.7942 - auc_17: 0.9172 - val_loss: 0.7804 - val_auc_17: 0.9199\n"
          ],
          "name": "stdout"
        }
      ]
    },
    {
      "cell_type": "markdown",
      "metadata": {
        "id": "ANItfyA057s9"
      },
      "source": [
        "## Задание 2"
      ]
    },
    {
      "cell_type": "markdown",
      "metadata": {
        "id": "p01zL5MB6By0"
      },
      "source": [
        "2. Предобучаем word2vec и его эмбединга инициализируем сетку, как влияет на качество?"
      ]
    },
    {
      "cell_type": "markdown",
      "metadata": {
        "id": "QFchA__yW7sI"
      },
      "source": [
        "## Попробуем word2vec с LogisticRegression"
      ]
    },
    {
      "cell_type": "code",
      "metadata": {
        "id": "T2PHP6vT5Ykm"
      },
      "source": [
        "from gensim.models import Word2Vec\n",
        "from sklearn.linear_model import LogisticRegression\n",
        "\n",
        "from sklearn.metrics import roc_auc_score\n",
        "\n",
        "from tqdm import tqdm"
      ],
      "execution_count": 141,
      "outputs": []
    },
    {
      "cell_type": "code",
      "metadata": {
        "id": "Fki1lgdimRyd"
      },
      "source": [
        "modelW2V = Word2Vec(sentences=data['Content_prep'].apply(str.split), size=100, window=5, min_count=1)"
      ],
      "execution_count": 142,
      "outputs": []
    },
    {
      "cell_type": "code",
      "metadata": {
        "id": "B4w6UKZJMTIh"
      },
      "source": [
        "# modelW2V.wv.vocab"
      ],
      "execution_count": 143,
      "outputs": []
    },
    {
      "cell_type": "code",
      "metadata": {
        "id": "r-qmYA-VSGx4"
      },
      "source": [
        "def get_vect_mean(txt):\n",
        "    vector_w2v = np.zeros(100)\n",
        "    n_w2v = 0\n",
        "    for wrd in txt:\n",
        "        if wrd in modelW2V:\n",
        "            vector_w2v += modelW2V[wrd]\n",
        "            n_w2v += 1\n",
        "    if n_w2v > 0:\n",
        "        vector_w2v = vector_w2v / n_w2v\n",
        "    return vector_w2v"
      ],
      "execution_count": 144,
      "outputs": []
    },
    {
      "cell_type": "code",
      "metadata": {
        "id": "kKRqRBOsNpkb"
      },
      "source": [
        "y = data['Rating'].values\n",
        "train_x, valid_x, train_y, valid_y = train_test_split(data['Content_prep'].values, y, stratify=y, random_state=43)"
      ],
      "execution_count": 145,
      "outputs": []
    },
    {
      "cell_type": "code",
      "metadata": {
        "id": "Qv6e_lKbSGox",
        "outputId": "429f8163-ba9b-459c-f567-b29e07f2ad3f",
        "colab": {
          "base_uri": "https://localhost:8080/",
          "height": 139
        }
      },
      "source": [
        "arr_vect = []\n",
        "for txt in tqdm(train_x):\n",
        "    arr_vect.append(get_vect_mean(txt))\n",
        "    \n",
        "arr_vect_valid = []\n",
        "for txt in tqdm(valid_x):\n",
        "    arr_vect_valid.append(get_vect_mean(txt))\n",
        "    \n",
        "train_w2v = np.asarray(arr_vect)    \n",
        "valid_w2v = np.asarray(arr_vect_valid)"
      ],
      "execution_count": 146,
      "outputs": [
        {
          "output_type": "stream",
          "text": [
            "  0%|          | 0/15494 [00:00<?, ?it/s]/usr/local/lib/python3.6/dist-packages/ipykernel_launcher.py:5: DeprecationWarning: Call to deprecated `__contains__` (Method will be removed in 4.0.0, use self.wv.__contains__() instead).\n",
            "  \"\"\"\n",
            "/usr/local/lib/python3.6/dist-packages/ipykernel_launcher.py:6: DeprecationWarning: Call to deprecated `__getitem__` (Method will be removed in 4.0.0, use self.wv.__getitem__() instead).\n",
            "  \n",
            "100%|██████████| 15494/15494 [00:04<00:00, 3374.44it/s]\n",
            "100%|██████████| 5165/5165 [00:01<00:00, 3163.71it/s]\n"
          ],
          "name": "stderr"
        }
      ]
    },
    {
      "cell_type": "code",
      "metadata": {
        "id": "Ejr6CRwaSGeE"
      },
      "source": [
        "lgr_w2v = LogisticRegression()"
      ],
      "execution_count": 147,
      "outputs": []
    },
    {
      "cell_type": "code",
      "metadata": {
        "id": "_VDpIiz5SGRV",
        "outputId": "61a369d0-8c3f-477a-c9ca-1b422592ce99",
        "colab": {
          "base_uri": "https://localhost:8080/",
          "height": 238
        }
      },
      "source": [
        "lgr_w2v.fit(train_w2v, train_y)"
      ],
      "execution_count": 148,
      "outputs": [
        {
          "output_type": "stream",
          "text": [
            "/usr/local/lib/python3.6/dist-packages/sklearn/linear_model/_logistic.py:940: ConvergenceWarning: lbfgs failed to converge (status=1):\n",
            "STOP: TOTAL NO. of ITERATIONS REACHED LIMIT.\n",
            "\n",
            "Increase the number of iterations (max_iter) or scale the data as shown in:\n",
            "    https://scikit-learn.org/stable/modules/preprocessing.html\n",
            "Please also refer to the documentation for alternative solver options:\n",
            "    https://scikit-learn.org/stable/modules/linear_model.html#logistic-regression\n",
            "  extra_warning_msg=_LOGISTIC_SOLVER_CONVERGENCE_MSG)\n"
          ],
          "name": "stderr"
        },
        {
          "output_type": "execute_result",
          "data": {
            "text/plain": [
              "LogisticRegression(C=1.0, class_weight=None, dual=False, fit_intercept=True,\n",
              "                   intercept_scaling=1, l1_ratio=None, max_iter=100,\n",
              "                   multi_class='auto', n_jobs=None, penalty='l2',\n",
              "                   random_state=None, solver='lbfgs', tol=0.0001, verbose=0,\n",
              "                   warm_start=False)"
            ]
          },
          "metadata": {
            "tags": []
          },
          "execution_count": 148
        }
      ]
    },
    {
      "cell_type": "code",
      "metadata": {
        "id": "OdiuOUNGNtDy"
      },
      "source": [
        "y_pred = lgr_w2v.predict_proba(valid_w2v)"
      ],
      "execution_count": 149,
      "outputs": []
    },
    {
      "cell_type": "code",
      "metadata": {
        "id": "nN75DGRRURA4",
        "outputId": "cc407852-532c-46c2-827f-d649d69fb089",
        "colab": {
          "base_uri": "https://localhost:8080/",
          "height": 136
        }
      },
      "source": [
        "y_pred"
      ],
      "execution_count": 150,
      "outputs": [
        {
          "output_type": "execute_result",
          "data": {
            "text/plain": [
              "array([[0.10185659, 0.03429833, 0.04154197, 0.09614552, 0.72615758],\n",
              "       [0.10133931, 0.03394707, 0.04182292, 0.10397162, 0.71891908],\n",
              "       [0.08912818, 0.03033862, 0.03831425, 0.10778174, 0.73443721],\n",
              "       ...,\n",
              "       [0.10122598, 0.03410824, 0.04165331, 0.09963014, 0.72338234],\n",
              "       [0.08912818, 0.03033862, 0.03831425, 0.10778174, 0.73443721],\n",
              "       [0.12001547, 0.0391226 , 0.04716077, 0.10432012, 0.68938104]])"
            ]
          },
          "metadata": {
            "tags": []
          },
          "execution_count": 150
        }
      ]
    },
    {
      "cell_type": "code",
      "metadata": {
        "id": "ZV0KBLrXM0vY",
        "outputId": "b173334c-26d7-4fee-c1ad-4af9cb5df93e",
        "colab": {
          "base_uri": "https://localhost:8080/",
          "height": 34
        }
      },
      "source": [
        "roc_auc_score(to_one_hot(valid_y), y_pred)"
      ],
      "execution_count": 151,
      "outputs": [
        {
          "output_type": "execute_result",
          "data": {
            "text/plain": [
              "0.6668526427592502"
            ]
          },
          "metadata": {
            "tags": []
          },
          "execution_count": 151
        }
      ]
    },
    {
      "cell_type": "markdown",
      "metadata": {
        "id": "q0cTbXxTXHKv"
      },
      "source": [
        "## Используем word2vec в CNN"
      ]
    },
    {
      "cell_type": "code",
      "metadata": {
        "id": "z89RBnndPdcg",
        "outputId": "f8534e5e-18f1-4691-e6d7-b4e279b84ebb",
        "colab": {
          "base_uri": "https://localhost:8080/",
          "height": 34
        }
      },
      "source": [
        "tr_data = train_w2v.reshape(train_w2v.shape[0], train_w2v.shape[1], 1)\n",
        "vd_data = valid_w2v.reshape(valid_w2v.shape[0], valid_w2v.shape[1], 1)\n",
        "tr_data.shape"
      ],
      "execution_count": 152,
      "outputs": [
        {
          "output_type": "execute_result",
          "data": {
            "text/plain": [
              "(15494, 100, 1)"
            ]
          },
          "metadata": {
            "tags": []
          },
          "execution_count": 152
        }
      ]
    },
    {
      "cell_type": "code",
      "metadata": {
        "id": "C1Q-pjKGYWZ6",
        "outputId": "4a7d3c9b-ba5f-4caa-918b-c8a8207b1a14",
        "colab": {
          "base_uri": "https://localhost:8080/",
          "height": 136
        }
      },
      "source": [
        "train_y_o = to_one_hot(train_y)\n",
        "valid_y_o = to_one_hot(valid_y)\n",
        "train_y_o"
      ],
      "execution_count": 153,
      "outputs": [
        {
          "output_type": "execute_result",
          "data": {
            "text/plain": [
              "array([[0., 0., 0., 0., 1.],\n",
              "       [0., 0., 0., 0., 1.],\n",
              "       [0., 1., 0., 0., 0.],\n",
              "       ...,\n",
              "       [0., 0., 0., 0., 1.],\n",
              "       [0., 0., 0., 0., 1.],\n",
              "       [0., 0., 0., 0., 1.]])"
            ]
          },
          "metadata": {
            "tags": []
          },
          "execution_count": 153
        }
      ]
    },
    {
      "cell_type": "code",
      "metadata": {
        "id": "6piWCM_TYZBG"
      },
      "source": [
        "# конфигурирование слоев нейросети\n",
        "model = Sequential()\n",
        "\n",
        "# слои нейросети отвественные за свертку и max-pooling\n",
        "model.add(Conv1D(256, 10, padding='same', activation='relu', input_shape=(tr_data.shape[1], 1))) # sigmoid'))relu\n",
        "model.add(Conv1D(256, 10, padding='same', activation='relu'))\n",
        "model.add(MaxPooling1D(pool_size=2))\n",
        "model.add(Dropout(0.25))\n",
        "# if lay_cnt == 2:\n",
        "# model.add(Conv1D(256, 10, padding='same', activation='relu'))\n",
        "# model.add(Conv1D(256, 10, padding='same', activation='relu'))\n",
        "# model.add(MaxPooling1D(pool_size=2))\n",
        "# model.add(Dropout(0.25))\n",
        "\n",
        "# полносвязные слои нейронной сети\n",
        "model.add(Flatten())\n",
        "model.add(Dense(64, activation='relu')) # 'relu'))\n",
        "# model.add(Dense(neurons, activation='relu'))))\n",
        "model.add(Dropout(0.5))\n",
        "model.add(Dense(5, activation='softmax')) # sigmoid'))\n",
        "\n",
        "# компиляция модели\n",
        "model.compile(optimizer=tf.keras.optimizers.Adam(1e-3),#\n",
        "              loss=tf.keras.losses.CategoricalCrossentropy(),\n",
        "              metrics=[tf.keras.metrics.AUC()])"
      ],
      "execution_count": 166,
      "outputs": []
    },
    {
      "cell_type": "code",
      "metadata": {
        "id": "BbPnoA-gZE5T",
        "outputId": "261e7b3c-98c8-425f-f787-773654172f76",
        "colab": {
          "base_uri": "https://localhost:8080/",
          "height": 425
        }
      },
      "source": [
        "model.summary()"
      ],
      "execution_count": 167,
      "outputs": [
        {
          "output_type": "stream",
          "text": [
            "Model: \"sequential_24\"\n",
            "_________________________________________________________________\n",
            "Layer (type)                 Output Shape              Param #   \n",
            "=================================================================\n",
            "conv1d_46 (Conv1D)           (None, 100, 256)          2816      \n",
            "_________________________________________________________________\n",
            "conv1d_47 (Conv1D)           (None, 100, 256)          655616    \n",
            "_________________________________________________________________\n",
            "max_pooling1d_18 (MaxPooling (None, 50, 256)           0         \n",
            "_________________________________________________________________\n",
            "dropout_46 (Dropout)         (None, 50, 256)           0         \n",
            "_________________________________________________________________\n",
            "flatten_24 (Flatten)         (None, 12800)             0         \n",
            "_________________________________________________________________\n",
            "dense_48 (Dense)             (None, 64)                819264    \n",
            "_________________________________________________________________\n",
            "dropout_47 (Dropout)         (None, 64)                0         \n",
            "_________________________________________________________________\n",
            "dense_49 (Dense)             (None, 5)                 325       \n",
            "=================================================================\n",
            "Total params: 1,478,021\n",
            "Trainable params: 1,478,021\n",
            "Non-trainable params: 0\n",
            "_________________________________________________________________\n"
          ],
          "name": "stdout"
        }
      ]
    },
    {
      "cell_type": "code",
      "metadata": {
        "id": "-igf2ha4ZJLW"
      },
      "source": [
        "callback = tf.keras.callbacks.EarlyStopping(monitor='loss', patience=3)"
      ],
      "execution_count": 168,
      "outputs": []
    },
    {
      "cell_type": "code",
      "metadata": {
        "id": "mBnAksHuZNnf",
        "outputId": "3030881c-7029-4abd-d5cd-a9178633f887",
        "colab": {
          "base_uri": "https://localhost:8080/",
          "height": 1000
        }
      },
      "source": [
        "hist = model.fit(tr_data,\n",
        "                 train_y_o,\n",
        "                 batch_size=512,\n",
        "                 epochs=1000,\n",
        "                 validation_data=(vd_data, valid_y_o),\n",
        "                 callbacks=[callback], \n",
        "                 shuffle=True,\n",
        "                 verbose=1)"
      ],
      "execution_count": 169,
      "outputs": [
        {
          "output_type": "stream",
          "text": [
            "Epoch 1/1000\n",
            " 2/31 [>.............................] - ETA: 0s - loss: 1.5819 - auc_24: 0.6828WARNING:tensorflow:Callbacks method `on_train_batch_end` is slow compared to the batch time (batch time: 0.0223s vs `on_train_batch_end` time: 0.0462s). Check your callbacks.\n",
            "31/31 [==============================] - 2s 61ms/step - loss: 1.1413 - auc_24: 0.8279 - val_loss: 0.9897 - val_auc_24: 0.8518\n",
            "Epoch 2/1000\n",
            "31/31 [==============================] - 2s 51ms/step - loss: 1.0311 - auc_24: 0.8447 - val_loss: 0.9875 - val_auc_24: 0.8543\n",
            "Epoch 3/1000\n",
            "31/31 [==============================] - 2s 52ms/step - loss: 1.0305 - auc_24: 0.8443 - val_loss: 0.9788 - val_auc_24: 0.8559\n",
            "Epoch 4/1000\n",
            "31/31 [==============================] - 2s 51ms/step - loss: 1.0156 - auc_24: 0.8484 - val_loss: 0.9716 - val_auc_24: 0.8568\n",
            "Epoch 5/1000\n",
            "31/31 [==============================] - 2s 52ms/step - loss: 1.0029 - auc_24: 0.8523 - val_loss: 0.9703 - val_auc_24: 0.8594\n",
            "Epoch 6/1000\n",
            "31/31 [==============================] - 2s 52ms/step - loss: 0.9949 - auc_24: 0.8548 - val_loss: 0.9784 - val_auc_24: 0.8602\n",
            "Epoch 7/1000\n",
            "31/31 [==============================] - 2s 52ms/step - loss: 0.9974 - auc_24: 0.8540 - val_loss: 0.9631 - val_auc_24: 0.8697\n",
            "Epoch 8/1000\n",
            "31/31 [==============================] - 2s 52ms/step - loss: 0.9892 - auc_24: 0.8576 - val_loss: 0.9618 - val_auc_24: 0.8711\n",
            "Epoch 9/1000\n",
            "31/31 [==============================] - 2s 52ms/step - loss: 0.9869 - auc_24: 0.8589 - val_loss: 0.9581 - val_auc_24: 0.8743\n",
            "Epoch 10/1000\n",
            "31/31 [==============================] - 2s 52ms/step - loss: 0.9802 - auc_24: 0.8616 - val_loss: 0.9625 - val_auc_24: 0.8676\n",
            "Epoch 11/1000\n",
            "31/31 [==============================] - 2s 52ms/step - loss: 0.9763 - auc_24: 0.8631 - val_loss: 0.9437 - val_auc_24: 0.8769\n",
            "Epoch 12/1000\n",
            "31/31 [==============================] - 2s 52ms/step - loss: 0.9647 - auc_24: 0.8677 - val_loss: 0.9421 - val_auc_24: 0.8774\n",
            "Epoch 13/1000\n",
            "31/31 [==============================] - 2s 52ms/step - loss: 0.9604 - auc_24: 0.8696 - val_loss: 0.9361 - val_auc_24: 0.8789\n",
            "Epoch 14/1000\n",
            "31/31 [==============================] - 2s 52ms/step - loss: 0.9524 - auc_24: 0.8738 - val_loss: 0.9328 - val_auc_24: 0.8815\n",
            "Epoch 15/1000\n",
            "31/31 [==============================] - 2s 52ms/step - loss: 0.9547 - auc_24: 0.8728 - val_loss: 0.9287 - val_auc_24: 0.8847\n",
            "Epoch 16/1000\n",
            "31/31 [==============================] - 2s 53ms/step - loss: 0.9492 - auc_24: 0.8751 - val_loss: 0.9239 - val_auc_24: 0.8871\n",
            "Epoch 17/1000\n",
            "31/31 [==============================] - 2s 52ms/step - loss: 0.9371 - auc_24: 0.8791 - val_loss: 0.9120 - val_auc_24: 0.8885\n",
            "Epoch 18/1000\n",
            "31/31 [==============================] - 2s 52ms/step - loss: 0.9331 - auc_24: 0.8804 - val_loss: 0.9082 - val_auc_24: 0.8907\n",
            "Epoch 19/1000\n",
            "31/31 [==============================] - 2s 52ms/step - loss: 0.9263 - auc_24: 0.8836 - val_loss: 0.8989 - val_auc_24: 0.8931\n",
            "Epoch 20/1000\n",
            "31/31 [==============================] - 2s 52ms/step - loss: 0.9267 - auc_24: 0.8833 - val_loss: 0.9102 - val_auc_24: 0.8913\n",
            "Epoch 21/1000\n",
            "31/31 [==============================] - 2s 52ms/step - loss: 0.9105 - auc_24: 0.8886 - val_loss: 0.8879 - val_auc_24: 0.8970\n",
            "Epoch 22/1000\n",
            "31/31 [==============================] - 2s 52ms/step - loss: 0.9044 - auc_24: 0.8911 - val_loss: 0.8845 - val_auc_24: 0.8992\n",
            "Epoch 23/1000\n",
            "31/31 [==============================] - 2s 52ms/step - loss: 0.9019 - auc_24: 0.8920 - val_loss: 0.8976 - val_auc_24: 0.8991\n",
            "Epoch 24/1000\n",
            "31/31 [==============================] - 2s 52ms/step - loss: 0.9035 - auc_24: 0.8915 - val_loss: 0.8707 - val_auc_24: 0.9018\n",
            "Epoch 25/1000\n",
            "31/31 [==============================] - 2s 51ms/step - loss: 0.8866 - auc_24: 0.8965 - val_loss: 0.8654 - val_auc_24: 0.9025\n",
            "Epoch 26/1000\n",
            "31/31 [==============================] - 2s 52ms/step - loss: 0.8848 - auc_24: 0.8972 - val_loss: 0.8585 - val_auc_24: 0.9042\n",
            "Epoch 27/1000\n",
            "31/31 [==============================] - 2s 52ms/step - loss: 0.8764 - auc_24: 0.8996 - val_loss: 0.8510 - val_auc_24: 0.9059\n",
            "Epoch 28/1000\n",
            "31/31 [==============================] - 2s 51ms/step - loss: 0.8735 - auc_24: 0.9007 - val_loss: 0.8583 - val_auc_24: 0.9052\n",
            "Epoch 29/1000\n",
            "31/31 [==============================] - 2s 51ms/step - loss: 0.8695 - auc_24: 0.9016 - val_loss: 0.8488 - val_auc_24: 0.9078\n",
            "Epoch 30/1000\n",
            "31/31 [==============================] - 2s 51ms/step - loss: 0.8688 - auc_24: 0.9018 - val_loss: 0.8575 - val_auc_24: 0.9078\n",
            "Epoch 31/1000\n",
            "31/31 [==============================] - 2s 51ms/step - loss: 0.8688 - auc_24: 0.9017 - val_loss: 0.8398 - val_auc_24: 0.9086\n",
            "Epoch 32/1000\n",
            "31/31 [==============================] - 2s 52ms/step - loss: 0.8610 - auc_24: 0.9037 - val_loss: 0.8391 - val_auc_24: 0.9089\n",
            "Epoch 33/1000\n",
            "31/31 [==============================] - 2s 52ms/step - loss: 0.8587 - auc_24: 0.9042 - val_loss: 0.8396 - val_auc_24: 0.9093\n",
            "Epoch 34/1000\n",
            "31/31 [==============================] - 2s 51ms/step - loss: 0.8586 - auc_24: 0.9044 - val_loss: 0.8406 - val_auc_24: 0.9083\n",
            "Epoch 35/1000\n",
            "31/31 [==============================] - 2s 51ms/step - loss: 0.8602 - auc_24: 0.9037 - val_loss: 0.8397 - val_auc_24: 0.9092\n",
            "Epoch 36/1000\n",
            "31/31 [==============================] - 2s 51ms/step - loss: 0.8523 - auc_24: 0.9058 - val_loss: 0.8504 - val_auc_24: 0.9094\n",
            "Epoch 37/1000\n",
            "31/31 [==============================] - 2s 51ms/step - loss: 0.8543 - auc_24: 0.9053 - val_loss: 0.8363 - val_auc_24: 0.9098\n",
            "Epoch 38/1000\n",
            "31/31 [==============================] - 2s 51ms/step - loss: 0.8496 - auc_24: 0.9064 - val_loss: 0.8314 - val_auc_24: 0.9099\n",
            "Epoch 39/1000\n",
            "31/31 [==============================] - 2s 51ms/step - loss: 0.8493 - auc_24: 0.9063 - val_loss: 0.8493 - val_auc_24: 0.9085\n",
            "Epoch 40/1000\n",
            "31/31 [==============================] - 2s 51ms/step - loss: 0.8522 - auc_24: 0.9060 - val_loss: 0.8284 - val_auc_24: 0.9108\n",
            "Epoch 41/1000\n",
            "31/31 [==============================] - 2s 51ms/step - loss: 0.8504 - auc_24: 0.9059 - val_loss: 0.8296 - val_auc_24: 0.9105\n",
            "Epoch 42/1000\n",
            "31/31 [==============================] - 2s 51ms/step - loss: 0.8478 - auc_24: 0.9070 - val_loss: 0.8351 - val_auc_24: 0.9094\n",
            "Epoch 43/1000\n",
            "31/31 [==============================] - 2s 51ms/step - loss: 0.8458 - auc_24: 0.9070 - val_loss: 0.8266 - val_auc_24: 0.9111\n",
            "Epoch 44/1000\n",
            "31/31 [==============================] - 2s 51ms/step - loss: 0.8511 - auc_24: 0.9059 - val_loss: 0.8277 - val_auc_24: 0.9111\n",
            "Epoch 45/1000\n",
            "31/31 [==============================] - 2s 51ms/step - loss: 0.8462 - auc_24: 0.9070 - val_loss: 0.8320 - val_auc_24: 0.9103\n",
            "Epoch 46/1000\n",
            "31/31 [==============================] - 2s 51ms/step - loss: 0.8487 - auc_24: 0.9066 - val_loss: 0.8273 - val_auc_24: 0.9114\n"
          ],
          "name": "stdout"
        }
      ]
    },
    {
      "cell_type": "code",
      "metadata": {
        "id": "VqDkCcM3ZUHB"
      },
      "source": [
        ""
      ],
      "execution_count": 169,
      "outputs": []
    }
  ]
}