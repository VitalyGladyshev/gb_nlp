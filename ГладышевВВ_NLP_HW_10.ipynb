{
  "nbformat": 4,
  "nbformat_minor": 0,
  "metadata": {
    "colab": {
      "provenance": [],
      "gpuType": "T4",
      "authorship_tag": "ABX9TyP7ooFL3GZlYa5wvCePYGnH",
      "include_colab_link": true
    },
    "kernelspec": {
      "name": "python3",
      "display_name": "Python 3"
    },
    "language_info": {
      "name": "python"
    },
    "accelerator": "GPU"
  },
  "cells": [
    {
      "cell_type": "markdown",
      "metadata": {
        "id": "view-in-github",
        "colab_type": "text"
      },
      "source": [
        "<a href=\"https://colab.research.google.com/github/VitalyGladyshev/gb_nlp/blob/main/%D0%93%D0%BB%D0%B0%D0%B4%D1%8B%D1%88%D0%B5%D0%B2%D0%92%D0%92_NLP_HW_10.ipynb\" target=\"_parent\"><img src=\"https://colab.research.google.com/assets/colab-badge.svg\" alt=\"Open In Colab\"/></a>"
      ]
    },
    {
      "cell_type": "markdown",
      "source": [
        "# ДЗ 10 Гладышев ВВ"
      ],
      "metadata": {
        "id": "ut5OFBpdNkse"
      }
    },
    {
      "cell_type": "markdown",
      "source": [
        "## Модель seq2seq"
      ],
      "metadata": {
        "id": "PgYygoKGNwek"
      }
    },
    {
      "cell_type": "markdown",
      "metadata": {
        "id": "HRRiJQvl_deB"
      },
      "source": [
        "### Посимвольно"
      ]
    },
    {
      "cell_type": "code",
      "source": [
        "import numpy as np\n",
        "import tensorflow as tf\n",
        "import string\n",
        "from tqdm import tqdm\n",
        "import os"
      ],
      "metadata": {
        "id": "c1H-qhXLO1Yb"
      },
      "execution_count": 1,
      "outputs": []
    },
    {
      "cell_type": "code",
      "metadata": {
        "id": "sGedX9hbIIIn"
      },
      "source": [
        "from keras.models import Model\n",
        "from keras.layers import Input, LSTM, Dense"
      ],
      "execution_count": 2,
      "outputs": []
    },
    {
      "cell_type": "code",
      "source": [
        "!wget http://www.manythings.org/anki/rus-eng.zip"
      ],
      "metadata": {
        "colab": {
          "base_uri": "https://localhost:8080/"
        },
        "id": "_98PAF1YOSDe",
        "outputId": "764c2597-14b3-474e-e653-ca29562eefc6"
      },
      "execution_count": 3,
      "outputs": [
        {
          "output_type": "stream",
          "name": "stdout",
          "text": [
            "--2024-03-06 14:49:27--  http://www.manythings.org/anki/rus-eng.zip\n",
            "Resolving www.manythings.org (www.manythings.org)... 173.254.30.110\n",
            "Connecting to www.manythings.org (www.manythings.org)|173.254.30.110|:80... connected.\n",
            "HTTP request sent, awaiting response... 200 OK\n",
            "Length: 16065699 (15M) [application/zip]\n",
            "Saving to: ‘rus-eng.zip’\n",
            "\n",
            "rus-eng.zip         100%[===================>]  15.32M  53.1MB/s    in 0.3s    \n",
            "\n",
            "2024-03-06 14:49:28 (53.1 MB/s) - ‘rus-eng.zip’ saved [16065699/16065699]\n",
            "\n"
          ]
        }
      ]
    },
    {
      "cell_type": "code",
      "source": [
        "!mkdir rus-eng\n",
        "!unzip rus-eng.zip -d rus-eng/"
      ],
      "metadata": {
        "colab": {
          "base_uri": "https://localhost:8080/"
        },
        "id": "BOEyZNiKOWMq",
        "outputId": "d3a8ca56-4bf8-4589-bfde-fcd0178abbfa"
      },
      "execution_count": 4,
      "outputs": [
        {
          "output_type": "stream",
          "name": "stdout",
          "text": [
            "Archive:  rus-eng.zip\n",
            "  inflating: rus-eng/rus.txt         \n",
            "  inflating: rus-eng/_about.txt      \n"
          ]
        }
      ]
    },
    {
      "cell_type": "code",
      "metadata": {
        "id": "0m9lMzpW4lbR"
      },
      "source": [
        "batch_size = 256\n",
        "epochs = 70\n",
        "latent_dim = 256\n",
        "num_samples = 20000\n",
        "data_path = '/content/rus-eng/rus.txt'"
      ],
      "execution_count": 21,
      "outputs": []
    },
    {
      "cell_type": "code",
      "metadata": {
        "id": "r61xgg1g5zPt"
      },
      "source": [
        "# Собираем из текстов токены и делаем one-hot вектора на каждый токен\n",
        "\n",
        "input_texts = []\n",
        "target_texts = []\n",
        "input_characters = set()\n",
        "target_characters = set()\n",
        "\n",
        "with open(data_path, 'r', encoding='utf-8') as f:\n",
        "    lines = f.read().split('\\n')\n",
        "\n",
        "for line in lines[: min(num_samples, len(lines) - 1)]:\n",
        "    input_text, target_text, _ = line.split('\\t')\n",
        "    target_text = '\\t' + target_text + '\\n'\n",
        "    input_texts.append(input_text)\n",
        "    target_texts.append(target_text)\n",
        "    for char in input_text:\n",
        "        if char not in input_characters:\n",
        "            input_characters.add(char)\n",
        "    for char in target_text:\n",
        "        if char not in target_characters:\n",
        "            target_characters.add(char)\n",
        "\n",
        "input_characters = sorted(list(input_characters))\n",
        "target_characters = sorted(list(target_characters))\n",
        "num_encoder_tokens = len(input_characters)\n",
        "num_decoder_tokens = len(target_characters)\n",
        "max_encoder_seq_length = max([len(txt) for txt in input_texts])\n",
        "max_decoder_seq_length = max([len(txt) for txt in target_texts])"
      ],
      "execution_count": 22,
      "outputs": []
    },
    {
      "cell_type": "code",
      "source": [
        "input_characters[:15], input_characters[-15:]"
      ],
      "metadata": {
        "colab": {
          "base_uri": "https://localhost:8080/"
        },
        "id": "r0SBeEuyO_SQ",
        "outputId": "1a5f328c-b41d-44f4-fd13-9138de9b27ea"
      },
      "execution_count": 23,
      "outputs": [
        {
          "output_type": "execute_result",
          "data": {
            "text/plain": [
              "([' ', '!', '\"', '$', '%', '&', \"'\", ',', '-', '.', '0', '1', '2', '3', '4'],\n",
              " ['m', 'n', 'o', 'p', 'q', 'r', 's', 't', 'u', 'v', 'w', 'x', 'y', 'z', 'é'])"
            ]
          },
          "metadata": {},
          "execution_count": 23
        }
      ]
    },
    {
      "cell_type": "code",
      "metadata": {
        "id": "nvwaSyr37MEl"
      },
      "source": [
        "input_token_index = dict(\n",
        "    [(char, i) for i, char in enumerate(input_characters)])\n",
        "target_token_index = dict(\n",
        "    [(char, i) for i, char in enumerate(target_characters)])"
      ],
      "execution_count": 24,
      "outputs": []
    },
    {
      "cell_type": "code",
      "metadata": {
        "id": "jstbUCYf72m6"
      },
      "source": [
        "encoder_input_data = np.zeros(\n",
        "    (len(input_texts), max_encoder_seq_length, num_encoder_tokens),\n",
        "    dtype='float32')\n",
        "decoder_input_data = np.zeros(\n",
        "    (len(input_texts), max_decoder_seq_length, num_decoder_tokens),\n",
        "    dtype='float32')\n",
        "decoder_target_data = np.zeros(\n",
        "    (len(input_texts), max_decoder_seq_length, num_decoder_tokens),\n",
        "    dtype='float32')"
      ],
      "execution_count": 25,
      "outputs": []
    },
    {
      "cell_type": "code",
      "metadata": {
        "id": "R_99USqX8bUp"
      },
      "source": [
        "for i, (input_text, target_text) in enumerate(zip(input_texts, target_texts)):\n",
        "    for t, char in enumerate(input_text):\n",
        "        encoder_input_data[i, t, input_token_index[char]] = 1.\n",
        "    encoder_input_data[i, t + 1:, input_token_index[' ']] = 1.\n",
        "    for t, char in enumerate(target_text):\n",
        "        decoder_input_data[i, t, target_token_index[char]] = 1.\n",
        "        if t > 0:\n",
        "            decoder_target_data[i, t - 1, target_token_index[char]] = 1.\n",
        "    decoder_input_data[i, t + 1:, target_token_index[' ']] = 1.\n",
        "    decoder_target_data[i, t:, target_token_index[' ']] = 1."
      ],
      "execution_count": 26,
      "outputs": []
    },
    {
      "cell_type": "code",
      "metadata": {
        "id": "jc7AzS6D8gzm",
        "outputId": "4b860434-8b3f-48f3-d9a5-44bc06052cbe",
        "colab": {
          "base_uri": "https://localhost:8080/"
        }
      },
      "source": [
        "encoder_inputs = Input(shape=(None, num_encoder_tokens))\n",
        "encoder = LSTM(latent_dim, return_state=True)\n",
        "encoder_outputs, state_h, state_c = encoder(encoder_inputs)\n",
        "encoder_states = [state_h, state_c]\n",
        "\n",
        "decoder_inputs = Input(shape=(None, num_decoder_tokens))\n",
        "decoder_lstm = LSTM(latent_dim, return_sequences=True, return_state=True)\n",
        "decoder_outputs, _, _ = decoder_lstm(decoder_inputs,\n",
        "                                     initial_state=encoder_states)\n",
        "decoder_dense = Dense(num_decoder_tokens, activation='softmax')\n",
        "decoder_outputs = decoder_dense(decoder_outputs)\n",
        "\n",
        "model = Model([encoder_inputs, decoder_inputs], decoder_outputs)\n",
        "\n",
        "model.compile(optimizer='adam', loss='categorical_crossentropy',\n",
        "              metrics=['accuracy'])\n",
        "model.fit([encoder_input_data, decoder_input_data], decoder_target_data,\n",
        "          batch_size=batch_size,\n",
        "          epochs=epochs,\n",
        "          validation_split=0.2)\n",
        "\n",
        "encoder_model = Model(encoder_inputs, encoder_states)\n",
        "\n",
        "decoder_state_input_h = Input(shape=(latent_dim,))\n",
        "decoder_state_input_c = Input(shape=(latent_dim,))\n",
        "decoder_states_inputs = [decoder_state_input_h, decoder_state_input_c]\n",
        "decoder_outputs, state_h, state_c = decoder_lstm(\n",
        "    decoder_inputs, initial_state=decoder_states_inputs)\n",
        "decoder_states = [state_h, state_c]\n",
        "decoder_outputs = decoder_dense(decoder_outputs)\n",
        "decoder_model = Model(\n",
        "    [decoder_inputs] + decoder_states_inputs,\n",
        "    [decoder_outputs] + decoder_states)\n",
        "\n",
        "reverse_input_char_index = dict(\n",
        "    (i, char) for char, i in input_token_index.items())\n",
        "reverse_target_char_index = dict(\n",
        "    (i, char) for char, i in target_token_index.items())"
      ],
      "execution_count": 27,
      "outputs": [
        {
          "output_type": "stream",
          "name": "stdout",
          "text": [
            "Epoch 1/70\n",
            "63/63 [==============================] - 7s 49ms/step - loss: 1.4685 - accuracy: 0.7544 - val_loss: 1.1857 - val_accuracy: 0.7398\n",
            "Epoch 2/70\n",
            "63/63 [==============================] - 2s 29ms/step - loss: 0.9155 - accuracy: 0.7678 - val_loss: 0.9586 - val_accuracy: 0.7432\n",
            "Epoch 3/70\n",
            "63/63 [==============================] - 2s 29ms/step - loss: 0.8067 - accuracy: 0.7774 - val_loss: 0.8870 - val_accuracy: 0.7604\n",
            "Epoch 4/70\n",
            "63/63 [==============================] - 2s 31ms/step - loss: 0.7432 - accuracy: 0.8028 - val_loss: 0.8220 - val_accuracy: 0.7812\n",
            "Epoch 5/70\n",
            "63/63 [==============================] - 2s 33ms/step - loss: 0.6820 - accuracy: 0.8211 - val_loss: 0.7549 - val_accuracy: 0.8002\n",
            "Epoch 6/70\n",
            "63/63 [==============================] - 2s 34ms/step - loss: 0.6242 - accuracy: 0.8314 - val_loss: 0.7038 - val_accuracy: 0.8058\n",
            "Epoch 7/70\n",
            "63/63 [==============================] - 2s 29ms/step - loss: 0.5848 - accuracy: 0.8373 - val_loss: 0.6716 - val_accuracy: 0.8108\n",
            "Epoch 8/70\n",
            "63/63 [==============================] - 2s 31ms/step - loss: 0.5590 - accuracy: 0.8419 - val_loss: 0.6439 - val_accuracy: 0.8167\n",
            "Epoch 9/70\n",
            "63/63 [==============================] - 2s 30ms/step - loss: 0.5393 - accuracy: 0.8462 - val_loss: 0.6229 - val_accuracy: 0.8221\n",
            "Epoch 10/70\n",
            "63/63 [==============================] - 2s 29ms/step - loss: 0.5214 - accuracy: 0.8508 - val_loss: 0.6065 - val_accuracy: 0.8273\n",
            "Epoch 11/70\n",
            "63/63 [==============================] - 2s 31ms/step - loss: 0.5074 - accuracy: 0.8545 - val_loss: 0.5927 - val_accuracy: 0.8317\n",
            "Epoch 12/70\n",
            "63/63 [==============================] - 2s 34ms/step - loss: 0.4934 - accuracy: 0.8579 - val_loss: 0.5826 - val_accuracy: 0.8327\n",
            "Epoch 13/70\n",
            "63/63 [==============================] - 2s 33ms/step - loss: 0.4826 - accuracy: 0.8608 - val_loss: 0.5714 - val_accuracy: 0.8364\n",
            "Epoch 14/70\n",
            "63/63 [==============================] - 2s 30ms/step - loss: 0.4725 - accuracy: 0.8634 - val_loss: 0.5620 - val_accuracy: 0.8393\n",
            "Epoch 15/70\n",
            "63/63 [==============================] - 2s 30ms/step - loss: 0.4632 - accuracy: 0.8662 - val_loss: 0.5524 - val_accuracy: 0.8425\n",
            "Epoch 16/70\n",
            "63/63 [==============================] - 2s 31ms/step - loss: 0.4544 - accuracy: 0.8686 - val_loss: 0.5461 - val_accuracy: 0.8434\n",
            "Epoch 17/70\n",
            "63/63 [==============================] - 2s 31ms/step - loss: 0.4477 - accuracy: 0.8704 - val_loss: 0.5397 - val_accuracy: 0.8454\n",
            "Epoch 18/70\n",
            "63/63 [==============================] - 2s 33ms/step - loss: 0.4394 - accuracy: 0.8727 - val_loss: 0.5337 - val_accuracy: 0.8478\n",
            "Epoch 19/70\n",
            "63/63 [==============================] - 2s 35ms/step - loss: 0.4321 - accuracy: 0.8749 - val_loss: 0.5310 - val_accuracy: 0.8476\n",
            "Epoch 20/70\n",
            "63/63 [==============================] - 2s 30ms/step - loss: 0.4259 - accuracy: 0.8765 - val_loss: 0.5243 - val_accuracy: 0.8487\n",
            "Epoch 21/70\n",
            "63/63 [==============================] - 2s 32ms/step - loss: 0.4191 - accuracy: 0.8786 - val_loss: 0.5150 - val_accuracy: 0.8523\n",
            "Epoch 22/70\n",
            "63/63 [==============================] - 2s 30ms/step - loss: 0.4123 - accuracy: 0.8805 - val_loss: 0.5119 - val_accuracy: 0.8527\n",
            "Epoch 23/70\n",
            "63/63 [==============================] - 2s 31ms/step - loss: 0.4067 - accuracy: 0.8819 - val_loss: 0.5094 - val_accuracy: 0.8534\n",
            "Epoch 24/70\n",
            "63/63 [==============================] - 2s 30ms/step - loss: 0.4006 - accuracy: 0.8838 - val_loss: 0.5014 - val_accuracy: 0.8564\n",
            "Epoch 25/70\n",
            "63/63 [==============================] - 2s 34ms/step - loss: 0.3947 - accuracy: 0.8854 - val_loss: 0.4971 - val_accuracy: 0.8569\n",
            "Epoch 26/70\n",
            "63/63 [==============================] - 2s 31ms/step - loss: 0.3886 - accuracy: 0.8873 - val_loss: 0.4936 - val_accuracy: 0.8579\n",
            "Epoch 27/70\n",
            "63/63 [==============================] - 2s 31ms/step - loss: 0.3843 - accuracy: 0.8885 - val_loss: 0.4914 - val_accuracy: 0.8584\n",
            "Epoch 28/70\n",
            "63/63 [==============================] - 2s 30ms/step - loss: 0.3787 - accuracy: 0.8899 - val_loss: 0.4870 - val_accuracy: 0.8605\n",
            "Epoch 29/70\n",
            "63/63 [==============================] - 2s 30ms/step - loss: 0.3734 - accuracy: 0.8914 - val_loss: 0.4825 - val_accuracy: 0.8613\n",
            "Epoch 30/70\n",
            "63/63 [==============================] - 2s 31ms/step - loss: 0.3678 - accuracy: 0.8932 - val_loss: 0.4786 - val_accuracy: 0.8635\n",
            "Epoch 31/70\n",
            "63/63 [==============================] - 2s 33ms/step - loss: 0.3637 - accuracy: 0.8943 - val_loss: 0.4803 - val_accuracy: 0.8630\n",
            "Epoch 32/70\n",
            "63/63 [==============================] - 2s 34ms/step - loss: 0.3584 - accuracy: 0.8958 - val_loss: 0.4740 - val_accuracy: 0.8647\n",
            "Epoch 33/70\n",
            "63/63 [==============================] - 2s 31ms/step - loss: 0.3532 - accuracy: 0.8973 - val_loss: 0.4721 - val_accuracy: 0.8647\n",
            "Epoch 34/70\n",
            "63/63 [==============================] - 2s 31ms/step - loss: 0.3488 - accuracy: 0.8986 - val_loss: 0.4686 - val_accuracy: 0.8657\n",
            "Epoch 35/70\n",
            "63/63 [==============================] - 2s 30ms/step - loss: 0.3448 - accuracy: 0.8996 - val_loss: 0.4660 - val_accuracy: 0.8658\n",
            "Epoch 36/70\n",
            "63/63 [==============================] - 2s 30ms/step - loss: 0.3392 - accuracy: 0.9012 - val_loss: 0.4646 - val_accuracy: 0.8677\n",
            "Epoch 37/70\n",
            "63/63 [==============================] - 2s 29ms/step - loss: 0.3351 - accuracy: 0.9025 - val_loss: 0.4626 - val_accuracy: 0.8675\n",
            "Epoch 38/70\n",
            "63/63 [==============================] - 2s 34ms/step - loss: 0.3310 - accuracy: 0.9035 - val_loss: 0.4639 - val_accuracy: 0.8681\n",
            "Epoch 39/70\n",
            "63/63 [==============================] - 2s 31ms/step - loss: 0.3268 - accuracy: 0.9047 - val_loss: 0.4590 - val_accuracy: 0.8689\n",
            "Epoch 40/70\n",
            "63/63 [==============================] - 2s 29ms/step - loss: 0.3222 - accuracy: 0.9060 - val_loss: 0.4570 - val_accuracy: 0.8699\n",
            "Epoch 41/70\n",
            "63/63 [==============================] - 2s 29ms/step - loss: 0.3178 - accuracy: 0.9070 - val_loss: 0.4564 - val_accuracy: 0.8705\n",
            "Epoch 42/70\n",
            "63/63 [==============================] - 2s 31ms/step - loss: 0.3140 - accuracy: 0.9081 - val_loss: 0.4541 - val_accuracy: 0.8704\n",
            "Epoch 43/70\n",
            "63/63 [==============================] - 2s 29ms/step - loss: 0.3092 - accuracy: 0.9096 - val_loss: 0.4527 - val_accuracy: 0.8717\n",
            "Epoch 44/70\n",
            "63/63 [==============================] - 2s 32ms/step - loss: 0.3059 - accuracy: 0.9105 - val_loss: 0.4529 - val_accuracy: 0.8714\n",
            "Epoch 45/70\n",
            "63/63 [==============================] - 2s 35ms/step - loss: 0.3013 - accuracy: 0.9118 - val_loss: 0.4518 - val_accuracy: 0.8723\n",
            "Epoch 46/70\n",
            "63/63 [==============================] - 2s 30ms/step - loss: 0.2973 - accuracy: 0.9127 - val_loss: 0.4529 - val_accuracy: 0.8720\n",
            "Epoch 47/70\n",
            "63/63 [==============================] - 2s 29ms/step - loss: 0.2933 - accuracy: 0.9140 - val_loss: 0.4476 - val_accuracy: 0.8730\n",
            "Epoch 48/70\n",
            "63/63 [==============================] - 2s 31ms/step - loss: 0.2894 - accuracy: 0.9151 - val_loss: 0.4494 - val_accuracy: 0.8736\n",
            "Epoch 49/70\n",
            "63/63 [==============================] - 2s 29ms/step - loss: 0.2854 - accuracy: 0.9163 - val_loss: 0.4486 - val_accuracy: 0.8734\n",
            "Epoch 50/70\n",
            "63/63 [==============================] - 2s 31ms/step - loss: 0.2826 - accuracy: 0.9171 - val_loss: 0.4464 - val_accuracy: 0.8743\n",
            "Epoch 51/70\n",
            "63/63 [==============================] - 2s 33ms/step - loss: 0.2784 - accuracy: 0.9182 - val_loss: 0.4477 - val_accuracy: 0.8747\n",
            "Epoch 52/70\n",
            "63/63 [==============================] - 2s 35ms/step - loss: 0.2742 - accuracy: 0.9193 - val_loss: 0.4474 - val_accuracy: 0.8749\n",
            "Epoch 53/70\n",
            "63/63 [==============================] - 2s 29ms/step - loss: 0.2696 - accuracy: 0.9208 - val_loss: 0.4447 - val_accuracy: 0.8755\n",
            "Epoch 54/70\n",
            "63/63 [==============================] - 2s 30ms/step - loss: 0.2660 - accuracy: 0.9219 - val_loss: 0.4442 - val_accuracy: 0.8756\n",
            "Epoch 55/70\n",
            "63/63 [==============================] - 2s 30ms/step - loss: 0.2626 - accuracy: 0.9228 - val_loss: 0.4494 - val_accuracy: 0.8751\n",
            "Epoch 56/70\n",
            "63/63 [==============================] - 2s 29ms/step - loss: 0.2587 - accuracy: 0.9239 - val_loss: 0.4457 - val_accuracy: 0.8761\n",
            "Epoch 57/70\n",
            "63/63 [==============================] - 2s 30ms/step - loss: 0.3122 - accuracy: 0.9119 - val_loss: 0.5811 - val_accuracy: 0.8407\n",
            "Epoch 58/70\n",
            "63/63 [==============================] - 2s 35ms/step - loss: 0.3650 - accuracy: 0.8921 - val_loss: 0.4563 - val_accuracy: 0.8690\n",
            "Epoch 59/70\n",
            "63/63 [==============================] - 2s 33ms/step - loss: 0.3053 - accuracy: 0.9097 - val_loss: 0.4418 - val_accuracy: 0.8740\n",
            "Epoch 60/70\n",
            "63/63 [==============================] - 2s 30ms/step - loss: 0.2835 - accuracy: 0.9164 - val_loss: 0.4395 - val_accuracy: 0.8755\n",
            "Epoch 61/70\n",
            "63/63 [==============================] - 2s 31ms/step - loss: 0.2709 - accuracy: 0.9201 - val_loss: 0.4383 - val_accuracy: 0.8771\n",
            "Epoch 62/70\n",
            "63/63 [==============================] - 2s 30ms/step - loss: 0.2629 - accuracy: 0.9224 - val_loss: 0.4396 - val_accuracy: 0.8769\n",
            "Epoch 63/70\n",
            "63/63 [==============================] - 2s 29ms/step - loss: 0.2566 - accuracy: 0.9244 - val_loss: 0.4425 - val_accuracy: 0.8761\n",
            "Epoch 64/70\n",
            "63/63 [==============================] - 2s 32ms/step - loss: 0.2512 - accuracy: 0.9261 - val_loss: 0.4409 - val_accuracy: 0.8780\n",
            "Epoch 65/70\n",
            "63/63 [==============================] - 2s 35ms/step - loss: 0.2467 - accuracy: 0.9274 - val_loss: 0.4414 - val_accuracy: 0.8777\n",
            "Epoch 66/70\n",
            "63/63 [==============================] - 2s 30ms/step - loss: 0.2423 - accuracy: 0.9286 - val_loss: 0.4431 - val_accuracy: 0.8778\n",
            "Epoch 67/70\n",
            "63/63 [==============================] - 2s 31ms/step - loss: 0.2382 - accuracy: 0.9298 - val_loss: 0.4451 - val_accuracy: 0.8774\n",
            "Epoch 68/70\n",
            "63/63 [==============================] - 2s 30ms/step - loss: 0.2347 - accuracy: 0.9309 - val_loss: 0.4419 - val_accuracy: 0.8786\n",
            "Epoch 69/70\n",
            "63/63 [==============================] - 2s 31ms/step - loss: 0.2315 - accuracy: 0.9316 - val_loss: 0.4431 - val_accuracy: 0.8784\n",
            "Epoch 70/70\n",
            "63/63 [==============================] - 2s 30ms/step - loss: 0.2277 - accuracy: 0.9328 - val_loss: 0.4445 - val_accuracy: 0.8784\n"
          ]
        }
      ]
    },
    {
      "cell_type": "code",
      "metadata": {
        "id": "rwb_ftoE_8Ca"
      },
      "source": [
        "def decode_sequence(input_seq):\n",
        "    states_value = encoder_model.predict(input_seq, verbose=None)\n",
        "\n",
        "    target_seq = np.zeros((1, 1, num_decoder_tokens))\n",
        "    target_seq[0, 0, target_token_index['\\t']] = 1.\n",
        "\n",
        "    stop_condition = False\n",
        "    decoded_sentence = ''\n",
        "    while not stop_condition:\n",
        "        output_tokens, h, c = decoder_model.predict(\n",
        "            [target_seq] + states_value, verbose=None)\n",
        "\n",
        "        sampled_token_index = np.argmax(output_tokens[0, -1, :])\n",
        "        sampled_char = reverse_target_char_index[sampled_token_index]\n",
        "        decoded_sentence += sampled_char\n",
        "\n",
        "        if (sampled_char == '\\n' or\n",
        "           len(decoded_sentence) > max_decoder_seq_length):\n",
        "            stop_condition = True\n",
        "        target_seq = np.zeros((1, 1, num_decoder_tokens))\n",
        "        target_seq[0, 0, sampled_token_index] = 1.\n",
        "\n",
        "        states_value = [h, c]\n",
        "\n",
        "    return decoded_sentence"
      ],
      "execution_count": 32,
      "outputs": []
    },
    {
      "cell_type": "code",
      "metadata": {
        "id": "rl8LUX41ABIv",
        "outputId": "abae7aba-1de1-4769-b934-c1ec9649a555",
        "colab": {
          "base_uri": "https://localhost:8080/"
        }
      },
      "source": [
        "for seq_index in range(0, 20000, 500):\n",
        "    input_seq = encoder_input_data[seq_index: seq_index + 1]\n",
        "    decoded_sentence = decode_sequence(input_seq)\n",
        "    print('-')\n",
        "    print('Input sentence:', input_texts[seq_index])\n",
        "    print('Decoded sentence:', decoded_sentence)"
      ],
      "execution_count": 33,
      "outputs": [
        {
          "output_type": "stream",
          "name": "stdout",
          "text": [
            "-\n",
            "Input sentence: Go.\n",
            "Decoded sentence: Подожди.\n",
            "\n",
            "-\n",
            "Input sentence: Who ate?\n",
            "Decoded sentence: Кто это сделал?\n",
            "\n",
            "-\n",
            "Input sentence: Touch it.\n",
            "Decoded sentence: Потрогай её.\n",
            "\n",
            "-\n",
            "Input sentence: I'm dirty.\n",
            "Decoded sentence: Я прованился.\n",
            "\n",
            "-\n",
            "Input sentence: Tom's shy.\n",
            "Decoded sentence: Том в стреня.\n",
            "\n",
            "-\n",
            "Input sentence: I envy you.\n",
            "Decoded sentence: Я вазадую тебя.\n",
            "\n",
            "-\n",
            "Input sentence: It's green.\n",
            "Decoded sentence: Оно застренно.\n",
            "\n",
            "-\n",
            "Input sentence: We'll cook.\n",
            "Decoded sentence: Мы пойдём.\n",
            "\n",
            "-\n",
            "Input sentence: Have a look.\n",
            "Decoded sentence: Поеходи.\n",
            "\n",
            "-\n",
            "Input sentence: I saved you.\n",
            "Decoded sentence: Я вас разбила.\n",
            "\n",
            "-\n",
            "Input sentence: Is it there?\n",
            "Decoded sentence: Он странно?\n",
            "\n",
            "-\n",
            "Input sentence: Stop crying.\n",
            "Decoded sentence: Перестань хратиться!\n",
            "\n",
            "-\n",
            "Input sentence: We miss you.\n",
            "Decoded sentence: Мы слышали это.\n",
            "\n",
            "-\n",
            "Input sentence: Are you tall?\n",
            "Decoded sentence: Ты в порядке?\n",
            "\n",
            "-\n",
            "Input sentence: Hey, wake up!\n",
            "Decoded sentence: Эй, проснить!\n",
            "\n",
            "-\n",
            "Input sentence: I was lonely.\n",
            "Decoded sentence: Я была занят.\n",
            "\n",
            "-\n",
            "Input sentence: I'm very hot.\n",
            "Decoded sentence: Я очень старый.\n",
            "\n",
            "-\n",
            "Input sentence: Must I hurry?\n",
            "Decoded sentence: Мне спеть идти получилось.\n",
            "\n",
            "-\n",
            "Input sentence: They're ugly.\n",
            "Decoded sentence: Они постали.\n",
            "\n",
            "-\n",
            "Input sentence: We have time.\n",
            "Decoded sentence: У нас есть вино.\n",
            "\n",
            "-\n",
            "Input sentence: You're scary.\n",
            "Decoded sentence: Вы слешим.\n",
            "\n",
            "-\n",
            "Input sentence: Don't be mean.\n",
            "Decoded sentence: Не ходи кричны.\n",
            "\n",
            "-\n",
            "Input sentence: I am divorced.\n",
            "Decoded sentence: Я в умуску.\n",
            "\n",
            "-\n",
            "Input sentence: I miss Boston.\n",
            "Decoded sentence: Я скучаю по помощею.\n",
            "\n",
            "-\n",
            "Input sentence: I'll get some.\n",
            "Decoded sentence: Я пойду спочем.\n",
            "\n",
            "-\n",
            "Input sentence: Is Tom around?\n",
            "Decoded sentence: Том болен?\n",
            "\n",
            "-\n",
            "Input sentence: Listen to Tom.\n",
            "Decoded sentence: Послушайте мне.\n",
            "\n",
            "-\n",
            "Input sentence: Stop scowling.\n",
            "Decoded sentence: Перестань проваться.\n",
            "\n",
            "-\n",
            "Input sentence: Tom has a cat.\n",
            "Decoded sentence: У Тома есть корока.\n",
            "\n",
            "-\n",
            "Input sentence: Turn the page.\n",
            "Decoded sentence: Переверни наму.\n",
            "\n",
            "-\n",
            "Input sentence: Who was wrong?\n",
            "Decoded sentence: Кто тебя поделжен?\n",
            "\n",
            "-\n",
            "Input sentence: Aren't you Tom?\n",
            "Decoded sentence: Вы не Том?\n",
            "\n",
            "-\n",
            "Input sentence: Do you promise?\n",
            "Decoded sentence: Ты меняте потробовать?\n",
            "\n",
            "-\n",
            "Input sentence: He is handsome.\n",
            "Decoded sentence: Он нановится.\n",
            "\n",
            "-\n",
            "Input sentence: I got up early.\n",
            "Decoded sentence: Я полазорали.\n",
            "\n",
            "-\n",
            "Input sentence: I said shut up!\n",
            "Decoded sentence: Я сказал себяю слабой меня полинился.\n",
            "\n",
            "-\n",
            "Input sentence: I'm an old man.\n",
            "Decoded sentence: Я в нанце.\n",
            "\n",
            "-\n",
            "Input sentence: It was serious.\n",
            "Decoded sentence: Это было не постоное.\n",
            "\n",
            "-\n",
            "Input sentence: Mary is a girl.\n",
            "Decoded sentence: Мэри скриния.\n",
            "\n",
            "-\n",
            "Input sentence: Tell everybody.\n",
            "Decoded sentence: Скажите клю-нибу.\n",
            "\n"
          ]
        }
      ]
    },
    {
      "cell_type": "markdown",
      "metadata": {
        "id": "TZRqFdQS_YsX"
      },
      "source": [
        "## Уровень слов"
      ]
    },
    {
      "cell_type": "code",
      "metadata": {
        "id": "lmudPG4KDdZi"
      },
      "source": [
        "import re\n",
        "# import tensorflow.compat.v1 as tf\n",
        "import tensorflow as tf"
      ],
      "execution_count": 34,
      "outputs": []
    },
    {
      "cell_type": "code",
      "metadata": {
        "id": "aBWA4KXL_9jE"
      },
      "source": [
        "# tf.enable_eager_execution()\n",
        "\n",
        "input_texts = []\n",
        "target_texts = []\n",
        "\n",
        "def preprocess_sentence(w):\n",
        "    w = re.sub(r\"([?.!,¿])\", r\" \\1 \", w)\n",
        "    w = re.sub(r'[\" \"]+', \" \", w)\n",
        "    w = re.sub(r\"[^a-zA-Z?.!,¿]+\", \" \", w)\n",
        "    w = w.strip()\n",
        "    w = '<start> ' + w + ' <end>'\n",
        "    return w\n",
        "\n",
        "def preprocess_sentence_rus(w):\n",
        "    w = re.sub(r\"([?.!,¿])\", r\" \\1 \", w)\n",
        "    w = re.sub(r'[\" \"]+', \" \", w)\n",
        "    w = re.sub(r\"[^а-яА-Я?.!,¿]+\", \" \", w)\n",
        "    w = w.strip()\n",
        "    w = '<start> ' + w + ' <end>'\n",
        "    return w\n",
        "\n",
        "with open(data_path, 'r', encoding='utf-8') as f:\n",
        "    lines = f.read().split('\\n')\n",
        "\n",
        "for line in lines[: min(num_samples, len(lines) - 1)]:\n",
        "    input_text, target_text, _ = line.split('\\t')\n",
        "    target_text = '\\t' + target_text + '\\n'\n",
        "    input_texts.append(preprocess_sentence(input_text))\n",
        "    target_texts.append(preprocess_sentence_rus(target_text))"
      ],
      "execution_count": 36,
      "outputs": []
    },
    {
      "cell_type": "code",
      "metadata": {
        "id": "izbPKil_9mNo"
      },
      "source": [
        "def tokenize(lang):\n",
        "    lang_tokenizer = tf.keras.preprocessing.text.Tokenizer(\n",
        "      filters='')\n",
        "    lang_tokenizer.fit_on_texts(lang)\n",
        "    tensor = lang_tokenizer.texts_to_sequences(lang)\n",
        "    tensor = tf.keras.preprocessing.sequence.pad_sequences(tensor,\n",
        "                                                         padding='post')\n",
        "    return tensor, lang_tokenizer"
      ],
      "execution_count": 37,
      "outputs": []
    },
    {
      "cell_type": "code",
      "metadata": {
        "id": "zRwmxhemD1Tg"
      },
      "source": [
        "input_tensor, inp_lang_tokenizer = tokenize(input_texts)\n",
        "target_tensor, targ_lang_tokenizer = tokenize(target_texts)"
      ],
      "execution_count": 38,
      "outputs": []
    },
    {
      "cell_type": "code",
      "metadata": {
        "id": "p9IIoFYLD9rZ"
      },
      "source": [
        "from sklearn.model_selection import train_test_split\n",
        "\n",
        "input_tensor_train, input_tensor_val, target_tensor_train, target_tensor_val = train_test_split(input_tensor, target_tensor, test_size=0.2)"
      ],
      "execution_count": 39,
      "outputs": []
    },
    {
      "cell_type": "code",
      "metadata": {
        "id": "c9kEMr2mECVA"
      },
      "source": [
        "BUFFER_SIZE = len(input_tensor_train)\n",
        "BATCH_SIZE = 64\n",
        "steps_per_epoch = len(input_tensor_train)//BATCH_SIZE\n",
        "embedding_dim = 256\n",
        "units = 1024\n",
        "\n",
        "vocab_inp_size = len(inp_lang_tokenizer.word_index)+1\n",
        "vocab_tar_size = len(targ_lang_tokenizer.word_index)+1\n",
        "\n",
        "dataset = tf.data.Dataset.from_tensor_slices((input_tensor_train, target_tensor_train)).shuffle(BUFFER_SIZE)\n",
        "dataset = dataset.batch(BATCH_SIZE, drop_remainder=True)"
      ],
      "execution_count": 40,
      "outputs": []
    },
    {
      "cell_type": "code",
      "metadata": {
        "id": "pAqyjTCDEY_l"
      },
      "source": [
        "class Encoder(tf.keras.Model):\n",
        "    def __init__(self, vocab_size, embedding_dim, enc_units, batch_sz):\n",
        "        super(Encoder, self).__init__()\n",
        "        self.batch_sz = batch_sz\n",
        "        self.enc_units = enc_units\n",
        "        self.embedding = tf.keras.layers.Embedding(vocab_size, embedding_dim)\n",
        "        self.lstm = tf.keras.layers.GRU(self.enc_units,\n",
        "                                       return_sequences=True,\n",
        "                                       return_state=True)\n",
        "\n",
        "    def call(self, x, hidden):\n",
        "        x = self.embedding(x)\n",
        "        output, state = self.lstm(x, initial_state = hidden)\n",
        "        return output, state\n",
        "\n",
        "    def initialize_hidden_state(self):\n",
        "        return tf.zeros((self.batch_sz, self.enc_units))\n",
        "\n",
        "\n",
        "class BahdanauAttention(tf.keras.layers.Layer):\n",
        "    def __init__(self, units):\n",
        "        super(BahdanauAttention, self).__init__()\n",
        "        self.W1 = tf.keras.layers.Dense(units)\n",
        "        self.W2 = tf.keras.layers.Dense(units)\n",
        "        self.V = tf.keras.layers.Dense(1)\n",
        "\n",
        "    def call(self, query, values):\n",
        "        query_with_time_axis = tf.expand_dims(query, 1)\n",
        "        score = self.V(tf.nn.tanh(\n",
        "            self.W1(query_with_time_axis) + self.W2(values)))\n",
        "\n",
        "        attention_weights = tf.nn.softmax(score, axis=1)\n",
        "        context_vector = attention_weights * values\n",
        "        context_vector = tf.reduce_sum(context_vector, axis=1)\n",
        "\n",
        "        return context_vector, attention_weights\n",
        "\n",
        "\n",
        "class Decoder(tf.keras.Model):\n",
        "    def __init__(self, vocab_size, embedding_dim, dec_units, batch_sz):\n",
        "        super(Decoder, self).__init__()\n",
        "        self.batch_sz = batch_sz\n",
        "        self.dec_units = dec_units\n",
        "        self.embedding = tf.keras.layers.Embedding(vocab_size, embedding_dim)\n",
        "        self.lstm = tf.keras.layers.GRU(self.dec_units,\n",
        "                                       return_sequences=True,\n",
        "                                       return_state=True)\n",
        "        self.fc = tf.keras.layers.Dense(vocab_size)\n",
        "\n",
        "        self.attention = BahdanauAttention(self.dec_units)\n",
        "\n",
        "    def call(self, x, hidden, enc_output):\n",
        "        context_vector, attention_weights = self.attention(hidden, enc_output)\n",
        "        x = self.embedding(x)\n",
        "        x = tf.concat([tf.expand_dims(context_vector, 1), x], axis=-1)\n",
        "        output, state = self.lstm(x)\n",
        "        output = tf.reshape(output, (-1, output.shape[2]))\n",
        "        x = self.fc(output)\n",
        "        return x, state, attention_weights"
      ],
      "execution_count": 41,
      "outputs": []
    },
    {
      "cell_type": "code",
      "metadata": {
        "id": "ue6tmjOpHVTy"
      },
      "source": [
        "encoder = Encoder(vocab_inp_size, embedding_dim, units, BATCH_SIZE)\n",
        "decoder = Decoder(vocab_tar_size, embedding_dim, units, BATCH_SIZE)\n",
        "\n",
        "optimizer = tf.keras.optimizers.Adam()\n",
        "loss_object = tf.keras.losses.SparseCategoricalCrossentropy(\n",
        "    from_logits=True, reduction='none')\n",
        "\n",
        "def loss_function(real, pred):\n",
        "    mask = tf.math.logical_not(tf.math.equal(real, 0))\n",
        "    loss_ = loss_object(real, pred)\n",
        "\n",
        "    mask = tf.cast(mask, dtype=loss_.dtype)\n",
        "    loss_ *= mask\n",
        "\n",
        "    return tf.reduce_mean(loss_)"
      ],
      "execution_count": 42,
      "outputs": []
    },
    {
      "cell_type": "code",
      "metadata": {
        "id": "nQFSakRwFjph"
      },
      "source": [
        "@tf.function\n",
        "def train_step(inp, targ, enc_hidden):\n",
        "    loss = 0\n",
        "\n",
        "    with tf.GradientTape() as tape:\n",
        "        enc_output, enc_hidden = encoder(inp, enc_hidden)\n",
        "        dec_hidden = enc_hidden\n",
        "        dec_input = tf.expand_dims([targ_lang_tokenizer.word_index['<start>']] * BATCH_SIZE, 1)\n",
        "\n",
        "        for t in range(1, targ.shape[1]):\n",
        "            predictions, dec_hidden, _ = decoder(dec_input, dec_hidden, enc_output)\n",
        "            loss += loss_function(targ[:, t], predictions)\n",
        "            dec_input = tf.expand_dims(targ[:, t], 1)\n",
        "\n",
        "    batch_loss = (loss / int(targ.shape[1]))\n",
        "    variables = encoder.trainable_variables + decoder.trainable_variables\n",
        "    gradients = tape.gradient(loss, variables)\n",
        "    optimizer.apply_gradients(zip(gradients, variables))\n",
        "    return batch_loss"
      ],
      "execution_count": 43,
      "outputs": []
    },
    {
      "cell_type": "code",
      "metadata": {
        "id": "c6U32GBYGn6q",
        "outputId": "144c7997-79d1-45ea-d132-0298631ced03",
        "colab": {
          "base_uri": "https://localhost:8080/"
        }
      },
      "source": [
        "EPOCHS = 35\n",
        "for epoch in range(EPOCHS):\n",
        "    enc_hidden = encoder.initialize_hidden_state()\n",
        "    total_loss = 0\n",
        "\n",
        "    for (batch, (inp, targ)) in enumerate(dataset.take(steps_per_epoch)):\n",
        "        batch_loss = train_step(inp, targ, enc_hidden)\n",
        "        total_loss += batch_loss\n",
        "\n",
        "    print('Epoch {} Loss {:.4f}'.format(epoch + 1,\n",
        "                                      total_loss / steps_per_epoch))"
      ],
      "execution_count": 44,
      "outputs": [
        {
          "output_type": "stream",
          "name": "stdout",
          "text": [
            "Epoch 1 Loss 1.6509\n",
            "Epoch 2 Loss 1.1737\n",
            "Epoch 3 Loss 0.9304\n",
            "Epoch 4 Loss 0.7179\n",
            "Epoch 5 Loss 0.5353\n",
            "Epoch 6 Loss 0.4087\n",
            "Epoch 7 Loss 0.3243\n",
            "Epoch 8 Loss 0.2696\n",
            "Epoch 9 Loss 0.2349\n",
            "Epoch 10 Loss 0.2100\n",
            "Epoch 11 Loss 0.1935\n",
            "Epoch 12 Loss 0.1805\n",
            "Epoch 13 Loss 0.1727\n",
            "Epoch 14 Loss 0.1667\n",
            "Epoch 15 Loss 0.1602\n",
            "Epoch 16 Loss 0.1540\n",
            "Epoch 17 Loss 0.1503\n",
            "Epoch 18 Loss 0.1469\n",
            "Epoch 19 Loss 0.1433\n",
            "Epoch 20 Loss 0.1411\n",
            "Epoch 21 Loss 0.1411\n",
            "Epoch 22 Loss 0.1381\n",
            "Epoch 23 Loss 0.1345\n",
            "Epoch 24 Loss 0.1324\n",
            "Epoch 25 Loss 0.1306\n",
            "Epoch 26 Loss 0.1297\n",
            "Epoch 27 Loss 0.1274\n",
            "Epoch 28 Loss 0.1263\n",
            "Epoch 29 Loss 0.1243\n",
            "Epoch 30 Loss 0.1221\n",
            "Epoch 31 Loss 0.1203\n",
            "Epoch 32 Loss 0.1188\n",
            "Epoch 33 Loss 0.1177\n",
            "Epoch 34 Loss 0.1171\n",
            "Epoch 35 Loss 0.1179\n"
          ]
        }
      ]
    },
    {
      "cell_type": "code",
      "metadata": {
        "id": "6Q75W9BaG89n"
      },
      "source": [
        "max_length_targ, max_length_inp = target_tensor.shape[1], input_tensor.shape[1]\n",
        "\n",
        "def evaluate(sentence):\n",
        "    attention_plot = np.zeros((max_length_targ, max_length_inp))\n",
        "    sentence = preprocess_sentence(sentence)\n",
        "    inputs = [inp_lang_tokenizer.word_index[i] for i in sentence.split(' ')]\n",
        "    inputs = tf.keras.preprocessing.sequence.pad_sequences([inputs],\n",
        "                                                         maxlen=max_length_inp,\n",
        "                                                         padding='post')\n",
        "    inputs = tf.convert_to_tensor(inputs)\n",
        "    result = ''\n",
        "    hidden = [tf.zeros((1, units))]\n",
        "    enc_out, enc_hidden = encoder(inputs, hidden)\n",
        "    dec_hidden = enc_hidden\n",
        "    dec_input = tf.expand_dims([targ_lang_tokenizer.word_index['<start>']], 0)\n",
        "\n",
        "    for t in range(max_length_targ):\n",
        "        predictions, dec_hidden, attention_weights = decoder(dec_input,\n",
        "                                                             dec_hidden,\n",
        "                                                             enc_out)\n",
        "        attention_weights = tf.reshape(attention_weights, (-1, ))\n",
        "        attention_plot[t] = attention_weights.numpy()\n",
        "\n",
        "        predicted_id = tf.argmax(predictions[0]).numpy()\n",
        "\n",
        "        result += targ_lang_tokenizer.index_word[predicted_id] + ' '\n",
        "\n",
        "        if targ_lang_tokenizer.index_word[predicted_id] == '<end>':\n",
        "            return result, sentence, attention_plot\n",
        "        dec_input = tf.expand_dims([predicted_id], 0)\n",
        "    return result, sentence, attention_plot\n",
        "\n",
        "def plot_attention(attention, sentence, predicted_sentence):\n",
        "    fig = plt.figure(figsize=(10,10))\n",
        "    ax = fig.add_subplot(1, 1, 1)\n",
        "    ax.matshow(attention, cmap='viridis')\n",
        "    fontdict = {'fontsize': 14}\n",
        "    ax.set_xticklabels([''] + sentence, fontdict=fontdict, rotation=90)\n",
        "    ax.set_yticklabels([''] + predicted_sentence, fontdict=fontdict)\n",
        "    #ax.xaxis.set_major_locator(ticker.MultipleLocator(1))\n",
        "    #ax.yaxis.set_major_locator(ticker.MultipleLocator(1))\n",
        "    plt.show()\n",
        "\n",
        "def translate(sentence, show=True):\n",
        "    result, sentence, attention_plot = evaluate(sentence)\n",
        "    print('Input: %s' % (sentence))\n",
        "    print('Predicted translation: {}\\n'.format(result))\n",
        "    attention_plot = attention_plot[:len(result.split(' ')), :len(sentence.split(' '))]\n",
        "    if show:\n",
        "        plot_attention(attention_plot, sentence.split(' '), result.split(' '))"
      ],
      "execution_count": 45,
      "outputs": []
    },
    {
      "cell_type": "code",
      "metadata": {
        "id": "iwK7EUOQHzFT",
        "outputId": "ac60072c-fa57-413d-ace1-350a2060ed54",
        "colab": {
          "base_uri": "https://localhost:8080/"
        }
      },
      "source": [
        "%pylab inline"
      ],
      "execution_count": 46,
      "outputs": [
        {
          "output_type": "stream",
          "name": "stdout",
          "text": [
            "Populating the interactive namespace from numpy and matplotlib\n"
          ]
        },
        {
          "output_type": "stream",
          "name": "stderr",
          "text": [
            "/usr/local/lib/python3.10/dist-packages/IPython/core/magics/pylab.py:159: UserWarning: pylab import has clobbered these variables: ['f', 'char']\n",
            "`%matplotlib` prevents importing * from pylab and numpy\n",
            "  warn(\"pylab import has clobbered these variables: %s\"  % clobbered +\n"
          ]
        }
      ]
    },
    {
      "cell_type": "code",
      "metadata": {
        "id": "WtX1PzaHH7ZO",
        "outputId": "f3ad5a5c-e993-497e-c120-f21c967269d3",
        "colab": {
          "base_uri": "https://localhost:8080/",
          "height": 1000
        }
      },
      "source": [
        "translate(u'good morning')"
      ],
      "execution_count": 47,
      "outputs": [
        {
          "output_type": "stream",
          "name": "stdout",
          "text": [
            "Input: <start> good morning <end>\n",
            "Predicted translation: доброе утро . <end> \n",
            "\n"
          ]
        },
        {
          "output_type": "stream",
          "name": "stderr",
          "text": [
            "<ipython-input-45-6ae2198bd1af>:38: UserWarning: FixedFormatter should only be used together with FixedLocator\n",
            "  ax.set_xticklabels([''] + sentence, fontdict=fontdict, rotation=90)\n",
            "<ipython-input-45-6ae2198bd1af>:39: UserWarning: FixedFormatter should only be used together with FixedLocator\n",
            "  ax.set_yticklabels([''] + predicted_sentence, fontdict=fontdict)\n"
          ]
        },
        {
          "output_type": "display_data",
          "data": {
            "text/plain": [
              "<Figure size 1000x1000 with 1 Axes>"
            ],
            "image/png": "[encoded data removed]"
          },
          "metadata": {}
        }
      ]
    },
    {
      "cell_type": "code",
      "metadata": {
        "id": "1jouPDZQH_CM",
        "outputId": "b3b51398-4c33-4a7c-af25-5478d941d0cc",
        "colab": {
          "base_uri": "https://localhost:8080/"
        }
      },
      "source": [
        "for seq_index in range(0, 20000, 500):\n",
        "    string_i = input_texts[seq_index]\n",
        "    translate(string_i[7:-5].lower(), False)"
      ],
      "execution_count": 48,
      "outputs": [
        {
          "output_type": "stream",
          "name": "stdout",
          "text": [
            "Input: <start> go . <end>\n",
            "Predicted translation: идите . <end> \n",
            "\n",
            "Input: <start> who ate ? <end>\n",
            "Predicted translation: кто съел ? <end> \n",
            "\n",
            "Input: <start> touch it . <end>\n",
            "Predicted translation: потрогайте его . <end> \n",
            "\n",
            "Input: <start> i m dirty . <end>\n",
            "Predicted translation: я грязная . <end> \n",
            "\n",
            "Input: <start> tom s shy . <end>\n",
            "Predicted translation: том робкий . <end> \n",
            "\n",
            "Input: <start> i envy you . <end>\n",
            "Predicted translation: я тебе завидую . <end> \n",
            "\n",
            "Input: <start> it s green . <end>\n",
            "Predicted translation: оно зел ное . <end> \n",
            "\n",
            "Input: <start> we ll cook . <end>\n",
            "Predicted translation: мы будем готовить . <end> \n",
            "\n",
            "Input: <start> have a look . <end>\n",
            "Predicted translation: посмотри . <end> \n",
            "\n",
            "Input: <start> i saved you . <end>\n",
            "Predicted translation: я вас спас . <end> \n",
            "\n",
            "Input: <start> is it there ? <end>\n",
            "Predicted translation: он там ? <end> \n",
            "\n",
            "Input: <start> stop crying . <end>\n",
            "Predicted translation: хватит лить сл зы ! <end> \n",
            "\n",
            "Input: <start> we miss you . <end>\n",
            "Predicted translation: мы по тебе скучаем . <end> \n",
            "\n",
            "Input: <start> are you tall ? <end>\n",
            "Predicted translation: вы высокие ? <end> \n",
            "\n",
            "Input: <start> hey , wake up ! <end>\n",
            "Predicted translation: эй , вставай ! <end> \n",
            "\n",
            "Input: <start> i was lonely . <end>\n",
            "Predicted translation: я был одинок . <end> \n",
            "\n",
            "Input: <start> i m very hot . <end>\n",
            "Predicted translation: мне очень жарко . <end> \n",
            "\n",
            "Input: <start> must i hurry ? <end>\n",
            "Predicted translation: мне спешить ? <end> \n",
            "\n",
            "Input: <start> they re ugly . <end>\n",
            "Predicted translation: они некрасивые . <end> \n",
            "\n",
            "Input: <start> we have time . <end>\n",
            "Predicted translation: у нас есть время . <end> \n",
            "\n",
            "Input: <start> you re scary . <end>\n",
            "Predicted translation: ты пугаешь . <end> \n",
            "\n",
            "Input: <start> don t be mean . <end>\n",
            "Predicted translation: не будь таким вредным . <end> \n",
            "\n",
            "Input: <start> i am divorced . <end>\n",
            "Predicted translation: я развед н . <end> \n",
            "\n",
            "Input: <start> i miss boston . <end>\n",
            "Predicted translation: мне не хватает бостона . <end> \n",
            "\n",
            "Input: <start> i ll get some . <end>\n",
            "Predicted translation: я получу некоторое . <end> \n",
            "\n",
            "Input: <start> is tom around ? <end>\n",
            "Predicted translation: том рядом ? <end> \n",
            "\n",
            "Input: <start> listen to tom . <end>\n",
            "Predicted translation: послушай тома . <end> \n",
            "\n",
            "Input: <start> stop scowling . <end>\n",
            "Predicted translation: прекрати хмуриться ! <end> \n",
            "\n",
            "Input: <start> tom has a cat . <end>\n",
            "Predicted translation: у тома есть кошка . <end> \n",
            "\n",
            "Input: <start> turn the page . <end>\n",
            "Predicted translation: переверни страницу . <end> \n",
            "\n",
            "Input: <start> who was wrong ? <end>\n",
            "Predicted translation: кто был не прав ? <end> \n",
            "\n",
            "Input: <start> aren t you tom ? <end>\n",
            "Predicted translation: вы не том ? <end> \n",
            "\n",
            "Input: <start> do you promise ? <end>\n",
            "Predicted translation: обещаешь ? <end> \n",
            "\n",
            "Input: <start> he is handsome . <end>\n",
            "Predicted translation: он красивый . <end> \n",
            "\n",
            "Input: <start> i got up early . <end>\n",
            "Predicted translation: я рано встала . <end> \n",
            "\n",
            "Input: <start> i said shut up ! <end>\n",
            "Predicted translation: я сказал , заткнись . <end> \n",
            "\n",
            "Input: <start> i m an old man . <end>\n",
            "Predicted translation: я старый . <end> \n",
            "\n",
            "Input: <start> it was serious . <end>\n",
            "Predicted translation: это было серь зно . <end> \n",
            "\n",
            "Input: <start> mary is a girl . <end>\n",
            "Predicted translation: мэри девочка . <end> \n",
            "\n",
            "Input: <start> tell everybody . <end>\n",
            "Predicted translation: расскажите всем и каждому . <end> \n",
            "\n"
          ]
        }
      ]
    },
    {
      "cell_type": "code",
      "source": [],
      "metadata": {
        "id": "FHi2kWbfNwHg"
      },
      "execution_count": null,
      "outputs": []
    },
    {
      "cell_type": "code",
      "execution_count": null,
      "metadata": {
        "id": "891PdmlWNTUF"
      },
      "outputs": [],
      "source": []
    }
  ]
}